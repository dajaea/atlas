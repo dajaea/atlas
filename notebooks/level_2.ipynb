{
 "cells": [
  {
   "cell_type": "code",
   "execution_count": 1,
   "metadata": {
    "scrolled": true
   },
   "outputs": [
    {
     "name": "stderr",
     "output_type": "stream",
     "text": [
      "C:\\Users\\Owner\\Anaconda3\\lib\\site-packages\\requests\\__init__.py:91: RequestsDependencyWarning: urllib3 (1.26.4) or chardet (3.0.4) doesn't match a supported version!\n",
      "  RequestsDependencyWarning)\n"
     ]
    }
   ],
   "source": [
    "import wikipedia as wiki\n",
    "import pandas as pd"
   ]
  },
  {
   "cell_type": "markdown",
   "metadata": {},
   "source": [
    "may use function later - what determines these and where is this on the site?"
   ]
  },
  {
   "cell_type": "code",
   "execution_count": 3,
   "metadata": {
    "scrolled": true
   },
   "outputs": [
    {
     "name": "stdout",
     "output_type": "stream",
     "text": [
      "['Boat', 'Boat (disambiguation)', 'U-boat', 'Boating', 'Whose Boat Is This Boat?', 'Banana boat (boat)', 'The Love Boat', 'Destroyer', 'The Boat', 'Patrol boat']\n"
     ]
    }
   ],
   "source": [
    "print(wiki.search(\"boat\"))"
   ]
  },
  {
   "cell_type": "markdown",
   "metadata": {},
   "source": [
    "Less concerned with the structure and presence of topics on a certain level, but rather the overall collection of topics and articles anywhere within the language version."
   ]
  },
  {
   "cell_type": "code",
   "execution_count": 29,
   "metadata": {
    "scrolled": true
   },
   "outputs": [],
   "source": [
    "from bs4 import BeautifulSoup as soup\n",
    "from urllib.request import urlopen\n",
    "#html = soup(html)\n",
    "import requests\n",
    "import urllib\n",
    "import re"
   ]
  },
  {
   "cell_type": "markdown",
   "metadata": {},
   "source": [
    "try requests.get"
   ]
  },
  {
   "cell_type": "code",
   "execution_count": 8,
   "metadata": {},
   "outputs": [],
   "source": [
    "en_overview = requests.get('https://en.wikipedia.org/wiki/Wikipedia:Contents/Overviews')"
   ]
  },
  {
   "cell_type": "code",
   "execution_count": 9,
   "metadata": {},
   "outputs": [
    {
     "data": {
      "text/plain": [
       "200"
      ]
     },
     "execution_count": 9,
     "metadata": {},
     "output_type": "execute_result"
    }
   ],
   "source": [
    "en_overview.status_code"
   ]
  },
  {
   "cell_type": "code",
   "execution_count": 10,
   "metadata": {
    "collapsed": true
   },
   "outputs": [
    {
     "data": {
      "text/plain": [
       "{'Date': 'Thu, 27 May 2021 20:34:10 GMT', 'Vary': 'Accept-Encoding,Cookie,Authorization', 'Server': 'ATS/8.0.8', 'X-Content-Type-Options': 'nosniff', 'P3p': 'CP=\"See https://en.wikipedia.org/wiki/Special:CentralAutoLogin/P3P for more info.\"', 'Content-Language': 'en', 'Last-Modified': 'Sun, 23 May 2021 01:39:34 GMT', 'Content-Type': 'text/html; charset=UTF-8', 'Content-Encoding': 'gzip', 'Age': '612', 'X-Cache': 'cp1081 miss, cp1087 hit/2', 'X-Cache-Status': 'hit-front', 'Server-Timing': 'cache;desc=\"hit-front\", host;desc=\"cp1087\"', 'Strict-Transport-Security': 'max-age=106384710; includeSubDomains; preload', 'Report-To': '{ \"group\": \"wm_nel\", \"max_age\": 86400, \"endpoints\": [{ \"url\": \"https://intake-logging.wikimedia.org/v1/events?stream=w3c.reportingapi.network_error&schema_uri=/w3c/reportingapi/network_error/1.0.0\" }] }', 'NEL': '{ \"report_to\": \"wm_nel\", \"max_age\": 86400, \"failure_fraction\": 0.05, \"success_fraction\": 0.0}', 'Permissions-Policy': 'interest-cohort=()', 'Set-Cookie': 'WMF-Last-Access=27-May-2021;Path=/;HttpOnly;secure;Expires=Mon, 28 Jun 2021 12:00:00 GMT, WMF-Last-Access-Global=27-May-2021;Path=/;Domain=.wikipedia.org;HttpOnly;secure;Expires=Mon, 28 Jun 2021 12:00:00 GMT, GeoIP=US:TN:Dickson:36.08:-87.40:v4; Path=/; secure; Domain=.wikipedia.org', 'X-Client-IP': '2603:3018:3cb:8000:4d62:ad7b:ed99:3034', 'Cache-Control': 'private, s-maxage=0, max-age=0, must-revalidate', 'Accept-Ranges': 'bytes', 'Content-Length': '36502', 'Connection': 'keep-alive'}"
      ]
     },
     "execution_count": 10,
     "metadata": {},
     "output_type": "execute_result"
    }
   ],
   "source": [
    "en_overview.headers"
   ]
  },
  {
   "cell_type": "code",
   "execution_count": 12,
   "metadata": {},
   "outputs": [
    {
     "data": {
      "text/plain": [
       "'text/html; charset=UTF-8'"
      ]
     },
     "execution_count": 12,
     "metadata": {},
     "output_type": "execute_result"
    }
   ],
   "source": [
    "en_overview.headers['Content-Type'] #caps don't matter"
   ]
  },
  {
   "cell_type": "markdown",
   "metadata": {},
   "source": [
    "https://pythonspot.com/extract-links-from-webpage-beautifulsoup/\n",
    "\n",
    "will write a function that runs the following cell to each of the level_1_under titles:"
   ]
  },
  {
   "cell_type": "code",
   "execution_count": 13,
   "metadata": {
    "collapsed": true
   },
   "outputs": [
    {
     "name": "stdout",
     "output_type": "stream",
     "text": [
      "<!DOCTYPE html>\n",
      "<html class=\"client-nojs\" lang=\"en\" dir=\"ltr\">\n",
      "<head>\n",
      "<meta charset=\"UTF-8\"/>\n",
      "<title>Wikipedia:Contents/Overviews - Wikipedia</title>\n",
      "<script>document.documentElement.className=\"client-js\";RLCONF={\"wgBreakFrames\":!1,\"wgSeparatorTransformTable\":[\"\",\"\"],\"wgDigitTransformTable\":[\"\",\"\"],\"wgDefaultDateFormat\":\"dmy\",\"wgMonthNames\":[\"\",\"January\",\"February\",\"March\",\"April\",\"May\",\"June\",\"July\",\"August\",\"September\",\"October\",\"November\",\"December\"],\"wgRequestId\":\"a2c78176-80ec-42cb-81c4-d368399e7338\",\"wgCSPNonce\":!1,\"wgCanonicalNamespace\":\"Project\",\"wgCanonicalSpecialPageName\":!1,\"wgNamespaceNumber\":4,\"wgPageName\":\"Wikipedia:Contents/Overviews\",\"wgTitle\":\"Contents/Overviews\",\"wgCurRevisionId\":1014410044,\"wgRevisionId\":1014410044,\"wgArticleId\":943654,\"wgIsArticle\":!0,\"wgIsRedirect\":!1,\"wgAction\":\"view\",\"wgUserName\":null,\"wgUserGroups\":[\"*\"],\"wgCategories\":[\"Project pages with short description\",\"Wikipedia semi-protected project pages\",\"Wikipedia contents\"],\"wgPageContentLanguage\":\"en\",\"wgPageContentModel\":\"wikitext\",\"wgRelevantPageName\":\"Wikipedia:Contents/Overviews\",\"wgRelevantArticleId\":943654,\"wgIsProbablyEditable\":\n",
      "!1,\"wgRelevantPageIsProbablyEditable\":!1,\"wgRestrictionEdit\":[\"autoconfirmed\"],\"wgRestrictionMove\":[\"sysop\"],\"wgFlaggedRevsParams\":{\"tags\":{\"status\":{\"levels\":-1}}},\"wgMediaViewerOnClick\":!0,\"wgMediaViewerEnabledByDefault\":!0,\"wgPopupsFlags\":10,\"wgVisualEditor\":{\"pageLanguageCode\":\"en\",\"pageLanguageDir\":\"ltr\",\"pageVariantFallbacks\":\"en\"},\"wgMFDisplayWikibaseDescriptions\":{\"search\":!0,\"nearby\":!0,\"watchlist\":!0,\"tagline\":!1},\"wgWMESchemaEditAttemptStepOversample\":!1,\"wgULSCurrentAutonym\":\"English\",\"wgNoticeProject\":\"wikipedia\",\"wgCentralAuthMobileDomain\":!1,\"wgEditSubmitButtonLabelPublish\":!0,\"wgULSPosition\":\"interlanguage\",\"wgGENewcomerTasksGuidanceEnabled\":!0,\"wgGEAskQuestionEnabled\":!1,\"wgGELinkRecommendationsFrontendEnabled\":!1,\"wgWikibaseItemId\":\"Q4395896\"};RLSTATE={\"ext.globalCssJs.user.styles\":\"ready\",\"site.styles\":\"ready\",\"noscript\":\"ready\",\"user.styles\":\"ready\",\"ext.globalCssJs.user\":\"ready\",\"user\":\"ready\",\"user.options\":\"loading\",\n",
      "\"skins.vector.styles.legacy\":\"ready\",\"ext.visualEditor.desktopArticleTarget.noscript\":\"ready\",\"ext.uls.interlanguage\":\"ready\",\"ext.wikimediaBadges\":\"ready\",\"ext.discussionTools.init.styles\":\"ready\",\"oojs-ui.styles.icons-moderation\":\"ready\",\"wikibase.client.init\":\"ready\"};RLPAGEMODULES=[\"site\",\"mediawiki.page.ready\",\"skins.vector.legacy.js\",\"ext.gadget.ReferenceTooltips\",\"ext.gadget.charinsert\",\"ext.gadget.extra-toolbar-buttons\",\"ext.gadget.refToolbar\",\"ext.gadget.switcher\",\"ext.centralauth.centralautologin\",\"mmv.head\",\"mmv.bootstrap.autostart\",\"ext.popups\",\"ext.visualEditor.desktopArticleTarget.init\",\"ext.visualEditor.targetLoader\",\"ext.eventLogging\",\"ext.wikimediaEvents\",\"ext.navigationTiming\",\"ext.uls.compactlinks\",\"ext.uls.interface\",\"ext.cx.eventlogging.campaigns\",\"ext.centralNotice.geoIP\",\"ext.centralNotice.startUp\"];</script>\n",
      "<script>(RLQ=window.RLQ||[]).push(function(){mw.loader.implement(\"user.options@1hzgi\",function($,jQuery,require,module){/*@nomin*/mw.user.tokens.set({\"patrolToken\":\"+\\\\\",\"watchToken\":\"+\\\\\",\"csrfToken\":\"+\\\\\"});\n",
      "});});</script>\n",
      "<link rel=\"stylesheet\" href=\"/w/load.php?lang=en&amp;modules=ext.discussionTools.init.styles%7Cext.uls.interlanguage%7Cext.visualEditor.desktopArticleTarget.noscript%7Cext.wikimediaBadges%7Coojs-ui.styles.icons-moderation%7Cskins.vector.styles.legacy%7Cwikibase.client.init&amp;only=styles&amp;skin=vector\"/>\n",
      "<script async=\"\" src=\"/w/load.php?lang=en&amp;modules=startup&amp;only=scripts&amp;raw=1&amp;skin=vector\"></script>\n",
      "<meta name=\"ResourceLoaderDynamicStyles\" content=\"\"/>\n",
      "<link rel=\"stylesheet\" href=\"/w/load.php?lang=en&amp;modules=site.styles&amp;only=styles&amp;skin=vector\"/>\n",
      "<meta name=\"generator\" content=\"MediaWiki 1.37.0-wmf.6\"/>\n",
      "<meta name=\"referrer\" content=\"origin\"/>\n",
      "<meta name=\"referrer\" content=\"origin-when-crossorigin\"/>\n",
      "<meta name=\"referrer\" content=\"origin-when-cross-origin\"/>\n",
      "<meta property=\"og:title\" content=\"Wikipedia:Contents/Overviews - Wikipedia\"/>\n",
      "<meta property=\"og:type\" content=\"website\"/>\n",
      "<link rel=\"preconnect\" href=\"//upload.wikimedia.org\"/>\n",
      "<link rel=\"alternate\" media=\"only screen and (max-width: 720px)\" href=\"//en.m.wikipedia.org/wiki/Wikipedia:Contents/Overviews\"/>\n",
      "<link rel=\"apple-touch-icon\" href=\"/static/apple-touch/wikipedia.png\"/>\n",
      "<link rel=\"shortcut icon\" href=\"/static/favicon/wikipedia.ico\"/>\n",
      "<link rel=\"search\" type=\"application/opensearchdescription+xml\" href=\"/w/opensearch_desc.php\" title=\"Wikipedia (en)\"/>\n",
      "<link rel=\"EditURI\" type=\"application/rsd+xml\" href=\"//en.wikipedia.org/w/api.php?action=rsd\"/>\n",
      "<link rel=\"license\" href=\"//creativecommons.org/licenses/by-sa/3.0/\"/>\n",
      "<link rel=\"canonical\" href=\"https://en.wikipedia.org/wiki/Wikipedia:Contents/Overviews\"/>\n",
      "<link rel=\"dns-prefetch\" href=\"//login.wikimedia.org\"/>\n",
      "<link rel=\"dns-prefetch\" href=\"//meta.wikimedia.org\" />\n",
      "</head>\n",
      "<body class=\"mediawiki ltr sitedir-ltr mw-hide-empty-elt ns-4 ns-subject page-Wikipedia_Contents_Overviews rootpage-Wikipedia_Contents skin-vector action-view skin-vector-legacy\"><div id=\"mw-page-base\" class=\"noprint\"></div>\n",
      "<div id=\"mw-head-base\" class=\"noprint\"></div>\n",
      "<div id=\"content\" class=\"mw-body\" role=\"main\">\n",
      "\t<a id=\"top\"></a>\n",
      "\t<div id=\"siteNotice\"><!-- CentralNotice --></div>\n",
      "\t<div class=\"mw-indicators\">\n",
      "\t<div id=\"mw-indicator-pp-default\" class=\"mw-indicator\"><a href=\"/wiki/Wikipedia:Protection_policy#semi\" title=\"This page is semi-protected.\"><img alt=\"Page semi-protected\" src=\"//upload.wikimedia.org/wikipedia/en/thumb/1/1b/Semi-protection-shackle.svg/20px-Semi-protection-shackle.svg.png\" decoding=\"async\" width=\"20\" height=\"20\" srcset=\"//upload.wikimedia.org/wikipedia/en/thumb/1/1b/Semi-protection-shackle.svg/30px-Semi-protection-shackle.svg.png 1.5x, //upload.wikimedia.org/wikipedia/en/thumb/1/1b/Semi-protection-shackle.svg/40px-Semi-protection-shackle.svg.png 2x\" data-file-width=\"512\" data-file-height=\"512\" /></a></div>\n",
      "\t</div>\n",
      "\t<h1 id=\"firstHeading\" class=\"firstHeading\" >Wikipedia:Contents/Overviews</h1>\n",
      "\t<div id=\"bodyContent\">\n",
      "\t\t<div id=\"siteSub\" class=\"noprint\">From Wikipedia, the free encyclopedia</div>\n",
      "\t\t<div id=\"contentSub\"><span class=\"subpages\">&lt; <a href=\"/wiki/Wikipedia:Contents\" title=\"Wikipedia:Contents\">Wikipedia:Contents</a></span></div>\n",
      "\t\t<div id=\"contentSub2\"></div>\n",
      "\t\t\n",
      "\t\t<div id=\"jump-to-nav\"></div>\n",
      "\t\t<a class=\"mw-jump-link\" href=\"#mw-head\">Jump to navigation</a>\n",
      "\t\t<a class=\"mw-jump-link\" href=\"#searchInput\">Jump to search</a>\n",
      "\t\t<div id=\"mw-content-text\" class=\"mw-body-content mw-content-ltr\" lang=\"en\" dir=\"ltr\"><div class=\"mw-parser-output\"><div class=\"shortdescription nomobile noexcerpt noprint searchaux\" style=\"display:none\">Content section</div>\n",
      "<p class=\"mw-empty-elt\">\n",
      "</p>\n",
      "<div class=\"shortdescription nomobile noexcerpt noprint searchaux\" style=\"display:none\">Portal</div>\n",
      "<div class=\"hlist noprint\" style=\"text-align: center;\">\n",
      "<ul><li><a href=\"/wiki/Wikipedia:Contents\" title=\"Wikipedia:Contents\">Contents</a></li>\n",
      "<li><a class=\"mw-selflink selflink\">Overviews</a></li>\n",
      "<li><a href=\"/wiki/Wikipedia:Contents/Outlines\" title=\"Wikipedia:Contents/Outlines\">Outlines</a></li>\n",
      "<li><a href=\"/wiki/Wikipedia:Contents/Lists\" title=\"Wikipedia:Contents/Lists\">Lists</a></li>\n",
      "<li><a href=\"/wiki/Wikipedia:Contents/Portals\" title=\"Wikipedia:Contents/Portals\">Portals</a></li>\n",
      "<li><a href=\"/wiki/Wikipedia:Contents/A%E2%80%93Z_index\" title=\"Wikipedia:Contents/A–Z index\">A–Z index</a></li>\n",
      "<li><a href=\"/wiki/Wikipedia:Contents/Glossaries\" title=\"Wikipedia:Contents/Glossaries\">Glossaries</a></li>\n",
      "<li><a href=\"/wiki/Wikipedia:Contents/Categories\" title=\"Wikipedia:Contents/Categories\">Categories</a></li>\n",
      "<li><a href=\"/wiki/Wikipedia:Contents/Indices\" title=\"Wikipedia:Contents/Indices\">Indices</a></li></ul>\n",
      "</div>\n",
      "<div class=\"hlist noprint\" style=\"text-align: center; margin-bottom: 1em;\">\n",
      "<ul><li><a href=\"/wiki/Wikipedia:Contents/Reference\" title=\"Wikipedia:Contents/Reference\">Reference</a></li>\n",
      "<li><a href=\"/wiki/Wikipedia:Contents/Culture_and_the_arts\" title=\"Wikipedia:Contents/Culture and the arts\">Culture</a></li>\n",
      "<li><a href=\"/wiki/Wikipedia:Contents/Geography_and_places\" title=\"Wikipedia:Contents/Geography and places\">Geography</a></li>\n",
      "<li><a href=\"/wiki/Wikipedia:Contents/Health_and_fitness\" title=\"Wikipedia:Contents/Health and fitness\">Health</a></li>\n",
      "<li><a href=\"/wiki/Wikipedia:Contents/History_and_events\" title=\"Wikipedia:Contents/History and events\">History</a></li>\n",
      "<li><a href=\"/wiki/Wikipedia:Contents/Human_activities\" title=\"Wikipedia:Contents/Human activities\">Human activities</a></li>\n",
      "<li><a href=\"/wiki/Wikipedia:Contents/Mathematics_and_logic\" title=\"Wikipedia:Contents/Mathematics and logic\">Mathematics</a></li>\n",
      "<li><a href=\"/wiki/Wikipedia:Contents/Natural_and_physical_sciences\" title=\"Wikipedia:Contents/Natural and physical sciences\">Nature</a></li>\n",
      "<li><a href=\"/wiki/Wikipedia:Contents/People_and_self\" title=\"Wikipedia:Contents/People and self\">People</a></li>\n",
      "<li><a href=\"/wiki/Wikipedia:Contents/Philosophy_and_thinking\" title=\"Wikipedia:Contents/Philosophy and thinking\">Philosophy</a></li>\n",
      "<li><a href=\"/wiki/Wikipedia:Contents/Religion_and_belief_systems\" title=\"Wikipedia:Contents/Religion and belief systems\">Religion</a></li>\n",
      "<li><a href=\"/wiki/Wikipedia:Contents/Society_and_social_sciences\" title=\"Wikipedia:Contents/Society and social sciences\">Society</a></li>\n",
      "<li><a href=\"/wiki/Wikipedia:Contents/Technology_and_applied_sciences\" title=\"Wikipedia:Contents/Technology and applied sciences\">Technology</a></li></ul>\n",
      "</div> \n",
      "<div style=\"background:#FFFFFF; border-style:solid; border-width:1px; border-color:#000000; padding:3px;\">\n",
      "<div style=\"background:#F5FFFA; border-style:solid; border-width:1px; border-color: #A3BFB1\">\n",
      "<div class=\"box-header-title-container flex-columns-noflex\" style=\"clear:both;color:black;margin-bottom:0px;border:solid 0px solid #A3BFB1;border-bottom:1px solid #A3BFB1;box-sizing:border-box;text-align:center;font-size:100%;background:#CEF2E0;font-family:sans-serif;padding:1em;;border-width:0px 0px 0;padding-top:.1em;padding-left:1.25em;padding-right:1.25em;padding-bottom:1.25em;padding-top:1.25em;moz-border-radius:0;webkit-border-radius:0;border-radius:0\"><div class=\"plainlinks noprint\" style=\"float:right;margin-bottom:.1em;color:black;font-size:80%\"><a class=\"external text\" href=\"https://en.wikipedia.org/w/index.php?title=Wikipedia%3AContents%2FOverviews%2FIntro&amp;action=edit\"><span style=\"color:black\">edit</span></a>&#160;<a class=\"external text\" href=\"https://en.wikipedia.org/w/index.php?title=Wikipedia:Contents/Overviews/Intro&amp;action=watch\"><span style=\"color: black; min-width:40px; display:table-cell;\">watch</span></a>&#160;</div><h2 style=\"font-weight:bold;padding:0;margin:0;color:black;font-family:sans-serif;border:none;font-size:100%;padding-bottom:.1em;margin-left:60px\"><span id=\"Wikipedia.27s_contents:_Overviews\"></span><span class=\"mw-headline\" id=\"Wikipedia's_contents:_Overviews\"><big><big>Wikipedia's contents: Overviews</big></big></span></h2></div><div style=\"color:black;opacity:1;border:0px solid #A3BFB1;border-bottom:0px solid #A3BFB1;;box-sizing:border-box;text-align:left;padding:1em;;background:#E6FFF2;margin:0 0 10px;vertical-align:top;border-top-width:1px;padding-top:.3em;border-radius:0\">\n",
      "<table width=\"100%\" cellspacing=\"2\" style=\"background-color:transparent\">\n",
      "\n",
      "<tbody><tr>\n",
      "<td style=\"width:33%; font-size:85%; vertical-align:top; text-align:left; padding-left:1em;\">\n",
      "<p><a href=\"#General_reference\" title=\"#General reference\"><img alt=\"P literature.svg\" src=\"//upload.wikimedia.org/wikipedia/commons/thumb/1/1d/P_literature.svg/30px-P_literature.svg.png\" decoding=\"async\" width=\"30\" height=\"27\" srcset=\"//upload.wikimedia.org/wikipedia/commons/thumb/1/1d/P_literature.svg/45px-P_literature.svg.png 1.5x, //upload.wikimedia.org/wikipedia/commons/thumb/1/1d/P_literature.svg/60px-P_literature.svg.png 2x\" data-file-width=\"400\" data-file-height=\"360\" /></a> <b><a href=\"#General_reference\">General reference</a></b><br />\n",
      "<a href=\"#Culture_and_the_arts\" title=\"#Culture and the arts\"><img alt=\"P culture.svg\" src=\"//upload.wikimedia.org/wikipedia/commons/thumb/4/4f/P_culture.svg/30px-P_culture.svg.png\" decoding=\"async\" width=\"30\" height=\"27\" srcset=\"//upload.wikimedia.org/wikipedia/commons/thumb/4/4f/P_culture.svg/45px-P_culture.svg.png 1.5x, //upload.wikimedia.org/wikipedia/commons/thumb/4/4f/P_culture.svg/60px-P_culture.svg.png 2x\" data-file-width=\"400\" data-file-height=\"360\" /></a> <b><a href=\"#Culture_and_the_arts\">Culture and the arts</a></b><br />\n",
      "<a href=\"#Geography_and_places\" title=\"#Geography and places\"><img alt=\"P countries-vector.svg\" src=\"//upload.wikimedia.org/wikipedia/commons/thumb/8/8e/P_countries-vector.svg/30px-P_countries-vector.svg.png\" decoding=\"async\" width=\"30\" height=\"27\" srcset=\"//upload.wikimedia.org/wikipedia/commons/thumb/8/8e/P_countries-vector.svg/45px-P_countries-vector.svg.png 1.5x, //upload.wikimedia.org/wikipedia/commons/thumb/8/8e/P_countries-vector.svg/60px-P_countries-vector.svg.png 2x\" data-file-width=\"400\" data-file-height=\"360\" /></a> <b><a href=\"#Geography_and_places\">Geography and places</a></b><br />\n",
      "&#160;<a href=\"#Health_and_fitness\" title=\"#Health and fitness\"><img alt=\"P medicine.svg\" src=\"//upload.wikimedia.org/wikipedia/commons/thumb/6/6d/P_medicine.svg/25px-P_medicine.svg.png\" decoding=\"async\" width=\"25\" height=\"23\" srcset=\"//upload.wikimedia.org/wikipedia/commons/thumb/6/6d/P_medicine.svg/38px-P_medicine.svg.png 1.5x, //upload.wikimedia.org/wikipedia/commons/thumb/6/6d/P_medicine.svg/50px-P_medicine.svg.png 2x\" data-file-width=\"400\" data-file-height=\"360\" /></a>&#160; <b><a href=\"#Health_and_fitness\">Health and fitness</a></b><br />\n",
      "&#160;<a href=\"#History_and_events\" title=\"#History and events\"><img alt=\"Klepsydra-pt.svg\" src=\"//upload.wikimedia.org/wikipedia/commons/thumb/9/9a/Klepsydra-pt.svg/22px-Klepsydra-pt.svg.png\" decoding=\"async\" width=\"22\" height=\"25\" srcset=\"//upload.wikimedia.org/wikipedia/commons/thumb/9/9a/Klepsydra-pt.svg/33px-Klepsydra-pt.svg.png 1.5x, //upload.wikimedia.org/wikipedia/commons/thumb/9/9a/Klepsydra-pt.svg/44px-Klepsydra-pt.svg.png 2x\" data-file-width=\"244\" data-file-height=\"275\" /></a>&#160;&#160; <b><a href=\"#History_and_events\">History and events</a></b><br />\n",
      "</p>\n",
      "</td>\n",
      "<td style=\"width:33%; font-size:85%; vertical-align: top; text-align:left;\">\n",
      "<p><a href=\"#Human_activities\" title=\"#Human activities\"><img alt=\"P Human activities.svg\" src=\"//upload.wikimedia.org/wikipedia/commons/thumb/2/2b/P_Human_activities.svg/30px-P_Human_activities.svg.png\" decoding=\"async\" width=\"30\" height=\"27\" srcset=\"//upload.wikimedia.org/wikipedia/commons/thumb/2/2b/P_Human_activities.svg/45px-P_Human_activities.svg.png 1.5x, //upload.wikimedia.org/wikipedia/commons/thumb/2/2b/P_Human_activities.svg/60px-P_Human_activities.svg.png 2x\" data-file-width=\"400\" data-file-height=\"360\" /></a> <b><a href=\"#Human_activities\">Human activities</a></b><br />\n",
      "<a href=\"#Mathematics_and_logic\" title=\"#Mathematics and logic\"><img alt=\"P mathematics.svg\" src=\"//upload.wikimedia.org/wikipedia/commons/thumb/b/b7/P_mathematics.svg/30px-P_mathematics.svg.png\" decoding=\"async\" width=\"30\" height=\"27\" srcset=\"//upload.wikimedia.org/wikipedia/commons/thumb/b/b7/P_mathematics.svg/45px-P_mathematics.svg.png 1.5x, //upload.wikimedia.org/wikipedia/commons/thumb/b/b7/P_mathematics.svg/60px-P_mathematics.svg.png 2x\" data-file-width=\"400\" data-file-height=\"360\" /></a> <b><a href=\"#Mathematics_and_logic\">Mathematics and logic</a></b><br />\n",
      "<a href=\"#Natural_and_physical_sciences\" title=\"#Natural and physical sciences\"><img alt=\"P physics.svg\" src=\"//upload.wikimedia.org/wikipedia/commons/thumb/b/b4/P_physics.svg/30px-P_physics.svg.png\" decoding=\"async\" width=\"30\" height=\"27\" srcset=\"//upload.wikimedia.org/wikipedia/commons/thumb/b/b4/P_physics.svg/45px-P_physics.svg.png 1.5x, //upload.wikimedia.org/wikipedia/commons/thumb/b/b4/P_physics.svg/60px-P_physics.svg.png 2x\" data-file-width=\"400\" data-file-height=\"360\" /></a> <b><a href=\"#Natural_and_physical_sciences\">Natural and physical sciences</a></b><br />\n",
      "&#160;<a href=\"#People_and_self\" title=\"#People and self\"><img alt=\"P vip.svg\" src=\"//upload.wikimedia.org/wikipedia/en/thumb/6/69/P_vip.svg/25px-P_vip.svg.png\" decoding=\"async\" width=\"25\" height=\"25\" srcset=\"//upload.wikimedia.org/wikipedia/en/thumb/6/69/P_vip.svg/38px-P_vip.svg.png 1.5x, //upload.wikimedia.org/wikipedia/en/thumb/6/69/P_vip.svg/50px-P_vip.svg.png 2x\" data-file-width=\"1911\" data-file-height=\"1944\" /></a> &#160;<b><a href=\"#People_and_self\">People and self</a></b><br />\n",
      "</p>\n",
      "</td>\n",
      "<td style=\"width:33%;font-size:85%; vertical-align: top; text-align:left;\">\n",
      "<p>&#160;<a href=\"#Philosophy_and_thinking\" title=\"#Philosophy and thinking\"><img alt=\"Socrates blue version2.png\" src=\"//upload.wikimedia.org/wikipedia/commons/thumb/c/cf/Socrates_blue_version2.png/25px-Socrates_blue_version2.png\" decoding=\"async\" width=\"25\" height=\"25\" srcset=\"//upload.wikimedia.org/wikipedia/commons/thumb/c/cf/Socrates_blue_version2.png/38px-Socrates_blue_version2.png 1.5x, //upload.wikimedia.org/wikipedia/commons/thumb/c/cf/Socrates_blue_version2.png/50px-Socrates_blue_version2.png 2x\" data-file-width=\"300\" data-file-height=\"300\" /></a> &#160;<b><a href=\"#Philosophy_and_thinking\">Philosophy and thinking</a></b><br />\n",
      "<a href=\"#Religion_and_belief_systems\" title=\"#Religion and belief systems\"><img alt=\"P religion.png\" src=\"//upload.wikimedia.org/wikipedia/commons/thumb/d/d9/P_religion.png/30px-P_religion.png\" decoding=\"async\" width=\"30\" height=\"26\" srcset=\"//upload.wikimedia.org/wikipedia/commons/thumb/d/d9/P_religion.png/45px-P_religion.png 1.5x, //upload.wikimedia.org/wikipedia/commons/thumb/d/d9/P_religion.png/60px-P_religion.png 2x\" data-file-width=\"75\" data-file-height=\"66\" /></a>  <b><a href=\"#Religion_and_belief_systems\">Religion and belief systems</a></b><br />\n",
      "<a href=\"#Society_and_social_sciences\" title=\"#Society and social sciences\"><img alt=\"P social sciences.png\" src=\"//upload.wikimedia.org/wikipedia/commons/thumb/5/5e/P_social_sciences.png/30px-P_social_sciences.png\" decoding=\"async\" width=\"30\" height=\"26\" srcset=\"//upload.wikimedia.org/wikipedia/commons/thumb/5/5e/P_social_sciences.png/45px-P_social_sciences.png 1.5x, //upload.wikimedia.org/wikipedia/commons/thumb/5/5e/P_social_sciences.png/60px-P_social_sciences.png 2x\" data-file-width=\"77\" data-file-height=\"68\" /></a> <b><a href=\"#Society_and_social_sciences\">Society and social sciences</a></b><br />\n",
      "<a href=\"#Technology_and_applied_sciences\" title=\"#Technology and applied sciences\"><img alt=\"P train.svg\" src=\"//upload.wikimedia.org/wikipedia/en/thumb/e/e3/P_train.svg/30px-P_train.svg.png\" decoding=\"async\" width=\"30\" height=\"27\" srcset=\"//upload.wikimedia.org/wikipedia/en/thumb/e/e3/P_train.svg/45px-P_train.svg.png 1.5x, //upload.wikimedia.org/wikipedia/en/thumb/e/e3/P_train.svg/60px-P_train.svg.png 2x\" data-file-width=\"400\" data-file-height=\"360\" /></a> <b><a href=\"#Technology_and_applied_sciences\">Technology and applied sciences</a></b>\n",
      "</p>\n",
      "</td></tr></tbody></table>\n",
      "<div style=\"clear:both;\"></div></div>\n",
      "<div style=\"text-align:left; margin:10px; padding-bottom:-10px;\">\n",
      "<p>An overview is a survey of what is covered or included in an area. Below is an outline of Wikipedia, divided into 13 sections, each providing an overview of a major subject area, presenting key articles in the respective subject.\n",
      "</p>\n",
      "</div>\n",
      "<p><span id=\"General_reference\"></span>\n",
      "</p>\n",
      "<div class=\"box-header-title-container flex-columns-noflex\" style=\"clear:both;color:black;margin-bottom:0px;border:solid 1px solid #A3BFB1;border-bottom:1px solid #A3BFB1;box-sizing:border-box;text-align:center;font-size:100%;background:#CEF2E0;font-family:sans-serif;padding:1em;;border-width:0px 0px 0;padding-top:.1em;padding-left:.1em;padding-right:.1em;padding-bottom:.1em;padding-top:.1em;moz-border-radius:0;webkit-border-radius:0;border-radius:0\"><div class=\"plainlinks noprint\" style=\"float:right;margin-bottom:.1em;color:black;font-size:80%\"><a class=\"external text\" href=\"https://en.wikipedia.org/w/index.php?title=Wikipedia%3AContents%2FOverviews%2FReference&amp;action=edit\"><span style=\"color:black\">edit</span></a>&#160;<a class=\"external text\" href=\"https://en.wikipedia.org/w/index.php?title=Wikipedia:Contents/Overviews/Reference&amp;action=watch\"><span style=\"color: black; min-width:40px; display:table-cell;\">watch</span></a>&#160;</div><h2 style=\"font-weight:bold;padding:0;margin:0;color:black;font-family:sans-serif;border:none;font-size:100%;padding-bottom:.1em;margin-left:60px\"><span id=\"General_reference_.28see_in_all_page_types.29\"></span><span class=\"mw-headline\" id=\"General_reference_(see_in_all_page_types)\"><big> <img alt=\"P literature.svg\" src=\"//upload.wikimedia.org/wikipedia/commons/thumb/1/1d/P_literature.svg/30px-P_literature.svg.png\" decoding=\"async\" width=\"30\" height=\"27\" srcset=\"//upload.wikimedia.org/wikipedia/commons/thumb/1/1d/P_literature.svg/45px-P_literature.svg.png 1.5x, //upload.wikimedia.org/wikipedia/commons/thumb/1/1d/P_literature.svg/60px-P_literature.svg.png 2x\" data-file-width=\"400\" data-file-height=\"360\" /> General reference &#160;(<a href=\"/wiki/Wikipedia:Contents/Reference\" title=\"Wikipedia:Contents/Reference\"><small>see in all page types</small></a>)</big></span></h2></div><div style=\"color:black;opacity:1;border:0px solid #A3BFB1;border-bottom:0px solid #A3BFB1;;box-sizing:border-box;text-align:left;padding:1em;;background:#F5FFFA;margin:0 0 10px;vertical-align:top;border-top-width:1px;padding-top:.3em;border-radius:0\">\n",
      "<div role=\"heading\" style=\"margin-top: 1em; font-weight: bold; font-style: italic;\"><a href=\"/wiki/Reference_work\" title=\"Reference work\">Reference works</a></div>\n",
      "<div class=\"hlist hlist-separated\" style=\"margin-left: 1.6em;\">\n",
      "<ul><li><a href=\"/wiki/Almanac\" title=\"Almanac\">Almanac</a></li>\n",
      "<li><a href=\"/wiki/Atlas_(cartography)\" class=\"mw-redirect\" title=\"Atlas (cartography)\">Atlas</a></li>\n",
      "<li><a href=\"/wiki/Citation_index\" title=\"Citation index\">Citation index</a></li>\n",
      "<li><a href=\"/wiki/Database\" title=\"Database\">Database</a></li>\n",
      "<li><a href=\"/wiki/Dictionary\" title=\"Dictionary\">Dictionary</a></li>\n",
      "<li><a href=\"/wiki/Encyclopedia\" title=\"Encyclopedia\">Encyclopedia</a></li>\n",
      "<li><a href=\"/wiki/Gazetteer\" title=\"Gazetteer\">Gazetteer</a></li>\n",
      "<li><a href=\"/wiki/Glossary\" title=\"Glossary\">Glossary</a></li>\n",
      "<li><a href=\"/wiki/Handbook\" title=\"Handbook\">Handbook</a></li>\n",
      "<li><a href=\"/wiki/Magazine\" title=\"Magazine\">Magazine</a></li>\n",
      "<li><a href=\"/wiki/Newsgroup\" class=\"mw-redirect\" title=\"Newsgroup\">Newsgroup</a></li>\n",
      "<li><a href=\"/wiki/Newspaper\" title=\"Newspaper\">Newspaper</a></li>\n",
      "<li><a href=\"/wiki/Scientific_journal\" title=\"Scientific journal\">Scientific journal</a></li>\n",
      "<li><a href=\"/wiki/Thesaurus\" title=\"Thesaurus\">Thesaurus</a></li>\n",
      "<li><a href=\"/wiki/Web_directory\" title=\"Web directory\">Web directory</a></li>\n",
      "<li><a href=\"/wiki/Wikipedia\" title=\"Wikipedia\">Wikipedia</a></li></ul>\n",
      "</div>\n",
      "<div role=\"heading\" style=\"margin-top: 1em; font-weight: bold; font-style: italic;\">Further research tools and topics</div>\n",
      "<div class=\"hlist hlist-separated\" style=\"margin-left: 1.6em;\">\n",
      "<ul><li><a href=\"/wiki/List_of_academic_disciplines\" class=\"mw-redirect\" title=\"List of academic disciplines\">List of academic disciplines</a></li>\n",
      "<li><a href=\"/wiki/Archive\" title=\"Archive\">Archive</a></li>\n",
      "<li><a href=\"/wiki/Basic_English\" title=\"Basic English\">Basic English</a></li>\n",
      "<li><a href=\"/wiki/Book\" title=\"Book\">Book</a></li>\n",
      "<li><a href=\"/wiki/College\" title=\"College\">College</a></li>\n",
      "<li><a href=\"/wiki/Curriculum\" title=\"Curriculum\">Curriculum</a></li>\n",
      "<li><a href=\"/wiki/Information\" title=\"Information\">Information</a></li>\n",
      "<li><a href=\"/wiki/Knowledge\" title=\"Knowledge\">Knowledge</a></li>\n",
      "<li><a href=\"/wiki/Library\" title=\"Library\">Library</a></li>\n",
      "<li><a href=\"/wiki/News_agency\" title=\"News agency\">News agency</a></li>\n",
      "<li><a href=\"/wiki/Periodic_table\" title=\"Periodic table\">Periodic table</a></li>\n",
      "<li><a href=\"/wiki/Quotation\" title=\"Quotation\">Quotation</a></li>\n",
      "<li><a href=\"/wiki/Research\" title=\"Research\">Research</a></li>\n",
      "<li><a href=\"/wiki/Study_skills\" title=\"Study skills\">Study skills</a></li>\n",
      "<li><a href=\"/wiki/Table_of_contents\" title=\"Table of contents\">Table of contents</a></li>\n",
      "<li><a href=\"/wiki/University\" title=\"University\">University</a></li>\n",
      "<li><a href=\"/wiki/Web_search_engine\" class=\"mw-redirect\" title=\"Web search engine\">Web search engine</a></li></ul>\n",
      "</div>\n",
      "<div style=\"clear:both;\"></div></div>\n",
      "<p><span id=\"Culture_and_the_arts\"></span>\n",
      "</p>\n",
      "<div class=\"box-header-title-container flex-columns-noflex\" style=\"clear:both;color:black;margin-bottom:0px;border:solid 1px solid #A3BFB1;border-bottom:1px solid #A3BFB1;box-sizing:border-box;text-align:center;font-size:100%;background:#CEF2E0;font-family:sans-serif;padding:1em;;border-width:0px 0px 0;padding-top:.1em;padding-left:.1em;padding-right:.1em;padding-bottom:.1em;padding-top:.1em;moz-border-radius:0;webkit-border-radius:0;border-radius:0\"><div class=\"plainlinks noprint\" style=\"float:right;margin-bottom:.1em;color:black;font-size:80%\"><a class=\"external text\" href=\"https://en.wikipedia.org/w/index.php?title=Wikipedia%3AContents%2FOverviews%2FCulture_and_the_arts&amp;action=edit\"><span style=\"color:black\">edit</span></a>&#160;<a class=\"external text\" href=\"https://en.wikipedia.org/w/index.php?title=Wikipedia:Contents/Overviews/Culture_and_the_arts&amp;action=watch\"><span style=\"color: black; min-width:40px; display:table-cell;\">watch</span></a>&#160;</div><h2 style=\"font-weight:bold;padding:0;margin:0;color:black;font-family:sans-serif;border:none;font-size:100%;padding-bottom:.1em;margin-left:60px\"><span id=\"Culture_and_the_arts_.28see_in_all_page_types.29\"></span><span class=\"mw-headline\" id=\"Culture_and_the_arts_(see_in_all_page_types)\"><big> <img alt=\"P culture.svg\" src=\"//upload.wikimedia.org/wikipedia/commons/thumb/4/4f/P_culture.svg/30px-P_culture.svg.png\" decoding=\"async\" width=\"30\" height=\"27\" srcset=\"//upload.wikimedia.org/wikipedia/commons/thumb/4/4f/P_culture.svg/45px-P_culture.svg.png 1.5x, //upload.wikimedia.org/wikipedia/commons/thumb/4/4f/P_culture.svg/60px-P_culture.svg.png 2x\" data-file-width=\"400\" data-file-height=\"360\" /> Culture and the arts &#160;(<a href=\"/wiki/Wikipedia:Contents/Culture_and_the_arts\" title=\"Wikipedia:Contents/Culture and the arts\"><small>see in all page types</small></a>)</big></span></h2></div><div style=\"color:black;opacity:1;border:0px solid #A3BFB1;border-bottom:0px solid #A3BFB1;;box-sizing:border-box;text-align:left;padding:1em;;background:#F5FFFA;margin:0 0 10px;vertical-align:top;border-top-width:1px;padding-top:.3em;border-radius:0\">\n",
      "<p><i><b><a href=\"/wiki/Culture\" title=\"Culture\">Culture</a></b></i> <i>and</i> <i><b><a href=\"/wiki/Humanities\" title=\"Humanities\">Humanities</a></b></i> &#160;&#8211; <a href=\"/wiki/Celebrities\" class=\"mw-redirect\" title=\"Celebrities\">Celebrities</a>&#160;• <a href=\"/wiki/Classics\" title=\"Classics\">Classics</a>&#160;• <a href=\"/wiki/Critical_theory\" title=\"Critical theory\">Critical theory</a>&#160;• <a href=\"/wiki/Language\" title=\"Language\">Language</a>&#160;• <a href=\"/wiki/Cultural_movement\" title=\"Cultural movement\">Movements</a>&#160;• <a href=\"/wiki/Mythology\" class=\"mw-redirect\" title=\"Mythology\">Mythology</a>&#160;• <a href=\"/wiki/Philosophy\" title=\"Philosophy\">Philosophy</a>&#160;• <a href=\"/wiki/Popular_culture\" title=\"Popular culture\">Popular culture</a>&#160;• <a href=\"/wiki/Tradition\" title=\"Tradition\">Traditions</a>&#160;• <a href=\"/wiki/Tourism\" title=\"Tourism\">Tourism</a>\n",
      "</p>\n",
      "<dl><dd><span class=\"anchor\" id=\"Arts\"></span><i><b><a href=\"/wiki/Art\" title=\"Art\">Art</a></b></i> and <i><b><a href=\"/wiki/The_arts\" title=\"The arts\">The arts</a></b></i> &#160;&#8211; <a href=\"/wiki/Art_gallery\" title=\"Art gallery\">Art galleries</a>&#160;• <a href=\"/wiki/Art_school\" title=\"Art school\">Art schools</a>&#160;• <a href=\"/wiki/Museum\" title=\"Museum\">Museums</a>&#160;\n",
      "<dl><dd><i><b><a href=\"/wiki/Literature\" title=\"Literature\">Literature</a></b></i> &#160;&#8211; <a href=\"/wiki/Poetry\" title=\"Poetry\">Poetry</a></dd>\n",
      "<dd><b><a href=\"/wiki/Performing_arts\" title=\"Performing arts\">Performing arts</a></b>&#160;&#8211; <a href=\"/wiki/Comedy\" title=\"Comedy\">Comedy</a> (<a href=\"/wiki/Humour\" title=\"Humour\">Humour</a>)&#160;• <a href=\"/wiki/Dance\" title=\"Dance\">Dance</a>&#160;• <a href=\"/wiki/Film\" title=\"Film\">Film</a>&#160;• <a href=\"/wiki/Music\" title=\"Music\">Music</a>&#160;• <a href=\"/wiki/Opera\" title=\"Opera\">Opera</a>&#160;• <a href=\"/wiki/Theatre\" title=\"Theatre\">Theatre</a>&#160;• <a href=\"/wiki/Circus\" title=\"Circus\">Circus</a></dd>\n",
      "<dd><b><a href=\"/wiki/Visual_arts\" title=\"Visual arts\">Visual arts</a></b>&#160;&#8211; <a href=\"/wiki/Animation\" title=\"Animation\">Animation</a>&#160;• <a href=\"/wiki/Architecture\" title=\"Architecture\">Architecture</a>&#160;• <a href=\"/wiki/Comics\" title=\"Comics\">Comics</a>&#160;• <a href=\"/wiki/Design\" title=\"Design\">Design</a>&#160;• <a href=\"/wiki/Drawing\" title=\"Drawing\">Drawing</a>&#160;• <a href=\"/wiki/Painting\" title=\"Painting\">Painting</a>&#160;• <a href=\"/wiki/Photography\" title=\"Photography\">Photography</a>&#160;• <a href=\"/wiki/Sculpture\" title=\"Sculpture\">Sculpture</a>&#160;• <a href=\"/wiki/Textile_arts\" title=\"Textile arts\">Textile arts</a>&#160;• <a href=\"/wiki/Fashion\" title=\"Fashion\">Fashion</a></dd></dl></dd></dl>\n",
      "<dl><dd><i><b><a href=\"/wiki/Entertainment\" title=\"Entertainment\">Entertainment</a></b></i> and <b><a href=\"/wiki/Recreation\" title=\"Recreation\">Recreation</a></b>&#160;&#8211;  <a href=\"/wiki/Cooking\" title=\"Cooking\">Cooking</a>&#160;• <a href=\"/wiki/Festival\" title=\"Festival\">Festivals</a>&#160;• <a href=\"/wiki/Hobby\" title=\"Hobby\">Hobbies</a>&#160;• <a href=\"/wiki/Parties\" class=\"mw-redirect\" title=\"Parties\">Parties</a>&#160;\n",
      "<dl><dd><i><b><a href=\"/wiki/Game\" title=\"Game\">Games</a></b></i> <i>and</i> <i><b><a href=\"/wiki/Toy\" title=\"Toy\">Toys</a></b></i>&#160;&#8211; <a href=\"/wiki/Video_game\" title=\"Video game\">Computer and video games</a>&#160;•  <a href=\"/wiki/Role-playing_game\" title=\"Role-playing game\">Role-playing games</a>\n",
      "<dl><dd><i><b><a href=\"/wiki/Board_game\" title=\"Board game\">Board games</a></b></i>&#160;&#8211; <a href=\"/wiki/Backgammon\" title=\"Backgammon\">Backgammon</a>&#160;• <a href=\"/wiki/Battleship_(game)\" title=\"Battleship (game)\">Battleship</a>&#160;• <a href=\"/wiki/Chess\" title=\"Chess\">Chess</a>&#160;• <i><a href=\"/wiki/Cluedo\" title=\"Cluedo\">Cluedo (Clue)</a></i>&#160;• <a href=\"/wiki/Draughts\" title=\"Draughts\">Draughts (Checkers)</a>&#160;• <a href=\"/wiki/Go_(game)\" title=\"Go (game)\">Go</a>&#160;• <i><a href=\"/wiki/Mastermind_(board_game)\" title=\"Mastermind (board game)\">Mastermind</a></i>&#160;• <i><a href=\"/wiki/Monopoly_(game)\" title=\"Monopoly (game)\">Monopoly</a></i>&#160;• <a href=\"/wiki/Reversi\" title=\"Reversi\">Reversi</a>&#160;• <i><a href=\"/wiki/Risk_(game)\" title=\"Risk (game)\">Risk</a></i>&#160;• <i><a href=\"/wiki/Scrabble\" title=\"Scrabble\">Scrabble</a></i>&#160;• <i><a href=\"/wiki/Stratego\" title=\"Stratego\">Stratego</a></i></dd>\n",
      "<dd><i><b><a href=\"/wiki/Card_game\" title=\"Card game\">Card games</a></b></i>&#160;&#8211; <a href=\"/wiki/Baccarat_(card_game)\" title=\"Baccarat (card game)\">Baccarat</a>&#160;• <a href=\"/wiki/Canasta\" title=\"Canasta\">Canasta</a>&#160;• <a href=\"/wiki/Collectible_card_game\" title=\"Collectible card game\">Collectible card game</a>&#160;• <a href=\"/wiki/Contract_bridge\" title=\"Contract bridge\">Contract bridge</a>&#160;• <a href=\"/wiki/Crazy_Eights\" title=\"Crazy Eights\">Crazy Eights</a>&#160;•  <a href=\"/wiki/Cribbage\" title=\"Cribbage\">Cribbage</a>&#160;• <a href=\"/wiki/Go_Fish\" title=\"Go Fish\">Go&#160;Fish</a>&#160;• <a href=\"/wiki/Patience_(game)\" title=\"Patience (game)\">Patience (Solitaire)</a>&#160;•  <a href=\"/wiki/Poker\" title=\"Poker\">Poker</a>&#160;• <a href=\"/wiki/Rummy\" title=\"Rummy\">Rummy</a>&#160;• <a href=\"/wiki/Spades_(card_game)\" title=\"Spades (card game)\">Spades</a>&#160;• <a href=\"/wiki/Speed_(card_game)\" title=\"Speed (card game)\">Speed</a>&#160;• <a href=\"/wiki/Spite_and_Malice\" title=\"Spite and Malice\">Spite and Malice</a>&#160;• <a href=\"/wiki/War_(card_game)\" title=\"War (card game)\">War</a></dd></dl></dd>\n",
      "<dd><i><b><a href=\"/wiki/Sport\" title=\"Sport\">Sports</a></b></i>&#160;&#8211; <a href=\"/wiki/Association_football\" title=\"Association football\">Association football (Soccer)</a> &#160;• <a href=\"/wiki/American_football\" title=\"American football\">American football</a>&#160;• <a href=\"/wiki/Baseball\" title=\"Baseball\">Baseball</a>&#160;• <a href=\"/wiki/Basketball\" title=\"Basketball\">Basketball</a>&#160;• <a href=\"/wiki/Cricket\" title=\"Cricket\">Cricket</a>&#160;• <a href=\"/wiki/Cue_sports\" title=\"Cue sports\">Cue sports</a>&#160;• <a href=\"/wiki/Golf\" title=\"Golf\">Golf</a>&#160;• <a href=\"/wiki/Ice_hockey\" title=\"Ice hockey\">Ice hockey</a>&#160;• <a href=\"/wiki/Olympics\" class=\"mw-redirect\" title=\"Olympics\">Olympics</a>&#160;• <a href=\"/wiki/Racing\" title=\"Racing\">Racing</a> (<a href=\"/wiki/Cycling\" title=\"Cycling\">Cycling</a>, <a href=\"/wiki/Formula_One\" title=\"Formula One\">Formula One</a>)&#160;• <a href=\"/wiki/Rugby_football\" title=\"Rugby football\">Rugby</a>&#160;•  <a href=\"/wiki/Swimming_(sport)\" title=\"Swimming (sport)\">Swimming</a>&#160;• <a href=\"/wiki/Tennis\" title=\"Tennis\">Tennis</a>&#160;• <a href=\"/wiki/Track_and_field\" title=\"Track and field\">Track and field</a></dd></dl></dd></dl>\n",
      "<dl><dd><i><b><a href=\"/wiki/Mass_media\" title=\"Mass media\">Mass media</a></b></i>&#160;&#8211; <a href=\"/wiki/Internet\" title=\"Internet\">Internet</a> (<a href=\"/wiki/Blogosphere\" title=\"Blogosphere\">Blogosphere</a>, <a href=\"/wiki/Podcast\" title=\"Podcast\">Podcasts</a>, and <a href=\"/wiki/Website\" title=\"Website\">Websites</a>)&#160;• <a href=\"/wiki/Newspaper\" title=\"Newspaper\">Newspaper</a>&#160;• <a href=\"/wiki/Publication\" title=\"Publication\">Publications</a>&#160;• <a href=\"/wiki/Publishing\" title=\"Publishing\">Publishing</a>&#160;• <a href=\"/wiki/Radio\" title=\"Radio\">Radio</a>&#160;• <a href=\"/wiki/Television\" title=\"Television\">Television</a></dd></dl>\n",
      "<div style=\"clear:both;\"></div></div>\n",
      "<p><span id=\"Geography_and_places\"></span>\n",
      "</p>\n",
      "<div class=\"box-header-title-container flex-columns-noflex\" style=\"clear:both;color:black;margin-bottom:0px;border:solid 1px solid #A3BFB1;border-bottom:1px solid #A3BFB1;box-sizing:border-box;text-align:center;font-size:100%;background:#CEF2E0;font-family:sans-serif;padding:1em;;border-width:0px 0px 0;padding-top:.1em;padding-left:.1em;padding-right:.1em;padding-bottom:.1em;padding-top:.1em;moz-border-radius:0;webkit-border-radius:0;border-radius:0\"><div class=\"plainlinks noprint\" style=\"float:right;margin-bottom:.1em;color:black;font-size:80%\"><a class=\"external text\" href=\"https://en.wikipedia.org/w/index.php?title=Wikipedia%3AContents%2FOverviews%2FGeography_and_places&amp;action=edit\"><span style=\"color:black\">edit</span></a>&#160;<a class=\"external text\" href=\"https://en.wikipedia.org/w/index.php?title=Wikipedia:Contents/Overviews/Geography_and_places&amp;action=watch\"><span style=\"color: black; min-width:40px; display:table-cell;\">watch</span></a>&#160;</div><h2 style=\"font-weight:bold;padding:0;margin:0;color:black;font-family:sans-serif;border:none;font-size:100%;padding-bottom:.1em;margin-left:60px\"><span id=\"Geography_and_places_.28see_in_all_page_types.29\"></span><span class=\"mw-headline\" id=\"Geography_and_places_(see_in_all_page_types)\"><big> <img alt=\"P countries-vector.svg\" src=\"//upload.wikimedia.org/wikipedia/commons/thumb/8/8e/P_countries-vector.svg/30px-P_countries-vector.svg.png\" decoding=\"async\" width=\"30\" height=\"27\" srcset=\"//upload.wikimedia.org/wikipedia/commons/thumb/8/8e/P_countries-vector.svg/45px-P_countries-vector.svg.png 1.5x, //upload.wikimedia.org/wikipedia/commons/thumb/8/8e/P_countries-vector.svg/60px-P_countries-vector.svg.png 2x\" data-file-width=\"400\" data-file-height=\"360\" /> Geography and places &#160;(<a href=\"/wiki/Wikipedia:Contents/Geography_and_places\" title=\"Wikipedia:Contents/Geography and places\"><small>see in all page types</small></a>)</big></span></h2></div><div style=\"color:black;opacity:1;border:0px solid #A3BFB1;border-bottom:0px solid #A3BFB1;;box-sizing:border-box;text-align:left;padding:1em;;background:#F5FFFA;margin:0 0 10px;vertical-align:top;border-top-width:1px;padding-top:.3em;border-radius:0\">\n",
      "<dl><dd><i>See also: <a href=\"/wiki/Special:Nearby\" title=\"Special:Nearby\">places near you</a></i></dd>\n",
      "<dd><i>Main articles: <a href=\"/wiki/Earth\" title=\"Earth\">Earth</a>, <a href=\"/wiki/Geography\" title=\"Geography\">Geography</a> and <a href=\"/wiki/Location_(geography)\" class=\"mw-redirect\" title=\"Location (geography)\">Place</a></i></dd></dl>\n",
      "<p><i><b><a href=\"/wiki/Geography\" title=\"Geography\">Geography</a></b></i>&#160;&#8211; \n",
      "<a href=\"/wiki/Atlas\" title=\"Atlas\">Atlas</a>&#160;•  \n",
      "<a href=\"/wiki/City\" title=\"City\">City</a>&#160;•\n",
      "<a href=\"/wiki/Climate\" title=\"Climate\">Climate</a>&#160;•\n",
      "<a href=\"/wiki/Demographics\" class=\"mw-redirect\" title=\"Demographics\">Demographics</a>&#160;• \n",
      "<a href=\"/wiki/Earth\" title=\"Earth\">Earth</a>&#160;•  \n",
      "<a href=\"/wiki/Exploration\" title=\"Exploration\">Exploration</a>&#160;•  \n",
      "<a href=\"/wiki/Geographic_information_system\" title=\"Geographic information system\">Geographic information system</a>&#160;•  \n",
      "<a href=\"/wiki/History_of_geography\" title=\"History of geography\">History of geography</a>&#160;•  \n",
      "<a href=\"/wiki/Map\" title=\"Map\">Map</a>&#160;•\n",
      "<a href=\"/wiki/Park\" title=\"Park\">Park</a>&#160;•\n",
      "<a href=\"/wiki/Location_(geography)\" class=\"mw-redirect\" title=\"Location (geography)\">Place</a>&#160;•  \n",
      "<a href=\"/wiki/Population_density\" title=\"Population density\">Population density</a>&#160;•  \n",
      "<a href=\"/wiki/Region\" title=\"Region\">Region</a>&#160;•  \n",
      "<a href=\"/wiki/Spatial_analysis\" title=\"Spatial analysis\">Spatial analysis</a>&#160;•  \n",
      "<a href=\"/wiki/Subregion\" title=\"Subregion\">Subregion</a>&#160;•  \n",
      "<a href=\"/wiki/Surveying\" title=\"Surveying\">Surveying</a>\n",
      "</p>\n",
      "<dl><dd><i><b>Branches of Geography</b></i>&#160;&#8211; <a href=\"/wiki/Physical_geography\" title=\"Physical geography\">Physical geography</a> (<a href=\"/wiki/Climatology\" title=\"Climatology\">Climatology</a>, <a href=\"/wiki/Hydrology\" title=\"Hydrology\">Hydrology</a>)&#160;• <a href=\"/wiki/Human_geography\" title=\"Human geography\">Human geography</a>&#160;• <a href=\"/wiki/Regional_geography\" title=\"Regional geography\">Regional geography</a></dd></dl>\n",
      "<dl><dd><i><b>Natural geographical features</b></i></dd></dl>\n",
      "<dl><dd><dl><dd><i><b><a href=\"/wiki/Landform\" title=\"Landform\">Landforms</a></b></i>&#160;&#8211; <a href=\"/wiki/Badlands\" title=\"Badlands\">Badlands</a>&#160;• <a href=\"/wiki/Canyon\" title=\"Canyon\">Canyon</a>&#160;• <a href=\"/wiki/Cave\" title=\"Cave\">Cave</a>&#160;• <a href=\"/wiki/Cliff\" title=\"Cliff\">Cliff</a>&#160;• <a href=\"/wiki/Coast\" title=\"Coast\">Coast</a>&#160;• <a href=\"/wiki/Continent\" title=\"Continent\">Continent</a>&#160;• <a href=\"/wiki/Coral_reef\" title=\"Coral reef\">Coral reef</a>&#160;• <a href=\"/wiki/Crater\" class=\"mw-disambig\" title=\"Crater\">Crater</a>&#160;• <a href=\"/wiki/Desert\" title=\"Desert\">Desert</a>&#160;• <a href=\"/wiki/Forest\" title=\"Forest\">Forest</a>&#160;• <a href=\"/wiki/Geyser\" title=\"Geyser\">Geyser</a>&#160;• <a href=\"/wiki/Glacier\" title=\"Glacier\">Glacier</a>&#160;• <a href=\"/wiki/Gully\" title=\"Gully\">Gully</a>&#160;• <a href=\"/wiki/Grassland\" title=\"Grassland\">Grassland</a>&#160;• <a href=\"/wiki/Highland_(geography)\" class=\"mw-redirect\" title=\"Highland (geography)\">Highland</a>&#160;• <a href=\"/wiki/Hill\" title=\"Hill\">Hill</a>&#160;• <a href=\"/wiki/Island\" title=\"Island\">Island</a>&#160;• <a href=\"/wiki/Mesa\" title=\"Mesa\">Mesa</a>&#160;• <a href=\"/wiki/Mountain\" title=\"Mountain\">Mountain</a>&#160;• <a href=\"/wiki/Mountain_range\" title=\"Mountain range\">Mountain range</a>&#160;• <a href=\"/wiki/Plain\" title=\"Plain\">Plain</a>&#160;• <a href=\"/wiki/Prairie\" title=\"Prairie\">Prairie</a>&#160;• <a href=\"/wiki/Peninsula\" title=\"Peninsula\">Peninsula</a>&#160;• <a href=\"/wiki/Reef\" title=\"Reef\">Reef</a>&#160;• <a href=\"/wiki/Ridge\" title=\"Ridge\">Ridge</a>&#160;• <a href=\"/wiki/Savanna\" title=\"Savanna\">Savanna</a>&#160;• <a href=\"/wiki/Shoal\" title=\"Shoal\">Shoal</a>&#160;• <a href=\"/wiki/Steppe\" title=\"Steppe\">Steppe</a>&#160;• <a href=\"/wiki/Tundra\" title=\"Tundra\">Tundra</a>&#160;• <a href=\"/wiki/Valley\" title=\"Valley\">Valley</a>&#160;• <a href=\"/wiki/Volcano\" title=\"Volcano\">Volcano</a>&#160;• <a href=\"/wiki/Wetland\" title=\"Wetland\">Wetland</a></dd></dl></dd></dl>\n",
      "<dl><dd><dl><dd><i><b><a href=\"/wiki/Body_of_water\" title=\"Body of water\">Bodies of water</a></b></i>&#160;&#8211; <a href=\"/wiki/Bay\" title=\"Bay\">Bay</a>&#160;• <a href=\"/wiki/Channel_(geography)\" title=\"Channel (geography)\">Channel</a>&#160;• <a href=\"/wiki/River_delta\" title=\"River delta\">Delta</a>&#160;• <a href=\"/wiki/Estuary\" title=\"Estuary\">Estuary</a>&#160;• <a href=\"/wiki/Fjord\" title=\"Fjord\">Fjord</a>&#160;• <a href=\"/wiki/Headlands\" class=\"mw-redirect\" title=\"Headlands\">Headlands</a>&#160;• <a href=\"/wiki/Lagoon\" title=\"Lagoon\">Lagoon</a>&#160;• <a href=\"/wiki/Lake\" title=\"Lake\">Lake</a>&#160;• <a href=\"/wiki/Marsh\" title=\"Marsh\">Marsh</a>&#160;• <a href=\"/wiki/Ocean\" title=\"Ocean\">Ocean</a>&#160;• <a href=\"/wiki/Pond\" title=\"Pond\">Pond</a>&#160;• <a href=\"/wiki/River\" title=\"River\">River</a>&#160;• <a href=\"/wiki/Sea\" title=\"Sea\">Sea</a>&#160;• <a href=\"/wiki/Sound_(geography)\" title=\"Sound (geography)\">Sound</a>&#160;• <a href=\"/wiki/Source_(river_or_stream)\" class=\"mw-redirect\" title=\"Source (river or stream)\">Source (river or stream)</a>&#160;• <a href=\"/wiki/Spring_(hydrosphere)\" class=\"mw-redirect\" title=\"Spring (hydrosphere)\">Spring (hydrosphere)</a>&#160;• <a href=\"/wiki/Strait\" title=\"Strait\">Strait</a>&#160;• <a href=\"/wiki/Stream\" title=\"Stream\">Stream</a>&#160;• <a href=\"/wiki/Swamp\" title=\"Swamp\">Swamp</a>&#160;• <a href=\"/wiki/Waterfall\" title=\"Waterfall\">Waterfall</a></dd></dl></dd></dl>\n",
      "<dl><dd><i><b>Manmade geographical features</b></i>&#160;&#8211; <a href=\"/wiki/Airport\" title=\"Airport\">Airport</a>&#160;• <a href=\"/wiki/Artificial_dwelling_hill\" class=\"mw-redirect\" title=\"Artificial dwelling hill\">Artificial dwelling hill</a>&#160;•  <a href=\"/wiki/Artificial_island\" title=\"Artificial island\">Artificial island</a>&#160;• <a href=\"/wiki/Breakwater_(structure)\" title=\"Breakwater (structure)\">Breakwater</a>&#160;• <a href=\"/wiki/Bridge\" title=\"Bridge\">Bridge</a>&#160;•   <a href=\"/wiki/Canal\" title=\"Canal\">Canal</a>&#160;• <a href=\"/wiki/Causeway\" title=\"Causeway\">Causeway</a>&#160;• <a href=\"/wiki/Country\" title=\"Country\">Country</a>&#160;• <a href=\"/wiki/Country_subdivision\" class=\"mw-redirect\" title=\"Country subdivision\">Country subdivision</a>&#160;• <a href=\"/wiki/Dam\" title=\"Dam\">Dam</a> (<a href=\"/wiki/Levee\" title=\"Levee\">Levee</a>)&#160;• <a href=\"/wiki/Farm\" title=\"Farm\">Farm</a>&#160;• <a href=\"/wiki/Harbor\" title=\"Harbor\">Harbor</a>&#160;• <a href=\"/wiki/Nation\" title=\"Nation\">Nation</a>&#160;• <a href=\"/wiki/National_park\" title=\"National park\">National park</a>&#160;•   <a href=\"/wiki/Nature_reserve\" title=\"Nature reserve\">Nature reserve</a>&#160;• <a href=\"/wiki/Park\" title=\"Park\">Park</a>&#160;• <a href=\"/wiki/Pier\" title=\"Pier\">Pier</a>&#160;• <a href=\"/wiki/Pipeline_transport\" title=\"Pipeline transport\">Pipeline</a>&#160;• <a href=\"/wiki/Port\" title=\"Port\">Port</a>&#160;• <a href=\"/wiki/Railway\" class=\"mw-redirect\" title=\"Railway\">Railway</a>&#160;• <a href=\"/wiki/Ranch\" title=\"Ranch\">Ranch</a>&#160;• <a href=\"/wiki/Reservoir_(water)\" class=\"mw-redirect\" title=\"Reservoir (water)\">Reservoir</a>&#160;• <a href=\"/wiki/Road\" title=\"Road\">Road</a> (<a href=\"/wiki/Street\" title=\"Street\">Street</a>)&#160;• <a href=\"/wiki/Human_settlement\" title=\"Human settlement\">Settlement</a> (<a href=\"/wiki/Village\" title=\"Village\">Village</a>, <a href=\"/wiki/Town\" title=\"Town\">Town</a>, <a href=\"/wiki/City\" title=\"City\">City</a>, <a href=\"/wiki/Megalopolis_(city_type)\" class=\"mw-redirect\" title=\"Megalopolis (city type)\">Megalopolis</a>)&#160;• <a href=\"/wiki/Train_station\" title=\"Train station\">Train station</a>&#160;• <a href=\"/wiki/Tunnel\" title=\"Tunnel\">Tunnel</a></dd></dl>\n",
      "<dl><dd><i><b>The <a href=\"/wiki/World\" title=\"World\">World</a></b></i>\n",
      "<dl><dd><i><b>By <a href=\"/wiki/Cultural_hemisphere\" class=\"mw-redirect\" title=\"Cultural hemisphere\">hemisphere</a></b></i>&#160;&#8211;  <a href=\"/wiki/New_World\" title=\"New World\">New World</a>&#160;• <a href=\"/wiki/Old_World\" title=\"Old World\">Old World</a>&#160;|&#160; <a href=\"/wiki/Eastern_world\" title=\"Eastern world\">Eastern world</a>&#160;• <a href=\"/wiki/Western_world\" title=\"Western world\">Western world</a>&#160;|&#160; <a href=\"/wiki/Eastern_Hemisphere\" title=\"Eastern Hemisphere\">Eastern Hemisphere</a>&#160;• <a href=\"/wiki/Western_Hemisphere\" title=\"Western Hemisphere\">Western Hemisphere</a>&#160;|&#160; <a href=\"/wiki/Northern_Hemisphere\" title=\"Northern Hemisphere\">Northern Hemisphere</a>&#160;• <a href=\"/wiki/Southern_Hemisphere\" title=\"Southern Hemisphere\">Southern Hemisphere</a></dd>\n",
      "<dd><i><b>By <a href=\"/wiki/Cultural_region\" class=\"mw-redirect\" title=\"Cultural region\">cultural region</a></b></i>&#160;&#8211;  <a href=\"/wiki/English-speaking_world\" title=\"English-speaking world\">English-speaking world</a>&#160;• <a href=\"/wiki/Arab_world\" title=\"Arab world\">Arab world</a>&#160;• <a href=\"/wiki/Chinese_world\" class=\"mw-redirect\" title=\"Chinese world\">Chinese world (Sinosphere)</a>&#160;• <a href=\"/wiki/Indosphere\" title=\"Indosphere\">Indosphere</a>&#160;• <a href=\"/wiki/Sub-Saharan_Africa\" title=\"Sub-Saharan Africa\">Sub-Saharan Africa</a>&#160;• <a href=\"/wiki/Culture_of_Europe\" title=\"Culture of Europe\">Europe</a>&#160;• <a href=\"/wiki/Latin_America\" title=\"Latin America\">Latin America</a>&#160;• <a href=\"/wiki/Oceania\" title=\"Oceania\">Oceania</a></dd>\n",
      "<dd><i><b>By ordinal classification</b></i>&#160;&#8211;  <a href=\"/wiki/First_World\" title=\"First World\">First World</a>&#160;• <a href=\"/wiki/Second_World\" title=\"Second World\">Second World</a>&#160;• <a href=\"/wiki/Third_World\" title=\"Third World\">Third World</a>&#160;• <a href=\"/wiki/Fourth_World\" title=\"Fourth World\">Fourth World</a></dd>\n",
      "<dd><i><b>By <a href=\"/wiki/Economic_development\" title=\"Economic development\">economic development</a></b></i>&#160;&#8211;  <a href=\"/wiki/Developed_countries\" class=\"mw-redirect\" title=\"Developed countries\">Developed countries</a>&#160;• <a href=\"/wiki/Developing_countries\" class=\"mw-redirect\" title=\"Developing countries\">Developing countries</a>&#160;• <a href=\"/wiki/Least_Developed_Countries\" class=\"mw-redirect\" title=\"Least Developed Countries\">Least Developed Countries</a></dd>\n",
      "<dd><i><b>By <a href=\"/wiki/Continent\" title=\"Continent\">continent</a></b></i>&#160;&#8211;  <a href=\"/wiki/Africa\" title=\"Africa\">Africa</a>&#160;• <a href=\"/wiki/Antarctica\" title=\"Antarctica\">Antarctica</a>&#160;• <a href=\"/wiki/Australia_(continent)\" title=\"Australia (continent)\">Australia</a>&#160;• <a href=\"/wiki/Eurasia\" title=\"Eurasia\">Eurasia</a> (<a href=\"/wiki/Europe\" title=\"Europe\">Europe</a> and <a href=\"/wiki/Asia\" title=\"Asia\">Asia</a>)&#160;• <a href=\"/wiki/North_America\" title=\"North America\">North America</a>&#160;• <a href=\"/wiki/South_America\" title=\"South America\">South America</a></dd></dl></dd></dl>\n",
      "<dl><dd><dl><dd><i><b><a href=\"/wiki/Country\" title=\"Country\">Countries</a> and <a href=\"/wiki/Polar_region\" class=\"mw-redirect\" title=\"Polar region\">polar regions</a> of the world:</b></i></dd></dl></dd></dl>\n",
      "<ul style=\"margin: 0 3%; overflow: hidden; list-style: none none; text-align: center;\">\n",
      "<li style=\"float: left; width: 25%; min-width: 15em; margin: 1em 0;\"><a href=\"/wiki/File:Africa_(orthographic_projection).svg\" class=\"image\"><img alt=\"Africa (orthographic projection).svg\" src=\"//upload.wikimedia.org/wikipedia/commons/thumb/8/86/Africa_%28orthographic_projection%29.svg/121px-Africa_%28orthographic_projection%29.svg.png\" decoding=\"async\" width=\"121\" height=\"121\" srcset=\"//upload.wikimedia.org/wikipedia/commons/thumb/8/86/Africa_%28orthographic_projection%29.svg/182px-Africa_%28orthographic_projection%29.svg.png 1.5x, //upload.wikimedia.org/wikipedia/commons/thumb/8/86/Africa_%28orthographic_projection%29.svg/242px-Africa_%28orthographic_projection%29.svg.png 2x\" data-file-width=\"550\" data-file-height=\"550\" /></a><br /><a href=\"/wiki/List_of_African_countries\" class=\"mw-redirect\" title=\"List of African countries\">Countries</a> of <a href=\"/wiki/Africa\" title=\"Africa\">Africa</a></li>\n",
      "<li style=\"float: left; width: 25%; min-width: 15em; margin: 1em 0;\"><a href=\"/wiki/File:Asia_(orthographic_projection).svg\" class=\"image\"><img alt=\"Asia (orthographic projection).svg\" src=\"//upload.wikimedia.org/wikipedia/commons/thumb/8/80/Asia_%28orthographic_projection%29.svg/121px-Asia_%28orthographic_projection%29.svg.png\" decoding=\"async\" width=\"121\" height=\"121\" srcset=\"//upload.wikimedia.org/wikipedia/commons/thumb/8/80/Asia_%28orthographic_projection%29.svg/182px-Asia_%28orthographic_projection%29.svg.png 1.5x, //upload.wikimedia.org/wikipedia/commons/thumb/8/80/Asia_%28orthographic_projection%29.svg/242px-Asia_%28orthographic_projection%29.svg.png 2x\" data-file-width=\"541\" data-file-height=\"541\" /></a><br /><a href=\"/wiki/List_of_Asian_countries\" class=\"mw-redirect\" title=\"List of Asian countries\">Countries</a> of <a href=\"/wiki/Asia\" title=\"Asia\">Asia</a></li>\n",
      "<li style=\"float: left; width: 25%; min-width: 15em; margin: 1em 0;\"><a href=\"/wiki/File:Europe_(orthographic_projection).svg\" class=\"image\"><img alt=\"Europe (orthographic projection).svg\" src=\"//upload.wikimedia.org/wikipedia/commons/thumb/c/c6/Europe_%28orthographic_projection%29.svg/121px-Europe_%28orthographic_projection%29.svg.png\" decoding=\"async\" width=\"121\" height=\"121\" srcset=\"//upload.wikimedia.org/wikipedia/commons/thumb/c/c6/Europe_%28orthographic_projection%29.svg/182px-Europe_%28orthographic_projection%29.svg.png 1.5x, //upload.wikimedia.org/wikipedia/commons/thumb/c/c6/Europe_%28orthographic_projection%29.svg/242px-Europe_%28orthographic_projection%29.svg.png 2x\" data-file-width=\"541\" data-file-height=\"541\" /></a><br /><a href=\"/wiki/List_of_European_countries\" class=\"mw-redirect\" title=\"List of European countries\">Countries</a> of <a href=\"/wiki/Europe\" title=\"Europe\">Europe</a></li>\n",
      "<li style=\"float: left; width: 25%; min-width: 15em; margin: 1em 0;\"><a href=\"/wiki/File:Location_North_America.svg\" class=\"image\"><img alt=\"Location North America.svg\" src=\"//upload.wikimedia.org/wikipedia/commons/thumb/4/43/Location_North_America.svg/121px-Location_North_America.svg.png\" decoding=\"async\" width=\"121\" height=\"121\" srcset=\"//upload.wikimedia.org/wikipedia/commons/thumb/4/43/Location_North_America.svg/182px-Location_North_America.svg.png 1.5x, //upload.wikimedia.org/wikipedia/commons/thumb/4/43/Location_North_America.svg/242px-Location_North_America.svg.png 2x\" data-file-width=\"550\" data-file-height=\"550\" /></a><br /><a href=\"/wiki/List_of_North_American_countries\" class=\"mw-redirect\" title=\"List of North American countries\">Countries</a> of <a href=\"/wiki/North_America\" title=\"North America\">North America</a></li>\n",
      "<li style=\"float: left; width: 25%; min-width: 15em; margin: 1em 0;\"><a href=\"/wiki/File:Oceania_(orthographic_projection).svg\" class=\"image\"><img alt=\"Oceania (orthographic projection).svg\" src=\"//upload.wikimedia.org/wikipedia/commons/thumb/8/8e/Oceania_%28orthographic_projection%29.svg/121px-Oceania_%28orthographic_projection%29.svg.png\" decoding=\"async\" width=\"121\" height=\"121\" srcset=\"//upload.wikimedia.org/wikipedia/commons/thumb/8/8e/Oceania_%28orthographic_projection%29.svg/182px-Oceania_%28orthographic_projection%29.svg.png 1.5x, //upload.wikimedia.org/wikipedia/commons/thumb/8/8e/Oceania_%28orthographic_projection%29.svg/242px-Oceania_%28orthographic_projection%29.svg.png 2x\" data-file-width=\"541\" data-file-height=\"541\" /></a><br /><a href=\"/wiki/List_of_Oceanian_countries\" class=\"mw-redirect\" title=\"List of Oceanian countries\">Countries</a> of <a href=\"/wiki/Oceania\" title=\"Oceania\">Oceania</a></li>\n",
      "<li style=\"float: left; width: 25%; min-width: 15em; margin: 1em 0;\"><a href=\"/wiki/File:South_America_(orthographic_projection).svg\" class=\"image\"><img alt=\"South America (orthographic projection).svg\" src=\"//upload.wikimedia.org/wikipedia/commons/thumb/0/0f/South_America_%28orthographic_projection%29.svg/121px-South_America_%28orthographic_projection%29.svg.png\" decoding=\"async\" width=\"121\" height=\"121\" srcset=\"//upload.wikimedia.org/wikipedia/commons/thumb/0/0f/South_America_%28orthographic_projection%29.svg/182px-South_America_%28orthographic_projection%29.svg.png 1.5x, //upload.wikimedia.org/wikipedia/commons/thumb/0/0f/South_America_%28orthographic_projection%29.svg/242px-South_America_%28orthographic_projection%29.svg.png 2x\" data-file-width=\"541\" data-file-height=\"541\" /></a><br /><a href=\"/wiki/List_of_South_American_countries\" class=\"mw-redirect\" title=\"List of South American countries\">Countries</a> of <a href=\"/wiki/South_America\" title=\"South America\">South America</a></li>\n",
      "<li style=\"float: left; width: 25%; min-width: 15em; margin: 1em 0;\"><a href=\"/wiki/File:Antarctica_(orthographic_projection).svg\" class=\"image\"><img alt=\"Antarctica (orthographic projection).svg\" src=\"//upload.wikimedia.org/wikipedia/commons/thumb/f/f2/Antarctica_%28orthographic_projection%29.svg/121px-Antarctica_%28orthographic_projection%29.svg.png\" decoding=\"async\" width=\"121\" height=\"121\" srcset=\"//upload.wikimedia.org/wikipedia/commons/thumb/f/f2/Antarctica_%28orthographic_projection%29.svg/182px-Antarctica_%28orthographic_projection%29.svg.png 1.5x, //upload.wikimedia.org/wikipedia/commons/thumb/f/f2/Antarctica_%28orthographic_projection%29.svg/242px-Antarctica_%28orthographic_projection%29.svg.png 2x\" data-file-width=\"537\" data-file-height=\"536\" /></a><br /><a href=\"/wiki/Antarctica\" title=\"Antarctica\">Antarctic</a></li>\n",
      "<li style=\"float: left; width: 25%; min-width: 15em; margin: 1em 0;\"><a href=\"/wiki/File:Arctic_(orthographic_projection).svg\" class=\"image\"><img alt=\"Arctic (orthographic projection).svg\" src=\"//upload.wikimedia.org/wikipedia/commons/thumb/9/92/Arctic_%28orthographic_projection%29.svg/121px-Arctic_%28orthographic_projection%29.svg.png\" decoding=\"async\" width=\"121\" height=\"121\" srcset=\"//upload.wikimedia.org/wikipedia/commons/thumb/9/92/Arctic_%28orthographic_projection%29.svg/182px-Arctic_%28orthographic_projection%29.svg.png 1.5x, //upload.wikimedia.org/wikipedia/commons/thumb/9/92/Arctic_%28orthographic_projection%29.svg/242px-Arctic_%28orthographic_projection%29.svg.png 2x\" data-file-width=\"553\" data-file-height=\"553\" /></a><br /><a href=\"/wiki/Arctic\" title=\"Arctic\">Arctic</a></li>\n",
      "</ul>\n",
      "<div style=\"clear:both;\"></div></div>\n",
      "<p><span id=\"Health_and_fitness\"></span>\n",
      "</p>\n",
      "<div class=\"box-header-title-container flex-columns-noflex\" style=\"clear:both;color:black;margin-bottom:0px;border:solid 1px solid #A3BFB1;border-bottom:1px solid #A3BFB1;box-sizing:border-box;text-align:center;font-size:100%;background:#CEF2E0;font-family:sans-serif;padding:1em;;border-width:0px 0px 0;padding-top:.1em;padding-left:.1em;padding-right:.1em;padding-bottom:.1em;padding-top:.1em;moz-border-radius:0;webkit-border-radius:0;border-radius:0\"><div class=\"plainlinks noprint\" style=\"float:right;margin-bottom:.1em;color:black;font-size:80%\"><a class=\"external text\" href=\"https://en.wikipedia.org/w/index.php?title=Wikipedia%3AContents%2FOverviews%2FHealth_and_fitness&amp;action=edit\"><span style=\"color:black\">edit</span></a>&#160;<a class=\"external text\" href=\"https://en.wikipedia.org/w/index.php?title=Wikipedia:Contents/Overviews/Health_and_fitness&amp;action=watch\"><span style=\"color: black; min-width:40px; display:table-cell;\">watch</span></a>&#160;</div><h2 style=\"font-weight:bold;padding:0;margin:0;color:black;font-family:sans-serif;border:none;font-size:100%;padding-bottom:.1em;margin-left:60px\"><span id=\"Health_and_fitness_.28see_in_all_page_types.29\"></span><span class=\"mw-headline\" id=\"Health_and_fitness_(see_in_all_page_types)\"><big> <img alt=\"P medicine.svg\" src=\"//upload.wikimedia.org/wikipedia/commons/thumb/6/6d/P_medicine.svg/25px-P_medicine.svg.png\" decoding=\"async\" width=\"25\" height=\"23\" srcset=\"//upload.wikimedia.org/wikipedia/commons/thumb/6/6d/P_medicine.svg/38px-P_medicine.svg.png 1.5x, //upload.wikimedia.org/wikipedia/commons/thumb/6/6d/P_medicine.svg/50px-P_medicine.svg.png 2x\" data-file-width=\"400\" data-file-height=\"360\" /> Health and fitness &#160;&#160;(<a href=\"/wiki/Wikipedia:Contents/Health_and_fitness\" title=\"Wikipedia:Contents/Health and fitness\"><small>see in all page types</small></a>)</big></span></h2></div><div style=\"color:black;opacity:1;border:0px solid #A3BFB1;border-bottom:0px solid #A3BFB1;;box-sizing:border-box;text-align:left;padding:1em;;background:#F5FFFA;margin:0 0 10px;vertical-align:top;border-top-width:1px;padding-top:.3em;border-radius:0\">\n",
      "<div role=\"note\" class=\"hatnote navigation-not-searchable\">Main articles: <a href=\"/wiki/Health\" title=\"Health\">Health</a>, <a href=\"/wiki/Self-care\" title=\"Self-care\">Self-care</a>, and <a href=\"/wiki/Health_science\" class=\"mw-redirect\" title=\"Health science\">Health science</a></div> \n",
      "<p><i><b>General</b></i> &#160;&#8211; <a href=\"/wiki/Health_care\" title=\"Health care\">Health care</a>&#160;• <a href=\"/wiki/Health_care_industry\" class=\"mw-redirect\" title=\"Health care industry\">Health care industry</a>&#160;• <a href=\"/wiki/Health_disparities\" class=\"mw-redirect\" title=\"Health disparities\">Health disparities</a>&#160;• <a href=\"/wiki/Mental_health\" title=\"Mental health\">Mental health</a>&#160;• <a href=\"/wiki/Population_health\" title=\"Population health\">Population health</a>&#160;• <a href=\"/wiki/Preventive_medicine\" class=\"mw-redirect\" title=\"Preventive medicine\">Preventive medicine</a>&#160;• <a href=\"/wiki/Public_health\" title=\"Public health\">Public health</a>&#160;• <a href=\"/wiki/Complementary_and_alternative_medicine\" class=\"mw-redirect\" title=\"Complementary and alternative medicine\">Complementary and alternative medicine</a>\n",
      "</p><p><i><b><a href=\"/wiki/Self-care\" title=\"Self-care\">Self-care</a></b></i>&#160;&#8211; <a href=\"/wiki/Body_composition\" title=\"Body composition\">Body composition</a>&#160;• <a href=\"/wiki/Life_extension\" title=\"Life extension\">Life extension</a>&#160;• <a href=\"/wiki/Longevity\" title=\"Longevity\">Longevity</a>&#160;• <a href=\"/wiki/Physical_fitness\" title=\"Physical fitness\">Physical fitness</a>\n",
      "</p>\n",
      "<dl><dd><i><b><a href=\"/wiki/Nutrition\" title=\"Nutrition\">Nutrition</a></b></i>&#160;&#8211; <a href=\"/wiki/Calorie_restriction\" title=\"Calorie restriction\">Calorie restriction</a>&#160;• <a href=\"/wiki/Dietary_supplement\" title=\"Dietary supplement\">Dietary supplements</a> (<a href=\"/wiki/Amino_acid\" title=\"Amino acid\">Amino acids</a>, <a href=\"/wiki/Dietary_mineral\" class=\"mw-redirect\" title=\"Dietary mineral\">Minerals</a>, <a href=\"/wiki/Nootropic\" title=\"Nootropic\">Nootropics</a>, <a href=\"/wiki/Nutrient\" title=\"Nutrient\">Nutrients</a>, <a href=\"/wiki/Vitamin\" title=\"Vitamin\">Vitamins</a>)&#160;• <a href=\"/wiki/Diet_(nutrition)\" title=\"Diet (nutrition)\">Diet (nutrition)</a>&#160;• <a href=\"/wiki/Dieting\" title=\"Dieting\">Dieting</a>&#160;• <a href=\"/wiki/Healthy_eating_pyramid\" title=\"Healthy eating pyramid\">Healthy eating pyramid</a></dd></dl>\n",
      "<dl><dd><span class=\"anchor\" id=\"Exercise\"></span> <i><b><a href=\"/wiki/Physical_exercise\" class=\"mw-redirect\" title=\"Physical exercise\">Physical exercise</a></b></i>&#160;&#8211; <a href=\"/wiki/Stretching\" title=\"Stretching\">Stretching</a>&#160;• <a href=\"/wiki/Overtraining\" title=\"Overtraining\">Overtraining</a>&#160;• <a href=\"/wiki/Aerobic_exercise\" title=\"Aerobic exercise\">Aerobic exercise</a>&#160;• <a href=\"/wiki/Anaerobic_exercise\" title=\"Anaerobic exercise\">Anaerobic exercise</a>&#160;• <a href=\"/wiki/Sport\" title=\"Sport\">Sport</a>&#160;• <a href=\"/wiki/Walking\" title=\"Walking\">Walking</a></dd></dl>\n",
      "<dl><dd><i><b><a href=\"/wiki/Hygiene\" title=\"Hygiene\">Hygiene</a></b></i>&#160;&#8211; <a href=\"/wiki/Cleanliness\" title=\"Cleanliness\">Cleanliness</a>&#160;• <a href=\"/wiki/Oral_hygiene\" title=\"Oral hygiene\">Oral hygiene</a>&#160;• <a href=\"/wiki/Occupational_hygiene\" title=\"Occupational hygiene\">Occupational hygiene</a></dd></dl>\n",
      "<p><i><b><a href=\"/wiki/Health_science\" class=\"mw-redirect\" title=\"Health science\">Health science</a></b></i>&#160;&#8211; <a href=\"/wiki/Dentistry\" title=\"Dentistry\">Dentistry</a>&#160;• <a href=\"/wiki/Occupational_therapy\" title=\"Occupational therapy\">Occupational therapy</a>&#160;• <a href=\"/wiki/Optometry\" title=\"Optometry\">Optometry</a>&#160;• <a href=\"/wiki/Pharmacy\" title=\"Pharmacy\">Pharmacy</a>&#160;• <a href=\"/wiki/Physiotherapy\" class=\"mw-redirect\" title=\"Physiotherapy\">Physiotherapy</a>&#160;• <a href=\"/wiki/Speech-Language_Pathology\" class=\"mw-redirect\" title=\"Speech-Language Pathology\">Speech-Language Pathology</a>\n",
      "</p>\n",
      "<dl><dd><span class=\"anchor\" id=\"Medicine\"></span> <i><b><a href=\"/wiki/Medicine\" title=\"Medicine\">Medicine</a></b></i>&#160;&#8211; <a href=\"/wiki/Midwifery\" title=\"Midwifery\">Midwifery</a>&#160;• <a href=\"/wiki/Nursing\" title=\"Nursing\">Nursing</a>&#160;• <a href=\"/wiki/Veterinary_medicine\" title=\"Veterinary medicine\">Veterinary medicine</a>&#160;• <a href=\"/wiki/Dentistry\" title=\"Dentistry\">Dentistry</a>&#160;• <a href=\"/wiki/Alternative_medicine\" title=\"Alternative medicine\">Alternative medicine</a></dd></dl>\n",
      "<dl><dd><dl><dd><i><b><a href=\"/wiki/Medicine\" title=\"Medicine\">Human medicine</a></b></i>&#160;&#8211; <a href=\"/wiki/Anesthesiology\" title=\"Anesthesiology\">Anesthesiology</a>&#160;• <a href=\"/wiki/Cardiology\" title=\"Cardiology\">Cardiology</a>&#160;• <a href=\"/wiki/Dermatology\" title=\"Dermatology\">Dermatology</a>&#160;• <a href=\"/wiki/Emergency_medicine\" title=\"Emergency medicine\">Emergency medicine</a>&#160;• <a href=\"/wiki/Endocrinology\" title=\"Endocrinology\">Endocrinology</a> and <a href=\"/wiki/Diabetology\" class=\"mw-redirect\" title=\"Diabetology\">Diabetology</a>&#160;• <a href=\"/wiki/Epidemiology\" title=\"Epidemiology\">Epidemiology</a>&#160;• <a href=\"/wiki/Geriatrics\" title=\"Geriatrics\">Geriatrics</a>&#160;• <a href=\"/wiki/Hematology\" title=\"Hematology\">Hematology</a>&#160;• <a href=\"/wiki/Internal_medicine\" title=\"Internal medicine\">Internal medicine</a>&#160;• <a href=\"/wiki/Nephrology\" title=\"Nephrology\">Nephrology</a>&#160;• <a href=\"/wiki/Neurology\" title=\"Neurology\">Neurology</a>&#160;• <a href=\"/wiki/Oncology\" title=\"Oncology\">Oncology</a>&#160;• <a href=\"/wiki/Pathology\" title=\"Pathology\">Pathology</a>&#160;• <a href=\"/wiki/Pediatrics\" title=\"Pediatrics\">Pediatrics</a>&#160;• <a href=\"/wiki/Psychiatry\" title=\"Psychiatry\">Psychiatry</a>&#160;• <a href=\"/wiki/Rheumatology\" title=\"Rheumatology\">Rheumatology</a>&#160;• <a href=\"/wiki/Surgery\" title=\"Surgery\">Surgery</a>&#160;• <a href=\"/wiki/Urology\" title=\"Urology\">Urology</a></dd></dl></dd></dl>\n",
      "<dl><dd><i><b><a href=\"/wiki/Illness\" class=\"mw-redirect\" title=\"Illness\">Illness</a></b></i> &#160;&#8211; <a href=\"/wiki/Aging\" class=\"mw-redirect\" title=\"Aging\">Aging</a>&#160;• <a href=\"/wiki/Alcoholism\" title=\"Alcoholism\">Alcoholism</a>&#160;• <a href=\"/wiki/Atrophy\" title=\"Atrophy\">Atrophy</a>&#160;• <a href=\"/wiki/Deficiency_disease\" class=\"mw-redirect\" title=\"Deficiency disease\">Deficiency disease</a>&#160;• <a href=\"/wiki/Clinical_depression\" class=\"mw-redirect\" title=\"Clinical depression\">Depression</a>&#160;• <a href=\"/wiki/Disease\" title=\"Disease\">Disease</a>&#160;• <a href=\"/wiki/Types_of_disorders\" class=\"mw-redirect\" title=\"Types of disorders\">Disorders (types)</a>&#160;• <a href=\"/wiki/Drug_abuse\" class=\"mw-redirect\" title=\"Drug abuse\">Drug abuse</a>&#160;• <a href=\"/wiki/Eating_disorder\" title=\"Eating disorder\">Eating disorder</a>&#160;• <a href=\"/wiki/Foodborne_illness\" title=\"Foodborne illness\">Foodborne illness</a>&#160;• <a href=\"/wiki/Malnutrition\" title=\"Malnutrition\">Malnutrition</a>&#160;• <a href=\"/wiki/Obesity\" title=\"Obesity\">Obesity</a>&#160;• <a href=\"/wiki/Tobacco_smoking\" title=\"Tobacco smoking\">Smoking</a></dd></dl>\n",
      "<div style=\"clear:both;\"></div></div>\n",
      "<p><span id=\"History_and_events\"></span>\n",
      "</p>\n",
      "<div class=\"box-header-title-container flex-columns-noflex\" style=\"clear:both;color:black;margin-bottom:0px;border:solid 1px solid #A3BFB1;border-bottom:1px solid #A3BFB1;box-sizing:border-box;text-align:center;font-size:100%;background:#CEF2E0;font-family:sans-serif;padding:1em;;border-width:0px 0px 0;padding-top:.1em;padding-left:.1em;padding-right:.1em;padding-bottom:.1em;padding-top:.1em;moz-border-radius:0;webkit-border-radius:0;border-radius:0\"><div class=\"plainlinks noprint\" style=\"float:right;margin-bottom:.1em;color:black;font-size:80%\"><a class=\"external text\" href=\"https://en.wikipedia.org/w/index.php?title=Wikipedia%3AContents%2FOverviews%2FHistory_and_events&amp;action=edit\"><span style=\"color:black\">edit</span></a>&#160;<a class=\"external text\" href=\"https://en.wikipedia.org/w/index.php?title=Wikipedia:Contents/Overviews/History_and_events&amp;action=watch\"><span style=\"color: black; min-width:40px; display:table-cell;\">watch</span></a>&#160;</div><h2 style=\"font-weight:bold;padding:0;margin:0;color:black;font-family:sans-serif;border:none;font-size:100%;padding-bottom:.1em;margin-left:60px\"><span id=\"History_and_events_.28see_in_all_page_types.29\"></span><span class=\"mw-headline\" id=\"History_and_events_(see_in_all_page_types)\"><big> <img alt=\"Klepsydra-pt.svg\" src=\"//upload.wikimedia.org/wikipedia/commons/thumb/9/9a/Klepsydra-pt.svg/22px-Klepsydra-pt.svg.png\" decoding=\"async\" width=\"22\" height=\"25\" srcset=\"//upload.wikimedia.org/wikipedia/commons/thumb/9/9a/Klepsydra-pt.svg/33px-Klepsydra-pt.svg.png 1.5x, //upload.wikimedia.org/wikipedia/commons/thumb/9/9a/Klepsydra-pt.svg/44px-Klepsydra-pt.svg.png 2x\" data-file-width=\"244\" data-file-height=\"275\" /> History and events &#160;(<a href=\"/wiki/Wikipedia:Contents/History_and_events\" title=\"Wikipedia:Contents/History and events\"><small>see in all page types</small></a>)</big></span></h2></div><div style=\"color:black;opacity:1;border:0px solid #A3BFB1;border-bottom:0px solid #A3BFB1;;box-sizing:border-box;text-align:left;padding:1em;;background:#F5FFFA;margin:0 0 10px;vertical-align:top;border-top-width:1px;padding-top:.3em;border-radius:0\">\n",
      "<div role=\"note\" class=\"hatnote navigation-not-searchable\">Main articles: <a href=\"/wiki/News\" title=\"News\">News</a>, <a href=\"/wiki/History\" title=\"History\">History</a>, <a href=\"/wiki/Human_history\" title=\"Human history\">Human history</a>, <a href=\"/wiki/History_of_the_Earth\" class=\"mw-redirect\" title=\"History of the Earth\">History of the Earth</a>, and <a href=\"/wiki/Historiography\" title=\"Historiography\">Historiography</a></div>\n",
      "<p><i><b>History by region</b></i>&#160;&#8211; <a href=\"/wiki/Ancient_Egypt\" title=\"Ancient Egypt\">Ancient Egypt</a>&#160;• <a href=\"/wiki/Ancient_Greece\" title=\"Ancient Greece\">Ancient Greece</a>&#160;• <a href=\"/wiki/Ancient_Rome\" title=\"Ancient Rome\">Ancient Rome</a>&#160;• <a href=\"/wiki/History_of_China\" title=\"History of China\">History of China</a>&#160;• <a href=\"/wiki/History_of_the_Middle_East\" title=\"History of the Middle East\">History of the Middle East</a>&#160;• <a href=\"/wiki/Mesoamerican_chronology\" title=\"Mesoamerican chronology\">History of Mesoamerica</a>&#160;• <a href=\"/wiki/History_of_India\" title=\"History of India\">History of India</a>\n",
      "</p>\n",
      "<dl><dd><i><b>History by continent</b></i>&#160;&#8211; <a href=\"/wiki/History_of_Africa\" title=\"History of Africa\">Africa</a>&#160;• <a href=\"/wiki/History_of_the_Americas\" title=\"History of the Americas\">The Americas</a>&#160;• <a href=\"/wiki/History_of_Antarctica\" title=\"History of Antarctica\">Antarctica</a>&#160;• <a href=\"/wiki/History_of_Asia\" title=\"History of Asia\">Asia</a>&#160;• <a href=\"/wiki/History_of_Australia\" title=\"History of Australia\">Australia</a>&#160;• <a href=\"/wiki/History_of_Eurasia\" title=\"History of Eurasia\">Eurasia</a>&#160;• <a href=\"/wiki/History_of_Europe\" title=\"History of Europe\">Europe</a>&#160;• <a href=\"/wiki/History_of_North_America\" title=\"History of North America\">North America</a>&#160;• <a href=\"/wiki/History_of_Oceania\" title=\"History of Oceania\">Oceania</a>&#160;• <a href=\"/wiki/History_of_South_America\" title=\"History of South America\">South America</a></dd></dl>\n",
      "<p><i><b><a href=\"/wiki/List_of_time_periods\" title=\"List of time periods\">List of time periods</a></b></i> <b>&#8211;</b> <a href=\"/wiki/Prehistory\" title=\"Prehistory\">Prehistory</a>&#160;• <a href=\"/wiki/Protohistory\" title=\"Protohistory\">Protohistory</a>&#160;• <a href=\"/wiki/Ancient_history\" title=\"Ancient history\">Ancient history</a>&#160;• <a href=\"/wiki/Modern_history\" class=\"mw-redirect\" title=\"Modern history\">Modern history</a>&#160;• <a href=\"/wiki/Future_history\" title=\"Future history\">Future history</a>\n",
      "</p>\n",
      "<dl><dd><i><b>The Ages of history</b></i>&#160;&#8211; <a href=\"/wiki/Stone_Age\" title=\"Stone Age\">Stone Age</a>&#160;• <a href=\"/wiki/Copper_Age\" class=\"mw-redirect\" title=\"Copper Age\">Copper Age</a>&#160;• <a href=\"/wiki/Bronze_Age\" title=\"Bronze Age\">Bronze Age</a>&#160;• <a href=\"/wiki/Iron_Age\" title=\"Iron Age\">Iron Age</a>&#160;• <a href=\"/wiki/Middle_Ages\" title=\"Middle Ages\">Middle Ages</a>&#160;• <a href=\"/wiki/Age_of_Discovery\" title=\"Age of Discovery\">Age of Discovery</a>&#160;• <a href=\"/wiki/Renaissance\" title=\"Renaissance\">Renaissance</a>&#160;• <a href=\"/wiki/Age_of_Enlightenment\" title=\"Age of Enlightenment\">Age of Enlightenment</a>&#160;• <a href=\"/wiki/Industrial_Revolution\" title=\"Industrial Revolution\">Industrial Age</a>&#160;• <a href=\"/wiki/Space_Age\" title=\"Space Age\">Space Age</a>&#160;• <a href=\"/wiki/Information_Age\" title=\"Information Age\">Information Age</a></dd></dl>\n",
      "<p><i><b>History by subject</b></i>\n",
      "</p>\n",
      "<dl><dd><i><b><a href=\"/wiki/Cultural_history\" title=\"Cultural history\">Cultural history</a></b></i> <b>&#8211;</b> <a href=\"/wiki/History_of_money\" title=\"History of money\">Money</a>&#160;• <a href=\"/wiki/History_of_sport\" title=\"History of sport\">Sport</a>\n",
      "<dl><dd><a href=\"/wiki/History_of_art\" title=\"History of art\">Art</a> (<a href=\"/wiki/History_of_architecture\" title=\"History of architecture\">Architecture</a>&#160;• <a href=\"/wiki/History_of_film\" title=\"History of film\">Film</a>&#160;• <a href=\"/wiki/History_of_painting\" title=\"History of painting\">Painting</a>)&#160;•  <a href=\"/wiki/History_of_dance\" title=\"History of dance\">Dance</a>&#160;• <a href=\"/wiki/History_of_music\" title=\"History of music\">Music</a>&#160;• <a href=\"/wiki/History_of_theatre\" title=\"History of theatre\">Theatre</a></dd></dl></dd></dl>\n",
      "<dl><dd><i><b><a href=\"/wiki/History_of_philosophy\" class=\"mw-redirect\" title=\"History of philosophy\">History of philosophy</a></b></i> <b>&#8211;</b> <a href=\"/wiki/Ancient_philosophy\" title=\"Ancient philosophy\">Ancient</a>&#160;• <a href=\"/wiki/Medieval_philosophy\" title=\"Medieval philosophy\">Medieval</a>&#160;• <a href=\"/wiki/Modern_philosophy\" title=\"Modern philosophy\">Modern</a>&#160;• <a href=\"/wiki/Contemporary_philosophy\" title=\"Contemporary philosophy\">Contemporary</a></dd></dl>\n",
      "<dl><dd><i><b><a href=\"/wiki/History_of_logic\" title=\"History of logic\">History of logic</a></b></i></dd></dl>\n",
      "<dl><dd><i><b><a href=\"/wiki/History_of_science\" title=\"History of science\">History of science</a></b></i> <b>&#8211;</b> <a href=\"/wiki/Sociology_of_the_history_of_science\" title=\"Sociology of the history of science\">Theories/sociology</a>&#160;• <a href=\"/wiki/Historiography_of_science\" title=\"Historiography of science\">Historiography</a>&#160;• <a href=\"/wiki/History_of_mathematics\" title=\"History of mathematics\">Mathematics</a>&#160;• <a href=\"/wiki/History_of_pseudoscience\" title=\"History of pseudoscience\">Pseudoscience</a>&#160;• <a href=\"/wiki/History_of_scientific_method\" title=\"History of scientific method\">Scientific method</a>\n",
      "<dl><dd><i><b><a href=\"/wiki/History_of_natural_science\" class=\"mw-redirect\" title=\"History of natural science\">History of the natural sciences</a></b></i> &#8211; <a href=\"/wiki/History_of_astronomy\" title=\"History of astronomy\">Astronomy</a>&#160;• <a href=\"/wiki/History_of_biology\" title=\"History of biology\">Biology</a>&#160;• <a href=\"/wiki/History_of_chemistry\" title=\"History of chemistry\">Chemistry</a>&#160;• <a href=\"/wiki/History_of_ecology\" title=\"History of ecology\">Ecology</a>&#160;• <a href=\"/wiki/History_of_geography\" title=\"History of geography\">Geography</a>&#160;• <a href=\"/wiki/History_of_physics\" title=\"History of physics\">Physics</a>&#160;• <a href=\"/wiki/History_of_geology\" title=\"History of geology\">Geology</a></dd></dl></dd></dl>\n",
      "<dl><dd><dl><dd><i><b><a href=\"/wiki/History_of_the_social_sciences\" title=\"History of the social sciences\">History of the social sciences</a></b></i> &#8211; <a href=\"/wiki/History_of_anthropology\" title=\"History of anthropology\">Anthropology</a>&#160;• <a href=\"/wiki/History_of_economic_thought\" title=\"History of economic thought\">Economics</a>&#160;• <a href=\"/wiki/History_of_education\" title=\"History of education\">Education</a>&#160;• <a href=\"/wiki/History_of_geography\" title=\"History of geography\">Geography</a>&#160;• <a href=\"/wiki/History_of_linguistics\" title=\"History of linguistics\">Linguistics</a>&#160;• <a href=\"/wiki/History_of_political_science\" title=\"History of political science\">Political science</a>&#160;• <a href=\"/wiki/History_of_psychology\" title=\"History of psychology\">Psychology</a>&#160;• <a href=\"/wiki/History_of_sociology\" title=\"History of sociology\">Sociology</a></dd></dl></dd></dl>\n",
      "<dl><dd><dl><dd><i><b>History of science by era</b></i> <b>&#8211;</b> <a href=\"/wiki/History_of_science_in_early_cultures\" title=\"History of science in early cultures\">In early cultures</a>&#160;• <a href=\"/wiki/History_of_science_in_Classical_Antiquity\" class=\"mw-redirect\" title=\"History of science in Classical Antiquity\">In Classical Antiquity</a>&#160;• <a href=\"/wiki/Science_in_the_Middle_Ages\" class=\"mw-redirect\" title=\"Science in the Middle Ages\">In the Middle Ages</a>&#160;• <a href=\"/wiki/History_of_science_in_the_Renaissance\" title=\"History of science in the Renaissance\">In the Renaissance</a>&#160;• <a href=\"/wiki/Scientific_revolution\" class=\"mw-redirect\" title=\"Scientific revolution\">Scientific Revolution</a></dd></dl></dd></dl>\n",
      "<dl><dd><i><b><a href=\"/wiki/History_of_technology\" title=\"History of technology\">History of technology</a></b></i>  <b>&#8211;</b> <a href=\"/wiki/History_of_agriculture\" title=\"History of agriculture\">Agriculture</a> &amp; <a href=\"/wiki/History_of_agricultural_science\" title=\"History of agricultural science\">agricultural science</a>&#160;• <a href=\"/wiki/History_of_biotechnology\" title=\"History of biotechnology\">Biotechnology</a>&#160;• <a href=\"/wiki/History_of_chemical_engineering\" title=\"History of chemical engineering\">Chemical engineering</a>&#160;• <a href=\"/wiki/History_of_communication\" title=\"History of communication\">Communication</a>&#160;• <a href=\"/wiki/History_of_computing\" title=\"History of computing\">Computing</a> (<a href=\"/wiki/History_of_computer_science\" title=\"History of computer science\">Computer science</a>, <a href=\"/wiki/History_of_software_engineering\" title=\"History of software engineering\">Software engineering</a>)&#160;• <a href=\"/wiki/History_of_electrical_engineering\" title=\"History of electrical engineering\">Electrical engineering</a>&#160;• <a href=\"/wiki/Timeline_of_historic_inventions\" title=\"Timeline of historic inventions\">Invention</a>&#160;• <a href=\"/wiki/History_of_materials_science\" title=\"History of materials science\">Materials science</a>&#160;• <a href=\"/wiki/History_of_measurement\" title=\"History of measurement\">Measurement</a>&#160;• <a href=\"/wiki/History_of_medicine\" title=\"History of medicine\">Medicine</a>&#160;• <a href=\"/wiki/Military_technology\" title=\"Military technology\">Military technology</a>&#160;• <a href=\"/wiki/History_of_transport\" title=\"History of transport\">Transport</a></dd></dl>\n",
      "<div style=\"clear:both;\"></div></div>\n",
      "<p><span id=\"Human_activities\"></span>\n",
      "</p>\n",
      "<div class=\"box-header-title-container flex-columns-noflex\" style=\"clear:both;color:black;margin-bottom:0px;border:solid 1px solid #A3BFB1;border-bottom:1px solid #A3BFB1;box-sizing:border-box;text-align:center;font-size:100%;background:#CEF2E0;font-family:sans-serif;padding:1em;;border-width:0px 0px 0;padding-top:.1em;padding-left:.1em;padding-right:.1em;padding-bottom:.1em;padding-top:.1em;moz-border-radius:0;webkit-border-radius:0;border-radius:0\"><div class=\"plainlinks noprint\" style=\"float:right;margin-bottom:.1em;color:black;font-size:80%\"><a class=\"external text\" href=\"https://en.wikipedia.org/w/index.php?title=Wikipedia%3AContents%2FOverviews%2FHuman_activities&amp;action=edit\"><span style=\"color:black\">edit</span></a>&#160;<a class=\"external text\" href=\"https://en.wikipedia.org/w/index.php?title=Wikipedia:Contents/Overviews/Human_activities&amp;action=watch\"><span style=\"color: black; min-width:40px; display:table-cell;\">watch</span></a>&#160;</div><h2 style=\"font-weight:bold;padding:0;margin:0;color:black;font-family:sans-serif;border:none;font-size:100%;padding-bottom:.1em;margin-left:60px\"><span id=\"Human_activities_.28see_in_all_page_types.29\"></span><span class=\"mw-headline\" id=\"Human_activities_(see_in_all_page_types)\"><big> <img alt=\"P Human activities.svg\" src=\"//upload.wikimedia.org/wikipedia/commons/thumb/2/2b/P_Human_activities.svg/30px-P_Human_activities.svg.png\" decoding=\"async\" width=\"30\" height=\"27\" srcset=\"//upload.wikimedia.org/wikipedia/commons/thumb/2/2b/P_Human_activities.svg/45px-P_Human_activities.svg.png 1.5x, //upload.wikimedia.org/wikipedia/commons/thumb/2/2b/P_Human_activities.svg/60px-P_Human_activities.svg.png 2x\" data-file-width=\"400\" data-file-height=\"360\" /> Human activities &#160;(<a href=\"/wiki/Wikipedia:Contents/Human_activities\" title=\"Wikipedia:Contents/Human activities\"><small>see in all page types</small></a>)</big></span></h2></div><div style=\"color:black;opacity:1;border:0px solid #A3BFB1;border-bottom:0px solid #A3BFB1;;box-sizing:border-box;text-align:left;padding:1em;;background:#F5FFFA;margin:0 0 10px;vertical-align:top;border-top-width:1px;padding-top:.3em;border-radius:0\">\n",
      "<p><i><b><a href=\"/wiki/Human_behavior\" title=\"Human behavior\">Human activity</a> &#8211;</b></i> <a href=\"/wiki/Portal:Contents/Overview/Culture_and_the_arts#Arts\" class=\"mw-redirect\" title=\"Portal:Contents/Overview/Culture and the arts\">Arts</a>&#160;• <a href=\"/wiki/Childraising\" class=\"mw-redirect\" title=\"Childraising\">Childraising</a> (<a href=\"/wiki/Babysitting\" title=\"Babysitting\">Babysitting</a>, <a href=\"/wiki/Child_care\" title=\"Child care\">Child care</a>)&#160;• <a href=\"/wiki/Crime\" title=\"Crime\">Crime</a> (<a href=\"/wiki/Harassment\" title=\"Harassment\">Harassment</a>, <a href=\"/wiki/Homicide\" title=\"Homicide\">Homicide</a>)&#160;• <a href=\"/wiki/Educating\" class=\"mw-redirect\" title=\"Educating\">Educating</a> (<a href=\"/wiki/Learning\" title=\"Learning\">Learning</a>, <a href=\"/wiki/Teaching\" class=\"mw-redirect\" title=\"Teaching\">Teaching</a>)&#160;• <a href=\"/wiki/Portal:Contents/Overview/Culture_and_the_arts#Arts\" class=\"mw-redirect\" title=\"Portal:Contents/Overview/Culture and the arts\">Entertainment</a>&#160;• <a href=\"/wiki/Portal:Contents/Overview/Health_and_fitness#Exercise\" class=\"mw-redirect\" title=\"Portal:Contents/Overview/Health and fitness\">Exercise</a>&#160;• <a href=\"/wiki/Exploration\" title=\"Exploration\">Exploration</a> (<a href=\"/wiki/Underwater_exploration\" class=\"mw-redirect\" title=\"Underwater exploration\">Underwater exploration</a>, <a href=\"/wiki/Space_exploration\" title=\"Space exploration\">Space exploration</a>)&#160;• <a href=\"/wiki/Globalization\" title=\"Globalization\">Globalization</a>&#160;• <a href=\"/wiki/Hobby\" title=\"Hobby\">Hobbies</a>&#160;• <a href=\"/wiki/Industrialisation\" title=\"Industrialisation\">Industrialisation</a>&#160;• <a href=\"/wiki/Innovation\" title=\"Innovation\">Innovation</a>&#160;• <a href=\"/wiki/Law_enforcement\" title=\"Law enforcement\">Law enforcement</a>&#160;• <a href=\"/wiki/Learning\" title=\"Learning\">Learning</a>&#160;• <a href=\"/wiki/Leisure\" title=\"Leisure\">Leisure activities</a>&#160;• <a href=\"/wiki/Management\" title=\"Management\">Management</a>&#160;• <a href=\"/wiki/Massage\" title=\"Massage\">Massage</a>&#160;• <a href=\"/wiki/Portal:Contents/Overview/Health_and_fitness#Medicine\" class=\"mw-redirect\" title=\"Portal:Contents/Overview/Health and fitness\">Medicine</a>&#160;• <a href=\"/wiki/Navigation\" title=\"Navigation\">Navigation</a>&#160;• <a href=\"/wiki/Portal:Contents/Overview/Philosophy_and_thinking#Philosophy\" class=\"mw-redirect\" title=\"Portal:Contents/Overview/Philosophy and thinking\">Philosophy</a>&#160;• <a href=\"/wiki/Politics\" title=\"Politics\">Politics</a> (<a href=\"/wiki/Governance\" title=\"Governance\">Governance</a>)&#160;• <a href=\"/wiki/Publishing\" title=\"Publishing\">Publishing</a>&#160;• <a href=\"/wiki/Portal:Contents/Overview/Culture_and_the_arts#Arts\" class=\"mw-redirect\" title=\"Portal:Contents/Overview/Culture and the arts\">Recreation</a>&#160;• <a href=\"/wiki/Religion\" title=\"Religion\">Practicing religion</a> (<a href=\"/wiki/Worship\" title=\"Worship\">Worship</a>)&#160;• <a href=\"/wiki/Human_reproduction\" title=\"Human reproduction\">Reproduction</a>&#160;• <a href=\"/wiki/Resource_consumption\" title=\"Resource consumption\">Resource consumption</a>&#160;• <a href=\"/wiki/Human_sexual_activity\" title=\"Human sexual activity\">Sex</a>&#160;• <a href=\"/wiki/Shopping\" title=\"Shopping\">Shopping</a>&#160;• <a href=\"/wiki/Spending\" class=\"mw-redirect\" title=\"Spending\">Spending</a>&#160;• <a href=\"/wiki/Sport\" title=\"Sport\">Sport</a>&#160;• <a href=\"/wiki/Portal:Contents/Overview/Philosophy_and_thinking#Thinking\" class=\"mw-redirect\" title=\"Portal:Contents/Overview/Philosophy and thinking\">Thinking</a>&#160;• <a href=\"/wiki/Transport\" title=\"Transport\">Transporting</a>&#160;• <a href=\"/wiki/Travel\" title=\"Travel\">Traveling</a>&#160;• <a href=\"/wiki/Underwater_diving\" title=\"Underwater diving\">Underwater diving</a>&#160;• <a href=\"/wiki/Warfare\" class=\"mw-redirect\" title=\"Warfare\">Warfare</a>\n",
      "</p>\n",
      "<dl><dd><i><b><a href=\"/wiki/Agriculture\" title=\"Agriculture\">Agriculture</a></b></i> &#8211; <a href=\"/wiki/Fisheries_management\" title=\"Fisheries management\">Fisheries management</a>&#160;• <a href=\"/wiki/Fishing\" title=\"Fishing\">Fishing</a>&#160;• <a href=\"/wiki/Forestry\" title=\"Forestry\">Forestry</a>&#160;• <a href=\"/wiki/Gardening\" title=\"Gardening\">Gardening</a>&#160;• <a href=\"/wiki/Horticulture\" title=\"Horticulture\">Horticulture</a>&#160;• <a href=\"/wiki/Ranching\" class=\"mw-redirect\" title=\"Ranching\">Ranching</a></dd>\n",
      "<dd><i><b><a href=\"/wiki/Business\" title=\"Business\">Business</a></b></i> &#8211; <a href=\"/wiki/Business_administration\" title=\"Business administration\">Business administration</a>&#160;• <a href=\"/wiki/Finance\" title=\"Finance\">Finance</a>&#160;• <a href=\"/wiki/Industry\" class=\"mw-disambig\" title=\"Industry\">Industry</a>&#160;• <a href=\"/wiki/Investing\" class=\"mw-redirect\" title=\"Investing\">Investing</a>&#160;• <a href=\"/wiki/Manufacturing\" title=\"Manufacturing\">Manufacturing</a>&#160;• <a href=\"/wiki/Marketing\" title=\"Marketing\">Marketing</a>&#160;• <a href=\"/wiki/Trade\" title=\"Trade\">Trading</a></dd>\n",
      "<dd><i><b><a href=\"/wiki/Communicating\" class=\"mw-redirect\" title=\"Communicating\">Communicating</a></b></i> &#8211; <a href=\"/wiki/Conversing\" class=\"mw-redirect\" title=\"Conversing\">Conversing</a>&#160;• <a href=\"/wiki/Listening\" title=\"Listening\">Listening</a>&#160;• <a href=\"/wiki/Reading\" title=\"Reading\">Reading</a>&#160;• <a href=\"/wiki/Speech\" title=\"Speech\">Talking</a>&#160;• <a href=\"/wiki/Writing\" title=\"Writing\">Writing</a>\n",
      "<dl><dd><i><b><a href=\"/wiki/Telecommunicating\" class=\"mw-redirect\" title=\"Telecommunicating\">Telecommunicating</a></b></i> &#8211; <a href=\"/wiki/Broadcasting\" title=\"Broadcasting\">Broadcasting</a> (<a href=\"/wiki/Radio_broadcasting\" title=\"Radio broadcasting\">Radio broadcasting</a>, <a href=\"/wiki/Television_broadcasting\" title=\"Television broadcasting\">Television broadcasting</a>)&#160;• <a href=\"/wiki/Email\" title=\"Email\">Email</a>&#160;• <a href=\"/wiki/Web_navigation\" title=\"Web navigation\">Web navigation</a></dd></dl></dd>\n",
      "<dd><i><b><a href=\"/wiki/Science\" title=\"Science\">Science</a></b></i> &#8211; <a href=\"/wiki/Portal:Contents/Overview/Technology_and_applied_sciences\" class=\"mw-redirect\" title=\"Portal:Contents/Overview/Technology and applied sciences\">Applied science</a>&#160;• <a href=\"/wiki/Portal:Contents/Overview/Mathematics_and_logic#Formal_science\" class=\"mw-redirect\" title=\"Portal:Contents/Overview/Mathematics and logic\">Formal science</a>&#160;• <a href=\"/wiki/Portal:Contents/Overview/Natural_and_physical_sciences\" class=\"mw-redirect\" title=\"Portal:Contents/Overview/Natural and physical sciences\">Natural science</a>&#160;• <a href=\"/wiki/Portal:Contents/Overview/Natural_and_physical_sciences#Physical_science\" class=\"mw-redirect\" title=\"Portal:Contents/Overview/Natural and physical sciences\">Physical science</a>&#160;• <a href=\"/wiki/Social_science\" title=\"Social science\">Social science</a></dd></dl>\n",
      "<p><i><b>Impact of human activity</b></i> &#8211; <a href=\"/wiki/Effects_of_the_car_on_societies\" title=\"Effects of the car on societies\">Cars, effects on society</a>&#160;• <a href=\"/wiki/Population_growth\" title=\"Population growth\">Population growth</a>&#160;• <a href=\"/wiki/Human_overpopulation\" title=\"Human overpopulation\">Human overpopulation</a>&#160;• <a href=\"/wiki/Overconsumption\" title=\"Overconsumption\">Overconsumption</a>&#160;• <a href=\"/wiki/Effects_of_war\" title=\"Effects of war\">War, effects of</a>\n",
      "</p>\n",
      "<dl><dd><i><b><a href=\"/wiki/Human_impact_on_the_environment\" title=\"Human impact on the environment\">Human impact on the environment</a></b></i> &#8211; <a href=\"/wiki/Biodiversity_loss\" title=\"Biodiversity loss\">Biodiversity loss</a>&#160;• <a href=\"/wiki/Conservation_movement\" title=\"Conservation movement\">Conservation</a>&#160;• <a href=\"/wiki/Defaunation\" title=\"Defaunation\">Defaunation</a>&#160;• <a href=\"/wiki/Deforestation\" title=\"Deforestation\">Deforestation</a>&#160;• <a href=\"/wiki/Desertification\" title=\"Desertification\">Desertification</a>&#160;• <a href=\"/wiki/Ecological_crises\" class=\"mw-redirect\" title=\"Ecological crises\">Ecological crises</a>&#160;• <a href=\"/wiki/Environmental_degradation\" title=\"Environmental degradation\">Environmental degradation</a>&#160;• <a href=\"/wiki/Environmentalism\" title=\"Environmentalism\">Environmentalism</a>&#160;• <a href=\"/wiki/Forest_degradation\" title=\"Forest degradation\">Forest degradation</a>&#160;• <a href=\"/wiki/Global_warming\" class=\"mw-redirect\" title=\"Global warming\">Global warming</a>&#160;• <a href=\"/wiki/Habitat_destruction\" title=\"Habitat destruction\">Habitat destruction</a>&#160;• <a href=\"/wiki/Habitat_fragmentation\" title=\"Habitat fragmentation\">Habitat fragmentation</a>&#160;• <a href=\"/wiki/Holocene_extinction\" title=\"Holocene extinction\">Holocene extinction event</a>&#160;• <a href=\"/wiki/Land_degradation\" title=\"Land degradation\">Land degradation</a>&#160;• <a href=\"/wiki/Ocean_acidification\" title=\"Ocean acidification\">Ocean acidification</a>&#160;• <a href=\"/wiki/Ozone_depletion\" title=\"Ozone depletion\">Ozone depletion</a>&#160;• <a href=\"/wiki/Pollution\" title=\"Pollution\">Pollution</a>&#160;• <a href=\"/wiki/Resource_depletion\" title=\"Resource depletion\">Resource depletion</a></dd></dl>\n",
      "<div style=\"clear:both;\"></div></div>\n",
      "<p><span id=\"Mathematics_and_logic\"></span>\n",
      "</p>\n",
      "<div class=\"box-header-title-container flex-columns-noflex\" style=\"clear:both;color:black;margin-bottom:0px;border:solid 1px solid #A3BFB1;border-bottom:1px solid #A3BFB1;box-sizing:border-box;text-align:center;font-size:100%;background:#CEF2E0;font-family:sans-serif;padding:1em;;border-width:0px 0px 0;padding-top:.1em;padding-left:.1em;padding-right:.1em;padding-bottom:.1em;padding-top:.1em;moz-border-radius:0;webkit-border-radius:0;border-radius:0\"><div class=\"plainlinks noprint\" style=\"float:right;margin-bottom:.1em;color:black;font-size:80%\"><a class=\"external text\" href=\"https://en.wikipedia.org/w/index.php?title=Wikipedia%3AContents%2FOverviews%2FMathematics_and_logic&amp;action=edit\"><span style=\"color:black\">edit</span></a>&#160;<a class=\"external text\" href=\"https://en.wikipedia.org/w/index.php?title=Wikipedia:Contents/Overviews/Mathematics_and_logic&amp;action=watch\"><span style=\"color: black; min-width:40px; display:table-cell;\">watch</span></a>&#160;</div><h2 style=\"font-weight:bold;padding:0;margin:0;color:black;font-family:sans-serif;border:none;font-size:100%;padding-bottom:.1em;margin-left:60px\"><span id=\"Mathematics_and_logic_.28see_in_all_page_types.29\"></span><span class=\"mw-headline\" id=\"Mathematics_and_logic_(see_in_all_page_types)\"><big> <img alt=\"P mathematics.svg\" src=\"//upload.wikimedia.org/wikipedia/commons/thumb/b/b7/P_mathematics.svg/30px-P_mathematics.svg.png\" decoding=\"async\" width=\"30\" height=\"27\" srcset=\"//upload.wikimedia.org/wikipedia/commons/thumb/b/b7/P_mathematics.svg/45px-P_mathematics.svg.png 1.5x, //upload.wikimedia.org/wikipedia/commons/thumb/b/b7/P_mathematics.svg/60px-P_mathematics.svg.png 2x\" data-file-width=\"400\" data-file-height=\"360\" /> Mathematics and logic &#160;(<a href=\"/wiki/Wikipedia:Contents/Mathematics_and_logic\" title=\"Wikipedia:Contents/Mathematics and logic\"><small>see in all page types</small></a>)</big></span></h2></div><div style=\"color:black;opacity:1;border:0px solid #A3BFB1;border-bottom:0px solid #A3BFB1;;box-sizing:border-box;text-align:left;padding:1em;;background:#F5FFFA;margin:0 0 10px;vertical-align:top;border-top-width:1px;padding-top:.3em;border-radius:0\">\n",
      "<p><span class=\"anchor\" id=\"Formal_science\"></span><i><b><a href=\"/wiki/Formal_science\" title=\"Formal science\">Formal sciences</a></b></i>&#160;&#8211;\n",
      "<a href=\"/wiki/Information_theory\" title=\"Information theory\">Information theory</a>&#160;•\n",
      "<a href=\"/wiki/Logic\" title=\"Logic\">Logic</a>&#160;•\n",
      "<a href=\"/wiki/Statistics\" title=\"Statistics\">Statistics</a>&#160;•\n",
      "<a href=\"/wiki/Theoretical_computer_science\" title=\"Theoretical computer science\">Theoretical computer science</a>\n",
      "</p>\n",
      "<dl><dd><i><b><a href=\"/wiki/Mathematics\" title=\"Mathematics\">Mathematics</a></b></i>&#160;&#8211; <a href=\"/wiki/Algebra\" title=\"Algebra\">Algebra</a>&#160;• <a href=\"/wiki/Applied_mathematics\" title=\"Applied mathematics\">Applied mathematics</a>&#160;•  <a href=\"/wiki/Arithmetic\" title=\"Arithmetic\">Arithmetic</a>&#160;• <a href=\"/wiki/Calculus\" title=\"Calculus\">Calculus</a>&#160;• <a href=\"/wiki/Equation\" title=\"Equation\">Equations</a>&#160;• <a href=\"/wiki/Geometry\" title=\"Geometry\">Geometry</a>&#160;• <a href=\"/wiki/Mathematical_analysis\" title=\"Mathematical analysis\">Mathematical analysis</a>&#160;• <a href=\"/wiki/Mathematics_education\" title=\"Mathematics education\">Mathematics education</a>&#160;• <a href=\"/wiki/Mathematical_practice\" title=\"Mathematical practice\">Mathematical practice</a>&#160;• <a href=\"/wiki/Measurement\" title=\"Measurement\">Measurement</a>&#160;• <a href=\"/wiki/Number\" title=\"Number\">Numbers</a>&#160;• <a href=\"/wiki/Philosophy_of_mathematics\" title=\"Philosophy of mathematics\">Philosophy of mathematics</a>&#160;• <a href=\"/wiki/Probability\" title=\"Probability\">Probability</a>&#160;• <a href=\"/wiki/Mathematical_proof\" title=\"Mathematical proof\">Proofs</a>&#160;• <a href=\"/wiki/Theorem\" title=\"Theorem\">Theorems</a>&#160; • <a href=\"/wiki/Topology\" title=\"Topology\">Topology</a>&#160;• <a href=\"/wiki/Trigonometry\" title=\"Trigonometry\">Trigonometry</a>&#160;• <a href=\"/wiki/Unsolved_problems_in_mathematics\" class=\"mw-redirect\" title=\"Unsolved problems in mathematics\">Unsolved problems in mathematics</a></dd></dl>\n",
      "<div style=\"clear:both;\"></div></div>\n",
      "<p><span id=\"Natural_and_physical_sciences\"></span>\n",
      "</p>\n",
      "<div class=\"box-header-title-container flex-columns-noflex\" style=\"clear:both;color:black;margin-bottom:0px;border:solid 1px solid #A3BFB1;border-bottom:1px solid #A3BFB1;box-sizing:border-box;text-align:center;font-size:100%;background:#CEF2E0;font-family:sans-serif;padding:1em;;border-width:0px 0px 0;padding-top:.1em;padding-left:.1em;padding-right:.1em;padding-bottom:.1em;padding-top:.1em;moz-border-radius:0;webkit-border-radius:0;border-radius:0\"><div class=\"plainlinks noprint\" style=\"float:right;margin-bottom:.1em;color:black;font-size:80%\"><a class=\"external text\" href=\"https://en.wikipedia.org/w/index.php?title=Wikipedia%3AContents%2FOverviews%2FNatural_and_physical_sciences&amp;action=edit\"><span style=\"color:black\">edit</span></a>&#160;<a class=\"external text\" href=\"https://en.wikipedia.org/w/index.php?title=Wikipedia:Contents/Overviews/Natural_and_physical_sciences&amp;action=watch\"><span style=\"color: black; min-width:40px; display:table-cell;\">watch</span></a>&#160;</div><h2 style=\"font-weight:bold;padding:0;margin:0;color:black;font-family:sans-serif;border:none;font-size:100%;padding-bottom:.1em;margin-left:60px\"><span id=\"Natural_and_physical_sciences_.28see_in_all_page_types.29\"></span><span class=\"mw-headline\" id=\"Natural_and_physical_sciences_(see_in_all_page_types)\"><big> <img alt=\"P physics.svg\" src=\"//upload.wikimedia.org/wikipedia/commons/thumb/b/b4/P_physics.svg/30px-P_physics.svg.png\" decoding=\"async\" width=\"30\" height=\"27\" srcset=\"//upload.wikimedia.org/wikipedia/commons/thumb/b/b4/P_physics.svg/45px-P_physics.svg.png 1.5x, //upload.wikimedia.org/wikipedia/commons/thumb/b/b4/P_physics.svg/60px-P_physics.svg.png 2x\" data-file-width=\"400\" data-file-height=\"360\" /> Natural and physical sciences &#160;(<a href=\"/wiki/Wikipedia:Contents/Natural_and_physical_sciences\" title=\"Wikipedia:Contents/Natural and physical sciences\"><small>see in all page types</small></a>)</big></span></h2></div><div style=\"color:black;opacity:1;border:0px solid #A3BFB1;border-bottom:0px solid #A3BFB1;;box-sizing:border-box;text-align:left;padding:1em;;background:#F5FFFA;margin:0 0 10px;vertical-align:top;border-top-width:1px;padding-top:.3em;border-radius:0\">\n",
      "<dl><dd><i>Main articles: <a href=\"/wiki/Natural_science\" title=\"Natural science\">Natural science</a> and <a href=\"/wiki/Nature\" title=\"Nature\">Nature</a></i>&#160;&#160; <i>See also <a href=\"/wiki/Science\" title=\"Science\">Science</a>, <a href=\"/wiki/Scientific_method\" title=\"Scientific method\">Scientific method</a>, <a href=\"/wiki/Scientist\" title=\"Scientist\">Scientist</a>, <a href=\"/wiki/Scientific_misconduct\" title=\"Scientific misconduct\">Scientific misconduct</a>, and <a href=\"/wiki/Fields_of_science\" class=\"mw-redirect\" title=\"Fields of science\">Fields of science</a></i></dd></dl>\n",
      "<p><i><b><a href=\"/wiki/Biology\" title=\"Biology\">Biology</a></b></i> <b>&#8211;</b> \n",
      "<a href=\"/wiki/Anatomy\" title=\"Anatomy\">Anatomy</a> (<a href=\"/wiki/Human_anatomy\" class=\"mw-redirect\" title=\"Human anatomy\">Human anatomy</a>)&#160;• \n",
      "<a href=\"/wiki/Astrobiology\" title=\"Astrobiology\">Astrobiology</a>&#160;• \n",
      "<a href=\"/wiki/Biochemistry\" title=\"Biochemistry\">Biochemistry</a>&#160;• \n",
      "<a href=\"/wiki/Bioinformatics\" title=\"Bioinformatics\">Bioinformatics</a>&#160;• \n",
      "<a href=\"/wiki/Biological_anthropology\" title=\"Biological anthropology\">Biological anthropology</a>&#160;• \n",
      "<a href=\"/wiki/Biophysics\" title=\"Biophysics\">Biophysics</a>&#160;• \n",
      "<a href=\"/wiki/Botany\" title=\"Botany\">Botany</a>&#160;• \n",
      "<a href=\"/wiki/Cell_biology\" title=\"Cell biology\">Cell biology</a>&#160;• \n",
      "<a href=\"/wiki/Computational_biology\" title=\"Computational biology\">Computational biology</a>&#160;•\n",
      "<a href=\"/wiki/Developmental_biology\" title=\"Developmental biology\">Developmental biology</a>&#160;• \n",
      "<a href=\"/wiki/Ecology\" title=\"Ecology\">Ecology</a>&#160;• \n",
      "<a href=\"/wiki/Evolutionary_biology\" title=\"Evolutionary biology\">Evolutionary biology</a>&#160;• \n",
      "<a href=\"/wiki/Genetics\" title=\"Genetics\">Genetics</a> (<a href=\"/wiki/Molecular_genetics\" title=\"Molecular genetics\">Molecular genetics</a>, <a href=\"/wiki/Population_genetics\" title=\"Population genetics\">Population genetics</a>)&#160;• \n",
      "<a href=\"/wiki/Genomics\" title=\"Genomics\">Genomics</a>&#160;• \n",
      "<a href=\"/wiki/Marine_biology\" title=\"Marine biology\">Marine biology</a>&#160;• \n",
      "<a href=\"/wiki/Histology\" title=\"Histology\">Histology</a>&#160;• \n",
      "<a href=\"/wiki/Human_biology\" title=\"Human biology\">Human biology</a>&#160;• \n",
      "<a href=\"/wiki/Immunology\" title=\"Immunology\">Immunology</a>&#160;• \n",
      "<a href=\"/wiki/Microbiology\" title=\"Microbiology\">Microbiology</a>&#160;• \n",
      "<a href=\"/wiki/Molecular_biology\" title=\"Molecular biology\">Molecular biology</a>&#160;•\n",
      "<a href=\"/wiki/Neuroscience\" title=\"Neuroscience\">Neuroscience</a>&#160;• \n",
      "<a href=\"/wiki/Origin_of_life\" class=\"mw-redirect\" title=\"Origin of life\">Origin of life</a>&#160;•\n",
      "<a href=\"/wiki/Paleontology\" title=\"Paleontology\">Paleontology</a>&#160;• \n",
      "<a href=\"/wiki/Parasitology\" title=\"Parasitology\">Parasitology</a>&#160;• \n",
      "<a href=\"/wiki/Pathology\" title=\"Pathology\">Pathology</a>&#160;•\n",
      "<a href=\"/wiki/Physiology\" title=\"Physiology\">Physiology</a>&#160;• \n",
      "<a href=\"/wiki/Alpha_taxonomy\" class=\"mw-redirect\" title=\"Alpha taxonomy\">Taxonomy</a>&#160;• \n",
      "<a href=\"/wiki/Zoology\" title=\"Zoology\">Zoology</a> (<a href=\"/wiki/Ethology\" title=\"Ethology\">Ethology</a>)\n",
      "</p><p><span class=\"anchor\" id=\"Physical_science\"></span><i><b><a href=\"/wiki/Physical_science\" class=\"mw-redirect\" title=\"Physical science\">Physical sciences</a></b></i> <b>&#8211;</b> \n",
      "<a href=\"/wiki/Earth_science\" title=\"Earth science\">Earth science</a>&#160;•\n",
      "<a href=\"/wiki/Systems_theory\" title=\"Systems theory\">Systems theory</a>\n",
      "</p>\n",
      "<dl><dd><i><b><a href=\"/wiki/Astronomy\" title=\"Astronomy\">Astronomy</a></b></i>&#160;&#8211; <a href=\"/wiki/Optical_astronomy\" class=\"mw-redirect\" title=\"Optical astronomy\">Optical astronomy</a> • <a href=\"/wiki/Infrared_astronomy\" title=\"Infrared astronomy\">Infrared astronomy</a> • <a href=\"/wiki/Radio_astronomy\" title=\"Radio astronomy\">Radio astronomy</a> • <a href=\"/wiki/High-energy_astronomy\" title=\"High-energy astronomy\">High-energy astronomy</a> • <a href=\"/wiki/Occultation\" title=\"Occultation\">Occultation</a>\n",
      "<dl><dd><i><b><a href=\"/wiki/Astronomical_object\" title=\"Astronomical object\">Astronomical object</a></b></i>&#160;&#8211; <a href=\"/wiki/Planet\" title=\"Planet\">Planet</a> • <a href=\"/wiki/Dwarf_planet\" title=\"Dwarf planet\">Dwarf planet</a> • <a href=\"/wiki/Exoplanet\" title=\"Exoplanet\">Exoplanet</a> • <a href=\"/wiki/Stars\" class=\"mw-redirect\" title=\"Stars\">Stars</a> • <a href=\"/wiki/Solar_system\" class=\"mw-redirect\" title=\"Solar system\">Solar system</a> • <a href=\"/wiki/Constellation\" title=\"Constellation\">Constellation</a> • <a href=\"/wiki/Star_cluster\" title=\"Star cluster\">Star cluster</a> • <a href=\"/wiki/Nebulae\" class=\"mw-redirect\" title=\"Nebulae\">Nebulae</a> • <a href=\"/wiki/Galaxies\" class=\"mw-redirect\" title=\"Galaxies\">Galaxies</a> • <a href=\"/wiki/Galaxy_cluster\" title=\"Galaxy cluster\">Galaxy cluster</a> • <a href=\"/wiki/Black_holes\" class=\"mw-redirect\" title=\"Black holes\">Black holes</a> • <a href=\"/wiki/Neutron_stars\" class=\"mw-redirect\" title=\"Neutron stars\">Neutron stars</a> • <a href=\"/wiki/Supernovae\" class=\"mw-redirect\" title=\"Supernovae\">Supernovae</a></dd></dl></dd></dl>\n",
      "<dl><dd><i><b><a href=\"/wiki/Chemistry\" title=\"Chemistry\">Chemistry</a></b></i>&#160;<b>&#8211;</b> <a href=\"/wiki/Analytical_chemistry\" title=\"Analytical chemistry\">Analytical chemistry</a> • <a href=\"/wiki/Atomic_theory\" title=\"Atomic theory\">Atomic theory</a> • <a href=\"/wiki/Biochemistry\" title=\"Biochemistry\">Biochemistry</a> • <a href=\"/wiki/Chemical_bond\" title=\"Chemical bond\">Chemical bond</a> • <a href=\"/wiki/Chemical_equilibrium\" title=\"Chemical equilibrium\">Chemical equilibrium</a> • <a href=\"/wiki/Chemical_industry\" title=\"Chemical industry\">Chemical industry</a> • <a href=\"/wiki/Chemical_law\" title=\"Chemical law\">Chemical laws</a> • <a href=\"/wiki/Chemical_reaction\" title=\"Chemical reaction\">Chemical reaction</a> • <a href=\"/wiki/Glossary_of_chemical_formulas\" class=\"mw-redirect\" title=\"Glossary of chemical formulas\">Chemical formulas</a> • <a href=\"/wiki/List_of_chemists\" title=\"List of chemists\">Chemists</a> • <a href=\"/wiki/Electrochemistry\" title=\"Electrochemistry\">Electrochemistry</a> • <a href=\"/wiki/Energy\" title=\"Energy\">Energy</a> • <a href=\"/wiki/History_of_chemistry\" title=\"History of chemistry\">History of chemistry</a> • <a href=\"/wiki/List_of_inorganic_compounds\" title=\"List of inorganic compounds\">Inorganic compounds</a> •  <a href=\"/wiki/Materials_science\" title=\"Materials science\">Materials science</a> • <a href=\"/wiki/Ion\" title=\"Ion\">Ion</a> • <a href=\"/wiki/Periodic_table\" title=\"Periodic table\">Periodic table</a> • <a href=\"/wiki/PH\" title=\"PH\">pH</a> • <a href=\"/wiki/Phase_(matter)\" title=\"Phase (matter)\">Phase</a> • <a href=\"/wiki/Polymer_chemistry\" title=\"Polymer chemistry\">Polymer chemistry</a> • <a href=\"/wiki/Redox\" title=\"Redox\">Redox</a> • <a href=\"/wiki/Thermochemistry\" title=\"Thermochemistry\">Thermochemistry</a>\n",
      "<dl><dd><i><b><a href=\"/wiki/Matter\" title=\"Matter\">Matter</a></b></i> &#8211; <a href=\"/wiki/Atom\" title=\"Atom\">Atom</a> • <a href=\"/wiki/Chemical_compound\" title=\"Chemical compound\">Compound</a> • <a href=\"/wiki/Molecule\" title=\"Molecule\">Molecule</a> • <a href=\"/wiki/Chemical_substance\" title=\"Chemical substance\">Substance</a> (<a href=\"/wiki/Acid\" title=\"Acid\">Acid</a>, <a href=\"/wiki/Base_(chemistry)\" title=\"Base (chemistry)\">Base</a>)\n",
      "<dl><dd><i><b><a href=\"/wiki/Chemical_element\" title=\"Chemical element\">Chemical elements</a></b></i>&#160;&#8211;  <a href=\"/wiki/Actinium\" title=\"Actinium\">Actinium</a> • <a href=\"/wiki/Aluminium\" title=\"Aluminium\">Aluminium</a> • <a href=\"/wiki/Americium\" title=\"Americium\">Americium</a> • <a href=\"/wiki/Antimony\" title=\"Antimony\">Antimony</a> • <a href=\"/wiki/Argon\" title=\"Argon\">Argon</a> • <a href=\"/wiki/Arsenic\" title=\"Arsenic\">Arsenic</a> • <a href=\"/wiki/Astatine\" title=\"Astatine\">Astatine</a> • <a href=\"/wiki/Barium\" title=\"Barium\">Barium</a> • <a href=\"/wiki/Berkelium\" title=\"Berkelium\">Berkelium</a> • <a href=\"/wiki/Beryllium\" title=\"Beryllium\">Beryllium</a> • <a href=\"/wiki/Bismuth\" title=\"Bismuth\">Bismuth</a> • <a href=\"/wiki/Bohrium\" title=\"Bohrium\">Bohrium</a> • <a href=\"/wiki/Boron\" title=\"Boron\">Boron</a> • <a href=\"/wiki/Bromine\" title=\"Bromine\">Bromine</a> • <a href=\"/wiki/Cadmium\" title=\"Cadmium\">Cadmium</a> • <a href=\"/wiki/Caesium\" title=\"Caesium\">Caesium</a> • <a href=\"/wiki/Calcium\" title=\"Calcium\">Calcium</a> • <a href=\"/wiki/Californium\" title=\"Californium\">Californium</a> • <a href=\"/wiki/Carbon\" title=\"Carbon\">Carbon</a> • <a href=\"/wiki/Cerium\" title=\"Cerium\">Cerium</a> • <a href=\"/wiki/Chlorine\" title=\"Chlorine\">Chlorine</a> • <a href=\"/wiki/Chromium\" title=\"Chromium\">Chromium</a> • <a href=\"/wiki/Cobalt\" title=\"Cobalt\">Cobalt</a> • <a href=\"/wiki/Copernicium\" title=\"Copernicium\">Copernicium</a> • <a href=\"/wiki/Copper\" title=\"Copper\">Copper</a> • <a href=\"/wiki/Curium\" title=\"Curium\">Curium</a> • <a href=\"/wiki/Darmstadtium\" title=\"Darmstadtium\">Darmstadtium</a> • <a href=\"/wiki/Dubnium\" title=\"Dubnium\">Dubnium</a> • <a href=\"/wiki/Dysprosium\" title=\"Dysprosium\">Dysprosium</a> • <a href=\"/wiki/Einsteinium\" title=\"Einsteinium\">Einsteinium</a> • <a href=\"/wiki/Erbium\" title=\"Erbium\">Erbium</a> • <a href=\"/wiki/Europium\" title=\"Europium\">Europium</a> • <a href=\"/wiki/Fermium\" title=\"Fermium\">Fermium</a> • <a href=\"/wiki/Flerovium\" title=\"Flerovium\">Flerovium (Ununquadium)</a> • <a href=\"/wiki/Fluorine\" title=\"Fluorine\">Fluorine</a> • <a href=\"/wiki/Francium\" title=\"Francium\">Francium</a> • <a href=\"/wiki/Gadolinium\" title=\"Gadolinium\">Gadolinium</a> • <a href=\"/wiki/Gallium\" title=\"Gallium\">Gallium</a> • <a href=\"/wiki/Germanium\" title=\"Germanium\">Germanium</a> • <a href=\"/wiki/Gold\" title=\"Gold\">Gold</a> • <a href=\"/wiki/Hafnium\" title=\"Hafnium\">Hafnium</a>  • <a href=\"/wiki/Hassium\" title=\"Hassium\">Hassium</a> • <a href=\"/wiki/Helium\" title=\"Helium\">Helium</a> • <a href=\"/wiki/Holmium\" title=\"Holmium\">Holmium</a> • <a href=\"/wiki/Hydrogen\" title=\"Hydrogen\">Hydrogen</a> • <a href=\"/wiki/Indium\" title=\"Indium\">Indium</a> • <a href=\"/wiki/Iodine\" title=\"Iodine\">Iodine</a> • <a href=\"/wiki/Iridium\" title=\"Iridium\">Iridium</a> • <a href=\"/wiki/Iron\" title=\"Iron\">Iron</a> • <a href=\"/wiki/Krypton\" title=\"Krypton\">Krypton</a> • <a href=\"/wiki/Lanthanum\" title=\"Lanthanum\">Lanthanum</a> • <a href=\"/wiki/Lawrencium\" title=\"Lawrencium\">Lawrencium</a> • <a href=\"/wiki/Lead\" title=\"Lead\">Lead</a> • <a href=\"/wiki/Lithium\" title=\"Lithium\">Lithium</a> • <a href=\"/wiki/Livermorium\" title=\"Livermorium\">Livermorium (Ununhexium)</a> • <a href=\"/wiki/Lutetium\" title=\"Lutetium\">Lutetium</a> • <a href=\"/wiki/Magnesium\" title=\"Magnesium\">Magnesium</a> • <a href=\"/wiki/Manganese\" title=\"Manganese\">Manganese</a> • <a href=\"/wiki/Meitnerium\" title=\"Meitnerium\">Meitnerium</a> • <a href=\"/wiki/Mendelevium\" title=\"Mendelevium\">Mendelevium</a> • <a href=\"/wiki/Mercury_(element)\" title=\"Mercury (element)\">Mercury</a> • <a href=\"/wiki/Molybdenum\" title=\"Molybdenum\">Molybdenum</a> • <a href=\"/wiki/Moscovium\" title=\"Moscovium\">Moscovium (Ununpentium)</a> • <a href=\"/wiki/Neodymium\" title=\"Neodymium\">Neodymium</a> • <a href=\"/wiki/Neon\" title=\"Neon\">Neon</a> • <a href=\"/wiki/Neptunium\" title=\"Neptunium\">Neptunium</a> • <a href=\"/wiki/Nickel\" title=\"Nickel\">Nickel</a> • <a href=\"/wiki/Nihonium\" title=\"Nihonium\">Nihonium (Ununtrium)</a> • <a href=\"/wiki/Niobium\" title=\"Niobium\">Niobium</a> • <a href=\"/wiki/Nitrogen\" title=\"Nitrogen\">Nitrogen</a> • <a href=\"/wiki/Nobelium\" title=\"Nobelium\">Nobelium</a> • <a href=\"/wiki/Oganesson\" title=\"Oganesson\">Oganesson (Ununoctium)</a> • <a href=\"/wiki/Osmium\" title=\"Osmium\">Osmium</a> • <a href=\"/wiki/Oxygen\" title=\"Oxygen\">Oxygen</a> • <a href=\"/wiki/Palladium\" title=\"Palladium\">Palladium</a> • <a href=\"/wiki/Phosphorus\" title=\"Phosphorus\">Phosphorus</a> • <a href=\"/wiki/Platinum\" title=\"Platinum\">Platinum</a> • <a href=\"/wiki/Plutonium\" title=\"Plutonium\">Plutonium</a> • <a href=\"/wiki/Polonium\" title=\"Polonium\">Polonium</a> • <a href=\"/wiki/Potassium\" title=\"Potassium\">Potassium</a> • <a href=\"/wiki/Praseodymium\" title=\"Praseodymium\">Praseodymium</a> • <a href=\"/wiki/Promethium\" title=\"Promethium\">Promethium</a> • <a href=\"/wiki/Protactinium\" title=\"Protactinium\">Protactinium</a> • <a href=\"/wiki/Radium\" title=\"Radium\">Radium</a>  • <a href=\"/wiki/Radon\" title=\"Radon\">Radon</a> • <a href=\"/wiki/Rhenium\" title=\"Rhenium\">Rhenium</a> • <a href=\"/wiki/Rhodium\" title=\"Rhodium\">Rhodium</a> • <a href=\"/wiki/Roentgenium\" title=\"Roentgenium\">Roentgenium</a> • <a href=\"/wiki/Rubidium\" title=\"Rubidium\">Rubidium</a> • <a href=\"/wiki/Ruthenium\" title=\"Ruthenium\">Ruthenium</a> • <a href=\"/wiki/Rutherfordium\" title=\"Rutherfordium\">Rutherfordium</a> • <a href=\"/wiki/Samarium\" title=\"Samarium\">Samarium</a> • <a href=\"/wiki/Scandium\" title=\"Scandium\">Scandium</a> • <a href=\"/wiki/Seaborgium\" title=\"Seaborgium\">Seaborgium</a> • <a href=\"/wiki/Selenium\" title=\"Selenium\">Selenium</a> • <a href=\"/wiki/Silicon\" title=\"Silicon\">Silicon</a> • <a href=\"/wiki/Silver\" title=\"Silver\">Silver</a> • <a href=\"/wiki/Sodium\" title=\"Sodium\">Sodium</a> • <a href=\"/wiki/Strontium\" title=\"Strontium\">Strontium</a> • <a href=\"/wiki/Sulfur\" title=\"Sulfur\">Sulfur</a> • <a href=\"/wiki/Tantalum\" title=\"Tantalum\">Tantalum</a> • <a href=\"/wiki/Technetium\" title=\"Technetium\">Technetium</a> • <a href=\"/wiki/Tellurium\" title=\"Tellurium\">Tellurium</a> • <a href=\"/wiki/Tennessine\" title=\"Tennessine\">Tennessine (Ununseptium)</a> • <a href=\"/wiki/Terbium\" title=\"Terbium\">Terbium</a> • <a href=\"/wiki/Thallium\" title=\"Thallium\">Thallium</a> • <a href=\"/wiki/Thorium\" title=\"Thorium\">Thorium</a> • <a href=\"/wiki/Thulium\" title=\"Thulium\">Thulium</a> • <a href=\"/wiki/Tin\" title=\"Tin\">Tin</a> • <a href=\"/wiki/Titanium\" title=\"Titanium\">Titanium</a> • <a href=\"/wiki/Tungsten\" title=\"Tungsten\">Tungsten</a> • <a href=\"/wiki/Uranium\" title=\"Uranium\">Uranium</a> • <a href=\"/wiki/Vanadium\" title=\"Vanadium\">Vanadium</a> • <a href=\"/wiki/Xenon\" title=\"Xenon\">Xenon</a> • <a href=\"/wiki/Ytterbium\" title=\"Ytterbium\">Ytterbium</a> • <a href=\"/wiki/Yttrium\" title=\"Yttrium\">Yttrium</a> • <a href=\"/wiki/Zinc\" title=\"Zinc\">Zinc</a> • <a href=\"/wiki/Zirconium\" title=\"Zirconium\">Zirconium</a></dd></dl></dd></dl></dd></dl>\n",
      "<dl><dd><i><b><a href=\"/wiki/Physics\" title=\"Physics\">Physics</a></b></i> &#8211; <a href=\"/wiki/Atom\" title=\"Atom\">Atom</a> • <a href=\"/wiki/Atomic_nucleus\" title=\"Atomic nucleus\">Atomic nucleus</a> • <a href=\"/wiki/Color\" title=\"Color\">Color</a> • <a href=\"/wiki/Elementary_particle\" title=\"Elementary particle\">Elementary particle</a> • <a href=\"/wiki/Force\" title=\"Force\">Force</a> • <a href=\"/wiki/Gravitation\" class=\"mw-redirect\" title=\"Gravitation\">Gravitation</a> • <a href=\"/wiki/Mass\" title=\"Mass\">Mass</a> • <a href=\"/wiki/Matter\" title=\"Matter\">Matter</a> • <a href=\"/wiki/Optics\" title=\"Optics\">Optics</a> • <a href=\"/wiki/Phase_(matter)\" title=\"Phase (matter)\">Phase</a> • <a href=\"/wiki/Quantum_mechanics\" title=\"Quantum mechanics\">Quantum mechanics</a> • <a href=\"/wiki/Sound\" title=\"Sound\">Sound</a> • <a href=\"/wiki/Speed\" title=\"Speed\">Speed</a> • <a href=\"/wiki/Time\" title=\"Time\">Time</a> • <a href=\"/wiki/Weight\" title=\"Weight\">Weight</a> • <a href=\"/wiki/Energy\" title=\"Energy\">Energy</a> • <a href=\"/wiki/Radiation\" title=\"Radiation\">Radiation</a> • <a href=\"/wiki/Electromagnetic_radiation\" title=\"Electromagnetic radiation\">Electromagnetic radiation</a> • <a href=\"/wiki/Visible_spectrum\" title=\"Visible spectrum\">Visible spectrum</a> • <a href=\"/wiki/Special_relativity\" title=\"Special relativity\">Special relativity</a> • <a href=\"/wiki/General_relativity\" title=\"General relativity\">General relativity</a> • <a href=\"/wiki/Electromagnetism\" title=\"Electromagnetism\">Electromagnetism</a> • <a href=\"/wiki/Standard_Model\" title=\"Standard Model\">Standard Model</a> • <a href=\"/wiki/Classical_mechanics\" title=\"Classical mechanics\">Classical mechanics</a> • <a href=\"/wiki/Unsolved_problems_in_physics\" class=\"mw-redirect\" title=\"Unsolved problems in physics\">Unsolved problems in physics</a></dd></dl>\n",
      "<div style=\"clear:both;\"></div></div>\n",
      "<p><span id=\"People_and_self\"></span>\n",
      "</p>\n",
      "<div class=\"box-header-title-container flex-columns-noflex\" style=\"clear:both;color:black;margin-bottom:0px;border:solid 1px solid #A3BFB1;border-bottom:1px solid #A3BFB1;box-sizing:border-box;text-align:center;font-size:100%;background:#CEF2E0;font-family:sans-serif;padding:1em;;border-width:0px 0px 0;padding-top:.1em;padding-left:.1em;padding-right:.1em;padding-bottom:.1em;padding-top:.1em;moz-border-radius:0;webkit-border-radius:0;border-radius:0\"><div class=\"plainlinks noprint\" style=\"float:right;margin-bottom:.1em;color:black;font-size:80%\"><a class=\"external text\" href=\"https://en.wikipedia.org/w/index.php?title=Wikipedia%3AContents%2FOverviews%2FPeople_and_self&amp;action=edit\"><span style=\"color:black\">edit</span></a>&#160;<a class=\"external text\" href=\"https://en.wikipedia.org/w/index.php?title=Wikipedia:Contents/Overviews/People_and_self&amp;action=watch\"><span style=\"color: black; min-width:40px; display:table-cell;\">watch</span></a>&#160;</div><h2 style=\"font-weight:bold;padding:0;margin:0;color:black;font-family:sans-serif;border:none;font-size:100%;padding-bottom:.1em;margin-left:60px\"><span id=\"People_and_self_.28see_in_all_page_types.29\"></span><span class=\"mw-headline\" id=\"People_and_self_(see_in_all_page_types)\"><big> <img alt=\"P vip.svg\" src=\"//upload.wikimedia.org/wikipedia/en/thumb/6/69/P_vip.svg/25px-P_vip.svg.png\" decoding=\"async\" width=\"25\" height=\"25\" srcset=\"//upload.wikimedia.org/wikipedia/en/thumb/6/69/P_vip.svg/38px-P_vip.svg.png 1.5x, //upload.wikimedia.org/wikipedia/en/thumb/6/69/P_vip.svg/50px-P_vip.svg.png 2x\" data-file-width=\"1911\" data-file-height=\"1944\" /> People and self &#160;(<a href=\"/wiki/Wikipedia:Contents/People_and_self\" title=\"Wikipedia:Contents/People and self\"><small>see in all page types</small></a>)</big></span></h2></div><div style=\"color:black;opacity:1;border:0px solid #A3BFB1;border-bottom:0px solid #A3BFB1;;box-sizing:border-box;text-align:left;padding:1em;;background:#F5FFFA;margin:0 0 10px;vertical-align:top;border-top-width:1px;padding-top:.3em;border-radius:0\">\n",
      "<p><br />\n",
      "<i><b><a href=\"/wiki/Person\" title=\"Person\">Person</a></b></i>&#160;&#8211; <a href=\"/wiki/Biography\" title=\"Biography\">Biography</a>&#160;• <a href=\"/wiki/Character_orientation\" title=\"Character orientation\">Character orientation</a>&#160;• <a href=\"/wiki/Consciousness\" title=\"Consciousness\">Consciousness</a>&#160;• <a href=\"/wiki/Gender\" title=\"Gender\">Gender</a>&#160;• <a href=\"/wiki/Health\" title=\"Health\">Health</a>&#160;• <a href=\"/wiki/Human\" title=\"Human\">Human</a>&#160;• <a href=\"/wiki/Human_body\" title=\"Human body\">Human body</a>&#160;• <a href=\"/wiki/Identity_(social_science)\" title=\"Identity (social science)\">Identity</a>&#160;• <a href=\"/wiki/Individual\" title=\"Individual\">Individual</a>&#160;• <a href=\"/wiki/Intelligence\" title=\"Intelligence\">Intelligence</a>&#160;• <a href=\"/wiki/Moral_character\" title=\"Moral character\">Moral character</a>&#160;• <a href=\"/wiki/Personal_identity_(philosophy)\" class=\"mw-redirect\" title=\"Personal identity (philosophy)\">Personal identity</a>&#160;• <a href=\"/wiki/Personality_type\" title=\"Personality type\">Personality</a>&#160;• <a href=\"/wiki/Physical_fitness\" title=\"Physical fitness\">Physical fitness</a>&#160;• <a href=\"/wiki/Spirituality\" title=\"Spirituality\">Spirituality</a>&#160;• <a href=\"/wiki/Value_(personal_and_cultural)\" class=\"mw-redirect\" title=\"Value (personal and cultural)\">Values</a>&#160;• <a href=\"/wiki/Virtue#Virtues_and_values\" title=\"Virtue\">Virtues</a>\n",
      "</p>\n",
      "<dl><dd><i><b><a href=\"/wiki/Self\" title=\"Self\">Self</a></b></i>&#160;&#8211; <a href=\"/wiki/Self_(philosophy)\" class=\"mw-redirect\" title=\"Self (philosophy)\">in philosophy</a>&#160;• <a href=\"/wiki/Self_(psychology)\" class=\"mw-redirect\" title=\"Self (psychology)\">in psychology</a>&#160;• <a href=\"/wiki/Self_(sociology)\" class=\"mw-redirect\" title=\"Self (sociology)\">in sociology</a>&#160;• <a href=\"/wiki/Self-actualization\" title=\"Self-actualization\">Self-actualization</a>&#160;• <a href=\"/wiki/Self-awareness\" title=\"Self-awareness\">Self-awareness</a>&#160;• <a href=\"/wiki/Autodidacticism\" title=\"Autodidacticism\">Self-education</a>&#160;• <a href=\"/wiki/Self-care\" title=\"Self-care\">Self-care</a>&#160;• <a href=\"/wiki/Self-concept\" title=\"Self-concept\">Self-concept</a>&#160;• <a href=\"/wiki/Self_control\" class=\"mw-redirect\" title=\"Self control\">Self control</a>&#160;• <a href=\"/wiki/Self_disclosure\" class=\"mw-redirect\" title=\"Self disclosure\">Self disclosure</a>&#160;• <a href=\"/wiki/Self-efficacy\" title=\"Self-efficacy\">Self-efficacy</a>&#160;• <a href=\"/wiki/Self-esteem\" title=\"Self-esteem\">Self-esteem</a>&#160;• <a href=\"/wiki/Self_harm\" class=\"mw-redirect\" title=\"Self harm\">Self harm</a>&#160;• <a href=\"/wiki/Self_help\" class=\"mw-redirect\" title=\"Self help\">Self help</a>&#160;• <a href=\"/wiki/Self-identity\" class=\"mw-redirect\" title=\"Self-identity\">Self-identity</a>&#160;• <a href=\"/wiki/Self_image\" class=\"mw-redirect\" title=\"Self image\">Self image</a>&#160;• <a href=\"/wiki/Self_monitoring\" class=\"mw-redirect\" title=\"Self monitoring\">Self monitoring</a>&#160;• <a href=\"/wiki/Self-perception\" class=\"mw-redirect\" title=\"Self-perception\">Self-perception</a>&#160;• <a href=\"/wiki/Self-regulated_learning\" title=\"Self-regulated learning\">Self-regulated learning</a>&#160;• <a href=\"/wiki/Self_talk\" class=\"mw-redirect\" title=\"Self talk\">Self talk</a></dd></dl>\n",
      "<dl><dd><i><b><a href=\"/wiki/Personal_life\" title=\"Personal life\">Personal life</a></b></i>&#160;• <a href=\"/wiki/Adventure\" title=\"Adventure\">Adventure</a>&#160;• <a href=\"/wiki/Aging_(life_cycle)\" class=\"mw-redirect\" title=\"Aging (life cycle)\">Aging (life cycle)</a>&#160;• <a href=\"/wiki/Career\" title=\"Career\">Career</a>&#160;• <a href=\"/wiki/Citizenship\" title=\"Citizenship\">Citizenship</a>&#160;• <a href=\"/wiki/Education\" title=\"Education\">Education</a>&#160;• <a href=\"/wiki/Employment\" title=\"Employment\">Employment</a>&#160;• <a href=\"/wiki/Everyday_life\" title=\"Everyday life\">Everyday life</a>&#160;• <a href=\"/wiki/Experience\" title=\"Experience\">Experience</a>&#160;• <a href=\"/wiki/Family\" title=\"Family\">Family</a>&#160;• <a href=\"/wiki/Friendship\" title=\"Friendship\">Friendship</a>&#160;• <a href=\"/wiki/Goal\" title=\"Goal\">Goal</a>&#160;• <a href=\"/wiki/Health_maintenance\" class=\"mw-redirect\" title=\"Health maintenance\">Health maintenance</a>&#160;• <a href=\"/wiki/Home\" title=\"Home\">Home</a>&#160;• <a href=\"/wiki/Homemaking\" title=\"Homemaking\">Homemaking</a>&#160;• <a href=\"/wiki/Human_condition\" title=\"Human condition\">Human condition</a>&#160;• <a href=\"/wiki/Human_ecology\" title=\"Human ecology\">Human ecology</a>&#160;• <a href=\"/wiki/Interpersonal_relationship\" title=\"Interpersonal relationship\">Interpersonal relationship</a>&#160;• <a href=\"/wiki/Intimate_relationship\" title=\"Intimate relationship\">Intimate relationship</a>&#160;• <a href=\"/wiki/Kinship\" title=\"Kinship\">Kinship</a>&#160;• <a href=\"/wiki/Leisure\" title=\"Leisure\">Leisure</a>&#160;• <a href=\"/wiki/Lifestyle_(sociology)\" title=\"Lifestyle (sociology)\">Lifestyle</a>&#160;• <a href=\"/wiki/Lifeworld\" title=\"Lifeworld\">Lifeworld</a>&#160;• <a href=\"/wiki/Manual_labour\" title=\"Manual labour\">Manual labour</a>&#160;• <a href=\"/wiki/Maslow%27s_hierarchy_of_needs\" title=\"Maslow&#39;s hierarchy of needs\">Maslow's hierarchy of needs</a>&#160;• <a href=\"/wiki/Meaning_of_life\" title=\"Meaning of life\">Meaning of life</a>&#160;• <a href=\"/wiki/Pet\" title=\"Pet\">Pets</a>&#160;• <a href=\"/wiki/Physical_quality-of-life_index\" class=\"mw-redirect\" title=\"Physical quality-of-life index\">Physical quality-of-life index</a>&#160;• <a href=\"/wiki/Profession\" title=\"Profession\">Profession</a>&#160;• <a href=\"/wiki/Quality_of_life\" title=\"Quality of life\">Quality of life</a>&#160;• <a href=\"/wiki/Quality_time\" title=\"Quality time\">Quality time</a>&#160;• <a href=\"/wiki/Real_life\" title=\"Real life\">Real life</a>&#160;• <a href=\"/wiki/Human_sexual_behavior\" class=\"mw-redirect\" title=\"Human sexual behavior\">Sex life</a>&#160;• <a href=\"/wiki/Travel\" title=\"Travel\">Travel</a>&#160;• <a href=\"/wiki/Work-life_balance\" class=\"mw-redirect\" title=\"Work-life balance\">Work-life balance</a></dd></dl>\n",
      "<dl><dd><i><b><a href=\"/wiki/People\" title=\"People\">People</a></b></i>&#160;&#8211; <a href=\"/wiki/Adult\" title=\"Adult\">Adult</a>&#160;• <a href=\"/wiki/Alien_(law)\" title=\"Alien (law)\">Alien (foreigner)</a>&#160;• <a href=\"/wiki/Child\" title=\"Child\">Child</a>&#160;• <a href=\"/wiki/Father\" title=\"Father\">Father</a>&#160;• <a href=\"/wiki/Genius\" title=\"Genius\">Genius</a>&#160;• <a href=\"/wiki/Human\" title=\"Human\">Human</a>&#160;• <a href=\"/wiki/Indigenous_peoples\" title=\"Indigenous peoples\">Indigenous peoples</a>&#160;• <a href=\"/wiki/Man\" title=\"Man\">Man</a>&#160;• <a href=\"/wiki/Minor_(law)\" title=\"Minor (law)\">Minor</a>&#160;• <a href=\"/wiki/Mother\" title=\"Mother\">Mother</a>&#160;• <a href=\"/wiki/Parent\" title=\"Parent\">Parent</a>&#160;• <a href=\"/wiki/Woman\" title=\"Woman\">Woman</a>&#160;• <a href=\"/wiki/Youth\" title=\"Youth\">Youth</a></dd></dl>\n",
      "<div style=\"clear:both;\"></div></div>\n",
      "<p><span id=\"Philosophy_and_thinking\"></span>\n",
      "</p>\n",
      "<div class=\"box-header-title-container flex-columns-noflex\" style=\"clear:both;color:black;margin-bottom:0px;border:solid 1px solid #A3BFB1;border-bottom:1px solid #A3BFB1;box-sizing:border-box;text-align:center;font-size:100%;background:#CEF2E0;font-family:sans-serif;padding:1em;;border-width:0px 0px 0;padding-top:.1em;padding-left:.1em;padding-right:.1em;padding-bottom:.1em;padding-top:.1em;moz-border-radius:0;webkit-border-radius:0;border-radius:0\"><div class=\"plainlinks noprint\" style=\"float:right;margin-bottom:.1em;color:black;font-size:80%\"><a class=\"external text\" href=\"https://en.wikipedia.org/w/index.php?title=Wikipedia%3AContents%2FOverviews%2FPhilosophy_and_thinking&amp;action=edit\"><span style=\"color:black\">edit</span></a>&#160;<a class=\"external text\" href=\"https://en.wikipedia.org/w/index.php?title=Wikipedia:Contents/Overviews/Philosophy_and_thinking&amp;action=watch\"><span style=\"color: black; min-width:40px; display:table-cell;\">watch</span></a>&#160;</div><h2 style=\"font-weight:bold;padding:0;margin:0;color:black;font-family:sans-serif;border:none;font-size:100%;padding-bottom:.1em;margin-left:60px\"><span id=\"Philosophy_and_thinking_.28see_in_all_page_types.29\"></span><span class=\"mw-headline\" id=\"Philosophy_and_thinking_(see_in_all_page_types)\"><big> <img alt=\"Socrates blue version2.png\" src=\"//upload.wikimedia.org/wikipedia/commons/thumb/c/cf/Socrates_blue_version2.png/25px-Socrates_blue_version2.png\" decoding=\"async\" width=\"25\" height=\"25\" srcset=\"//upload.wikimedia.org/wikipedia/commons/thumb/c/cf/Socrates_blue_version2.png/38px-Socrates_blue_version2.png 1.5x, //upload.wikimedia.org/wikipedia/commons/thumb/c/cf/Socrates_blue_version2.png/50px-Socrates_blue_version2.png 2x\" data-file-width=\"300\" data-file-height=\"300\" /> Philosophy and thinking &#160;(<a href=\"/wiki/Wikipedia:Contents/Philosophy_and_thinking\" title=\"Wikipedia:Contents/Philosophy and thinking\"><small>see in all page types</small></a>)</big></span></h2></div><div style=\"color:black;opacity:1;border:0px solid #A3BFB1;border-bottom:0px solid #A3BFB1;;box-sizing:border-box;text-align:left;padding:1em;;background:#F5FFFA;margin:0 0 10px;vertical-align:top;border-top-width:1px;padding-top:.3em;border-radius:0\">\n",
      "<p><span class=\"anchor\" id=\"Philosophy\"></span><i><b><a href=\"/wiki/Philosophy\" title=\"Philosophy\">Philosophy</a></b></i>&#160;&#8211; <a href=\"/wiki/Being\" title=\"Being\">Being</a>&#160;• <a href=\"/wiki/Common_sense\" title=\"Common sense\">Common sense</a>&#160;• <a href=\"/wiki/Feminist_philosophy\" title=\"Feminist philosophy\">Feminist philosophy</a>&#160;• <a href=\"/wiki/Futurology\" class=\"mw-redirect\" title=\"Futurology\">Futurology</a>&#160;• <a href=\"/wiki/Goodness_and_value_theory\" class=\"mw-redirect\" title=\"Goodness and value theory\">Goodness and value theory</a>&#160;• <a href=\"/wiki/Happiness\" title=\"Happiness\">Happiness</a>&#160;• <a href=\"/wiki/-ism\" title=\"-ism\">-ism</a>&#160;• <a href=\"/wiki/Meaning_of_life\" title=\"Meaning of life\">Meaning of life</a>&#160;• <a href=\"/wiki/Mind\" title=\"Mind\">Mind</a>&#160;• <a href=\"/wiki/Rhetoric\" title=\"Rhetoric\">Rhetoric</a>&#160;• <a href=\"/wiki/Space\" title=\"Space\">Space</a>&#160;• <a href=\"/wiki/Unsolved_problems_in_philosophy\" class=\"mw-redirect\" title=\"Unsolved problems in philosophy\">Unsolved problems in philosophy</a>\n",
      "</p>\n",
      "<dl><dd><i><b>By region</b></i>&#160;&#8211; Indian Philosophy, <a href=\"/wiki/Eastern_philosophy\" title=\"Eastern philosophy\">Eastern philosophy</a>&#160;• <a href=\"/wiki/Western_philosophy\" title=\"Western philosophy\">Western philosophy</a></dd></dl>\n",
      "<dl><dd><i><b>Branches of philosophy</b></i>&#160;&#8211; <a href=\"/wiki/Aesthetics\" title=\"Aesthetics\">Aesthetics</a>&#160;• <a href=\"/wiki/Ethics\" title=\"Ethics\">Ethics</a>&#160;• <a href=\"/wiki/Epistemology\" title=\"Epistemology\">Epistemology</a>&#160;• <a href=\"/wiki/Logic\" title=\"Logic\">Logic</a>&#160;• <a href=\"/wiki/Metaphysics\" title=\"Metaphysics\">Metaphysics</a></dd></dl>\n",
      "<dl><dd><i><b>Subdisciplines of philosophy</b></i>&#160;&#8211; <a href=\"/wiki/Philosophy_of_education\" title=\"Philosophy of education\">Education</a>&#160;• <a href=\"/wiki/Philosophy_of_Geography\" class=\"mw-redirect\" title=\"Philosophy of Geography\">Geography</a>&#160;• <a href=\"/wiki/Philosophy_of_history\" title=\"Philosophy of history\">History</a>&#160;• <a href=\"/wiki/Philosophical_anthropology\" title=\"Philosophical anthropology\">Human nature</a>&#160;• <a href=\"/wiki/Philosophy_of_language\" title=\"Philosophy of language\">Language</a>&#160;• <a href=\"/wiki/Philosophy_of_law\" title=\"Philosophy of law\">Law</a>&#160;• <a href=\"/wiki/Philosophy_and_literature\" title=\"Philosophy and literature\">Literature</a>&#160;• <a href=\"/wiki/Philosophy_of_mathematics\" title=\"Philosophy of mathematics\">Mathematics</a>&#160;• <a href=\"/wiki/Philosophy_of_mind\" title=\"Philosophy of mind\">Mind</a>&#160;• <a href=\"/wiki/Meta-philosophy\" class=\"mw-redirect\" title=\"Meta-philosophy\">Philosophy</a>&#160;• <a href=\"/wiki/Philosophy_of_physics\" title=\"Philosophy of physics\">Physics</a>&#160;• <a href=\"/wiki/Political_philosophy\" title=\"Political philosophy\">Politics</a>&#160;• <a href=\"/wiki/Philosophy_of_psychology\" title=\"Philosophy of psychology\">Psychology</a>&#160;• <a href=\"/wiki/Philosophy_of_religion\" title=\"Philosophy of religion\">Religion</a>&#160;• <a href=\"/wiki/Philosophy_of_science\" title=\"Philosophy of science\">Science</a>&#160;• <a href=\"/wiki/Philosophy_of_social_science\" title=\"Philosophy of social science\">Social science</a>&#160;• <a href=\"/wiki/Philosophy_of_technology\" title=\"Philosophy of technology\">Technology</a> &#160;• <a href=\"/wiki/Philosophy_of_war\" title=\"Philosophy of war\">War</a> &#160;• <a href=\"/wiki/Philosophy_of_Culture\" class=\"mw-redirect\" title=\"Philosophy of Culture\">Culture</a></dd></dl>\n",
      "<dl><dd><i><b>Schools of philosophy</b></i>&#160;&#8211; <a href=\"/wiki/Nyaya\" title=\"Nyaya\">Nyaya</a> • <a href=\"/wiki/Vaisheshika\" title=\"Vaisheshika\">Vaisheshika</a> • <a href=\"/wiki/Samkhya\" title=\"Samkhya\">Samkhya</a> • <a href=\"/wiki/Yoga_(philosophy)\" title=\"Yoga (philosophy)\">Yoga</a> • <a href=\"/wiki/M%C4%ABm%C4%81%E1%B9%83s%C4%81\" title=\"Mīmāṃsā\">Mīmāṃsā</a> • <a href=\"/wiki/Vedanta\" title=\"Vedanta\">Vedanta</a>  • <a href=\"/wiki/Analytic_philosophy\" title=\"Analytic philosophy\">Analytic philosophy</a>&#160;• <a href=\"/wiki/Aristotelianism\" title=\"Aristotelianism\">Aristotelianism</a>&#160;• <a href=\"/wiki/Continental_Philosophy\" class=\"mw-redirect\" title=\"Continental Philosophy\">Continental Philosophy</a>&#160;• <a href=\"/wiki/Critical_theory_(Frankfurt_School)\" class=\"mw-redirect\" title=\"Critical theory (Frankfurt School)\">Critical theory</a>&#160;• <a href=\"/wiki/Deconstruction\" title=\"Deconstruction\">Deconstructivism</a>&#160;• <a href=\"/wiki/Determinism\" title=\"Determinism\">Determinism</a>&#160;• <a href=\"/wiki/Dialectical_materialism\" title=\"Dialectical materialism\">Dialectical materialism</a>&#160;• <a href=\"/wiki/Empiricism\" title=\"Empiricism\">Empiricism</a>&#160;• <a href=\"/wiki/Existentialism\" title=\"Existentialism\">Existentialism</a>&#160;• <a href=\"/wiki/Hegelianism\" title=\"Hegelianism\">Hegelianism</a>&#160;• <a href=\"/wiki/Hermeneutics\" title=\"Hermeneutics\">Hermeneutics</a>&#160;• <a href=\"/wiki/Humanism\" title=\"Humanism\">Humanism</a>&#160;• <a href=\"/wiki/Idealism\" title=\"Idealism\">Idealism</a>&#160;• <a href=\"/wiki/Kantianism\" title=\"Kantianism\">Kantianism</a>&#160;• <a href=\"/wiki/Logical_positivism\" title=\"Logical positivism\">Logical Positivism</a>&#160;• <a href=\"/wiki/Materialism\" title=\"Materialism\">Materialism</a>&#160;• <a href=\"/wiki/Neoplatonism\" title=\"Neoplatonism\">Neoplatonism</a>&#160;• <a href=\"/wiki/Nihilism\" title=\"Nihilism\">Nihilism</a>&#160;• <a href=\"/wiki/Objectivism_(Ayn_Rand)\" class=\"mw-redirect\" title=\"Objectivism (Ayn Rand)\">Objectivism (Ayn Rand)</a>&#160;• <a href=\"/wiki/Ordinary_language_philosophy\" title=\"Ordinary language philosophy\">Ordinary Language</a>&#160;• <a href=\"/wiki/Phenomenology_(philosophy)\" title=\"Phenomenology (philosophy)\">Phenomenology</a>&#160;• <a href=\"/wiki/Platonism\" title=\"Platonism\">Platonism</a>&#160;• <a href=\"/wiki/Positivism\" title=\"Positivism\">Positivism</a>&#160;• <a href=\"/wiki/Postmodern_philosophy\" title=\"Postmodern philosophy\">Postmodernism</a>&#160;• <a href=\"/wiki/Poststructuralism\" class=\"mw-redirect\" title=\"Poststructuralism\">Poststructuralism</a>&#160;• <a href=\"/wiki/Pragmatism\" title=\"Pragmatism\">Pragmatism</a>&#160;• <a href=\"/wiki/Pre-Socratic_philosophy\" title=\"Pre-Socratic philosophy\">Presocratic</a>&#160;• <a href=\"/wiki/Rationalism\" title=\"Rationalism\">Rationalism</a>&#160;• <a href=\"/wiki/Reformational_philosophy\" title=\"Reformational philosophy\">Reformational</a>&#160;• <a href=\"/wiki/Relativism\" title=\"Relativism\">Relativism</a>&#160;• <a href=\"/wiki/Scholasticism\" title=\"Scholasticism\">Scholasticism</a>&#160;• <a href=\"/wiki/Philosophical_skepticism\" title=\"Philosophical skepticism\">Skepticism</a>&#160;• <a href=\"/wiki/Stoicism\" title=\"Stoicism\">Stoicism</a>&#160;• <a href=\"/wiki/Structuralism\" title=\"Structuralism\">Structuralism</a>&#160;• <a href=\"/wiki/Transhumanism\" title=\"Transhumanism\">Transhumanism</a> &#160;• <a href=\"/wiki/Utilitarianism\" title=\"Utilitarianism\">Utilitarianism</a></dd></dl>\n",
      "<p><span class=\"anchor\" id=\"Thinking\"></span><i><b><a href=\"/wiki/Thought\" title=\"Thought\">Thinking</a></b></i>&#160;&#8211; <a href=\"/wiki/Awareness\" title=\"Awareness\">Awareness</a>&#160;• <a href=\"/wiki/Creativity\" title=\"Creativity\">Creative processes</a>&#160;• <a href=\"/wiki/Decision_making\" class=\"mw-redirect\" title=\"Decision making\">Decision making</a>&#160;• <a href=\"/wiki/Heuristic\" title=\"Heuristic\">Heuristic</a>&#160;•  <a href=\"/wiki/Learning\" title=\"Learning\">Learning</a>&#160;• <a href=\"/wiki/Memory\" title=\"Memory\">Memory</a>&#160;• <a href=\"/wiki/Problem_solving\" title=\"Problem solving\">Problem solving</a>&#160;• <a href=\"/wiki/Reason\" title=\"Reason\">Reason</a>&#160;• <a href=\"/wiki/Teaching\" class=\"mw-redirect\" title=\"Teaching\">Teaching</a>\n",
      "</p>\n",
      "<dl><dd><i><b>Qualities of thought</b></i>&#160;&#8211; <a href=\"/wiki/Accuracy\" class=\"mw-redirect\" title=\"Accuracy\">Accuracy</a>&#160;• <a href=\"/wiki/Effectiveness\" title=\"Effectiveness\">Effectiveness</a>&#160;• <a href=\"/wiki/Efficacy\" title=\"Efficacy\">Efficacy</a>&#160;• <a href=\"/wiki/Efficiency\" title=\"Efficiency\">Efficiency</a>&#160;• <a href=\"/wiki/Frugality\" title=\"Frugality\">Frugality</a>&#160;• <a href=\"/wiki/Prudence\" title=\"Prudence\">Prudence</a>&#160;• <a href=\"/wiki/Right\" class=\"mw-redirect\" title=\"Right\">Right</a>&#160;• <a href=\"/wiki/Soundness\" title=\"Soundness\">Soundness</a>&#160;• <a href=\"/wiki/Validity_(logic)\" title=\"Validity (logic)\">Validity</a>&#160;• <a href=\"/wiki/Value_theory\" title=\"Value theory\">Value theory</a>&#160;• <a href=\"/wiki/Wrong\" class=\"mw-redirect\" title=\"Wrong\">Wrong</a></dd></dl>\n",
      "<dl><dd><i><b>Thinking errors</b></i>&#160;&#8211; <a href=\"/wiki/Cognitive_bias\" title=\"Cognitive bias\">Cognitive bias</a>&#160;• <a href=\"/wiki/Cognitive_distortion\" title=\"Cognitive distortion\">Cognitive distortion</a>&#160;• <a href=\"/wiki/Error\" title=\"Error\">Error</a>&#160;• <a href=\"/wiki/Fallacy\" title=\"Fallacy\">Fallacy</a>&#160;• <a href=\"/wiki/Fallacies_of_definition\" title=\"Fallacies of definition\">Fallacies of definition</a>&#160;• <a href=\"/wiki/Informal_fallacy\" title=\"Informal fallacy\">Logical fallacy</a>&#160;• <a href=\"/wiki/Target_fixation\" title=\"Target fixation\">Target fixation</a></dd></dl>\n",
      "<dl><dd><i><b>Related</b></i>&#160;&#8211; <a href=\"/wiki/Genius\" title=\"Genius\">Genius</a>&#160;• <a href=\"/wiki/High_IQ_society\" class=\"mw-redirect\" title=\"High IQ society\">High IQ society</a>&#160;• <a href=\"/wiki/Mensa_International\" title=\"Mensa International\">Mensa</a>&#160;• <a href=\"/wiki/Nootropic\" title=\"Nootropic\">Nootropics</a>&#160;• <a href=\"/wiki/Philomath\" title=\"Philomath\">Philomath</a>&#160;• <a href=\"/wiki/Polymath\" title=\"Polymath\">Polymath</a></dd></dl>\n",
      "<div style=\"clear:both;\"></div></div>\n",
      "<p><span id=\"Religion_and_belief_systems\"></span>\n",
      "</p>\n",
      "<div class=\"box-header-title-container flex-columns-noflex\" style=\"clear:both;color:black;margin-bottom:0px;border:solid 1px solid #A3BFB1;border-bottom:1px solid #A3BFB1;box-sizing:border-box;text-align:center;font-size:100%;background:#CEF2E0;font-family:sans-serif;padding:1em;;border-width:0px 0px 0;padding-top:.1em;padding-left:.1em;padding-right:.1em;padding-bottom:.1em;padding-top:.1em;moz-border-radius:0;webkit-border-radius:0;border-radius:0\"><div class=\"plainlinks noprint\" style=\"float:right;margin-bottom:.1em;color:black;font-size:80%\"><a class=\"external text\" href=\"https://en.wikipedia.org/w/index.php?title=Wikipedia%3AContents%2FOverviews%2FReligion_and_belief_systems&amp;action=edit\"><span style=\"color:black\">edit</span></a>&#160;<a class=\"external text\" href=\"https://en.wikipedia.org/w/index.php?title=Wikipedia:Contents/Overviews/Religion_and_belief_systems&amp;action=watch\"><span style=\"color: black; min-width:40px; display:table-cell;\">watch</span></a>&#160;</div><h2 style=\"font-weight:bold;padding:0;margin:0;color:black;font-family:sans-serif;border:none;font-size:100%;padding-bottom:.1em;margin-left:60px\"><span id=\"Religion_and_belief_systems_.28see_in_all_page_types.29\"></span><span class=\"mw-headline\" id=\"Religion_and_belief_systems_(see_in_all_page_types)\"><big> <img alt=\"P religion.png\" src=\"//upload.wikimedia.org/wikipedia/commons/thumb/d/d9/P_religion.png/30px-P_religion.png\" decoding=\"async\" width=\"30\" height=\"26\" srcset=\"//upload.wikimedia.org/wikipedia/commons/thumb/d/d9/P_religion.png/45px-P_religion.png 1.5x, //upload.wikimedia.org/wikipedia/commons/thumb/d/d9/P_religion.png/60px-P_religion.png 2x\" data-file-width=\"75\" data-file-height=\"66\" /> Religion and belief systems &#160;(<a href=\"/wiki/Wikipedia:Contents/Religion_and_belief_systems\" title=\"Wikipedia:Contents/Religion and belief systems\"><small>see in all page types</small></a>)</big></span></h2></div><div style=\"color:black;opacity:1;border:0px solid #A3BFB1;border-bottom:0px solid #A3BFB1;;box-sizing:border-box;text-align:left;padding:1em;;background:#F5FFFA;margin:0 0 10px;vertical-align:top;border-top-width:1px;padding-top:.3em;border-radius:0\">\n",
      "<div style=\"display: inline-block;\"><div role=\"note\" class=\"hatnote navigation-not-searchable\">Main article: <a href=\"/wiki/Religion\" title=\"Religion\">Religion</a></div></div>\n",
      "<div style=\"display: inline-block;\"><div role=\"note\" class=\"hatnote navigation-not-searchable\">See also: <a href=\"/wiki/Relationship_between_religion_and_science\" title=\"Relationship between religion and science\">Relationship between religion and science</a></div></div>\n",
      "<div class=\"hlist hlist-separated\">\n",
      "<ul><li><a href=\"/wiki/Allah\" title=\"Allah\">Allah</a></li>\n",
      "<li><a href=\"/wiki/Belief\" title=\"Belief\">Belief</a></li>\n",
      "<li><a href=\"/wiki/Biblical_inspiration\" title=\"Biblical inspiration\">Biblical inspiration</a></li>\n",
      "<li><a href=\"/wiki/Buddha\" class=\"mw-redirect\" title=\"Buddha\">Buddha</a></li>\n",
      "<li><a href=\"/wiki/Confucius\" title=\"Confucius\">Confucius</a></li>\n",
      "<li><a href=\"/wiki/Deity\" title=\"Deity\">Deity</a></li>\n",
      "<li><a href=\"/wiki/Demon\" title=\"Demon\">Demon</a></li>\n",
      "<li><a href=\"/wiki/Devil\" title=\"Devil\">Devil</a></li>\n",
      "<li><a href=\"/wiki/Exorcism\" title=\"Exorcism\">Exorcism</a></li>\n",
      "<li><a href=\"/wiki/Heresy\" title=\"Heresy\">Heresy</a></li>\n",
      "<li><a href=\"/wiki/Biblical_inspiration\" title=\"Biblical inspiration\">Inspiration</a></li>\n",
      "<li><a href=\"/wiki/Faith\" title=\"Faith\">Faith</a></li>\n",
      "<li><a href=\"/wiki/God\" title=\"God\">God</a></li>\n",
      "<li><a href=\"/wiki/Jesus\" title=\"Jesus\">Jesus</a></li>\n",
      "<li><a href=\"/wiki/Holy_Spirit\" title=\"Holy Spirit\">Holy Spirit</a></li>\n",
      "<li><a href=\"/wiki/Morality\" title=\"Morality\">Morality</a></li>\n",
      "<li><a href=\"/wiki/Mormon\" class=\"mw-redirect\" title=\"Mormon\">Mormon</a></li>\n",
      "<li><a href=\"/wiki/Mythology\" class=\"mw-redirect\" title=\"Mythology\">Mythology</a></li>\n",
      "<li><a href=\"/wiki/Occult\" title=\"Occult\">Occult</a></li>\n",
      "<li><a href=\"/wiki/Prayer\" title=\"Prayer\">Prayer</a></li>\n",
      "<li><a href=\"/wiki/Prophecy\" title=\"Prophecy\">Prophecy</a></li>\n",
      "<li><a href=\"/wiki/Revelation\" title=\"Revelation\">Revelation</a></li>\n",
      "<li><a href=\"/wiki/Ritual\" title=\"Ritual\">Ritual</a></li>\n",
      "<li><a href=\"/wiki/Sin\" title=\"Sin\">Sin</a></li>\n",
      "<li><a href=\"/wiki/Supernatural\" title=\"Supernatural\">Supernatural</a></li>\n",
      "<li><a href=\"/wiki/Virtue\" title=\"Virtue\">Virtue</a></li></ul>\n",
      "</div>\n",
      "<div role=\"heading\" style=\"margin-top: 1em; font-weight: bold; font-style: italic;\">Belief Systems</div>\n",
      "<div class=\"hlist hlist-separated\" style=\"margin-left: 1.6em;\">\n",
      "<ul><li><a href=\"/wiki/Acosmism\" title=\"Acosmism\">Acosmism</a></li>\n",
      "<li><a href=\"/wiki/Agnosticism\" title=\"Agnosticism\">Agnosticism</a></li>\n",
      "<li><a href=\"/wiki/Animism\" title=\"Animism\">Animism</a></li>\n",
      "<li><a href=\"/wiki/Antitheism\" title=\"Antitheism\">Antitheism</a></li>\n",
      "<li><a href=\"/wiki/Atheism\" title=\"Atheism\">Atheism</a></li>\n",
      "<li><a href=\"/wiki/Binitarianism\" title=\"Binitarianism\">Binitarianism</a></li>\n",
      "<li><a href=\"/wiki/Deism\" title=\"Deism\">Deism</a></li>\n",
      "<li><a href=\"/wiki/Determinism\" title=\"Determinism\">Determinism</a></li>\n",
      "<li><a href=\"/wiki/Duotheism\" class=\"mw-redirect\" title=\"Duotheism\">Duotheism</a></li>\n",
      "<li><a href=\"/wiki/Esotericism\" class=\"mw-redirect\" title=\"Esotericism\">Esotericism</a></li>\n",
      "<li><a href=\"/wiki/Eutheism_and_dystheism\" class=\"mw-redirect\" title=\"Eutheism and dystheism\">Eutheism and dystheism</a></li>\n",
      "<li><a href=\"/wiki/Freethought\" title=\"Freethought\">Freethought</a></li>\n",
      "<li><a href=\"/wiki/Gnosticism\" title=\"Gnosticism\">Gnosticism</a></li>\n",
      "<li><a href=\"/wiki/Henotheism\" title=\"Henotheism\">Henotheism</a></li>\n",
      "<li><a href=\"/wiki/Humanism\" title=\"Humanism\">Humanism</a></li>\n",
      "<li><a href=\"/wiki/Interfaith\" class=\"mw-redirect\" title=\"Interfaith\">Interfaith</a></li>\n",
      "<li><a href=\"/wiki/Ignosticism\" title=\"Ignosticism\">Ignosticism</a></li>\n",
      "<li><a href=\"/wiki/Kathenotheism\" title=\"Kathenotheism\">Kathenotheism</a></li>\n",
      "<li><a href=\"/wiki/Monism\" title=\"Monism\">Monism</a></li>\n",
      "<li><a href=\"/wiki/Mormon\" class=\"mw-redirect\" title=\"Mormon\">Mormon</a></li>\n",
      "<li><a href=\"/wiki/Monotheism\" title=\"Monotheism\">Monotheism</a></li>\n",
      "<li><a href=\"/wiki/Monolatrism\" class=\"mw-redirect\" title=\"Monolatrism\">Monolatrism</a></li>\n",
      "<li><a href=\"/wiki/Mysticism\" title=\"Mysticism\">Mysticism</a></li>\n",
      "<li><a href=\"/wiki/Neopaganism\" class=\"mw-redirect\" title=\"Neopaganism\">Neopaganism</a></li>\n",
      "<li><a href=\"/wiki/New_Age\" title=\"New Age\">New Age</a></li>\n",
      "<li><a href=\"/wiki/Nondualism\" title=\"Nondualism\">Nondualism</a></li>\n",
      "<li><a href=\"/wiki/Nontheism\" title=\"Nontheism\">Nontheism</a></li>\n",
      "<li><a href=\"/wiki/Objectivism_(Ayn_Rand)\" class=\"mw-redirect\" title=\"Objectivism (Ayn Rand)\">Objectivism</a></li>\n",
      "<li><a href=\"/wiki/Pandeism\" title=\"Pandeism\">Pandeism</a></li>\n",
      "<li><a href=\"/wiki/Panentheism\" title=\"Panentheism\">Panentheism</a></li>\n",
      "<li><a href=\"/wiki/Pantheism\" title=\"Pantheism\">Pantheism</a></li>\n",
      "<li><a href=\"/wiki/Pastafarianism\" class=\"mw-redirect\" title=\"Pastafarianism\">Pastafarianism</a></li>\n",
      "<li><a href=\"/wiki/Polydeism\" class=\"mw-redirect\" title=\"Polydeism\">Polydeism</a></li>\n",
      "<li><a href=\"/wiki/Polytheism\" title=\"Polytheism\">Polytheism</a></li>\n",
      "<li><a href=\"/wiki/Secular\" class=\"mw-redirect\" title=\"Secular\">Secular</a></li>\n",
      "<li><a href=\"/wiki/Skepticism\" title=\"Skepticism\">Skepticism</a></li>\n",
      "<li><a href=\"/wiki/Spiritualism\" title=\"Spiritualism\">Spiritualism</a></li>\n",
      "<li><a href=\"/wiki/Spirituality\" title=\"Spirituality\">Spirituality</a></li>\n",
      "<li><a href=\"/wiki/Theism\" title=\"Theism\">Theism</a></li>\n",
      "<li><a href=\"/wiki/Theopanism\" title=\"Theopanism\">Theopanism</a></li>\n",
      "<li><a href=\"/wiki/Theosophy_(disambiguation)\" class=\"mw-disambig\" title=\"Theosophy (disambiguation)\">Theosophy</a></li>\n",
      "<li><a href=\"/wiki/Transcendentalism\" title=\"Transcendentalism\">Transcendentalism</a></li>\n",
      "<li><a href=\"/wiki/Transtheism\" title=\"Transtheism\">Transtheism</a></li>\n",
      "<li><a href=\"/wiki/Trinitarianism\" class=\"mw-redirect\" title=\"Trinitarianism\">Trinitarianism</a></li>\n",
      "<li><a href=\"/wiki/Unitarianism\" title=\"Unitarianism\">Unitarianism</a></li></ul>\n",
      "</div>\n",
      "<p><br />\n",
      "</p>\n",
      "<div role=\"heading\" style=\"margin-top: 1em; font-weight: bold; font-style: italic;\"><a href=\"/wiki/Major_religious_groups\" title=\"Major religious groups\">Major beliefs of the world</a></div>\n",
      "<div class=\"hlist hlist-separated\" style=\"margin-left: 1.6em;\">\n",
      "<ul><li><a href=\"/wiki/Antireligion\" title=\"Antireligion\">Antireligion</a></li>\n",
      "<li><a href=\"/wiki/Ayyavazhi\" title=\"Ayyavazhi\">Ayyavazhi</a></li>\n",
      "<li><a href=\"/wiki/Bah%C3%A1%CA%BC%C3%AD_Faith\" title=\"Baháʼí Faith\">Baháʼí Faith</a></li>\n",
      "<li><a href=\"/wiki/Buddhism\" title=\"Buddhism\">Buddhism</a></li>\n",
      "<li><a href=\"/wiki/Cao_Dai\" class=\"mw-redirect\" title=\"Cao Dai\">Cao Dai</a></li>\n",
      "<li><a href=\"/wiki/Chinese_folk_religion\" title=\"Chinese folk religion\">Chinese folk religion</a></li>\n",
      "<li><a href=\"/wiki/Christianity\" title=\"Christianity\">Christianity</a></li>\n",
      "<li><a href=\"/wiki/Confucianism\" title=\"Confucianism\">Confucianism</a></li>\n",
      "<li><a href=\"/wiki/Diasporic\" class=\"mw-redirect\" title=\"Diasporic\">Diasporic</a></li>\n",
      "<li><a href=\"/wiki/Falun_Gong\" title=\"Falun Gong\">Falun Gong</a></li>\n",
      "<li><a href=\"/wiki/Hellenismos\" class=\"mw-redirect\" title=\"Hellenismos\">Hellenismos</a></li>\n",
      "<li><a href=\"/wiki/Hinduism\" title=\"Hinduism\">Hinduism</a></li>\n",
      "<li><a href=\"/wiki/Irreligious\" class=\"mw-redirect\" title=\"Irreligious\">Irreligious</a></li>\n",
      "<li><a href=\"/wiki/Islam\" title=\"Islam\">Islam</a></li>\n",
      "<li><a href=\"/wiki/Jainism\" title=\"Jainism\">Jainism</a></li>\n",
      "<li><a href=\"/wiki/Judaism\" title=\"Judaism\">Judaism</a></li>\n",
      "<li><a href=\"/wiki/Neopaganism\" class=\"mw-redirect\" title=\"Neopaganism\">Neopaganism</a></li>\n",
      "<li><a href=\"/wiki/Polytheistic_reconstructionism\" title=\"Polytheistic reconstructionism\">Polytheistic reconstructionism</a></li>\n",
      "<li><a href=\"/wiki/Rastafari_Movement\" class=\"mw-redirect\" title=\"Rastafari Movement\">Rastafari</a></li>\n",
      "<li><a href=\"/wiki/Scientology\" title=\"Scientology\">Scientology</a></li>\n",
      "<li><a href=\"/wiki/Sikhism\" title=\"Sikhism\">Sikhism</a></li>\n",
      "<li><a href=\"/wiki/Spiritism\" title=\"Spiritism\">Spiritism</a></li>\n",
      "<li><a href=\"/wiki/Shinto\" title=\"Shinto\">Shinto</a></li>\n",
      "<li><a href=\"/wiki/Taoism\" title=\"Taoism\">Taoism</a></li>\n",
      "<li><a href=\"/wiki/Tenrikyo\" title=\"Tenrikyo\">Tenrikyo</a></li>\n",
      "<li><a href=\"/wiki/The_Church_of_Jesus_Christ_of_Latter-day_Saints\" title=\"The Church of Jesus Christ of Latter-day Saints\">The Church of Jesus Christ of Latter-day Saints</a></li>\n",
      "<li><a href=\"/wiki/Unitarian_Universalism\" title=\"Unitarian Universalism\">Unitarian Universalism</a></li>\n",
      "<li><a href=\"/wiki/Zoroastrianism\" title=\"Zoroastrianism\">Zoroastrianism</a></li></ul>\n",
      "</div>\n",
      "<div role=\"note\" class=\"hatnote navigation-not-searchable\">See also: <a href=\"/wiki/Criticism_of_religion\" title=\"Criticism of religion\">Criticism of religion</a></div>\n",
      "<div style=\"clear:both;\"></div></div>\n",
      "<p><span id=\"Society_and_social_sciences\"></span>\n",
      "</p>\n",
      "<div class=\"box-header-title-container flex-columns-noflex\" style=\"clear:both;color:black;margin-bottom:0px;border:solid 1px solid #A3BFB1;border-bottom:1px solid #A3BFB1;box-sizing:border-box;text-align:center;font-size:100%;background:#CEF2E0;font-family:sans-serif;padding:1em;;border-width:0px 0px 0;padding-top:.1em;padding-left:.1em;padding-right:.1em;padding-bottom:.1em;padding-top:.1em;moz-border-radius:0;webkit-border-radius:0;border-radius:0\"><div class=\"plainlinks noprint\" style=\"float:right;margin-bottom:.1em;color:black;font-size:80%\"><a class=\"external text\" href=\"https://en.wikipedia.org/w/index.php?title=Wikipedia%3AContents%2FOverviews%2FSociety_and_social_sciences&amp;action=edit\"><span style=\"color:black\">edit</span></a>&#160;<a class=\"external text\" href=\"https://en.wikipedia.org/w/index.php?title=Wikipedia:Contents/Overviews/Society_and_social_sciences&amp;action=watch\"><span style=\"color: black; min-width:40px; display:table-cell;\">watch</span></a>&#160;</div><h2 style=\"font-weight:bold;padding:0;margin:0;color:black;font-family:sans-serif;border:none;font-size:100%;padding-bottom:.1em;margin-left:60px\"><span id=\"Society_and_social_sciences_.28see_in_all_page_types.29\"></span><span class=\"mw-headline\" id=\"Society_and_social_sciences_(see_in_all_page_types)\"><big> <img alt=\"P social sciences.png\" src=\"//upload.wikimedia.org/wikipedia/commons/thumb/5/5e/P_social_sciences.png/30px-P_social_sciences.png\" decoding=\"async\" width=\"30\" height=\"26\" srcset=\"//upload.wikimedia.org/wikipedia/commons/thumb/5/5e/P_social_sciences.png/45px-P_social_sciences.png 1.5x, //upload.wikimedia.org/wikipedia/commons/thumb/5/5e/P_social_sciences.png/60px-P_social_sciences.png 2x\" data-file-width=\"77\" data-file-height=\"68\" /> Society and social sciences &#160;(<a href=\"/wiki/Wikipedia:Contents/Society_and_social_sciences\" title=\"Wikipedia:Contents/Society and social sciences\"><small>see in all page types</small></a>)</big></span></h2></div><div style=\"color:black;opacity:1;border:0px solid #A3BFB1;border-bottom:0px solid #A3BFB1;;box-sizing:border-box;text-align:left;padding:1em;;background:#F5FFFA;margin:0 0 10px;vertical-align:top;border-top-width:1px;padding-top:.3em;border-radius:0\">\n",
      "<dl><dd><i>Main articles: <a href=\"/wiki/Social_sciences\" class=\"mw-redirect\" title=\"Social sciences\">Social sciences</a> and <a href=\"/wiki/Society\" title=\"Society\">Society</a></i>&#160; <i>See also <a href=\"/wiki/Science\" title=\"Science\">Science</a> and <a href=\"/wiki/Scientific_method\" title=\"Scientific method\">Scientific method</a></i></dd></dl>\n",
      "<p><i><b><a href=\"/wiki/Social_sciences\" class=\"mw-redirect\" title=\"Social sciences\">Social sciences</a></b></i>&#160;&#8211; \n",
      "<a href=\"/wiki/Anthropology\" title=\"Anthropology\">Anthropology</a>&#160;• \n",
      "<a href=\"/wiki/Archaeology\" title=\"Archaeology\">Archaeology</a>&#160;• \n",
      "<a href=\"/wiki/Cognitive_science\" title=\"Cognitive science\">Cognitive science</a>&#160;•\n",
      "<a href=\"/wiki/Communication_studies\" title=\"Communication studies\">Communication studies</a>&#160;• \n",
      "<a href=\"/wiki/Critical_theory\" title=\"Critical theory\">Critical theory</a>&#160;•\n",
      "<a href=\"/wiki/Cultural_studies\" title=\"Cultural studies\">Cultural studies</a>&#160;• \n",
      "<a href=\"/wiki/Development_studies\" title=\"Development studies\">Development studies</a>&#160;• \n",
      "<a href=\"/wiki/Economics\" title=\"Economics\">Economics</a> (<a href=\"/wiki/Unsolved_problems_in_economics\" class=\"mw-redirect\" title=\"Unsolved problems in economics\">Unsolved problems in economics</a>)&#160;• \n",
      "<a href=\"/wiki/Education\" title=\"Education\">Education</a>&#160;• \n",
      "<a href=\"/wiki/Geography\" title=\"Geography\">Geography</a>&#160;• \n",
      "<a href=\"/wiki/History\" title=\"History\">History</a>&#160;• \n",
      "<a href=\"/wiki/Linguistics\" title=\"Linguistics\">Linguistics</a>&#160; (<a href=\"/wiki/Unsolved_problems_in_linguistics\" class=\"mw-redirect\" title=\"Unsolved problems in linguistics\">Unsolved problems in linguistics</a>)&#160;•\n",
      "<a href=\"/wiki/Law\" title=\"Law\">Law</a>&#160;• \n",
      "<a href=\"/wiki/Political_science\" title=\"Political science\">Political science</a>&#160;• \n",
      "<a href=\"/wiki/Psychology\" title=\"Psychology\">Psychology</a>&#160;• \n",
      "<a href=\"/wiki/Social_policy\" title=\"Social policy\">Social policy</a>&#160;• \n",
      "<a href=\"/wiki/Sociology\" title=\"Sociology\">Sociology</a>\n",
      "</p><p><i><b><a href=\"/wiki/Society\" title=\"Society\">Society</a></b></i>&#160;&#8211; <a href=\"/wiki/Commons\" title=\"Commons\">Commons</a>&#160;• <a href=\"/wiki/Ethnic_group\" title=\"Ethnic group\">Ethnic groups</a>&#160;• <a href=\"/wiki/Global_commons\" title=\"Global commons\">Global commons</a>&#160;• <a href=\"/wiki/Global_issue\" title=\"Global issue\">Global issue</a>&#160;• <a href=\"/wiki/Group_(sociology)\" class=\"mw-redirect\" title=\"Group (sociology)\">Group</a>&#160;• <a href=\"/wiki/Infrastructure\" title=\"Infrastructure\">Infrastructure</a>&#160;• <a href=\"/wiki/People\" title=\"People\">People</a>\n",
      "</p>\n",
      "<dl><dd><i><b><a href=\"/wiki/Community\" title=\"Community\">Community</a></b></i>&#160;&#8211; <a href=\"/wiki/Communitarianism\" title=\"Communitarianism\">Communitarianism</a>&#160;• <a href=\"/wiki/Community_development\" title=\"Community development\">Community development</a>&#160;• <a href=\"/wiki/International_community\" title=\"International community\">International community</a>&#160;• <a href=\"/wiki/Local_community\" title=\"Local community\">Local community</a>&#160;• <a href=\"/wiki/Sense_of_community\" title=\"Sense of community\">Sense of community</a>&#160;• <a href=\"/wiki/Social_capital\" title=\"Social capital\">Social capital</a>&#160;• <a href=\"/wiki/Socialization\" title=\"Socialization\">Socialization</a>&#160;• <a href=\"/wiki/Structure_and_agency\" title=\"Structure and agency\">Structure and agency</a>&#160;• <a href=\"/wiki/World_community\" title=\"World community\">World community</a></dd>\n",
      "<dd><i><b><a href=\"/wiki/Social_development\" class=\"mw-disambig\" title=\"Social development\">Social development</a></b></i>&#160;&#8211; <a href=\"/wiki/Decadence\" title=\"Decadence\">Decadence</a>&#160;• <a href=\"/wiki/Social_progress\" class=\"mw-redirect\" title=\"Social progress\">Social progress</a>&#160;• <a href=\"/wiki/Technological_evolution\" title=\"Technological evolution\">Technological evolution</a>\n",
      "<dl><dd><i><b><a href=\"/wiki/Sociocultural_evolution\" title=\"Sociocultural evolution\">Sociocultural evolution</a></b></i>: <a href=\"/wiki/Accelerating_change\" title=\"Accelerating change\">Accelerating change</a>&#160;→ <a href=\"/wiki/Hunter-gatherer\" title=\"Hunter-gatherer\">Hunter-gatherer</a> <a href=\"/wiki/Band_society\" title=\"Band society\">bands</a>&#160;→ <a href=\"/wiki/Social_rank\" class=\"mw-redirect\" title=\"Social rank\">Social rank</a>&#160;→ <a href=\"/wiki/Tribe\" title=\"Tribe\">Tribes</a>&#160;→ <a href=\"/wiki/Social_stratification\" title=\"Social stratification\">Social stratification</a>&#160;→ <a href=\"/wiki/Chiefdom\" title=\"Chiefdom\">Chiefdoms</a>&#160;→ <a href=\"/wiki/Neolithic_Revolution\" title=\"Neolithic Revolution\">Neolithic Revolution</a>&#160;→ <a href=\"/wiki/Civilization\" title=\"Civilization\">Civilization</a>&#160;→ <a href=\"/wiki/Agrarian_society\" title=\"Agrarian society\">Agrarian society</a>&#160;→ <a href=\"/wiki/Pre-industrial_society\" title=\"Pre-industrial society\">Pre-industrial society</a>&#160;→ Agrarian <a href=\"/wiki/Village\" title=\"Village\">villages</a>&#160;→ <a href=\"/wiki/Town\" title=\"Town\">Towns</a>&#160;→ <a href=\"/wiki/City\" title=\"City\">Cities</a>&#160;→ <a href=\"/wiki/City-state\" title=\"City-state\">City-states</a>&#160;→ <a href=\"/wiki/Nation-state\" class=\"mw-redirect\" title=\"Nation-state\">Nation-states</a>&#160;→ <a href=\"/wiki/Industrial_Revolution\" title=\"Industrial Revolution\">Industrial Revolution</a>&#160;→ (<a href=\"/wiki/Modernity\" title=\"Modernity\">Modern</a>) <a href=\"/wiki/Industrial_society\" title=\"Industrial society\">Industrial society</a>&#160;→ (<a href=\"/wiki/Postmodernity\" title=\"Postmodernity\">Postmodern</a>) <a href=\"/wiki/Post-industrial_society\" title=\"Post-industrial society\">Post-industrial society</a>&#160;→  <a href=\"/wiki/Informational_Revolution\" class=\"mw-redirect\" title=\"Informational Revolution\">Informational Revolution</a>&#160;→  <a href=\"/wiki/Information_society\" title=\"Information society\">Information society</a>&#160;→  <a href=\"/wiki/Digital_Revolution\" title=\"Digital Revolution\">Digital Revolution</a>&#160;→  <a href=\"/wiki/Global_network\" title=\"Global network\">Global network</a>&#160;→  <a href=\"/wiki/Globalization\" title=\"Globalization\">Globalization</a>&#160;→ <i><a href=\"/wiki/World_government\" title=\"World government\">World government</a>?</i>&#160;→ <i><a href=\"/wiki/Space_colonization\" title=\"Space colonization\">Space colonization</a>?</i>&#160;→ <i><a href=\"/wiki/Technological_singularity\" title=\"Technological singularity\">Technological singularity</a>?</i></dd></dl></dd>\n",
      "<dd><i><b><a href=\"/wiki/Social_organization\" title=\"Social organization\">Social institutions</a></b></i>&#160;&#8211; <a href=\"/wiki/Organization\" title=\"Organization\">Organization</a>\n",
      "<dl><dd><i><b><a href=\"/wiki/Family\" title=\"Family\">Family</a></b></i>&#160;&#8211; <a href=\"/wiki/Daughter\" title=\"Daughter\">Daughter</a>&#160;• <a href=\"/wiki/Extended_family\" title=\"Extended family\">Extended family</a>&#160;• <a href=\"/wiki/Father\" title=\"Father\">Father</a>&#160;• <a href=\"/wiki/Grandparent\" title=\"Grandparent\">Grandparent</a>&#160;• <a href=\"/wiki/Home\" title=\"Home\">Home</a>&#160;• <a href=\"/wiki/Human_bonding\" title=\"Human bonding\">Human bonding</a>&#160;• <a href=\"/wiki/Mother\" title=\"Mother\">Mother</a>&#160;• <a href=\"/wiki/Nuclear_family\" title=\"Nuclear family\">Nuclear family</a>&#160;• <a href=\"/wiki/Parent\" title=\"Parent\">Parent</a>&#160;• <a href=\"/wiki/Son\" title=\"Son\">Son</a></dd>\n",
      "<dd><i><b><a href=\"/wiki/Portal:Contents/Overviews#Religion_and_belief_systems\" class=\"mw-redirect\" title=\"Portal:Contents/Overviews\">Religion</a></b></i></dd>\n",
      "<dd><i><b><a href=\"/wiki/Infrastructure\" title=\"Infrastructure\">Infrastructure</a></b></i>\n",
      "<dl><dd><i><b>Public infrastructure</b></i>&#160;&#8211; <a href=\"/wiki/Highway\" title=\"Highway\">Highways</a>&#160;• <a href=\"/wiki/Street\" title=\"Street\">Streets</a>&#160;• <a href=\"/wiki/Road\" title=\"Road\">Roads</a>&#160;• <a href=\"/wiki/Bridge\" title=\"Bridge\">Bridges</a>&#160;• <a href=\"/wiki/Public_transport\" title=\"Public transport\">Mass transit</a>&#160;• <a href=\"/wiki/Airport\" title=\"Airport\">Airports</a> and Airways&#160;• <a href=\"/wiki/Rail_transport\" title=\"Rail transport\">Rail transport</a>&#160;• <a href=\"/wiki/Water_supply\" title=\"Water supply\">Water supply</a> and <a href=\"/wiki/Water_resources\" title=\"Water resources\">Water resources</a>&#160;• <a href=\"/wiki/Wastewater\" title=\"Wastewater\">Wastewater</a> management&#160;• <a href=\"/wiki/Waste_management\" title=\"Waste management\">Solid-waste treatment</a> and disposal&#160;•  <a href=\"/wiki/Electric_power\" title=\"Electric power\">Electric power</a></dd>\n",
      "<dd><i><b>Private infrastructure</b></i>&#160;&#8211; <a href=\"/wiki/Automobile\" class=\"mw-redirect\" title=\"Automobile\">Automobiles</a>&#160;•  <a href=\"/wiki/Home\" title=\"Home\">Homes</a>&#160;•  <a href=\"/wiki/Personal_computer\" title=\"Personal computer\">Personal computers</a>&#160;• <a href=\"/wiki/Personal_property\" title=\"Personal property\">Personal property</a>&#160;• <a href=\"/wiki/Real_estate\" title=\"Real estate\">Real estate</a></dd></dl></dd>\n",
      "<dd><i><b><a href=\"/wiki/Economy\" title=\"Economy\">Economy</a> and  <a href=\"/wiki/Business\" title=\"Business\">Business</a></b></i>&#160;&#8211; <a href=\"/wiki/Finance\" title=\"Finance\">Finance</a>&#160;• <a href=\"/wiki/Management\" title=\"Management\">Management</a>&#160;• <a href=\"/wiki/Marketing\" title=\"Marketing\">Marketing</a>&#160;• <a href=\"/wiki/Franchising\" title=\"Franchising\">Franchising</a></dd>\n",
      "<dd><i><b><a href=\"/wiki/Education\" title=\"Education\">Education</a></b></i>&#160;&#8211; <a href=\"/wiki/Academia\" class=\"mw-redirect\" title=\"Academia\">Academia</a>&#160;• <a href=\"/wiki/Academic_misconduct\" class=\"mw-redirect\" title=\"Academic misconduct\">Academic misconduct</a>&#160;• <a href=\"/wiki/Homework\" title=\"Homework\">Homework</a>&#160;• <a href=\"/wiki/Learning\" title=\"Learning\">Learning</a>&#160;• <a href=\"/wiki/Pedagogy\" title=\"Pedagogy\">Pedagogy</a>&#160;• <a href=\"/wiki/School\" title=\"School\">School</a>&#160;• <a href=\"/wiki/Student\" title=\"Student\">Student</a>&#160;• <a href=\"/wiki/Study_skills\" title=\"Study skills\">Study skills</a>&#160;• <a href=\"/wiki/Teacher\" title=\"Teacher\">Teacher</a></dd>\n",
      "<dd><i><b><a href=\"/wiki/Civil_society\" title=\"Civil society\">Civil society</a></b></i>&#160;</dd>\n",
      "<dd><i><b><a href=\"/wiki/Government\" title=\"Government\">Government</a> and <a href=\"/wiki/Politics\" title=\"Politics\">Politics</a></b></i>&#160;&#8211; <a href=\"/wiki/Politics_of_present-day_nations_and_states\" class=\"mw-redirect\" title=\"Politics of present-day nations and states\">Politics by country</a>&#160;• <a href=\"/wiki/International_relations\" title=\"International relations\">International relations</a>&#160;• <a href=\"/wiki/Public_administration\" title=\"Public administration\">Public affairs</a>\n",
      "<dl><dd><i><b><a href=\"/wiki/Law\" title=\"Law\">Law</a></b></i>&#160;&#8211; <a href=\"/wiki/Criminal_justice\" title=\"Criminal justice\">Criminal justice</a>&#160;• <a href=\"/wiki/Law_enforcement\" title=\"Law enforcement\">Law enforcement</a>&#160;• <a href=\"/wiki/Legislation\" title=\"Legislation\">Legislation</a>&#160;• <a href=\"/wiki/Prison\" title=\"Prison\">Prison</a></dd></dl></dd></dl></dd>\n",
      "<dd><i><b><a href=\"/wiki/Social_network\" title=\"Social network\">Social network</a></b></i>&#160;&#8211; <a href=\"/wiki/Communication\" title=\"Communication\">Communication</a>&#160;• <a href=\"/wiki/Journalism\" title=\"Journalism\">Journalism</a>&#160;• <a href=\"/wiki/Social_capital\" title=\"Social capital\">Social capital</a></dd></dl>\n",
      "<div style=\"clear:both;\"></div></div>\n",
      "<p><span id=\"Technology_and_applied_sciences\"></span>\n",
      "</p>\n",
      "<div class=\"box-header-title-container flex-columns-noflex\" style=\"clear:both;color:black;margin-bottom:0px;border:solid 1px solid #A3BFB1;border-bottom:1px solid #A3BFB1;box-sizing:border-box;text-align:center;font-size:100%;background:#CEF2E0;font-family:sans-serif;padding:1em;;border-width:0px 0px 0;padding-top:.1em;padding-left:.1em;padding-right:.1em;padding-bottom:.1em;padding-top:.1em;moz-border-radius:0;webkit-border-radius:0;border-radius:0\"><div class=\"plainlinks noprint\" style=\"float:right;margin-bottom:.1em;color:black;font-size:80%\"><a class=\"external text\" href=\"https://en.wikipedia.org/w/index.php?title=Wikipedia%3AContents%2FOverviews%2FTechnology_and_applied_sciences&amp;action=edit\"><span style=\"color:black\">edit</span></a>&#160;<a class=\"external text\" href=\"https://en.wikipedia.org/w/index.php?title=Wikipedia:Contents/Overviews/Technology_and_applied_sciences&amp;action=watch\"><span style=\"color: black; min-width:40px; display:table-cell;\">watch</span></a>&#160;</div><h2 style=\"font-weight:bold;padding:0;margin:0;color:black;font-family:sans-serif;border:none;font-size:100%;padding-bottom:.1em;margin-left:60px\"><span id=\"Technology_and_applied_sciences_.28see_in_all_page_types.29\"></span><span class=\"mw-headline\" id=\"Technology_and_applied_sciences_(see_in_all_page_types)\"><big> <img alt=\"P train.svg\" src=\"//upload.wikimedia.org/wikipedia/en/thumb/e/e3/P_train.svg/30px-P_train.svg.png\" decoding=\"async\" width=\"30\" height=\"27\" srcset=\"//upload.wikimedia.org/wikipedia/en/thumb/e/e3/P_train.svg/45px-P_train.svg.png 1.5x, //upload.wikimedia.org/wikipedia/en/thumb/e/e3/P_train.svg/60px-P_train.svg.png 2x\" data-file-width=\"400\" data-file-height=\"360\" /> Technology and applied sciences &#160;(<a href=\"/wiki/Wikipedia:Contents/Technology_and_applied_sciences\" title=\"Wikipedia:Contents/Technology and applied sciences\"><small>see in all page types</small></a>)</big></span></h2></div><div style=\"color:black;opacity:1;border:0px solid #A3BFB1;border-bottom:0px solid #A3BFB1;;box-sizing:border-box;text-align:left;padding:1em;;background:#F5FFFA;margin:0 0 10px;vertical-align:top;border-top-width:1px;padding-top:.3em;border-radius:0\">\n",
      "<div role=\"note\" class=\"hatnote navigation-not-searchable\">Main articles: <a href=\"/wiki/Technology\" title=\"Technology\">Technology</a> and <a href=\"/wiki/Applied_science\" title=\"Applied science\">Applied science</a></div>\n",
      "<p><i><b><a href=\"/wiki/Technology\" title=\"Technology\">Technological</a> concepts and issues</b></i>&#160;&#8211; \n",
      "<a href=\"/wiki/Accelerating_change\" title=\"Accelerating change\">Accelerating change</a>&#160;•\n",
      "<a href=\"/wiki/Appropriate_technology\" title=\"Appropriate technology\">Appropriate technology</a>&#160;•\n",
      "<a href=\"/wiki/Diffusion_of_innovations\" title=\"Diffusion of innovations\">Diffusion of innovations in science</a>&#160;•\n",
      "<a href=\"/wiki/Doomsday_device\" title=\"Doomsday device\">Doomsday device</a>&#160;•\n",
      "<a href=\"/wiki/High_technology\" class=\"mw-redirect\" title=\"High technology\">High technology</a>&#160;•\n",
      "<a href=\"/wiki/History_of_science_and_technology\" title=\"History of science and technology\">History of science and technology</a>&#160;•\n",
      "<a href=\"/wiki/History_of_technology\" title=\"History of technology\">History of technology</a>&#160;•\n",
      "<a href=\"/wiki/Industry\" class=\"mw-disambig\" title=\"Industry\">Industry</a>&#160;• \n",
      "<a href=\"/wiki/Innovation\" title=\"Innovation\">Innovation</a>&#160;•\n",
      "<a href=\"/wiki/Knowledge_economy\" title=\"Knowledge economy\">Knowledge economy</a>&#160;•\n",
      "<a href=\"/wiki/Persuasion_technology\" class=\"mw-redirect\" title=\"Persuasion technology\">Persuasion technology</a>&#160;• \n",
      "<a href=\"/wiki/Pollution\" title=\"Pollution\">Pollution</a>&#160;•\n",
      "<a href=\"/wiki/Posthumanism\" title=\"Posthumanism\">Posthumanism</a>&#160;•\n",
      "<a href=\"/wiki/Precautionary_principle\" title=\"Precautionary principle\">Precautionary principle</a>&#160;•\n",
      "<a href=\"/wiki/Research_and_development\" title=\"Research and development\">Research and development</a>&#160;• \n",
      "<a href=\"/wiki/Strategy_of_technology\" class=\"mw-redirect\" title=\"Strategy of technology\">Strategy of technology</a>&#160;•\n",
      "<a href=\"/wiki/Superpower\" title=\"Superpower\">Superpowers</a>&#160;•\n",
      "<a href=\"/wiki/Technocapitalism\" title=\"Technocapitalism\">Technocapitalism</a>&#160;• \n",
      "<a href=\"/wiki/Technocriticism\" title=\"Technocriticism\">Technocriticism</a>&#160;•\n",
      "<a href=\"/wiki/Techno-progressivism\" title=\"Techno-progressivism\">Techno-progressivism</a>&#160;•\n",
      "<a href=\"/wiki/Technological_convergence\" title=\"Technological convergence\">Technological convergence</a>&#160;•  \n",
      "<a href=\"/wiki/Technological_evolution\" title=\"Technological evolution\">Technological evolution</a>&#160;•\n",
      "<a href=\"/wiki/Technological_determinism\" title=\"Technological determinism\">Technological determinism</a>&#160;•\n",
      "<a href=\"/wiki/Diffusion_(business)\" title=\"Diffusion (business)\">Technological diffusion</a>&#160;• \n",
      "<a href=\"/wiki/Technological_singularity\" title=\"Technological singularity\">Technological singularity</a>&#160;•\n",
      "<a href=\"/wiki/Technology_acceptance_model\" title=\"Technology acceptance model\">Technology acceptance model</a>&#160;• \n",
      "<a href=\"/wiki/Technology_assessment\" title=\"Technology assessment\">Technology assessment</a>&#160;•\n",
      "<a href=\"/wiki/Technology_lifecycle\" class=\"mw-redirect\" title=\"Technology lifecycle\">Technology lifecycle</a>&#160;• \n",
      "<a href=\"/wiki/Technology_transfer\" title=\"Technology transfer\">Technology transfer</a>&#160;• \n",
      "<a href=\"/wiki/Technology_Tree\" class=\"mw-redirect\" title=\"Technology Tree\">Technology Tree</a>&#160;•\n",
      "<a href=\"/wiki/Technorealism\" title=\"Technorealism\">Technorealism</a>&#160;•\n",
      "<a href=\"/wiki/Timeline_of_invention\" class=\"mw-redirect\" title=\"Timeline of invention\">Timeline of invention</a>&#160;•\n",
      "<a href=\"/wiki/Transhumanism\" title=\"Transhumanism\">Transhumanism</a>\n",
      "</p><p><i><b><a href=\"/wiki/List_of_basic_technology_topics\" class=\"mw-redirect\" title=\"List of basic technology topics\">Technologies</a></b></i> <i>and</i> <i><b><a href=\"/wiki/Applied_sciences\" class=\"mw-redirect\" title=\"Applied sciences\">applied sciences</a></b></i>&#160;&#8211;\n",
      "<a href=\"/wiki/Aerospace\" title=\"Aerospace\">Aerospace</a>&#160;• \n",
      "<a href=\"/wiki/Agriculture\" title=\"Agriculture\">Agriculture</a>, <a href=\"/wiki/Agricultural_science\" title=\"Agricultural science\">Agricultural science</a> &amp; <a href=\"/wiki/Agronomy\" title=\"Agronomy\">Agronomy</a>&#160;• \n",
      "<a href=\"/wiki/Architecture\" title=\"Architecture\">Architecture</a>&#160;• \n",
      "<a href=\"/wiki/Automation\" title=\"Automation\">Automation</a>&#160;•\n",
      "<a href=\"/wiki/Automobile\" class=\"mw-redirect\" title=\"Automobile\">Automobile</a>&#160;• \n",
      "<a href=\"/wiki/Big_Science\" class=\"mw-redirect\" title=\"Big Science\">Big Science</a>&#160;•\n",
      "<a href=\"/wiki/Biotechnology\" title=\"Biotechnology\">Biotechnology</a>&#160;• \n",
      "<a href=\"/wiki/Cartography\" title=\"Cartography\">Cartography</a>&#160;• \n",
      "<a href=\"/wiki/Communication\" title=\"Communication\">Communication</a>&#160;•\n",
      "<a href=\"/wiki/Construction\" title=\"Construction\">Construction</a>&#160;• \n",
      "<a href=\"/wiki/Design\" title=\"Design\">Design</a>&#160;• \n",
      "<a href=\"/wiki/Electronics\" title=\"Electronics\">Electronics</a>&#160;• \n",
      "<a href=\"/wiki/Energy_development\" title=\"Energy development\">Energy development</a>&#160;• \n",
      "<a href=\"/wiki/Energy_storage\" title=\"Energy storage\">Energy storage</a>&#160;• \n",
      "<a href=\"/wiki/Engineering\" title=\"Engineering\">Engineering</a> (<a href=\"/wiki/Chemical_engineering\" title=\"Chemical engineering\">Chemical engineering</a>, <a href=\"/wiki/Civil_engineering\" title=\"Civil engineering\">Civil engineering</a>, <a href=\"/wiki/Electrical_engineering\" title=\"Electrical engineering\">Electrical engineering</a>, <a href=\"/wiki/Mechanical_engineering\" title=\"Mechanical engineering\">Mechanical engineering</a>)&#160;• \n",
      "<a href=\"/wiki/Ergonomics\" class=\"mw-redirect\" title=\"Ergonomics\">Ergonomics</a>&#160;•  \n",
      "<a href=\"/wiki/Firefighting\" title=\"Firefighting\">Firefighting</a>&#160;•\n",
      "<a href=\"/wiki/Food_science\" title=\"Food science\">Food science</a>&#160;•\n",
      "<a href=\"/wiki/Forensics\" class=\"mw-redirect\" title=\"Forensics\">Forensics</a>&#160;• \n",
      "<a href=\"/wiki/Forestry\" title=\"Forestry\">Forestry</a>&#160;• \n",
      "<a href=\"/wiki/Free_software\" title=\"Free software\">Free software</a>&#160;•\n",
      "<a href=\"/wiki/Health_sciences\" class=\"mw-redirect\" title=\"Health sciences\">Health sciences</a>&#160;• \n",
      "<a href=\"/wiki/Health_Informatics\" class=\"mw-redirect\" title=\"Health Informatics\">Health Informatics</a>&#160;• \n",
      "<a href=\"/wiki/Industry\" class=\"mw-disambig\" title=\"Industry\">Industry</a>&#160;• \n",
      "<a href=\"/wiki/Information_science\" title=\"Information science\">Information science</a> (<a href=\"/wiki/Library_and_information_science\" title=\"Library and information science\">Library and information science</a>)&#160;•  \n",
      "<a href=\"/wiki/Internet\" title=\"Internet\">Internet</a>&#160;•  \n",
      "<a href=\"/wiki/Machine\" title=\"Machine\">Machines</a>&#160;• \n",
      "<a href=\"/wiki/Management\" title=\"Management\">Management</a>&#160;•\n",
      "<a href=\"/wiki/Manufacturing\" title=\"Manufacturing\">Manufacturing</a>&#160;• \n",
      "<a href=\"/wiki/Mass_communication\" title=\"Mass communication\">Mass communication</a>&#160;•\n",
      "<a href=\"/wiki/Mass_production\" title=\"Mass production\">Mass production</a>&#160;•\n",
      "<a href=\"/wiki/Medicine\" title=\"Medicine\">Medicine</a> (<a href=\"/wiki/Unsolved_problems_in_neuroscience\" class=\"mw-redirect\" title=\"Unsolved problems in neuroscience\">Unsolved problems in neuroscience</a>)&#160;• \n",
      "<a href=\"/wiki/Military_science\" title=\"Military science\">Military science</a>&#160;• \n",
      "<a href=\"/wiki/Military_technology_and_equipment\" class=\"mw-redirect\" title=\"Military technology and equipment\">Military technology and equipment</a>&#160;• \n",
      "<a href=\"/wiki/Mining\" title=\"Mining\">Mining</a>&#160;• \n",
      "<a href=\"/wiki/Nanotechnology\" title=\"Nanotechnology\">Nanotechnology</a>&#160;• \n",
      "<a href=\"/wiki/Nuclear_technology\" title=\"Nuclear technology\">Nuclear technology</a>&#160;• \n",
      "<a href=\"/wiki/Packaging_and_labeling\" title=\"Packaging and labeling\">Packaging and labeling</a>&#160;•\n",
      "<a href=\"/wiki/Process_(engineering)\" title=\"Process (engineering)\">Processes</a>&#160;•\n",
      "<a href=\"/wiki/Robotics\" title=\"Robotics\">Robotics</a>&#160;• \n",
      "<a href=\"/wiki/Space_exploration\" title=\"Space exploration\">Space exploration</a>&#160;•\n",
      "<a href=\"/wiki/Technology_forecasting\" title=\"Technology forecasting\">Technology forecasting</a>&#160;•\n",
      "<a href=\"/wiki/Telecommunications\" class=\"mw-redirect\" title=\"Telecommunications\">Telecommunications</a>&#160;• \n",
      "<a href=\"/wiki/Tool\" title=\"Tool\">Tools</a>&#160;•\n",
      "<a href=\"/wiki/Weapon\" title=\"Weapon\">Weapons</a>\n",
      "</p>\n",
      "<dl><dd><i><b><a href=\"/wiki/Computing\" title=\"Computing\">Computing</a></b></i> &#8211; <a href=\"/wiki/Computer_science\" title=\"Computer science\">Computer science</a> (<a href=\"/wiki/List_of_open_problems_in_computer_science\" class=\"mw-redirect\" title=\"List of open problems in computer science\">Open problems in computer science</a>) • <a href=\"/wiki/Information_systems\" class=\"mw-redirect\" title=\"Information systems\">Information systems</a> • <a href=\"/wiki/Information_technology\" title=\"Information technology\">Information technology</a> • <a href=\"/wiki/Computer_programming\" title=\"Computer programming\">Programming</a> • <a href=\"/wiki/Software_engineering\" title=\"Software engineering\">Software engineering</a> • <a href=\"/wiki/Computer_engineering\" title=\"Computer engineering\">Computer engineering</a> • <a href=\"/wiki/Moore%27s_law\" title=\"Moore&#39;s law\">Moore's law</a>\n",
      "<dl><dd><i><b><a href=\"/wiki/Artificial_intelligence\" title=\"Artificial intelligence\">Artificial intelligence</a></b></i> &#8211; <a href=\"/wiki/Automated_reasoning\" title=\"Automated reasoning\">Automated reasoning</a> • <a href=\"/wiki/Computer_vision\" title=\"Computer vision\">Computer vision</a> • <a href=\"/wiki/Ethics_of_artificial_intelligence\" title=\"Ethics of artificial intelligence\">Ethics of AI</a> • <a href=\"/wiki/History_of_artificial_intelligence\" title=\"History of artificial intelligence\">History of AI</a> (<a href=\"/wiki/Timeline_of_artificial_intelligence\" title=\"Timeline of artificial intelligence\">Timeline of AI</a>) • <a href=\"/wiki/Machine_learning\" title=\"Machine learning\">Machine learning</a> (<a href=\"/wiki/Pattern_recognition\" title=\"Pattern recognition\">Pattern recognition</a>) • <a href=\"/wiki/Natural_language_processing\" title=\"Natural language processing\">Natural language processing</a> • <a href=\"/wiki/Progress_in_artificial_intelligence\" title=\"Progress in artificial intelligence\">Progress in AI</a> • <a href=\"/wiki/Self-driving_vehicles\" class=\"mw-redirect\" title=\"Self-driving vehicles\">Self-driving vehicles</a> • <a href=\"/wiki/Symbolic_artificial_intelligence\" title=\"Symbolic artificial intelligence\">Symbolic AI</a> • <a href=\"/wiki/Synthetic_intelligence\" title=\"Synthetic intelligence\">Synthetic intelligence</a> • <a href=\"/wiki/Weak_AI\" title=\"Weak AI\">Weak AI</a>\n",
      "<dl><dd><i><b><a href=\"/wiki/Artificial_general_intelligence\" title=\"Artificial general intelligence\">Artificial general intelligence</a></b></i> &#8211; <a href=\"/wiki/AI_control_problem\" title=\"AI control problem\">AI control problem</a> → <a href=\"/wiki/Existential_risk_from_artificial_general_intelligence\" title=\"Existential risk from artificial general intelligence\">Existential risk from AGI</a> (<a href=\"/wiki/Technological_singularity\" title=\"Technological singularity\">Technological singularity</a> → <a href=\"/wiki/Intelligence_explosion\" class=\"mw-redirect\" title=\"Intelligence explosion\">Intelligence explosion</a> → <a href=\"/wiki/Superintelligence\" title=\"Superintelligence\">Superintelligence</a> → <a href=\"/wiki/AI_takeover\" title=\"AI takeover\">AI takeover</a> → <a href=\"/wiki/Human_extinction\" title=\"Human extinction\">Human extinction</a>?) • <a href=\"/wiki/AI_complete\" class=\"mw-redirect\" title=\"AI complete\">AI complete</a> • <a href=\"/wiki/Artificial_consciousness\" title=\"Artificial consciousness\">Artificial consciousness</a> • <a href=\"/wiki/Friendly_AI\" class=\"mw-redirect\" title=\"Friendly AI\">Friendly AI</a> • <a href=\"/wiki/Instrumental_convergence\" title=\"Instrumental convergence\">Instrumental convergence</a> • <a href=\"/wiki/Singularitarianism\" title=\"Singularitarianism\">Singularitarianism</a></dd></dl></dd></dl></dd>\n",
      "<dd><i><b><a href=\"/wiki/Emerging_technologies\" title=\"Emerging technologies\">Emerging technologies</a></b> &#8211; <a href=\"/wiki/3D_printing\" title=\"3D printing\">3D printing</a> • <a href=\"/wiki/Artificial_intelligence\" title=\"Artificial intelligence\">Artificial intelligence</a> (see above) • <a href=\"/wiki/Augmented_reality\" title=\"Augmented reality\">Augmented reality</a> • <a href=\"/wiki/Bioplastics\" class=\"mw-redirect\" title=\"Bioplastics\">Bioplastics</a> • <a href=\"/wiki/Brain%E2%80%93computer_interface\" title=\"Brain–computer interface\">Brain–computer interfacing</a> • <a href=\"/wiki/Cancer_vaccine\" title=\"Cancer vaccine\">Cancer vaccine</a> • <a href=\"/wiki/Cellular_agriculture\" title=\"Cellular agriculture\">Cellular agriculture</a> • <a href=\"/wiki/Cryptocurrency\" title=\"Cryptocurrency\">Cryptocurrency</a> • <a href=\"/wiki/Gene_therapy\" title=\"Gene therapy\">Gene therapy</a> • <a href=\"/wiki/Nanotechnology\" title=\"Nanotechnology\">Nanotechnology</a> • <a href=\"/wiki/Reusable_launch_system\" title=\"Reusable launch system\">Reusable launch systems</a> • <a href=\"/wiki/Robotics\" title=\"Robotics\">Robotics</a> (<a href=\"/wiki/Autonomous_robot\" title=\"Autonomous robot\">Autonomous robots</a>, <a href=\"/wiki/Robot-assisted_surgery\" title=\"Robot-assisted surgery\">Robot-assisted surgery</a>) • <a href=\"/wiki/Stem-cell_therapy\" title=\"Stem-cell therapy\">Stem-cell therapy</a> • <a href=\"/wiki/Tissue_engineering\" title=\"Tissue engineering\">Tissue engineering</a> </i></dd>\n",
      "<dd><i><b><a href=\"/wiki/Transport\" title=\"Transport\">Transport</a></b></i> &#8211; &#160; <a href=\"/wiki/Aviation\" title=\"Aviation\">Air transport</a> (<a href=\"/wiki/Aircraft\" title=\"Aircraft\">Aircraft</a>, <a href=\"/wiki/Airline\" title=\"Airline\">Airline</a>, <a href=\"/wiki/Airport\" title=\"Airport\">Airport</a>) • <a href=\"/wiki/Maritime_transport\" title=\"Maritime transport\">Maritime transport</a> (<a href=\"/wiki/Harbor\" title=\"Harbor\">Harbors</a>, <a href=\"/wiki/Port\" title=\"Port\">Ports</a>, <a href=\"/wiki/Ship\" title=\"Ship\">Ships</a>) • <a href=\"/wiki/Off-road_transport\" title=\"Off-road transport\">Off-road transport</a> • <a href=\"/wiki/Rail_transport\" title=\"Rail transport\">Rail transport</a> (<a href=\"/wiki/Train\" title=\"Train\">Trains</a>, <a href=\"/wiki/Track_(rail_transport)\" title=\"Track (rail transport)\">Train track</a>) • <a href=\"/wiki/Road_transport\" title=\"Road transport\">Road transport</a> (<a href=\"/wiki/Road\" title=\"Road\">Roads</a>, <a href=\"/wiki/Bridge\" title=\"Bridge\">Bridges</a>, <a href=\"/wiki/Tunnel\" title=\"Tunnel\">Tunnels</a>, <a href=\"/wiki/Vehicle\" title=\"Vehicle\">Vehicles</a>) • <a href=\"/wiki/Space_transport\" class=\"mw-redirect\" title=\"Space transport\">Space transport</a></dd></dl>\n",
      "<p><br />\n",
      "</p>\n",
      "<div style=\"clear:both;\"></div></div>\n",
      "</div>\n",
      "<div role=\"navigation\" aria-labelledby=\"contents-footer-label\" id=\"contents-footer\" class=\"hlist plainlinks selfreference noprint\" style=\"margin-top:5px; border:1px solid #A3BFB1; background-color:#E6FFF2; padding:1em; text-align:center\">\n",
      "<div id=\"contents-footer-label\" style=\"font-size:140%\"><a href=\"/wiki/Wikipedia:Contents\" title=\"Wikipedia:Contents\">Content listings</a></div>\n",
      "<p><b>Types</b>\n",
      "</p>\n",
      "<div class=\"hlist hlist-separated\">\n",
      "<ul><li><a class=\"mw-selflink selflink\">Overviews</a></li>\n",
      "<li><a href=\"/wiki/Wikipedia:Featured_content\" title=\"Wikipedia:Featured content\">Featured content</a></li>\n",
      "<li><a href=\"/wiki/Wikipedia:Contents/Outlines\" title=\"Wikipedia:Contents/Outlines\">Outlines</a></li>\n",
      "<li><a href=\"/wiki/Wikipedia:Contents/Lists\" title=\"Wikipedia:Contents/Lists\">Lists</a></li>\n",
      "<li><a href=\"/wiki/Wikipedia:Contents/Portals\" title=\"Wikipedia:Contents/Portals\">Portals</a></li>\n",
      "<li><a href=\"/wiki/Wikipedia:Contents/Glossaries\" title=\"Wikipedia:Contents/Glossaries\">Glossaries</a></li>\n",
      "<li><a href=\"/wiki/Wikipedia:Contents/Categories\" title=\"Wikipedia:Contents/Categories\">Categories</a></li>\n",
      "<li><a href=\"/wiki/Wikipedia:Contents/Indices\" title=\"Wikipedia:Contents/Indices\">Indices</a></li>\n",
      "<li><a href=\"/wiki/Wikipedia:Spoken_articles\" title=\"Wikipedia:Spoken articles\">Spoken articles</a></li></ul>\n",
      "</div>\n",
      "<p><b>Topics</b>\n",
      "</p>\n",
      "<div class=\"hlist hlist-separated\">\n",
      "<ul><li><a href=\"/wiki/Portal:Current_events\" title=\"Portal:Current events\">Current events</a></li>\n",
      "<li><a href=\"/wiki/Wikipedia:Contents/Reference\" title=\"Wikipedia:Contents/Reference\">Reference</a></li>\n",
      "<li><a href=\"/wiki/Wikipedia:Contents/Culture_and_the_arts\" title=\"Wikipedia:Contents/Culture and the arts\">Culture</a></li>\n",
      "<li><a href=\"/wiki/Wikipedia:Contents/Geography_and_places\" title=\"Wikipedia:Contents/Geography and places\">Geography</a></li>\n",
      "<li><a href=\"/wiki/Wikipedia:Contents/Health_and_fitness\" title=\"Wikipedia:Contents/Health and fitness\">Health</a></li>\n",
      "<li><a href=\"/wiki/Wikipedia:Contents/History_and_events\" title=\"Wikipedia:Contents/History and events\">History</a></li>\n",
      "<li><a href=\"/wiki/Wikipedia:Contents/Mathematics_and_logic\" title=\"Wikipedia:Contents/Mathematics and logic\">Mathematics</a></li>\n",
      "<li><a href=\"/wiki/Wikipedia:Contents/Natural_and_physical_sciences\" title=\"Wikipedia:Contents/Natural and physical sciences\">Nature</a></li>\n",
      "<li><a href=\"/wiki/Wikipedia:Contents/People_and_self\" title=\"Wikipedia:Contents/People and self\">People</a></li>\n",
      "<li><a href=\"/wiki/Wikipedia:Contents/Philosophy_and_thinking\" title=\"Wikipedia:Contents/Philosophy and thinking\">Philosophy</a></li>\n",
      "<li><a href=\"/wiki/Wikipedia:Contents/Religion_and_belief_systems\" title=\"Wikipedia:Contents/Religion and belief systems\">Religion</a></li>\n",
      "<li><a href=\"/wiki/Wikipedia:Contents/Society_and_social_sciences\" title=\"Wikipedia:Contents/Society and social sciences\">Society</a></li>\n",
      "<li><a href=\"/wiki/Wikipedia:Contents/Technology_and_applied_sciences\" title=\"Wikipedia:Contents/Technology and applied sciences\">Technology</a></li></ul>\n",
      "</div>\n",
      "<p><b>Places, people and times</b>\n",
      "</p>\n",
      "<div class=\"hlist hlist-separated\">\n",
      "<ul><li><a href=\"/wiki/Outline_of_academic_disciplines\" title=\"Outline of academic disciplines\">Academic disciplines</a></li>\n",
      "<li><a href=\"/wiki/List_of_historical_anniversaries\" class=\"mw-redirect\" title=\"List of historical anniversaries\">Anniversaries</a>\n",
      "<ul><li><a href=\"/wiki/May_23\" title=\"May 23\">today</a></li></ul></li>\n",
      "<li><a href=\"/wiki/Lists_of_countries_and_territories\" title=\"Lists of countries and territories\">Countries and territories</a></li>\n",
      "<li><a href=\"/wiki/List_of_timelines\" title=\"List of timelines\">Timelines</a>\n",
      "<ul><li><a href=\"/wiki/List_of_decades,_centuries,_and_millennia\" title=\"List of decades, centuries, and millennia\">decades, centuries, and millennia</a></li></ul></li></ul>\n",
      "</div>\n",
      "<p><b>Indices</b>\n",
      "</p>\n",
      "<div class=\"hlist hlist-separated\">\n",
      "<ul><li><a href=\"/wiki/Wikipedia:Contents/A%E2%80%93Z_index\" title=\"Wikipedia:Contents/A–Z index\">A–Z index</a></li>\n",
      "<li><a href=\"/wiki/Wikipedia:Contents/Categories\" title=\"Wikipedia:Contents/Categories\">Categories</a></li>\n",
      "<li><a href=\"/wiki/List_of_Dewey_Decimal_classes\" title=\"List of Dewey Decimal classes\">Dewey Decimal classes</a></li>\n",
      "<li><a href=\"/wiki/Library_of_Congress_Classification\" title=\"Library of Congress Classification\">Library of Congress Classification</a></li></ul>\n",
      "</div>\n",
      "</div>\n",
      "</div>\n",
      "<!-- \n",
      "NewPP limit report\n",
      "Parsed by mw1366\n",
      "Cached time: 20210523083354\n",
      "Cache expiry: 3600\n",
      "Reduced expiry: true\n",
      "Complications: []\n",
      "CPU time usage: 0.602 seconds\n",
      "Real time usage: 0.830 seconds\n",
      "Preprocessor visited node count: 2348/1000000\n",
      "Post‐expand include size: 224415/2097152 bytes\n",
      "Template argument size: 15924/2097152 bytes\n",
      "Highest expansion depth: 10/40\n",
      "Expensive parser function count: 3/500\n",
      "Unstrip recursion depth: 0/20\n",
      "Unstrip post‐expand size: 0/5000000 bytes\n",
      "Lua time usage: 0.124/10.000 seconds\n",
      "Lua memory usage: 2909583/52428800 bytes\n",
      "Number of Wikibase entities loaded: 0/400\n",
      "-->\n",
      "<!--\n",
      "Transclusion expansion time report (%,ms,calls,template)\n",
      "100.00%  419.757      1 -total\n",
      " 72.40%  303.904      1 Wikipedia:Contents/Types_layout\n",
      " 22.47%   94.328     14 Template:Box-header-watch\n",
      " 20.81%   87.349     14 Template:Box-header\n",
      " 16.54%   69.428     13 Wikipedia:Contents/box-header\n",
      " 15.81%   66.377      2 Template:Short_description\n",
      " 13.06%   54.820      1 Template:Pp-semi-protected\n",
      " 10.59%   44.465      2 Template:Pagetype\n",
      "  7.93%   33.302      1 Wikipedia:Contents/Types_header\n",
      "  6.16%   25.840      1 Wikipedia:Contents/Overviews/Health_and_fitness\n",
      "-->\n",
      "\n",
      "<!-- Saved in parser cache with key enwiki:pcache:idhash:943654-0!canonical and timestamp 20210523083353 and revision id 1014410044. Serialized with JSON.\n",
      " -->\n",
      "</div><noscript><img src=\"//en.wikipedia.org/wiki/Special:CentralAutoLogin/start?type=1x1\" alt=\"\" title=\"\" width=\"1\" height=\"1\" style=\"border: none; position: absolute;\" /></noscript>\n",
      "<div class=\"printfooter\">Retrieved from \"<a dir=\"ltr\" href=\"https://en.wikipedia.org/w/index.php?title=Wikipedia:Contents/Overviews&amp;oldid=1014410044\">https://en.wikipedia.org/w/index.php?title=Wikipedia:Contents/Overviews&amp;oldid=1014410044</a>\"</div></div>\n",
      "\t\t<div id=\"catlinks\" class=\"catlinks\" data-mw=\"interface\"><div id=\"mw-normal-catlinks\" class=\"mw-normal-catlinks\"><a href=\"/wiki/Help:Category\" title=\"Help:Category\">Categories</a>: <ul><li><a href=\"/wiki/Category:Wikipedia_contents\" title=\"Category:Wikipedia contents\">Wikipedia contents</a></li></ul></div><div id=\"mw-hidden-catlinks\" class=\"mw-hidden-catlinks mw-hidden-cats-hidden\">Hidden categories: <ul><li><a href=\"/wiki/Category:Project_pages_with_short_description\" title=\"Category:Project pages with short description\">Project pages with short description</a></li><li><a href=\"/wiki/Category:Wikipedia_semi-protected_project_pages\" title=\"Category:Wikipedia semi-protected project pages\">Wikipedia semi-protected project pages</a></li></ul></div></div>\n",
      "\t</div>\n",
      "</div>\n",
      "<div id='mw-data-after-content'>\n",
      "\t<div class=\"read-more-container\"></div>\n",
      "</div>\n",
      "\n",
      "<div id=\"mw-navigation\">\n",
      "\t<h2>Navigation menu</h2>\n",
      "\t<div id=\"mw-head\">\n",
      "\t\t<nav id=\"p-personal\" class=\"mw-portlet mw-portlet-personal vector-user-menu-legacy vector-menu\" aria-labelledby=\"p-personal-label\" role=\"navigation\" \n",
      "\t >\n",
      "\t<h3 id=\"p-personal-label\" class=\"vector-menu-heading\">\n",
      "\t\t<span>Personal tools</span>\n",
      "\t</h3>\n",
      "\t<div class=\"vector-menu-content\">\n",
      "\t\t<ul class=\"vector-menu-content-list\"><li id=\"pt-anonuserpage\">Not logged in</li><li id=\"pt-anontalk\"><a href=\"/wiki/Special:MyTalk\" title=\"Discussion about edits from this IP address [n]\" accesskey=\"n\">Talk</a></li><li id=\"pt-anoncontribs\"><a href=\"/wiki/Special:MyContributions\" title=\"A list of edits made from this IP address [y]\" accesskey=\"y\">Contributions</a></li><li id=\"pt-createaccount\"><a href=\"/w/index.php?title=Special:CreateAccount&amp;returnto=Wikipedia%3AContents%2FOverviews\" title=\"You are encouraged to create an account and log in; however, it is not mandatory\">Create account</a></li><li id=\"pt-login\"><a href=\"/w/index.php?title=Special:UserLogin&amp;returnto=Wikipedia%3AContents%2FOverviews\" title=\"You&#039;re encouraged to log in; however, it&#039;s not mandatory. [o]\" accesskey=\"o\">Log in</a></li></ul>\n",
      "\t\t\n",
      "\t</div>\n",
      "</nav>\n",
      "\n",
      "\t\t<div id=\"left-navigation\">\n",
      "\t\t\t<nav id=\"p-namespaces\" class=\"mw-portlet mw-portlet-namespaces vector-menu vector-menu-tabs\" aria-labelledby=\"p-namespaces-label\" role=\"navigation\" \n",
      "\t >\n",
      "\t<h3 id=\"p-namespaces-label\" class=\"vector-menu-heading\">\n",
      "\t\t<span>Namespaces</span>\n",
      "\t</h3>\n",
      "\t<div class=\"vector-menu-content\">\n",
      "\t\t<ul class=\"vector-menu-content-list\"><li id=\"ca-nstab-project\" class=\"selected\"><a href=\"/wiki/Wikipedia:Contents/Overviews\" title=\"View the project page [c]\" accesskey=\"c\">Project page</a></li><li id=\"ca-talk\"><a href=\"/wiki/Wikipedia_talk:Contents/Overviews\" rel=\"discussion\" title=\"Discuss improvements to the content page [t]\" accesskey=\"t\">Talk</a></li></ul>\n",
      "\t\t\n",
      "\t</div>\n",
      "</nav>\n",
      "\n",
      "\t\t\t<nav id=\"p-variants\" class=\"mw-portlet mw-portlet-variants emptyPortlet vector-menu vector-menu-dropdown\" aria-labelledby=\"p-variants-label\" role=\"navigation\" \n",
      "\t >\n",
      "\t<input type=\"checkbox\" class=\"vector-menu-checkbox\" aria-labelledby=\"p-variants-label\" />\n",
      "\t<h3 id=\"p-variants-label\" class=\"vector-menu-heading\">\n",
      "\t\t<span>Variants</span>\n",
      "\t</h3>\n",
      "\t<div class=\"vector-menu-content\">\n",
      "\t\t<ul class=\"vector-menu-content-list\"></ul>\n",
      "\t\t\n",
      "\t</div>\n",
      "</nav>\n",
      "\n",
      "\t\t</div>\n",
      "\t\t<div id=\"right-navigation\">\n",
      "\t\t\t<nav id=\"p-views\" class=\"mw-portlet mw-portlet-views vector-menu vector-menu-tabs\" aria-labelledby=\"p-views-label\" role=\"navigation\" \n",
      "\t >\n",
      "\t<h3 id=\"p-views-label\" class=\"vector-menu-heading\">\n",
      "\t\t<span>Views</span>\n",
      "\t</h3>\n",
      "\t<div class=\"vector-menu-content\">\n",
      "\t\t<ul class=\"vector-menu-content-list\"><li id=\"ca-view\" class=\"selected\"><a href=\"/wiki/Wikipedia:Contents/Overviews\">Read</a></li><li id=\"ca-viewsource\"><a href=\"/w/index.php?title=Wikipedia:Contents/Overviews&amp;action=edit\" title=\"This page is protected.&#10;You can view its source [e]\" accesskey=\"e\">View source</a></li><li id=\"ca-history\"><a href=\"/w/index.php?title=Wikipedia:Contents/Overviews&amp;action=history\" title=\"Past revisions of this page [h]\" accesskey=\"h\">View history</a></li></ul>\n",
      "\t\t\n",
      "\t</div>\n",
      "</nav>\n",
      "\n",
      "\t\t\t<nav id=\"p-cactions\" class=\"mw-portlet mw-portlet-cactions emptyPortlet vector-menu vector-menu-dropdown\" aria-labelledby=\"p-cactions-label\" role=\"navigation\" \n",
      "\t >\n",
      "\t<input type=\"checkbox\" class=\"vector-menu-checkbox\" aria-labelledby=\"p-cactions-label\" />\n",
      "\t<h3 id=\"p-cactions-label\" class=\"vector-menu-heading\">\n",
      "\t\t<span>More</span>\n",
      "\t</h3>\n",
      "\t<div class=\"vector-menu-content\">\n",
      "\t\t<ul class=\"vector-menu-content-list\"></ul>\n",
      "\t\t\n",
      "\t</div>\n",
      "</nav>\n",
      "\n",
      "\t\t\t<div id=\"p-search\" role=\"search\" >\n",
      "\t<h3 >\n",
      "\t\t<label for=\"searchInput\">Search</label>\n",
      "\t</h3>\n",
      "\t<form action=\"/w/index.php\" id=\"searchform\">\n",
      "\t\t<div id=\"simpleSearch\" data-search-loc=\"header-navigation\">\n",
      "\t\t\t<input type=\"search\" name=\"search\" placeholder=\"Search Wikipedia\" autocapitalize=\"sentences\" title=\"Search Wikipedia [f]\" accesskey=\"f\" id=\"searchInput\"/>\n",
      "\t\t\t<input type=\"hidden\" name=\"title\" value=\"Special:Search\"/>\n",
      "\t\t\t<input type=\"submit\" name=\"fulltext\" value=\"Search\" title=\"Search Wikipedia for this text\" id=\"mw-searchButton\" class=\"searchButton mw-fallbackSearchButton\"/>\n",
      "\t\t\t<input type=\"submit\" name=\"go\" value=\"Go\" title=\"Go to a page with this exact name if it exists\" id=\"searchButton\" class=\"searchButton\"/>\n",
      "\t\t</div>\n",
      "\t</form>\n",
      "</div>\n",
      "\n",
      "\t\t</div>\n",
      "\t</div>\n",
      "\t\n",
      "<div id=\"mw-panel\">\n",
      "\t<div id=\"p-logo\" role=\"banner\">\n",
      "\t\t<a class=\"mw-wiki-logo\" href=\"/wiki/Main_Page\"\n",
      "\t\t\ttitle=\"Visit the main page\"></a>\n",
      "\t</div>\n",
      "\t<nav id=\"p-navigation\" class=\"mw-portlet mw-portlet-navigation vector-menu vector-menu-portal portal\" aria-labelledby=\"p-navigation-label\" role=\"navigation\" \n",
      "\t >\n",
      "\t<h3 id=\"p-navigation-label\" class=\"vector-menu-heading\">\n",
      "\t\t<span>Navigation</span>\n",
      "\t</h3>\n",
      "\t<div class=\"vector-menu-content\">\n",
      "\t\t<ul class=\"vector-menu-content-list\"><li id=\"n-mainpage-description\"><a href=\"/wiki/Main_Page\" title=\"Visit the main page [z]\" accesskey=\"z\">Main page</a></li><li id=\"n-contents\"><a href=\"/wiki/Wikipedia:Contents\" title=\"Guides to browsing Wikipedia\">Contents</a></li><li id=\"n-currentevents\"><a href=\"/wiki/Portal:Current_events\" title=\"Articles related to current events\">Current events</a></li><li id=\"n-randompage\"><a href=\"/wiki/Special:Random\" title=\"Visit a randomly selected article [x]\" accesskey=\"x\">Random article</a></li><li id=\"n-aboutsite\"><a href=\"/wiki/Wikipedia:About\" title=\"Learn about Wikipedia and how it works\">About Wikipedia</a></li><li id=\"n-contactpage\"><a href=\"//en.wikipedia.org/wiki/Wikipedia:Contact_us\" title=\"How to contact Wikipedia\">Contact us</a></li><li id=\"n-sitesupport\"><a href=\"https://donate.wikimedia.org/wiki/Special:FundraiserRedirector?utm_source=donate&amp;utm_medium=sidebar&amp;utm_campaign=C13_en.wikipedia.org&amp;uselang=en\" title=\"Support us by donating to the Wikimedia Foundation\">Donate</a></li></ul>\n",
      "\t\t\n",
      "\t</div>\n",
      "</nav>\n",
      "\n",
      "\t<nav id=\"p-interaction\" class=\"mw-portlet mw-portlet-interaction vector-menu vector-menu-portal portal\" aria-labelledby=\"p-interaction-label\" role=\"navigation\" \n",
      "\t >\n",
      "\t<h3 id=\"p-interaction-label\" class=\"vector-menu-heading\">\n",
      "\t\t<span>Contribute</span>\n",
      "\t</h3>\n",
      "\t<div class=\"vector-menu-content\">\n",
      "\t\t<ul class=\"vector-menu-content-list\"><li id=\"n-help\"><a href=\"/wiki/Help:Contents\" title=\"Guidance on how to use and edit Wikipedia\">Help</a></li><li id=\"n-introduction\"><a href=\"/wiki/Help:Introduction\" title=\"Learn how to edit Wikipedia\">Learn to edit</a></li><li id=\"n-portal\"><a href=\"/wiki/Wikipedia:Community_portal\" title=\"The hub for editors\">Community portal</a></li><li id=\"n-recentchanges\"><a href=\"/wiki/Special:RecentChanges\" title=\"A list of recent changes to Wikipedia [r]\" accesskey=\"r\">Recent changes</a></li><li id=\"n-upload\"><a href=\"/wiki/Wikipedia:File_Upload_Wizard\" title=\"Add images or other media for use on Wikipedia\">Upload file</a></li></ul>\n",
      "\t\t\n",
      "\t</div>\n",
      "</nav>\n",
      "<nav id=\"p-tb\" class=\"mw-portlet mw-portlet-tb vector-menu vector-menu-portal portal\" aria-labelledby=\"p-tb-label\" role=\"navigation\" \n",
      "\t >\n",
      "\t<h3 id=\"p-tb-label\" class=\"vector-menu-heading\">\n",
      "\t\t<span>Tools</span>\n",
      "\t</h3>\n",
      "\t<div class=\"vector-menu-content\">\n",
      "\t\t<ul class=\"vector-menu-content-list\"><li id=\"t-whatlinkshere\"><a href=\"/wiki/Special:WhatLinksHere/Wikipedia:Contents/Overviews\" title=\"List of all English Wikipedia pages containing links to this page [j]\" accesskey=\"j\">What links here</a></li><li id=\"t-recentchangeslinked\"><a href=\"/wiki/Special:RecentChangesLinked/Wikipedia:Contents/Overviews\" rel=\"nofollow\" title=\"Recent changes in pages linked from this page [k]\" accesskey=\"k\">Related changes</a></li><li id=\"t-upload\"><a href=\"/wiki/Wikipedia:File_Upload_Wizard\" title=\"Upload files [u]\" accesskey=\"u\">Upload file</a></li><li id=\"t-specialpages\"><a href=\"/wiki/Special:SpecialPages\" title=\"A list of all special pages [q]\" accesskey=\"q\">Special pages</a></li><li id=\"t-permalink\"><a href=\"/w/index.php?title=Wikipedia:Contents/Overviews&amp;oldid=1014410044\" title=\"Permanent link to this revision of this page\">Permanent link</a></li><li id=\"t-info\"><a href=\"/w/index.php?title=Wikipedia:Contents/Overviews&amp;action=info\" title=\"More information about this page\">Page information</a></li><li id=\"t-wikibase\"><a href=\"https://www.wikidata.org/wiki/Special:EntityPage/Q4395896\" title=\"Structured data on this page hosted by Wikidata [g]\" accesskey=\"g\">Wikidata item</a></li></ul>\n",
      "\t\t\n",
      "\t</div>\n",
      "</nav>\n",
      "<nav id=\"p-coll-print_export\" class=\"mw-portlet mw-portlet-coll-print_export vector-menu vector-menu-portal portal\" aria-labelledby=\"p-coll-print_export-label\" role=\"navigation\" \n",
      "\t >\n",
      "\t<h3 id=\"p-coll-print_export-label\" class=\"vector-menu-heading\">\n",
      "\t\t<span>Print/export</span>\n",
      "\t</h3>\n",
      "\t<div class=\"vector-menu-content\">\n",
      "\t\t<ul class=\"vector-menu-content-list\"><li id=\"coll-download-as-rl\"><a href=\"/w/index.php?title=Special:DownloadAsPdf&amp;page=Wikipedia%3AContents%2FOverviews&amp;action=show-download-screen\" title=\"Download this page as a PDF file\">Download as PDF</a></li><li id=\"t-print\"><a href=\"/w/index.php?title=Wikipedia:Contents/Overviews&amp;printable=yes\" title=\"Printable version of this page [p]\" accesskey=\"p\">Printable version</a></li></ul>\n",
      "\t\t\n",
      "\t</div>\n",
      "</nav>\n",
      "<nav id=\"p-wikibase-otherprojects\" class=\"mw-portlet mw-portlet-wikibase-otherprojects vector-menu vector-menu-portal portal\" aria-labelledby=\"p-wikibase-otherprojects-label\" role=\"navigation\" \n",
      "\t >\n",
      "\t<h3 id=\"p-wikibase-otherprojects-label\" class=\"vector-menu-heading\">\n",
      "\t\t<span>In other projects</span>\n",
      "\t</h3>\n",
      "\t<div class=\"vector-menu-content\">\n",
      "\t\t<ul class=\"vector-menu-content-list\"><li class=\"wb-otherproject-link wb-otherproject-wikisource\"><a href=\"https://en.wikisource.org/wiki/Wikisource:Browse\" hreflang=\"en\">Wikisource</a></li></ul>\n",
      "\t\t\n",
      "\t</div>\n",
      "</nav>\n",
      "\n",
      "\t<nav id=\"p-lang\" class=\"mw-portlet mw-portlet-lang vector-menu vector-menu-portal portal\" aria-labelledby=\"p-lang-label\" role=\"navigation\" \n",
      "\t >\n",
      "\t<h3 id=\"p-lang-label\" class=\"vector-menu-heading\">\n",
      "\t\t<span>Languages</span>\n",
      "\t</h3>\n",
      "\t<div class=\"vector-menu-content\">\n",
      "\t\t<ul class=\"vector-menu-content-list\"><li class=\"interlanguage-link interwiki-ar\"><a href=\"https://ar.wikipedia.org/wiki/%D9%88%D9%8A%D9%83%D9%8A%D8%A8%D9%8A%D8%AF%D9%8A%D8%A7:%D8%AA%D8%B5%D9%81%D8%AD\" title=\"ويكيبيديا:تصفح – Arabic\" lang=\"ar\" hreflang=\"ar\" class=\"interlanguage-link-target\">العربية</a></li><li class=\"interlanguage-link interwiki-as\"><a href=\"https://as.wikipedia.org/wiki/%E0%A7%B1%E0%A6%BF%E0%A6%95%E0%A6%BF%E0%A6%9A%27%E0%A7%B0%E0%A6%BE:%E0%A6%AA%E0%A6%9E%E0%A7%8D%E0%A6%9C%E0%A7%80/%E0%A6%B8%E0%A6%BE%E0%A7%B0%E0%A6%BE%E0%A6%82%E0%A6%B6\" title=\"ৱিকিচ&#039;ৰা:পঞ্জী/সাৰাংশ – Assamese\" lang=\"as\" hreflang=\"as\" class=\"interlanguage-link-target\">অসমীয়া</a></li><li class=\"interlanguage-link interwiki-bn\"><a href=\"https://bn.wikipedia.org/wiki/%E0%A6%89%E0%A6%87%E0%A6%95%E0%A6%BF%E0%A6%AA%E0%A6%BF%E0%A6%A1%E0%A6%BF%E0%A6%AF%E0%A6%BC%E0%A6%BE:%E0%A6%B8%E0%A7%82%E0%A6%9A%E0%A6%BF%E0%A6%AA%E0%A6%A4%E0%A7%8D%E0%A6%B0/%E0%A6%B8%E0%A6%BE%E0%A6%B0%E0%A6%B8%E0%A6%82%E0%A6%95%E0%A7%8D%E0%A6%B7%E0%A7%87%E0%A6%AA\" title=\"উইকিপিডিয়া:সূচিপত্র/সারসংক্ষেপ – Bangla\" lang=\"bn\" hreflang=\"bn\" class=\"interlanguage-link-target\">বাংলা</a></li><li class=\"interlanguage-link interwiki-es\"><a href=\"https://es.wikipedia.org/wiki/Wikipedia:Contenidos/Generalidades\" title=\"Wikipedia:Contenidos/Generalidades – Spanish\" lang=\"es\" hreflang=\"es\" class=\"interlanguage-link-target\">Español</a></li><li class=\"interlanguage-link interwiki-fa\"><a href=\"https://fa.wikipedia.org/wiki/%D8%AF%D8%B1%DA%AF%D8%A7%D9%87:%D8%AF%D8%B1%D9%88%D9%86%D9%85%D8%A7%DB%8C%D9%87/%D9%85%D8%B1%D9%88%D8%B1_%DA%A9%D9%84%DB%8C\" title=\"درگاه:درونمایه/مرور کلی – Persian\" lang=\"fa\" hreflang=\"fa\" class=\"interlanguage-link-target\">فارسی</a></li><li class=\"interlanguage-link interwiki-ko\"><a href=\"https://ko.wikipedia.org/wiki/%ED%8F%AC%ED%84%B8:%EB%AA%A9%EC%B0%A8/%EA%B0%9C%EC%9A%94\" title=\"포털:목차/개요 – Korean\" lang=\"ko\" hreflang=\"ko\" class=\"interlanguage-link-target\">한국어</a></li><li class=\"interlanguage-link interwiki-id\"><a href=\"https://id.wikipedia.org/wiki/Wikipedia:Isi/Ikhtisar\" title=\"Wikipedia:Isi/Ikhtisar – Indonesian\" lang=\"id\" hreflang=\"id\" class=\"interlanguage-link-target\">Bahasa Indonesia</a></li><li class=\"interlanguage-link interwiki-ml\"><a href=\"https://ml.wikipedia.org/wiki/%E0%B4%B5%E0%B4%BF%E0%B4%95%E0%B5%8D%E0%B4%95%E0%B4%BF%E0%B4%AA%E0%B5%80%E0%B4%A1%E0%B4%BF%E0%B4%AF:%E0%B4%89%E0%B4%B3%E0%B5%8D%E0%B4%B3%E0%B4%9F%E0%B4%95%E0%B5%8D%E0%B4%95%E0%B4%82/%E0%B4%85%E0%B4%B5%E0%B4%B2%E0%B5%8B%E0%B4%95%E0%B4%A8%E0%B4%99%E0%B5%8D%E0%B4%99%E0%B5%BE\" title=\"വിക്കിപീഡിയ:ഉള്ളടക്കം/അവലോകനങ്ങൾ – Malayalam\" lang=\"ml\" hreflang=\"ml\" class=\"interlanguage-link-target\">മലയാളം</a></li><li class=\"interlanguage-link interwiki-ne\"><a href=\"https://ne.wikipedia.org/wiki/%E0%A4%AA%E0%A5%8B%E0%A4%B0%E0%A5%8D%E0%A4%9F%E0%A4%B2:%E0%A4%B8%E0%A4%BE%E0%A4%AE%E0%A4%97%E0%A5%8D%E0%A4%B0%E0%A5%80%E0%A4%B9%E0%A4%B0%E0%A5%82/%E0%A4%AA%E0%A4%B0%E0%A4%BF%E0%A4%A6%E0%A5%83%E0%A4%B6%E0%A5%8D%E0%A4%AF%E0%A4%B9%E0%A4%B0%E0%A5%82\" title=\"पोर्टल:सामग्रीहरू/परिदृश्यहरू – Nepali\" lang=\"ne\" hreflang=\"ne\" class=\"interlanguage-link-target\">नेपाली</a></li><li class=\"interlanguage-link interwiki-pt\"><a href=\"https://pt.wikipedia.org/wiki/Portal:Conte%C3%BAdo/Temas_gerais\" title=\"Portal:Conteúdo/Temas gerais – Portuguese\" lang=\"pt\" hreflang=\"pt\" class=\"interlanguage-link-target\">Português</a></li><li class=\"interlanguage-link interwiki-ru\"><a href=\"https://ru.wikipedia.org/wiki/%D0%92%D0%B8%D0%BA%D0%B8%D0%BF%D0%B5%D0%B4%D0%B8%D1%8F:%D0%A1%D0%BE%D0%B4%D0%B5%D1%80%D0%B6%D0%B0%D0%BD%D0%B8%D0%B5/%D0%A1%D0%BF%D0%B8%D1%81%D0%BE%D0%BA_%D0%B1%D0%B0%D0%B7%D0%BE%D0%B2%D1%8B%D1%85_%D1%82%D0%B5%D0%BC\" title=\"Википедия:Содержание/Список базовых тем – Russian\" lang=\"ru\" hreflang=\"ru\" class=\"interlanguage-link-target\">Русский</a></li><li class=\"interlanguage-link interwiki-sq\"><a href=\"https://sq.wikipedia.org/wiki/Portal:P%C3%ABrmbajtja/V%C3%ABshtrim\" title=\"Portal:Përmbajtja/Vështrim – Albanian\" lang=\"sq\" hreflang=\"sq\" class=\"interlanguage-link-target\">Shqip</a></li><li class=\"interlanguage-link interwiki-si\"><a href=\"https://si.wikipedia.org/wiki/%E0%B6%AF%E0%B7%8A%E0%B7%80%E0%B7%8F%E0%B6%BB%E0%B6%BA:%E0%B6%B4%E0%B6%A7%E0%B7%94%E0%B6%B1/%E0%B6%AF%E0%B7%85_%E0%B7%80%E0%B7%92%E0%B7%81%E0%B7%8A%E0%B6%BD%E0%B7%9A%E0%B7%82%E0%B6%AB%E0%B6%BA\" title=\"ද්වාරය:පටුන/දළ විශ්ලේෂණය – Sinhala\" lang=\"si\" hreflang=\"si\" class=\"interlanguage-link-target\">සිංහල</a></li><li class=\"interlanguage-link interwiki-sk\"><a href=\"https://sk.wikipedia.org/wiki/Wikip%C3%A9dia:Listovanie/Hlavn%C3%A9_%C4%8Dl%C3%A1nky\" title=\"Wikipédia:Listovanie/Hlavné články – Slovak\" lang=\"sk\" hreflang=\"sk\" class=\"interlanguage-link-target\">Slovenčina</a></li><li class=\"interlanguage-link interwiki-sv\"><a href=\"https://sv.wikipedia.org/wiki/Wikipedia:%C3%84mnesomr%C3%A5den\" title=\"Wikipedia:Ämnesområden – Swedish\" lang=\"sv\" hreflang=\"sv\" class=\"interlanguage-link-target\">Svenska</a></li><li class=\"interlanguage-link interwiki-th\"><a href=\"https://th.wikipedia.org/wiki/%E0%B8%AA%E0%B8%96%E0%B8%B2%E0%B8%99%E0%B8%B5%E0%B8%A2%E0%B9%88%E0%B8%AD%E0%B8%A2:%E0%B8%AA%E0%B8%B2%E0%B8%A3%E0%B8%9A%E0%B8%B1%E0%B8%8D/%E0%B8%A0%E0%B8%B2%E0%B8%9E%E0%B8%A3%E0%B8%A7%E0%B8%A1\" title=\"สถานีย่อย:สารบัญ/ภาพรวม – Thai\" lang=\"th\" hreflang=\"th\" class=\"interlanguage-link-target\">ไทย</a></li><li class=\"interlanguage-link interwiki-uk\"><a href=\"https://uk.wikipedia.org/wiki/%D0%9F%D0%BE%D1%80%D1%82%D0%B0%D0%BB:%D0%92%D0%BC%D1%96%D1%81%D1%82/%D0%9E%D0%B3%D0%BB%D1%8F%D0%B4\" title=\"Портал:Вміст/Огляд – Ukrainian\" lang=\"uk\" hreflang=\"uk\" class=\"interlanguage-link-target\">Українська</a></li><li class=\"interlanguage-link interwiki-yo\"><a href=\"https://yo.wikipedia.org/wiki/%C3%88b%C3%BAt%C3%A9:%C3%80k%C3%B3%C3%B3n%C3%BA/%C3%80w%E1%BB%8Dn_%C3%A0%E1%B9%A3%C3%ADw%C3%B2\" title=\"Èbúté:Àkóónú/Àwọn àṣíwò – Yoruba\" lang=\"yo\" hreflang=\"yo\" class=\"interlanguage-link-target\">Yorùbá</a></li><li class=\"interlanguage-link interwiki-zh-yue\"><a href=\"https://zh-yue.wikipedia.org/wiki/Portal:%E7%9B%AE%E9%8C%84/%E7%B4%A2%E5%BC%95\" title=\"Portal:目錄/索引 – Cantonese\" lang=\"yue\" hreflang=\"yue\" class=\"interlanguage-link-target\">粵語</a></li><li class=\"interlanguage-link interwiki-zh\"><a href=\"https://zh.wikipedia.org/wiki/Wikipedia:%E6%9D%A1%E7%9B%AE%E7%B4%A2%E5%BC%95\" title=\"Wikipedia:条目索引 – Chinese\" lang=\"zh\" hreflang=\"zh\" class=\"interlanguage-link-target\">中文</a></li></ul>\n",
      "\t\t<div class=\"after-portlet after-portlet-lang\"><span class=\"wb-langlinks-edit wb-langlinks-link\"><a href=\"https://www.wikidata.org/wiki/Special:EntityPage/Q4395896#sitelinks-wikipedia\" title=\"Edit interlanguage links\" class=\"wbc-editpage\">Edit links</a></span></div>\n",
      "\t</div>\n",
      "</nav>\n",
      "\n",
      "</div>\n",
      "\n",
      "</div>\n",
      "<footer id=\"footer\" class=\"mw-footer\" role=\"contentinfo\" >\n",
      "\t<ul id=\"footer-info\" >\n",
      "\t<li id=\"footer-info-lastmod\"> This page was last edited on 26 March 2021, at 22:18<span class=\"anonymous-show\">&#160;(UTC)</span>.</li>\n",
      "\t<li id=\"footer-info-copyright\">Text is available under the <a rel=\"license\" href=\"//en.wikipedia.org/wiki/Wikipedia:Text_of_Creative_Commons_Attribution-ShareAlike_3.0_Unported_License\">Creative Commons Attribution-ShareAlike License</a><a rel=\"license\" href=\"//creativecommons.org/licenses/by-sa/3.0/\" style=\"display:none;\"></a>;\n",
      "additional terms may apply.  By using this site, you agree to the <a href=\"//foundation.wikimedia.org/wiki/Terms_of_Use\">Terms of Use</a> and <a href=\"//foundation.wikimedia.org/wiki/Privacy_policy\">Privacy Policy</a>. Wikipedia® is a registered trademark of the <a href=\"//www.wikimediafoundation.org/\">Wikimedia Foundation, Inc.</a>, a non-profit organization.</li>\n",
      "</ul>\n",
      "\n",
      "\t<ul id=\"footer-places\" >\n",
      "\t<li id=\"footer-places-privacy\"><a href=\"https://foundation.wikimedia.org/wiki/Privacy_policy\" class=\"extiw\" title=\"wmf:Privacy policy\">Privacy policy</a></li>\n",
      "\t<li id=\"footer-places-about\"><a href=\"/wiki/Wikipedia:About\" title=\"Wikipedia:About\">About Wikipedia</a></li>\n",
      "\t<li id=\"footer-places-disclaimer\"><a href=\"/wiki/Wikipedia:General_disclaimer\" title=\"Wikipedia:General disclaimer\">Disclaimers</a></li>\n",
      "\t<li id=\"footer-places-contact\"><a href=\"//en.wikipedia.org/wiki/Wikipedia:Contact_us\">Contact Wikipedia</a></li>\n",
      "\t<li id=\"footer-places-mobileview\"><a href=\"//en.m.wikipedia.org/w/index.php?title=Wikipedia:Contents/Overviews&amp;mobileaction=toggle_view_mobile\" class=\"noprint stopMobileRedirectToggle\">Mobile view</a></li>\n",
      "\t<li id=\"footer-places-developers\"><a href=\"https://www.mediawiki.org/wiki/Special:MyLanguage/How_to_contribute\">Developers</a></li>\n",
      "\t<li id=\"footer-places-statslink\"><a href=\"https://stats.wikimedia.org/#/en.wikipedia.org\">Statistics</a></li>\n",
      "\t<li id=\"footer-places-cookiestatement\"><a href=\"https://foundation.wikimedia.org/wiki/Cookie_statement\">Cookie statement</a></li>\n",
      "</ul>\n",
      "\n",
      "\t<ul id=\"footer-icons\" class=\"noprint\">\n",
      "\t<li id=\"footer-copyrightico\"><a href=\"https://wikimediafoundation.org/\"><img src=\"/static/images/footer/wikimedia-button.png\" srcset=\"/static/images/footer/wikimedia-button-1.5x.png 1.5x, /static/images/footer/wikimedia-button-2x.png 2x\" width=\"88\" height=\"31\" alt=\"Wikimedia Foundation\" loading=\"lazy\" /></a></li>\n",
      "\t<li id=\"footer-poweredbyico\"><a href=\"https://www.mediawiki.org/\"><img src=\"/static/images/footer/poweredby_mediawiki_88x31.png\" alt=\"Powered by MediaWiki\" srcset=\"/static/images/footer/poweredby_mediawiki_132x47.png 1.5x, /static/images/footer/poweredby_mediawiki_176x62.png 2x\" width=\"88\" height=\"31\" loading=\"lazy\"/></a></li>\n",
      "</ul>\n",
      "\n",
      "</footer>\n",
      "\n",
      "\n",
      "<script>(RLQ=window.RLQ||[]).push(function(){mw.config.set({\"wgPageParseReport\":{\"limitreport\":{\"cputime\":\"0.602\",\"walltime\":\"0.830\",\"ppvisitednodes\":{\"value\":2348,\"limit\":1000000},\"postexpandincludesize\":{\"value\":224415,\"limit\":2097152},\"templateargumentsize\":{\"value\":15924,\"limit\":2097152},\"expansiondepth\":{\"value\":10,\"limit\":40},\"expensivefunctioncount\":{\"value\":3,\"limit\":500},\"unstrip-depth\":{\"value\":0,\"limit\":20},\"unstrip-size\":{\"value\":0,\"limit\":5000000},\"entityaccesscount\":{\"value\":0,\"limit\":400},\"timingprofile\":[\"100.00%  419.757      1 -total\",\" 72.40%  303.904      1 Wikipedia:Contents/Types_layout\",\" 22.47%   94.328     14 Template:Box-header-watch\",\" 20.81%   87.349     14 Template:Box-header\",\" 16.54%   69.428     13 Wikipedia:Contents/box-header\",\" 15.81%   66.377      2 Template:Short_description\",\" 13.06%   54.820      1 Template:Pp-semi-protected\",\" 10.59%   44.465      2 Template:Pagetype\",\"  7.93%   33.302      1 Wikipedia:Contents/Types_header\",\"  6.16%   25.840      1 Wikipedia:Contents/Overviews/Health_and_fitness\"]},\"scribunto\":{\"limitreport-timeusage\":{\"value\":\"0.124\",\"limit\":\"10.000\"},\"limitreport-memusage\":{\"value\":2909583,\"limit\":52428800}},\"cachereport\":{\"origin\":\"mw1366\",\"timestamp\":\"20210523083354\",\"ttl\":3600,\"transientcontent\":true}}});mw.config.set({\"wgBackendResponseTime\":997,\"wgHostname\":\"mw1366\"});});</script>\n",
      "</body></html>\n"
     ]
    }
   ],
   "source": [
    "print(en_overview.text)"
   ]
  },
  {
   "cell_type": "markdown",
   "metadata": {},
   "source": [
    "Can refer to the webpage to break this following output into sections (as str in Python), to use as areas of analysis, even if each category must be compared with the entire Chinese encyclopedia, due to differences in classifying topics."
   ]
  },
  {
   "cell_type": "code",
   "execution_count": 32,
   "metadata": {
    "collapsed": true
   },
   "outputs": [
    {
     "name": "stdout",
     "output_type": "stream",
     "text": [
      "\n",
      "\n",
      " General reference\n",
      " Culture and the arts\n",
      " Geography and places\n",
      "   Health and fitness\n",
      "    History and events\n",
      "\n",
      " Human activities\n",
      " Mathematics and logic\n",
      " Natural and physical sciences\n",
      "   People and self\n",
      "\n",
      "   Philosophy and thinking\n",
      " Religion and belief systems\n",
      " Society and social sciences\n",
      " Technology and applied sciences\n",
      "\n",
      "An overview is a survey of what is covered or included in an area. Below is an outline of Wikipedia, divided into 13 sections, each providing an overview of a major subject area, presenting key articles in the respective subject.\n",
      "\n",
      "\n",
      "\n",
      "\n",
      "\n",
      "Culture and Humanities  – Celebrities • Classics • Critical theory • Language • Movements • Mythology • Philosophy • Popular culture • Traditions • Tourism\n",
      "\n",
      "\n",
      "\n",
      "Geography – \n",
      "Atlas •  \n",
      "City •\n",
      "Climate •\n",
      "Demographics • \n",
      "Earth •  \n",
      "Exploration •  \n",
      "Geographic information system •  \n",
      "History of geography •  \n",
      "Map •\n",
      "Park •\n",
      "Place •  \n",
      "Population density •  \n",
      "Region •  \n",
      "Spatial analysis •  \n",
      "Subregion •  \n",
      "Surveying\n",
      "\n",
      "\n",
      "\n",
      "General  – Health care • Health care industry • Health disparities • Mental health • Population health • Preventive medicine • Public health • Complementary and alternative medicine\n",
      "\n",
      "Self-care – Body composition • Life extension • Longevity • Physical fitness\n",
      "\n",
      "Health science – Dentistry • Occupational therapy • Optometry • Pharmacy • Physiotherapy • Speech-Language Pathology\n",
      "\n",
      "\n",
      "\n",
      "History by region – Ancient Egypt • Ancient Greece • Ancient Rome • History of China • History of the Middle East • History of Mesoamerica • History of India\n",
      "\n",
      "List of time periods – Prehistory • Protohistory • Ancient history • Modern history • Future history\n",
      "\n",
      "History by subject\n",
      "\n",
      "\n",
      "\n",
      "Human activity – Arts • Childraising (Babysitting, Child care) • Crime (Harassment, Homicide) • Educating (Learning, Teaching) • Entertainment • Exercise • Exploration (Underwater exploration, Space exploration) • Globalization • Hobbies • Industrialisation • Innovation • Law enforcement • Learning • Leisure activities • Management • Massage • Medicine • Navigation • Philosophy • Politics (Governance) • Publishing • Recreation • Practicing religion (Worship) • Reproduction • Resource consumption • Sex • Shopping • Spending • Sport • Thinking • Transporting • Traveling • Underwater diving • Warfare\n",
      "\n",
      "Impact of human activity – Cars, effects on society • Population growth • Human overpopulation • Overconsumption • War, effects of\n",
      "\n",
      "\n",
      "\n",
      "Formal sciences –\n",
      "Information theory •\n",
      "Logic •\n",
      "Statistics •\n",
      "Theoretical computer science\n",
      "\n",
      "\n",
      "\n",
      "Biology –\n",
      "Anatomy (Human anatomy) • \n",
      "Astrobiology • \n",
      "Biochemistry • \n",
      "Bioinformatics • \n",
      "Biological anthropology • \n",
      "Biophysics • \n",
      "Botany • \n",
      "Cell biology • \n",
      "Computational biology •\n",
      "Developmental biology • \n",
      "Ecology • \n",
      "Evolutionary biology • \n",
      "Genetics (Molecular genetics, Population genetics) • \n",
      "Genomics • \n",
      "Marine biology • \n",
      "Histology • \n",
      "Human biology • \n",
      "Immunology • \n",
      "Microbiology • \n",
      "Molecular biology •\n",
      "Neuroscience • \n",
      "Origin of life •\n",
      "Paleontology • \n",
      "Parasitology • \n",
      "Pathology •\n",
      "Physiology • \n",
      "Taxonomy • \n",
      "Zoology (Ethology)\n",
      "\n",
      "Physical sciences –\n",
      "Earth science •\n",
      "Systems theory\n",
      "\n",
      "\n",
      "\n",
      "\n",
      "Person – Biography • Character orientation • Consciousness • Gender • Health • Human • Human body • Identity • Individual • Intelligence • Moral character • Personal identity • Personality • Physical fitness • Spirituality • Values • Virtues\n",
      "\n",
      "\n",
      "\n",
      "Philosophy – Being • Common sense • Feminist philosophy • Futurology • Goodness and value theory • Happiness • -ism • Meaning of life • Mind • Rhetoric • Space • Unsolved problems in philosophy\n",
      "\n",
      "Thinking – Awareness • Creative processes • Decision making • Heuristic •  Learning • Memory • Problem solving • Reason • Teaching\n",
      "\n",
      "\n",
      "\n",
      "\n",
      "\n",
      "\n",
      "\n",
      "Social sciences – \n",
      "Anthropology • \n",
      "Archaeology • \n",
      "Cognitive science •\n",
      "Communication studies • \n",
      "Critical theory •\n",
      "Cultural studies • \n",
      "Development studies • \n",
      "Economics (Unsolved problems in economics) • \n",
      "Education • \n",
      "Geography • \n",
      "History • \n",
      "Linguistics  (Unsolved problems in linguistics) •\n",
      "Law • \n",
      "Political science • \n",
      "Psychology • \n",
      "Social policy • \n",
      "Sociology\n",
      "\n",
      "Society – Commons • Ethnic groups • Global commons • Global issue • Group • Infrastructure • People\n",
      "\n",
      "\n",
      "\n",
      "Technological concepts and issues – \n",
      "Accelerating change •\n",
      "Appropriate technology •\n",
      "Diffusion of innovations in science •\n",
      "Doomsday device •\n",
      "High technology •\n",
      "History of science and technology •\n",
      "History of technology •\n",
      "Industry • \n",
      "Innovation •\n",
      "Knowledge economy •\n",
      "Persuasion technology • \n",
      "Pollution •\n",
      "Posthumanism •\n",
      "Precautionary principle •\n",
      "Research and development • \n",
      "Strategy of technology •\n",
      "Superpowers •\n",
      "Technocapitalism • \n",
      "Technocriticism •\n",
      "Techno-progressivism •\n",
      "Technological convergence •  \n",
      "Technological evolution •\n",
      "Technological determinism •\n",
      "Technological diffusion • \n",
      "Technological singularity •\n",
      "Technology acceptance model • \n",
      "Technology assessment •\n",
      "Technology lifecycle • \n",
      "Technology transfer • \n",
      "Technology Tree •\n",
      "Technorealism •\n",
      "Timeline of invention •\n",
      "Transhumanism\n",
      "\n",
      "Technologies and applied sciences –\n",
      "Aerospace • \n",
      "Agriculture, Agricultural science & Agronomy • \n",
      "Architecture • \n",
      "Automation •\n",
      "Automobile • \n",
      "Big Science •\n",
      "Biotechnology • \n",
      "Cartography • \n",
      "Communication •\n",
      "Construction • \n",
      "Design • \n",
      "Electronics • \n",
      "Energy development • \n",
      "Energy storage • \n",
      "Engineering (Chemical engineering, Civil engineering, Electrical engineering, Mechanical engineering) • \n",
      "Ergonomics •  \n",
      "Firefighting •\n",
      "Food science •\n",
      "Forensics • \n",
      "Forestry • \n",
      "Free software •\n",
      "Health sciences • \n",
      "Health Informatics • \n",
      "Industry • \n",
      "Information science (Library and information science) •  \n",
      "Internet •  \n",
      "Machines • \n",
      "Management •\n",
      "Manufacturing • \n",
      "Mass communication •\n",
      "Mass production •\n",
      "Medicine (Unsolved problems in neuroscience) • \n",
      "Military science • \n",
      "Military technology and equipment • \n",
      "Mining • \n",
      "Nanotechnology • \n",
      "Nuclear technology • \n",
      "Packaging and labeling •\n",
      "Processes •\n",
      "Robotics • \n",
      "Space exploration •\n",
      "Technology forecasting •\n",
      "Telecommunications • \n",
      "Tools •\n",
      "Weapons\n",
      "\n",
      "\n",
      "\n",
      "Types\n",
      "\n",
      "Topics\n",
      "\n",
      "Places, people and times\n",
      "\n",
      "Indices\n",
      "\n"
     ]
    }
   ],
   "source": [
    "en_over_parse = soup(en_overview.text, \"html.parser\")\n",
    "for i in en_over_parse.select('p'):\n",
    "    print(i.getText())"
   ]
  },
  {
   "cell_type": "markdown",
   "metadata": {},
   "source": [
    "Several unsuccessful approaches that may be useful as I go a level down into the Chinese version, if I can get them working:"
   ]
  },
  {
   "cell_type": "code",
   "execution_count": 38,
   "metadata": {
    "collapsed": true
   },
   "outputs": [
    {
     "ename": "AttributeError",
     "evalue": "'Response' object has no attribute 'find'",
     "output_type": "error",
     "traceback": [
      "\u001b[1;31m---------------------------------------------------------------------------\u001b[0m",
      "\u001b[1;31mAttributeError\u001b[0m                            Traceback (most recent call last)",
      "\u001b[1;32m<ipython-input-38-c30acddd1dcf>\u001b[0m in \u001b[0;36m<module>\u001b[1;34m\u001b[0m\n\u001b[0;32m      3\u001b[0m \u001b[0mstart\u001b[0m \u001b[1;33m=\u001b[0m \u001b[1;34m'Reference works'\u001b[0m\u001b[1;33m\u001b[0m\u001b[1;33m\u001b[0m\u001b[0m\n\u001b[0;32m      4\u001b[0m \u001b[0mend\u001b[0m \u001b[1;33m=\u001b[0m \u001b[1;34m'Social capital'\u001b[0m\u001b[1;33m\u001b[0m\u001b[1;33m\u001b[0m\u001b[0m\n\u001b[1;32m----> 5\u001b[1;33m \u001b[0mstartpos\u001b[0m \u001b[1;33m=\u001b[0m \u001b[0men_overview\u001b[0m\u001b[1;33m.\u001b[0m\u001b[0mfind\u001b[0m\u001b[1;33m(\u001b[0m\u001b[0mstart\u001b[0m\u001b[1;33m)\u001b[0m \u001b[1;33m+\u001b[0m \u001b[0mlen\u001b[0m\u001b[1;33m(\u001b[0m\u001b[0mstart\u001b[0m\u001b[1;33m)\u001b[0m\u001b[1;33m\u001b[0m\u001b[1;33m\u001b[0m\u001b[0m\n\u001b[0m\u001b[0;32m      6\u001b[0m \u001b[0mendpos\u001b[0m \u001b[1;33m=\u001b[0m \u001b[0men_overview\u001b[0m\u001b[1;33m.\u001b[0m\u001b[0mfindAll\u001b[0m\u001b[1;33m(\u001b[0m\u001b[0mstartpos\u001b[0m\u001b[1;33m,\u001b[0m \u001b[0mend\u001b[0m\u001b[1;33m)\u001b[0m \u001b[1;31m#forum had it \"end, startpos\"\u001b[0m\u001b[1;33m\u001b[0m\u001b[1;33m\u001b[0m\u001b[0m\n\u001b[0;32m      7\u001b[0m \u001b[0mprint\u001b[0m\u001b[1;33m(\u001b[0m\u001b[0men_overview\u001b[0m\u001b[1;33m[\u001b[0m\u001b[0mstartpos\u001b[0m\u001b[1;33m:\u001b[0m\u001b[0mendpos\u001b[0m\u001b[1;33m]\u001b[0m\u001b[1;33m)\u001b[0m\u001b[1;33m\u001b[0m\u001b[1;33m\u001b[0m\u001b[0m\n",
      "\u001b[1;31mAttributeError\u001b[0m: 'Response' object has no attribute 'find'"
     ]
    }
   ],
   "source": [
    "#https://stackoverflow.com/questions/9222106/how-to-extract-information-between-two-unique-words-in-a-large-text-file\n",
    "\n",
    "start = 'Reference works'\n",
    "end = 'Social capital'\n",
    "startpos = en_overview.find(start) + len(start)\n",
    "endpos = en_overview.findAll(startpos, end) #forum had it \"end, startpos\"\n",
    "print(en_overview[startpos:endpos])"
   ]
  },
  {
   "cell_type": "code",
   "execution_count": 17,
   "metadata": {
    "collapsed": true
   },
   "outputs": [
    {
     "ename": "IndentationError",
     "evalue": "expected an indented block (<ipython-input-17-c8aef228a848>, line 2)",
     "output_type": "error",
     "traceback": [
      "\u001b[1;36m  File \u001b[1;32m\"<ipython-input-17-c8aef228a848>\"\u001b[1;36m, line \u001b[1;32m2\u001b[0m\n\u001b[1;33m    print(en_overview.body.div.text)\u001b[0m\n\u001b[1;37m        ^\u001b[0m\n\u001b[1;31mIndentationError\u001b[0m\u001b[1;31m:\u001b[0m expected an indented block\n"
     ]
    }
   ],
   "source": [
    "for div in en_overview.findAll('a', attrs = {'title':'Reference Works'}): #{'href':'/wiki/Reference_work'}\n",
    "print(en_overview.body.div.text)"
   ]
  },
  {
   "cell_type": "code",
   "execution_count": 26,
   "metadata": {
    "collapsed": true
   },
   "outputs": [
    {
     "ename": "AttributeError",
     "evalue": "'str' object has no attribute 'descendants'",
     "output_type": "error",
     "traceback": [
      "\u001b[1;31m---------------------------------------------------------------------------\u001b[0m",
      "\u001b[1;31mAttributeError\u001b[0m                            Traceback (most recent call last)",
      "\u001b[1;32m<ipython-input-26-ce84458de8ba>\u001b[0m in \u001b[0;36m<module>\u001b[1;34m\u001b[0m\n\u001b[1;32m----> 1\u001b[1;33m \u001b[0mfirsttag\u001b[0m \u001b[1;33m=\u001b[0m \u001b[0msoup\u001b[0m\u001b[1;33m.\u001b[0m\u001b[0mfind_all\u001b[0m\u001b[1;33m(\u001b[0m\u001b[1;34m'Reference Works'\u001b[0m\u001b[1;33m)\u001b[0m\u001b[1;33m[\u001b[0m\u001b[1;36m0\u001b[0m\u001b[1;33m]\u001b[0m\u001b[1;33m\u001b[0m\u001b[1;33m\u001b[0m\u001b[0m\n\u001b[0m\u001b[0;32m      2\u001b[0m \u001b[0mnexttag\u001b[0m \u001b[1;33m=\u001b[0m \u001b[0mfirsttag\u001b[0m\u001b[1;33m.\u001b[0m\u001b[0mfind_next\u001b[0m\u001b[1;33m(\u001b[0m\u001b[1;34m'a'\u001b[0m\u001b[1;33m)\u001b[0m\u001b[1;33m\u001b[0m\u001b[1;33m\u001b[0m\u001b[0m\n\u001b[0;32m      3\u001b[0m \u001b[1;32mdef\u001b[0m \u001b[0mloop\u001b[0m\u001b[1;33m(\u001b[0m\u001b[0mtext\u001b[0m\u001b[1;33m,\u001b[0m \u001b[0melement\u001b[0m\u001b[1;33m)\u001b[0m\u001b[1;33m:\u001b[0m\u001b[1;33m\u001b[0m\u001b[1;33m\u001b[0m\u001b[0m\n\u001b[0;32m      4\u001b[0m     \u001b[0mtext\u001b[0m \u001b[1;33m+=\u001b[0m \u001b[0melement\u001b[0m\u001b[1;33m.\u001b[0m\u001b[0mstring\u001b[0m\u001b[1;33m\u001b[0m\u001b[1;33m\u001b[0m\u001b[0m\n\u001b[0;32m      5\u001b[0m     \u001b[1;32mif\u001b[0m \u001b[1;33m(\u001b[0m\u001b[0melement\u001b[0m\u001b[1;33m.\u001b[0m\u001b[0mnext\u001b[0m\u001b[1;33m.\u001b[0m\u001b[0mnext\u001b[0m \u001b[1;33m==\u001b[0m \u001b[0mnexttag\u001b[0m\u001b[1;33m)\u001b[0m\u001b[1;33m:\u001b[0m\u001b[1;33m\u001b[0m\u001b[1;33m\u001b[0m\u001b[0m\n",
      "\u001b[1;32m~\\Anaconda3\\lib\\site-packages\\bs4\\element.py\u001b[0m in \u001b[0;36mfind_all\u001b[1;34m(self, name, attrs, recursive, text, limit, **kwargs)\u001b[0m\n\u001b[0;32m   1274\u001b[0m         same is true of the tag name.\"\"\"\n\u001b[0;32m   1275\u001b[0m \u001b[1;33m\u001b[0m\u001b[0m\n\u001b[1;32m-> 1276\u001b[1;33m         \u001b[0mgenerator\u001b[0m \u001b[1;33m=\u001b[0m \u001b[0mself\u001b[0m\u001b[1;33m.\u001b[0m\u001b[0mdescendants\u001b[0m\u001b[1;33m\u001b[0m\u001b[1;33m\u001b[0m\u001b[0m\n\u001b[0m\u001b[0;32m   1277\u001b[0m         \u001b[1;32mif\u001b[0m \u001b[1;32mnot\u001b[0m \u001b[0mrecursive\u001b[0m\u001b[1;33m:\u001b[0m\u001b[1;33m\u001b[0m\u001b[1;33m\u001b[0m\u001b[0m\n\u001b[0;32m   1278\u001b[0m             \u001b[0mgenerator\u001b[0m \u001b[1;33m=\u001b[0m \u001b[0mself\u001b[0m\u001b[1;33m.\u001b[0m\u001b[0mchildren\u001b[0m\u001b[1;33m\u001b[0m\u001b[1;33m\u001b[0m\u001b[0m\n",
      "\u001b[1;31mAttributeError\u001b[0m: 'str' object has no attribute 'descendants'"
     ]
    }
   ],
   "source": [
    "firsttag = soup.find_all('Reference Works')[0]\n",
    "nexttag = firsttag.find_next('a')\n",
    "def loop(text, element):\n",
    "    text += element.string\n",
    "    if (element.next.next == nexttag):             \n",
    "        return text\n",
    "    else:\n",
    "        return loop(text, element.next.next)\n",
    "sting = loop('', firsttag)\n",
    "print(string)"
   ]
  },
  {
   "cell_type": "markdown",
   "metadata": {},
   "source": [
    "### Moving on to translation (unchanged from chinese_initial notebook)"
   ]
  },
  {
   "cell_type": "code",
   "execution_count": 14,
   "metadata": {},
   "outputs": [],
   "source": [
    "wiki.set_lang(\"zh\")"
   ]
  },
  {
   "cell_type": "code",
   "execution_count": 15,
   "metadata": {},
   "outputs": [],
   "source": [
    "#homepage >> https://zh.wikipedia.org/wiki/Wikipedia:%E9%A6%96%E9%A1%B5"
   ]
  },
  {
   "cell_type": "code",
   "execution_count": 16,
   "metadata": {},
   "outputs": [
    {
     "name": "stdout",
     "output_type": "stream",
     "text": [
      "火（英語：Fire）是物質燃燒過程中所進行的強烈氧化反應，其能量會以光和熱的形式釋放，並會產生大量的生成物。緩慢的氧化反應，例如生锈或消化不在上述的定義中。\n",
      "火的可见部分称為焰，可以隨著粒子的振動而呈現不同的形狀，在温度足够高时能以等离子体（第四態，類似氣體）的形式出現。依燃燒的物質及純度不同，火焰的顏色和亮度也會不同。\n",
      "火必須有可燃物、夠高的熱或溫度、氧化劑及化學物四項並存才能生火，根據質量守恆定律，火不會使被燃燒物的原子消失，只是透過化學反應轉變了被燃燒物的分子型態。火失控時，常常稱作失火或火災。\n",
      "所有已知的人類社會都使用火，火的使用是普世文化通則之一；而在現代人演化出來之前，古代的人屬生物，也就是現代人類在生物學上的祖先，如直立人，可能在一百萬年前到一百五十萬年前或更早，就已知道用火。\n",
      "火是影響全球生態系統的重要因素之一，火的正面影響可以維持各種生態系統以及刺激其成長。人類用火來烹調、生熱、產生訊號、照明及推進等。火的負面影響包括水體污染、土壤流失、空氣污染及對生命財產的危害。而造成全球溫度升高的溫室效應，其原因之一就是來自燃燒化石燃料產生的二氧化碳。\n"
     ]
    }
   ],
   "source": [
    "print(wiki.summary('fire'))"
   ]
  },
  {
   "cell_type": "markdown",
   "metadata": {},
   "source": [
    "this works if I want to operate in the language version over several commands, without having to refer to the homepage, and can translate along the way, like this..."
   ]
  },
  {
   "cell_type": "code",
   "execution_count": 17,
   "metadata": {
    "scrolled": false
   },
   "outputs": [],
   "source": [
    "from google_trans_new import google_translator"
   ]
  },
  {
   "cell_type": "markdown",
   "metadata": {},
   "source": [
    "https://pypi.org/project/google-trans-new/"
   ]
  },
  {
   "cell_type": "code",
   "execution_count": 18,
   "metadata": {},
   "outputs": [
    {
     "name": "stdout",
     "output_type": "stream",
     "text": [
      "Hello Chinese \n"
     ]
    }
   ],
   "source": [
    "translator = google_translator()  \n",
    "translate_text = translator.translate('สวัสดีจีน', lang_tgt = 'en')  \n",
    "print(translate_text)\n",
    "# -> Hello China"
   ]
  },
  {
   "cell_type": "code",
   "execution_count": 19,
   "metadata": {
    "collapsed": true
   },
   "outputs": [
    {
     "ename": "TypeError",
     "evalue": "translate() got an unexpected keyword argument 'src'",
     "output_type": "error",
     "traceback": [
      "\u001b[1;31m---------------------------------------------------------------------------\u001b[0m",
      "\u001b[1;31mTypeError\u001b[0m                                 Traceback (most recent call last)",
      "\u001b[1;32m<ipython-input-19-aed3bfe1d41c>\u001b[0m in \u001b[0;36m<module>\u001b[1;34m\u001b[0m\n\u001b[1;32m----> 1\u001b[1;33m \u001b[0msource\u001b[0m \u001b[1;33m=\u001b[0m \u001b[0mtranslator\u001b[0m\u001b[1;33m.\u001b[0m\u001b[0mtranslate\u001b[0m\u001b[1;33m(\u001b[0m\u001b[1;34m'Estoy un computadora.'\u001b[0m\u001b[1;33m,\u001b[0m \u001b[0msrc\u001b[0m \u001b[1;33m=\u001b[0m \u001b[1;34m'sp'\u001b[0m\u001b[1;33m)\u001b[0m\u001b[1;33m\u001b[0m\u001b[1;33m\u001b[0m\u001b[0m\n\u001b[0m\u001b[0;32m      2\u001b[0m \u001b[0mdestination\u001b[0m \u001b[1;33m=\u001b[0m \u001b[0mtranslator\u001b[0m\u001b[1;33m.\u001b[0m\u001b[0mtranslate\u001b[0m\u001b[1;33m(\u001b[0m\u001b[0msource\u001b[0m\u001b[1;33m,\u001b[0m \u001b[0mdest\u001b[0m \u001b[1;33m=\u001b[0m \u001b[1;34m'en'\u001b[0m\u001b[1;33m)\u001b[0m\u001b[1;33m\u001b[0m\u001b[1;33m\u001b[0m\u001b[0m\n\u001b[0;32m      3\u001b[0m \u001b[0mprint\u001b[0m\u001b[1;33m(\u001b[0m\u001b[0mdestination\u001b[0m\u001b[1;33m)\u001b[0m\u001b[1;33m\u001b[0m\u001b[1;33m\u001b[0m\u001b[0m\n",
      "\u001b[1;31mTypeError\u001b[0m: translate() got an unexpected keyword argument 'src'"
     ]
    }
   ],
   "source": [
    "source = translator.translate('Estoy un computadora.', src = 'sp')\n",
    "destination = translator.translate(source, dest = 'en')\n",
    "print(destination)"
   ]
  },
  {
   "cell_type": "code",
   "execution_count": 20,
   "metadata": {
    "collapsed": true
   },
   "outputs": [
    {
     "ename": "TypeError",
     "evalue": "translate() got an unexpected keyword argument 'src'",
     "output_type": "error",
     "traceback": [
      "\u001b[1;31m---------------------------------------------------------------------------\u001b[0m",
      "\u001b[1;31mTypeError\u001b[0m                                 Traceback (most recent call last)",
      "\u001b[1;32m<ipython-input-20-25ce0d16755e>\u001b[0m in \u001b[0;36m<module>\u001b[1;34m\u001b[0m\n\u001b[1;32m----> 1\u001b[1;33m \u001b[0mboth\u001b[0m \u001b[1;33m=\u001b[0m \u001b[0mtranslator\u001b[0m\u001b[1;33m.\u001b[0m\u001b[0mtranslate\u001b[0m\u001b[1;33m(\u001b[0m\u001b[1;34m'Think about it.'\u001b[0m\u001b[1;33m,\u001b[0m \u001b[0msrc\u001b[0m \u001b[1;33m=\u001b[0m \u001b[1;34m'en'\u001b[0m\u001b[1;33m,\u001b[0m \u001b[0mdest\u001b[0m \u001b[1;33m=\u001b[0m \u001b[1;34m'en'\u001b[0m\u001b[1;33m)\u001b[0m\u001b[1;33m\u001b[0m\u001b[1;33m\u001b[0m\u001b[0m\n\u001b[0m\u001b[0;32m      2\u001b[0m \u001b[0mprint\u001b[0m\u001b[1;33m(\u001b[0m\u001b[0mboth\u001b[0m\u001b[1;33m)\u001b[0m\u001b[1;33m\u001b[0m\u001b[1;33m\u001b[0m\u001b[0m\n",
      "\u001b[1;31mTypeError\u001b[0m: translate() got an unexpected keyword argument 'src'"
     ]
    }
   ],
   "source": [
    "both = translator.translate('Think about it.', src = 'en', dest = 'en')\n",
    "print(both)"
   ]
  },
  {
   "cell_type": "code",
   "execution_count": 35,
   "metadata": {},
   "outputs": [
    {
     "name": "stdout",
     "output_type": "stream",
     "text": [
      "Fire (English: fire) is a strong oxidation reaction in the biopsy process, which is released in the form of light and heat and produces a large amount of product. Slow oxidation reactions, such as rust or digestion is not in the above definition.\n",
      "The visible portion of the fire is called the flame, and may exhibit different shapes as the vibration of the particles can occur in the form of a plasma (fourth state, similar gas) when the temperature is sufficiently high. The material and pureness of the flame will be different in the material and purity of the combustion.\n",
      "Fire must have flammable materials, high heat or temperature, oxidant and chemical four coexistence to make fire, according to quality conservation law, fire does not disappear the atom of the burner, only transforms the molecules of the burner by chemical reaction Type. When the fire is out of control, it is often referred to as a fire or fire.\n",
      "All known human society use fire, the use of fire is one of the universal cultural customs; before modern people evolved, the ancient people are creatures, which is modern human in biological ancestors, such as an Ertilist, It may be known to use fire before or earlier in a million years ago.\n",
      "Fire is one of the important factors affecting the global ecosystem. The positive impact of fire can maintain a variety of ecosystems and stimulate their growth. Human use fire to cook, heat, generate signal, lighting, and advancement. The negative impact of fire includes water pollution, soil loss, air pollution, and harm to life and property. A greenhouse effect that has increased global temperature is one of the reasons why the carbon dioxide produced from burning fossil fuels. \n"
     ]
    },
    {
     "data": {
      "text/plain": [
       "'火（英語：Fire）是物質燃燒過程中所進行的強烈氧化反應，其能量會以光和熱的形式釋放，並會產生大量的生成物。緩慢的氧化反應，例如生锈或消化不在上述的定義中。\\n火的可见部分称為焰，可以隨著粒子的振動而呈現不同的形狀，在温度足够高时能以等离子体（第四態，類似氣體）的形式出現。依燃燒的物質及純度不同，火焰的顏色和亮度也會不同。\\n火必須有可燃物、夠高的熱或溫度、氧化劑及化學物四項並存才能生火，根據質量守恆定律，火不會使被燃燒物的原子消失，只是透過化學反應轉變了被燃燒物的分子型態。火失控時，常常稱作失火或火災。\\n所有已知的人類社會都使用火，火的使用是普世文化通則之一；而在現代人演化出來之前，古代的人屬生物，也就是現代人類在生物學上的祖先，如直立人，可能在一百萬年前到一百五十萬年前或更早，就已知道用火。\\n火是影響全球生態系統的重要因素之一，火的正面影響可以維持各種生態系統以及刺激其成長。人類用火來烹調、生熱、產生訊號、照明及推進等。火的負面影響包括水體污染、土壤流失、空氣污染及對生命財產的危害。而造成全球溫度升高的溫室效應，其原因之一就是來自燃燒化石燃料產生的二氧化碳。'"
      ]
     },
     "execution_count": 35,
     "metadata": {},
     "output_type": "execute_result"
    }
   ],
   "source": [
    "wiki.set_lang(\"zh\")\n",
    "\n",
    "fire_summary = translator.translate(wiki.summary('fire'), lang_tgt = 'en')  \n",
    "print(fire_summary)\n",
    "wiki.summary('fire')"
   ]
  },
  {
   "cell_type": "markdown",
   "metadata": {},
   "source": [
    "..first time got 'Disambiguation error' with recommendations, but after re-ran set_lang, got the article."
   ]
  },
  {
   "cell_type": "code",
   "execution_count": 36,
   "metadata": {},
   "outputs": [
    {
     "name": "stdout",
     "output_type": "stream",
     "text": [
      "'General_reference','Culture_and_the_arts','Geography_and_places','Health_and_fitness','History_and_events','Human_activities','Mathematics_and_logic','Natural_and_physical_sciences','People_and_self','Philosophy_and_thinking','Religion_and_belief_systems','Society_and_social_sciences','Technology_and_applied_sciences'\n",
      "['Wikipedia:互助客栈/消息/存档/2019年10月']\n"
     ]
    }
   ],
   "source": [
    "level_1_text = \"'General reference','Culture and the arts','Geography and places','Health and fitness','History and events','Human activities','Mathematics and logic','Natural and physical sciences','People and self','Philosophy and thinking','Religion and belief systems','Society and social sciences','Technology and applied sciences'\"\n",
    "level_1_under = level_1_text.replace(\" \", \"_\")\n",
    "print(level_1_under)\n",
    "\n",
    "print(wiki.search('Wikipedia:Contents/Society_and_social_sciences'))\n",
    "#same test as intial notebook, don't see this list on page"
   ]
  },
  {
   "cell_type": "code",
   "execution_count": 37,
   "metadata": {},
   "outputs": [],
   "source": [
    "#While Mandarin Chinese language is natively called Hànyǔ,\n",
    "#I will be using zh (as in Zhōngguó, \"China\"), \n",
    "#for consistency with the prefix of the Wikipedia site.\n",
    "level_1_zh = [\n",
    "    'Life, art and culture',\n",
    "    'All over the world',\n",
    "    'Chinese culture',\n",
    "    'Humanities and Social Sciences',\n",
    "    'society',\n",
    "    'Nature and Natural Sciences',\n",
    "    'Religion and belief',\n",
    "    'Engineering,Technology and Applied Science'\n",
    "    ]"
   ]
  },
  {
   "cell_type": "code",
   "execution_count": 33,
   "metadata": {},
   "outputs": [
    {
     "name": "stdout",
     "output_type": "stream",
     "text": [
      "'Life,_art_and_culture','All_over_the_world','Chinese_culture','Humanities_and_Social_Sciences','society','Nature_and_Natural_Sciences','Religion_and_belief','Engineering,Technology_and_Applied_Science'\n"
     ]
    }
   ],
   "source": [
    "level_1_zh_text = \"'Life, art and culture','All over the world','Chinese culture','Humanities and Social Sciences','society','Nature and Natural Sciences','Religion and belief','Engineering,Technology and Applied Science'\"\n",
    "level_1_zh = level_1_zh_text.replace(\" \", \"_\")\n",
    "print(level_1_zh)"
   ]
  },
  {
   "cell_type": "code",
   "execution_count": 34,
   "metadata": {},
   "outputs": [],
   "source": [
    "level_1_en = level_1_under\n",
    "#from first few lines in notebook, with \"en\" for English"
   ]
  },
  {
   "cell_type": "markdown",
   "metadata": {},
   "source": [
    "Here is an alternating (English,Chinese,Eng...) list of main categories.  Where there is not a good match, I am placing 'none'.   Mostly these are due to those topics being grouped differently and covered under another category.  Even these main labels are subject to translation error due to usage, so I may just pay a translator for key points as I collect a few more instances of this."
   ]
  },
  {
   "cell_type": "code",
   "execution_count": 21,
   "metadata": {},
   "outputs": [],
   "source": [
    "#may add underscores for some application, given these are high level.\n",
    "level_1_both = [\n",
    "    'General reference','none',\n",
    "    'Culture and the arts','Life, art and culture',\n",
    "    'none','Chinese culture',\n",
    "    'Geography and places','All over the world',\n",
    "    'Health and fitness','none',\n",
    "    'History and events','none',\n",
    "    'Human activities','society',\n",
    "    #society on the Chinese side really overlaps more with their\n",
    "    #'Humanities and Social Sciences' seen further down.\n",
    "    'Mathematics and logic','none',\n",
    "    'Natural and physical sciences','Nature and Natural Sciences',\n",
    "    'People and self','none',\n",
    "    'Philosophy and thinking','none',\n",
    "    'Religion and belief systems','Religion and belief',\n",
    "    'Society and social sciences','Humanities and Social Sciences',\n",
    "    'Technology and applied sciences','Engineering,Technology and Applied Science'\n",
    "    ] # The Chinese has fewer categories but several are more flexible in their contents.\n",
    "        #Perhaps there is a sense of things being connected,\n",
    "        #or the scattered formation of this version due to mainland censorship\n",
    "        #may even promote this flexibility on the site."
   ]
  },
  {
   "cell_type": "markdown",
   "metadata": {},
   "source": [
    "While not yet computational, looking at groupings of areas of information may in itself give some hypothetical starting framework for later comparisons. (This will be tremendously more difficult when expanding to more than a few other language versions, if the disparity pervades, but may also lead into some network analysis) "
   ]
  },
  {
   "cell_type": "code",
   "execution_count": 22,
   "metadata": {},
   "outputs": [],
   "source": [
    "#lev1_en_list = level_1.insert(2, 'none') ...just add at top of notebook "
   ]
  },
  {
   "cell_type": "code",
   "execution_count": 23,
   "metadata": {},
   "outputs": [],
   "source": [
    "lev1_en_list = level_1"
   ]
  },
  {
   "cell_type": "code",
   "execution_count": 24,
   "metadata": {},
   "outputs": [],
   "source": [
    "lev1_zh_list = [\n",
    "    'none',\n",
    "    'Life, art and culture',\n",
    "    'Chinese culture',\n",
    "    'All over the world',\n",
    "    'none',\n",
    "    'none',\n",
    "    'society',\n",
    "    'none',\n",
    "    'Nature and Natural Sciences',\n",
    "    'none',\n",
    "    'none',\n",
    "    'Religion and belief',\n",
    "    'Humanities and Social Sciences',\n",
    "    'Engineering,Technology and Applied Science'\n",
    "    ]"
   ]
  },
  {
   "cell_type": "markdown",
   "metadata": {},
   "source": [
    "Make DataFrame from these lists."
   ]
  },
  {
   "cell_type": "code",
   "execution_count": 40,
   "metadata": {},
   "outputs": [],
   "source": [
    "both_level_1 = pd.DataFrame(list(zip(lev1_zh_list, lev1_en_list)),\n",
    "               columns =['Hànyǔ', 'English'])"
   ]
  },
  {
   "cell_type": "code",
   "execution_count": 42,
   "metadata": {},
   "outputs": [
    {
     "data": {
      "text/html": [
       "<div>\n",
       "<style scoped>\n",
       "    .dataframe tbody tr th:only-of-type {\n",
       "        vertical-align: middle;\n",
       "    }\n",
       "\n",
       "    .dataframe tbody tr th {\n",
       "        vertical-align: top;\n",
       "    }\n",
       "\n",
       "    .dataframe thead th {\n",
       "        text-align: right;\n",
       "    }\n",
       "</style>\n",
       "<table border=\"1\" class=\"dataframe\">\n",
       "  <thead>\n",
       "    <tr style=\"text-align: right;\">\n",
       "      <th></th>\n",
       "      <th>Hànyǔ</th>\n",
       "      <th>English</th>\n",
       "    </tr>\n",
       "  </thead>\n",
       "  <tbody>\n",
       "    <tr>\n",
       "      <td>0</td>\n",
       "      <td>none</td>\n",
       "      <td>General reference</td>\n",
       "    </tr>\n",
       "    <tr>\n",
       "      <td>1</td>\n",
       "      <td>Life, art and culture</td>\n",
       "      <td>Culture and the arts</td>\n",
       "    </tr>\n",
       "    <tr>\n",
       "      <td>2</td>\n",
       "      <td>Chinese culture</td>\n",
       "      <td>none</td>\n",
       "    </tr>\n",
       "    <tr>\n",
       "      <td>3</td>\n",
       "      <td>All over the world</td>\n",
       "      <td>Geography and places</td>\n",
       "    </tr>\n",
       "    <tr>\n",
       "      <td>4</td>\n",
       "      <td>none</td>\n",
       "      <td>Health and fitness</td>\n",
       "    </tr>\n",
       "    <tr>\n",
       "      <td>5</td>\n",
       "      <td>none</td>\n",
       "      <td>History and events</td>\n",
       "    </tr>\n",
       "    <tr>\n",
       "      <td>6</td>\n",
       "      <td>society</td>\n",
       "      <td>Human activities</td>\n",
       "    </tr>\n",
       "    <tr>\n",
       "      <td>7</td>\n",
       "      <td>none</td>\n",
       "      <td>Mathematics and logic</td>\n",
       "    </tr>\n",
       "    <tr>\n",
       "      <td>8</td>\n",
       "      <td>Nature and Natural Sciences</td>\n",
       "      <td>Natural and physical sciences</td>\n",
       "    </tr>\n",
       "    <tr>\n",
       "      <td>9</td>\n",
       "      <td>none</td>\n",
       "      <td>People and self</td>\n",
       "    </tr>\n",
       "    <tr>\n",
       "      <td>10</td>\n",
       "      <td>none</td>\n",
       "      <td>Philosophy and thinking</td>\n",
       "    </tr>\n",
       "    <tr>\n",
       "      <td>11</td>\n",
       "      <td>Religion and belief</td>\n",
       "      <td>Religion and belief systems</td>\n",
       "    </tr>\n",
       "    <tr>\n",
       "      <td>12</td>\n",
       "      <td>Humanities and Social Sciences</td>\n",
       "      <td>Society and social sciences</td>\n",
       "    </tr>\n",
       "    <tr>\n",
       "      <td>13</td>\n",
       "      <td>Engineering,Technology and Applied Science</td>\n",
       "      <td>Technology and applied sciences</td>\n",
       "    </tr>\n",
       "  </tbody>\n",
       "</table>\n",
       "</div>"
      ],
      "text/plain": [
       "                                         Hànyǔ  \\\n",
       "0                                         none   \n",
       "1                        Life, art and culture   \n",
       "2                              Chinese culture   \n",
       "3                           All over the world   \n",
       "4                                         none   \n",
       "5                                         none   \n",
       "6                                      society   \n",
       "7                                         none   \n",
       "8                  Nature and Natural Sciences   \n",
       "9                                         none   \n",
       "10                                        none   \n",
       "11                         Religion and belief   \n",
       "12              Humanities and Social Sciences   \n",
       "13  Engineering,Technology and Applied Science   \n",
       "\n",
       "                            English  \n",
       "0                 General reference  \n",
       "1              Culture and the arts  \n",
       "2                              none  \n",
       "3              Geography and places  \n",
       "4                Health and fitness  \n",
       "5                History and events  \n",
       "6                  Human activities  \n",
       "7             Mathematics and logic  \n",
       "8     Natural and physical sciences  \n",
       "9                   People and self  \n",
       "10          Philosophy and thinking  \n",
       "11      Religion and belief systems  \n",
       "12      Society and social sciences  \n",
       "13  Technology and applied sciences  "
      ]
     },
     "execution_count": 42,
     "metadata": {},
     "output_type": "execute_result"
    }
   ],
   "source": [
    "both_level_1.head(20)"
   ]
  },
  {
   "cell_type": "markdown",
   "metadata": {},
   "source": [
    "Level 2 test English"
   ]
  },
  {
   "cell_type": "code",
   "execution_count": 25,
   "metadata": {},
   "outputs": [
    {
     "name": "stdout",
     "output_type": "stream",
     "text": [
      "['Wikipedia:互助客栈/消息/存档/2019年10月']\n"
     ]
    }
   ],
   "source": [
    "print(wiki.search('Wikipedia:Contents/Society_and_social_sciences'))\n",
    "#same test as intial notebook, don't see this list on page"
   ]
  },
  {
   "cell_type": "markdown",
   "metadata": {},
   "source": [
    "### May be useful later..."
   ]
  },
  {
   "cell_type": "code",
   "execution_count": 26,
   "metadata": {
    "scrolled": true
   },
   "outputs": [
    {
     "name": "stdout",
     "output_type": "stream",
     "text": [
      "['th', 'thai']\n"
     ]
    }
   ],
   "source": [
    "# https://pypi.org/project/google-trans-new/\n",
    "\n",
    "from google_trans_new import google_translator  \n",
    "\n",
    "detector = google_translator()  \n",
    "detect_result = detector.detect('สวัสดีจีน')\n",
    "# <Detect text=สวัสดีจีน >  \n",
    "print(detect_result)"
   ]
  },
  {
   "cell_type": "code",
   "execution_count": 27,
   "metadata": {},
   "outputs": [
    {
     "name": "stdout",
     "output_type": "stream",
     "text": [
      "['zh-CN', 'chinese (simplified)']\n"
     ]
    }
   ],
   "source": [
    "detect_result = detector.detect(wiki.summary('fire'))\n",
    "print(detect_result)"
   ]
  },
  {
   "cell_type": "code",
   "execution_count": 28,
   "metadata": {},
   "outputs": [
    {
     "name": "stdout",
     "output_type": "stream",
     "text": [
      "['zh-CN', 'chinese (simplified)']\n"
     ]
    }
   ],
   "source": [
    "detect_result = detector.detect(wiki.summary('火'))\n",
    "print(detect_result)"
   ]
  },
  {
   "cell_type": "markdown",
   "metadata": {},
   "source": [
    "### For later expansion into other versions"
   ]
  },
  {
   "cell_type": "code",
   "execution_count": 29,
   "metadata": {
    "collapsed": true
   },
   "outputs": [
    {
     "ename": "AttributeError",
     "evalue": "type object 'google_translator' has no attribute 'languages'",
     "output_type": "error",
     "traceback": [
      "\u001b[1;31m---------------------------------------------------------------------------\u001b[0m",
      "\u001b[1;31mAttributeError\u001b[0m                            Traceback (most recent call last)",
      "\u001b[1;32m<ipython-input-29-80456bb93043>\u001b[0m in \u001b[0;36m<module>\u001b[1;34m\u001b[0m\n\u001b[1;32m----> 1\u001b[1;33m \u001b[0mprint\u001b[0m\u001b[1;33m(\u001b[0m\u001b[0mgoogle_translator\u001b[0m\u001b[1;33m.\u001b[0m\u001b[0mlanguages\u001b[0m\u001b[1;33m)\u001b[0m\u001b[1;33m\u001b[0m\u001b[1;33m\u001b[0m\u001b[0m\n\u001b[0m\u001b[0;32m      2\u001b[0m \u001b[1;31m#should give a list of all lang's and codes\u001b[0m\u001b[1;33m\u001b[0m\u001b[1;33m\u001b[0m\u001b[1;33m\u001b[0m\u001b[0m\n",
      "\u001b[1;31mAttributeError\u001b[0m: type object 'google_translator' has no attribute 'languages'"
     ]
    }
   ],
   "source": [
    "print(google_translator.languages)\n",
    "#should give a list of all lang's and codes"
   ]
  },
  {
   "cell_type": "code",
   "execution_count": 30,
   "metadata": {},
   "outputs": [
    {
     "name": "stdout",
     "output_type": "stream",
     "text": [
      "['pl', 'polish']\n"
     ]
    }
   ],
   "source": [
    "detect_result = detector.detect(\"jejic ncuxyw iujdyh oowiwu\")\n",
    "print(detect_result)"
   ]
  },
  {
   "cell_type": "code",
   "execution_count": 31,
   "metadata": {},
   "outputs": [
    {
     "name": "stdout",
     "output_type": "stream",
     "text": [
      "['mt', 'maltese']\n"
     ]
    }
   ],
   "source": [
    "detect_result = detector.detect(\"lshdjfhgkkdhj\")\n",
    "print(detect_result)"
   ]
  },
  {
   "cell_type": "code",
   "execution_count": 32,
   "metadata": {},
   "outputs": [
    {
     "name": "stdout",
     "output_type": "stream",
     "text": [
      "['ja', 'japanese']\n"
     ]
    }
   ],
   "source": [
    "detect_result = detector.detect(\"yaueiaiyeyoiuyeyeiuueyuioeaiayaiuayoiuyaeiuya\")\n",
    "print(detect_result)"
   ]
  },
  {
   "cell_type": "code",
   "execution_count": null,
   "metadata": {},
   "outputs": [],
   "source": []
  }
 ],
 "metadata": {
  "kernelspec": {
   "display_name": "Python 3",
   "language": "python",
   "name": "python3"
  },
  "language_info": {
   "codemirror_mode": {
    "name": "ipython",
    "version": 3
   },
   "file_extension": ".py",
   "mimetype": "text/x-python",
   "name": "python",
   "nbconvert_exporter": "python",
   "pygments_lexer": "ipython3",
   "version": "3.7.4"
  }
 },
 "nbformat": 4,
 "nbformat_minor": 2
}
