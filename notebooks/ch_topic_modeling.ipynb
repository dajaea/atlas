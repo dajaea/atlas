{
 "cells": [
  {
   "cell_type": "markdown",
   "metadata": {},
   "source": [
    "from helper import *"
   ]
  },
  {
   "cell_type": "code",
   "execution_count": 1,
   "metadata": {},
   "outputs": [],
   "source": [
    "import warnings"
   ]
  },
  {
   "cell_type": "code",
   "execution_count": 2,
   "metadata": {},
   "outputs": [],
   "source": [
    "warnings.filterwarnings('ignore')"
   ]
  },
  {
   "cell_type": "code",
   "execution_count": 3,
   "metadata": {
    "collapsed": true
   },
   "outputs": [
    {
     "name": "stderr",
     "output_type": "stream",
     "text": [
      "C:\\Users\\Owner\\Anaconda3\\lib\\site-packages\\sklearn\\feature_extraction\\image.py:167: DeprecationWarning: `np.int` is a deprecated alias for the builtin `int`. To silence this warning, use `int` by itself. Doing this will not modify any behavior and is safe. When replacing `np.int`, you may wish to use e.g. `np.int64` or `np.int32` to specify the precision. If you wish to review your current use, check the release note link for additional information.\n",
      "Deprecated in NumPy 1.20; for more details and guidance: https://numpy.org/devdocs/release/1.20.0-notes.html#deprecations\n",
      "  dtype=np.int):\n",
      "C:\\Users\\Owner\\Anaconda3\\lib\\site-packages\\sklearn\\linear_model\\least_angle.py:30: DeprecationWarning: `np.float` is a deprecated alias for the builtin `float`. To silence this warning, use `float` by itself. Doing this will not modify any behavior and is safe. If you specifically wanted the numpy scalar type, use `np.float64` here.\n",
      "Deprecated in NumPy 1.20; for more details and guidance: https://numpy.org/devdocs/release/1.20.0-notes.html#deprecations\n",
      "  method='lar', copy_X=True, eps=np.finfo(np.float).eps,\n",
      "C:\\Users\\Owner\\Anaconda3\\lib\\site-packages\\sklearn\\linear_model\\least_angle.py:167: DeprecationWarning: `np.float` is a deprecated alias for the builtin `float`. To silence this warning, use `float` by itself. Doing this will not modify any behavior and is safe. If you specifically wanted the numpy scalar type, use `np.float64` here.\n",
      "Deprecated in NumPy 1.20; for more details and guidance: https://numpy.org/devdocs/release/1.20.0-notes.html#deprecations\n",
      "  method='lar', copy_X=True, eps=np.finfo(np.float).eps,\n",
      "C:\\Users\\Owner\\Anaconda3\\lib\\site-packages\\sklearn\\linear_model\\least_angle.py:284: DeprecationWarning: `np.float` is a deprecated alias for the builtin `float`. To silence this warning, use `float` by itself. Doing this will not modify any behavior and is safe. If you specifically wanted the numpy scalar type, use `np.float64` here.\n",
      "Deprecated in NumPy 1.20; for more details and guidance: https://numpy.org/devdocs/release/1.20.0-notes.html#deprecations\n",
      "  eps=np.finfo(np.float).eps, copy_Gram=True, verbose=0,\n",
      "C:\\Users\\Owner\\Anaconda3\\lib\\site-packages\\sklearn\\linear_model\\least_angle.py:862: DeprecationWarning: `np.float` is a deprecated alias for the builtin `float`. To silence this warning, use `float` by itself. Doing this will not modify any behavior and is safe. If you specifically wanted the numpy scalar type, use `np.float64` here.\n",
      "Deprecated in NumPy 1.20; for more details and guidance: https://numpy.org/devdocs/release/1.20.0-notes.html#deprecations\n",
      "  eps=np.finfo(np.float).eps, copy_X=True, fit_path=True,\n",
      "C:\\Users\\Owner\\Anaconda3\\lib\\site-packages\\sklearn\\linear_model\\least_angle.py:1101: DeprecationWarning: `np.float` is a deprecated alias for the builtin `float`. To silence this warning, use `float` by itself. Doing this will not modify any behavior and is safe. If you specifically wanted the numpy scalar type, use `np.float64` here.\n",
      "Deprecated in NumPy 1.20; for more details and guidance: https://numpy.org/devdocs/release/1.20.0-notes.html#deprecations\n",
      "  eps=np.finfo(np.float).eps, copy_X=True, fit_path=True,\n",
      "C:\\Users\\Owner\\Anaconda3\\lib\\site-packages\\sklearn\\linear_model\\least_angle.py:1127: DeprecationWarning: `np.float` is a deprecated alias for the builtin `float`. To silence this warning, use `float` by itself. Doing this will not modify any behavior and is safe. If you specifically wanted the numpy scalar type, use `np.float64` here.\n",
      "Deprecated in NumPy 1.20; for more details and guidance: https://numpy.org/devdocs/release/1.20.0-notes.html#deprecations\n",
      "  eps=np.finfo(np.float).eps, positive=False):\n",
      "C:\\Users\\Owner\\Anaconda3\\lib\\site-packages\\sklearn\\linear_model\\least_angle.py:1362: DeprecationWarning: `np.float` is a deprecated alias for the builtin `float`. To silence this warning, use `float` by itself. Doing this will not modify any behavior and is safe. If you specifically wanted the numpy scalar type, use `np.float64` here.\n",
      "Deprecated in NumPy 1.20; for more details and guidance: https://numpy.org/devdocs/release/1.20.0-notes.html#deprecations\n",
      "  max_n_alphas=1000, n_jobs=None, eps=np.finfo(np.float).eps,\n",
      "C:\\Users\\Owner\\Anaconda3\\lib\\site-packages\\sklearn\\linear_model\\least_angle.py:1602: DeprecationWarning: `np.float` is a deprecated alias for the builtin `float`. To silence this warning, use `float` by itself. Doing this will not modify any behavior and is safe. If you specifically wanted the numpy scalar type, use `np.float64` here.\n",
      "Deprecated in NumPy 1.20; for more details and guidance: https://numpy.org/devdocs/release/1.20.0-notes.html#deprecations\n",
      "  max_n_alphas=1000, n_jobs=None, eps=np.finfo(np.float).eps,\n",
      "C:\\Users\\Owner\\Anaconda3\\lib\\site-packages\\sklearn\\linear_model\\least_angle.py:1738: DeprecationWarning: `np.float` is a deprecated alias for the builtin `float`. To silence this warning, use `float` by itself. Doing this will not modify any behavior and is safe. If you specifically wanted the numpy scalar type, use `np.float64` here.\n",
      "Deprecated in NumPy 1.20; for more details and guidance: https://numpy.org/devdocs/release/1.20.0-notes.html#deprecations\n",
      "  eps=np.finfo(np.float).eps, copy_X=True, positive=False):\n",
      "[nltk_data] Downloading package stopwords to\n",
      "[nltk_data]     C:\\Users\\Owner\\AppData\\Roaming\\nltk_data...\n",
      "[nltk_data]   Package stopwords is already up-to-date!\n",
      "[nltk_data] Downloading package wordnet to\n",
      "[nltk_data]     C:\\Users\\Owner\\AppData\\Roaming\\nltk_data...\n",
      "[nltk_data]   Package wordnet is already up-to-date!\n"
     ]
    },
    {
     "data": {
      "text/plain": [
       "True"
      ]
     },
     "execution_count": 3,
     "metadata": {},
     "output_type": "execute_result"
    }
   ],
   "source": [
    "import nltk\n",
    "nltk.download('stopwords')\n",
    "nltk.download('wordnet')"
   ]
  },
  {
   "cell_type": "code",
   "execution_count": 6,
   "metadata": {},
   "outputs": [],
   "source": [
    "from nltk.corpus import stopwords \n",
    "from nltk.stem.wordnet import WordNetLemmatizer\n",
    "import string\n",
    "\n",
    "stopwords = set(stopwords.words('english'))\n",
    "punctuation = set(string.punctuation) \n",
    "lemmatize = WordNetLemmatizer()\n",
    "\n",
    "def cleaning(article):\n",
    "    one = \" \".join([i for i in article.lower().split() if i not in stopwords])\n",
    "    two = \"\".join(i for i in one if i not in punctuation)\n",
    "    three = \" \".join(lemmatize.lemmatize(i) for i in two.split())\n",
    "    return three"
   ]
  },
  {
   "cell_type": "code",
   "execution_count": 7,
   "metadata": {},
   "outputs": [],
   "source": [
    "import pandas as pd\n",
    "import numpy as np\n",
    "import re\n",
    "import json\n",
    "import glob"
   ]
  },
  {
   "cell_type": "code",
   "execution_count": 8,
   "metadata": {},
   "outputs": [],
   "source": [
    "folder = (glob.glob('../data/chinese_topic_full_content/*'))"
   ]
  },
  {
   "cell_type": "code",
   "execution_count": 9,
   "metadata": {},
   "outputs": [],
   "source": [
    "article_list = []\n",
    "for file in folder:\n",
    "    with open(file, 'r') as f:\n",
    "        article = json.load(f)\n",
    "    article_list.append(article)"
   ]
  },
  {
   "cell_type": "code",
   "execution_count": 10,
   "metadata": {},
   "outputs": [
    {
     "name": "stdout",
     "output_type": "stream",
     "text": [
      "<class 'pandas.core.frame.DataFrame'>\n",
      "RangeIndex: 145 entries, 0 to 144\n",
      "Data columns (total 2 columns):\n",
      " #   Column         Non-Null Count  Dtype \n",
      "---  ------         --------------  ----- \n",
      " 0   chinese_title  145 non-null    object\n",
      " 1   chinese        145 non-null    object\n",
      "dtypes: object(2)\n",
      "memory usage: 2.4+ KB\n"
     ]
    }
   ],
   "source": [
    "articles = pd.DataFrame(article_list).replace(r'^\\s*$', np.nan, regex = True)\n",
    "articles.info()\n",
    "\n",
    "#ignore error - dataframe still runs"
   ]
  },
  {
   "cell_type": "code",
   "execution_count": 11,
   "metadata": {},
   "outputs": [],
   "source": [
    "articles = articles.dropna()"
   ]
  },
  {
   "cell_type": "code",
   "execution_count": 12,
   "metadata": {},
   "outputs": [
    {
     "data": {
      "text/html": [
       "<div>\n",
       "<style scoped>\n",
       "    .dataframe tbody tr th:only-of-type {\n",
       "        vertical-align: middle;\n",
       "    }\n",
       "\n",
       "    .dataframe tbody tr th {\n",
       "        vertical-align: top;\n",
       "    }\n",
       "\n",
       "    .dataframe thead th {\n",
       "        text-align: right;\n",
       "    }\n",
       "</style>\n",
       "<table border=\"1\" class=\"dataframe\">\n",
       "  <thead>\n",
       "    <tr style=\"text-align: right;\">\n",
       "      <th></th>\n",
       "      <th>chinese_title</th>\n",
       "      <th>chinese</th>\n",
       "    </tr>\n",
       "  </thead>\n",
       "  <tbody>\n",
       "    <tr>\n",
       "      <th>0</th>\n",
       "      <td>Aerospace</td>\n",
       "      <td>Aerospace is the general name of the activitie...</td>\n",
       "    </tr>\n",
       "    <tr>\n",
       "      <th>1</th>\n",
       "      <td>Africa</td>\n",
       "      <td>Afrifa [2] (Latin: Africa), referred to as Afr...</td>\n",
       "    </tr>\n",
       "    <tr>\n",
       "      <th>2</th>\n",
       "      <td>Agriculture</td>\n",
       "      <td>Agricultural, narrow, specializing in agronomi...</td>\n",
       "    </tr>\n",
       "    <tr>\n",
       "      <th>3</th>\n",
       "      <td>animal</td>\n",
       "      <td>Animals, or a Metazoan, a group of multi-cell ...</td>\n",
       "    </tr>\n",
       "    <tr>\n",
       "      <th>4</th>\n",
       "      <td>Animation</td>\n",
       "      <td>Animation (English: animation) is a visual res...</td>\n",
       "    </tr>\n",
       "    <tr>\n",
       "      <th>...</th>\n",
       "      <td>...</td>\n",
       "      <td>...</td>\n",
       "    </tr>\n",
       "    <tr>\n",
       "      <th>140</th>\n",
       "      <td>Tradition</td>\n",
       "      <td>Traditional refers to the ideas, morality, cus...</td>\n",
       "    </tr>\n",
       "    <tr>\n",
       "      <th>141</th>\n",
       "      <td>traffic</td>\n",
       "      <td>Transportation refers to the exchange of peopl...</td>\n",
       "    </tr>\n",
       "    <tr>\n",
       "      <th>142</th>\n",
       "      <td>TV</td>\n",
       "      <td>TV (English: Television, referred to as: TV) T...</td>\n",
       "    </tr>\n",
       "    <tr>\n",
       "      <th>143</th>\n",
       "      <td>Various religions</td>\n",
       "      <td>This entry outlines the situation of religious...</td>\n",
       "    </tr>\n",
       "    <tr>\n",
       "      <th>144</th>\n",
       "      <td>Water conservancy project</td>\n",
       "      <td>Hydraulic Engineering is a general name of var...</td>\n",
       "    </tr>\n",
       "  </tbody>\n",
       "</table>\n",
       "<p>145 rows × 2 columns</p>\n",
       "</div>"
      ],
      "text/plain": [
       "                  chinese_title  \\\n",
       "0                    Aerospace    \n",
       "1                       Africa    \n",
       "2                  Agriculture    \n",
       "3                       animal    \n",
       "4                    Animation    \n",
       "..                          ...   \n",
       "140                  Tradition    \n",
       "141                    traffic    \n",
       "142                         TV    \n",
       "143          Various religions    \n",
       "144  Water conservancy project    \n",
       "\n",
       "                                               chinese  \n",
       "0    Aerospace is the general name of the activitie...  \n",
       "1    Afrifa [2] (Latin: Africa), referred to as Afr...  \n",
       "2    Agricultural, narrow, specializing in agronomi...  \n",
       "3    Animals, or a Metazoan, a group of multi-cell ...  \n",
       "4    Animation (English: animation) is a visual res...  \n",
       "..                                                 ...  \n",
       "140  Traditional refers to the ideas, morality, cus...  \n",
       "141  Transportation refers to the exchange of peopl...  \n",
       "142  TV (English: Television, referred to as: TV) T...  \n",
       "143  This entry outlines the situation of religious...  \n",
       "144  Hydraulic Engineering is a general name of var...  \n",
       "\n",
       "[145 rows x 2 columns]"
      ]
     },
     "execution_count": 12,
     "metadata": {},
     "output_type": "execute_result"
    }
   ],
   "source": [
    "articles.head(200)"
   ]
  },
  {
   "cell_type": "code",
   "execution_count": 13,
   "metadata": {},
   "outputs": [
    {
     "data": {
      "text/plain": [
       "145"
      ]
     },
     "execution_count": 13,
     "metadata": {},
     "output_type": "execute_result"
    }
   ],
   "source": [
    "text = articles.applymap(cleaning)['chinese']\n",
    "text_list = [i.split() for i in text]\n",
    "len(text_list)"
   ]
  },
  {
   "cell_type": "code",
   "execution_count": 14,
   "metadata": {},
   "outputs": [
    {
     "data": {
      "text/plain": [
       "['aerospace',\n",
       " 'general',\n",
       " 'name',\n",
       " 'activity',\n",
       " 'occurred',\n",
       " 'development',\n",
       " 'atmosphere',\n",
       " 'space',\n",
       " 'universe',\n",
       " 'aviation',\n",
       " 'aerospace',\n",
       " 'separated',\n",
       " 'detail',\n",
       " 'among',\n",
       " 'them',\n",
       " 'aviation',\n",
       " 'refers',\n",
       " 'navigation',\n",
       " 'activity',\n",
       " 'manned',\n",
       " 'noncarriers',\n",
       " 'atmosphere',\n",
       " 'space',\n",
       " 'refers',\n",
       " 'navigation',\n",
       " 'activity',\n",
       " 'universe',\n",
       " 'space',\n",
       " 'outside',\n",
       " 'atmosphere',\n",
       " 'manned',\n",
       " 'noncarrier',\n",
       " '1',\n",
       " 'however',\n",
       " 'emission',\n",
       " 'recycling',\n",
       " 'process',\n",
       " 'spacecraft',\n",
       " 'must',\n",
       " 'pas',\n",
       " 'atmosphere',\n",
       " 'make',\n",
       " 'necessary',\n",
       " 'contact',\n",
       " 'aerospace',\n",
       " 'spaceship',\n",
       " 'aerospace',\n",
       " 'plane',\n",
       " 'landing',\n",
       " 'horizontal',\n",
       " 'gliding',\n",
       " 'level',\n",
       " 'empty',\n",
       " 'air',\n",
       " 'plane',\n",
       " 'currently',\n",
       " 'developing',\n",
       " 'country',\n",
       " 'best',\n",
       " 'embodiment',\n",
       " 'connection',\n",
       " 'word',\n",
       " 'aerospace',\n",
       " 'also',\n",
       " 'refers',\n",
       " 'science',\n",
       " 'necessary',\n",
       " 'aerospace',\n",
       " 'activity',\n",
       " 'also',\n",
       " 'refers',\n",
       " 'various',\n",
       " 'technology',\n",
       " 'involved',\n",
       " 'development',\n",
       " 'aviation',\n",
       " 'spacecraft',\n",
       " 'yuan',\n",
       " 'huang',\n",
       " 'tie',\n",
       " 'wei',\n",
       " 'jin',\n",
       " 'southern',\n",
       " 'dynasty',\n",
       " 'may',\n",
       " 'first',\n",
       " 'successful',\n",
       " 'flight',\n",
       " 'soviet',\n",
       " 'soviet',\n",
       " 'soviet',\n",
       " 'union',\n",
       " 'alale',\n",
       " 'first',\n",
       " 'first',\n",
       " 'successful',\n",
       " 'entry',\n",
       " 'space',\n",
       " 'aerospace',\n",
       " 'technology',\n",
       " 'highly',\n",
       " 'integrated',\n",
       " 'interdisciplinary',\n",
       " 'modern',\n",
       " 'science',\n",
       " 'technology',\n",
       " 'based',\n",
       " 'mechanic',\n",
       " 'thermodynamics',\n",
       " 'material',\n",
       " 'electronic',\n",
       " 'technology',\n",
       " 'automation',\n",
       " 'technology',\n",
       " 'computer',\n",
       " 'technology',\n",
       " 'jet',\n",
       " 'propulsion',\n",
       " 'technology',\n",
       " 'manufacturing',\n",
       " 'process',\n",
       " 'technology',\n",
       " 'medical',\n",
       " 'vacuum',\n",
       " 'technology',\n",
       " 'low',\n",
       " 'temperature',\n",
       " 'technology',\n",
       " 'also',\n",
       " 'played',\n",
       " 'important',\n",
       " 'role',\n",
       " 'discipline',\n",
       " 'intersects',\n",
       " 'aerospace',\n",
       " 'application',\n",
       " 'producing',\n",
       " 'new',\n",
       " 'discipline',\n",
       " 'aviation',\n",
       " 'aerospace',\n",
       " 'technology',\n",
       " 'thus',\n",
       " 'form',\n",
       " 'complete',\n",
       " 'system',\n",
       " 'due',\n",
       " 'related',\n",
       " 'art',\n",
       " 'aircraft',\n",
       " 'missile',\n",
       " 'development',\n",
       " 'aerospace',\n",
       " 'technology',\n",
       " 'often',\n",
       " 'closely',\n",
       " 'related',\n",
       " 'military',\n",
       " 'application',\n",
       " 'aerospace',\n",
       " 'one',\n",
       " 'active',\n",
       " 'influential',\n",
       " 'science',\n",
       " 'technology',\n",
       " 'field',\n",
       " 'product',\n",
       " 'high',\n",
       " 'added',\n",
       " 'value',\n",
       " 'driving',\n",
       " 'hightech',\n",
       " 'development',\n",
       " 'huge',\n",
       " 'farreaching',\n",
       " 'impact',\n",
       " 'national',\n",
       " 'economy',\n",
       " 'social',\n",
       " 'life',\n",
       " 'development',\n",
       " 'reflects',\n",
       " 'advanced',\n",
       " 'level',\n",
       " 'national',\n",
       " 'science',\n",
       " 'technology',\n",
       " 'major',\n",
       " 'achievement',\n",
       " 'made',\n",
       " 'area',\n",
       " 'reflect',\n",
       " 'high',\n",
       " 'development',\n",
       " 'human',\n",
       " 'civilization',\n",
       " 'aviation',\n",
       " 'history',\n",
       " '·',\n",
       " 'aircraft',\n",
       " 'manufacturer',\n",
       " '·',\n",
       " 'aircraft',\n",
       " 'engine',\n",
       " 'manufacturer',\n",
       " '·',\n",
       " 'rotor',\n",
       " 'manufacturer',\n",
       " '·',\n",
       " 'airport',\n",
       " '·',\n",
       " 'airport',\n",
       " '·',\n",
       " 'museum',\n",
       " 'civil',\n",
       " 'airplane',\n",
       " 'start',\n",
       " 'customer',\n",
       " '·',\n",
       " 'junji',\n",
       " 'passenger',\n",
       " 'plane',\n",
       " '·',\n",
       " 'airline',\n",
       " 'have',\n",
       " 'aircraft',\n",
       " '·',\n",
       " 'air',\n",
       " 'code',\n",
       " '·',\n",
       " 'civil',\n",
       " 'aviation',\n",
       " 'management',\n",
       " 'department',\n",
       " '·',\n",
       " 'air',\n",
       " 'force',\n",
       " '·',\n",
       " 'aircraft',\n",
       " 'weapon',\n",
       " '·',\n",
       " 'missile',\n",
       " '·',\n",
       " 'unmanned',\n",
       " 'air',\n",
       " 'carrying',\n",
       " '·',\n",
       " 'test',\n",
       " 'machine',\n",
       " '·',\n",
       " 'air',\n",
       " 'force',\n",
       " 'base',\n",
       " '·',\n",
       " 'american',\n",
       " 'trunard',\n",
       " 'aircraft',\n",
       " 'name',\n",
       " 'system',\n",
       " '·',\n",
       " 'u',\n",
       " 'three',\n",
       " 'army',\n",
       " 'missile',\n",
       " 'uav',\n",
       " 'name',\n",
       " 'system',\n",
       " '·',\n",
       " 'british',\n",
       " 'military',\n",
       " 'aircraft',\n",
       " 'serial',\n",
       " 'number',\n",
       " 'aerospace',\n",
       " 'agency',\n",
       " '·',\n",
       " 'space',\n",
       " 'shuttle',\n",
       " 'machine',\n",
       " '·',\n",
       " 'load',\n",
       " 'rocket',\n",
       " 'above',\n",
       " '·',\n",
       " 'avoid',\n",
       " 'rocket',\n",
       " '·',\n",
       " 'alliance',\n",
       " 'series',\n",
       " 'universe',\n",
       " 'ship',\n",
       " 'lunning',\n",
       " 'task',\n",
       " '·',\n",
       " 'bank',\n",
       " 'activity',\n",
       " '2000',\n",
       " 'separate',\n",
       " '·',\n",
       " 'folk',\n",
       " 'activity',\n",
       " '2000',\n",
       " 'international',\n",
       " 'space',\n",
       " 'station',\n",
       " '·',\n",
       " 'space',\n",
       " 'tourist',\n",
       " 'business',\n",
       " 'vehicle',\n",
       " 'accident',\n",
       " 'list',\n",
       " '·',\n",
       " 'military',\n",
       " 'aircraft',\n",
       " 'air',\n",
       " 'brake',\n",
       " 'list',\n",
       " '·',\n",
       " 'aerospace',\n",
       " 'tool',\n",
       " 'accident',\n",
       " 'list',\n",
       " '·',\n",
       " 'cause',\n",
       " 'least',\n",
       " '50',\n",
       " 'people',\n",
       " 'death',\n",
       " 'space',\n",
       " 'record',\n",
       " '·',\n",
       " 'flight',\n",
       " 'speed',\n",
       " '\\u200b\\u200b·',\n",
       " 'flight',\n",
       " 'distance',\n",
       " '·',\n",
       " 'flight',\n",
       " 'time',\n",
       " '·',\n",
       " 'maximum',\n",
       " 'yield',\n",
       " 'aircraft']"
      ]
     },
     "execution_count": 14,
     "metadata": {},
     "output_type": "execute_result"
    }
   ],
   "source": [
    "text_list[0]"
   ]
  },
  {
   "cell_type": "markdown",
   "metadata": {},
   "source": [
    "#progress log unnecessary\n",
    "\n",
    "from time import time\n",
    "import logging\n",
    "\n",
    "logging.basicConfig(format='%(asctime)s : %(levelname)s : %(message)s', level=logging.INFO,\n",
    "                   filename='running.log',filemode='w')"
   ]
  },
  {
   "cell_type": "code",
   "execution_count": 15,
   "metadata": {},
   "outputs": [
    {
     "name": "stdout",
     "output_type": "stream",
     "text": [
      "Dictionary(20623 unique tokens: ['1', '2000', '50', 'above', 'accident']...)\n"
     ]
    }
   ],
   "source": [
    "# Importing Gensim\n",
    "import gensim\n",
    "from gensim import corpora\n",
    "\n",
    "# Creating the term dictionary of our courpus, where every unique term is assigned an index. dictionary = corpora.Dictionary(doc_clean)\n",
    "dictionary = corpora.Dictionary(text_list)\n",
    "dictionary.save('dictionary.dict')\n",
    "print(dictionary)"
   ]
  },
  {
   "cell_type": "code",
   "execution_count": 16,
   "metadata": {
    "scrolled": false
   },
   "outputs": [
    {
     "name": "stdout",
     "output_type": "stream",
     "text": [
      "[(0, 1), (12, 3), (19, 4), (20, 8), (21, 1), (23, 14), (30, 1), (40, 1), (46, 1), (47, 3), (50, 1), (59, 1), (60, 6), (69, 4), (72, 2), (74, 1), (85, 2), (87, 1), (91, 1), (99, 1), (100, 1), (103, 1), (112, 2), (115, 1), (124, 4), (127, 5), (135, 2), (137, 1), (147, 1), (161, 4), (173, 3), (175, 1), (177, 4), (184, 4), (195, 1), (198, 49), (200, 1), (203, 2), (204, 1), (218, 2), (219, 2), (224, 1), (226, 1), (228, 2), (235, 1), (244, 1), (245, 1), (249, 2), (250, 1), (256, 3), (261, 2), (269, 2), (270, 5), (271, 2), (273, 1), (274, 3), (278, 1), (279, 14), (280, 3), (283, 1), (288, 1), (294, 38), (296, 3), (299, 1), (301, 2), (302, 2), (305, 3), (307, 2), (310, 1), (311, 4), (314, 1), (315, 13), (318, 1), (319, 6), (320, 1), (324, 4), (325, 1), (328, 1), (331, 1), (332, 3), (333, 1), (335, 1), (336, 1), (339, 1), (342, 1), (344, 1), (347, 1), (350, 2), (360, 1), (363, 1), (364, 1), (367, 1), (368, 3), (369, 3), (370, 1), (371, 1), (375, 12), (381, 3), (392, 12), (394, 5), (396, 1), (399, 4), (404, 3), (407, 1), (421, 9), (422, 4), (433, 1), (434, 3), (446, 2), (456, 5), (457, 2), (458, 1), (459, 3), (463, 1), (469, 10), (470, 4), (483, 6), (495, 1), (500, 1), (501, 2), (502, 1), (503, 6), (504, 4), (505, 1), (508, 1), (514, 2), (516, 1), (523, 1), (525, 1), (530, 1), (537, 2), (538, 1), (542, 1), (543, 1), (548, 1), (549, 6), (557, 1), (561, 1), (563, 1), (565, 1), (569, 1), (570, 2), (574, 1), (578, 2), (580, 2), (583, 1), (584, 1), (591, 1), (594, 1), (595, 1), (597, 1), (602, 4), (604, 1), (606, 2), (607, 3), (610, 3), (621, 8), (626, 1), (628, 1), (630, 1), (632, 1), (635, 6), (639, 2), (641, 3), (644, 3), (647, 1), (648, 11), (649, 1), (652, 3), (663, 1), (671, 3), (672, 1), (677, 1), (679, 1), (684, 1), (685, 5), (686, 6), (694, 3), (696, 1), (697, 1), (698, 1), (700, 1), (703, 1), (704, 2), (705, 1), (707, 1), (708, 1), (712, 7), (713, 1), (714, 1), (715, 4), (717, 4), (720, 1), (721, 1), (725, 1), (727, 2), (729, 1), (730, 17), (734, 1), (735, 1), (736, 3), (738, 1), (740, 1), (747, 1), (749, 35), (750, 2), (751, 12), (752, 1), (753, 1), (754, 1), (757, 11), (758, 3), (760, 1), (772, 3), (773, 1), (774, 1), (777, 6), (779, 1), (780, 1), (781, 6), (783, 1), (785, 1), (788, 1), (789, 3), (793, 4), (794, 10), (796, 1), (797, 5), (800, 1), (802, 2), (803, 1), (805, 1), (807, 4), (814, 1), (837, 1), (838, 1), (842, 2), (845, 1), (852, 1), (855, 6), (857, 1), (861, 1), (868, 2), (877, 1), (888, 1), (889, 1), (892, 1), (899, 2), (901, 2), (915, 1), (916, 3), (929, 2), (930, 1), (931, 16), (932, 3), (933, 1), (934, 3), (938, 5), (944, 6), (945, 1), (951, 1), (952, 1), (953, 3), (957, 1), (959, 1), (967, 1), (970, 1), (972, 1), (973, 5), (975, 3), (976, 3), (979, 1), (982, 1), (983, 1), (984, 6), (986, 1), (990, 8), (991, 1), (994, 1), (995, 1), (998, 1), (1001, 1), (1005, 7), (1006, 1), (1012, 1), (1015, 1), (1024, 2), (1026, 2), (1030, 9), (1031, 6), (1032, 2), (1039, 12), (1041, 2), (1043, 1), (1044, 4), (1049, 4), (1050, 2), (1051, 1), (1052, 1), (1053, 2), (1055, 2), (1056, 1), (1057, 1), (1058, 1), (1130, 1), (1141, 1), (1158, 1), (1174, 1), (1202, 2), (1274, 1), (1320, 1), (1329, 1), (1345, 1), (1351, 2), (1358, 1), (1376, 1), (1382, 1), (1409, 1), (1414, 2), (1465, 1), (1501, 6), (1546, 1), (1548, 1), (1551, 1), (1552, 1), (1597, 1), (1646, 1), (1696, 1), (1698, 1), (1712, 1), (1723, 1), (1724, 2), (1737, 1), (1772, 1), (1800, 1), (1848, 1), (1852, 1), (1854, 1), (1937, 1), (1941, 1), (2044, 15), (2184, 1), (2218, 1), (2412, 1), (2438, 1), (2456, 1), (2533, 1), (2601, 1), (2605, 1), (2661, 1), (2666, 1), (2667, 1), (2687, 3), (3039, 1), (3166, 1), (3167, 1), (3310, 7), (3413, 2), (3427, 1), (3479, 1), (3496, 1), (3583, 2), (3653, 1), (3695, 1), (3746, 1), (3860, 1), (3867, 1), (3903, 1), (3937, 1), (3941, 1), (3963, 3), (3974, 1), (3996, 1), (4065, 1), (4171, 1), (4310, 1), (4314, 3), (4320, 3), (4330, 1), (4331, 2), (4332, 1), (4425, 1), (4432, 2), (4440, 1), (4473, 2), (4483, 1), (4485, 1), (4488, 1), (4490, 1), (4502, 1), (4521, 1), (4522, 1), (4552, 11), (4584, 1), (4665, 1), (4677, 1), (4728, 1), (4779, 3), (4839, 1), (4857, 2), (4882, 3), (4909, 2), (5014, 1), (5090, 2), (5482, 3), (5817, 1), (5826, 1), (5831, 1), (5956, 1), (6066, 1), (6078, 1), (6189, 1), (6320, 1), (6447, 1), (6624, 1), (6647, 1), (7100, 2), (7382, 1), (7513, 1), (7625, 1), (7655, 2), (7843, 1), (7965, 1), (8186, 1), (8536, 1), (8599, 5), (8699, 1), (9146, 1), (9362, 1), (9377, 4), (9829, 2), (10679, 2), (10894, 2), (11067, 1), (11110, 1), (11137, 1), (11750, 1), (12254, 1), (13186, 1), (13549, 1), (13590, 1), (13814, 2), (13854, 1), (14745, 1), (14751, 2), (15216, 1), (15751, 2), (15811, 1), (16896, 1), (17518, 1), (17737, 1), (17763, 1), (17764, 1), (17765, 1), (17766, 1), (17767, 1), (17768, 1), (17769, 1), (17770, 1), (17771, 1), (17772, 1), (17773, 1), (17774, 1), (17775, 1), (17776, 1), (17777, 1), (17778, 1), (17779, 1), (17780, 1), (17781, 1), (17782, 1), (17783, 1), (17784, 1), (17785, 1), (17786, 1), (17787, 2), (17788, 1), (17789, 1), (17790, 1), (17791, 1), (17792, 1), (17793, 1), (17794, 1), (17795, 1), (17796, 1), (17797, 1), (17798, 1), (17799, 1), (17800, 2), (17801, 1), (17802, 1), (17803, 2), (17804, 1), (17805, 1), (17806, 1), (17807, 1), (17808, 1), (17809, 1), (17810, 1)]\n"
     ]
    }
   ],
   "source": [
    "# Converting list of documents (corpus) into Document Term Matrix using dictionary prepared above.\n",
    "doc_term_matrix = [dictionary.doc2bow(doc) for doc in text_list]\n",
    "corpora.MmCorpus.serialize('corpus.mm', doc_term_matrix)\n",
    "\n",
    "len(doc_term_matrix)\n",
    "print(doc_term_matrix[100])"
   ]
  },
  {
   "cell_type": "markdown",
   "metadata": {},
   "source": [
    "CHANGED START = TIME() to COMMENT"
   ]
  },
  {
   "cell_type": "code",
   "execution_count": 21,
   "metadata": {},
   "outputs": [],
   "source": [
    "from time import time"
   ]
  },
  {
   "cell_type": "code",
   "execution_count": 22,
   "metadata": {},
   "outputs": [
    {
     "name": "stdout",
     "output_type": "stream",
     "text": [
      "used: 54.00s\n"
     ]
    }
   ],
   "source": [
    "start = time()\n",
    "#Creating the object for LDA model using gensim library\n",
    "Lda = gensim.models.ldamodel.LdaModel\n",
    "\n",
    "#Running and Trainign LDA model on the document term matrix.\n",
    "ldamodel = Lda(doc_term_matrix, num_topics=10, id2word = dictionary, passes=50)\n",
    "print('used: {:.2f}s'.format(time()-start))"
   ]
  },
  {
   "cell_type": "code",
   "execution_count": 23,
   "metadata": {},
   "outputs": [
    {
     "name": "stdout",
     "output_type": "stream",
     "text": [
      "[(4, '0.025*\"animal\" + 0.008*\"mathematics\" + 0.007*\"painting\" + 0.006*\"also\"'), (5, '0.020*\"art\" + 0.011*\"entertainment\" + 0.011*\"martial\" + 0.010*\"movie\"')]\n"
     ]
    }
   ],
   "source": [
    "print(ldamodel.print_topics(num_topics=2, num_words=4))"
   ]
  },
  {
   "cell_type": "code",
   "execution_count": 24,
   "metadata": {},
   "outputs": [
    {
     "name": "stdout",
     "output_type": "stream",
     "text": [
      "0\n",
      "0.013*\"computer\" + 0.012*\"game\" + 0.011*\"system\" + 0.008*\"tv\" + 0.007*\"engineering\" + 0.007*\"technology\" + 0.007*\"science\" + 0.007*\"also\" + 0.006*\"communication\" + 0.005*\"electronic\"\n",
      "1\n",
      "0.014*\"political\" + 0.010*\"psychology\" + 0.010*\"research\" + 0.009*\"country\" + 0.007*\"government\" + 0.007*\"also\" + 0.007*\"english\" + 0.006*\"social\" + 0.005*\"mineral\" + 0.005*\"constellation\"\n",
      "2\n",
      "0.019*\"language\" + 0.011*\"law\" + 0.008*\"also\" + 0.008*\"religion\" + 0.008*\"human\" + 0.007*\"people\" + 0.006*\"god\" + 0.006*\"social\" + 0.006*\"system\" + 0.005*\"religious\"\n",
      "3\n",
      "0.014*\"dynasty\" + 0.011*\"also\" + 0.009*\"buddhism\" + 0.009*\"song\" + 0.009*\"people\" + 0.008*\"chinese\" + 0.008*\"family\" + 0.006*\"work\" + 0.006*\"world\" + 0.006*\"buddha\"\n",
      "4\n",
      "0.025*\"animal\" + 0.008*\"mathematics\" + 0.007*\"painting\" + 0.006*\"also\" + 0.006*\"earth\" + 0.005*\"english\" + 0.005*\"different\" + 0.005*\"human\" + 0.005*\"life\" + 0.005*\"comic\"\n",
      "5\n",
      "0.020*\"art\" + 0.011*\"entertainment\" + 0.011*\"martial\" + 0.010*\"movie\" + 0.009*\"also\" + 0.008*\"animation\" + 0.008*\"sport\" + 0.007*\"performance\" + 0.007*\"industry\" + 0.007*\"film\"\n",
      "6\n",
      "0.021*\"plant\" + 0.008*\"algae\" + 0.007*\"key\" + 0.007*\"also\" + 0.006*\"cell\" + 0.006*\"many\" + 0.006*\"sculpture\" + 0.005*\"english\" + 0.005*\"cryptography\" + 0.005*\"encryption\"\n",
      "7\n",
      "0.015*\"medicine\" + 0.014*\"science\" + 0.012*\"engineering\" + 0.009*\"medical\" + 0.009*\"technology\" + 0.007*\"chinese\" + 0.007*\"chemical\" + 0.007*\"system\" + 0.006*\"also\" + 0.005*\"mechanical\"\n",
      "8\n",
      "0.008*\"also\" + 0.007*\"social\" + 0.007*\"theory\" + 0.007*\"music\" + 0.006*\"element\" + 0.006*\"economics\" + 0.006*\"history\" + 0.006*\"society\" + 0.005*\"research\" + 0.005*\"philosophy\"\n",
      "9\n",
      "0.011*\"dynasty\" + 0.009*\"·\" + 0.009*\"year\" + 0.008*\"china\" + 0.007*\"country\" + 0.007*\"asia\" + 0.007*\"people\" + 0.007*\"emperor\" + 0.006*\"south\" + 0.006*\"also\"\n"
     ]
    }
   ],
   "source": [
    "for i in ldamodel.print_topics(): \n",
    "    for j in i: print(j)"
   ]
  },
  {
   "cell_type": "code",
   "execution_count": 25,
   "metadata": {},
   "outputs": [],
   "source": [
    "ldamodel.save('topic.model')"
   ]
  },
  {
   "cell_type": "markdown",
   "metadata": {},
   "source": [
    "### start here"
   ]
  },
  {
   "cell_type": "code",
   "execution_count": 26,
   "metadata": {},
   "outputs": [],
   "source": [
    "from gensim.models import LdaModel\n",
    "loading = LdaModel.load('topic.model')"
   ]
  },
  {
   "cell_type": "code",
   "execution_count": 27,
   "metadata": {},
   "outputs": [
    {
     "name": "stdout",
     "output_type": "stream",
     "text": [
      "[(4, '0.025*\"animal\" + 0.008*\"mathematics\" + 0.007*\"painting\" + 0.006*\"also\"'), (5, '0.020*\"art\" + 0.011*\"entertainment\" + 0.011*\"martial\" + 0.010*\"movie\"')]\n"
     ]
    }
   ],
   "source": [
    "print(loading.print_topics(num_topics=2, num_words=4))"
   ]
  },
  {
   "cell_type": "code",
   "execution_count": 28,
   "metadata": {},
   "outputs": [],
   "source": [
    "def pre_new(doc):\n",
    "    one = cleaning(doc).split()\n",
    "    two = dictionary.doc2bow(one)\n",
    "    return two"
   ]
  },
  {
   "cell_type": "markdown",
   "metadata": {},
   "source": [
    "pre_new('new article that to be classified by trained model!')"
   ]
  },
  {
   "cell_type": "markdown",
   "metadata": {},
   "source": [
    "belong = loading[(pre_new('new article that to be classified by trained model!'))]\n",
    "belong"
   ]
  },
  {
   "cell_type": "markdown",
   "metadata": {},
   "source": [
    "new = pd.DataFrame(belong,columns=['id','prob']).sort_values('prob',ascending=False)\n",
    "new['topic'] = new['id'].apply(loading.print_topic)\n",
    "new"
   ]
  },
  {
   "cell_type": "markdown",
   "metadata": {},
   "source": [
    "new['topic']"
   ]
  },
  {
   "cell_type": "markdown",
   "metadata": {},
   "source": [
    "import gensim\n",
    "from gensim import corpora"
   ]
  },
  {
   "cell_type": "markdown",
   "metadata": {},
   "source": [
    "ran next cell again"
   ]
  },
  {
   "cell_type": "markdown",
   "metadata": {},
   "source": [
    "#tried this after next cell\n",
    "import pyLDAvis\n",
    "import pyLDAvis.gensim_models as gensimvis\n",
    "pyLDAvis.enable_notebook()\n",
    "\n",
    "#feed the LDA model into the pyLDAvis instance\n",
    "lda_viz = gensimvis.prepare(ldamodel, corpus, dictionary)"
   ]
  },
  {
   "cell_type": "code",
   "execution_count": 53,
   "metadata": {
    "scrolled": true
   },
   "outputs": [],
   "source": [
    "import pyLDAvis #.gensim << this seems to have been the problem\n",
    "import gensim\n",
    "pyLDAvis.enable_notebook()\n",
    "import pyLDAvis.gensim_models as gensimvis"
   ]
  },
  {
   "cell_type": "markdown",
   "metadata": {},
   "source": [
    "###### conda install -c conda-forge pyldavis finally did it"
   ]
  },
  {
   "cell_type": "code",
   "execution_count": 54,
   "metadata": {
    "scrolled": true
   },
   "outputs": [],
   "source": [
    "import pyLDAvis\n",
    "#import pyLDAvis.gensim_models as gensimvis  COMMENTED OUT CAUSE DIDN'T NEED HERE\n",
    "pyLDAvis.enable_notebook()"
   ]
  },
  {
   "cell_type": "markdown",
   "metadata": {},
   "source": [
    "Successfully built sklearn\n",
    "Installing collected packages: funcy, sklearn, pandas, pyLDAvis\n",
    "  Found existing installation: pandas 0.25.1\n",
    "    Uninstalling pandas-0.25.1:\n",
    "      Successfully uninstalled pandas-0.25.1\n",
    "ERROR: Could not install packages due to an EnvironmentError: [WinError 5] Access is denied: 'c:\\\\users\\\\owner\\\\anaconda3\\\\lib\\\\site-packages\\\\~andas\\\\io\\\\msgpack\\\\_packer.cp37-win_amd64.pyd'\n",
    "Consider using the `--user` option or check the permissions."
   ]
  },
  {
   "cell_type": "code",
   "execution_count": 56,
   "metadata": {},
   "outputs": [
    {
     "name": "stderr",
     "output_type": "stream",
     "text": [
      "C:\\Users\\Owner\\Anaconda3\\lib\\site-packages\\joblib\\numpy_pickle.py:104: DeprecationWarning: tostring() is deprecated. Use tobytes() instead.\n",
      "  pickler.file_handle.write(chunk.tostring('C'))\n",
      "C:\\Users\\Owner\\Anaconda3\\lib\\site-packages\\joblib\\numpy_pickle.py:104: DeprecationWarning: tostring() is deprecated. Use tobytes() instead.\n",
      "  pickler.file_handle.write(chunk.tostring('C'))\n"
     ]
    },
    {
     "data": {
      "text/html": [
       "\n",
       "<link rel=\"stylesheet\" type=\"text/css\" href=\"https://cdn.jsdelivr.net/gh/bmabey/pyLDAvis@3.3.1/pyLDAvis/js/ldavis.v1.0.0.css\">\n",
       "\n",
       "\n",
       "<div id=\"ldavis_el2090418647515506641562494285\"></div>\n",
       "<script type=\"text/javascript\">\n",
       "\n",
       "var ldavis_el2090418647515506641562494285_data = {\"mdsDat\": {\"x\": [-0.06305424729206519, 0.01342128888061825, 0.18041452976313896, 0.18996721878139117, -0.09564782852819767, -0.029486030736312573, 0.03928184154917837, -0.07869054757734241, -0.10222742766457286, -0.053978797175836465], \"y\": [-0.0812506078266866, -0.07608978218011404, 0.004286526572835511, 0.004370554245390592, -0.060326405099466705, -0.09320587721170714, 0.055651579189480646, 0.12653462277087457, -0.0005404633874383444, 0.12056985292683152], \"topics\": [1, 2, 3, 4, 5, 6, 7, 8, 9, 10], \"cluster\": [1, 1, 1, 1, 1, 1, 1, 1, 1, 1], \"Freq\": [17.16765842957917, 16.391154311878783, 16.03505125280552, 14.155606708143912, 9.512287007989233, 7.507105638300116, 6.304391478171261, 4.466057040110358, 4.2392213258621805, 4.221466807159474]}, \"tinfo\": {\"Term\": [\"animal\", \"language\", \"dynasty\", \"art\", \"medicine\", \"plant\", \"engineering\", \"political\", \"science\", \"buddhism\", \"entertainment\", \"\\u00b7\", \"game\", \"computer\", \"psychology\", \"martial\", \"technology\", \"research\", \"medical\", \"system\", \"song\", \"movie\", \"religion\", \"family\", \"buddha\", \"english\", \"social\", \"asia\", \"emperor\", \"drama\", \"\\u66f2\", \"unemployment\", \"economist\", \"relativity\", \"prediction\", \"iupac\", \"adam\", \"uncertainty\", \"cairn\", \"piano\", \"photosensitive\", \"isotope\", \"neoclassical\", \"maximize\", \"neutron\", \"kongde\", \"composer\", \"helium\", \"\\u5e0c\", \"keynesian\", \"\\u951d\", \"forecast\", \"economics\", \"decay\", \"marginal\", \"orchestra\", \"microeconomics\", \"equilibrium\", \"relativism\", \"chorus\", \"particle\", \"sociological\", \"photographic\", \"musician\", \"atomic\", \"demand\", \"physic\", \"music\", \"incomplete\", \"radiation\", \"element\", \"market\", \"electromagnetic\", \"price\", \"quantum\", \"philosophy\", \"astronomy\", \"sociologist\", \"astronomical\", \"photography\", \"atom\", \"labor\", \"historian\", \"classical\", \"theory\", \"sociology\", \"economic\", \"supply\", \"social\", \"historical\", \"2\", \"society\", \"individual\", \"star\", \"history\", \"observation\", \"universe\", \"product\", \"research\", \"substance\", \"study\", \"also\", \"nature\", \"production\", \"field\", \"method\", \"development\", \"century\", \"different\", \"many\", \"system\", \"new\", \"time\", \"people\", \"english\", \"etc\", \"often\", \"number\", \"science\", \"example\", \"syntax\", \"verb\", \"infringement\", \"grammatical\", \"anthropologist\", \"grammar\", \"vowel\", \"chile\", \"anthropology\", \"morpheme\", \"phoneme\", \"semantic\", \"consonant\", \"amazon\", \"humanology\", \"clothing\", \"lip\", \"jurisprudence\", \"cave\", \"andes\", \"infringing\", \"trustee\", \"negligence\", \"anthropics\", \"predicate\", \"tuning\", \"jurist\", \"rousseau\", \"colombia\", \"longevity\", \"criminal\", \"language\", \"linguistics\", \"religion\", \"legal\", \"ethnology\", \"crime\", \"phrase\", \"costume\", \"spoken\", \"religious\", \"speech\", \"wear\", \"law\", \"contract\", \"faith\", \"university\", \"god\", \"sentence\", \"education\", \"judge\", \"human\", \"humanity\", \"cultural\", \"belief\", \"word\", \"culture\", \"right\", \"social\", \"concept\", \"meaning\", \"different\", \"system\", \"research\", \"also\", \"people\", \"many\", \"english\", \"country\", \"example\", \"society\", \"may\", \"china\", \"study\", \"science\", \"world\", \"kang\", \"\\u5230\", \"defeated\", \"hun\", \"basin\", \"khan\", \"plateau\", \"monsoon\", \"firework\", \"caucasus\", \"volcano\", \"antarctic\", \"\\u5dfd\", \"kumari\", \"\\u8033\", \"\\u4e9a\", \"viewer\", \"\\u6b7b\", \"circus\", \"tropical\", \"ethiopia\", \"cook\", \"observatory\", \"siberia\", \"colonist\", \"highland\", \"stadium\", \"entertain\", \"tourism\", \"kilometer\", \"\\u00b7\", \"africa\", \"temperate\", \"northeast\", \"america\", \"asia\", \"continent\", \"oceania\", \"climate\", \"east\", \"river\", \"army\", \"plain\", \"qin\", \"north\", \"lake\", \"battle\", \"died\", \"emperor\", \"south\", \"central\", \"african\", \"northern\", \"europe\", \"zhou\", \"asian\", \"year\", \"dynasty\", \"ocean\", \"european\", \"eastern\", \"china\", \"empire\", \"liu\", \"country\", \"war\", \"wang\", \"west\", \"yuan\", \"area\", \"world\", \"people\", \"first\", \"national\", \"han\", \"also\", \"western\", \"state\", \"time\", \"political\", \"history\", \"buddha\", \"poem\", \"\\u50cf\", \"poetry\", \"opera\", \"bodhisattva\", \"prose\", \"husband\", \"buddhism\", \"buddhist\", \"ouyang\", \"nirvana\", \"\\u6df1\", \"novel\", \"poet\", \"\\u622a\", \"qu\", \"sakyamuni\", \"tuzong\", \"yuefu\", \"dharma\", \"nanchuan\", \"mahayana\", \"literary\", \"bodhi\", \"reincarnation\", \"kunqu\", \"chuan\", \"\\u76f4\", \"officialdom\", \"shaman\", \"singing\", \"temple\", \"zen\", \"marriage\", \"fairy\", \"monk\", \"family\", \"writer\", \"su\", \"song\", \"wife\", \"literature\", \"tibetan\", \"folk\", \"taoist\", \"dynasty\", \"tang\", \"taoism\", \"han\", \"story\", \"book\", \"yu\", \"work\", \"chinese\", \"also\", \"three\", \"people\", \"world\", \"ancient\", \"china\", \"wei\", \"life\", \"emperor\", \"time\", \"etc\", \"many\", \"called\", \"medicine\", \"aerospace\", \"acupuncture\", \"spleen\", \"kidney\", \"liver\", \"surveying\", \"geographicists\", \"fluid\", \"preventive\", \"pharmacy\", \"pharmacology\", \"veterinary\", \"infectious\", \"diagnosis\", \"biochemistry\", \"pollutant\", \"engine\", \"combustion\", \"bond\", \"decoction\", \"acupuncturists\", \"440\", \"570\", \"890\", \"413\", \"780\", \"740\", \"330\", \"470\", \"medical\", \"symptom\", \"machinery\", \"massage\", \"mechanical\", \"engineering\", \"mapping\", \"disease\", \"ion\", \"map\", \"mining\", \"environmental\", \"urban\", \"doctor\", \"chemical\", \"steam\", \"aircraft\", \"geography\", \"mine\", \"science\", \"technology\", \"energy\", \"chemistry\", \"soil\", \"engineer\", \"drug\", \"project\", \"material\", \"treatment\", \"water\", \"biology\", \"clinical\", \"mechanic\", \"chinese\", \"application\", \"system\", \"earth\", \"development\", \"discipline\", \"human\", \"scientific\", \"related\", \"also\", \"etc\", \"method\", \"research\", \"use\", \"natural\", \"study\", \"century\", \"theory\", \"constellation\", \"archaeology\", \"silicate\", \"gloss\", \"psychotherapy\", \"behavioralism\", \"psychologist\", \"twentyeighth\", \"fengter\", \"legitimacy\", \"freud\", \"psychology\", \"autonomy\", \"politicalists\", \"\\u4e4b\", \"huangdao\", \"elephant\", \"\\u304b\", \"stakeholder\", \"excavation\", \"sigmund\", \"simulate\", \"\\u03b1\", \"institutionalism\", \"starry\", \"neuroscience\", \"luster\", \"sulfate\", \"neuropsychology\", \"io\", \"mineral\", \"psychological\", \"bayer\", \"sexual\", \"politics\", \"archaeological\", \"political\", \"cognitive\", \"variable\", \"hardness\", \"crystal\", \"archeology\", \"government\", \"star\", \"archaeologist\", \"behavior\", \"mental\", \"research\", \"country\", \"relation\", \"english\", \"society\", \"power\", \"national\", \"social\", \"study\", \"ancient\", \"public\", \"part\", \"human\", \"science\", \"modern\", \"also\", \"system\", \"people\", \"time\", \"different\", \"method\", \"theory\", \"many\", \"animation\", \"\\u603b\", \"boxing\", \"calligraphy\", \"\\u89dd\", \"shaolin\", \"fist\", \"film\", \"movie\", \"3d\", \"ceo\", \"cinema\", \"handwritten\", \"foshan\", \"taijiquan\", \"shareholder\", \"routine\", \"2d\", \"orthodontics\", \"punch\", \"manager\", \"martial\", \"printed\", \"nonprofit\", \"comedy\", \"animator\", \"fiveshaped\", \"\\u624b\", \"anime\", \"wrestling\", \"printing\", \"audience\", \"theater\", \"rendering\", \"entertainment\", \"dance\", \"art\", \"sport\", \"box\", \"performance\", \"actor\", \"management\", \"drama\", \"competition\", \"industry\", \"artist\", \"game\", \"effect\", \"also\", \"people\", \"chinese\", \"activity\", \"work\", \"form\", \"production\", \"use\", \"english\", \"china\", \"used\", \"many\", \"different\", \"etc\", \"time\", \"cryptographic\", \"spore\", \"password\", \"\\u9650\", \"tableclade\", \"encryption\", \"plantae\", \"quilt\", \"cryptography\", \"encrypted\", \"algae\", \"photosynthesis\", \"vascular\", \"ciphertext\", \"rsa\", \"confidentiality\", \"pine\", \"cyanobacteria\", \"encrypt\", \"plaintext\", \"fertilized\", \"fern\", \"borderleft\", \"margulis\", \"prokaryotic\", \"thinwalled\", \"elliptic\", \"chlorophyll\", \"signature\", \"membrane\", \"sculpture\", \"plant\", \"key\", \"seed\", \"reproductive\", \"egg\", \"fungi\", \"cell\", \"leaf\", \"message\", \"algorithm\", \"security\", \"tissue\", \"green\", \"pigment\", \"15\", \"root\", \"fossil\", \"safety\", \"attack\", \"english\", \"many\", \"method\", \"also\", \"public\", \"group\", \"use\", \"system\", \"organism\", \"used\", \"body\", \"number\", \"ancient\", \"classification\", \"known\", \"modern\", \"\\u5236\", \"chess\", \"circuit\", \"signal\", \"beld\", \"television\", \"farnsworth\", \"cathode\", \"toy\", \"microprocessor\", \"computing\", \"bbc\", \"braun\", \"transmitting\", \"alloy\", \"rca\", \"scan\", \"processor\", \"hardening\", \"schram\", \"philadelphia\", \"chessboard\", \"analog\", \"wireless\", \"smelting\", \"solin\", \"1884\", \"pennsylvania\", \"franklin\", \"fina\", \"electronic\", \"tv\", \"receiver\", \"furnace\", \"bachelor\", \"motor\", \"game\", \"computer\", \"metallurgy\", \"patent\", \"hardware\", \"tube\", \"metal\", \"communication\", \"transmission\", \"processing\", \"software\", \"image\", \"electrical\", \"calculation\", \"engineer\", \"device\", \"engineering\", \"electronics\", \"information\", \"system\", \"technology\", \"design\", \"science\", \"iron\", \"used\", \"power\", \"also\", \"use\", \"first\", \"discipline\", \"english\", \"many\", \"different\", \"research\", \"theory\", \"sponge\", \"reporter\", \"journalist\", \"endoderm\", \"comic\", \"wikipedia\", \"porous\", \"arthropod\", \"digestive\", \"vertebrate\", \"nematode\", \"larva\", \"ton\", \"prey\", \"extracellular\", \"canvas\", \"arithmetic\", \"breed\", \"lipid\", \"mammal\", \"theorem\", \"symmetrical\", \"news\", \"insect\", \"digestible\", \"542\", \"invertebrate\", \"spider\", \"196\", \"\\u6809\", \"animal\", \"multicell\", \"axiom\", \"painting\", \"wilderness\", \"door\", \"mathematics\", \"ecosystem\", \"mathematician\", \"organism\", \"specie\", \"outer\", \"planet\", \"earth\", \"painter\", \"surface\", \"cell\", \"biological\", \"space\", \"atmosphere\", \"gene\", \"life\", \"mathematical\", \"million\", \"fossil\", \"plant\", \"environment\", \"nature\", \"english\", \"different\", \"human\", \"body\", \"natural\", \"also\", \"form\", \"many\", \"may\", \"classification\", \"year\", \"still\", \"people\"], \"Freq\": [340.0, 767.0, 866.0, 442.0, 334.0, 284.0, 324.0, 475.0, 659.0, 296.0, 220.0, 348.0, 202.0, 254.0, 201.0, 177.0, 401.0, 692.0, 223.0, 829.0, 379.0, 154.0, 316.0, 321.0, 182.0, 632.0, 666.0, 283.0, 357.0, 180.0, 28.425801837118946, 23.710269146277668, 41.6479465414284, 18.035776764211946, 17.093294281236552, 17.09598103310451, 15.202528872629648, 15.176555840376693, 13.317624270793537, 13.308162470199717, 10.481964009682736, 21.816598577460596, 9.538202905005473, 9.53607369805129, 21.518204490713543, 8.588305513688603, 8.587159144274354, 8.581269801740259, 7.648471369053642, 7.648471369053642, 7.6484697227596055, 7.647710781208668, 224.27362689797263, 18.746499460341987, 16.15217712478229, 7.576221011427947, 6.703594077019469, 6.703592430725433, 6.703302682974966, 6.696278495084879, 59.3540715827824, 30.96033735844042, 22.500886181478037, 17.485666514306185, 72.73300274597474, 54.069590648137634, 153.7984571568004, 247.38750737144244, 13.26424702800502, 37.002328665739356, 225.9686863591388, 117.55720363906941, 26.439591982967407, 63.105896670397286, 43.58916866720264, 170.72509928775654, 53.9026037514031, 48.63610473775695, 44.341880641504396, 42.99201611396173, 54.775218612988645, 61.30424954811651, 51.68819778823107, 66.50054180380123, 269.06567896111784, 92.50219762240886, 166.4682658216664, 49.4211411467054, 275.8703258587005, 123.67904679232635, 126.6297939818988, 210.6975048301184, 88.22482718697508, 105.81285806942698, 218.11949004089104, 57.06318538383962, 66.58918705497413, 93.65845797123099, 206.3385572325761, 75.15654512333927, 138.29635545089337, 299.59320342224083, 88.02403199590206, 97.30878793395154, 101.02118537691588, 127.9743640278193, 132.70101030093792, 129.54865135845026, 145.86346916371008, 154.79316996438538, 152.66006458592366, 117.23366076461713, 129.42231255901217, 154.63883099597044, 128.04065480103202, 121.37880964325488, 105.72126265934024, 104.92617727159154, 112.42312812762114, 106.02394369575897, 36.113762842152575, 16.205911968362766, 14.310286793824982, 14.31025850086501, 64.17827916913943, 23.790229703276623, 11.466260643239604, 11.455105881798344, 187.91957670476071, 9.570251941911073, 9.570251941911073, 9.570192212328909, 8.622238684203854, 8.610945601624946, 23.970089097713245, 47.28092288720508, 7.674144215222636, 7.673553730669123, 7.669548705001815, 7.662863183348904, 6.726198546253129, 6.726202213859052, 6.726200642027942, 6.726196450478317, 6.726191211041285, 6.726189115266472, 6.724035706646294, 6.722643588226876, 6.714751948169184, 6.7130721846567045, 62.24171617729534, 666.4763087220977, 70.52091948802344, 275.23567506949405, 185.6931261408067, 20.94607675831507, 54.47169393199189, 21.894226241385123, 12.413874655844982, 11.464595550150815, 197.90787180069856, 53.83487598891658, 20.856404841398735, 398.68004742118393, 38.39803583319243, 30.034490160897008, 146.56264635137939, 224.3195637046504, 33.80849437903784, 154.47106099067292, 25.70586428783985, 271.7661282499619, 55.84298034977126, 157.22490909472467, 168.70365217274946, 158.0157371456952, 162.02145022714194, 76.98073457669247, 218.89385420722462, 120.5581802597579, 85.51944929939341, 186.93384159619748, 206.56290202551125, 183.8972986191934, 299.5679727365582, 240.52119400507056, 162.94538512802464, 146.59958228668063, 148.63199763536406, 105.03800371437659, 113.72613879813268, 95.4116992272091, 112.94881592005598, 97.73433747197252, 105.4965508603234, 103.84723476432505, 17.91603791463041, 16.986505721424734, 36.68966395517213, 16.047788437625346, 35.54312272035104, 15.10379075185629, 27.31218671838754, 13.231263441921808, 13.220421754631728, 12.29273990612713, 12.272273351026291, 11.353884230895805, 11.353846301392236, 11.353845276270517, 11.353843226027083, 11.353842200905364, 11.268482365686898, 10.415367870953151, 10.404124335949595, 55.9440823326958, 9.476501944504646, 9.475195939435851, 9.463356808714108, 8.537731866936776, 8.537516078815127, 8.535028620966283, 8.524388370093797, 8.524103898817039, 31.600229860115892, 32.94423209051093, 311.7928207879018, 164.78398606216697, 31.96576981258108, 25.176972993324835, 137.17496509910129, 237.13199231831192, 66.91338907570054, 34.70475767689658, 92.64276735898676, 161.51261763553043, 131.347960028396, 89.80723968199575, 41.764799652505026, 85.95014950956127, 194.95974778775133, 36.13063227842528, 40.47895257717489, 33.394734130967976, 231.39582123279948, 210.69487410137185, 128.28192758237145, 48.38341191486116, 104.20216286630834, 143.61192579301922, 88.38718367133869, 57.65920527818908, 305.88772604520244, 371.5236617422002, 54.19611858784312, 121.26372287432001, 69.27254269031438, 281.5853869017166, 63.61671244408883, 75.19576978596258, 254.31982271906594, 112.8412408290957, 91.27116270121155, 82.84095533872002, 86.10244159199456, 117.75857749012594, 183.53195330610592, 236.6932730268821, 162.39692863438785, 128.91286129642222, 115.77250667357869, 206.25919703029703, 105.49516119074359, 106.2074649662862, 105.90609558312741, 99.7366998585939, 96.02031379269188, 182.08573070481535, 107.57747650786183, 43.9486513323246, 173.080611366306, 68.21046825162927, 22.973157746019137, 22.01530445991441, 22.00673259616237, 285.73772075947954, 160.917455251149, 19.814755362007084, 14.392635253227475, 13.43945160573767, 103.48268850581155, 67.40945509505013, 11.532601057459537, 11.532315087342809, 11.504018525286343, 10.579170353508129, 10.577478061994581, 10.573943254159333, 9.625736029681825, 9.62417224372706, 139.01880487961012, 8.672299895918073, 8.669259201006032, 8.662921705033106, 26.739699112439588, 7.718860142279427, 7.718858332341979, 11.126762403449211, 39.470514958988424, 91.99405263889273, 49.78189873233656, 44.10496477005293, 30.184033604493, 49.36899408253063, 253.86240558653515, 62.78882958621073, 28.388128601880553, 279.5471555085537, 32.96342060746881, 181.0106423404144, 53.69057448652049, 85.05874880650991, 130.13854226598903, 439.44872906908904, 162.1070474982377, 103.65393754735784, 176.45542073118304, 88.24115458095262, 156.93470961685767, 64.4132774044704, 197.31870000567204, 258.9825014334264, 349.22635903994694, 142.12373085179408, 264.33328466764453, 196.8254413729405, 151.31963207678473, 172.35397215932545, 85.25056597721122, 104.95429796624238, 105.61556223261402, 118.88382271480373, 114.72890859074272, 105.16013129253825, 97.91576254159573, 320.16772810384236, 17.205044306558605, 29.82253053741151, 11.800711568271003, 11.800711568271003, 11.80071035202893, 10.89952727323476, 9.098258165997622, 17.16294165466569, 8.196561833048015, 17.207352734016002, 7.29561652957941, 7.295290576703445, 7.250040898442767, 10.445037069867873, 6.393756612070784, 6.394213919090795, 29.822907572454604, 11.800748055533239, 19.045981149055514, 5.492963946982529, 5.492963946982529, 5.492922594751996, 5.492922594751996, 5.492922594751996, 5.492922594751996, 5.492922594751996, 5.492922594751996, 5.492922594751996, 5.492922594751996, 194.43501600659235, 10.899890929615037, 38.67200517082839, 10.899682952220298, 106.53448663027707, 244.61074224224618, 14.503269567362793, 62.48401332511737, 20.39583349664802, 41.846024815194625, 37.96645584595938, 67.56976847937914, 58.4466296492635, 35.959454526852525, 140.987588860601, 19.00785317626206, 15.24238595724589, 85.11459555053246, 32.782452656919624, 284.07538453544595, 184.42098472187487, 82.8673985841329, 52.34340529522269, 32.356843337853775, 50.52002490707116, 32.48092192180996, 45.8688330460277, 94.6844163098967, 51.04925561840013, 75.00444222218321, 41.6743790037048, 30.72282697573337, 50.8943842176018, 144.22469011640317, 56.86284894978817, 137.86554410504638, 60.85054670441463, 101.61671396637674, 69.62299915973767, 101.42886781045459, 62.0042447464741, 65.900427582447, 129.28587088349965, 84.63652484582519, 69.86356211213688, 74.85159951316514, 65.90276276723003, 59.331995499878815, 62.14020115052984, 63.491927727159144, 62.51365557695704, 85.48587334859067, 28.531285842257528, 14.320130297650309, 12.540973379331673, 8.093069565222745, 7.2032194658640885, 41.77317540350399, 12.527671648298385, 5.424299152878092, 5.421825595303205, 16.052806986242008, 172.256023165275, 4.534622788063889, 4.534420257738588, 4.532745303152566, 3.644878033270171, 3.6448773133756496, 3.642195466319292, 3.6411105852758245, 3.6400151457793792, 3.6403834918094, 3.6275096180865534, 10.761657124359008, 7.179525337522575, 6.31369955812583, 6.313894409576238, 2.755425315687225, 2.7554250757223846, 2.7554260355817464, 2.7554260355817464, 88.55045856623688, 65.14435714308263, 5.410762256301209, 37.30181262659715, 73.0385476880158, 55.847128650961686, 231.88154988618038, 31.096897769360805, 18.76801107513456, 14.320135096947118, 20.340986363140434, 28.44125679329403, 115.15695378839382, 80.52244058966964, 14.848206524037467, 69.93278834319366, 19.19099230001828, 167.16347012502925, 140.46549646627278, 14.666920765986966, 108.45215185450229, 84.30688961302897, 56.809188010235424, 73.40916090584842, 93.48539502043023, 68.73113656894802, 77.25306745750375, 50.74001646391895, 56.115570598906366, 77.41966832718087, 75.57894986884557, 57.49132934303699, 111.28051952269202, 77.75975033843919, 83.1035100919324, 62.69494579029669, 62.367798843795526, 53.77449281310996, 54.72273403701386, 55.482600941481714, 112.06778188898924, 31.19511655040108, 64.96451791546814, 67.50638540899692, 18.751850033646527, 37.37012613027788, 14.307815453157277, 100.84216076944324, 144.63152588151337, 8.086394999951578, 7.196789580812189, 7.188392643416969, 6.3086991894000075, 6.308514193995169, 6.308514193995169, 6.307965656422216, 12.530199847585147, 5.419981264555727, 5.419682208803243, 16.081530436663986, 16.973698384744473, 151.41734111727507, 14.267535625794395, 4.529995778604219, 23.438455103009147, 3.6423120546506045, 3.6420109836976318, 3.642009774577339, 3.6398224759671893, 5.0561206947645, 62.68741874723296, 65.66735535941937, 31.928401255492012, 7.170408188177961, 155.7618425273998, 86.54434877151057, 283.40464146500614, 110.8650199565081, 23.57097629928916, 103.09443911630244, 23.355530408990155, 90.2286576043402, 96.75506333594714, 41.581534027183906, 101.04343576990756, 19.15250897043681, 68.30016159626956, 39.8612524876682, 128.1166064278061, 93.69370617538631, 74.30900580467178, 44.07651989654968, 58.50024484532069, 51.669321361825816, 42.56176301228831, 50.23285098613925, 55.09959240892268, 55.77608715208906, 47.37554174191483, 50.9369394665537, 47.98148512206122, 44.94984007750191, 44.650929419453014, 23.156848846718024, 22.332746693846996, 41.287418271110724, 16.563823768629685, 15.73969306423117, 46.232488012776685, 14.09142937131194, 13.26224047830398, 47.056617575114096, 8.322485317964292, 74.0485007414033, 13.267297524852324, 5.850081213127199, 5.850076644882801, 5.850075502821702, 5.850075502821702, 5.025939088117688, 5.025938517087139, 5.0259345198732905, 5.0259333778121915, 5.024333350211869, 9.970765570769464, 4.201791538317956, 4.201791538317956, 4.201791252802681, 4.201791252802681, 4.201787255588833, 4.200930138733699, 13.26728496218023, 13.141136319318786, 55.18901995677834, 206.73228217204948, 72.51167480232355, 15.739695348353369, 11.500539282560132, 10.595122379408586, 15.473535725005412, 63.43957084330241, 22.616325033083694, 22.05772924461174, 19.858051043413866, 29.615464754012628, 20.677854478306582, 20.68449213741656, 10.794901985473478, 38.609833182238916, 26.207645798155408, 20.684487569172163, 21.01333264214648, 19.780637573849056, 53.859363901138, 55.643203951294595, 44.071475432161634, 65.60493696082855, 33.08203818519192, 34.79266526650747, 34.63975242178052, 38.08906702562499, 22.42526277939087, 29.31110318688822, 24.217430739084623, 24.755060569892958, 25.14901911439106, 22.27064826362575, 22.836569231989547, 22.469551908827363, 23.63425529332223, 17.12756324926662, 20.387980017554383, 39.81987155853548, 7.390902821066839, 25.038207927557046, 5.7662545530697304, 5.7662529269878, 5.759970288436692, 4.95392472778442, 9.827835384055211, 4.141594631485455, 4.141594631485455, 4.1413954364490015, 19.575663200924517, 3.329252881599323, 3.329252881599323, 3.329252068558358, 3.3292493584218077, 3.3287436469415055, 3.318239157672205, 3.2822786267987736, 7.195486799019247, 5.766229619813466, 5.766246422660079, 2.5168929737983037, 2.5168927027846486, 2.5168927027846486, 2.5168927027846486, 2.5168924317709935, 49.249616068758954, 71.78850788412889, 4.953844507742529, 11.45249069840735, 7.78394687861445, 35.53726608321049, 112.0371924244313, 124.53451231061781, 12.264804262873358, 11.442561842141354, 9.827845140546794, 16.41096628748718, 48.00672142944054, 56.4448985234823, 17.94697953960388, 29.253400382273085, 18.44900523419759, 43.47796617584471, 16.326403522787384, 25.79154566852277, 33.336910554169684, 20.75872019331962, 68.60873285497982, 16.326405690896625, 48.114268320196864, 98.3776532437583, 64.80045764681282, 26.652443308900256, 62.049053305145655, 20.38796917700818, 41.73008854092881, 33.938688786800796, 61.74882654620301, 38.958542464419175, 36.26692373505355, 28.770727230758382, 31.11198817932692, 32.13924700982261, 29.51519957304048, 28.44934839806728, 25.43057499299437, 12.363440201934552, 26.07403237026599, 9.087292024689706, 7.450361141849378, 45.19751176324549, 6.63127848805347, 5.812649770075664, 4.993790036009693, 4.993790036009693, 4.993790036009693, 4.993790036009693, 4.174925714007391, 7.45035736354887, 3.3560522161324284, 3.356041690866729, 3.3556368729552224, 3.354520924912503, 3.355072286907975, 3.3483919817322945, 5.812637355659711, 6.531338661332391, 9.087611560961188, 38.608000228272395, 8.264229740945082, 2.537161176147967, 2.537161176147967, 2.537160906269359, 2.537160906269359, 2.537160906269359, 2.537160906269359, 232.67971490132769, 8.531763643272633, 4.992310561482441, 64.51809537806585, 8.269165820679383, 33.13175738120192, 75.66895264398929, 15.083497030986722, 9.884024411712732, 43.715381630493596, 32.068547936478986, 14.475631091184013, 24.81079321959503, 53.772833274039, 10.695072239601059, 21.03499286762253, 30.321964835584716, 28.676450193748803, 28.874500070230948, 18.01836751611513, 13.781209684329061, 45.392532522235136, 18.027618954786092, 26.807916506649025, 16.2066152085549, 38.68713727215698, 24.170457644746207, 29.46425175788678, 49.49978266694713, 48.22972098507424, 46.288114966161466, 27.923814891704787, 31.499503494632535, 57.76205794701545, 32.97847065010252, 40.734531387219064, 29.87322364092255, 22.876985612929513, 29.336439408322658, 23.818535940343228, 24.06755617018455], \"Total\": [340.0, 767.0, 866.0, 442.0, 334.0, 284.0, 324.0, 475.0, 659.0, 296.0, 220.0, 348.0, 202.0, 254.0, 201.0, 177.0, 401.0, 692.0, 223.0, 829.0, 379.0, 154.0, 316.0, 321.0, 182.0, 632.0, 666.0, 283.0, 357.0, 180.0, 29.223681971742092, 24.507851311099877, 43.3992572628295, 18.83676155245518, 17.89086189906379, 17.893941645792424, 16.000155930969925, 15.997998527755707, 14.115140577964908, 14.105967166346487, 11.279501882442059, 23.504180787694487, 10.33571145188471, 10.333625339055535, 23.503037165186157, 9.385868771196588, 9.38499582731353, 9.388121684117708, 8.445974022361694, 8.445975139656491, 8.445974178922649, 8.445219277123138, 247.67434267496188, 20.716120605253412, 17.890231860800927, 8.433417594500668, 7.501096724997774, 7.501095924212879, 7.500809960427547, 7.493917085572029, 67.09444133012208, 34.8387713619114, 25.362376324685645, 19.68605284928486, 85.19251870470978, 63.76393265197001, 189.88249681545463, 322.2286640586122, 14.992596897751302, 44.63344486257483, 306.9808118922139, 155.7914615618103, 31.387687365275838, 80.94608897765362, 54.916461858365295, 253.39297172711096, 70.02793693531376, 64.2321518790886, 57.73080585361505, 56.37123937520645, 75.45557217781264, 86.72452915180672, 70.52271234612564, 95.93991554357115, 528.8939211493973, 144.5604191937394, 307.110067831419, 68.42439842505533, 666.935281004854, 237.87866996597427, 246.58625752911058, 495.8105912561131, 151.96580772493672, 201.81240628853223, 582.0028044692281, 84.7666146168487, 108.14335493867324, 187.4293198432859, 692.4613876905644, 136.45293051868015, 405.551952149791, 1708.4455505170877, 187.88805043651004, 235.30486914863016, 258.15531811136185, 438.4294809374797, 515.5696144754936, 494.2214872028835, 670.4716981598217, 779.030395498509, 829.3054260882689, 452.69624845160473, 631.650002056384, 1180.3787045420065, 632.7387002110602, 580.8764044092467, 346.62321994969125, 342.43080428920837, 659.2260150309446, 381.3705119212212, 36.91103410842861, 17.003147540004832, 15.107485585253173, 15.107481590059727, 68.10060509253678, 25.40251946730232, 12.263469436615374, 12.252370997122089, 203.1533014050082, 10.36745008315027, 10.36745144586363, 10.367392856834536, 9.419436314138007, 9.408208169130507, 26.37115551052974, 52.03903224000475, 8.47134001986867, 8.470746868493109, 8.466783073615526, 8.46012356893148, 7.523381938024306, 7.523388170426173, 7.523386735495565, 7.523384617991914, 7.5233868770459855, 7.523386459574166, 7.521261038293513, 7.520073028893616, 7.512012387141162, 7.510474823215548, 69.86793151108661, 767.7718604917161, 79.64427389141136, 316.01126800015794, 212.71750953947554, 23.520038611562473, 64.20696301835282, 25.418852316755636, 14.15891818645105, 13.084155108759674, 259.5356394984374, 66.74549357398148, 24.59750352479457, 612.4500110699051, 49.74702444126793, 37.89128493006652, 225.08515245786893, 370.19785896118464, 44.52191188924408, 267.0271923035473, 32.74446215377828, 668.7769294031626, 91.09390243474382, 347.64257073335756, 400.26661916261037, 380.91936938441546, 401.4195295157984, 150.09886872395788, 666.935281004854, 290.5993608836501, 177.16760564433807, 670.4716981598217, 829.3054260882689, 692.4613876905644, 1708.4455505170877, 1180.3787045420065, 779.030395498509, 632.7387002110602, 686.4018482192231, 381.3705119212212, 495.8105912561131, 351.61735938213366, 728.3355538415939, 405.551952149791, 659.2260150309446, 696.0125284647224, 18.71437022293564, 17.78463643514967, 38.44602289830684, 16.84591675277739, 37.422922138203546, 15.905034058675595, 28.932713171871303, 14.02940055098155, 14.01868254785218, 13.090865648328325, 13.089546411663163, 12.15201112022659, 12.151978399626799, 12.151977868907117, 12.151976709631887, 12.151977511560792, 12.12785022548371, 11.213487911261886, 11.202380712303396, 60.65103077346144, 10.274624095717598, 10.273323812610142, 10.261575599700285, 9.335853901734158, 9.33564691233134, 9.333611509062193, 9.322650965775338, 9.32242615350224, 34.569646404925855, 36.19594467101972, 348.11376753290165, 183.76735598117472, 35.330334361158286, 28.139177800488504, 160.28986383039893, 283.78277871355345, 77.18354891803223, 39.40887350137003, 113.16131365804695, 209.5417616842301, 167.93172622279732, 113.42700613367981, 49.67692492391823, 110.3807638341183, 272.91026548336276, 42.928026143310944, 49.6541791012755, 40.20384248356149, 357.4426010384133, 326.9543022734561, 191.8329942831902, 62.1108993165988, 154.4012088249619, 231.1498962187716, 129.4227532582322, 77.37952116804348, 619.7666463327859, 866.340709195664, 72.41985589711358, 217.37192049848983, 101.46852360062402, 728.3355538415939, 91.64594830452577, 116.87214615248118, 686.4018482192231, 215.4687379752187, 165.53238426317353, 145.12963837897144, 158.04544861644763, 291.23976696231483, 696.0125284647224, 1180.3787045420065, 560.1900263186201, 409.9901113051817, 317.9936554548006, 1708.4455505170877, 295.47683401579314, 359.9282465098539, 631.650002056384, 475.6590372477066, 582.0028044692281, 182.982503292021, 109.50128145426378, 44.74541412717432, 176.95951662003608, 70.45740327051912, 23.769932944527497, 22.81339195137087, 22.811957233781186, 296.26729303009944, 167.58752578429102, 20.897167566097078, 15.189312947887395, 14.236118183538224, 110.14214880306683, 72.04363020438602, 12.329258559648798, 12.328985974647972, 12.324002993268259, 11.375825084197071, 11.374334423365452, 11.372309327714914, 10.422391285251608, 10.420919505410284, 151.07396768771466, 9.468953485338856, 9.466457331928934, 9.464886477931536, 29.440810879716476, 8.515510835273288, 8.515510189977828, 12.305798104479775, 44.701424940082525, 106.64572728011652, 56.98890385336472, 50.38594200296429, 34.154462864925804, 56.90996327651886, 321.0622217277441, 74.72230955062203, 32.29510685880904, 379.61510648767836, 38.82461838417762, 253.93373242744715, 67.04174296797865, 112.96328245990728, 182.68788923604902, 866.340709195664, 265.0874763335792, 156.94036447565892, 317.9936554548006, 133.04665835222238, 307.72202542652616, 93.86814369520276, 434.4038616502187, 703.2134141768898, 1708.4455505170877, 370.12974920257943, 1180.3787045420065, 696.0125284647224, 527.5353601096328, 728.3355538415939, 181.45044521075673, 339.784812593075, 357.4426010384133, 631.650002056384, 580.8764044092467, 779.030395498509, 398.7758513771869, 334.7718376074477, 18.008805253132426, 31.5103727469745, 12.602600864962087, 12.602601388427626, 12.602601797240755, 11.70144705529978, 9.900150711381684, 18.820349020052287, 8.998447239498601, 18.896114638838444, 8.097518340276306, 8.09717686834607, 8.07991190763749, 11.714691404802837, 7.195655058980391, 7.196190507597858, 33.872942115017786, 13.413300061730494, 21.685675049593616, 6.294845868170763, 6.294845924364843, 6.29480965337296, 6.2948096894484955, 6.294809762597184, 6.294809771927577, 6.294809779515761, 6.294809790924459, 6.29480981633665, 6.294809867029124, 223.1588424419017, 12.58807521459033, 45.96338096094761, 12.63514774589096, 134.3136187995391, 324.03325239506063, 17.196735578084574, 78.99467670681707, 25.34973303734398, 54.78435624883113, 50.32064538383303, 96.70318918078428, 82.82057914906252, 49.18261249250354, 236.68868657709618, 24.07260836559031, 18.767933333576337, 145.4465118151368, 47.24827720503285, 659.2260150309446, 401.68829720140525, 151.17752448684024, 85.97511676551214, 47.122838044707805, 85.53664173123494, 48.670644473760234, 78.6715330069395, 214.6282020083461, 92.32084126346533, 162.73868658088765, 75.87479568181149, 47.5351512388847, 112.34136952071029, 703.2134141768898, 145.08066581452354, 829.3054260882689, 167.52213897534176, 515.5696144754936, 260.5874800923122, 668.7769294031626, 197.3155391277422, 231.8465137156288, 1708.4455505170877, 580.8764044092467, 438.4294809374797, 692.4613876905644, 448.07267739180696, 280.7032418317486, 405.551952149791, 494.2214872028835, 528.8939211493973, 86.28904220021141, 29.351949132097843, 15.12316213207035, 13.344002864197044, 8.896097812910755, 8.006256401662403, 47.32357896516704, 14.276796835476254, 6.227323776918709, 6.225068087423637, 18.658093256391744, 201.98814978050217, 5.337648315126095, 5.3374573885302, 5.3357879930897125, 4.447904619703031, 4.447904780887677, 4.445241786019121, 4.444659043670883, 4.443424472547861, 4.443978076385641, 4.437358816168018, 13.344249621394146, 8.947930696503668, 8.05456173631026, 8.058333971185622, 3.55844577633736, 3.5584459791577707, 3.558447317077689, 3.5584473921895494, 115.08365152017757, 85.84611557193193, 7.143966571851303, 58.02879459909831, 119.75371677480145, 92.66706020626508, 475.6590372477066, 49.671900037335476, 28.83450650985875, 22.624209863958278, 35.39949314996072, 53.32304584885719, 315.88682521427904, 201.81240628853223, 25.277017728446562, 198.8399327375372, 35.861775875016185, 692.4613876905644, 686.4018482192231, 26.31703067556264, 632.7387002110602, 495.8105912561131, 258.3540504553242, 409.9901113051817, 666.935281004854, 405.551952149791, 527.5353601096328, 242.50852716666932, 306.4413941500239, 668.7769294031626, 659.2260150309446, 358.7706207619445, 1708.4455505170877, 829.3054260882689, 1180.3787045420065, 631.650002056384, 670.4716981598217, 438.4294809374797, 528.8939211493973, 779.030395498509, 113.68926888241715, 31.998268465139457, 66.70525094281642, 69.39643808117592, 19.554977809029445, 39.17146631351976, 15.110939360706046, 107.14164316077934, 154.81092247617292, 8.889504665226482, 7.999911363661228, 7.99903685308496, 7.111812163232166, 7.111621946296317, 7.111622119831875, 7.111087368282858, 14.219788884980286, 6.223086977953903, 6.222790303187359, 18.59588676098328, 19.66441354134885, 177.45118337965263, 16.750072641097006, 5.33310820145946, 27.76492046854486, 4.445415415034226, 4.445114505861394, 4.445114075947753, 4.443101930634142, 6.188853939860554, 77.70913326618768, 82.59357270587614, 40.43034349976801, 8.934278798053057, 220.0883517817936, 124.12327093280857, 442.13318798260656, 162.73307511757594, 31.52882399785504, 163.98087340655042, 31.544492051155068, 165.1923153019939, 180.46888359354872, 84.58696473519896, 285.4893634341751, 30.186361366671, 202.9904930260133, 113.54408688792552, 1708.4455505170877, 1180.3787045420065, 703.2134141768898, 211.08223661063786, 434.4038616502187, 373.9971519848671, 235.30486914863016, 448.07267739180696, 632.7387002110602, 728.3355538415939, 404.18154807670874, 779.030395498509, 670.4716981598217, 580.8764044092467, 631.650002056384, 23.966479424159353, 23.14234577828537, 43.038566556526334, 17.37341348971939, 16.54928135170702, 48.665399754948595, 14.901013402303326, 14.072189643808173, 50.30194440714648, 9.132071907487957, 82.78979943281101, 14.893985676450203, 6.659653383432141, 6.6596543694853345, 6.659654326366143, 6.6596545763537085, 5.835508976308168, 5.835509011383762, 5.835510204845554, 5.835510521925723, 5.834091175065545, 11.712561981176593, 5.011360306171216, 5.011360339915927, 5.011360443030077, 5.011360453648445, 5.01136102510572, 5.010538521490935, 15.96608606097655, 15.927133777499627, 67.86337321656099, 284.83288004729724, 98.89843728405079, 21.205192627880102, 15.106591017247819, 14.058086009505722, 21.543772975405197, 108.16276769099028, 33.89968760790687, 36.67828331095961, 33.93548956725836, 57.3479578051986, 35.77259969696436, 39.696564084757384, 15.93750680388555, 104.76269442584012, 59.004631642587334, 46.250489968757584, 59.40048864635457, 52.19004366369334, 632.7387002110602, 779.030395498509, 438.4294809374797, 1708.4455505170877, 242.50852716666932, 330.5079905186685, 448.07267739180696, 829.3054260882689, 89.10615747029648, 404.18154807670874, 190.9532353859395, 342.43080428920837, 527.5353601096328, 139.7263192307588, 251.78020495844046, 358.7706207619445, 24.44506020153311, 17.939672604434136, 22.095993011666632, 43.16602489466412, 8.201655469459082, 27.914125537340933, 6.577005446994351, 6.577005486736676, 6.5708224854595665, 5.7646772328041065, 11.57081243099923, 4.952343685172153, 4.95234397795666, 4.952147304055875, 24.018524066635653, 4.140001082714883, 4.140001308513513, 4.140001272482636, 4.1400006885841325, 4.139498121630004, 4.129159698135354, 4.121500073993901, 9.14689080421462, 7.474212846981594, 7.509223514975468, 3.3276399181660286, 3.3276398354887524, 3.327639845634846, 3.3276399047078824, 3.3276397091556107, 65.75164006925723, 97.28651806650942, 6.5869324662145, 15.897211202269721, 10.85977174603737, 54.604270777274664, 202.9904930260133, 254.56759361164987, 19.411628128163805, 17.876005504129903, 15.045468727995333, 28.09381898364161, 109.01074369533396, 137.8778591020972, 33.148621544472256, 63.46725113377905, 34.68481178142212, 107.78173792060922, 29.796836022322466, 57.137318007747204, 85.53664173123494, 43.60039729389109, 324.03325239506063, 33.553317899061234, 231.4224171199584, 829.3054260882689, 401.68829720140525, 102.46600468048626, 659.2260150309446, 63.722786074108285, 404.18154807670874, 258.3540504553242, 1708.4455505170877, 448.07267739180696, 560.1900263186201, 260.5874800923122, 632.7387002110602, 779.030395498509, 670.4716981598217, 692.4613876905644, 528.8939211493973, 13.1735527563158, 27.998394399473845, 9.897405403516236, 8.260464494936803, 50.6250064380248, 7.441378159906765, 6.622749695325057, 5.8038883332845606, 5.803888965099446, 5.803889065526485, 5.8038891044849175, 4.985022865720714, 9.19257108645527, 4.166148091774741, 4.166138341746353, 4.165736842785141, 4.164633295255836, 4.165385224836962, 4.165188978130484, 7.432929895386502, 8.394199830363968, 11.768381455211834, 50.38033990353603, 10.854496657216131, 3.347255467790227, 3.3472554893895157, 3.34725526230306, 3.3472552910918756, 3.347255334578665, 3.347255373196603, 340.6736634696647, 11.552954752407723, 6.74383815272038, 103.11330831003093, 11.837066264743939, 53.426539496230546, 145.3036988481469, 24.20457156204621, 14.847697585724976, 89.10615747029648, 63.44382254606792, 24.472425631973152, 49.91721760911818, 167.52213897534176, 18.146882498388955, 58.92489789912092, 108.16276769099028, 106.02463669017062, 112.2494824531128, 52.88649610814109, 33.621046019054546, 339.784812593075, 56.46425075279832, 128.58833967132077, 46.250489968757584, 284.83288004729724, 116.7546147591591, 187.88805043651004, 632.7387002110602, 670.4716981598217, 668.7769294031626, 190.9532353859395, 280.7032418317486, 1708.4455505170877, 373.9971519848671, 779.030395498509, 351.61735938213366, 139.7263192307588, 619.7666463327859, 318.74004340092546, 1180.3787045420065], \"Category\": [\"Default\", \"Default\", \"Default\", \"Default\", \"Default\", \"Default\", \"Default\", \"Default\", \"Default\", \"Default\", \"Default\", \"Default\", \"Default\", \"Default\", \"Default\", \"Default\", \"Default\", \"Default\", \"Default\", \"Default\", \"Default\", \"Default\", \"Default\", \"Default\", \"Default\", \"Default\", \"Default\", \"Default\", \"Default\", \"Default\", \"Topic1\", \"Topic1\", \"Topic1\", \"Topic1\", \"Topic1\", \"Topic1\", \"Topic1\", \"Topic1\", \"Topic1\", \"Topic1\", \"Topic1\", \"Topic1\", \"Topic1\", \"Topic1\", \"Topic1\", \"Topic1\", \"Topic1\", \"Topic1\", \"Topic1\", \"Topic1\", \"Topic1\", \"Topic1\", \"Topic1\", \"Topic1\", \"Topic1\", \"Topic1\", \"Topic1\", \"Topic1\", \"Topic1\", \"Topic1\", \"Topic1\", \"Topic1\", \"Topic1\", \"Topic1\", \"Topic1\", \"Topic1\", \"Topic1\", \"Topic1\", \"Topic1\", \"Topic1\", \"Topic1\", \"Topic1\", \"Topic1\", \"Topic1\", \"Topic1\", \"Topic1\", \"Topic1\", \"Topic1\", \"Topic1\", \"Topic1\", \"Topic1\", \"Topic1\", \"Topic1\", \"Topic1\", \"Topic1\", \"Topic1\", \"Topic1\", \"Topic1\", \"Topic1\", \"Topic1\", \"Topic1\", \"Topic1\", \"Topic1\", \"Topic1\", \"Topic1\", \"Topic1\", \"Topic1\", \"Topic1\", \"Topic1\", \"Topic1\", \"Topic1\", \"Topic1\", \"Topic1\", \"Topic1\", \"Topic1\", \"Topic1\", \"Topic1\", \"Topic1\", \"Topic1\", \"Topic1\", \"Topic1\", \"Topic1\", \"Topic1\", \"Topic1\", \"Topic1\", \"Topic1\", \"Topic1\", \"Topic1\", \"Topic1\", \"Topic1\", \"Topic2\", \"Topic2\", \"Topic2\", \"Topic2\", \"Topic2\", \"Topic2\", \"Topic2\", \"Topic2\", \"Topic2\", \"Topic2\", \"Topic2\", \"Topic2\", \"Topic2\", \"Topic2\", \"Topic2\", \"Topic2\", \"Topic2\", \"Topic2\", \"Topic2\", \"Topic2\", \"Topic2\", \"Topic2\", \"Topic2\", \"Topic2\", \"Topic2\", \"Topic2\", \"Topic2\", \"Topic2\", \"Topic2\", \"Topic2\", \"Topic2\", \"Topic2\", \"Topic2\", \"Topic2\", \"Topic2\", \"Topic2\", \"Topic2\", \"Topic2\", \"Topic2\", \"Topic2\", \"Topic2\", \"Topic2\", \"Topic2\", \"Topic2\", \"Topic2\", \"Topic2\", \"Topic2\", \"Topic2\", \"Topic2\", \"Topic2\", \"Topic2\", \"Topic2\", \"Topic2\", \"Topic2\", \"Topic2\", \"Topic2\", \"Topic2\", \"Topic2\", \"Topic2\", \"Topic2\", \"Topic2\", \"Topic2\", \"Topic2\", \"Topic2\", \"Topic2\", \"Topic2\", \"Topic2\", \"Topic2\", \"Topic2\", \"Topic2\", \"Topic2\", \"Topic2\", \"Topic2\", \"Topic2\", \"Topic2\", \"Topic2\", \"Topic3\", \"Topic3\", \"Topic3\", \"Topic3\", \"Topic3\", \"Topic3\", \"Topic3\", \"Topic3\", \"Topic3\", \"Topic3\", \"Topic3\", \"Topic3\", \"Topic3\", \"Topic3\", \"Topic3\", \"Topic3\", \"Topic3\", \"Topic3\", \"Topic3\", \"Topic3\", \"Topic3\", \"Topic3\", \"Topic3\", \"Topic3\", \"Topic3\", \"Topic3\", \"Topic3\", \"Topic3\", \"Topic3\", \"Topic3\", \"Topic3\", \"Topic3\", \"Topic3\", \"Topic3\", \"Topic3\", \"Topic3\", \"Topic3\", \"Topic3\", \"Topic3\", \"Topic3\", \"Topic3\", \"Topic3\", \"Topic3\", \"Topic3\", \"Topic3\", \"Topic3\", \"Topic3\", \"Topic3\", \"Topic3\", \"Topic3\", \"Topic3\", \"Topic3\", \"Topic3\", \"Topic3\", \"Topic3\", \"Topic3\", \"Topic3\", \"Topic3\", \"Topic3\", \"Topic3\", \"Topic3\", \"Topic3\", \"Topic3\", \"Topic3\", \"Topic3\", \"Topic3\", \"Topic3\", \"Topic3\", \"Topic3\", \"Topic3\", \"Topic3\", \"Topic3\", \"Topic3\", \"Topic3\", \"Topic3\", \"Topic3\", \"Topic3\", \"Topic3\", \"Topic3\", \"Topic3\", \"Topic3\", \"Topic4\", \"Topic4\", \"Topic4\", \"Topic4\", \"Topic4\", \"Topic4\", \"Topic4\", \"Topic4\", \"Topic4\", \"Topic4\", \"Topic4\", \"Topic4\", \"Topic4\", \"Topic4\", \"Topic4\", \"Topic4\", \"Topic4\", \"Topic4\", \"Topic4\", \"Topic4\", \"Topic4\", \"Topic4\", \"Topic4\", \"Topic4\", \"Topic4\", \"Topic4\", \"Topic4\", \"Topic4\", \"Topic4\", \"Topic4\", \"Topic4\", \"Topic4\", \"Topic4\", \"Topic4\", \"Topic4\", \"Topic4\", \"Topic4\", \"Topic4\", \"Topic4\", \"Topic4\", \"Topic4\", \"Topic4\", \"Topic4\", \"Topic4\", \"Topic4\", \"Topic4\", \"Topic4\", \"Topic4\", \"Topic4\", \"Topic4\", \"Topic4\", \"Topic4\", \"Topic4\", \"Topic4\", \"Topic4\", \"Topic4\", \"Topic4\", \"Topic4\", \"Topic4\", \"Topic4\", \"Topic4\", \"Topic4\", \"Topic4\", \"Topic4\", \"Topic4\", \"Topic4\", \"Topic4\", \"Topic4\", \"Topic5\", \"Topic5\", \"Topic5\", \"Topic5\", \"Topic5\", \"Topic5\", \"Topic5\", \"Topic5\", \"Topic5\", \"Topic5\", \"Topic5\", \"Topic5\", \"Topic5\", \"Topic5\", \"Topic5\", \"Topic5\", \"Topic5\", \"Topic5\", \"Topic5\", \"Topic5\", \"Topic5\", \"Topic5\", \"Topic5\", \"Topic5\", \"Topic5\", \"Topic5\", \"Topic5\", \"Topic5\", \"Topic5\", \"Topic5\", \"Topic5\", \"Topic5\", \"Topic5\", \"Topic5\", \"Topic5\", \"Topic5\", \"Topic5\", \"Topic5\", \"Topic5\", \"Topic5\", \"Topic5\", \"Topic5\", \"Topic5\", \"Topic5\", \"Topic5\", \"Topic5\", \"Topic5\", \"Topic5\", \"Topic5\", \"Topic5\", \"Topic5\", \"Topic5\", \"Topic5\", \"Topic5\", \"Topic5\", \"Topic5\", \"Topic5\", \"Topic5\", \"Topic5\", \"Topic5\", \"Topic5\", \"Topic5\", \"Topic5\", \"Topic5\", \"Topic5\", \"Topic5\", \"Topic5\", \"Topic5\", \"Topic5\", \"Topic5\", \"Topic5\", \"Topic5\", \"Topic5\", \"Topic5\", \"Topic5\", \"Topic5\", \"Topic5\", \"Topic5\", \"Topic5\", \"Topic5\", \"Topic5\", \"Topic6\", \"Topic6\", \"Topic6\", \"Topic6\", \"Topic6\", \"Topic6\", \"Topic6\", \"Topic6\", \"Topic6\", \"Topic6\", \"Topic6\", \"Topic6\", \"Topic6\", \"Topic6\", \"Topic6\", \"Topic6\", \"Topic6\", \"Topic6\", \"Topic6\", \"Topic6\", \"Topic6\", \"Topic6\", \"Topic6\", \"Topic6\", \"Topic6\", \"Topic6\", \"Topic6\", \"Topic6\", \"Topic6\", \"Topic6\", \"Topic6\", \"Topic6\", \"Topic6\", \"Topic6\", \"Topic6\", \"Topic6\", \"Topic6\", \"Topic6\", \"Topic6\", \"Topic6\", \"Topic6\", \"Topic6\", \"Topic6\", \"Topic6\", \"Topic6\", \"Topic6\", \"Topic6\", \"Topic6\", \"Topic6\", \"Topic6\", \"Topic6\", \"Topic6\", \"Topic6\", \"Topic6\", \"Topic6\", \"Topic6\", \"Topic6\", \"Topic6\", \"Topic6\", \"Topic6\", \"Topic6\", \"Topic6\", \"Topic6\", \"Topic6\", \"Topic6\", \"Topic6\", \"Topic6\", \"Topic6\", \"Topic6\", \"Topic6\", \"Topic7\", \"Topic7\", \"Topic7\", \"Topic7\", \"Topic7\", \"Topic7\", \"Topic7\", \"Topic7\", \"Topic7\", \"Topic7\", \"Topic7\", \"Topic7\", \"Topic7\", \"Topic7\", \"Topic7\", \"Topic7\", \"Topic7\", \"Topic7\", \"Topic7\", \"Topic7\", \"Topic7\", \"Topic7\", \"Topic7\", \"Topic7\", \"Topic7\", \"Topic7\", \"Topic7\", \"Topic7\", \"Topic7\", \"Topic7\", \"Topic7\", \"Topic7\", \"Topic7\", \"Topic7\", \"Topic7\", \"Topic7\", \"Topic7\", \"Topic7\", \"Topic7\", \"Topic7\", \"Topic7\", \"Topic7\", \"Topic7\", \"Topic7\", \"Topic7\", \"Topic7\", \"Topic7\", \"Topic7\", \"Topic7\", \"Topic7\", \"Topic7\", \"Topic7\", \"Topic7\", \"Topic7\", \"Topic7\", \"Topic7\", \"Topic7\", \"Topic7\", \"Topic7\", \"Topic7\", \"Topic7\", \"Topic7\", \"Topic7\", \"Topic8\", \"Topic8\", \"Topic8\", \"Topic8\", \"Topic8\", \"Topic8\", \"Topic8\", \"Topic8\", \"Topic8\", \"Topic8\", \"Topic8\", \"Topic8\", \"Topic8\", \"Topic8\", \"Topic8\", \"Topic8\", \"Topic8\", \"Topic8\", \"Topic8\", \"Topic8\", \"Topic8\", \"Topic8\", \"Topic8\", \"Topic8\", \"Topic8\", \"Topic8\", \"Topic8\", \"Topic8\", \"Topic8\", \"Topic8\", \"Topic8\", \"Topic8\", \"Topic8\", \"Topic8\", \"Topic8\", \"Topic8\", \"Topic8\", \"Topic8\", \"Topic8\", \"Topic8\", \"Topic8\", \"Topic8\", \"Topic8\", \"Topic8\", \"Topic8\", \"Topic8\", \"Topic8\", \"Topic8\", \"Topic8\", \"Topic8\", \"Topic8\", \"Topic8\", \"Topic8\", \"Topic8\", \"Topic8\", \"Topic8\", \"Topic8\", \"Topic8\", \"Topic8\", \"Topic8\", \"Topic8\", \"Topic8\", \"Topic8\", \"Topic8\", \"Topic8\", \"Topic8\", \"Topic9\", \"Topic9\", \"Topic9\", \"Topic9\", \"Topic9\", \"Topic9\", \"Topic9\", \"Topic9\", \"Topic9\", \"Topic9\", \"Topic9\", \"Topic9\", \"Topic9\", \"Topic9\", \"Topic9\", \"Topic9\", \"Topic9\", \"Topic9\", \"Topic9\", \"Topic9\", \"Topic9\", \"Topic9\", \"Topic9\", \"Topic9\", \"Topic9\", \"Topic9\", \"Topic9\", \"Topic9\", \"Topic9\", \"Topic9\", \"Topic9\", \"Topic9\", \"Topic9\", \"Topic9\", \"Topic9\", \"Topic9\", \"Topic9\", \"Topic9\", \"Topic9\", \"Topic9\", \"Topic9\", \"Topic9\", \"Topic9\", \"Topic9\", \"Topic9\", \"Topic9\", \"Topic9\", \"Topic9\", \"Topic9\", \"Topic9\", \"Topic9\", \"Topic9\", \"Topic9\", \"Topic9\", \"Topic9\", \"Topic9\", \"Topic9\", \"Topic9\", \"Topic9\", \"Topic9\", \"Topic9\", \"Topic9\", \"Topic9\", \"Topic9\", \"Topic9\", \"Topic9\", \"Topic9\", \"Topic9\", \"Topic9\", \"Topic9\", \"Topic9\", \"Topic10\", \"Topic10\", \"Topic10\", \"Topic10\", \"Topic10\", \"Topic10\", \"Topic10\", \"Topic10\", \"Topic10\", \"Topic10\", \"Topic10\", \"Topic10\", \"Topic10\", \"Topic10\", \"Topic10\", \"Topic10\", \"Topic10\", \"Topic10\", \"Topic10\", \"Topic10\", \"Topic10\", \"Topic10\", \"Topic10\", \"Topic10\", \"Topic10\", \"Topic10\", \"Topic10\", \"Topic10\", \"Topic10\", \"Topic10\", \"Topic10\", \"Topic10\", \"Topic10\", \"Topic10\", \"Topic10\", \"Topic10\", \"Topic10\", \"Topic10\", \"Topic10\", \"Topic10\", \"Topic10\", \"Topic10\", \"Topic10\", \"Topic10\", \"Topic10\", \"Topic10\", \"Topic10\", \"Topic10\", \"Topic10\", \"Topic10\", \"Topic10\", \"Topic10\", \"Topic10\", \"Topic10\", \"Topic10\", \"Topic10\", \"Topic10\", \"Topic10\", \"Topic10\", \"Topic10\", \"Topic10\", \"Topic10\", \"Topic10\", \"Topic10\", \"Topic10\", \"Topic10\", \"Topic10\", \"Topic10\", \"Topic10\", \"Topic10\", \"Topic10\"], \"logprob\": [30.0, 29.0, 28.0, 27.0, 26.0, 25.0, 24.0, 23.0, 22.0, 21.0, 20.0, 19.0, 18.0, 17.0, 16.0, 15.0, 14.0, 13.0, 12.0, 11.0, 10.0, 9.0, 8.0, 7.0, 6.0, 5.0, 4.0, 3.0, 2.0, 1.0, -7.1904, -7.3718, -6.8085, -7.6453, -7.699, -7.6989, -7.8162, -7.818, -7.9486, -7.9493, -8.188, -7.455, -8.2824, -8.2826, -7.4688, -8.3873, -8.3874, -8.3881, -8.5032, -8.5032, -8.5032, -8.5033, -5.1248, -7.6067, -7.7556, -8.5127, -8.6351, -8.6351, -8.6351, -8.6362, -6.4542, -7.105, -7.4241, -7.6763, -6.2509, -6.5474, -5.5021, -5.0267, -7.9526, -6.9267, -5.1173, -5.7708, -7.2628, -6.3929, -6.7629, -5.3976, -6.5505, -6.6533, -6.7458, -6.7767, -6.5345, -6.4219, -6.5925, -6.3405, -4.9427, -6.0105, -5.4229, -6.6373, -4.9178, -5.72, -5.6964, -5.1873, -6.0578, -5.876, -5.1527, -6.4935, -6.3392, -5.998, -5.2082, -6.2181, -5.6083, -4.8353, -6.0601, -5.9598, -5.9224, -5.6859, -5.6496, -5.6736, -5.555, -5.4956, -5.5095, -5.7735, -5.6746, -5.4966, -5.6854, -5.7388, -5.8769, -5.8844, -5.8154, -5.874, -6.9047, -7.706, -7.8304, -7.8304, -6.3298, -7.3221, -8.052, -8.053, -5.2554, -8.2328, -8.2328, -8.2328, -8.3371, -8.3384, -7.3146, -6.6353, -8.4536, -8.4536, -8.4542, -8.455, -8.5854, -8.5854, -8.5854, -8.5854, -8.5854, -8.5854, -8.5857, -8.5859, -8.5871, -8.5874, -6.3604, -3.9894, -6.2355, -4.8738, -5.2673, -7.4495, -6.4937, -7.4052, -7.9726, -8.0522, -5.2036, -6.5055, -7.4538, -4.5033, -6.8434, -7.0891, -5.504, -5.0783, -6.9707, -5.4514, -7.2447, -4.8865, -6.4689, -5.4337, -5.3633, -5.4287, -5.4037, -6.1479, -5.1028, -5.6993, -6.0427, -5.2607, -5.1608, -5.277, -4.7891, -5.0086, -5.398, -5.5037, -5.4899, -5.8371, -5.7576, -5.9332, -5.7645, -5.9092, -5.8327, -5.8485, -7.5838, -7.637, -6.867, -7.6939, -6.8987, -7.7545, -7.1621, -7.8869, -7.8877, -7.9604, -7.9621, -8.0399, -8.0399, -8.0399, -8.0399, -8.0399, -8.0474, -8.1262, -8.1272, -6.4451, -8.2206, -8.2208, -8.222, -8.325, -8.325, -8.3253, -8.3265, -8.3266, -7.0163, -6.9746, -4.7271, -5.3648, -7.0048, -7.2435, -5.5482, -5.0008, -6.2661, -6.9226, -5.9407, -5.3849, -5.5916, -5.9718, -6.7374, -6.0157, -5.1967, -6.8823, -6.7687, -6.9611, -5.0253, -5.119, -5.6152, -6.5903, -5.8231, -5.5023, -5.9877, -6.4149, -4.7462, -4.5518, -6.4768, -5.6715, -6.2314, -4.829, -6.3166, -6.1494, -4.9309, -5.7435, -5.9556, -6.0525, -6.0139, -5.7008, -5.2571, -5.0027, -5.3794, -5.6103, -5.7178, -5.1403, -5.8108, -5.8041, -5.8069, -5.8669, -5.9049, -5.1403, -5.6666, -6.5618, -5.191, -6.1222, -7.2105, -7.253, -7.2534, -4.6897, -5.2639, -7.3584, -7.6781, -7.7466, -5.7054, -6.134, -7.8996, -7.8996, -7.9021, -7.9859, -7.9861, -7.9864, -8.0803, -8.0805, -5.4102, -8.1847, -8.185, -8.1857, -7.0586, -8.3011, -8.3011, -7.9354, -6.6692, -5.8231, -6.4371, -6.5582, -6.9375, -6.4455, -4.808, -6.205, -6.9988, -4.7116, -6.8494, -5.1462, -6.3615, -5.9014, -5.4762, -4.2593, -5.2565, -5.7037, -5.1717, -5.8647, -5.289, -6.1795, -5.06, -4.788, -4.4891, -5.3881, -4.7676, -5.0625, -5.3254, -5.1952, -5.8992, -5.6913, -5.685, -5.5666, -5.6022, -5.6893, -5.7607, -4.1784, -7.1021, -6.552, -7.4791, -7.4791, -7.4791, -7.5585, -7.7392, -7.1045, -7.8435, -7.1019, -7.96, -7.96, -7.9663, -7.6011, -8.0919, -8.0919, -6.552, -7.4791, -7.0004, -8.2438, -8.2438, -8.2438, -8.2438, -8.2438, -8.2438, -8.2438, -8.2438, -8.2438, -8.2438, -4.6772, -7.5585, -6.2921, -7.5585, -5.2788, -4.4476, -7.2729, -5.8123, -6.9319, -6.2133, -6.3106, -5.7341, -5.8791, -6.3649, -4.9986, -7.0024, -7.2232, -5.5033, -6.4574, -4.298, -4.73, -5.53, -5.9894, -6.4704, -6.0249, -6.4666, -6.1215, -5.3967, -6.0145, -5.6297, -6.2174, -6.5223, -6.0175, -4.9759, -5.9066, -5.021, -5.8388, -5.3261, -5.7042, -5.3279, -5.8201, -5.7591, -5.0852, -5.5089, -5.7007, -5.6318, -5.7591, -5.8641, -5.8179, -5.7963, -5.8119, -5.2622, -6.3595, -7.0489, -7.1815, -7.6195, -7.736, -5.9783, -7.1826, -8.0196, -8.0201, -6.9346, -4.5615, -8.1988, -8.1988, -8.1992, -8.4172, -8.4172, -8.4179, -8.4182, -8.4185, -8.4184, -8.422, -7.3345, -7.7393, -7.8678, -7.8678, -8.697, -8.697, -8.697, -8.697, -5.227, -5.5339, -8.0221, -6.0915, -5.4195, -5.6879, -4.2643, -6.2734, -6.7784, -7.0489, -6.6979, -6.3627, -4.9642, -5.322, -7.0126, -5.463, -6.7561, -4.5916, -4.7656, -7.0249, -5.0242, -5.2761, -5.6708, -5.4145, -5.1727, -5.4803, -5.3634, -5.7838, -5.6831, -5.3613, -5.3853, -5.6589, -4.9985, -5.3569, -5.2904, -5.5722, -5.5775, -5.7257, -5.7082, -5.6945, -4.8168, -6.0957, -5.3621, -5.3237, -6.6046, -5.915, -6.8751, -4.9224, -4.5617, -7.4457, -7.5623, -7.5635, -7.694, -7.694, -7.694, -7.6941, -7.0078, -7.8458, -7.8459, -6.7583, -6.7043, -4.5159, -6.8779, -8.0252, -6.3815, -8.2433, -8.2434, -8.2434, -8.244, -7.9153, -5.3978, -5.3513, -6.0724, -7.566, -4.4876, -5.0753, -3.889, -4.8276, -6.3759, -4.9003, -6.3851, -5.0336, -4.9637, -5.8083, -4.9204, -6.5835, -5.312, -5.8505, -4.683, -4.9959, -5.2277, -5.75, -5.4669, -5.5911, -5.785, -5.6193, -5.5268, -5.5146, -5.6778, -5.6053, -5.6651, -5.7304, -5.737, -6.0489, -6.0851, -5.4706, -6.384, -6.435, -5.3575, -6.5456, -6.6063, -5.3398, -7.0722, -4.8865, -6.6059, -7.4247, -7.4247, -7.4247, -7.4247, -7.5766, -7.5766, -7.5766, -7.5766, -7.5769, -6.8915, -7.7557, -7.7557, -7.7557, -7.7557, -7.7557, -7.7559, -6.6059, -6.6154, -5.1804, -3.8598, -4.9074, -6.435, -6.7488, -6.8308, -6.452, -5.0411, -6.0725, -6.0975, -6.2026, -5.8029, -6.1621, -6.1618, -6.8121, -5.5377, -5.9251, -6.1618, -6.146, -6.2065, -5.2048, -5.1722, -5.4054, -5.0075, -5.6922, -5.6418, -5.6462, -5.5513, -6.081, -5.8132, -6.0041, -5.9822, -5.9664, -6.0879, -6.0628, -6.079, -5.9764, -6.2984, -6.1241, -5.4547, -7.1388, -5.9187, -7.387, -7.387, -7.3881, -7.5389, -6.8538, -7.718, -7.718, -7.718, -6.1648, -7.9363, -7.9363, -7.9363, -7.9363, -7.9365, -7.9396, -7.9505, -7.1656, -7.387, -7.387, -8.216, -8.216, -8.216, -8.216, -8.216, -5.2422, -4.8653, -7.5389, -6.7008, -7.087, -5.5685, -4.4202, -4.3145, -6.6323, -6.7017, -6.8538, -6.3411, -5.2677, -5.1058, -6.2516, -5.7631, -6.224, -5.3668, -6.3463, -5.889, -5.6324, -6.1061, -4.9106, -6.3463, -5.2655, -4.5502, -4.9677, -5.8562, -5.0111, -6.1241, -5.4078, -5.6145, -5.016, -5.4766, -5.5481, -5.7797, -5.7015, -5.669, -5.7541, -5.7909, -5.9031, -6.6201, -5.8739, -6.928, -7.1266, -5.3238, -7.2431, -7.3748, -7.5267, -7.5267, -7.5267, -7.5267, -7.7058, -7.1266, -7.9241, -7.9241, -7.9242, -7.9245, -7.9244, -7.9264, -7.3748, -7.2582, -6.9279, -5.4814, -7.0229, -8.2038, -8.2038, -8.2038, -8.2038, -8.2038, -8.2038, -3.6852, -6.9911, -7.527, -4.9679, -7.0223, -5.6344, -4.8085, -6.4213, -6.8439, -5.3572, -5.667, -6.4624, -5.9236, -5.1501, -6.7651, -6.0887, -5.723, -5.7788, -5.7719, -6.2435, -6.5116, -5.3195, -6.243, -5.8462, -6.3494, -5.4794, -5.9497, -5.7517, -5.2329, -5.2589, -5.3, -5.8054, -5.6849, -5.0785, -5.639, -5.4278, -5.7379, -6.0047, -5.756, -5.9644, -5.954], \"loglift\": [30.0, 29.0, 28.0, 27.0, 26.0, 25.0, 24.0, 23.0, 22.0, 21.0, 20.0, 19.0, 18.0, 17.0, 16.0, 15.0, 14.0, 13.0, 12.0, 11.0, 10.0, 9.0, 8.0, 7.0, 6.0, 5.0, 4.0, 3.0, 2.0, 1.0, 1.7345, 1.7291, 1.721, 1.7187, 1.7165, 1.7165, 1.711, 1.7094, 1.704, 1.7039, 1.6888, 1.6876, 1.6818, 1.6818, 1.6739, 1.6733, 1.6733, 1.6723, 1.663, 1.663, 1.663, 1.6629, 1.6629, 1.6622, 1.6599, 1.655, 1.6497, 1.6497, 1.6497, 1.6496, 1.6396, 1.6441, 1.6424, 1.6436, 1.604, 1.5972, 1.5514, 1.4978, 1.6397, 1.5746, 1.4558, 1.4805, 1.5906, 1.5132, 1.5311, 1.3673, 1.5004, 1.484, 1.4983, 1.4912, 1.4418, 1.4153, 1.4514, 1.3956, 1.0863, 1.3157, 1.1497, 1.4368, 0.8794, 1.1081, 1.0957, 0.9064, 1.2184, 1.1165, 0.7807, 1.3664, 1.2772, 1.0684, 0.5514, 1.1657, 0.6863, 0.0212, 1.0039, 0.8792, 0.8239, 0.5308, 0.405, 0.4232, 0.2368, 0.1462, 0.0698, 0.4111, 0.1769, -0.2704, 0.1644, 0.1965, 0.5747, 0.5793, -0.0067, 0.482, 1.7866, 1.7604, 1.7542, 1.7542, 1.7491, 1.7429, 1.7412, 1.7411, 1.7305, 1.7284, 1.7284, 1.7284, 1.72, 1.7199, 1.713, 1.7125, 1.7096, 1.7096, 1.7095, 1.7095, 1.6964, 1.6964, 1.6964, 1.6964, 1.6964, 1.6964, 1.6964, 1.6963, 1.6962, 1.6962, 1.6928, 1.6669, 1.6868, 1.6703, 1.6726, 1.6925, 1.644, 1.6592, 1.6769, 1.6763, 1.5373, 1.5935, 1.6434, 1.3791, 1.5495, 1.5761, 1.3794, 1.3075, 1.5332, 1.2611, 1.5664, 0.9079, 1.3191, 1.0149, 0.9444, 0.9285, 0.9011, 1.1407, 0.6943, 0.9286, 1.0801, 0.5312, 0.4184, 0.4826, 0.0674, 0.2176, 0.2438, 0.3461, 0.2784, 0.519, 0.336, 0.5041, -0.0554, 0.3854, -0.024, -0.094, 1.7868, 1.7845, 1.7836, 1.7819, 1.7789, 1.7787, 1.7728, 1.7718, 1.7718, 1.7675, 1.7659, 1.7625, 1.7625, 1.7625, 1.7625, 1.7625, 1.7569, 1.7566, 1.7565, 1.7496, 1.7495, 1.7495, 1.7494, 1.741, 1.741, 1.7409, 1.7409, 1.7409, 1.7406, 1.7363, 1.7202, 1.7214, 1.7303, 1.7192, 1.6747, 1.6508, 1.6876, 1.7033, 1.6303, 1.5701, 1.5847, 1.5969, 1.6569, 1.5802, 1.494, 1.658, 1.6261, 1.6448, 1.3955, 1.391, 1.428, 1.5806, 1.4372, 1.3544, 1.449, 1.5362, 1.1243, 0.9837, 1.5405, 1.2468, 1.4487, 0.8801, 1.4653, 1.3894, 0.8375, 1.1836, 1.2351, 1.2697, 1.223, 0.9249, 0.4974, 0.2236, 0.5922, 0.6734, 0.82, -0.2838, 0.8005, 0.6099, 0.0446, 0.2682, 0.0285, 1.9501, 1.9373, 1.9371, 1.9329, 1.9226, 1.921, 1.9194, 1.9191, 1.9189, 1.9144, 1.9019, 1.9012, 1.8975, 1.8927, 1.8886, 1.8883, 1.8883, 1.8862, 1.8825, 1.8824, 1.8823, 1.8755, 1.8755, 1.8719, 1.8672, 1.8671, 1.8665, 1.8588, 1.8568, 1.8568, 1.8543, 1.8306, 1.8073, 1.8199, 1.8219, 1.8315, 1.8129, 1.7202, 1.7811, 1.8261, 1.6491, 1.7914, 1.6165, 1.733, 1.6713, 1.6159, 1.2763, 1.4633, 1.5403, 1.3661, 1.5444, 1.2817, 1.5785, 1.1659, 0.9562, 0.3674, 0.9979, 0.4587, 0.692, 0.7062, 0.5138, 1.1997, 0.7803, 0.7359, 0.2849, 0.3331, -0.0475, 0.5508, 2.308, 2.3069, 2.2975, 2.2868, 2.2868, 2.2868, 2.2816, 2.2681, 2.2604, 2.2592, 2.259, 2.2483, 2.2483, 2.2442, 2.2379, 2.2344, 2.2344, 2.2252, 2.2245, 2.2228, 2.2163, 2.2163, 2.2163, 2.2163, 2.2163, 2.2163, 2.2163, 2.2163, 2.2163, 2.2163, 2.2148, 2.2086, 2.1799, 2.2048, 2.1209, 2.0714, 2.1822, 2.1181, 2.1351, 2.0832, 2.0709, 1.9941, 2.004, 2.0394, 1.8345, 2.1164, 2.1445, 1.8168, 1.9871, 1.5108, 1.5741, 1.7514, 1.8564, 1.9767, 1.826, 1.9482, 1.8131, 1.5342, 1.7601, 1.578, 1.7534, 1.9161, 1.5608, 0.7683, 1.4159, 0.5583, 1.3399, 0.7285, 1.0327, 0.4665, 1.195, 1.0947, -0.2287, 0.4264, 0.5159, 0.1278, 0.4358, 0.7984, 0.4767, 0.3005, 0.2172, 2.58, 2.561, 2.5348, 2.5273, 2.4947, 2.4836, 2.4646, 2.4586, 2.4513, 2.4512, 2.4389, 2.4301, 2.4263, 2.4263, 2.4262, 2.3902, 2.3902, 2.3901, 2.3899, 2.3899, 2.3899, 2.3878, 2.3742, 2.3691, 2.3458, 2.3454, 2.3336, 2.3336, 2.3336, 2.3336, 2.3272, 2.3134, 2.3114, 2.1474, 2.0949, 2.0829, 1.8708, 2.121, 2.1599, 2.132, 2.0353, 1.9608, 1.5802, 1.6705, 2.0573, 1.5444, 1.9641, 1.168, 1.0028, 2.0047, 0.8256, 0.8176, 1.0747, 0.8692, 0.6244, 0.8143, 0.6682, 1.025, 0.8917, 0.4331, 0.4234, 0.7583, -0.142, 0.2224, -0.0642, 0.2793, 0.2144, 0.4909, 0.3208, -0.0527, 2.7496, 2.7385, 2.7375, 2.7363, 2.722, 2.7168, 2.7093, 2.7033, 2.6959, 2.6692, 2.6581, 2.6571, 2.6441, 2.6441, 2.6441, 2.6441, 2.6374, 2.6257, 2.6257, 2.6187, 2.6168, 2.6053, 2.6035, 2.6007, 2.5945, 2.5647, 2.5647, 2.5647, 2.5645, 2.5618, 2.5491, 2.5346, 2.5278, 2.544, 2.4182, 2.4033, 2.3192, 2.3801, 2.473, 2.2998, 2.4634, 2.1592, 2.1405, 2.0538, 1.7253, 2.309, 1.6747, 1.7171, 0.1735, 0.2304, 0.5165, 1.1976, 0.759, 0.7845, 1.054, 0.5756, 0.323, 0.1945, 0.6202, 0.0365, 0.1268, 0.2049, 0.1145, 3.0743, 3.0731, 3.0671, 3.0609, 3.0585, 3.0574, 3.0528, 3.0494, 3.042, 3.0158, 2.9971, 2.993, 2.9791, 2.9791, 2.9791, 2.9791, 2.9593, 2.9593, 2.9593, 2.9593, 2.9592, 2.9477, 2.9325, 2.9325, 2.9325, 2.9325, 2.9325, 2.9324, 2.9235, 2.9164, 2.9019, 2.7882, 2.7983, 2.8106, 2.8359, 2.8259, 2.7777, 2.5751, 2.7039, 2.6001, 2.5728, 2.4478, 2.5605, 2.4568, 2.7191, 2.1105, 2.2971, 2.304, 2.0695, 2.1385, 0.645, 0.4696, 0.8113, -0.151, 1.1166, 0.8574, 0.5487, 0.028, 1.729, 0.4848, 1.0437, 0.4816, 0.0653, 1.2722, 0.7085, 0.3381, 3.1271, 3.1145, 3.0803, 3.0801, 3.0567, 3.0521, 3.0292, 3.0292, 3.0291, 3.0092, 2.9975, 2.982, 2.982, 2.982, 2.9563, 2.9428, 2.9428, 2.9428, 2.9428, 2.9428, 2.9422, 2.9331, 2.9208, 2.9014, 2.8967, 2.8816, 2.8816, 2.8816, 2.8816, 2.8816, 2.8718, 2.8569, 2.8759, 2.8329, 2.8278, 2.7313, 2.5665, 2.4458, 2.7017, 2.7147, 2.7349, 2.6232, 2.3407, 2.2677, 2.5472, 2.3863, 2.5295, 2.2529, 2.5592, 2.3654, 2.2185, 2.4187, 1.6084, 2.4404, 1.5901, 1.029, 1.3364, 1.8141, 0.7976, 2.0212, 0.8901, 1.131, -0.1595, 0.7183, 0.4234, 0.9572, 0.1483, -0.0272, 0.0377, -0.0313, 0.126, 3.1015, 3.0938, 3.0796, 3.0618, 3.0516, 3.0497, 3.0345, 3.0147, 3.0147, 3.0147, 3.0147, 2.9876, 2.9549, 2.9488, 2.9488, 2.9487, 2.9487, 2.9487, 2.9467, 2.9191, 2.9141, 2.9065, 2.8988, 2.8923, 2.8879, 2.8879, 2.8879, 2.8879, 2.8879, 2.8879, 2.7837, 2.8618, 2.8643, 2.6961, 2.8063, 2.6872, 2.5125, 2.692, 2.7581, 2.4529, 2.4827, 2.6399, 2.4659, 2.0286, 2.6363, 2.1349, 1.8932, 1.8574, 1.8072, 2.0882, 2.2731, 1.152, 2.0233, 1.5971, 2.1163, 1.1686, 1.59, 1.3123, 0.6169, 0.533, 0.4944, 1.2424, 0.9777, -0.222, 0.7366, 0.214, 0.6994, 1.3554, 0.1145, 0.5711, -0.7277]}, \"token.table\": {\"Topic\": [1, 2, 3, 4, 5, 6, 7, 8, 9, 10, 9, 10, 1, 2, 3, 4, 5, 6, 7, 8, 9, 10, 7, 5, 7, 5, 5, 5, 10, 5, 5, 5, 5, 1, 2, 3, 4, 5, 6, 7, 8, 9, 10, 1, 2, 3, 4, 7, 5, 7, 5, 1, 5, 1, 2, 3, 4, 6, 9, 2, 3, 6, 8, 10, 3, 5, 9, 1, 2, 8, 10, 1, 2, 8, 9, 4, 5, 6, 9, 1, 2, 3, 4, 5, 6, 7, 8, 9, 10, 2, 1, 2, 3, 4, 5, 6, 3, 9, 1, 2, 3, 4, 5, 6, 7, 8, 9, 10, 2, 1, 2, 3, 4, 5, 6, 7, 8, 9, 10, 7, 9, 7, 7, 3, 2, 1, 2, 6, 1, 2, 5, 6, 1, 2, 3, 5, 6, 7, 8, 9, 10, 1, 2, 3, 6, 7, 9, 2, 3, 6, 7, 9, 6, 1, 2, 3, 5, 6, 8, 1, 2, 3, 4, 5, 6, 7, 8, 9, 10, 10, 2, 3, 4, 6, 7, 8, 9, 1, 2, 3, 4, 5, 6, 7, 8, 10, 10, 1, 2, 4, 7, 10, 1, 2, 3, 4, 7, 1, 2, 3, 4, 7, 10, 1, 3, 6, 1, 2, 3, 5, 6, 9, 1, 2, 3, 4, 5, 7, 8, 10, 1, 5, 6, 1, 2, 5, 6, 10, 2, 3, 4, 5, 7, 8, 1, 3, 4, 7, 9, 10, 6, 2, 10, 4, 5, 9, 10, 3, 7, 1, 2, 3, 4, 8, 3, 6, 9, 1, 2, 3, 4, 5, 6, 7, 10, 6, 9, 1, 2, 3, 4, 5, 6, 7, 8, 9, 10, 5, 1, 2, 3, 4, 5, 6, 8, 10, 1, 2, 3, 5, 6, 8, 10, 4, 4, 1, 2, 3, 4, 5, 6, 7, 8, 9, 10, 1, 5, 1, 2, 3, 4, 5, 6, 7, 8, 9, 10, 8, 1, 7, 3, 7, 9, 10, 4, 2, 3, 4, 7, 2, 4, 7, 1, 1, 2, 3, 5, 6, 8, 9, 1, 2, 3, 4, 5, 6, 7, 8, 9, 10, 4, 7, 10, 9, 3, 2, 5, 8, 10, 1, 2, 3, 4, 6, 7, 8, 9, 10, 1, 2, 3, 4, 5, 6, 7, 8, 9, 10, 7, 1, 3, 5, 6, 8, 9, 10, 1, 2, 3, 5, 6, 9, 9, 2, 1, 2, 3, 4, 5, 6, 7, 8, 9, 10, 1, 2, 3, 4, 5, 6, 7, 8, 9, 10, 8, 1, 1, 3, 4, 7, 8, 5, 9, 3, 1, 2, 3, 4, 6, 7, 8, 9, 10, 1, 2, 4, 5, 6, 7, 8, 9, 10, 3, 5, 7, 8, 10, 5, 6, 2, 4, 7, 1, 2, 5, 6, 9, 10, 2, 3, 5, 9, 2, 7, 3, 4, 10, 1, 2, 3, 4, 5, 6, 7, 8, 9, 1, 2, 5, 6, 7, 10, 1, 1, 2, 5, 6, 7, 8, 9, 10, 3, 9, 1, 2, 3, 4, 5, 6, 7, 8, 9, 10, 8, 2, 6, 1, 2, 3, 4, 8, 10, 1, 2, 3, 6, 9, 3, 2, 4, 1, 2, 3, 4, 5, 6, 7, 8, 9, 10, 1, 2, 3, 5, 6, 2, 3, 4, 8, 8, 8, 9, 1, 2, 6, 9, 1, 2, 3, 4, 5, 6, 7, 9, 10, 1, 2, 3, 4, 5, 6, 7, 8, 9, 10, 8, 1, 2, 3, 4, 7, 1, 4, 5, 3, 4, 1, 3, 4, 5, 6, 1, 2, 4, 5, 6, 7, 8, 9, 1, 2, 3, 4, 5, 6, 7, 8, 9, 10, 1, 2, 4, 5, 6, 7, 8, 9, 4, 1, 5, 1, 3, 4, 6, 8, 1, 2, 3, 4, 5, 6, 7, 8, 9, 10, 10, 10, 1, 2, 3, 4, 5, 6, 8, 9, 10, 1, 2, 3, 4, 5, 8, 1, 2, 3, 4, 5, 6, 2, 3, 4, 5, 7, 8, 9, 10, 2, 3, 4, 7, 9, 2, 3, 4, 5, 7, 8, 10, 1, 2, 3, 4, 5, 6, 7, 8, 10, 1, 2, 3, 4, 5, 6, 8, 9, 10, 1, 2, 3, 4, 6, 7, 8, 9, 2, 3, 4, 6, 10, 1, 2, 3, 4, 5, 6, 7, 8, 9, 10, 1, 2, 3, 5, 6, 1, 2, 5, 8, 10, 1, 2, 3, 4, 5, 6, 7, 9, 1, 2, 3, 4, 5, 6, 7, 8, 9, 10, 8, 10, 1, 5, 8, 9, 1, 9, 1, 5, 7, 8, 9, 1, 3, 4, 5, 8, 9, 1, 2, 3, 4, 5, 6, 7, 8, 9, 6, 8, 2, 3, 4, 5, 6, 7, 8, 1, 2, 3, 5, 6, 7, 8, 8, 8, 9, 10, 1, 2, 4, 5, 8, 9, 10, 5, 9, 5, 6, 9, 1, 5, 6, 8, 9, 1, 2, 3, 4, 5, 6, 7, 8, 9, 10, 3, 2, 3, 4, 7, 9, 1, 2, 3, 4, 5, 6, 8, 9, 10, 1, 2, 3, 5, 6, 8, 9, 10, 1, 1, 2, 3, 4, 5, 6, 7, 8, 9, 10, 3, 2, 6, 1, 2, 3, 4, 5, 6, 7, 9, 10, 1, 2, 3, 4, 5, 6, 7, 8, 9, 1, 2, 3, 4, 5, 6, 7, 8, 9, 10, 6, 10, 1, 2, 4, 6, 2, 4, 1, 2, 3, 4, 6, 8, 9, 9, 6, 3, 8, 8, 1, 2, 3, 4, 5, 6, 7, 8, 9, 10, 5, 7, 8, 9, 10, 9, 3, 1, 2, 3, 4, 5, 6, 7, 8, 9, 10, 7, 7, 5, 10, 1, 2, 3, 4, 6, 7, 1, 1, 2, 3, 4, 5, 6, 7, 8, 9, 10, 7, 2, 3, 5, 8, 10, 9, 2, 6, 9, 5, 8, 10, 2, 5, 9, 1, 3, 6, 7, 9, 2, 5, 6, 8, 10, 5, 1, 2, 3, 5, 6, 7, 6, 1, 2, 3, 4, 6, 8, 1, 2, 3, 4, 5, 6, 7, 8, 9, 2, 10, 2, 1, 2, 3, 5, 6, 8, 9, 10, 1, 2, 3, 4, 5, 6, 7, 8, 9, 10, 2, 3, 4, 5, 6, 7, 8, 10, 7, 9, 1, 6, 7, 9, 5, 7, 8, 9, 1, 3, 1, 2, 3, 4, 5, 6, 1, 2, 3, 4, 5, 6, 7, 8, 9, 10, 1, 2, 3, 4, 5, 6, 7, 8, 9, 10, 6, 1, 2, 3, 4, 5, 6, 7, 8, 9, 10, 1, 2, 3, 4, 5, 6, 7, 8, 2, 6, 3, 4, 1, 2, 3, 4, 5, 6, 7, 9, 1, 6, 1, 2, 4, 5, 6, 7, 8, 10, 1, 3, 4, 5, 6, 7, 8, 9, 10, 5, 1, 2, 3, 4, 5, 6, 7, 8, 9, 10, 2, 2, 6, 10, 2, 6, 10, 6, 1, 5, 6, 1, 3, 4, 5, 6, 7, 9, 1, 6, 1, 10, 2, 3, 4, 5, 6, 7, 9, 2, 2, 3, 1, 2, 3, 5, 6, 7, 8, 9, 10, 1, 3, 5, 3, 10, 1, 2, 3, 4, 5, 6, 7, 8, 9, 10, 1, 3, 4, 1, 2, 3, 5, 7, 8, 9, 10, 3, 4, 8, 1, 2, 3, 4, 5, 6, 7, 8, 9, 10, 10, 1, 2, 3, 4, 5, 6, 7, 8, 9, 10, 1, 2, 6, 7, 8, 10, 1, 2, 3, 4, 6, 7, 8, 6, 1, 2, 3, 4, 5, 6, 7, 8, 9, 10, 2, 5, 6, 8, 9, 2, 10, 1, 2, 3, 4, 6, 10, 1, 2, 3, 4, 5, 6, 7, 8, 9, 10, 2, 3, 4, 5, 5, 2, 6, 1, 3, 5, 9, 4, 9, 10, 1, 2, 5, 6, 7, 8, 9, 2, 7, 1, 2, 3, 4, 5, 6, 7, 8, 9, 10, 3, 5, 6, 7, 8, 9, 10, 2, 5, 1, 2, 8, 1, 2, 3, 4, 5, 6, 7, 10, 2, 3, 4, 3, 4, 7, 8, 2, 5, 1, 2, 3, 4, 5, 6, 7, 8, 9, 10, 1, 5, 6, 8, 9, 10, 8, 9, 10, 1, 2, 5, 8, 9, 10, 1, 1, 2, 3, 4, 5, 6, 7, 8, 9, 10, 1, 2, 3, 4, 5, 6, 7, 8, 9, 10, 1, 2, 5, 9, 1, 5, 6, 7, 8, 9, 1, 2, 3, 4, 5, 6, 9, 2, 3, 4, 5, 7, 2, 5, 8, 1, 2, 4, 5, 6, 7, 9, 2, 8, 9, 10, 1, 3, 5, 6, 7, 8, 9, 3, 5, 9, 1, 2, 3, 4, 5, 6, 7, 8, 9, 10, 1, 9, 2, 3, 4, 6, 7, 8, 9, 10, 1, 3, 5, 6, 8, 3, 5, 6, 8, 9, 10, 1, 2, 3, 5, 9, 1, 2, 3, 4, 5, 6, 7, 8, 9, 10, 2, 3, 4, 7, 8, 3, 2, 1, 5, 7, 9, 1, 2, 4, 7, 9, 10, 8, 10, 1, 2, 3, 4, 6, 7, 1, 7, 4, 1, 2, 3, 4, 5, 6, 7, 8, 9, 1, 2, 3, 4, 5, 6, 8, 9, 10, 1, 2, 3, 4, 5, 6, 9, 10, 2, 10, 1, 6, 2, 6, 1, 5, 1, 2, 3, 4, 5, 6, 7, 8, 9, 10, 2, 3, 4, 9, 10, 4, 7, 1, 2, 3, 4, 5, 6, 7, 9, 3, 4, 1, 2, 3, 4, 5, 6, 7, 10, 1, 4, 7, 1, 2, 3, 4, 5, 6, 7, 8, 9, 10, 1, 2, 3, 5, 6, 7, 3, 3, 4, 5, 6, 9, 10, 2, 3, 4, 1, 2, 3, 4, 5, 6, 7, 8, 9, 10, 3, 4, 1, 2, 5, 6, 8, 10, 7, 3, 4, 5, 6, 8, 10, 4, 1, 10, 1, 3, 4, 7, 10, 1, 2, 3, 4, 5, 6, 7, 8, 9, 10, 1, 5, 7, 9, 10, 2, 8, 2, 3, 9, 9, 1, 2, 3, 4, 5, 6, 7, 8, 9, 10, 1, 2, 3, 4, 5, 7, 9, 5, 5, 6, 9, 1, 2, 3, 4, 5, 6, 7, 2, 1, 4, 7, 1, 2, 5, 7, 9, 10, 1, 8, 10, 1, 2, 4, 10, 1, 2, 5, 6, 8, 9, 10, 1, 1, 2, 8, 10, 8, 3, 4, 8, 8, 1, 3, 6, 10, 1, 2, 3, 4, 5, 6, 8, 9, 10, 8, 3, 8, 4, 7, 4, 6, 7, 9, 2, 4, 10, 1, 2, 3, 4, 5, 6, 6, 1, 2, 3, 4, 5, 6, 5, 10, 1, 2, 3, 4, 5, 6, 7, 8, 9, 10, 2, 1, 5, 10, 1, 2, 3, 4, 5, 6, 8, 7, 8, 1, 3, 4, 5, 7, 9, 1, 2, 3, 5, 6, 7, 8, 9, 9, 1, 2, 3, 4, 5, 6, 7, 8, 9, 10, 1, 2, 3, 4, 5, 6, 7, 8, 9, 10, 2, 3, 4, 5, 6, 7, 8, 9, 8, 4, 2, 4, 5, 6, 9, 10, 1, 2, 6, 7, 1, 2, 5, 6, 7, 6, 1, 2, 3, 4, 5, 6, 7, 8, 9, 10, 5, 7, 9, 1, 3, 4, 5, 7, 4, 1, 2, 5, 8, 9, 8, 1, 3, 5, 6, 10, 9, 8, 9, 4, 1, 2, 3, 4, 5, 6, 7, 8, 9, 10, 1, 2, 3, 6, 10, 1, 1, 1, 2, 3, 4, 6, 10, 1, 2, 3, 4, 5, 6, 7, 8, 10, 3, 7, 6, 10, 3, 8, 10, 1, 2, 3, 5, 6, 7, 8, 9, 10, 1, 2, 3, 4, 5, 6, 7, 8, 9, 10, 2, 3, 4, 5, 6, 7, 8, 10, 1, 2, 4, 8, 10, 2, 6, 7, 8, 1, 2, 3, 5, 6, 7, 8, 9, 4, 9, 9, 1, 2, 3, 4, 5, 6, 7, 8, 9, 10, 1, 2, 4, 5, 6, 9, 10, 4, 7, 8, 1, 2, 3, 6, 8, 9, 1, 2, 3, 5, 8, 2, 1, 2, 4, 2, 3, 4, 6, 8, 10, 4, 4, 7, 7, 3, 6, 9, 10, 2, 8, 6, 6, 1, 2, 4, 3, 9, 1, 2, 3, 4, 5, 6, 8, 9, 10, 1, 2, 3, 4, 5, 6, 7, 9, 1, 2, 6, 1, 2, 4, 1, 2, 5, 6, 3, 5, 7, 8, 9, 1, 2, 5, 7, 8, 10, 9, 1, 2, 3, 4, 5, 6, 7, 8, 9, 2, 3, 4, 6, 7, 9, 1, 2, 3, 4, 5, 6, 7, 8, 9, 10, 2, 3, 4, 5, 6, 8, 10, 2, 3, 4, 8, 9, 10, 5, 2, 8, 10, 8, 1, 2, 3, 4, 5, 6, 7, 8, 9, 10, 3, 6, 1, 3, 4, 6, 1, 6, 1, 2, 3, 4, 5, 6, 7, 8, 9, 10, 3, 5, 7, 9, 1, 2, 3, 4, 5, 6, 7, 8, 9, 10, 1, 2, 3, 4, 7, 8, 10, 1, 2, 3, 4, 5, 6, 7, 8, 9, 10, 3, 4, 1, 4, 5, 6, 7, 8, 10, 6, 1, 3, 5, 6, 9, 1, 2, 5, 6, 8, 9, 10, 5, 1, 3, 10, 5, 6, 2, 1, 2, 3, 4, 5, 6, 7, 8, 9, 10, 8, 7, 1, 2, 3, 4, 5, 7, 10, 2, 4, 2, 4, 1, 2, 3, 5, 6, 7, 8, 9, 10, 3, 7, 9, 3, 5, 10, 2, 3, 4, 7, 8, 2, 3, 4, 7, 1, 10, 1, 2, 3, 4, 5, 6, 7, 8, 9, 10, 8, 1, 2, 3, 4, 5, 6, 7, 8, 9, 10, 2, 3, 4, 7, 8, 1, 2, 3, 4, 5, 6, 7, 8, 9, 10, 6, 7, 8, 9, 10, 3, 10, 2, 3, 8, 9, 1, 3, 4, 5, 6, 8, 9, 10, 9, 2, 3, 5, 6, 9, 3, 4, 6, 10, 2, 1, 2, 3, 5, 8, 9, 10, 2, 4, 2, 7, 9, 3, 6, 1, 1, 1, 2, 4, 5, 6, 10, 1, 2, 3, 4, 5, 6, 8, 9, 10, 1, 2, 3, 4, 5, 6, 1, 2, 3, 4, 5, 6, 7, 8, 9, 10, 1, 2, 3, 4, 5, 6, 7, 8, 9, 10, 1, 5, 6, 8, 8, 2, 10, 5, 3, 3, 2, 1, 2, 3, 4, 7, 8, 10, 1, 2, 3, 4, 5, 6, 7, 8, 9, 10, 1, 2, 3, 4, 5, 6, 7, 8, 10, 2, 4, 2, 3, 4, 6, 8, 1, 2, 3, 4, 5, 6, 8, 9, 10, 1, 2, 3, 4, 5, 6, 7, 8, 9, 10, 2, 3, 4, 9, 10, 3, 6, 10, 5, 9, 1, 2, 3, 4, 5, 6, 7, 8, 9, 10, 1, 2, 3, 4, 5, 6, 7, 8, 9, 10, 1, 2, 3, 4, 5, 6, 7, 8, 9, 10, 7, 2, 3, 4, 5, 7, 10, 1, 2, 3, 4, 5, 6, 7, 8, 9, 10, 2, 3, 4, 1, 2, 3, 4, 7, 8, 10, 4, 3, 4, 7, 1, 2, 3, 4, 5, 6, 8, 1, 2, 3, 4, 5, 6, 1, 6, 10, 6, 6, 3, 4, 3, 9, 3, 1, 7, 4, 7, 1, 10, 3, 4, 4, 3, 7, 1, 8], \"Freq\": [0.13363535633297768, 0.1145445911425523, 0.10499920854733961, 0.06681767816648884, 0.038181530380850766, 0.08590844335691422, 0.019090765190425383, 0.372269921213295, 0.047726912976063456, 0.019090765190425383, 0.9015398745998514, 0.8962566939571774, 0.5150327567829164, 0.10138440094151897, 0.08516289679087594, 0.0689413926402329, 0.040553760376607594, 0.09327364886619746, 0.03649838433894683, 0.012166128112982278, 0.028387632263625312, 0.024332256225964556, 0.8034597648583656, 0.7943051729734097, 0.8999376569646224, 0.7943051785771305, 0.7943051935368435, 0.7943051665768234, 0.8962566525052292, 0.7943051889846828, 0.7943051761800252, 0.7943051776196219, 0.7943051797544781, 0.15633717232621414, 0.15159968225572282, 0.047374900704913375, 0.033162430493439365, 0.15159968225572282, 0.1752871326081795, 0.20844956310161886, 0.009474980140982676, 0.018949960281965352, 0.047374900704913375, 0.03170125543243239, 0.12680502172972957, 0.03170125543243239, 0.03170125543243239, 0.729128874945945, 0.952067442708385, 0.03173558142361283, 0.7943006167390039, 0.9374908635087723, 0.9439826663150264, 0.027208314410924018, 0.04353330305747843, 0.8978743755604925, 0.021766651528739214, 0.005441662882184803, 0.010883325764369607, 0.09660140274923588, 0.7728112219938871, 0.032200467583078624, 0.016100233791539312, 0.04830070137461794, 0.05328237170423944, 0.7992355755635916, 0.10656474340847888, 0.024157565469440742, 0.012078782734720371, 0.8938299223693075, 0.060393913673601855, 0.02946767566202493, 0.02946767566202493, 0.5893535132404986, 0.32414443228227424, 0.041634531631737894, 0.08326906326347579, 0.041634531631737894, 0.832690632634758, 0.17559822138270684, 0.17559822138270684, 0.12057744534945869, 0.20427926420854894, 0.07550723519456394, 0.06497134191160153, 0.07492190778995492, 0.038631608704195505, 0.03629029908575941, 0.03394898946732332, 0.9566114862902494, 0.03743218601987546, 0.062386976699792436, 0.8547015807871563, 0.006238697669979244, 0.01871609300993773, 0.024954790679916974, 0.1093267670298665, 0.7652873692090656, 0.13648374202828203, 0.12511009685925853, 0.13079691944377028, 0.28623673675375816, 0.05307701078877635, 0.14596177966913496, 0.020851682809876423, 0.0473901882042646, 0.01895607528170584, 0.03412093550707051, 0.94561266568006, 0.02348288364448918, 0.05870720911122295, 0.04990112774453951, 0.014676802277805738, 0.06457793002234524, 0.0616425695667841, 0.008806081366683443, 0.03228896501117262, 0.0029353604555611475, 0.6839389861457473, 0.9851413515187236, 0.008795904924274317, 0.8998034214017776, 0.9002719411906672, 0.9051999616500426, 0.9304322928352942, 0.029368314676240403, 0.9397860696396929, 0.014684157338120202, 0.029534346518141723, 0.9254095242351074, 0.004922391086356954, 0.03937912869085563, 0.22056695025724501, 0.07581988915092797, 0.006892717195538907, 0.39288488014571765, 0.08960532354200579, 0.034463585977694534, 0.055141737564311254, 0.12406890951970032, 0.006892717195538907, 0.07553924754296609, 0.22661774262889828, 0.07553924754296609, 0.6043139803437287, 0.010791321077566585, 0.010791321077566585, 0.19780814547489273, 0.11868488728493563, 0.5934244364246781, 0.0791232581899571, 0.03956162909497855, 0.988009343757244, 0.13127532174064702, 0.168782556523689, 0.018753617391521003, 0.09376808695760501, 0.5251012869625881, 0.056260852174563, 0.1270430902548677, 0.13734388135661374, 0.4051644500020105, 0.03090237330523809, 0.10987510508529098, 0.08583992584788358, 0.0034335970339153432, 0.017167985169576717, 0.04463676144089946, 0.037769567373068774, 0.7203515381336133, 0.06171369798608741, 0.7934618312496953, 0.035264970277764235, 0.017632485138882117, 0.05289745541664635, 0.026448727708323176, 0.026448727708323176, 0.04071171422831103, 0.09725576176763191, 0.04071171422831103, 0.08142342845662207, 0.02261761901572835, 0.011308809507864176, 0.6400786181451124, 0.01809409521258268, 0.04749699993302954, 0.8614914196962813, 0.09938263057144488, 0.03312754352381496, 0.06625508704762992, 0.6294233269524843, 0.13251017409525984, 0.010571466012136557, 0.06342879607281934, 0.835145814958788, 0.07752408408900142, 0.010571466012136557, 0.02584663189704472, 0.06461657974261181, 0.7495523250142969, 0.03876994784556709, 0.10338652758817889, 0.01292331594852236, 0.7621580774667942, 0.034643548975763376, 0.19053951936669855, 0.7711208178227628, 0.028560030289731954, 0.04284004543459793, 0.014280015144865977, 0.11424012115892782, 0.014280015144865977, 0.13235892931319485, 0.018908418473313548, 0.17017576625982192, 0.05672525541994064, 0.13235892931319485, 0.11345051083988128, 0.037816836946627096, 0.34035153251964384, 0.7289057443019761, 0.21204530743330213, 0.05301132685832553, 0.8568827534378822, 0.011738119910107975, 0.08216683937075582, 0.02347623982021595, 0.02347623982021595, 0.057482228206813854, 0.3257326265052785, 0.057482228206813854, 0.057482228206813854, 0.13412519914923232, 0.3832148547120924, 0.04842991856332931, 0.06053739820416164, 0.012107479640832327, 0.7990936562949337, 0.07264487784499396, 0.012107479640832327, 0.9367421202762178, 0.148283511162944, 0.7414175558147199, 0.0920829666944787, 0.0920829666944787, 0.7366637335558296, 0.0920829666944787, 0.9619772573357936, 0.02672159048154982, 0.020139291759519035, 0.060417875278557104, 0.8055716703807614, 0.08055716703807614, 0.020139291759519035, 0.13997825856859486, 0.6998912928429744, 0.8076983857110782, 0.23134186059456494, 0.3319252782443758, 0.010058341764981084, 0.020116683529962168, 0.020116683529962168, 0.35204196177433794, 0.010058341764981084, 0.02514585441245271, 0.8743162408021974, 0.8534862292211923, 0.2173551223981928, 0.42221857109534006, 0.027481682142300238, 0.16988676233421965, 0.012491673701045564, 0.09493672012794628, 0.019986677921672902, 0.007495004220627338, 0.007495004220627338, 0.019986677921672902, 0.8338365236826941, 0.04715885058499372, 0.13204478163798242, 0.05659062070199247, 0.009431770116998745, 0.30181664374395983, 0.05659062070199247, 0.12261301152098368, 0.2735213333929636, 0.17133489300606217, 0.09225725008018733, 0.02635921430862495, 0.553543500481124, 0.0527184286172499, 0.06589803577156238, 0.039538821462937426, 0.9504746236144306, 0.9676089559728961, 0.14139587603964784, 0.1937647190172952, 0.005236884297764735, 0.15186964463517733, 0.08379014876423577, 0.03665819008435315, 0.1047376859552947, 0.12568522314635364, 0.01047376859552947, 0.1466327603374126, 0.09222678083233012, 0.8761544179071361, 0.1234880731963502, 0.09424089796563569, 0.03574654750420664, 0.5102007234691311, 0.07149309500841328, 0.03249686136746058, 0.0844918395553975, 0.03574654750420664, 0.003249686136746058, 0.006499372273492116, 0.7981864714604973, 0.22201906422124157, 0.761208220187114, 0.014991323559478962, 0.9744360313661324, 0.8076983379596347, 0.7202215012700112, 0.9946306161827231, 0.006750660795340676, 0.023627312783692365, 0.9653444937337166, 0.003375330397670338, 0.023868124917295865, 0.9606920279211586, 0.011934062458647933, 0.9209968493189682, 0.0350033930491596, 0.0175016965245798, 0.0175016965245798, 0.31503053744243636, 0.052505089573739394, 0.10501017914747879, 0.45504410963907477, 0.15296813934277687, 0.1629988370045983, 0.20061395323642867, 0.24575209271462511, 0.022569069739098224, 0.057676511555473244, 0.042630465062741096, 0.04764581389365181, 0.03259976740091966, 0.03259976740091966, 0.014409961485779114, 0.9798773810329797, 0.7201607094302795, 0.9122692708862298, 0.9166697086630305, 0.9448688989009142, 0.12943455773983648, 0.5824555098292641, 0.2773597665853639, 0.05734154357076571, 0.11989595473887375, 0.6672470524598192, 0.08861874915481974, 0.03649007318139636, 0.005212867597342337, 0.010425735194684675, 0.010425735194684675, 0.005212867597342337, 0.26303995954476483, 0.1719876658561924, 0.14163690129333492, 0.056654760517333966, 0.12747321116400143, 0.09509906229695345, 0.08498214077600096, 0.01618707443352399, 0.020233843041904988, 0.022257227346095487, 0.8750096947069661, 0.3126469670779812, 0.01267487704370194, 0.5957192210539912, 0.038024631131105824, 0.004224959014567314, 0.02112479507283657, 0.016899836058269255, 0.30241308157698926, 0.02326254473669148, 0.01163127236834574, 0.6048261631539785, 0.04652508947338296, 0.9476204150904137, 0.7278903181221779, 0.8977854166008968, 0.04668177987559108, 0.1551482684100527, 0.38718417426225543, 0.23615488642946075, 0.05080076045284911, 0.031578851092311615, 0.07688763744215, 0.001372993525752679, 0.010983948206021431, 0.005491974103010716, 0.03555108519831417, 0.11802960285840304, 0.13225003693772872, 0.3683092426545348, 0.2047742507422896, 0.024174737934853634, 0.10523121218700994, 0.0042661302237977, 0.0028440868158651337, 0.0042661302237977, 0.7983173830204903, 0.9340909326948702, 0.03396645575033938, 0.03396645575033938, 0.9170943052591634, 0.8751053568781015, 0.9009476569072588, 0.045257074414895154, 0.9051414882979031, 0.8926673942635389, 0.6983537521415883, 0.10423190330471467, 0.010423190330471467, 0.04169276132188587, 0.0625391419828288, 0.010423190330471467, 0.052115951652357335, 0.010423190330471467, 0.010423190330471467, 0.2576465206998389, 0.08588217356661297, 0.021470543391653243, 0.10019586916104847, 0.03578423898608874, 0.15745065153879045, 0.15745065153879045, 0.021470543391653243, 0.1646074993360082, 0.8218356344026653, 0.053021653832430016, 0.008836942305405002, 0.008836942305405002, 0.11488024997026502, 0.652148971699103, 0.33659301765114996, 0.9031682177184874, 0.05764903517352048, 0.01921634505784016, 0.020132106870249744, 0.2617173893132467, 0.04026421374049949, 0.624095312977742, 0.020132106870249744, 0.020132106870249744, 0.9318408489291619, 0.9640467430395222, 0.8946344258887653, 0.07455286882406377, 0.10805001236717851, 0.8283834281483685, 0.03950616781547283, 0.03950616781547283, 0.8888887758481386, 0.03626398054453071, 0.26835345602952726, 0.06527516498015529, 0.02901118443562457, 0.07978075719796757, 0.021758388326718427, 0.03626398054453071, 0.06527516498015529, 0.406156582098744, 0.3783088812818451, 0.023644305080115318, 0.035466457620172975, 0.035466457620172975, 0.49653040668242165, 0.023644305080115318, 0.9589775174760269, 0.08249282519453792, 0.06677990610986403, 0.1257033526773911, 0.027497608398179305, 0.141416271762065, 0.05499521679635861, 0.491028721396059, 0.011784689313505417, 0.08642435489844356, 0.8642435489844357, 0.2064698277984952, 0.41638081939363203, 0.017205818983207933, 0.07570560352611491, 0.07570560352611491, 0.0791467673227565, 0.027529310373132696, 0.02408814657649111, 0.006882327593283174, 0.06882327593283173, 0.9009476289211862, 0.9554711874309869, 0.9850613453650289, 0.02591225757348849, 0.012956128786744245, 0.8680606287118644, 0.02591225757348849, 0.02591225757348849, 0.03886838636023274, 0.10050852400032637, 0.7638647824024803, 0.020101704800065272, 0.08040681920026109, 0.020101704800065272, 0.8760553219351285, 0.8475223772027328, 0.07062686476689439, 0.09032609711184582, 0.21707400757524237, 0.3700456236517555, 0.049533666158108995, 0.01748247040874435, 0.2039621547686841, 0.030594323215302616, 0.005827490136248117, 0.013111852806558265, 0.0014568725340620293, 0.062298539160879574, 0.8410302786718743, 0.031149269580439787, 0.015574634790219893, 0.015574634790219893, 0.8873885151467791, 0.042938153958715114, 0.042938153958715114, 0.014312717986238371, 0.9596737006276735, 0.9343575194545091, 0.05963984166730909, 0.1977429442378264, 0.028248992033975198, 0.564979840679504, 0.1977429442378264, 0.05177731818640252, 0.4516132752925109, 0.1438258838511181, 0.11793722475791686, 0.01150607070808945, 0.14094936617409576, 0.07766597727960378, 0.0028765176770223625, 0.0028765176770223625, 0.052314345605782284, 0.40356780895889194, 0.2117485417376902, 0.08968173532419821, 0.01743811520192743, 0.11459332846980881, 0.07971709806595396, 0.007473477943683184, 0.004982318629122123, 0.01743811520192743, 0.8568232848661749, 0.01611301398174285, 0.008056506990871425, 0.056395548936099965, 0.21752568875352843, 0.7009161082058138, 0.9171601364003346, 0.04827158612633339, 0.7943006238297243, 0.9623882318820934, 0.02601049275357009, 0.8468737380854073, 0.015682847001581617, 0.015682847001581617, 0.06273138800632647, 0.03136569400316323, 0.11711201229538418, 0.01951866871589736, 0.00975933435794868, 0.3415767025282038, 0.04879667178974341, 0.1561493497271789, 0.04879667178974341, 0.2635020276646144, 0.25796710330826106, 0.11637613683079448, 0.0989197163061753, 0.10861772770874151, 0.1978394326123506, 0.07564448894001641, 0.06788607981796345, 0.025214829646672137, 0.03103363648821186, 0.021335625085645654, 0.11467785410984217, 0.045871141643936866, 0.022935570821968433, 0.11467785410984217, 0.022935570821968433, 0.09174228328787373, 0.09174228328787373, 0.4816469872613371, 0.9672617656637622, 0.08536289736066081, 0.8536289736066082, 0.02487324440217074, 0.8208170652716344, 0.09949297760868296, 0.02487324440217074, 0.02487324440217074, 0.21775714083191278, 0.27890811873676497, 0.014914872659720052, 0.1148445194798444, 0.061150977904852216, 0.09247221049026433, 0.07159138876665626, 0.03132123258541211, 0.044744617979160156, 0.07159138876665626, 0.8962566582886259, 0.861491325913801, 0.13431190166005433, 0.32618604688870334, 0.007674965809145961, 0.0038374829045729805, 0.26862380332010866, 0.1381493845646273, 0.011512448713718941, 0.11128700423261643, 0.0038374829045729805, 0.012659080860744912, 0.1012726468859593, 0.05063632344297965, 0.03797724258223474, 0.7848630133661846, 0.012659080860744912, 0.020332388812253945, 0.12199433287352367, 0.020332388812253945, 0.08132955524901578, 0.731965997241142, 0.020332388812253945, 0.018717289373955316, 0.07486915749582126, 0.1123037362437319, 0.03743457874791063, 0.03743457874791063, 0.07486915749582126, 0.018717289373955316, 0.6176705493405255, 0.09419906446746426, 0.005541121439262604, 0.35463177211280666, 0.5374887796084725, 0.005541121439262604, 0.12327759504468397, 0.04109253168156132, 0.04109253168156132, 0.6574805069049812, 0.04109253168156132, 0.061638797522341984, 0.04109253168156132, 0.00692568170503101, 0.01385136341006202, 0.42939226571192257, 0.5067290447514355, 0.010388522557546515, 0.00692568170503101, 0.021931325399264862, 0.0023085605683436697, 0.0023085605683436697, 0.11938720531107759, 0.011938720531107758, 0.05372424238998492, 0.011938720531107758, 0.36413097619878665, 0.08357104371775431, 0.023877441062215517, 0.005969360265553879, 0.32234545433990947, 0.028633910261009102, 0.07158477565252276, 0.7731155770472458, 0.057267820522018203, 0.014316955130504551, 0.04295086539151365, 0.0095446367536697, 0.00477231837683485, 0.01971054598046502, 0.6800138363260432, 0.25623709774604525, 0.029565818970697533, 0.00985527299023251, 0.5405228202779789, 0.0911725239023097, 0.22793130975577425, 0.022793130975577426, 0.022793130975577426, 0.07814787763055117, 0.009768484703818896, 0.006512323135879264, 0.003256161567939632, 0.003256161567939632, 0.9044134228064505, 0.02826291946270158, 0.004037559923243082, 0.04037559923243082, 0.02018779961621541, 0.9677584974702336, 0.023041868987386513, 0.1652580377118581, 0.1652580377118581, 0.6197176414194678, 0.10111329773975727, 0.576720290811949, 0.08613354992645991, 0.08238861297313556, 0.0936234238331086, 0.022469621719946063, 0.011234810859973032, 0.022469621719946063, 0.1761430343769565, 0.026421455156543476, 0.026421455156543476, 0.044035758594239124, 0.15852873093926084, 0.07926436546963042, 0.352286068753913, 0.026421455156543476, 0.0704572137507826, 0.044035758594239124, 0.7824678261722171, 0.21340031622878647, 0.1006818307068755, 0.3020454921206265, 0.03356061023562516, 0.5369697637700026, 0.8283502921837997, 0.12743850648981533, 0.04562623832409432, 0.0760437305401572, 0.10646122275622008, 0.015208746108031438, 0.7452285592935405, 0.14901655970481215, 0.029803311940962425, 0.029803311940962425, 0.2682298074686618, 0.029803311940962425, 0.4768529910553988, 0.7362023658969029, 0.14984649925335192, 0.009772597777392516, 0.006515065184928345, 0.05537805407189093, 0.022802728147249204, 0.0032575325924641724, 0.006515065184928345, 0.009772597777392516, 0.8992998270079228, 0.7981863569519252, 0.013988259892565703, 0.6462576070365355, 0.2965511097223929, 0.027976519785131406, 0.0055953039570262805, 0.0027976519785131403, 0.00839295593553942, 0.054557785614108636, 0.15276179971950418, 0.6983396558605905, 0.03273467136846518, 0.04364622849128691, 0.021823114245643455, 0.8568231096311368, 0.8760333997633439, 0.9452300860905276, 0.04109696026480555, 0.8474099736510705, 0.19182745648493804, 0.0198442196363729, 0.006614739878790967, 0.5490234099396503, 0.026458959515163867, 0.0992210981818645, 0.0992210981818645, 0.8856626595390812, 0.08856626595390811, 0.5962357063332849, 0.01169089620261343, 0.3857995746862432, 0.018516618142278847, 0.7560952408097196, 0.003086103023713141, 0.009258309071139424, 0.21294110863620674, 0.20229519698621806, 0.23232339028885982, 0.05215423047300935, 0.009482587358728973, 0.031608624529096574, 0.1706865724571215, 0.08692371745501558, 0.08534328622856074, 0.04899336802009969, 0.0774411300962866, 0.9654139224925786, 0.004543629828222119, 0.24081238089577228, 0.03180540879755483, 0.7088062532026504, 0.009087259656444238, 0.08564971946186414, 0.09421469140805057, 0.008564971946186415, 0.025694915838559245, 0.2912090461703381, 0.12847457919279623, 0.07708474751567773, 0.0599548036233049, 0.20555932670847396, 0.05170460294388658, 0.03102276176633195, 0.03102276176633195, 0.7031826000368575, 0.09306828529899586, 0.04136368235510927, 0.010340920588777317, 0.04136368235510927, 0.9331969715791282, 0.2083059306274584, 0.13083678287344494, 0.08091222098752515, 0.19797671092692326, 0.14633061242424764, 0.07230453790374589, 0.07746914775401345, 0.034430732335117085, 0.029266122484849524, 0.020658439401070254, 0.875944454624977, 0.8928556771023488, 0.0850338740097475, 0.11248112339791978, 0.11248112339791978, 0.622972375742325, 0.017304788215064582, 0.02595718232259687, 0.05624056169895989, 0.03028337937636302, 0.012978591161298436, 0.0043261970537661456, 0.08280738357889722, 0.1932172283507602, 0.5566496340581425, 0.05060451218710386, 0.018401640795310495, 0.055204922385931485, 0.013801230596482871, 0.009200820397655247, 0.02300205099413812, 0.2779449293706698, 0.27532280739547477, 0.002622121975194998, 0.10488487900779991, 0.09177426913182493, 0.03670970765272997, 0.10226275703260491, 0.049820317528704965, 0.04195395160311997, 0.018354853826364984, 0.9002065917205517, 0.7200913061236623, 0.02927875059709777, 0.02927875059709777, 0.8783625179129331, 0.02927875059709777, 0.7917387878339056, 0.18473905049457798, 0.07475186545102662, 0.01557330530229721, 0.05606389908826996, 0.7911239093566983, 0.05294923802781052, 0.0031146610604594425, 0.0031146610604594425, 0.9122692763987236, 0.8029131259454135, 0.08537841691741846, 0.8537841691741846, 0.8570315152717554, 0.3912373401365727, 0.17044002936642771, 0.011620911093165525, 0.027115459217386225, 0.18206094045959323, 0.11233547390060007, 0.003873637031055175, 0.003873637031055175, 0.08134637765215867, 0.019368185155275875, 0.009333439085859228, 0.9426773476717821, 0.009333439085859228, 0.028000317257577685, 0.009333439085859228, 0.9015399088266232, 0.9273339313894191, 0.15530444297934873, 0.1481640088193787, 0.2891875834787873, 0.13031292341945352, 0.08032988429966313, 0.041057496419827824, 0.062478798899737994, 0.016065976859932628, 0.06426390743973051, 0.0124957597799476, 0.9264811184674002, 0.8998643330167402, 0.9032776162592531, 0.05313397742701489, 0.017704867957513862, 0.1416389436601109, 0.053114603872541584, 0.7524568881943391, 0.008852433978756931, 0.008852433978756931, 0.947281501816161, 0.24064354373383473, 0.23796972658123655, 0.050802525899365104, 0.11497413756172103, 0.042781074441570616, 0.03743344013637429, 0.1390384919351045, 0.026738171525981635, 0.026738171525981635, 0.0882359660357394, 0.8436893925618133, 0.06486417769901494, 0.06486417769901494, 0.06486417769901494, 0.4540492438931046, 0.345942281061413, 0.9015398558466787, 0.05359604469001289, 0.8575367150402062, 0.05359604469001289, 0.04641712485281107, 0.696256872792166, 0.18566849941124428, 0.06290411489640556, 0.18871234468921666, 0.6919452638604611, 0.03448437360612227, 0.06896874721224454, 0.009852678173177792, 0.33499105788804495, 0.5517499776979563, 0.14871637239264587, 0.2379461958282334, 0.05948654895705835, 0.1189730979141167, 0.41640584269940845, 0.9090770698726002, 0.06875379735960975, 0.034376898679804875, 0.268139809702478, 0.5844072775566829, 0.034376898679804875, 0.0068753797359609745, 0.9742204143915444, 0.11345284415705849, 0.6050818355043119, 0.018908807359509748, 0.24311323747941105, 0.008103774582647036, 0.008103774582647036, 0.12662762992051457, 0.11079917618045025, 0.24375818759699056, 0.06647950570827016, 0.044319670472180106, 0.3640544360214794, 0.006331381496025729, 0.022159835236090053, 0.018994144488077187, 0.9447881746884352, 0.03936617394535147, 0.9266931696419596, 0.025191097090037026, 0.025191097090037026, 0.2015287767202962, 0.1007643883601481, 0.07557329127011107, 0.5290130388907776, 0.025191097090037026, 0.025191097090037026, 0.15430791830468407, 0.28138502749677685, 0.0877437182516831, 0.06353855459604638, 0.05446161822518261, 0.12405146373513817, 0.051435972768228026, 0.10589759099341063, 0.015128227284772948, 0.06656420005300097, 0.03459188512509028, 0.3647871522282248, 0.5534701620014445, 0.0031447168295536615, 0.012578867318214646, 0.01886830097732197, 0.0031447168295536615, 0.009434150488660985, 0.8436668267224213, 0.7246375606343174, 0.04420043864572967, 0.6188061410402155, 0.04420043864572967, 0.26520263187437804, 0.19939558243325808, 0.06646519414441936, 0.06646519414441936, 0.6646519414441936, 0.9586582175671721, 0.9642569750478384, 0.7373511067581161, 0.0850789738567057, 0.07089914488058809, 0.04253948692835285, 0.014179828976117618, 0.04253948692835285, 0.5212741437378001, 0.134522359674271, 0.03363058991856775, 0.15554147837337587, 0.04624206113803066, 0.08407647479641939, 0.008407647479641938, 0.008407647479641938, 0.004203823739820969, 0.004203823739820969, 0.3745686418106018, 0.15635663488424204, 0.1649476587789806, 0.15463843010529432, 0.027491276463163433, 0.06529178160001316, 0.017182047789477146, 0.024054866905268004, 0.003436409557895429, 0.010309228673686287, 0.8992998595970486, 0.14055508775383224, 0.4067125943515146, 0.03289587160196074, 0.02242900336497323, 0.15102195599081977, 0.11513555060686259, 0.020933736473975017, 0.019438469582976802, 0.019438469582976802, 0.0687822769859179, 0.2085759803035211, 0.6147502577366938, 0.021955366347739064, 0.032933049521608596, 0.06586609904321719, 0.032933049521608596, 0.010977683173869532, 0.010977683173869532, 0.9100852630601279, 0.075840438588344, 0.9497850568068417, 0.9644065072777361, 0.1577261633368911, 0.03711203843220967, 0.018556019216104835, 0.04639004804026209, 0.009278009608052418, 0.07422407686441934, 0.2597842690254677, 0.398954413146254, 0.8670946126717937, 0.06669958559013797, 0.5790776314582751, 0.1776715460156071, 0.0065804276302076714, 0.0065804276302076714, 0.13160855260415344, 0.026321710520830686, 0.019741282890623015, 0.03948256578124603, 0.15061857115357802, 0.2066626906525838, 0.02802205974950289, 0.16462960102832946, 0.007005514937375722, 0.35377850433747393, 0.03502757468687861, 0.02802205974950289, 0.024519302280815027, 0.8663460790189174, 0.22037623076749743, 0.07777984615323438, 0.021605512820342884, 0.01296330769220573, 0.24198174358784033, 0.08210094871730296, 0.008642205128137154, 0.09074315384544011, 0.2074129230752917, 0.034568820512548615, 0.9266929245767926, 0.9304326242724625, 0.18425543469769173, 0.7370217387907669, 0.11175768274454136, 0.7823037792117895, 0.896256713309599, 0.8430643113018088, 0.11834444156001751, 0.7889629437334501, 0.03944814718667251, 0.1726227096726001, 0.21970163049240013, 0.01569297360660001, 0.18831568327920012, 0.06277189442640004, 0.01569297360660001, 0.3138594721320002, 0.9360036922247469, 0.042545622373852135, 0.9500422174449963, 0.909329226506432, 0.7940273954690669, 0.030539515210348728, 0.030539515210348728, 0.061079030420697455, 0.030539515210348728, 0.030539515210348728, 0.030539515210348728, 0.9444267576635953, 0.9306949944112323, 0.9618277177150139, 0.1011138322770312, 0.02022276645540624, 0.02022276645540624, 0.02022276645540624, 0.04044553291081248, 0.02022276645540624, 0.7381309756223278, 0.02022276645540624, 0.01011138322770312, 0.9471967259810535, 0.9430976346647977, 0.9521843649692066, 0.9117043442278618, 0.0828822131116238, 0.18269903310148186, 0.10723638899434805, 0.0953212346616427, 0.23830308665410677, 0.0953212346616427, 0.05560405355262491, 0.05957577166352669, 0.09134951655074093, 0.03177374488721423, 0.04368889921991957, 0.9588883266319742, 0.9052024385384501, 0.9508830371061003, 0.7033765486719762, 0.05765381546491608, 0.08071534165088251, 0.05765381546491608, 0.05765381546491608, 0.011530763092983216, 0.023061526185966432, 0.011530763092983216, 0.8386129816408885, 0.09317922018232094, 0.04658961009116047, 0.03256175601954057, 0.8674451803605608, 0.016932113130161096, 0.03256175601954057, 0.011722232167034606, 0.013024702407816228, 0.006512351203908114, 0.003907410722344869, 0.010419761926252982, 0.005209880963126491, 0.8024035411162947, 0.11429504242756915, 0.6514817418371441, 0.03428851272827074, 0.07184259809732918, 0.05714752121378457, 0.032655726407876895, 0.008163931601969224, 0.01306229056315076, 0.004898358961181535, 0.01306229056315076, 0.05899759381657292, 0.08849639072485938, 0.05899759381657292, 0.05899759381657292, 0.6784723288905886, 0.05899759381657292, 0.01880428183208722, 0.8743991051920558, 0.01880428183208722, 0.014103211374065415, 0.047010704580218055, 0.00940214091604361, 0.023505352290109027, 0.8032040661693944, 0.08829117396700095, 0.16775323053730182, 0.050031665247967205, 0.30901910888450335, 0.1177215652893346, 0.03531646958680038, 0.03237343045456702, 0.05297470438020057, 0.01177215652893346, 0.13243676095050141, 0.8914639625794424, 0.012555830458865387, 0.05022332183546155, 0.012555830458865387, 0.03766749137659616, 0.9443606302234133, 0.720255435167921, 0.013238548180148446, 0.039715644540445336, 0.006619274090074223, 0.920079098520317, 0.006619274090074223, 0.013238548180148446, 0.0393803529149368, 0.11026498816182304, 0.04331838820643048, 0.7127843877603561, 0.05119445878941784, 0.01181410587448104, 0.00393803529149368, 0.00393803529149368, 0.00787607058298736, 0.01181410587448104, 0.03422543464531973, 0.6417268995997449, 0.30802891180787756, 0.008556358661329932, 0.9521843340814997, 0.9320316178096191, 0.8430646941283008, 0.043512900012714094, 0.06526935001907114, 0.8485015502479248, 0.043512900012714094, 0.9596082183350756, 0.13453644983530433, 0.807218699011826, 0.06658905397560723, 0.04237485252993188, 0.13923165831263332, 0.15739230939688983, 0.5448195325276955, 0.01816065108425652, 0.0302677518070942, 0.10170656733772153, 0.864505822370633, 0.1989652790130403, 0.20923445470403595, 0.08728799337346285, 0.13478293094431765, 0.06803328895284605, 0.07060058287559495, 0.06546599503009713, 0.0718842298369694, 0.041076702763982516, 0.0526295254163526, 0.07301354389986728, 0.7666422109486064, 0.07301354389986728, 0.03650677194993364, 0.01825338597496682, 0.01825338597496682, 0.01825338597496682, 0.11630114279065784, 0.8722585709299339, 0.8943427969235775, 0.055896424807723596, 0.7981864660857946, 0.7574227676988797, 0.07060720715837014, 0.05776953312957557, 0.019256511043191857, 0.019256511043191857, 0.06418837014397286, 0.006418837014397286, 0.006418837014397286, 0.03969361136251728, 0.05954041704377592, 0.8732594499753801, 0.04508282135760227, 0.09580099538490482, 0.8509382531247428, 0.005635352669700284, 0.07914430603513972, 0.870587366386537, 0.2003464577237985, 0.08386595904717146, 0.04659219947065082, 0.018636879788260327, 0.44262589497118277, 0.05591063936478098, 0.018636879788260327, 0.0792067391001064, 0.037273759576520654, 0.02329609973532541, 0.37191673882185106, 0.035420641792557245, 0.05313096268883587, 0.05313096268883587, 0.1593928880665076, 0.3187857761330152, 0.2020515290454387, 0.0673505096818129, 0.673505096818129, 0.2133462550901563, 0.020646411782918355, 0.17205343152431962, 0.020646411782918355, 0.04817496082680949, 0.5230424318339316, 0.967714589206693, 0.21330004904135258, 0.2701800621190466, 0.10238402353984924, 0.03128400719273171, 0.06825601569323282, 0.039816009154385816, 0.07963201830877163, 0.05972401373157872, 0.04834801111603992, 0.08532001961654102, 0.16368680885272655, 0.48541605383912007, 0.02822186359529768, 0.10724308166213117, 0.03951060903341675, 0.06773247262871443, 0.02822186359529768, 0.011288745438119072, 0.016933118157178607, 0.05644372719059536, 0.5073821001398062, 0.008901440353329933, 0.4539734580198266, 0.0267043210599898, 0.03722630694257757, 0.79664296857116, 0.007445261388515514, 0.022335784165546543, 0.007445261388515514, 0.12656944360476374, 0.017924452180474903, 0.026886678270712353, 0.008962226090237451, 0.04033001740606853, 0.8693359307530327, 0.013443339135356176, 0.017924452180474903, 0.014935545462049836, 0.002987109092409967, 0.014935545462049836, 0.9558749095711895, 0.0089613272772299, 0.06278593587332751, 0.06278593587332751, 0.8162171663532576, 0.05576968655903456, 0.1394242163975864, 0.05576968655903456, 0.08365452983855184, 0.5298120223108284, 0.08365452983855184, 0.08365452983855184, 0.10905635812035906, 0.5998099696619749, 0.0817922685902693, 0.19084862671062836, 0.2385086012500334, 0.0275202232211577, 0.1559479315865603, 0.0733872619230872, 0.0091734077403859, 0.0458670387019295, 0.4403235715385232, 0.051515513969131066, 0.25757756984565533, 0.6181861676295728, 0.29195117017747463, 0.14825645360574882, 0.011404342585057603, 0.04561737034023041, 0.15966079619080642, 0.1231668999186221, 0.05245997589126497, 0.1003582147485069, 0.03877476478919585, 0.025089553687126724, 0.9331968719550243, 0.8673512493548324, 0.0622140391613148, 0.5210425779760115, 0.1399815881129583, 0.00777675489516435, 0.00777675489516435, 0.02333026468549305, 0.02333026468549305, 0.20997238216943745, 0.0846591714369201, 0.1693183428738402, 0.6984381643545908, 0.021164792859230026, 0.021164792859230026, 0.08689331514864823, 0.09558264666351306, 0.7733505048229693, 0.02606799454459447, 0.008689331514864824, 0.008689331514864824, 0.09936279556554327, 0.019872559113108652, 0.039745118226217305, 0.7551572462981289, 0.07949023645243461, 0.21740910622599569, 0.15887588531899685, 0.03344755480399934, 0.100342664411998, 0.16166318155266346, 0.15887588531899685, 0.05295862843966562, 0.06132051714066545, 0.03344755480399934, 0.01951107363566628, 0.07028646250507081, 0.017571615626267703, 0.8610091656871175, 0.017571615626267703, 0.017571615626267703, 0.926625478598262, 0.9645573327864418, 0.01831358583798142, 0.21976303005577705, 0.10988151502788852, 0.6592890901673312, 0.012918985094916811, 0.006459492547458406, 0.025837970189833623, 0.9366264193814688, 0.012918985094916811, 0.006459492547458406, 0.17311588618341855, 0.7790214878253835, 0.7665363996142553, 0.018620317399536568, 0.006206772466512189, 0.14585915296303645, 0.012413544933024379, 0.049654179732097514, 0.8635555400643742, 0.050797384709669074, 0.9594727089310761, 0.06097708044814503, 0.20488299030576732, 0.3146417351124284, 0.09268516228118044, 0.06585524688399663, 0.1780530749085835, 0.04146441470473862, 0.03658624826888702, 0.0024390832179258014, 0.1994989428499938, 0.2208738295839217, 0.0997494714249969, 0.053437216834819765, 0.21018638621695776, 0.0605621790794624, 0.024937367856249226, 0.014249924489285271, 0.11043691479196086, 0.4683640060959407, 0.1330579562772559, 0.03193390950654141, 0.026611591255451175, 0.14370259277943634, 0.015966954753270705, 0.026611591255451175, 0.15434722928161682, 0.9304320309593802, 0.8614913052243336, 0.9675192701104776, 0.8430643290972468, 0.1240951297843604, 0.7445707787061623, 0.9360492367593866, 0.04254769257997212, 0.2584514459754968, 0.12370325619340018, 0.20985373818523245, 0.13253920306435735, 0.11044933588696444, 0.057433654661221516, 0.028716827330610758, 0.026507840612871467, 0.026507840612871467, 0.026507840612871467, 0.05954703770844229, 0.07939605027792306, 0.03969802513896153, 0.03969802513896153, 0.7741114902097498, 0.921700675207116, 0.9375395756327799, 0.018321040401848905, 0.025649456562588466, 0.7145205756721074, 0.17954619593811927, 0.010992624241109344, 0.007328416160739562, 0.03664208080369781, 0.007328416160739562, 0.8884410261470395, 0.07107528209176316, 0.0064766332311145145, 0.012953266462229029, 0.6735698560359096, 0.213728896626779, 0.012953266462229029, 0.032383166155572574, 0.032383166155572574, 0.012953266462229029, 0.009079176417630919, 0.9351551710159848, 0.0453958820881546, 0.30663129217580454, 0.13433370895320962, 0.10805102676671208, 0.10805102676671208, 0.11389162280815598, 0.026282682186497534, 0.03796387426938533, 0.0730074505180487, 0.03504357624866338, 0.06424655645588286, 0.6724345458131621, 0.07078258376980653, 0.011797097294967756, 0.07078258376980653, 0.15336226483458082, 0.011797097294967756, 0.8770582950500182, 0.7456518565394199, 0.027616735427385925, 0.04142510314107889, 0.05523347085477185, 0.013808367713692963, 0.12427530942323665, 0.10149998324263042, 0.8881248533730162, 0.9394622073748972, 0.3058075567337491, 0.22214322517451585, 0.04904460815541259, 0.06635446985732292, 0.034619723403820656, 0.12405400886369067, 0.0952042393605068, 0.046159631205094205, 0.046159631205094205, 0.011539907801273551, 0.014192972683942515, 0.9651221425080911, 0.9486071228367378, 0.022445137987985843, 0.22445137987985841, 0.011222568993992921, 0.24689651786784428, 0.49379303573568856, 0.8034980702208402, 0.08172463286136238, 0.08172463286136238, 0.04086231643068119, 0.08172463286136238, 0.16344926572272475, 0.5720724300295367, 0.9570675038490568, 0.3857411872602055, 0.6061647228374658, 0.009698069205512238, 0.019396138411024475, 0.13577296887717133, 0.20365945331575697, 0.6303744983582954, 0.09789800129062512, 0.15011026864562518, 0.16642660219406272, 0.13705720180687517, 0.062002067484062576, 0.18274293574250022, 0.06526533419375008, 0.03915920051625005, 0.04242246722593755, 0.05547553406468757, 0.8793574971390651, 0.01490436435828924, 0.01490436435828924, 0.04471309307486772, 0.02980872871657848, 0.02323497458231124, 0.9526339578747609, 0.05594090915719228, 0.2797045457859614, 0.615350000729115, 0.9015398718510238, 0.1313137888743434, 0.20417176205623713, 0.2007830191175444, 0.22365703395372036, 0.04490084393767871, 0.0703164159778742, 0.07963545905927921, 0.010166228816078197, 0.015249343224117296, 0.020332457632156395, 0.12806371599165497, 0.02439308876031523, 0.03049136095039404, 0.14026026037181258, 0.03049136095039404, 0.6281220355781173, 0.018294816570236426, 0.864462382898554, 0.8996558459197092, 0.05292093211292407, 0.7265400757821839, 0.674841132468965, 0.16969689296003215, 0.007892878742327077, 0.02367863622698123, 0.05525015119628954, 0.06314302993861662, 0.007892878742327077, 0.9645572060035802, 0.9068550874554171, 0.039428482063279, 0.039428482063279, 0.7628003300369608, 0.017739542558999087, 0.035479085117998174, 0.08869771279499544, 0.05321862767699727, 0.035479085117998174, 0.8865639727908764, 0.872835537941674, 0.06714119522628262, 0.03934087926309791, 0.865499343788154, 0.03934087926309791, 0.03934087926309791, 0.8110278861019583, 0.0052664148448179115, 0.11586112658599404, 0.015799244534453732, 0.010532829689635823, 0.03686490391372538, 0.0052664148448179115, 0.9215957932338689, 0.06274507125268809, 0.06274507125268809, 0.690195783779569, 0.12549014250537618, 0.8568232900162974, 0.8454629602038435, 0.12078042288626337, 0.020130070481043892, 0.8568230630745218, 0.4206965252839736, 0.04006633574133082, 0.02003316787066541, 0.5008291967666353, 0.021064983786294914, 0.010532491893147457, 0.04212996757258983, 0.003510830631049152, 0.04915162883468813, 0.003510830631049152, 0.7267419406271745, 0.007021661262098304, 0.13692239461091693, 0.9395334144076368, 0.9331997258469936, 0.03456295280914791, 0.9862898275314629, 0.009132313217883915, 0.929992003594525, 0.027760955331179855, 0.013880477665589927, 0.013880477665589927, 0.005651010011217311, 0.9776247319405947, 0.011302020022434621, 0.10932200573941839, 0.11352669826785755, 0.21023462642195842, 0.07358211924768544, 0.004204692528439169, 0.48774433329894357, 0.9367756285501463, 0.050102829052755704, 0.03340188603517047, 0.15865895866705973, 0.08350471508792617, 0.05845330056154832, 0.6095844201418611, 0.8337744802149276, 0.9059681063041457, 0.03870657333367122, 0.13160234933448212, 0.26320469866896423, 0.054189202667139696, 0.127731692001115, 0.22062746800192592, 0.01935328666683561, 0.0077413146667342425, 0.13160234933448212, 0.0077413146667342425, 0.9304320134535617, 0.9502057584430627, 0.8890422744141983, 0.7200896208953598, 0.7782957866857791, 0.12353901375964749, 0.037061704127894245, 0.0247078027519295, 0.01235390137596475, 0.01235390137596475, 0.01235390137596475, 0.8358172707651674, 0.11940246725216679, 0.02573700047778332, 0.01286850023889166, 0.09007950167224162, 0.02573700047778332, 0.8107155150501746, 0.02573700047778332, 0.015756157421914434, 0.03151231484382887, 0.015756157421914434, 0.3781477781259464, 0.07878078710957216, 0.015756157421914434, 0.015756157421914434, 0.45692856523551856, 0.7246374584327093, 0.5015223876317517, 0.058688790042013494, 0.058688790042013494, 0.04801810094346559, 0.16006033647821863, 0.010670689098547908, 0.04268275639419163, 0.06402413459128745, 0.03201206729564372, 0.01600603364782186, 0.41223116355798833, 0.02549883485925701, 0.07224669876789486, 0.012749417429628505, 0.22948951373331308, 0.012749417429628505, 0.18274164982467522, 0.016999223239504674, 0.021249029049380842, 0.016999223239504674, 0.06355539048106458, 0.0889775466734904, 0.02542215619242583, 0.5847095924257941, 0.02542215619242583, 0.0762664685772775, 0.012711078096212915, 0.11439970286591623, 0.7981864496622465, 0.9643458564555109, 0.06989250427961993, 0.05824375356634994, 0.06989250427961993, 0.7571687963625493, 0.02329750142653998, 0.01164875071326999, 0.02113111522558468, 0.04226223045116936, 0.8875068394745564, 0.04226223045116936, 0.02970471290776276, 0.03960628387701701, 0.06436021130015264, 0.8515351033558657, 0.01485235645388138, 0.8992706879177673, 0.1608190872941816, 0.08659489315840546, 0.07834776047665257, 0.05772992877227031, 0.08659489315840546, 0.210301883384699, 0.15669552095330513, 0.13607768924892288, 0.012370699022629352, 0.020617831704382254, 0.053775332838557455, 0.8604053254169193, 0.053775332838557455, 0.018119099112283977, 0.779121261828211, 0.09965504511756186, 0.07247639644913591, 0.027178648668425964, 0.9733160557304174, 0.8012169486351857, 0.03641895221069026, 0.09104738052672565, 0.03641895221069026, 0.03641895221069026, 0.9238079026116635, 0.8289747769620294, 0.02240472370167647, 0.02240472370167647, 0.02240472370167647, 0.0672141711050294, 0.7246374916483582, 0.15181573594828404, 0.7590786797414203, 0.950725248572595, 0.09920356200917749, 0.20272032236658008, 0.008626396696450217, 0.10782995870562771, 0.28467109098285714, 0.07332437191982684, 0.051758380178701296, 0.043131983482251085, 0.09057716531272728, 0.03881878513402597, 0.11399462336705514, 0.07599641557803676, 0.22798924673411028, 0.5699731168352757, 0.03799820778901838, 0.9332325491420662, 0.9555782691135613, 0.009493332370662494, 0.8702221339773952, 0.031644441235541644, 0.06961777071819163, 0.009493332370662494, 0.009493332370662494, 0.034677318372894166, 0.7629010042036717, 0.026971247623362133, 0.08091374287008639, 0.02311821224859611, 0.011559106124298056, 0.026971247623362133, 0.011559106124298056, 0.015412141499064076, 0.11192845249220544, 0.7834991674454381, 0.03571633379158315, 0.9286246785811618, 0.13239254294476613, 0.7943552576685967, 0.06619627147238306, 0.29748951156256215, 0.26571878702675455, 0.002888247685073419, 0.10830928819025322, 0.2411686817036305, 0.011552990740293676, 0.020217733795513934, 0.04043546759102787, 0.011552990740293676, 0.0866095801421921, 0.5129952054575994, 0.059960478559979144, 0.09327185553774534, 0.013324550791106476, 0.15323233409772447, 0.006662275395553238, 0.04663592776887267, 0.006662275395553238, 0.019986826186659715, 0.017864402799146237, 0.7800789222293857, 0.07741241212963369, 0.07145761119658495, 0.023819203732194982, 0.011909601866097491, 0.005954800933048746, 0.011909601866097491, 0.11863475468165896, 0.27116515355807763, 0.08473911048689925, 0.44064337453187613, 0.05084346629213955, 0.9308420241538357, 0.07032453210724207, 0.9142189173941468, 0.9009476627406148, 0.050504635035255915, 0.050504635035255915, 0.016834878345085305, 0.3535324452467914, 0.050504635035255915, 0.08417439172542653, 0.3535324452467914, 0.016834878345085305, 0.9737095979735448, 0.7246374521261115, 0.7247255372152926, 0.16989620774408096, 0.1592776947600759, 0.007584652131432185, 0.006067721705145748, 0.43080824106534815, 0.11528671239776922, 0.006067721705145748, 0.004550791278859312, 0.0940496864297591, 0.004550791278859312, 0.2686053021180849, 0.11656456507011233, 0.005068024568265753, 0.3142175232324767, 0.18244888445756713, 0.07095234395572055, 0.040544196546126024, 0.04420646746259729, 0.13261940238779188, 0.8104519034809504, 0.12206188795384532, 0.10462447538901026, 0.13949930051868037, 0.08718706282417522, 0.5231223769450514, 0.03487482512967009, 0.09431652119822981, 0.047158260599114904, 0.047158260599114904, 0.047158260599114904, 0.7545321695858385, 0.9645626569854215, 0.04492170068920994, 0.7636689117165689, 0.17968680275683976, 0.10339694355969324, 0.10339694355969324, 0.01723282392661554, 0.6376144852847749, 0.10339694355969324, 0.01723282392661554, 0.893887572882866, 0.02552878648953861, 0.9445651001129286, 0.8437528171516255, 0.9640253687269279, 0.9000944494427534, 0.9266547034991058, 0.04633273517495529, 0.12526551544077497, 0.8142258503650373, 0.9257323222311715, 0.901437130895421, 0.04474130304975257, 0.06711195457462886, 0.8724554094701752, 0.13316956114113843, 0.7990173668468306, 0.4138332576800525, 0.32836769359395473, 0.04048368825130949, 0.0419830841124691, 0.02698912550087299, 0.1394438150878438, 0.002998791722319221, 0.002998791722319221, 0.002998791722319221, 0.4255657376447754, 0.22992651228201133, 0.036304186149791265, 0.07059147306903857, 0.04840558153305502, 0.16941953536569257, 0.014118294613807715, 0.0060506976916318775, 0.8898132393351776, 0.057407305763559846, 0.028703652881779923, 0.7628578300200529, 0.21795938000572943, 0.015568527143266387, 0.6433296231339901, 0.23519577619952328, 0.0484226598057842, 0.06917522829397743, 0.028831063184134677, 0.17298637910480807, 0.20181744228894274, 0.057662126368269354, 0.5189591373144242, 0.02122113271384991, 0.06366339814154974, 0.6790762468431971, 0.02122113271384991, 0.14854792899694938, 0.04244226542769982, 0.9015398522005345, 0.010536988469740556, 0.013171235587175695, 0.19493428669020027, 0.7375891928818389, 0.005268494234870278, 0.010536988469740556, 0.02634247117435139, 0.002634247117435139, 0.002634247117435139, 0.07952181641046055, 0.6453501254848913, 0.1804533526237374, 0.02446825120321863, 0.06728769080885123, 0.0030585314004023287, 0.1603570867911903, 0.08908727043955016, 0.09799599748350517, 0.08908727043955016, 0.1781745408791003, 0.05345236226373009, 0.026726181131865045, 0.008908727043955015, 0.03563490817582006, 0.25835308427469544, 0.11033383108209077, 0.03152395173774022, 0.01576197586887011, 0.03152395173774022, 0.07880987934435055, 0.22066766216418154, 0.5043832278038435, 0.8090433841821212, 0.014982284892261504, 0.11985827913809204, 0.02996456978452301, 0.02996456978452301, 0.8962567056011432, 0.9521844045194318, 0.8407115253957546, 0.07642832049052314, 0.9109160013229413, 0.9506382892542707, 0.006145032282327929, 0.006145032282327929, 0.07374038738793515, 0.012290064564655858, 0.17820593618750993, 0.012290064564655858, 0.6820985833384001, 0.006145032282327929, 0.006145032282327929, 0.012290064564655858, 0.9653906418936168, 0.899956545754827, 0.5252402562826155, 0.05450606433121482, 0.019820387029532663, 0.4013628373480364, 0.1241532479032302, 0.7449194874193812, 0.10279826704011416, 0.15280823478935887, 0.29450314341221895, 0.09446327241524004, 0.10001993549848945, 0.14447324016448476, 0.022226652332997657, 0.0416749731243706, 0.038896641582745896, 0.005556663083249414, 0.04154099069004141, 0.7892788231107868, 0.04154099069004141, 0.08308198138008283, 0.1851038211906973, 0.13804352766763867, 0.1631423508799366, 0.19451587989530902, 0.0376482348184469, 0.04078558771998415, 0.06902176383381933, 0.047060293523058634, 0.053334999326133115, 0.0752964696368938, 0.007516160213153495, 0.01503232042630699, 0.01503232042630699, 0.6614220987575076, 0.2705817676735258, 0.007516160213153495, 0.022548480639460484, 0.34027699600131517, 0.24164598266760062, 0.0024657753333428636, 0.009863101333371455, 0.15287807066725753, 0.17013849800065758, 0.004931550666685727, 0.0271235286667715, 0.03945240533348582, 0.012328876666714318, 0.09289332941723023, 0.8670044078941489, 0.5496400825904771, 0.007328534434539695, 0.27848430851250844, 0.06595680991085726, 0.007328534434539695, 0.043971206607238175, 0.043971206607238175, 0.8430646460762217, 0.7161188279012681, 0.04384400987150621, 0.13153202961451863, 0.014614669957168737, 0.08768801974301242, 0.10182452942509913, 0.033941509808366375, 0.33941509808366377, 0.08485377452091594, 0.033941509808366375, 0.05091226471254957, 0.3563858529878469, 0.9400546742650873, 0.08497345228023115, 0.08497345228023115, 0.7647610705220803, 0.8738428880096255, 0.07944026254632959, 0.9753181093287068, 0.18449173873331817, 0.24960647005095987, 0.06511473131764171, 0.03979233580522549, 0.16640431336730657, 0.09405461190326024, 0.013264111935075162, 0.045821477593896015, 0.11817117905794236, 0.022910738796948008, 0.9668093532260624, 0.8436893719743711, 0.003772339658708078, 0.01886169829354039, 0.3508275882598513, 0.6111190247107087, 0.003772339658708078, 0.007544679317416156, 0.003772339658708078, 0.33770789418690417, 0.6626720942535478, 0.2846384629952748, 0.711596157488187, 0.12696411709109057, 0.037342387379732514, 0.03983187987171469, 0.45806661852471886, 0.03236340239576818, 0.10704817715523321, 0.03485289488775035, 0.1618170119788409, 0.004978984983964336, 0.035824156435145804, 0.035824156435145804, 0.8956039108786451, 0.9057372532307644, 0.028304289163461387, 0.05660857832692277, 0.00937684073712013, 0.00937684073712013, 0.8626693478150519, 0.09376840737120129, 0.01875368147424026, 0.04946779638445259, 0.09893559276890518, 0.024733898192226295, 0.7914847421512414, 0.11912987779761261, 0.8339091445832882, 0.508608606080037, 0.13046094356699836, 0.003781476625130387, 0.02268885975078232, 0.1191165136916072, 0.10399060719108565, 0.04348698118899945, 0.018907383125651933, 0.04726845781412984, 0.003781476625130387, 0.7981864479710017, 0.06754388171677872, 0.15129829504558434, 0.19992988988166502, 0.38364924815130313, 0.04322808429873838, 0.05673686064209413, 0.02161404214936919, 0.045929839567409536, 0.02161404214936919, 0.008105265806013447, 0.04474823993512369, 0.05966431991349825, 0.8054683188322264, 0.07458039989187282, 0.014916079978374562, 0.20422702379487187, 0.13298503875014914, 0.16781445366090247, 0.18839547156271128, 0.05857674325899426, 0.09973877906261185, 0.07124198504472275, 0.01899786267859273, 0.023747328348240917, 0.034829414910753344, 0.11181742545648526, 0.027954356364121316, 0.5870414836465476, 0.05590871272824263, 0.22363485091297053, 0.1087834938229026, 0.7614844567603182, 0.02892711103511632, 0.9256675531237223, 0.02892711103511632, 0.9131276964607205, 0.030167166941116933, 0.030167166941116933, 0.060334333882233866, 0.21117016858781854, 0.060334333882233866, 0.030167166941116933, 0.5430090049401048, 0.030167166941116933, 0.807730415596472, 0.07582253263944369, 0.08665432301650708, 0.5524213092302327, 0.19497222678714093, 0.08665432301650708, 0.9233148931823834, 0.01648776594968542, 0.01648776594968542, 0.03297553189937084, 0.9304318534987241, 0.17797509135057024, 0.03559501827011405, 0.03559501827011405, 0.0711900365402281, 0.03559501827011405, 0.5695202923218248, 0.03559501827011405, 0.9304320650831235, 0.9669628285055863, 0.010278916543362722, 0.24669399704070533, 0.740081991122116, 0.07004372279887819, 0.9105683963854163, 0.9376172884361609, 0.9792780156590118, 0.6195480067914934, 0.11096382211190925, 0.0739758814079395, 0.055481911055954625, 0.009246985175992437, 0.12945779246389413, 0.06664144585373162, 0.6530861693665699, 0.004442763056915442, 0.013328289170746325, 0.15105394393512503, 0.02665657834149265, 0.013328289170746325, 0.06664144585373162, 0.004442763056915442, 0.03622288120686196, 0.06037146867810326, 0.06037146867810326, 0.07244576241372391, 0.7003090366659978, 0.06037146867810326, 0.1919331491056288, 0.18746958749852116, 0.02678136964264588, 0.08257588973149146, 0.14729753303455234, 0.06918520491016852, 0.11158904017769117, 0.07811232812438382, 0.08703945133859911, 0.02008602723198441, 0.20040499222549166, 0.14844814238925308, 0.03958617130380082, 0.05443098554272613, 0.11381024249842736, 0.0915430211400394, 0.11628437820491491, 0.07174993548813899, 0.10391369967247716, 0.05690512124921368, 0.2427646888150017, 0.03468066983071453, 0.6589327267835761, 0.03468066983071453, 0.9009477903049393, 0.9410022445759153, 0.8614913110070682, 0.8644988387699404, 0.9070032854533602, 0.9167620956909289, 0.8969729208242654, 0.024164455902722665, 0.012082227951361333, 0.5497413717869406, 0.3745490664922013, 0.012082227951361333, 0.012082227951361333, 0.012082227951361333, 0.06961566740937225, 0.12530820133687004, 0.5244380278172709, 0.0742567119033304, 0.04176940044562335, 0.04176940044562335, 0.00464104449395815, 0.06961566740937225, 0.0464104449395815, 0.00464104449395815, 0.049158563142413465, 0.01843446117840505, 0.1106067670704303, 0.15362050982004208, 0.4608615294601262, 0.024579281571206733, 0.006144820392801683, 0.05530338353521515, 0.12904122824883535, 0.8537451769782961, 0.12196359671118515, 0.08266719865347992, 0.4353805795749942, 0.4684474590363862, 0.005511146576898661, 0.005511146576898661, 0.10335586974199631, 0.048232739212931613, 0.5719024792390462, 0.20671173948399263, 0.013780782632266175, 0.03445195658066544, 0.006890391316133088, 0.020671173948399263, 0.006890391316133088, 0.1590649235042496, 0.09476208208763807, 0.3553578078286428, 0.18613980410071765, 0.040612320894702035, 0.06430284141661155, 0.05076540111837754, 0.01353744029823401, 0.01353744029823401, 0.020306160447351018, 0.05151370659228603, 0.05151370659228603, 0.8499761587727195, 0.025756853296143016, 0.9406859656340465, 0.16896078430826156, 0.08448039215413078, 0.6758431372330462, 0.13379335328988426, 0.8027601197393055, 0.14701273944272975, 0.4147859434277018, 0.021001819920389964, 0.23627047410438712, 0.028877502390536203, 0.052504549800974916, 0.052504549800974916, 0.010500909960194982, 0.010500909960194982, 0.026252274900487458, 0.11510026593700017, 0.10128823402456015, 0.011510026593700018, 0.4534950477917807, 0.08287219147464012, 0.039134090418580056, 0.1358183138056602, 0.02071804786866003, 0.029926069143620043, 0.011510026593700018, 0.10919343674408022, 0.149422597649794, 0.2643630573804047, 0.283040882086629, 0.0502864511321422, 0.03879240515908113, 0.034482137919183226, 0.01867782470622425, 0.030171870679285322, 0.02298809194612215, 0.8079040236830438, 0.08029730392547875, 0.01338288398757979, 0.8431216912175268, 0.01338288398757979, 0.02676576797515958, 0.02676576797515958, 0.048405315415911226, 0.08067552569318538, 0.4937342172422945, 0.1274673305952329, 0.06776744158227571, 0.022589147194091906, 0.05808637849909347, 0.024202657707955613, 0.030656699763410445, 0.04679180490204752, 0.010653241458008146, 0.29829076082422806, 0.6818074533125213, 0.006327293881311626, 0.06327293881311626, 0.5441472737927998, 0.3480011634721394, 0.018981881643934877, 0.012654587762623251, 0.006327293881311626, 0.9670895536009135, 0.10528365338344282, 0.8773637781953568, 0.017547275563907137, 0.015453233296694574, 0.02317984994504186, 0.6799422650545612, 0.21634526615372401, 0.007726616648347287, 0.030906466593389147, 0.015453233296694574, 0.020108368737063526, 0.05457985800060101, 0.8962587208519743, 0.00861787231588437, 0.00861787231588437, 0.011490496421179159, 0.07493864611141204, 0.8243251072255324, 0.07493864611141204, 0.899838567292455, 0.9370687153379059, 0.9052024651572258, 0.9833409938936821, 0.9558812215245002, 0.9817934503795905, 0.9052023990050725, 0.947196851283117, 0.9688024223489774, 0.9732945368891528, 0.8998644200480166, 0.9581270432341368, 0.8962566836168891, 0.8917831881690298, 0.9131702780489983, 0.9394621361835489, 0.9052025248930236, 0.9716196144813222, 0.9471968337251611, 0.9785066135713425], \"Term\": [\"15\", \"15\", \"15\", \"15\", \"15\", \"15\", \"15\", \"15\", \"15\", \"15\", \"1884\", \"196\", \"2\", \"2\", \"2\", \"2\", \"2\", \"2\", \"2\", \"2\", \"2\", \"2\", \"2d\", \"330\", \"3d\", \"413\", \"440\", \"470\", \"542\", \"570\", \"740\", \"780\", \"890\", \"activity\", \"activity\", \"activity\", \"activity\", \"activity\", \"activity\", \"activity\", \"activity\", \"activity\", \"activity\", \"actor\", \"actor\", \"actor\", \"actor\", \"actor\", \"acupuncture\", \"acupuncture\", \"acupuncturists\", \"adam\", \"aerospace\", \"africa\", \"africa\", \"africa\", \"africa\", \"africa\", \"africa\", \"african\", \"african\", \"african\", \"african\", \"african\", \"aircraft\", \"aircraft\", \"aircraft\", \"algae\", \"algae\", \"algae\", \"algae\", \"algorithm\", \"algorithm\", \"algorithm\", \"algorithm\", \"alloy\", \"alloy\", \"alloy\", \"alloy\", \"also\", \"also\", \"also\", \"also\", \"also\", \"also\", \"also\", \"also\", \"also\", \"also\", \"amazon\", \"america\", \"america\", \"america\", \"america\", \"america\", \"america\", \"analog\", \"analog\", \"ancient\", \"ancient\", \"ancient\", \"ancient\", \"ancient\", \"ancient\", \"ancient\", \"ancient\", \"ancient\", \"ancient\", \"andes\", \"animal\", \"animal\", \"animal\", \"animal\", \"animal\", \"animal\", \"animal\", \"animal\", \"animal\", \"animal\", \"animation\", \"animation\", \"animator\", \"anime\", \"antarctic\", \"anthropics\", \"anthropologist\", \"anthropologist\", \"anthropologist\", \"anthropology\", \"anthropology\", \"anthropology\", \"anthropology\", \"application\", \"application\", \"application\", \"application\", \"application\", \"application\", \"application\", \"application\", \"application\", \"archaeological\", \"archaeological\", \"archaeological\", \"archaeological\", \"archaeological\", \"archaeological\", \"archaeologist\", \"archaeologist\", \"archaeologist\", \"archaeologist\", \"archaeologist\", \"archaeology\", \"archeology\", \"archeology\", \"archeology\", \"archeology\", \"archeology\", \"archeology\", \"area\", \"area\", \"area\", \"area\", \"area\", \"area\", \"area\", \"area\", \"area\", \"area\", \"arithmetic\", \"army\", \"army\", \"army\", \"army\", \"army\", \"army\", \"army\", \"art\", \"art\", \"art\", \"art\", \"art\", \"art\", \"art\", \"art\", \"art\", \"arthropod\", \"artist\", \"artist\", \"artist\", \"artist\", \"artist\", \"asia\", \"asia\", \"asia\", \"asia\", \"asia\", \"asian\", \"asian\", \"asian\", \"asian\", \"asian\", \"asian\", \"astronomical\", \"astronomical\", \"astronomical\", \"astronomy\", \"astronomy\", \"astronomy\", \"astronomy\", \"astronomy\", \"astronomy\", \"atmosphere\", \"atmosphere\", \"atmosphere\", \"atmosphere\", \"atmosphere\", \"atmosphere\", \"atmosphere\", \"atmosphere\", \"atom\", \"atom\", \"atom\", \"atomic\", \"atomic\", \"atomic\", \"atomic\", \"atomic\", \"attack\", \"attack\", \"attack\", \"attack\", \"attack\", \"attack\", \"audience\", \"audience\", \"audience\", \"audience\", \"audience\", \"audience\", \"autonomy\", \"axiom\", \"axiom\", \"bachelor\", \"bachelor\", \"bachelor\", \"bachelor\", \"basin\", \"basin\", \"battle\", \"battle\", \"battle\", \"battle\", \"battle\", \"bayer\", \"bayer\", \"bbc\", \"behavior\", \"behavior\", \"behavior\", \"behavior\", \"behavior\", \"behavior\", \"behavior\", \"behavior\", \"behavioralism\", \"beld\", \"belief\", \"belief\", \"belief\", \"belief\", \"belief\", \"belief\", \"belief\", \"belief\", \"belief\", \"belief\", \"biochemistry\", \"biological\", \"biological\", \"biological\", \"biological\", \"biological\", \"biological\", \"biological\", \"biological\", \"biology\", \"biology\", \"biology\", \"biology\", \"biology\", \"biology\", \"biology\", \"bodhi\", \"bodhisattva\", \"body\", \"body\", \"body\", \"body\", \"body\", \"body\", \"body\", \"body\", \"body\", \"body\", \"bond\", \"bond\", \"book\", \"book\", \"book\", \"book\", \"book\", \"book\", \"book\", \"book\", \"book\", \"book\", \"borderleft\", \"box\", \"box\", \"boxing\", \"boxing\", \"braun\", \"breed\", \"buddha\", \"buddhism\", \"buddhism\", \"buddhism\", \"buddhism\", \"buddhist\", \"buddhist\", \"buddhist\", \"cairn\", \"calculation\", \"calculation\", \"calculation\", \"calculation\", \"calculation\", \"calculation\", \"calculation\", \"called\", \"called\", \"called\", \"called\", \"called\", \"called\", \"called\", \"called\", \"called\", \"called\", \"calligraphy\", \"calligraphy\", \"canvas\", \"cathode\", \"caucasus\", \"cave\", \"cell\", \"cell\", \"cell\", \"central\", \"central\", \"central\", \"central\", \"central\", \"central\", \"central\", \"central\", \"central\", \"century\", \"century\", \"century\", \"century\", \"century\", \"century\", \"century\", \"century\", \"century\", \"century\", \"ceo\", \"chemical\", \"chemical\", \"chemical\", \"chemical\", \"chemical\", \"chemical\", \"chemical\", \"chemistry\", \"chemistry\", \"chemistry\", \"chemistry\", \"chemistry\", \"chess\", \"chessboard\", \"chile\", \"china\", \"china\", \"china\", \"china\", \"china\", \"china\", \"china\", \"china\", \"china\", \"china\", \"chinese\", \"chinese\", \"chinese\", \"chinese\", \"chinese\", \"chinese\", \"chinese\", \"chinese\", \"chinese\", \"chinese\", \"chlorophyll\", \"chorus\", \"chuan\", \"chuan\", \"chuan\", \"cinema\", \"ciphertext\", \"circuit\", \"circuit\", \"circus\", \"classical\", \"classical\", \"classical\", \"classical\", \"classical\", \"classical\", \"classical\", \"classical\", \"classical\", \"classification\", \"classification\", \"classification\", \"classification\", \"classification\", \"classification\", \"classification\", \"classification\", \"classification\", \"climate\", \"climate\", \"climate\", \"climate\", \"climate\", \"clinical\", \"clinical\", \"clothing\", \"clothing\", \"clothing\", \"cognitive\", \"cognitive\", \"cognitive\", \"cognitive\", \"cognitive\", \"cognitive\", \"colombia\", \"colonist\", \"combustion\", \"combustion\", \"comedy\", \"comedy\", \"comic\", \"comic\", \"comic\", \"communication\", \"communication\", \"communication\", \"communication\", \"communication\", \"communication\", \"communication\", \"communication\", \"communication\", \"competition\", \"competition\", \"competition\", \"competition\", \"competition\", \"competition\", \"composer\", \"computer\", \"computer\", \"computer\", \"computer\", \"computer\", \"computer\", \"computer\", \"computer\", \"computing\", \"computing\", \"concept\", \"concept\", \"concept\", \"concept\", \"concept\", \"concept\", \"concept\", \"concept\", \"concept\", \"concept\", \"confidentiality\", \"consonant\", \"constellation\", \"continent\", \"continent\", \"continent\", \"continent\", \"continent\", \"continent\", \"contract\", \"contract\", \"contract\", \"contract\", \"contract\", \"cook\", \"costume\", \"costume\", \"country\", \"country\", \"country\", \"country\", \"country\", \"country\", \"country\", \"country\", \"country\", \"country\", \"crime\", \"crime\", \"crime\", \"crime\", \"crime\", \"criminal\", \"criminal\", \"criminal\", \"criminal\", \"cryptographic\", \"cryptography\", \"cryptography\", \"crystal\", \"crystal\", \"crystal\", \"crystal\", \"cultural\", \"cultural\", \"cultural\", \"cultural\", \"cultural\", \"cultural\", \"cultural\", \"cultural\", \"cultural\", \"culture\", \"culture\", \"culture\", \"culture\", \"culture\", \"culture\", \"culture\", \"culture\", \"culture\", \"culture\", \"cyanobacteria\", \"dance\", \"dance\", \"dance\", \"dance\", \"dance\", \"decay\", \"decay\", \"decoction\", \"defeated\", \"defeated\", \"demand\", \"demand\", \"demand\", \"demand\", \"demand\", \"design\", \"design\", \"design\", \"design\", \"design\", \"design\", \"design\", \"design\", \"development\", \"development\", \"development\", \"development\", \"development\", \"development\", \"development\", \"development\", \"development\", \"development\", \"device\", \"device\", \"device\", \"device\", \"device\", \"device\", \"device\", \"device\", \"dharma\", \"diagnosis\", \"diagnosis\", \"died\", \"died\", \"died\", \"died\", \"died\", \"different\", \"different\", \"different\", \"different\", \"different\", \"different\", \"different\", \"different\", \"different\", \"different\", \"digestible\", \"digestive\", \"discipline\", \"discipline\", \"discipline\", \"discipline\", \"discipline\", \"discipline\", \"discipline\", \"discipline\", \"discipline\", \"disease\", \"disease\", \"disease\", \"disease\", \"disease\", \"disease\", \"doctor\", \"doctor\", \"doctor\", \"doctor\", \"doctor\", \"doctor\", \"door\", \"door\", \"door\", \"door\", \"door\", \"door\", \"door\", \"door\", \"drama\", \"drama\", \"drama\", \"drama\", \"drama\", \"drug\", \"drug\", \"drug\", \"drug\", \"drug\", \"drug\", \"drug\", \"dynasty\", \"dynasty\", \"dynasty\", \"dynasty\", \"dynasty\", \"dynasty\", \"dynasty\", \"dynasty\", \"dynasty\", \"earth\", \"earth\", \"earth\", \"earth\", \"earth\", \"earth\", \"earth\", \"earth\", \"earth\", \"east\", \"east\", \"east\", \"east\", \"east\", \"east\", \"east\", \"east\", \"eastern\", \"eastern\", \"eastern\", \"eastern\", \"eastern\", \"economic\", \"economic\", \"economic\", \"economic\", \"economic\", \"economic\", \"economic\", \"economic\", \"economic\", \"economic\", \"economics\", \"economics\", \"economics\", \"economics\", \"economics\", \"economist\", \"economist\", \"ecosystem\", \"ecosystem\", \"ecosystem\", \"education\", \"education\", \"education\", \"education\", \"education\", \"education\", \"education\", \"education\", \"effect\", \"effect\", \"effect\", \"effect\", \"effect\", \"effect\", \"effect\", \"effect\", \"effect\", \"effect\", \"egg\", \"egg\", \"electrical\", \"electrical\", \"electrical\", \"electrical\", \"electromagnetic\", \"electromagnetic\", \"electronic\", \"electronic\", \"electronic\", \"electronic\", \"electronic\", \"electronics\", \"electronics\", \"electronics\", \"electronics\", \"electronics\", \"electronics\", \"element\", \"element\", \"element\", \"element\", \"element\", \"element\", \"element\", \"element\", \"element\", \"elephant\", \"elliptic\", \"emperor\", \"emperor\", \"emperor\", \"emperor\", \"emperor\", \"emperor\", \"emperor\", \"empire\", \"empire\", \"empire\", \"empire\", \"empire\", \"empire\", \"encrypt\", \"encrypted\", \"encryption\", \"encryption\", \"endoderm\", \"energy\", \"energy\", \"energy\", \"energy\", \"energy\", \"energy\", \"energy\", \"engine\", \"engine\", \"engineer\", \"engineer\", \"engineer\", \"engineering\", \"engineering\", \"engineering\", \"engineering\", \"engineering\", \"english\", \"english\", \"english\", \"english\", \"english\", \"english\", \"english\", \"english\", \"english\", \"english\", \"entertain\", \"entertainment\", \"entertainment\", \"entertainment\", \"entertainment\", \"entertainment\", \"environment\", \"environment\", \"environment\", \"environment\", \"environment\", \"environment\", \"environment\", \"environment\", \"environment\", \"environmental\", \"environmental\", \"environmental\", \"environmental\", \"environmental\", \"environmental\", \"environmental\", \"environmental\", \"equilibrium\", \"etc\", \"etc\", \"etc\", \"etc\", \"etc\", \"etc\", \"etc\", \"etc\", \"etc\", \"etc\", \"ethiopia\", \"ethnology\", \"ethnology\", \"europe\", \"europe\", \"europe\", \"europe\", \"europe\", \"europe\", \"europe\", \"europe\", \"europe\", \"european\", \"european\", \"european\", \"european\", \"european\", \"european\", \"european\", \"european\", \"european\", \"example\", \"example\", \"example\", \"example\", \"example\", \"example\", \"example\", \"example\", \"example\", \"example\", \"excavation\", \"extracellular\", \"fairy\", \"fairy\", \"fairy\", \"fairy\", \"faith\", \"faith\", \"family\", \"family\", \"family\", \"family\", \"family\", \"family\", \"family\", \"farnsworth\", \"fengter\", \"fern\", \"fern\", \"fertilized\", \"field\", \"field\", \"field\", \"field\", \"field\", \"field\", \"field\", \"field\", \"field\", \"field\", \"film\", \"film\", \"film\", \"film\", \"film\", \"fina\", \"firework\", \"first\", \"first\", \"first\", \"first\", \"first\", \"first\", \"first\", \"first\", \"first\", \"first\", \"fist\", \"fiveshaped\", \"fluid\", \"fluid\", \"folk\", \"folk\", \"folk\", \"folk\", \"folk\", \"folk\", \"forecast\", \"form\", \"form\", \"form\", \"form\", \"form\", \"form\", \"form\", \"form\", \"form\", \"form\", \"foshan\", \"fossil\", \"fossil\", \"fossil\", \"fossil\", \"fossil\", \"franklin\", \"freud\", \"freud\", \"freud\", \"fungi\", \"fungi\", \"fungi\", \"furnace\", \"furnace\", \"furnace\", \"game\", \"game\", \"game\", \"game\", \"game\", \"gene\", \"gene\", \"gene\", \"gene\", \"gene\", \"geographicists\", \"geography\", \"geography\", \"geography\", \"geography\", \"geography\", \"geography\", \"gloss\", \"god\", \"god\", \"god\", \"god\", \"god\", \"god\", \"government\", \"government\", \"government\", \"government\", \"government\", \"government\", \"government\", \"government\", \"government\", \"grammar\", \"grammar\", \"grammatical\", \"green\", \"green\", \"green\", \"green\", \"green\", \"green\", \"green\", \"green\", \"group\", \"group\", \"group\", \"group\", \"group\", \"group\", \"group\", \"group\", \"group\", \"group\", \"han\", \"han\", \"han\", \"han\", \"han\", \"han\", \"han\", \"han\", \"handwritten\", \"hardening\", \"hardness\", \"hardness\", \"hardness\", \"hardness\", \"hardware\", \"hardware\", \"hardware\", \"hardware\", \"helium\", \"highland\", \"historian\", \"historian\", \"historian\", \"historian\", \"historian\", \"historian\", \"historical\", \"historical\", \"historical\", \"historical\", \"historical\", \"historical\", \"historical\", \"historical\", \"historical\", \"historical\", \"history\", \"history\", \"history\", \"history\", \"history\", \"history\", \"history\", \"history\", \"history\", \"history\", \"huangdao\", \"human\", \"human\", \"human\", \"human\", \"human\", \"human\", \"human\", \"human\", \"human\", \"human\", \"humanity\", \"humanity\", \"humanity\", \"humanity\", \"humanity\", \"humanity\", \"humanity\", \"humanity\", \"humanology\", \"humanology\", \"hun\", \"husband\", \"image\", \"image\", \"image\", \"image\", \"image\", \"image\", \"image\", \"image\", \"incomplete\", \"incomplete\", \"individual\", \"individual\", \"individual\", \"individual\", \"individual\", \"individual\", \"individual\", \"individual\", \"industry\", \"industry\", \"industry\", \"industry\", \"industry\", \"industry\", \"industry\", \"industry\", \"industry\", \"infectious\", \"information\", \"information\", \"information\", \"information\", \"information\", \"information\", \"information\", \"information\", \"information\", \"information\", \"infringement\", \"infringing\", \"insect\", \"insect\", \"institutionalism\", \"institutionalism\", \"invertebrate\", \"io\", \"ion\", \"ion\", \"ion\", \"iron\", \"iron\", \"iron\", \"iron\", \"iron\", \"iron\", \"iron\", \"isotope\", \"isotope\", \"iupac\", \"journalist\", \"judge\", \"judge\", \"judge\", \"judge\", \"judge\", \"judge\", \"judge\", \"jurisprudence\", \"jurist\", \"kang\", \"key\", \"key\", \"key\", \"key\", \"key\", \"key\", \"key\", \"key\", \"key\", \"keynesian\", \"khan\", \"kidney\", \"kilometer\", \"kilometer\", \"known\", \"known\", \"known\", \"known\", \"known\", \"known\", \"known\", \"known\", \"known\", \"known\", \"kongde\", \"kumari\", \"kunqu\", \"labor\", \"labor\", \"labor\", \"labor\", \"labor\", \"labor\", \"labor\", \"labor\", \"lake\", \"lake\", \"lake\", \"language\", \"language\", \"language\", \"language\", \"language\", \"language\", \"language\", \"language\", \"language\", \"language\", \"larva\", \"law\", \"law\", \"law\", \"law\", \"law\", \"law\", \"law\", \"law\", \"law\", \"law\", \"leaf\", \"leaf\", \"leaf\", \"leaf\", \"leaf\", \"leaf\", \"legal\", \"legal\", \"legal\", \"legal\", \"legal\", \"legal\", \"legal\", \"legitimacy\", \"life\", \"life\", \"life\", \"life\", \"life\", \"life\", \"life\", \"life\", \"life\", \"life\", \"linguistics\", \"linguistics\", \"linguistics\", \"linguistics\", \"linguistics\", \"lip\", \"lipid\", \"literary\", \"literary\", \"literary\", \"literary\", \"literary\", \"literary\", \"literature\", \"literature\", \"literature\", \"literature\", \"literature\", \"literature\", \"literature\", \"literature\", \"literature\", \"literature\", \"liu\", \"liu\", \"liu\", \"liu\", \"liver\", \"longevity\", \"luster\", \"machinery\", \"machinery\", \"machinery\", \"machinery\", \"mahayana\", \"mammal\", \"mammal\", \"management\", \"management\", \"management\", \"management\", \"management\", \"management\", \"management\", \"manager\", \"manager\", \"many\", \"many\", \"many\", \"many\", \"many\", \"many\", \"many\", \"many\", \"many\", \"many\", \"map\", \"map\", \"map\", \"map\", \"map\", \"map\", \"map\", \"mapping\", \"mapping\", \"marginal\", \"marginal\", \"margulis\", \"market\", \"market\", \"market\", \"market\", \"market\", \"market\", \"market\", \"market\", \"marriage\", \"marriage\", \"marriage\", \"martial\", \"martial\", \"martial\", \"martial\", \"massage\", \"massage\", \"material\", \"material\", \"material\", \"material\", \"material\", \"material\", \"material\", \"material\", \"material\", \"material\", \"mathematical\", \"mathematical\", \"mathematical\", \"mathematical\", \"mathematical\", \"mathematical\", \"mathematician\", \"mathematician\", \"mathematician\", \"mathematics\", \"mathematics\", \"mathematics\", \"mathematics\", \"mathematics\", \"mathematics\", \"maximize\", \"may\", \"may\", \"may\", \"may\", \"may\", \"may\", \"may\", \"may\", \"may\", \"may\", \"meaning\", \"meaning\", \"meaning\", \"meaning\", \"meaning\", \"meaning\", \"meaning\", \"meaning\", \"meaning\", \"meaning\", \"mechanic\", \"mechanic\", \"mechanic\", \"mechanic\", \"mechanical\", \"mechanical\", \"mechanical\", \"mechanical\", \"mechanical\", \"mechanical\", \"medical\", \"medical\", \"medical\", \"medical\", \"medical\", \"medical\", \"medical\", \"medicine\", \"medicine\", \"medicine\", \"medicine\", \"medicine\", \"membrane\", \"membrane\", \"membrane\", \"mental\", \"mental\", \"mental\", \"mental\", \"mental\", \"mental\", \"mental\", \"message\", \"message\", \"message\", \"message\", \"metal\", \"metal\", \"metal\", \"metal\", \"metal\", \"metal\", \"metal\", \"metallurgy\", \"metallurgy\", \"metallurgy\", \"method\", \"method\", \"method\", \"method\", \"method\", \"method\", \"method\", \"method\", \"method\", \"method\", \"microeconomics\", \"microprocessor\", \"million\", \"million\", \"million\", \"million\", \"million\", \"million\", \"million\", \"million\", \"mine\", \"mine\", \"mine\", \"mine\", \"mine\", \"mineral\", \"mineral\", \"mineral\", \"mineral\", \"mineral\", \"mineral\", \"mining\", \"mining\", \"mining\", \"mining\", \"mining\", \"modern\", \"modern\", \"modern\", \"modern\", \"modern\", \"modern\", \"modern\", \"modern\", \"modern\", \"modern\", \"monk\", \"monk\", \"monk\", \"monk\", \"monk\", \"monsoon\", \"morpheme\", \"motor\", \"motor\", \"motor\", \"motor\", \"movie\", \"movie\", \"movie\", \"movie\", \"movie\", \"movie\", \"multicell\", \"multicell\", \"music\", \"music\", \"music\", \"music\", \"music\", \"music\", \"musician\", \"musician\", \"nanchuan\", \"national\", \"national\", \"national\", \"national\", \"national\", \"national\", \"national\", \"national\", \"national\", \"natural\", \"natural\", \"natural\", \"natural\", \"natural\", \"natural\", \"natural\", \"natural\", \"natural\", \"nature\", \"nature\", \"nature\", \"nature\", \"nature\", \"nature\", \"nature\", \"nature\", \"negligence\", \"nematode\", \"neoclassical\", \"neuropsychology\", \"neuroscience\", \"neuroscience\", \"neutron\", \"neutron\", \"new\", \"new\", \"new\", \"new\", \"new\", \"new\", \"new\", \"new\", \"new\", \"new\", \"news\", \"news\", \"news\", \"news\", \"news\", \"nirvana\", \"nonprofit\", \"north\", \"north\", \"north\", \"north\", \"north\", \"north\", \"north\", \"north\", \"northeast\", \"northeast\", \"northern\", \"northern\", \"northern\", \"northern\", \"northern\", \"northern\", \"northern\", \"northern\", \"novel\", \"novel\", \"novel\", \"number\", \"number\", \"number\", \"number\", \"number\", \"number\", \"number\", \"number\", \"number\", \"number\", \"observation\", \"observation\", \"observation\", \"observation\", \"observation\", \"observation\", \"observatory\", \"ocean\", \"ocean\", \"ocean\", \"ocean\", \"ocean\", \"ocean\", \"oceania\", \"oceania\", \"officialdom\", \"often\", \"often\", \"often\", \"often\", \"often\", \"often\", \"often\", \"often\", \"often\", \"often\", \"opera\", \"opera\", \"orchestra\", \"organism\", \"organism\", \"organism\", \"organism\", \"organism\", \"orthodontics\", \"outer\", \"outer\", \"outer\", \"outer\", \"outer\", \"outer\", \"ouyang\", \"painter\", \"painter\", \"painting\", \"painting\", \"painting\", \"painting\", \"painting\", \"part\", \"part\", \"part\", \"part\", \"part\", \"part\", \"part\", \"part\", \"part\", \"part\", \"particle\", \"particle\", \"particle\", \"particle\", \"particle\", \"password\", \"password\", \"patent\", \"patent\", \"patent\", \"pennsylvania\", \"people\", \"people\", \"people\", \"people\", \"people\", \"people\", \"people\", \"people\", \"people\", \"people\", \"performance\", \"performance\", \"performance\", \"performance\", \"performance\", \"performance\", \"performance\", \"pharmacology\", \"pharmacy\", \"pharmacy\", \"philadelphia\", \"philosophy\", \"philosophy\", \"philosophy\", \"philosophy\", \"philosophy\", \"philosophy\", \"philosophy\", \"phoneme\", \"photographic\", \"photographic\", \"photographic\", \"photography\", \"photography\", \"photography\", \"photography\", \"photography\", \"photography\", \"photosensitive\", \"photosynthesis\", \"photosynthesis\", \"phrase\", \"phrase\", \"phrase\", \"phrase\", \"physic\", \"physic\", \"physic\", \"physic\", \"physic\", \"physic\", \"physic\", \"piano\", \"pigment\", \"pigment\", \"pigment\", \"pigment\", \"pine\", \"plain\", \"plain\", \"plain\", \"plaintext\", \"planet\", \"planet\", \"planet\", \"planet\", \"plant\", \"plant\", \"plant\", \"plant\", \"plant\", \"plant\", \"plant\", \"plant\", \"plant\", \"plantae\", \"plateau\", \"plateau\", \"poem\", \"poem\", \"poet\", \"poet\", \"poet\", \"poet\", \"poetry\", \"poetry\", \"poetry\", \"political\", \"political\", \"political\", \"political\", \"political\", \"political\", \"politicalists\", \"politics\", \"politics\", \"politics\", \"politics\", \"politics\", \"politics\", \"pollutant\", \"porous\", \"power\", \"power\", \"power\", \"power\", \"power\", \"power\", \"power\", \"power\", \"power\", \"power\", \"predicate\", \"prediction\", \"preventive\", \"prey\", \"price\", \"price\", \"price\", \"price\", \"price\", \"price\", \"price\", \"printed\", \"printed\", \"printing\", \"printing\", \"printing\", \"printing\", \"printing\", \"printing\", \"processing\", \"processing\", \"processing\", \"processing\", \"processing\", \"processing\", \"processing\", \"processing\", \"processor\", \"product\", \"product\", \"product\", \"product\", \"product\", \"product\", \"product\", \"product\", \"product\", \"product\", \"production\", \"production\", \"production\", \"production\", \"production\", \"production\", \"production\", \"production\", \"production\", \"production\", \"project\", \"project\", \"project\", \"project\", \"project\", \"project\", \"project\", \"project\", \"prokaryotic\", \"prose\", \"psychological\", \"psychological\", \"psychological\", \"psychological\", \"psychological\", \"psychological\", \"psychologist\", \"psychologist\", \"psychologist\", \"psychologist\", \"psychology\", \"psychology\", \"psychology\", \"psychology\", \"psychology\", \"psychotherapy\", \"public\", \"public\", \"public\", \"public\", \"public\", \"public\", \"public\", \"public\", \"public\", \"public\", \"punch\", \"punch\", \"punch\", \"qin\", \"qin\", \"qin\", \"qin\", \"qin\", \"qu\", \"quantum\", \"quantum\", \"quantum\", \"quantum\", \"quantum\", \"quilt\", \"radiation\", \"radiation\", \"radiation\", \"radiation\", \"radiation\", \"rca\", \"receiver\", \"receiver\", \"reincarnation\", \"related\", \"related\", \"related\", \"related\", \"related\", \"related\", \"related\", \"related\", \"related\", \"related\", \"relation\", \"relation\", \"relation\", \"relation\", \"relation\", \"relativism\", \"relativity\", \"religion\", \"religion\", \"religion\", \"religion\", \"religion\", \"religion\", \"religious\", \"religious\", \"religious\", \"religious\", \"religious\", \"religious\", \"religious\", \"religious\", \"religious\", \"rendering\", \"rendering\", \"reporter\", \"reporter\", \"reproductive\", \"reproductive\", \"reproductive\", \"research\", \"research\", \"research\", \"research\", \"research\", \"research\", \"research\", \"research\", \"research\", \"right\", \"right\", \"right\", \"right\", \"right\", \"right\", \"right\", \"right\", \"right\", \"right\", \"river\", \"river\", \"river\", \"river\", \"river\", \"river\", \"river\", \"river\", \"root\", \"root\", \"root\", \"root\", \"root\", \"rousseau\", \"routine\", \"routine\", \"rsa\", \"safety\", \"safety\", \"safety\", \"safety\", \"safety\", \"safety\", \"safety\", \"safety\", \"sakyamuni\", \"scan\", \"schram\", \"science\", \"science\", \"science\", \"science\", \"science\", \"science\", \"science\", \"science\", \"science\", \"science\", \"scientific\", \"scientific\", \"scientific\", \"scientific\", \"scientific\", \"scientific\", \"scientific\", \"sculpture\", \"sculpture\", \"sculpture\", \"security\", \"security\", \"security\", \"security\", \"security\", \"security\", \"seed\", \"seed\", \"seed\", \"seed\", \"seed\", \"semantic\", \"sentence\", \"sentence\", \"sentence\", \"sexual\", \"sexual\", \"sexual\", \"sexual\", \"sexual\", \"sexual\", \"shaman\", \"shaolin\", \"shaolin\", \"shareholder\", \"siberia\", \"sigmund\", \"signal\", \"signal\", \"signature\", \"signature\", \"silicate\", \"simulate\", \"singing\", \"singing\", \"singing\", \"smelting\", \"smelting\", \"social\", \"social\", \"social\", \"social\", \"social\", \"social\", \"social\", \"social\", \"social\", \"society\", \"society\", \"society\", \"society\", \"society\", \"society\", \"society\", \"society\", \"sociological\", \"sociological\", \"sociological\", \"sociologist\", \"sociologist\", \"sociologist\", \"sociology\", \"sociology\", \"sociology\", \"sociology\", \"software\", \"software\", \"software\", \"software\", \"software\", \"soil\", \"soil\", \"soil\", \"soil\", \"soil\", \"soil\", \"solin\", \"song\", \"song\", \"song\", \"song\", \"song\", \"song\", \"song\", \"song\", \"song\", \"south\", \"south\", \"south\", \"south\", \"south\", \"south\", \"space\", \"space\", \"space\", \"space\", \"space\", \"space\", \"space\", \"space\", \"space\", \"space\", \"specie\", \"specie\", \"specie\", \"specie\", \"specie\", \"specie\", \"specie\", \"speech\", \"speech\", \"speech\", \"speech\", \"speech\", \"spider\", \"spleen\", \"spoken\", \"spoken\", \"sponge\", \"spore\", \"sport\", \"sport\", \"sport\", \"sport\", \"sport\", \"sport\", \"sport\", \"sport\", \"sport\", \"sport\", \"stadium\", \"stakeholder\", \"star\", \"star\", \"star\", \"star\", \"starry\", \"starry\", \"state\", \"state\", \"state\", \"state\", \"state\", \"state\", \"state\", \"state\", \"state\", \"state\", \"steam\", \"steam\", \"steam\", \"steam\", \"still\", \"still\", \"still\", \"still\", \"still\", \"still\", \"still\", \"still\", \"still\", \"still\", \"story\", \"story\", \"story\", \"story\", \"story\", \"story\", \"story\", \"study\", \"study\", \"study\", \"study\", \"study\", \"study\", \"study\", \"study\", \"study\", \"study\", \"su\", \"su\", \"substance\", \"substance\", \"substance\", \"substance\", \"substance\", \"substance\", \"substance\", \"sulfate\", \"supply\", \"supply\", \"supply\", \"supply\", \"supply\", \"surface\", \"surface\", \"surface\", \"surface\", \"surface\", \"surface\", \"surface\", \"surveying\", \"symmetrical\", \"symmetrical\", \"symmetrical\", \"symptom\", \"symptom\", \"syntax\", \"system\", \"system\", \"system\", \"system\", \"system\", \"system\", \"system\", \"system\", \"system\", \"system\", \"tableclade\", \"taijiquan\", \"tang\", \"tang\", \"tang\", \"tang\", \"tang\", \"tang\", \"tang\", \"taoism\", \"taoism\", \"taoist\", \"taoist\", \"technology\", \"technology\", \"technology\", \"technology\", \"technology\", \"technology\", \"technology\", \"technology\", \"technology\", \"television\", \"television\", \"television\", \"temperate\", \"temperate\", \"temperate\", \"temple\", \"temple\", \"temple\", \"temple\", \"temple\", \"theater\", \"theater\", \"theater\", \"theater\", \"theorem\", \"theorem\", \"theory\", \"theory\", \"theory\", \"theory\", \"theory\", \"theory\", \"theory\", \"theory\", \"theory\", \"theory\", \"thinwalled\", \"three\", \"three\", \"three\", \"three\", \"three\", \"three\", \"three\", \"three\", \"three\", \"three\", \"tibetan\", \"tibetan\", \"tibetan\", \"tibetan\", \"tibetan\", \"time\", \"time\", \"time\", \"time\", \"time\", \"time\", \"time\", \"time\", \"time\", \"time\", \"tissue\", \"tissue\", \"tissue\", \"tissue\", \"tissue\", \"ton\", \"ton\", \"tourism\", \"tourism\", \"tourism\", \"toy\", \"transmission\", \"transmission\", \"transmission\", \"transmission\", \"transmission\", \"transmission\", \"transmission\", \"transmission\", \"transmitting\", \"treatment\", \"treatment\", \"treatment\", \"treatment\", \"treatment\", \"tropical\", \"tropical\", \"tropical\", \"tropical\", \"trustee\", \"tube\", \"tube\", \"tube\", \"tube\", \"tube\", \"tube\", \"tube\", \"tuning\", \"tuzong\", \"tv\", \"tv\", \"tv\", \"twentyeighth\", \"twentyeighth\", \"uncertainty\", \"unemployment\", \"universe\", \"universe\", \"universe\", \"universe\", \"universe\", \"universe\", \"university\", \"university\", \"university\", \"university\", \"university\", \"university\", \"university\", \"university\", \"university\", \"urban\", \"urban\", \"urban\", \"urban\", \"urban\", \"urban\", \"use\", \"use\", \"use\", \"use\", \"use\", \"use\", \"use\", \"use\", \"use\", \"use\", \"used\", \"used\", \"used\", \"used\", \"used\", \"used\", \"used\", \"used\", \"used\", \"used\", \"variable\", \"variable\", \"variable\", \"variable\", \"vascular\", \"verb\", \"vertebrate\", \"veterinary\", \"viewer\", \"volcano\", \"vowel\", \"wang\", \"wang\", \"wang\", \"wang\", \"wang\", \"wang\", \"wang\", \"war\", \"war\", \"war\", \"war\", \"war\", \"war\", \"war\", \"war\", \"war\", \"war\", \"water\", \"water\", \"water\", \"water\", \"water\", \"water\", \"water\", \"water\", \"water\", \"wear\", \"wear\", \"wei\", \"wei\", \"wei\", \"wei\", \"wei\", \"west\", \"west\", \"west\", \"west\", \"west\", \"west\", \"west\", \"west\", \"west\", \"western\", \"western\", \"western\", \"western\", \"western\", \"western\", \"western\", \"western\", \"western\", \"western\", \"wife\", \"wife\", \"wife\", \"wife\", \"wikipedia\", \"wilderness\", \"wilderness\", \"wilderness\", \"wireless\", \"wireless\", \"word\", \"word\", \"word\", \"word\", \"word\", \"word\", \"word\", \"word\", \"word\", \"word\", \"work\", \"work\", \"work\", \"work\", \"work\", \"work\", \"work\", \"work\", \"work\", \"work\", \"world\", \"world\", \"world\", \"world\", \"world\", \"world\", \"world\", \"world\", \"world\", \"world\", \"wrestling\", \"writer\", \"writer\", \"writer\", \"writer\", \"writer\", \"writer\", \"year\", \"year\", \"year\", \"year\", \"year\", \"year\", \"year\", \"year\", \"year\", \"year\", \"yu\", \"yu\", \"yu\", \"yuan\", \"yuan\", \"yuan\", \"yuan\", \"yuan\", \"yuan\", \"yuan\", \"yuefu\", \"zen\", \"zen\", \"zen\", \"zhou\", \"zhou\", \"zhou\", \"zhou\", \"zhou\", \"zhou\", \"zhou\", \"\\u00b7\", \"\\u00b7\", \"\\u00b7\", \"\\u00b7\", \"\\u00b7\", \"\\u00b7\", \"\\u03b1\", \"\\u03b1\", \"\\u03b1\", \"\\u304b\", \"\\u4e4b\", \"\\u4e9a\", \"\\u50cf\", \"\\u5230\", \"\\u5236\", \"\\u5dfd\", \"\\u5e0c\", \"\\u603b\", \"\\u622a\", \"\\u624b\", \"\\u66f2\", \"\\u6809\", \"\\u6b7b\", \"\\u6df1\", \"\\u76f4\", \"\\u8033\", \"\\u89dd\", \"\\u951d\", \"\\u9650\"]}, \"R\": 30, \"lambda.step\": 0.01, \"plot.opts\": {\"xlab\": \"PC1\", \"ylab\": \"PC2\"}, \"topic.order\": [9, 3, 10, 4, 8, 2, 6, 7, 1, 5]};\n",
       "\n",
       "function LDAvis_load_lib(url, callback){\n",
       "  var s = document.createElement('script');\n",
       "  s.src = url;\n",
       "  s.async = true;\n",
       "  s.onreadystatechange = s.onload = callback;\n",
       "  s.onerror = function(){console.warn(\"failed to load library \" + url);};\n",
       "  document.getElementsByTagName(\"head\")[0].appendChild(s);\n",
       "}\n",
       "\n",
       "if(typeof(LDAvis) !== \"undefined\"){\n",
       "   // already loaded: just create the visualization\n",
       "   !function(LDAvis){\n",
       "       new LDAvis(\"#\" + \"ldavis_el2090418647515506641562494285\", ldavis_el2090418647515506641562494285_data);\n",
       "   }(LDAvis);\n",
       "}else if(typeof define === \"function\" && define.amd){\n",
       "   // require.js is available: use it to load d3/LDAvis\n",
       "   require.config({paths: {d3: \"https://d3js.org/d3.v5\"}});\n",
       "   require([\"d3\"], function(d3){\n",
       "      window.d3 = d3;\n",
       "      LDAvis_load_lib(\"https://cdn.jsdelivr.net/gh/bmabey/pyLDAvis@3.3.1/pyLDAvis/js/ldavis.v3.0.0.js\", function(){\n",
       "        new LDAvis(\"#\" + \"ldavis_el2090418647515506641562494285\", ldavis_el2090418647515506641562494285_data);\n",
       "      });\n",
       "    });\n",
       "}else{\n",
       "    // require.js not available: dynamically load d3 & LDAvis\n",
       "    LDAvis_load_lib(\"https://d3js.org/d3.v5.js\", function(){\n",
       "         LDAvis_load_lib(\"https://cdn.jsdelivr.net/gh/bmabey/pyLDAvis@3.3.1/pyLDAvis/js/ldavis.v3.0.0.js\", function(){\n",
       "                 new LDAvis(\"#\" + \"ldavis_el2090418647515506641562494285\", ldavis_el2090418647515506641562494285_data);\n",
       "            })\n",
       "         });\n",
       "}\n",
       "</script>"
      ],
      "text/plain": [
       "<IPython.core.display.HTML object>"
      ]
     },
     "execution_count": 56,
     "metadata": {},
     "output_type": "execute_result"
    }
   ],
   "source": [
    "vis_data = gensimvis.prepare(ldamodel, doc_term_matrix, dictionary)\n",
    "pyLDAvis.display(vis_data)"
   ]
  },
  {
   "cell_type": "markdown",
   "metadata": {},
   "source": [
    "##### worked anyway?  .. then it worked"
   ]
  },
  {
   "cell_type": "code",
   "execution_count": 57,
   "metadata": {},
   "outputs": [],
   "source": [
    "pyLDAvis.save_html(vis_data, r'C:\\Users\\Owner\\nssds4\\atlas\\data\\ch_topic_model.html')"
   ]
  },
  {
   "cell_type": "code",
   "execution_count": 38,
   "metadata": {},
   "outputs": [],
   "source": [
    "d = gensim.corpora.Dictionary.load('dictionary.dict')\n",
    "c = gensim.corpora.MmCorpus('corpus.mm')\n",
    "lda = gensim.models.LdaModel.load('topic.model')"
   ]
  },
  {
   "cell_type": "markdown",
   "metadata": {},
   "source": [
    "###### then, pip install pyLDAvis==2.1.2 or not"
   ]
  },
  {
   "cell_type": "code",
   "execution_count": 39,
   "metadata": {},
   "outputs": [],
   "source": [
    "import gensim\n",
    "from gensim import corpora"
   ]
  },
  {
   "cell_type": "markdown",
   "metadata": {},
   "source": [
    "##### after got to end, came back and ran this again\n",
    "The truth value of an array with more than one element is ambiguous. Use a.any() or a.all()\n",
    "--> 232         use_numexpr = use_numexpr and _bool_arith_check(op_str, a, b)\n",
    "    233         if use_numexpr:\n",
    "    234             # error: \"None\" not callable"
   ]
  },
  {
   "cell_type": "markdown",
   "metadata": {},
   "source": [
    "#Train LDA model.\n",
    "from gensim.models import LdaModel\n",
    "\n",
    "#Set training parameters.\n",
    "num_topics = 10\n",
    "chunksize = 2000\n",
    "passes = 20\n",
    "iterations = 400\n",
    "eval_every = None  # Don't evaluate model perplexity, takes too much time.\n",
    "\n",
    "#Make a index to word dictionary.\n",
    "temp = dictionary[0]  # This is only to \"load\" the dictionary.\n",
    "id2word = dictionary.id2token\n",
    "\n",
    "model = LdaModel(\n",
    "    corpus=corpus,\n",
    "    id2word=id2word,\n",
    "    chunksize=chunksize,\n",
    "    alpha='auto',\n",
    "    eta='auto',\n",
    "    iterations=iterations,\n",
    "    num_topics=num_topics,\n",
    "    passes=passes,\n",
    "    eval_every=eval_every\n",
    ")"
   ]
  },
  {
   "cell_type": "markdown",
   "metadata": {},
   "source": [
    "# HERE"
   ]
  },
  {
   "cell_type": "code",
   "execution_count": null,
   "metadata": {},
   "outputs": [],
   "source": []
  },
  {
   "cell_type": "code",
   "execution_count": 40,
   "metadata": {},
   "outputs": [
    {
     "ename": "AttributeError",
     "evalue": "module 'pyLDAvis' has no attribute 'gensim'",
     "output_type": "error",
     "traceback": [
      "\u001b[1;31m---------------------------------------------------------------------------\u001b[0m",
      "\u001b[1;31mAttributeError\u001b[0m                            Traceback (most recent call last)",
      "\u001b[1;32m<ipython-input-40-cd069bc4484f>\u001b[0m in \u001b[0;36m<module>\u001b[1;34m\u001b[0m\n\u001b[1;32m----> 1\u001b[1;33m \u001b[0marticles\u001b[0m \u001b[1;33m=\u001b[0m \u001b[0mpyLDAvis\u001b[0m\u001b[1;33m.\u001b[0m\u001b[0mgensim\u001b[0m\u001b[1;33m.\u001b[0m\u001b[0mprepare\u001b[0m\u001b[1;33m(\u001b[0m\u001b[0mlda\u001b[0m\u001b[1;33m,\u001b[0m \u001b[0mc\u001b[0m\u001b[1;33m,\u001b[0m \u001b[0md\u001b[0m\u001b[1;33m)\u001b[0m\u001b[1;33m\u001b[0m\u001b[1;33m\u001b[0m\u001b[0m\n\u001b[0m\u001b[0;32m      2\u001b[0m \u001b[0marticles\u001b[0m\u001b[1;33m\u001b[0m\u001b[1;33m\u001b[0m\u001b[0m\n",
      "\u001b[1;31mAttributeError\u001b[0m: module 'pyLDAvis' has no attribute 'gensim'"
     ]
    }
   ],
   "source": [
    "articles = pyLDAvis.gensim.prepare(lda, c, d)\n",
    "articles"
   ]
  },
  {
   "cell_type": "code",
   "execution_count": 41,
   "metadata": {
    "scrolled": true
   },
   "outputs": [
    {
     "ename": "AttributeError",
     "evalue": "module 'pyLDAvis' has no attribute 'gensim'",
     "output_type": "error",
     "traceback": [
      "\u001b[1;31m---------------------------------------------------------------------------\u001b[0m",
      "\u001b[1;31mAttributeError\u001b[0m                            Traceback (most recent call last)",
      "\u001b[1;32m<ipython-input-41-80207a193adb>\u001b[0m in \u001b[0;36m<module>\u001b[1;34m\u001b[0m\n\u001b[1;32m----> 1\u001b[1;33m \u001b[0marticles\u001b[0m \u001b[1;33m=\u001b[0m \u001b[0mpyLDAvis\u001b[0m\u001b[1;33m.\u001b[0m\u001b[0mgensim\u001b[0m\u001b[1;33m.\u001b[0m\u001b[0mprepare\u001b[0m\u001b[1;33m(\u001b[0m\u001b[0moptimal_model\u001b[0m\u001b[1;33m,\u001b[0m \u001b[0mcorpus\u001b[0m\u001b[1;33m,\u001b[0m \u001b[0mid2word\u001b[0m\u001b[1;33m)\u001b[0m\u001b[1;33m\u001b[0m\u001b[1;33m\u001b[0m\u001b[0m\n\u001b[0m\u001b[0;32m      2\u001b[0m \u001b[0marticles\u001b[0m\u001b[1;33m\u001b[0m\u001b[1;33m\u001b[0m\u001b[0m\n",
      "\u001b[1;31mAttributeError\u001b[0m: module 'pyLDAvis' has no attribute 'gensim'"
     ]
    }
   ],
   "source": [
    "articles = pyLDAvis.gensim.prepare(optimal_model, corpus, id2word)\n",
    "articles"
   ]
  },
  {
   "cell_type": "code",
   "execution_count": 42,
   "metadata": {},
   "outputs": [
    {
     "ename": "AttributeError",
     "evalue": "module 'pyLDAvis' has no attribute 'gensim'",
     "output_type": "error",
     "traceback": [
      "\u001b[1;31m---------------------------------------------------------------------------\u001b[0m",
      "\u001b[1;31mAttributeError\u001b[0m                            Traceback (most recent call last)",
      "\u001b[1;32m<ipython-input-42-722e1628978e>\u001b[0m in \u001b[0;36m<module>\u001b[1;34m\u001b[0m\n\u001b[0;32m      1\u001b[0m \u001b[0mpyLDAvis\u001b[0m\u001b[1;33m.\u001b[0m\u001b[0menable_notebook\u001b[0m\u001b[1;33m(\u001b[0m\u001b[1;33m)\u001b[0m\u001b[1;33m\u001b[0m\u001b[1;33m\u001b[0m\u001b[0m\n\u001b[1;32m----> 2\u001b[1;33m \u001b[0marticles\u001b[0m \u001b[1;33m=\u001b[0m \u001b[0mpyLDAvis\u001b[0m\u001b[1;33m.\u001b[0m\u001b[0mgensim\u001b[0m\u001b[1;33m.\u001b[0m\u001b[0mprepare\u001b[0m\u001b[1;33m(\u001b[0m\u001b[0mlda\u001b[0m\u001b[1;33m,\u001b[0m \u001b[0mc\u001b[0m\u001b[1;33m,\u001b[0m \u001b[0md\u001b[0m\u001b[1;33m)\u001b[0m\u001b[1;33m\u001b[0m\u001b[1;33m\u001b[0m\u001b[0m\n\u001b[0m\u001b[0;32m      3\u001b[0m \u001b[0marticles\u001b[0m\u001b[1;33m\u001b[0m\u001b[1;33m\u001b[0m\u001b[0m\n",
      "\u001b[1;31mAttributeError\u001b[0m: module 'pyLDAvis' has no attribute 'gensim'"
     ]
    }
   ],
   "source": [
    "pyLDAvis.enable_notebook()\n",
    "articles = pyLDAvis.gensim.prepare(lda, c, d)\n",
    "articles"
   ]
  },
  {
   "cell_type": "code",
   "execution_count": 43,
   "metadata": {},
   "outputs": [
    {
     "ename": "ImportError",
     "evalue": "cannot import name 'gensim' from 'pyLDAvis' (C:\\Users\\Owner\\Anaconda3\\lib\\site-packages\\pyLDAvis\\__init__.py)",
     "output_type": "error",
     "traceback": [
      "\u001b[1;31m---------------------------------------------------------------------------\u001b[0m",
      "\u001b[1;31mImportError\u001b[0m                               Traceback (most recent call last)",
      "\u001b[1;32m<ipython-input-43-bf0412f0efe0>\u001b[0m in \u001b[0;36m<module>\u001b[1;34m\u001b[0m\n\u001b[1;32m----> 1\u001b[1;33m \u001b[1;32mfrom\u001b[0m \u001b[0mpyLDAvis\u001b[0m \u001b[1;32mimport\u001b[0m \u001b[0mgensim\u001b[0m\u001b[1;33m\u001b[0m\u001b[1;33m\u001b[0m\u001b[0m\n\u001b[0m",
      "\u001b[1;31mImportError\u001b[0m: cannot import name 'gensim' from 'pyLDAvis' (C:\\Users\\Owner\\Anaconda3\\lib\\site-packages\\pyLDAvis\\__init__.py)"
     ]
    }
   ],
   "source": [
    "from pyLDAvis import gensim"
   ]
  },
  {
   "cell_type": "markdown",
   "metadata": {},
   "source": [
    "###### worked anyway??"
   ]
  },
  {
   "cell_type": "code",
   "execution_count": 44,
   "metadata": {},
   "outputs": [],
   "source": [
    "pyLDAvis.save_html(articles,'vis.html')"
   ]
  },
  {
   "cell_type": "code",
   "execution_count": 45,
   "metadata": {},
   "outputs": [
    {
     "ename": "NameError",
     "evalue": "name 'HTML' is not defined",
     "output_type": "error",
     "traceback": [
      "\u001b[1;31m---------------------------------------------------------------------------\u001b[0m",
      "\u001b[1;31mNameError\u001b[0m                                 Traceback (most recent call last)",
      "\u001b[1;32m<ipython-input-45-8462c094cf80>\u001b[0m in \u001b[0;36m<module>\u001b[1;34m\u001b[0m\n\u001b[1;32m----> 1\u001b[1;33m \u001b[0mdisplay\u001b[0m\u001b[1;33m(\u001b[0m\u001b[0mHTML\u001b[0m\u001b[1;33m(\u001b[0m\u001b[0mfilename\u001b[0m \u001b[1;33m=\u001b[0m \u001b[1;34m'vis.html'\u001b[0m\u001b[1;33m)\u001b[0m\u001b[1;33m)\u001b[0m\u001b[1;33m\u001b[0m\u001b[1;33m\u001b[0m\u001b[0m\n\u001b[0m",
      "\u001b[1;31mNameError\u001b[0m: name 'HTML' is not defined"
     ]
    }
   ],
   "source": [
    "display(HTML(filename = 'vis.html'))"
   ]
  },
  {
   "cell_type": "code",
   "execution_count": 46,
   "metadata": {},
   "outputs": [],
   "source": [
    "import codecs\n",
    "import webbrowser"
   ]
  },
  {
   "cell_type": "code",
   "execution_count": 47,
   "metadata": {},
   "outputs": [
    {
     "data": {
      "text/plain": [
       "True"
      ]
     },
     "execution_count": 47,
     "metadata": {},
     "output_type": "execute_result"
    }
   ],
   "source": [
    "webbrowser.open('vis.html')"
   ]
  },
  {
   "cell_type": "markdown",
   "metadata": {},
   "source": [
    "trying with pyLDAvis.enable_ntebook(local=True) worked for me - some forum"
   ]
  },
  {
   "cell_type": "code",
   "execution_count": null,
   "metadata": {},
   "outputs": [],
   "source": []
  }
 ],
 "metadata": {
  "kernelspec": {
   "display_name": "Python 3",
   "language": "python",
   "name": "python3"
  },
  "language_info": {
   "codemirror_mode": {
    "name": "ipython",
    "version": 3
   },
   "file_extension": ".py",
   "mimetype": "text/x-python",
   "name": "python",
   "nbconvert_exporter": "python",
   "pygments_lexer": "ipython3",
   "version": "3.7.4"
  }
 },
 "nbformat": 4,
 "nbformat_minor": 2
}
