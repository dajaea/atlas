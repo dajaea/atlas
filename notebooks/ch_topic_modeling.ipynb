{
 "cells": [
  {
   "cell_type": "markdown",
   "metadata": {},
   "source": [
    "from helper import *"
   ]
  },
  {
   "cell_type": "code",
   "execution_count": 1,
   "metadata": {},
   "outputs": [],
   "source": [
    "import warnings"
   ]
  },
  {
   "cell_type": "code",
   "execution_count": 2,
   "metadata": {},
   "outputs": [],
   "source": [
    "warnings.filterwarnings('ignore')"
   ]
  },
  {
   "cell_type": "code",
   "execution_count": 3,
   "metadata": {
    "collapsed": true
   },
   "outputs": [
    {
     "name": "stderr",
     "output_type": "stream",
     "text": [
      "C:\\Users\\Owner\\Anaconda3\\lib\\site-packages\\sklearn\\feature_extraction\\image.py:167: DeprecationWarning: `np.int` is a deprecated alias for the builtin `int`. To silence this warning, use `int` by itself. Doing this will not modify any behavior and is safe. When replacing `np.int`, you may wish to use e.g. `np.int64` or `np.int32` to specify the precision. If you wish to review your current use, check the release note link for additional information.\n",
      "Deprecated in NumPy 1.20; for more details and guidance: https://numpy.org/devdocs/release/1.20.0-notes.html#deprecations\n",
      "  dtype=np.int):\n",
      "C:\\Users\\Owner\\Anaconda3\\lib\\site-packages\\sklearn\\linear_model\\least_angle.py:30: DeprecationWarning: `np.float` is a deprecated alias for the builtin `float`. To silence this warning, use `float` by itself. Doing this will not modify any behavior and is safe. If you specifically wanted the numpy scalar type, use `np.float64` here.\n",
      "Deprecated in NumPy 1.20; for more details and guidance: https://numpy.org/devdocs/release/1.20.0-notes.html#deprecations\n",
      "  method='lar', copy_X=True, eps=np.finfo(np.float).eps,\n",
      "C:\\Users\\Owner\\Anaconda3\\lib\\site-packages\\sklearn\\linear_model\\least_angle.py:167: DeprecationWarning: `np.float` is a deprecated alias for the builtin `float`. To silence this warning, use `float` by itself. Doing this will not modify any behavior and is safe. If you specifically wanted the numpy scalar type, use `np.float64` here.\n",
      "Deprecated in NumPy 1.20; for more details and guidance: https://numpy.org/devdocs/release/1.20.0-notes.html#deprecations\n",
      "  method='lar', copy_X=True, eps=np.finfo(np.float).eps,\n",
      "C:\\Users\\Owner\\Anaconda3\\lib\\site-packages\\sklearn\\linear_model\\least_angle.py:284: DeprecationWarning: `np.float` is a deprecated alias for the builtin `float`. To silence this warning, use `float` by itself. Doing this will not modify any behavior and is safe. If you specifically wanted the numpy scalar type, use `np.float64` here.\n",
      "Deprecated in NumPy 1.20; for more details and guidance: https://numpy.org/devdocs/release/1.20.0-notes.html#deprecations\n",
      "  eps=np.finfo(np.float).eps, copy_Gram=True, verbose=0,\n",
      "C:\\Users\\Owner\\Anaconda3\\lib\\site-packages\\sklearn\\linear_model\\least_angle.py:862: DeprecationWarning: `np.float` is a deprecated alias for the builtin `float`. To silence this warning, use `float` by itself. Doing this will not modify any behavior and is safe. If you specifically wanted the numpy scalar type, use `np.float64` here.\n",
      "Deprecated in NumPy 1.20; for more details and guidance: https://numpy.org/devdocs/release/1.20.0-notes.html#deprecations\n",
      "  eps=np.finfo(np.float).eps, copy_X=True, fit_path=True,\n",
      "C:\\Users\\Owner\\Anaconda3\\lib\\site-packages\\sklearn\\linear_model\\least_angle.py:1101: DeprecationWarning: `np.float` is a deprecated alias for the builtin `float`. To silence this warning, use `float` by itself. Doing this will not modify any behavior and is safe. If you specifically wanted the numpy scalar type, use `np.float64` here.\n",
      "Deprecated in NumPy 1.20; for more details and guidance: https://numpy.org/devdocs/release/1.20.0-notes.html#deprecations\n",
      "  eps=np.finfo(np.float).eps, copy_X=True, fit_path=True,\n",
      "C:\\Users\\Owner\\Anaconda3\\lib\\site-packages\\sklearn\\linear_model\\least_angle.py:1127: DeprecationWarning: `np.float` is a deprecated alias for the builtin `float`. To silence this warning, use `float` by itself. Doing this will not modify any behavior and is safe. If you specifically wanted the numpy scalar type, use `np.float64` here.\n",
      "Deprecated in NumPy 1.20; for more details and guidance: https://numpy.org/devdocs/release/1.20.0-notes.html#deprecations\n",
      "  eps=np.finfo(np.float).eps, positive=False):\n",
      "C:\\Users\\Owner\\Anaconda3\\lib\\site-packages\\sklearn\\linear_model\\least_angle.py:1362: DeprecationWarning: `np.float` is a deprecated alias for the builtin `float`. To silence this warning, use `float` by itself. Doing this will not modify any behavior and is safe. If you specifically wanted the numpy scalar type, use `np.float64` here.\n",
      "Deprecated in NumPy 1.20; for more details and guidance: https://numpy.org/devdocs/release/1.20.0-notes.html#deprecations\n",
      "  max_n_alphas=1000, n_jobs=None, eps=np.finfo(np.float).eps,\n",
      "C:\\Users\\Owner\\Anaconda3\\lib\\site-packages\\sklearn\\linear_model\\least_angle.py:1602: DeprecationWarning: `np.float` is a deprecated alias for the builtin `float`. To silence this warning, use `float` by itself. Doing this will not modify any behavior and is safe. If you specifically wanted the numpy scalar type, use `np.float64` here.\n",
      "Deprecated in NumPy 1.20; for more details and guidance: https://numpy.org/devdocs/release/1.20.0-notes.html#deprecations\n",
      "  max_n_alphas=1000, n_jobs=None, eps=np.finfo(np.float).eps,\n",
      "C:\\Users\\Owner\\Anaconda3\\lib\\site-packages\\sklearn\\linear_model\\least_angle.py:1738: DeprecationWarning: `np.float` is a deprecated alias for the builtin `float`. To silence this warning, use `float` by itself. Doing this will not modify any behavior and is safe. If you specifically wanted the numpy scalar type, use `np.float64` here.\n",
      "Deprecated in NumPy 1.20; for more details and guidance: https://numpy.org/devdocs/release/1.20.0-notes.html#deprecations\n",
      "  eps=np.finfo(np.float).eps, copy_X=True, positive=False):\n",
      "[nltk_data] Downloading package stopwords to\n",
      "[nltk_data]     C:\\Users\\Owner\\AppData\\Roaming\\nltk_data...\n",
      "[nltk_data]   Package stopwords is already up-to-date!\n",
      "[nltk_data] Downloading package wordnet to\n",
      "[nltk_data]     C:\\Users\\Owner\\AppData\\Roaming\\nltk_data...\n",
      "[nltk_data]   Package wordnet is already up-to-date!\n"
     ]
    },
    {
     "data": {
      "text/plain": [
       "True"
      ]
     },
     "execution_count": 3,
     "metadata": {},
     "output_type": "execute_result"
    }
   ],
   "source": [
    "import nltk\n",
    "nltk.download('stopwords')\n",
    "nltk.download('wordnet')"
   ]
  },
  {
   "cell_type": "code",
   "execution_count": 6,
   "metadata": {},
   "outputs": [],
   "source": [
    "from nltk.corpus import stopwords \n",
    "from nltk.stem.wordnet import WordNetLemmatizer\n",
    "import string\n",
    "\n",
    "stopwords = set(stopwords.words('english'))\n",
    "punctuation = set(string.punctuation) \n",
    "lemmatize = WordNetLemmatizer()\n",
    "\n",
    "def cleaning(article):\n",
    "    one = \" \".join([i for i in article.lower().split() if i not in stopwords])\n",
    "    two = \"\".join(i for i in one if i not in punctuation)\n",
    "    three = \" \".join(lemmatize.lemmatize(i) for i in two.split())\n",
    "    return three"
   ]
  },
  {
   "cell_type": "code",
   "execution_count": 7,
   "metadata": {},
   "outputs": [],
   "source": [
    "import pandas as pd\n",
    "import numpy as np\n",
    "import re\n",
    "import json\n",
    "import glob"
   ]
  },
  {
   "cell_type": "code",
   "execution_count": 8,
   "metadata": {},
   "outputs": [],
   "source": [
    "folder = (glob.glob('../data/chinese_topic_full_content/*'))"
   ]
  },
  {
   "cell_type": "code",
   "execution_count": 9,
   "metadata": {},
   "outputs": [],
   "source": [
    "article_list = []\n",
    "for file in folder:\n",
    "    with open(file, 'r') as f:\n",
    "        article = json.load(f)\n",
    "    article_list.append(article)"
   ]
  },
  {
   "cell_type": "code",
   "execution_count": 10,
   "metadata": {},
   "outputs": [
    {
     "name": "stdout",
     "output_type": "stream",
     "text": [
      "<class 'pandas.core.frame.DataFrame'>\n",
      "RangeIndex: 145 entries, 0 to 144\n",
      "Data columns (total 2 columns):\n",
      " #   Column         Non-Null Count  Dtype \n",
      "---  ------         --------------  ----- \n",
      " 0   chinese_title  145 non-null    object\n",
      " 1   chinese        145 non-null    object\n",
      "dtypes: object(2)\n",
      "memory usage: 2.4+ KB\n"
     ]
    }
   ],
   "source": [
    "articles = pd.DataFrame(article_list).replace(r'^\\s*$', np.nan, regex = True)\n",
    "articles.info()\n",
    "\n",
    "#ignore error - dataframe still runs"
   ]
  },
  {
   "cell_type": "code",
   "execution_count": 11,
   "metadata": {},
   "outputs": [],
   "source": [
    "articles = articles.dropna()"
   ]
  },
  {
   "cell_type": "code",
   "execution_count": 12,
   "metadata": {},
   "outputs": [
    {
     "data": {
      "text/html": [
       "<div>\n",
       "<style scoped>\n",
       "    .dataframe tbody tr th:only-of-type {\n",
       "        vertical-align: middle;\n",
       "    }\n",
       "\n",
       "    .dataframe tbody tr th {\n",
       "        vertical-align: top;\n",
       "    }\n",
       "\n",
       "    .dataframe thead th {\n",
       "        text-align: right;\n",
       "    }\n",
       "</style>\n",
       "<table border=\"1\" class=\"dataframe\">\n",
       "  <thead>\n",
       "    <tr style=\"text-align: right;\">\n",
       "      <th></th>\n",
       "      <th>chinese_title</th>\n",
       "      <th>chinese</th>\n",
       "    </tr>\n",
       "  </thead>\n",
       "  <tbody>\n",
       "    <tr>\n",
       "      <th>0</th>\n",
       "      <td>Aerospace</td>\n",
       "      <td>Aerospace is the general name of the activitie...</td>\n",
       "    </tr>\n",
       "    <tr>\n",
       "      <th>1</th>\n",
       "      <td>Africa</td>\n",
       "      <td>Afrifa [2] (Latin: Africa), referred to as Afr...</td>\n",
       "    </tr>\n",
       "    <tr>\n",
       "      <th>2</th>\n",
       "      <td>Agriculture</td>\n",
       "      <td>Agricultural, narrow, specializing in agronomi...</td>\n",
       "    </tr>\n",
       "    <tr>\n",
       "      <th>3</th>\n",
       "      <td>animal</td>\n",
       "      <td>Animals, or a Metazoan, a group of multi-cell ...</td>\n",
       "    </tr>\n",
       "    <tr>\n",
       "      <th>4</th>\n",
       "      <td>Animation</td>\n",
       "      <td>Animation (English: animation) is a visual res...</td>\n",
       "    </tr>\n",
       "    <tr>\n",
       "      <th>...</th>\n",
       "      <td>...</td>\n",
       "      <td>...</td>\n",
       "    </tr>\n",
       "    <tr>\n",
       "      <th>140</th>\n",
       "      <td>Tradition</td>\n",
       "      <td>Traditional refers to the ideas, morality, cus...</td>\n",
       "    </tr>\n",
       "    <tr>\n",
       "      <th>141</th>\n",
       "      <td>traffic</td>\n",
       "      <td>Transportation refers to the exchange of peopl...</td>\n",
       "    </tr>\n",
       "    <tr>\n",
       "      <th>142</th>\n",
       "      <td>TV</td>\n",
       "      <td>TV (English: Television, referred to as: TV) T...</td>\n",
       "    </tr>\n",
       "    <tr>\n",
       "      <th>143</th>\n",
       "      <td>Various religions</td>\n",
       "      <td>This entry outlines the situation of religious...</td>\n",
       "    </tr>\n",
       "    <tr>\n",
       "      <th>144</th>\n",
       "      <td>Water conservancy project</td>\n",
       "      <td>Hydraulic Engineering is a general name of var...</td>\n",
       "    </tr>\n",
       "  </tbody>\n",
       "</table>\n",
       "<p>145 rows × 2 columns</p>\n",
       "</div>"
      ],
      "text/plain": [
       "                  chinese_title  \\\n",
       "0                    Aerospace    \n",
       "1                       Africa    \n",
       "2                  Agriculture    \n",
       "3                       animal    \n",
       "4                    Animation    \n",
       "..                          ...   \n",
       "140                  Tradition    \n",
       "141                    traffic    \n",
       "142                         TV    \n",
       "143          Various religions    \n",
       "144  Water conservancy project    \n",
       "\n",
       "                                               chinese  \n",
       "0    Aerospace is the general name of the activitie...  \n",
       "1    Afrifa [2] (Latin: Africa), referred to as Afr...  \n",
       "2    Agricultural, narrow, specializing in agronomi...  \n",
       "3    Animals, or a Metazoan, a group of multi-cell ...  \n",
       "4    Animation (English: animation) is a visual res...  \n",
       "..                                                 ...  \n",
       "140  Traditional refers to the ideas, morality, cus...  \n",
       "141  Transportation refers to the exchange of peopl...  \n",
       "142  TV (English: Television, referred to as: TV) T...  \n",
       "143  This entry outlines the situation of religious...  \n",
       "144  Hydraulic Engineering is a general name of var...  \n",
       "\n",
       "[145 rows x 2 columns]"
      ]
     },
     "execution_count": 12,
     "metadata": {},
     "output_type": "execute_result"
    }
   ],
   "source": [
    "articles.head(200)"
   ]
  },
  {
   "cell_type": "code",
   "execution_count": 13,
   "metadata": {},
   "outputs": [
    {
     "data": {
      "text/plain": [
       "145"
      ]
     },
     "execution_count": 13,
     "metadata": {},
     "output_type": "execute_result"
    }
   ],
   "source": [
    "text = articles.applymap(cleaning)['chinese']\n",
    "text_list = [i.split() for i in text]\n",
    "len(text_list)"
   ]
  },
  {
   "cell_type": "code",
   "execution_count": 14,
   "metadata": {},
   "outputs": [
    {
     "data": {
      "text/plain": [
       "['aerospace',\n",
       " 'general',\n",
       " 'name',\n",
       " 'activity',\n",
       " 'occurred',\n",
       " 'development',\n",
       " 'atmosphere',\n",
       " 'space',\n",
       " 'universe',\n",
       " 'aviation',\n",
       " 'aerospace',\n",
       " 'separated',\n",
       " 'detail',\n",
       " 'among',\n",
       " 'them',\n",
       " 'aviation',\n",
       " 'refers',\n",
       " 'navigation',\n",
       " 'activity',\n",
       " 'manned',\n",
       " 'noncarriers',\n",
       " 'atmosphere',\n",
       " 'space',\n",
       " 'refers',\n",
       " 'navigation',\n",
       " 'activity',\n",
       " 'universe',\n",
       " 'space',\n",
       " 'outside',\n",
       " 'atmosphere',\n",
       " 'manned',\n",
       " 'noncarrier',\n",
       " '1',\n",
       " 'however',\n",
       " 'emission',\n",
       " 'recycling',\n",
       " 'process',\n",
       " 'spacecraft',\n",
       " 'must',\n",
       " 'pas',\n",
       " 'atmosphere',\n",
       " 'make',\n",
       " 'necessary',\n",
       " 'contact',\n",
       " 'aerospace',\n",
       " 'spaceship',\n",
       " 'aerospace',\n",
       " 'plane',\n",
       " 'landing',\n",
       " 'horizontal',\n",
       " 'gliding',\n",
       " 'level',\n",
       " 'empty',\n",
       " 'air',\n",
       " 'plane',\n",
       " 'currently',\n",
       " 'developing',\n",
       " 'country',\n",
       " 'best',\n",
       " 'embodiment',\n",
       " 'connection',\n",
       " 'word',\n",
       " 'aerospace',\n",
       " 'also',\n",
       " 'refers',\n",
       " 'science',\n",
       " 'necessary',\n",
       " 'aerospace',\n",
       " 'activity',\n",
       " 'also',\n",
       " 'refers',\n",
       " 'various',\n",
       " 'technology',\n",
       " 'involved',\n",
       " 'development',\n",
       " 'aviation',\n",
       " 'spacecraft',\n",
       " 'yuan',\n",
       " 'huang',\n",
       " 'tie',\n",
       " 'wei',\n",
       " 'jin',\n",
       " 'southern',\n",
       " 'dynasty',\n",
       " 'may',\n",
       " 'first',\n",
       " 'successful',\n",
       " 'flight',\n",
       " 'soviet',\n",
       " 'soviet',\n",
       " 'soviet',\n",
       " 'union',\n",
       " 'alale',\n",
       " 'first',\n",
       " 'first',\n",
       " 'successful',\n",
       " 'entry',\n",
       " 'space',\n",
       " 'aerospace',\n",
       " 'technology',\n",
       " 'highly',\n",
       " 'integrated',\n",
       " 'interdisciplinary',\n",
       " 'modern',\n",
       " 'science',\n",
       " 'technology',\n",
       " 'based',\n",
       " 'mechanic',\n",
       " 'thermodynamics',\n",
       " 'material',\n",
       " 'electronic',\n",
       " 'technology',\n",
       " 'automation',\n",
       " 'technology',\n",
       " 'computer',\n",
       " 'technology',\n",
       " 'jet',\n",
       " 'propulsion',\n",
       " 'technology',\n",
       " 'manufacturing',\n",
       " 'process',\n",
       " 'technology',\n",
       " 'medical',\n",
       " 'vacuum',\n",
       " 'technology',\n",
       " 'low',\n",
       " 'temperature',\n",
       " 'technology',\n",
       " 'also',\n",
       " 'played',\n",
       " 'important',\n",
       " 'role',\n",
       " 'discipline',\n",
       " 'intersects',\n",
       " 'aerospace',\n",
       " 'application',\n",
       " 'producing',\n",
       " 'new',\n",
       " 'discipline',\n",
       " 'aviation',\n",
       " 'aerospace',\n",
       " 'technology',\n",
       " 'thus',\n",
       " 'form',\n",
       " 'complete',\n",
       " 'system',\n",
       " 'due',\n",
       " 'related',\n",
       " 'art',\n",
       " 'aircraft',\n",
       " 'missile',\n",
       " 'development',\n",
       " 'aerospace',\n",
       " 'technology',\n",
       " 'often',\n",
       " 'closely',\n",
       " 'related',\n",
       " 'military',\n",
       " 'application',\n",
       " 'aerospace',\n",
       " 'one',\n",
       " 'active',\n",
       " 'influential',\n",
       " 'science',\n",
       " 'technology',\n",
       " 'field',\n",
       " 'product',\n",
       " 'high',\n",
       " 'added',\n",
       " 'value',\n",
       " 'driving',\n",
       " 'hightech',\n",
       " 'development',\n",
       " 'huge',\n",
       " 'farreaching',\n",
       " 'impact',\n",
       " 'national',\n",
       " 'economy',\n",
       " 'social',\n",
       " 'life',\n",
       " 'development',\n",
       " 'reflects',\n",
       " 'advanced',\n",
       " 'level',\n",
       " 'national',\n",
       " 'science',\n",
       " 'technology',\n",
       " 'major',\n",
       " 'achievement',\n",
       " 'made',\n",
       " 'area',\n",
       " 'reflect',\n",
       " 'high',\n",
       " 'development',\n",
       " 'human',\n",
       " 'civilization',\n",
       " 'aviation',\n",
       " 'history',\n",
       " '·',\n",
       " 'aircraft',\n",
       " 'manufacturer',\n",
       " '·',\n",
       " 'aircraft',\n",
       " 'engine',\n",
       " 'manufacturer',\n",
       " '·',\n",
       " 'rotor',\n",
       " 'manufacturer',\n",
       " '·',\n",
       " 'airport',\n",
       " '·',\n",
       " 'airport',\n",
       " '·',\n",
       " 'museum',\n",
       " 'civil',\n",
       " 'airplane',\n",
       " 'start',\n",
       " 'customer',\n",
       " '·',\n",
       " 'junji',\n",
       " 'passenger',\n",
       " 'plane',\n",
       " '·',\n",
       " 'airline',\n",
       " 'have',\n",
       " 'aircraft',\n",
       " '·',\n",
       " 'air',\n",
       " 'code',\n",
       " '·',\n",
       " 'civil',\n",
       " 'aviation',\n",
       " 'management',\n",
       " 'department',\n",
       " '·',\n",
       " 'air',\n",
       " 'force',\n",
       " '·',\n",
       " 'aircraft',\n",
       " 'weapon',\n",
       " '·',\n",
       " 'missile',\n",
       " '·',\n",
       " 'unmanned',\n",
       " 'air',\n",
       " 'carrying',\n",
       " '·',\n",
       " 'test',\n",
       " 'machine',\n",
       " '·',\n",
       " 'air',\n",
       " 'force',\n",
       " 'base',\n",
       " '·',\n",
       " 'american',\n",
       " 'trunard',\n",
       " 'aircraft',\n",
       " 'name',\n",
       " 'system',\n",
       " '·',\n",
       " 'u',\n",
       " 'three',\n",
       " 'army',\n",
       " 'missile',\n",
       " 'uav',\n",
       " 'name',\n",
       " 'system',\n",
       " '·',\n",
       " 'british',\n",
       " 'military',\n",
       " 'aircraft',\n",
       " 'serial',\n",
       " 'number',\n",
       " 'aerospace',\n",
       " 'agency',\n",
       " '·',\n",
       " 'space',\n",
       " 'shuttle',\n",
       " 'machine',\n",
       " '·',\n",
       " 'load',\n",
       " 'rocket',\n",
       " 'above',\n",
       " '·',\n",
       " 'avoid',\n",
       " 'rocket',\n",
       " '·',\n",
       " 'alliance',\n",
       " 'series',\n",
       " 'universe',\n",
       " 'ship',\n",
       " 'lunning',\n",
       " 'task',\n",
       " '·',\n",
       " 'bank',\n",
       " 'activity',\n",
       " '2000',\n",
       " 'separate',\n",
       " '·',\n",
       " 'folk',\n",
       " 'activity',\n",
       " '2000',\n",
       " 'international',\n",
       " 'space',\n",
       " 'station',\n",
       " '·',\n",
       " 'space',\n",
       " 'tourist',\n",
       " 'business',\n",
       " 'vehicle',\n",
       " 'accident',\n",
       " 'list',\n",
       " '·',\n",
       " 'military',\n",
       " 'aircraft',\n",
       " 'air',\n",
       " 'brake',\n",
       " 'list',\n",
       " '·',\n",
       " 'aerospace',\n",
       " 'tool',\n",
       " 'accident',\n",
       " 'list',\n",
       " '·',\n",
       " 'cause',\n",
       " 'least',\n",
       " '50',\n",
       " 'people',\n",
       " 'death',\n",
       " 'space',\n",
       " 'record',\n",
       " '·',\n",
       " 'flight',\n",
       " 'speed',\n",
       " '\\u200b\\u200b·',\n",
       " 'flight',\n",
       " 'distance',\n",
       " '·',\n",
       " 'flight',\n",
       " 'time',\n",
       " '·',\n",
       " 'maximum',\n",
       " 'yield',\n",
       " 'aircraft']"
      ]
     },
     "execution_count": 14,
     "metadata": {},
     "output_type": "execute_result"
    }
   ],
   "source": [
    "text_list[0]"
   ]
  },
  {
   "cell_type": "markdown",
   "metadata": {},
   "source": [
    "#progress log unnecessary\n",
    "\n",
    "from time import time\n",
    "import logging\n",
    "\n",
    "logging.basicConfig(format='%(asctime)s : %(levelname)s : %(message)s', level=logging.INFO,\n",
    "                   filename='running.log',filemode='w')"
   ]
  },
  {
   "cell_type": "code",
   "execution_count": 15,
   "metadata": {},
   "outputs": [
    {
     "name": "stdout",
     "output_type": "stream",
     "text": [
      "Dictionary(20623 unique tokens: ['1', '2000', '50', 'above', 'accident']...)\n"
     ]
    }
   ],
   "source": [
    "# Importing Gensim\n",
    "import gensim\n",
    "from gensim import corpora\n",
    "\n",
    "# Creating the term dictionary of our courpus, where every unique term is assigned an index. dictionary = corpora.Dictionary(doc_clean)\n",
    "dictionary = corpora.Dictionary(text_list)\n",
    "dictionary.save('dictionary.dict')\n",
    "print(dictionary)"
   ]
  },
  {
   "cell_type": "code",
   "execution_count": 16,
   "metadata": {
    "scrolled": false
   },
   "outputs": [
    {
     "name": "stdout",
     "output_type": "stream",
     "text": [
      "[(0, 1), (12, 3), (19, 4), (20, 8), (21, 1), (23, 14), (30, 1), (40, 1), (46, 1), (47, 3), (50, 1), (59, 1), (60, 6), (69, 4), (72, 2), (74, 1), (85, 2), (87, 1), (91, 1), (99, 1), (100, 1), (103, 1), (112, 2), (115, 1), (124, 4), (127, 5), (135, 2), (137, 1), (147, 1), (161, 4), (173, 3), (175, 1), (177, 4), (184, 4), (195, 1), (198, 49), (200, 1), (203, 2), (204, 1), (218, 2), (219, 2), (224, 1), (226, 1), (228, 2), (235, 1), (244, 1), (245, 1), (249, 2), (250, 1), (256, 3), (261, 2), (269, 2), (270, 5), (271, 2), (273, 1), (274, 3), (278, 1), (279, 14), (280, 3), (283, 1), (288, 1), (294, 38), (296, 3), (299, 1), (301, 2), (302, 2), (305, 3), (307, 2), (310, 1), (311, 4), (314, 1), (315, 13), (318, 1), (319, 6), (320, 1), (324, 4), (325, 1), (328, 1), (331, 1), (332, 3), (333, 1), (335, 1), (336, 1), (339, 1), (342, 1), (344, 1), (347, 1), (350, 2), (360, 1), (363, 1), (364, 1), (367, 1), (368, 3), (369, 3), (370, 1), (371, 1), (375, 12), (381, 3), (392, 12), (394, 5), (396, 1), (399, 4), (404, 3), (407, 1), (421, 9), (422, 4), (433, 1), (434, 3), (446, 2), (456, 5), (457, 2), (458, 1), (459, 3), (463, 1), (469, 10), (470, 4), (483, 6), (495, 1), (500, 1), (501, 2), (502, 1), (503, 6), (504, 4), (505, 1), (508, 1), (514, 2), (516, 1), (523, 1), (525, 1), (530, 1), (537, 2), (538, 1), (542, 1), (543, 1), (548, 1), (549, 6), (557, 1), (561, 1), (563, 1), (565, 1), (569, 1), (570, 2), (574, 1), (578, 2), (580, 2), (583, 1), (584, 1), (591, 1), (594, 1), (595, 1), (597, 1), (602, 4), (604, 1), (606, 2), (607, 3), (610, 3), (621, 8), (626, 1), (628, 1), (630, 1), (632, 1), (635, 6), (639, 2), (641, 3), (644, 3), (647, 1), (648, 11), (649, 1), (652, 3), (663, 1), (671, 3), (672, 1), (677, 1), (679, 1), (684, 1), (685, 5), (686, 6), (694, 3), (696, 1), (697, 1), (698, 1), (700, 1), (703, 1), (704, 2), (705, 1), (707, 1), (708, 1), (712, 7), (713, 1), (714, 1), (715, 4), (717, 4), (720, 1), (721, 1), (725, 1), (727, 2), (729, 1), (730, 17), (734, 1), (735, 1), (736, 3), (738, 1), (740, 1), (747, 1), (749, 35), (750, 2), (751, 12), (752, 1), (753, 1), (754, 1), (757, 11), (758, 3), (760, 1), (772, 3), (773, 1), (774, 1), (777, 6), (779, 1), (780, 1), (781, 6), (783, 1), (785, 1), (788, 1), (789, 3), (793, 4), (794, 10), (796, 1), (797, 5), (800, 1), (802, 2), (803, 1), (805, 1), (807, 4), (814, 1), (837, 1), (838, 1), (842, 2), (845, 1), (852, 1), (855, 6), (857, 1), (861, 1), (868, 2), (877, 1), (888, 1), (889, 1), (892, 1), (899, 2), (901, 2), (915, 1), (916, 3), (929, 2), (930, 1), (931, 16), (932, 3), (933, 1), (934, 3), (938, 5), (944, 6), (945, 1), (951, 1), (952, 1), (953, 3), (957, 1), (959, 1), (967, 1), (970, 1), (972, 1), (973, 5), (975, 3), (976, 3), (979, 1), (982, 1), (983, 1), (984, 6), (986, 1), (990, 8), (991, 1), (994, 1), (995, 1), (998, 1), (1001, 1), (1005, 7), (1006, 1), (1012, 1), (1015, 1), (1024, 2), (1026, 2), (1030, 9), (1031, 6), (1032, 2), (1039, 12), (1041, 2), (1043, 1), (1044, 4), (1049, 4), (1050, 2), (1051, 1), (1052, 1), (1053, 2), (1055, 2), (1056, 1), (1057, 1), (1058, 1), (1130, 1), (1141, 1), (1158, 1), (1174, 1), (1202, 2), (1274, 1), (1320, 1), (1329, 1), (1345, 1), (1351, 2), (1358, 1), (1376, 1), (1382, 1), (1409, 1), (1414, 2), (1465, 1), (1501, 6), (1546, 1), (1548, 1), (1551, 1), (1552, 1), (1597, 1), (1646, 1), (1696, 1), (1698, 1), (1712, 1), (1723, 1), (1724, 2), (1737, 1), (1772, 1), (1800, 1), (1848, 1), (1852, 1), (1854, 1), (1937, 1), (1941, 1), (2044, 15), (2184, 1), (2218, 1), (2412, 1), (2438, 1), (2456, 1), (2533, 1), (2601, 1), (2605, 1), (2661, 1), (2666, 1), (2667, 1), (2687, 3), (3039, 1), (3166, 1), (3167, 1), (3310, 7), (3413, 2), (3427, 1), (3479, 1), (3496, 1), (3583, 2), (3653, 1), (3695, 1), (3746, 1), (3860, 1), (3867, 1), (3903, 1), (3937, 1), (3941, 1), (3963, 3), (3974, 1), (3996, 1), (4065, 1), (4171, 1), (4310, 1), (4314, 3), (4320, 3), (4330, 1), (4331, 2), (4332, 1), (4425, 1), (4432, 2), (4440, 1), (4473, 2), (4483, 1), (4485, 1), (4488, 1), (4490, 1), (4502, 1), (4521, 1), (4522, 1), (4552, 11), (4584, 1), (4665, 1), (4677, 1), (4728, 1), (4779, 3), (4839, 1), (4857, 2), (4882, 3), (4909, 2), (5014, 1), (5090, 2), (5482, 3), (5817, 1), (5826, 1), (5831, 1), (5956, 1), (6066, 1), (6078, 1), (6189, 1), (6320, 1), (6447, 1), (6624, 1), (6647, 1), (7100, 2), (7382, 1), (7513, 1), (7625, 1), (7655, 2), (7843, 1), (7965, 1), (8186, 1), (8536, 1), (8599, 5), (8699, 1), (9146, 1), (9362, 1), (9377, 4), (9829, 2), (10679, 2), (10894, 2), (11067, 1), (11110, 1), (11137, 1), (11750, 1), (12254, 1), (13186, 1), (13549, 1), (13590, 1), (13814, 2), (13854, 1), (14745, 1), (14751, 2), (15216, 1), (15751, 2), (15811, 1), (16896, 1), (17518, 1), (17737, 1), (17763, 1), (17764, 1), (17765, 1), (17766, 1), (17767, 1), (17768, 1), (17769, 1), (17770, 1), (17771, 1), (17772, 1), (17773, 1), (17774, 1), (17775, 1), (17776, 1), (17777, 1), (17778, 1), (17779, 1), (17780, 1), (17781, 1), (17782, 1), (17783, 1), (17784, 1), (17785, 1), (17786, 1), (17787, 2), (17788, 1), (17789, 1), (17790, 1), (17791, 1), (17792, 1), (17793, 1), (17794, 1), (17795, 1), (17796, 1), (17797, 1), (17798, 1), (17799, 1), (17800, 2), (17801, 1), (17802, 1), (17803, 2), (17804, 1), (17805, 1), (17806, 1), (17807, 1), (17808, 1), (17809, 1), (17810, 1)]\n"
     ]
    }
   ],
   "source": [
    "# Converting list of documents (corpus) into Document Term Matrix using dictionary prepared above.\n",
    "doc_term_matrix = [dictionary.doc2bow(doc) for doc in text_list]\n",
    "corpora.MmCorpus.serialize('corpus.mm', doc_term_matrix)\n",
    "\n",
    "len(doc_term_matrix)\n",
    "print(doc_term_matrix[100])"
   ]
  },
  {
   "cell_type": "markdown",
   "metadata": {},
   "source": [
    "CHANGED START = TIME() to COMMENT"
   ]
  },
  {
   "cell_type": "code",
   "execution_count": 21,
   "metadata": {},
   "outputs": [],
   "source": [
    "from time import time"
   ]
  },
  {
   "cell_type": "code",
   "execution_count": 22,
   "metadata": {},
   "outputs": [
    {
     "name": "stdout",
     "output_type": "stream",
     "text": [
      "used: 54.00s\n"
     ]
    }
   ],
   "source": [
    "start = time()\n",
    "#Creating the object for LDA model using gensim library\n",
    "Lda = gensim.models.ldamodel.LdaModel\n",
    "\n",
    "#Running and Trainign LDA model on the document term matrix.\n",
    "ldamodel = Lda(doc_term_matrix, num_topics=10, id2word = dictionary, passes=50)\n",
    "print('used: {:.2f}s'.format(time()-start))"
   ]
  },
  {
   "cell_type": "code",
   "execution_count": 23,
   "metadata": {},
   "outputs": [
    {
     "name": "stdout",
     "output_type": "stream",
     "text": [
      "[(4, '0.025*\"animal\" + 0.008*\"mathematics\" + 0.007*\"painting\" + 0.006*\"also\"'), (5, '0.020*\"art\" + 0.011*\"entertainment\" + 0.011*\"martial\" + 0.010*\"movie\"')]\n"
     ]
    }
   ],
   "source": [
    "print(ldamodel.print_topics(num_topics=2, num_words=4))"
   ]
  },
  {
   "cell_type": "code",
   "execution_count": 24,
   "metadata": {},
   "outputs": [
    {
     "name": "stdout",
     "output_type": "stream",
     "text": [
      "0\n",
      "0.013*\"computer\" + 0.012*\"game\" + 0.011*\"system\" + 0.008*\"tv\" + 0.007*\"engineering\" + 0.007*\"technology\" + 0.007*\"science\" + 0.007*\"also\" + 0.006*\"communication\" + 0.005*\"electronic\"\n",
      "1\n",
      "0.014*\"political\" + 0.010*\"psychology\" + 0.010*\"research\" + 0.009*\"country\" + 0.007*\"government\" + 0.007*\"also\" + 0.007*\"english\" + 0.006*\"social\" + 0.005*\"mineral\" + 0.005*\"constellation\"\n",
      "2\n",
      "0.019*\"language\" + 0.011*\"law\" + 0.008*\"also\" + 0.008*\"religion\" + 0.008*\"human\" + 0.007*\"people\" + 0.006*\"god\" + 0.006*\"social\" + 0.006*\"system\" + 0.005*\"religious\"\n",
      "3\n",
      "0.014*\"dynasty\" + 0.011*\"also\" + 0.009*\"buddhism\" + 0.009*\"song\" + 0.009*\"people\" + 0.008*\"chinese\" + 0.008*\"family\" + 0.006*\"work\" + 0.006*\"world\" + 0.006*\"buddha\"\n",
      "4\n",
      "0.025*\"animal\" + 0.008*\"mathematics\" + 0.007*\"painting\" + 0.006*\"also\" + 0.006*\"earth\" + 0.005*\"english\" + 0.005*\"different\" + 0.005*\"human\" + 0.005*\"life\" + 0.005*\"comic\"\n",
      "5\n",
      "0.020*\"art\" + 0.011*\"entertainment\" + 0.011*\"martial\" + 0.010*\"movie\" + 0.009*\"also\" + 0.008*\"animation\" + 0.008*\"sport\" + 0.007*\"performance\" + 0.007*\"industry\" + 0.007*\"film\"\n",
      "6\n",
      "0.021*\"plant\" + 0.008*\"algae\" + 0.007*\"key\" + 0.007*\"also\" + 0.006*\"cell\" + 0.006*\"many\" + 0.006*\"sculpture\" + 0.005*\"english\" + 0.005*\"cryptography\" + 0.005*\"encryption\"\n",
      "7\n",
      "0.015*\"medicine\" + 0.014*\"science\" + 0.012*\"engineering\" + 0.009*\"medical\" + 0.009*\"technology\" + 0.007*\"chinese\" + 0.007*\"chemical\" + 0.007*\"system\" + 0.006*\"also\" + 0.005*\"mechanical\"\n",
      "8\n",
      "0.008*\"also\" + 0.007*\"social\" + 0.007*\"theory\" + 0.007*\"music\" + 0.006*\"element\" + 0.006*\"economics\" + 0.006*\"history\" + 0.006*\"society\" + 0.005*\"research\" + 0.005*\"philosophy\"\n",
      "9\n",
      "0.011*\"dynasty\" + 0.009*\"·\" + 0.009*\"year\" + 0.008*\"china\" + 0.007*\"country\" + 0.007*\"asia\" + 0.007*\"people\" + 0.007*\"emperor\" + 0.006*\"south\" + 0.006*\"also\"\n"
     ]
    }
   ],
   "source": [
    "for i in ldamodel.print_topics(): \n",
    "    for j in i: print(j)"
   ]
  },
  {
   "cell_type": "code",
   "execution_count": 25,
   "metadata": {},
   "outputs": [],
   "source": [
    "ldamodel.save('topic.model')"
   ]
  },
  {
   "cell_type": "markdown",
   "metadata": {},
   "source": [
    "### start here"
   ]
  },
  {
   "cell_type": "code",
   "execution_count": 26,
   "metadata": {},
   "outputs": [],
   "source": [
    "from gensim.models import LdaModel\n",
    "loading = LdaModel.load('topic.model')"
   ]
  },
  {
   "cell_type": "code",
   "execution_count": 27,
   "metadata": {},
   "outputs": [
    {
     "name": "stdout",
     "output_type": "stream",
     "text": [
      "[(4, '0.025*\"animal\" + 0.008*\"mathematics\" + 0.007*\"painting\" + 0.006*\"also\"'), (5, '0.020*\"art\" + 0.011*\"entertainment\" + 0.011*\"martial\" + 0.010*\"movie\"')]\n"
     ]
    }
   ],
   "source": [
    "print(loading.print_topics(num_topics=2, num_words=4))"
   ]
  },
  {
   "cell_type": "code",
   "execution_count": 28,
   "metadata": {},
   "outputs": [],
   "source": [
    "def pre_new(doc):\n",
    "    one = cleaning(doc).split()\n",
    "    two = dictionary.doc2bow(one)\n",
    "    return two"
   ]
  },
  {
   "cell_type": "markdown",
   "metadata": {},
   "source": [
    "pre_new('new article that to be classified by trained model!')"
   ]
  },
  {
   "cell_type": "markdown",
   "metadata": {},
   "source": [
    "belong = loading[(pre_new('new article that to be classified by trained model!'))]\n",
    "belong"
   ]
  },
  {
   "cell_type": "markdown",
   "metadata": {},
   "source": [
    "new = pd.DataFrame(belong,columns=['id','prob']).sort_values('prob',ascending=False)\n",
    "new['topic'] = new['id'].apply(loading.print_topic)\n",
    "new"
   ]
  },
  {
   "cell_type": "markdown",
   "metadata": {},
   "source": [
    "new['topic']"
   ]
  },
  {
   "cell_type": "markdown",
   "metadata": {},
   "source": [
    "import gensim\n",
    "from gensim import corpora"
   ]
  },
  {
   "cell_type": "markdown",
   "metadata": {},
   "source": [
    "ran next cell again"
   ]
  },
  {
   "cell_type": "markdown",
   "metadata": {},
   "source": [
    "#tried this after next cell\n",
    "import pyLDAvis\n",
    "import pyLDAvis.gensim_models as gensimvis\n",
    "pyLDAvis.enable_notebook()\n",
    "\n",
    "#feed the LDA model into the pyLDAvis instance\n",
    "lda_viz = gensimvis.prepare(ldamodel, corpus, dictionary)"
   ]
  },
  {
   "cell_type": "code",
   "execution_count": 53,
   "metadata": {
    "scrolled": true
   },
   "outputs": [],
   "source": [
    "import pyLDAvis #.gensim << this seems to have been the problem\n",
    "import gensim\n",
    "pyLDAvis.enable_notebook()\n",
    "import pyLDAvis.gensim_models as gensimvis"
   ]
  },
  {
   "cell_type": "markdown",
   "metadata": {},
   "source": [
    "###### conda install -c conda-forge pyldavis finally did it"
   ]
  },
  {
   "cell_type": "code",
   "execution_count": 54,
   "metadata": {
    "scrolled": true
   },
   "outputs": [],
   "source": [
    "import pyLDAvis\n",
    "#import pyLDAvis.gensim_models as gensimvis  COMMENTED OUT CAUSE DIDN'T NEED HERE\n",
    "pyLDAvis.enable_notebook()"
   ]
  },
  {
   "cell_type": "markdown",
   "metadata": {},
   "source": [
    "Successfully built sklearn\n",
    "Installing collected packages: funcy, sklearn, pandas, pyLDAvis\n",
    "  Found existing installation: pandas 0.25.1\n",
    "    Uninstalling pandas-0.25.1:\n",
    "      Successfully uninstalled pandas-0.25.1\n",
    "ERROR: Could not install packages due to an EnvironmentError: [WinError 5] Access is denied: 'c:\\\\users\\\\owner\\\\anaconda3\\\\lib\\\\site-packages\\\\~andas\\\\io\\\\msgpack\\\\_packer.cp37-win_amd64.pyd'\n",
    "Consider using the `--user` option or check the permissions."
   ]
  },
  {
   "cell_type": "code",
   "execution_count": 55,
   "metadata": {},
   "outputs": [
    {
     "name": "stderr",
     "output_type": "stream",
     "text": [
      "C:\\Users\\Owner\\Anaconda3\\lib\\site-packages\\joblib\\numpy_pickle.py:104: DeprecationWarning: tostring() is deprecated. Use tobytes() instead.\n",
      "  pickler.file_handle.write(chunk.tostring('C'))\n",
      "C:\\Users\\Owner\\Anaconda3\\lib\\site-packages\\joblib\\numpy_pickle.py:104: DeprecationWarning: tostring() is deprecated. Use tobytes() instead.\n",
      "  pickler.file_handle.write(chunk.tostring('C'))\n"
     ]
    },
    {
     "data": {
      "text/html": [
       "\n",
       "<link rel=\"stylesheet\" type=\"text/css\" href=\"https://cdn.jsdelivr.net/gh/bmabey/pyLDAvis@3.3.1/pyLDAvis/js/ldavis.v1.0.0.css\">\n",
       "\n",
       "\n",
       "<div id=\"ldavis_el2090418647506105042464689408\"></div>\n",
       "<script type=\"text/javascript\">\n",
       "\n",
       "var ldavis_el2090418647506105042464689408_data = {\"mdsDat\": {\"x\": [-0.06305424729206519, 0.01342128888061825, 0.18041452976313896, 0.18996721878139117, -0.09564782852819767, -0.029486030736312573, 0.03928184154917837, -0.07869054757734241, -0.10222742766457286, -0.053978797175836465], \"y\": [-0.0812506078266866, -0.07608978218011404, 0.004286526572835511, 0.004370554245390592, -0.060326405099466705, -0.09320587721170714, 0.055651579189480646, 0.12653462277087457, -0.0005404633874383444, 0.12056985292683152], \"topics\": [1, 2, 3, 4, 5, 6, 7, 8, 9, 10], \"cluster\": [1, 1, 1, 1, 1, 1, 1, 1, 1, 1], \"Freq\": [17.167928156004898, 16.39106891985906, 16.035293435715513, 14.155464402821211, 9.5118578756519, 7.507212088107532, 6.304518460313862, 4.465987815272657, 4.239131430166627, 4.221537416086758]}, \"tinfo\": {\"Term\": [\"animal\", \"language\", \"dynasty\", \"art\", \"medicine\", \"plant\", \"engineering\", \"political\", \"science\", \"buddhism\", \"entertainment\", \"\\u00b7\", \"game\", \"computer\", \"psychology\", \"martial\", \"technology\", \"research\", \"medical\", \"system\", \"song\", \"movie\", \"religion\", \"family\", \"buddha\", \"english\", \"social\", \"asia\", \"emperor\", \"drama\", \"\\u66f2\", \"unemployment\", \"economist\", \"relativity\", \"prediction\", \"iupac\", \"adam\", \"uncertainty\", \"cairn\", \"piano\", \"photosensitive\", \"isotope\", \"neoclassical\", \"maximize\", \"neutron\", \"kongde\", \"composer\", \"helium\", \"\\u5e0c\", \"keynesian\", \"\\u951d\", \"forecast\", \"economics\", \"decay\", \"marginal\", \"orchestra\", \"microeconomics\", \"equilibrium\", \"relativism\", \"chorus\", \"particle\", \"sociological\", \"photographic\", \"musician\", \"atomic\", \"demand\", \"physic\", \"music\", \"incomplete\", \"radiation\", \"element\", \"market\", \"electromagnetic\", \"price\", \"quantum\", \"philosophy\", \"astronomy\", \"sociologist\", \"astronomical\", \"photography\", \"atom\", \"labor\", \"historian\", \"classical\", \"theory\", \"sociology\", \"economic\", \"supply\", \"social\", \"historical\", \"2\", \"society\", \"individual\", \"star\", \"history\", \"observation\", \"universe\", \"product\", \"research\", \"substance\", \"study\", \"also\", \"nature\", \"production\", \"field\", \"method\", \"development\", \"century\", \"different\", \"many\", \"system\", \"new\", \"time\", \"people\", \"english\", \"etc\", \"often\", \"number\", \"science\", \"example\", \"syntax\", \"verb\", \"infringement\", \"grammatical\", \"anthropologist\", \"grammar\", \"vowel\", \"chile\", \"anthropology\", \"morpheme\", \"phoneme\", \"semantic\", \"consonant\", \"amazon\", \"humanology\", \"clothing\", \"lip\", \"jurisprudence\", \"cave\", \"andes\", \"infringing\", \"trustee\", \"negligence\", \"anthropics\", \"predicate\", \"tuning\", \"jurist\", \"rousseau\", \"colombia\", \"longevity\", \"criminal\", \"language\", \"linguistics\", \"religion\", \"legal\", \"ethnology\", \"crime\", \"phrase\", \"costume\", \"spoken\", \"religious\", \"speech\", \"wear\", \"law\", \"contract\", \"faith\", \"university\", \"god\", \"sentence\", \"education\", \"judge\", \"human\", \"humanity\", \"cultural\", \"belief\", \"word\", \"culture\", \"right\", \"social\", \"concept\", \"meaning\", \"different\", \"system\", \"research\", \"also\", \"people\", \"many\", \"english\", \"country\", \"example\", \"society\", \"may\", \"china\", \"study\", \"science\", \"world\", \"kang\", \"\\u5230\", \"defeated\", \"hun\", \"basin\", \"khan\", \"plateau\", \"monsoon\", \"firework\", \"caucasus\", \"volcano\", \"antarctic\", \"\\u5dfd\", \"kumari\", \"\\u8033\", \"\\u4e9a\", \"viewer\", \"\\u6b7b\", \"circus\", \"tropical\", \"ethiopia\", \"cook\", \"observatory\", \"siberia\", \"colonist\", \"highland\", \"stadium\", \"entertain\", \"tourism\", \"kilometer\", \"\\u00b7\", \"africa\", \"temperate\", \"northeast\", \"america\", \"asia\", \"continent\", \"oceania\", \"climate\", \"east\", \"river\", \"army\", \"plain\", \"qin\", \"north\", \"lake\", \"battle\", \"died\", \"emperor\", \"south\", \"central\", \"african\", \"northern\", \"europe\", \"zhou\", \"asian\", \"year\", \"dynasty\", \"ocean\", \"european\", \"eastern\", \"china\", \"empire\", \"liu\", \"country\", \"war\", \"wang\", \"west\", \"yuan\", \"area\", \"world\", \"people\", \"first\", \"national\", \"han\", \"also\", \"western\", \"state\", \"time\", \"political\", \"history\", \"buddha\", \"poem\", \"\\u50cf\", \"poetry\", \"opera\", \"bodhisattva\", \"prose\", \"husband\", \"buddhism\", \"buddhist\", \"ouyang\", \"nirvana\", \"\\u6df1\", \"novel\", \"poet\", \"\\u622a\", \"qu\", \"sakyamuni\", \"tuzong\", \"yuefu\", \"dharma\", \"nanchuan\", \"mahayana\", \"literary\", \"bodhi\", \"reincarnation\", \"kunqu\", \"chuan\", \"\\u76f4\", \"officialdom\", \"shaman\", \"singing\", \"temple\", \"zen\", \"marriage\", \"fairy\", \"monk\", \"family\", \"writer\", \"su\", \"song\", \"wife\", \"literature\", \"tibetan\", \"folk\", \"taoist\", \"dynasty\", \"tang\", \"taoism\", \"han\", \"story\", \"book\", \"yu\", \"work\", \"chinese\", \"also\", \"three\", \"people\", \"world\", \"ancient\", \"china\", \"wei\", \"life\", \"emperor\", \"time\", \"etc\", \"many\", \"called\", \"medicine\", \"aerospace\", \"acupuncture\", \"spleen\", \"kidney\", \"liver\", \"surveying\", \"geographicists\", \"fluid\", \"preventive\", \"pharmacy\", \"pharmacology\", \"veterinary\", \"infectious\", \"diagnosis\", \"biochemistry\", \"pollutant\", \"engine\", \"combustion\", \"bond\", \"decoction\", \"acupuncturists\", \"440\", \"570\", \"890\", \"413\", \"780\", \"740\", \"330\", \"470\", \"medical\", \"symptom\", \"machinery\", \"massage\", \"mechanical\", \"engineering\", \"mapping\", \"disease\", \"ion\", \"map\", \"mining\", \"environmental\", \"urban\", \"doctor\", \"chemical\", \"steam\", \"aircraft\", \"geography\", \"mine\", \"science\", \"technology\", \"energy\", \"chemistry\", \"soil\", \"engineer\", \"drug\", \"project\", \"material\", \"treatment\", \"water\", \"biology\", \"clinical\", \"mechanic\", \"chinese\", \"application\", \"system\", \"earth\", \"development\", \"discipline\", \"human\", \"scientific\", \"related\", \"also\", \"etc\", \"method\", \"research\", \"use\", \"natural\", \"study\", \"century\", \"theory\", \"constellation\", \"archaeology\", \"silicate\", \"gloss\", \"psychotherapy\", \"behavioralism\", \"psychologist\", \"twentyeighth\", \"fengter\", \"legitimacy\", \"freud\", \"psychology\", \"autonomy\", \"politicalists\", \"\\u4e4b\", \"huangdao\", \"elephant\", \"\\u304b\", \"stakeholder\", \"excavation\", \"sigmund\", \"simulate\", \"\\u03b1\", \"institutionalism\", \"starry\", \"neuroscience\", \"luster\", \"sulfate\", \"neuropsychology\", \"io\", \"mineral\", \"psychological\", \"bayer\", \"sexual\", \"politics\", \"archaeological\", \"political\", \"cognitive\", \"variable\", \"hardness\", \"crystal\", \"archeology\", \"government\", \"star\", \"archaeologist\", \"behavior\", \"mental\", \"research\", \"country\", \"relation\", \"english\", \"society\", \"power\", \"national\", \"social\", \"study\", \"ancient\", \"public\", \"part\", \"human\", \"science\", \"modern\", \"also\", \"system\", \"people\", \"time\", \"different\", \"method\", \"theory\", \"many\", \"animation\", \"\\u603b\", \"boxing\", \"calligraphy\", \"\\u89dd\", \"shaolin\", \"fist\", \"film\", \"movie\", \"3d\", \"ceo\", \"cinema\", \"handwritten\", \"foshan\", \"taijiquan\", \"shareholder\", \"routine\", \"2d\", \"orthodontics\", \"punch\", \"manager\", \"martial\", \"printed\", \"nonprofit\", \"comedy\", \"animator\", \"fiveshaped\", \"\\u624b\", \"anime\", \"wrestling\", \"printing\", \"audience\", \"theater\", \"rendering\", \"entertainment\", \"dance\", \"art\", \"sport\", \"box\", \"performance\", \"actor\", \"management\", \"drama\", \"competition\", \"industry\", \"artist\", \"game\", \"effect\", \"also\", \"people\", \"chinese\", \"activity\", \"work\", \"form\", \"production\", \"use\", \"english\", \"china\", \"used\", \"many\", \"different\", \"etc\", \"time\", \"cryptographic\", \"spore\", \"password\", \"\\u9650\", \"tableclade\", \"encryption\", \"plantae\", \"quilt\", \"cryptography\", \"encrypted\", \"algae\", \"photosynthesis\", \"vascular\", \"ciphertext\", \"rsa\", \"confidentiality\", \"pine\", \"cyanobacteria\", \"encrypt\", \"plaintext\", \"fertilized\", \"fern\", \"borderleft\", \"margulis\", \"prokaryotic\", \"thinwalled\", \"elliptic\", \"chlorophyll\", \"signature\", \"membrane\", \"sculpture\", \"plant\", \"key\", \"seed\", \"reproductive\", \"egg\", \"fungi\", \"cell\", \"leaf\", \"message\", \"algorithm\", \"security\", \"tissue\", \"green\", \"pigment\", \"15\", \"root\", \"fossil\", \"safety\", \"attack\", \"english\", \"many\", \"method\", \"also\", \"public\", \"group\", \"use\", \"system\", \"organism\", \"used\", \"body\", \"number\", \"ancient\", \"classification\", \"known\", \"modern\", \"\\u5236\", \"chess\", \"circuit\", \"signal\", \"beld\", \"television\", \"farnsworth\", \"cathode\", \"toy\", \"microprocessor\", \"computing\", \"bbc\", \"braun\", \"transmitting\", \"alloy\", \"rca\", \"scan\", \"processor\", \"hardening\", \"schram\", \"philadelphia\", \"chessboard\", \"analog\", \"wireless\", \"smelting\", \"solin\", \"1884\", \"pennsylvania\", \"franklin\", \"fina\", \"electronic\", \"tv\", \"receiver\", \"furnace\", \"bachelor\", \"motor\", \"game\", \"computer\", \"metallurgy\", \"patent\", \"hardware\", \"tube\", \"metal\", \"communication\", \"transmission\", \"processing\", \"software\", \"image\", \"electrical\", \"calculation\", \"engineer\", \"device\", \"engineering\", \"electronics\", \"information\", \"system\", \"technology\", \"design\", \"science\", \"iron\", \"used\", \"power\", \"also\", \"use\", \"first\", \"discipline\", \"english\", \"many\", \"different\", \"research\", \"theory\", \"sponge\", \"reporter\", \"journalist\", \"endoderm\", \"comic\", \"wikipedia\", \"porous\", \"arthropod\", \"digestive\", \"vertebrate\", \"nematode\", \"larva\", \"ton\", \"prey\", \"extracellular\", \"canvas\", \"arithmetic\", \"breed\", \"lipid\", \"mammal\", \"theorem\", \"symmetrical\", \"news\", \"insect\", \"digestible\", \"542\", \"invertebrate\", \"spider\", \"196\", \"\\u6809\", \"animal\", \"multicell\", \"axiom\", \"painting\", \"wilderness\", \"door\", \"mathematics\", \"ecosystem\", \"mathematician\", \"organism\", \"specie\", \"outer\", \"planet\", \"earth\", \"painter\", \"surface\", \"cell\", \"biological\", \"space\", \"atmosphere\", \"gene\", \"life\", \"mathematical\", \"million\", \"fossil\", \"plant\", \"environment\", \"nature\", \"english\", \"different\", \"human\", \"body\", \"natural\", \"also\", \"form\", \"many\", \"may\", \"classification\", \"year\", \"still\", \"people\"], \"Freq\": [340.0, 767.0, 866.0, 442.0, 334.0, 284.0, 324.0, 475.0, 659.0, 296.0, 220.0, 348.0, 202.0, 254.0, 201.0, 177.0, 401.0, 692.0, 223.0, 829.0, 379.0, 154.0, 316.0, 321.0, 182.0, 632.0, 666.0, 283.0, 357.0, 180.0, 28.426248475158978, 23.710641691903675, 41.64860093131408, 18.036060149849778, 17.093562858196993, 17.096249652280314, 15.202767741096336, 15.176794300744278, 13.317833522853912, 13.30837157359234, 10.482128706667813, 21.816941368945766, 9.538352773222924, 9.536223532813754, 21.518542593706517, 8.588440456722536, 8.587294069296052, 8.581404634226153, 7.648591545021978, 7.648591545021978, 7.648589898702075, 7.647830945226332, 224.27715077862595, 18.74679401315089, 16.15243091451792, 7.576340052168567, 6.703699406682178, 6.7036977603622745, 6.703408008059171, 6.6963837098021175, 59.35500417868072, 30.960823820158396, 22.501239724775097, 17.485941256382603, 72.73414555721287, 54.0704402120701, 153.8008737022283, 247.3913944270145, 13.264455441379921, 37.002910061741716, 225.97223687327246, 117.55905074682475, 26.4400074128508, 63.10688821653431, 43.58985355837903, 170.72778179163691, 53.90345069156789, 48.63686892849533, 44.342577359604896, 42.99269162242845, 54.77607926404165, 61.30521278602342, 51.68900993472689, 66.50158668801673, 269.0699066331526, 92.50365105547229, 166.47088144040603, 49.421917672262865, 275.8746604481819, 123.68099008903154, 126.63178364197306, 210.70081539708625, 88.22621341221237, 105.8145206451323, 218.12291722518236, 57.06408198437964, 66.59023333202074, 93.65992957193869, 206.34179930994347, 75.15772601428482, 138.29852842084148, 299.597910755457, 88.02541506616167, 97.31031689016427, 101.02277266386373, 127.97637481433824, 132.70309535449212, 129.55068688082753, 145.86576103130113, 154.7956021391553, 152.6624632444533, 117.23550278873205, 129.4243460963016, 154.6412607457022, 128.04266662913918, 121.38071679767576, 105.72292379586032, 104.92782591539878, 112.4248945666433, 106.02560958812958, 36.11357474234987, 16.205827559300847, 14.31021225819339, 14.310183965380782, 64.17794489431732, 23.790105791029287, 11.466200920818151, 11.455046217476857, 187.91859791904247, 9.57020209491756, 9.57020209491756, 9.570142365646499, 8.622193774970704, 8.610900751212215, 23.969964248661935, 47.280676622856895, 7.674104244172842, 7.673513762694888, 7.669508757887897, 7.6628232710567605, 6.72616351261166, 6.72616718019848, 6.726165608375558, 6.726161416847764, 6.726156177438021, 6.7261540816741245, 6.7240006842700515, 6.722608573101531, 6.7147169741477235, 6.7130372193843515, 62.24139198912962, 666.4728373568255, 70.52055217733637, 275.2342414948094, 185.69215895163444, 20.945967659938287, 54.471410214260054, 21.89411220453844, 12.413809997742646, 11.464535836402057, 197.9068409905943, 53.83459558807338, 20.856296210081283, 398.67797088214843, 38.39783583567359, 30.034333725199673, 146.56188297468606, 224.31839532832086, 33.80831828630693, 154.47025642272405, 25.705730397942474, 271.76471274653375, 55.842689489645934, 157.22409018326118, 168.7027734738493, 158.01491411517603, 162.02060633272544, 76.98033361983153, 218.89271409089363, 120.55755232823992, 85.51900386833681, 186.93286794471516, 206.561826135378, 183.8963407836519, 299.56641242624613, 240.51994124198032, 162.94453642126072, 146.59881871760516, 148.63122348038186, 105.03745662024347, 113.72554645154271, 95.41120227202117, 112.94822762217953, 97.73382841924169, 105.49600137783136, 103.84669387235387, 17.91630852653311, 16.986762293254703, 36.69021813237468, 16.048030830646834, 35.5436595796786, 15.104018886311732, 27.31259925395204, 13.231463292881726, 13.220621441833918, 12.292925581205026, 12.272458716968124, 11.354055725074897, 11.354017794998423, 11.354016769861222, 11.354014719586818, 11.354013694449616, 11.26865256991777, 10.415525189358611, 10.40428148452764, 55.94492733730212, 9.476645081856462, 9.475339057061179, 9.463499747515876, 8.537860824682694, 8.537645033301684, 8.535157537881156, 8.524517126293532, 8.524232650719991, 31.60070716421454, 32.94472969502435, 311.79753024704024, 164.78647503368038, 31.96625263795974, 25.177353277659932, 137.17703705153212, 237.13557406668386, 66.91439976565442, 34.70528187318107, 92.64416667705395, 161.51505719482233, 131.34994396711883, 89.80859617097632, 41.76543048684204, 85.95144773931536, 194.96269254755535, 36.131178011761705, 40.47956398949877, 33.39523854006704, 231.39931633946082, 210.6980565316079, 128.2838652103599, 48.38414271969757, 104.20373678268948, 143.61409497220237, 88.38851871115395, 57.66007618878454, 305.8923463111313, 371.529273402852, 54.196937190418076, 121.26555449618483, 69.2735890139866, 281.58964009417383, 63.61767333955467, 75.19690557672357, 254.32366408016642, 112.8429452339998, 91.27254130194447, 82.84220660580556, 86.10374212203682, 117.76035616869683, 183.53472545535718, 236.69684814864036, 162.39938155071118, 128.91480845431752, 115.7742553536418, 206.2623124620696, 105.49675463715353, 106.20906917165304, 105.90769523647542, 99.73820632661133, 96.02176412674102, 182.0839004109707, 107.57639515792674, 43.94820956818579, 173.0788715903423, 68.20978261195998, 22.972926823864764, 22.015083165933355, 22.006511388344183, 285.73484857400143, 160.9158377370983, 19.81455618755979, 14.392490580980997, 13.43931651472612, 103.48164831596763, 67.40877750702467, 11.53248513377542, 11.532199166533214, 11.50390288890883, 10.579064013542308, 10.577371739039378, 10.573836966735398, 9.625639273470686, 9.624075503234824, 139.01740748695406, 8.67221272347981, 8.6691720591323, 8.662834626862773, 26.739430329671688, 7.718782553650424, 7.71878074373117, 11.1266505591841, 39.4701182082914, 91.99312793080254, 49.78139833341747, 44.104521434678844, 30.183730199878593, 49.3684978340567, 253.85985380613732, 62.78819844390287, 28.387843249388403, 279.5443455495523, 32.96308926494349, 181.00882285316948, 53.69003479827793, 85.05789381087806, 130.137234136176, 439.4443118075016, 162.10541802661427, 103.65289563614857, 176.45364703222722, 88.24026759633581, 156.9331321366679, 64.41262993349785, 197.31671659269037, 258.97989818672266, 349.22284867780667, 142.12230224896643, 264.3306276358058, 196.82346291810813, 151.31811103837003, 172.35223968741167, 85.2497090534668, 104.95324298403814, 105.6145006034973, 118.88262771545863, 114.72775535586601, 105.1590742413335, 97.9147783095157, 320.1532845783886, 17.204268146210257, 29.82118517233845, 11.800179210188201, 11.800179210188201, 11.800177994000995, 10.899035569712558, 9.097847721996336, 17.16216739366781, 8.196192066706573, 17.20657646952902, 7.29528740701709, 7.294961468845632, 7.249713831905244, 10.44456586947651, 6.393468174547994, 6.393925460937801, 29.8215621903726, 11.80021569580441, 19.04512193968064, 5.492716146352982, 5.492716146352982, 5.492674795987947, 5.492674795987947, 5.492674795987947, 5.492674795987947, 5.492674795987947, 5.492674795987947, 5.492674795987947, 5.492674795987947, 194.4262445819412, 10.89939920968743, 38.670260584969164, 10.899191241675044, 106.52968060695156, 244.59970727159887, 14.502615290479863, 62.481194523103, 20.394913392232738, 41.84413704178243, 37.964743089103315, 67.5667202468895, 58.443992983200914, 35.95783231058533, 140.9812285761325, 19.00699568693046, 15.241698337069888, 85.11075582928822, 32.78097376274066, 284.0625692211992, 184.41266505392204, 82.86366023927276, 52.34104396008377, 32.35538364392047, 50.517745828945486, 32.4794566303975, 45.866763794196615, 94.68014487134434, 51.04695266542206, 75.00105859393062, 41.672498973642206, 30.72144099615303, 50.892088251239876, 144.21818379862063, 56.860283731828694, 137.85932466342038, 60.84780159195309, 101.612129795438, 69.61985830114307, 101.4242921137014, 62.00144758795803, 65.89745465788387, 129.2800384912783, 84.63270669148413, 69.86041040117702, 74.8482227800096, 65.89978973732119, 59.32931889286317, 62.13739785869798, 63.48906345573596, 62.510835437710405, 85.48708562193698, 28.531690443813403, 14.320333371112572, 12.541151222607631, 8.093184332869601, 7.203321614565669, 41.773767788013245, 12.52784930294278, 5.424376074748663, 5.421902482096309, 16.053034630755427, 172.25846592426478, 4.53468709345291, 4.534484560255531, 4.532809581917014, 3.6449297212078053, 3.6449290013030753, 3.642247116215502, 3.6411622197873594, 3.6400667647565097, 3.6404351160100377, 3.6275610597230625, 10.761809735189113, 7.179627150218227, 6.3137890925645745, 6.313983946778167, 2.7554643903148457, 2.755464150346602, 2.7554651102195757, 2.7554651102195757, 88.55171429840078, 65.14528095382155, 5.410838986205338, 37.30234160280625, 73.03958344610244, 55.84792061790171, 231.8848381934926, 31.09733875380469, 18.76827722389924, 14.320338170477438, 20.341274818234123, 28.441660118149883, 115.15858682669887, 80.52358247668188, 14.84841708613743, 69.93378005857329, 19.19126444707069, 167.16584066663302, 140.46748840448166, 14.667128757277462, 108.45368981215414, 84.30808516723206, 56.809993620118696, 73.4102019195932, 93.48672073482271, 68.73211124372946, 77.25416298160533, 50.74073600700999, 56.11636637261592, 77.42076621384584, 75.58002165232135, 57.492144626351944, 111.28209758936545, 77.7608530477999, 83.10468858103619, 62.69583486598548, 62.368683280220445, 53.77525538804538, 54.72351005893785, 55.48338773906206, 112.07003926593356, 31.195744912412795, 64.96582649320983, 67.50774518747603, 18.752227751427817, 37.37087887526587, 14.308103654923949, 100.8441920291407, 144.63443918867839, 8.086557883889563, 7.196934545463036, 7.188537438928635, 6.30882626528086, 6.3086412661496665, 6.3086412661496665, 6.308092717527543, 12.53045224291025, 5.420090439026203, 5.419791377249851, 16.08185436630215, 16.974040285286694, 151.42039111085077, 14.267823016206082, 4.530087026131886, 23.438927222892918, 3.6423854215997626, 3.64208434458233, 3.6420831354376815, 3.6398957927688618, 5.05622254000576, 62.68868145745523, 65.66867809438818, 31.929044388028842, 7.170552621429449, 155.7649800320974, 86.54609203094057, 283.4103500736069, 110.86725310626588, 23.5714510885422, 103.09651574355449, 23.35600085852506, 90.23047507665882, 96.75701226940097, 41.582371602396336, 101.04547108387948, 19.152894758675384, 68.30153736375135, 39.86205541131691, 128.11918707559494, 93.69559344404269, 74.31050260806728, 44.07740772816482, 58.501423213462935, 51.670362134943694, 42.56262033221482, 50.23386282449057, 55.100702277856, 55.777210647629516, 47.37649602559788, 50.93796548733173, 47.98245161123806, 44.950745500371276, 44.65182882137669, 23.156489936210683, 22.33240055618814, 41.28677835294497, 16.56356704413182, 15.739449113024316, 46.23177145043963, 14.09121096672251, 13.262034925402974, 47.05588823950374, 8.322356326863318, 74.04735305567347, 13.267091893571607, 5.84999054208512, 5.849985973911526, 5.849984831868127, 5.849984831868127, 5.025861190543631, 5.025860619521931, 5.0258566223700365, 5.025855480326638, 5.024255477525315, 9.970611032794402, 4.201726414295998, 4.201726414295998, 4.201726128785149, 4.201726128785149, 4.201722131633254, 4.200865028062666, 13.267079331094223, 13.140932643424252, 55.18816457618301, 206.7290780060263, 72.51055093602534, 15.739451397111113, 11.50036103445669, 10.59495816445975, 15.473295898999973, 63.43858758652565, 22.615974500213458, 22.057387369478104, 19.857743261330818, 29.6150057407181, 20.677533990001344, 20.68417154623352, 10.794734674118898, 38.609234764254346, 26.20723960301582, 20.684166978059928, 21.013006954228857, 19.780330991605755, 53.85852912902583, 55.64234153125236, 44.07079236359253, 65.6039201428079, 33.081525443100475, 34.79212601122169, 34.63921553650747, 38.08847667905146, 22.42491520781519, 29.310648890926572, 24.217055390503706, 24.75467688852909, 25.148629327021055, 22.27030308843719, 22.836215285530628, 22.46920365080967, 23.633754138294073, 17.127200066067658, 20.38754769850845, 39.8190271939213, 7.390746099898119, 25.037677002269017, 5.766132281924436, 5.766130655876986, 5.759848150546742, 4.953819681771519, 9.827626988696124, 4.141506810610695, 4.141506810610695, 4.141307619798093, 19.57524810673513, 3.329182286109814, 3.329182286109814, 3.3291814730860887, 3.3291787630070058, 3.3286730622501155, 3.3181687957243517, 3.282209027379743, 7.1953342215699205, 5.766107349196872, 5.766124151687187, 2.516839604079076, 2.516839333071168, 2.516839333071168, 2.516839333071168, 2.5168390620632595, 49.24857175014509, 71.78698563723583, 4.953739463430662, 11.452247852875423, 7.783781823102071, 35.5365125295502, 112.03481672011452, 124.53187160557975, 12.26454419255384, 11.442319207146891, 9.827636744980822, 16.41061829944314, 48.005703465915516, 56.44370163175215, 17.94659898100684, 29.25278007549759, 18.448614030344416, 43.477044242782185, 16.326057327863293, 25.790998769006144, 33.336203658177396, 20.75828001287501, 68.60727803395757, 16.32605949592656, 48.11324807618259, 98.37556718456288, 64.7990835787589, 26.65187815438994, 62.0477375795317, 20.387536858192117, 41.72920367091966, 33.9379691303393, 61.74751718677864, 38.95771636394749, 36.26615470929158, 28.770117158876005, 31.111328461932885, 32.138565509811706, 29.514573714916775, 28.448745140895834, 25.43003574771803, 12.363647008472919, 26.07446851751042, 9.087444030229916, 7.450485766013216, 45.19826779399404, 6.6313894112048475, 5.812746999807685, 4.99387356845809, 4.99387356845809, 4.99387356845809, 4.99387356845809, 4.174995549095421, 7.450481987649508, 3.356108353706604, 3.3560978282648457, 3.355693003581843, 3.3545770368723646, 3.3551284080906147, 3.348447991171701, 5.8127345851840735, 6.531447912763822, 9.087763571846367, 38.60864603451646, 8.264367978904508, 2.5372036159148563, 2.5372036159148563, 2.5372033460317343, 2.5372033460317343, 2.5372033460317343, 2.5372033460317343, 232.68360699653752, 8.531906356342493, 4.992394069183276, 64.51917458933305, 8.269304141205923, 33.132311584881656, 75.67021837859896, 15.083749336636, 9.884189744406573, 43.71611286925892, 32.06908435557277, 14.47587322889874, 24.811208236303656, 53.773732746461405, 10.6952511389067, 21.035344725518755, 30.32247203912044, 28.676929872325346, 28.874983061640226, 18.018668914120234, 13.781440206273018, 45.39329181514757, 18.027920507542458, 26.808364929767755, 16.20688630089936, 38.68778440214734, 24.170861950392098, 29.464744614228714, 49.50061066292042, 48.23052773638945, 46.28888923971861, 27.924281980751317, 31.500030395169247, 57.76302414825539, 32.97902228971451, 40.73521276451298, 29.873723338245476, 22.877368282326188, 29.336930126713572, 23.818934359301572, 24.067958754570224], \"Total\": [340.0, 767.0, 866.0, 442.0, 334.0, 284.0, 324.0, 475.0, 659.0, 296.0, 220.0, 348.0, 202.0, 254.0, 201.0, 177.0, 401.0, 692.0, 223.0, 829.0, 379.0, 154.0, 316.0, 321.0, 182.0, 632.0, 666.0, 283.0, 357.0, 180.0, 29.224125935860876, 24.50822117852698, 43.39990431302779, 18.8370422067011, 17.89112779841344, 17.8942075671701, 16.000392123494127, 15.998234710094376, 14.115347152371553, 14.106173595033187, 11.27966390204767, 23.504533317118337, 10.33585864247991, 10.33377249704063, 23.503319081358683, 9.386001037449908, 9.385128079538301, 9.388253842012299, 8.446091520681328, 8.446092638004291, 8.44609167711885, 8.445336763338046, 247.67747211613263, 20.716392842552825, 17.890478073726225, 8.433534858064924, 7.5011993770690655, 7.501198576263443, 7.5009126078882815, 7.49401962408628, 67.09531516334805, 34.83925823870391, 25.362739684187748, 19.68635316034814, 85.19337884037368, 63.764609269764684, 189.88379551073783, 322.2324500652101, 14.992815945725363, 44.634050043726745, 306.9834291318892, 155.79341439833283, 31.388012059131224, 80.9469880510302, 54.916832072343595, 253.3950308991719, 70.02883805145242, 64.23283411469112, 57.731678689598304, 56.37190566925685, 75.45574477711239, 86.72543302898585, 70.52354726808628, 95.94089923964601, 528.8954550345628, 144.5615046821279, 307.1135665293797, 68.42470871312771, 666.9390582872119, 237.87997929846728, 246.58820769166925, 495.8133961296516, 151.9673867773183, 201.81534172493411, 582.0061549779011, 84.76740977405375, 108.14425189750055, 187.4293833284617, 692.4621665736133, 136.45253828178338, 405.55138654189994, 1708.4452689556601, 187.88854847989995, 235.30497070764693, 258.15460960785117, 438.4282415968754, 515.5679185123839, 494.22234196418503, 670.4722304491934, 779.03052742797, 829.2999827583166, 452.69677340626856, 631.6520036066851, 1180.3813106182781, 632.7414487010096, 580.8746916725114, 346.6247427792374, 342.4307652100802, 659.2142955810835, 381.3701559910149, 36.91084530873062, 17.003062431365848, 15.107410350289529, 15.107406354790676, 68.10031723819895, 25.402408488419066, 12.263409014668165, 12.252310634760072, 203.15249798461667, 10.367399536782996, 10.367400899452868, 10.36734231071562, 9.419390705506009, 9.408162620689698, 26.371052207354868, 52.03876851119469, 8.471299349388872, 8.470706201150675, 8.466742426987674, 8.460082958609709, 7.52334620511196, 7.52335243750999, 7.523351002567592, 7.5233488851966195, 7.523351144025047, 7.523350726556045, 7.521225317110322, 7.5200373180666995, 7.511976715104561, 7.510439161128563, 69.86759526952584, 767.7684402118637, 79.64385317806381, 316.00987705640614, 212.71671802868036, 23.519954010077562, 64.20673580775748, 25.418756671994313, 14.15884330172665, 13.084081950103391, 259.5345881871754, 66.74508221380988, 24.597364604027412, 612.4477133045465, 49.74695298646186, 37.89105717878037, 225.0828476313984, 370.19653826549506, 44.521694488182, 267.025853182474, 32.74427309718971, 668.7742720262949, 91.09368450396488, 347.64342809725076, 400.26705103001973, 380.9188475375404, 401.4209608679285, 150.09886003149285, 666.9390582872119, 290.5992040031146, 177.167569695444, 670.4722304491934, 829.2999827583166, 692.4621665736133, 1708.4452689556601, 1180.3813106182781, 779.03052742797, 632.7414487010096, 686.4071688198834, 381.3701559910149, 495.8133961296516, 351.61796203270194, 728.3376927760339, 405.55138654189994, 659.2142955810835, 696.0128684183632, 18.71463822597677, 17.784890396013246, 38.446564833034635, 16.846156534926966, 37.42346369244726, 15.905259645022749, 28.933110350941778, 14.029597791082079, 14.01887962567295, 13.09104871253459, 13.08972906703402, 12.152180003592791, 12.15214728236459, 12.152146751607187, 12.15214559229274, 12.152146394202852, 12.128016872263984, 11.21364261880188, 11.20253525163878, 60.65190966860183, 10.274764622179577, 10.273464319522837, 10.261715929210844, 9.335980248631405, 9.335773255901126, 9.333737812947374, 9.322777112612723, 9.322552294071187, 34.57010132669817, 36.19648068264687, 348.1183791808354, 183.76981646286734, 35.330802478177006, 28.13953372157741, 160.2918913633104, 283.7861516964983, 77.1845990896469, 39.409374742911524, 113.1626658610137, 209.54425897681688, 167.9331171853098, 113.42833925015012, 49.67747716196104, 110.38168238668615, 272.9127949673862, 42.92851284710577, 49.654729017449405, 40.20432555468612, 357.4445597468197, 326.95727574251816, 191.83488688600377, 62.11166685643572, 154.40258487371412, 231.15229781044516, 129.42378345363966, 77.38054007286775, 619.7695800226953, 866.3419998048842, 72.420691998414, 217.37361430685155, 101.46934646588286, 728.3376927760339, 91.6468528496145, 116.87284311698664, 686.4071688198834, 215.4697145009302, 165.53321587691937, 145.13072357847227, 158.04619758202108, 291.24058840784215, 696.0128684183632, 1180.3813106182781, 560.1908580028258, 409.9915367900761, 317.99375974639804, 1708.4452689556601, 295.47843336355504, 359.92857667394065, 631.6520036066851, 475.663952796318, 582.0061549779011, 182.98067424011893, 109.50022156596198, 44.744972129213345, 176.95780509170154, 70.45673293866848, 23.769701787583486, 22.813170443681035, 22.811735963328363, 296.2645216030014, 167.58591813193152, 20.89697243706419, 15.189168041090808, 14.235982858071122, 110.14122334607235, 72.04298851316322, 12.32914240143521, 12.328869819223252, 12.32388748874902, 11.375718509691875, 11.374227868957291, 11.372202832682307, 10.422294294516801, 10.420822531390321, 151.0726261257304, 9.468866078398545, 9.466369963959968, 9.46479913905755, 29.440572280766332, 8.515433012110979, 8.515432366611932, 12.305691771469627, 44.7010411929065, 106.64497736586402, 56.98850400572833, 50.38553982974063, 34.15418511984086, 56.90946469254828, 321.0604986100679, 74.72168670663602, 32.294868243572616, 379.61358518955967, 38.824290303135584, 253.93158802945226, 67.0413332470013, 112.96252045823738, 182.6863117878222, 866.3419998048842, 265.08724771483395, 156.93904968887338, 317.99375974639804, 133.04654557135902, 307.72055775753387, 93.86790689128642, 434.4019698371074, 703.2073591495223, 1708.4452689556601, 370.1288748756525, 1180.3813106182781, 696.0128684183632, 527.5354253885629, 728.3376927760339, 181.45070739803276, 339.78316658995715, 357.4445597468197, 631.6520036066851, 580.8746916725114, 779.03052742797, 398.77660866399776, 334.7573998751077, 18.00803199320975, 31.509048098970094, 12.602071378849383, 12.60207190231083, 12.602072311202294, 11.70095822367493, 9.899743139701071, 18.819591939770035, 8.998080345425292, 18.895353812635214, 8.097192089376781, 8.096850632772501, 8.079588152429041, 11.71423042617656, 7.195369493675913, 7.19590492313292, 33.87153073359027, 13.412753386658874, 21.68484392656536, 6.294600939522753, 6.29460099572273, 6.294564726936512, 6.294564763034109, 6.294564836185762, 6.294564845507652, 6.2945648530978815, 6.294564864505, 6.294564889922072, 6.294564940612701, 223.1500210407597, 12.58759893520263, 45.96167980670133, 12.634654044527535, 134.3086089247062, 324.02081926733246, 17.196074316737942, 78.99184890145006, 25.348879685285404, 54.78260706829539, 50.31894962911763, 96.70034935394891, 82.81804310839269, 49.18097628850886, 236.6836008258717, 24.071744312408075, 18.76723026577083, 145.4434740334381, 47.246984236449755, 659.2142955810835, 401.6804255834799, 151.17409124057005, 85.97322723321048, 47.12133820696727, 85.53367361964617, 48.66918610859233, 78.66946940873065, 214.62450070507927, 92.31870569255152, 162.73571703103082, 75.87314788487667, 47.53399517283407, 112.33991969610416, 703.2073591495223, 145.0783487021456, 829.2999827583166, 167.52082920962022, 515.5679185123839, 260.58433905031535, 668.7742720262949, 197.3137999291142, 231.843472676728, 1708.4452689556601, 580.8746916725114, 438.4282415968754, 692.4621665736133, 448.0706615947518, 280.7019797603217, 405.55138654189994, 494.22234196418503, 528.8954550345628, 86.29025201826333, 29.352351555158545, 15.123362750769406, 13.344178252771977, 8.896210126015678, 8.006356095544316, 47.324208808999735, 14.276986325508181, 6.227398244272358, 6.225142517652604, 18.658296298812672, 201.99012506285112, 5.337710165995968, 5.337519236210387, 5.335849817300969, 4.447953853139496, 4.44795401430895, 4.445290981494515, 4.444708218594851, 4.443473642586302, 4.444027240864077, 4.437407498525626, 13.344428397114505, 8.948025025881233, 8.054663551713809, 8.058416150448416, 3.558482396439504, 3.5584825992477045, 3.5584839372218924, 3.5584840123432944, 115.08450380576595, 85.84666617049102, 7.144054896745377, 58.0292897770077, 119.7546979348106, 92.66795733347504, 475.663952796318, 49.67220173170838, 28.834823633836482, 22.62432238774128, 35.399742814840565, 53.32325069678107, 315.88905767544946, 201.81534172493411, 25.277263876197498, 198.8412332901522, 35.861911672868985, 692.4621665736133, 686.4071688198834, 26.31735693434683, 632.7414487010096, 495.8133961296516, 258.35364561748895, 409.9915367900761, 666.9390582872119, 405.55138654189994, 527.5354253885629, 242.5092288032914, 306.4421499918984, 668.7742720262949, 659.2142955810835, 358.76946782474266, 1708.4452689556601, 829.2999827583166, 1180.3813106182781, 631.6520036066851, 670.4722304491934, 438.4282415968754, 528.8954550345628, 779.03052742797, 113.69150617739261, 31.998893843437784, 66.70657067941421, 69.39778402515502, 19.55535254328429, 39.17220604119836, 15.111224578995532, 107.143570809293, 154.81379983847978, 8.889664565837597, 8.000053345162407, 7.999178776212742, 7.111936255873015, 7.111746035064395, 7.111746208622301, 7.111211446236731, 14.220050867800362, 6.223193169072295, 6.222896488409017, 18.596149970832112, 19.664742627292934, 177.45416219690605, 16.7503321561974, 5.333196465759922, 27.765375507950477, 4.445485798634816, 4.445184883384378, 4.445184453457922, 4.443172266741975, 6.188945792820846, 77.71022614190875, 82.59490718509399, 40.4310255406809, 8.934434759650195, 220.09218512329863, 124.12487217235423, 442.1387343298297, 162.73418530789075, 31.529408193568692, 163.98282247046185, 31.5449560228462, 165.19347086532042, 180.47008615725102, 84.58821956799079, 285.4905489988547, 30.18685029752951, 202.98982450391642, 113.54435776510647, 1708.4452689556601, 1180.3813106182781, 703.2073591495223, 211.08269745902385, 434.4019698371074, 373.99866523205276, 235.30497070764693, 448.0706615947518, 632.7414487010096, 728.3376927760339, 404.18101259777745, 779.03052742797, 670.4722304491934, 580.8746916725114, 631.6520036066851, 23.9661205983016, 23.14199972502826, 43.037921817887096, 17.37315684960473, 16.54903748489716, 48.66464885788501, 14.900795082106649, 14.071984173516526, 50.301163509893996, 9.131943000867842, 82.7887621324674, 14.8937937973745, 6.65956279675847, 6.659563782928307, 6.659563739836434, 6.659563989871017, 5.835431163111739, 5.835431198194269, 5.835432391791041, 5.83543270888899, 5.834013378735893, 11.71242160821464, 5.011295266512635, 5.0112953002536, 5.011295403379909, 5.01129541400525, 5.011295985583599, 5.010473493839876, 15.965870674673663, 15.926878591652514, 67.86266803728302, 284.8299212948266, 98.89748644854429, 21.204948710104443, 15.10645658544747, 14.057966259058464, 21.543561718205634, 108.1616740408481, 33.8994564976969, 36.677972622068566, 33.934954156170974, 57.34772974281398, 35.772443428821724, 39.69621937620613, 15.93739041248731, 104.76226863209352, 59.004262008839845, 46.25033738770622, 59.399371608238866, 52.18995507806666, 632.7414487010096, 779.03052742797, 438.4282415968754, 1708.4452689556601, 242.5092288032914, 330.50836401556717, 448.0706615947518, 829.2999827583166, 89.10566465807631, 404.18101259777745, 190.9530092171465, 342.4307652100802, 527.5354253885629, 139.7266551522579, 251.77965111363432, 358.76946782474266, 24.444559575910965, 17.939309967244526, 22.095520745903265, 43.16522329595256, 8.201499277844096, 27.913631790245418, 6.576883705393645, 6.576883745149731, 6.570700878685425, 5.764572716295689, 11.570618645791725, 4.952256393822844, 4.95225668661261, 4.952060016955457, 24.018031450778913, 4.139931016754082, 4.139931242553378, 4.139931206519262, 4.13993062272409, 4.139428066529708, 4.129089868403637, 4.121431434374136, 9.146755985224289, 7.474050629967529, 7.509115854242857, 3.327587077979152, 3.3275869953019104, 3.327587005444752, 3.327587064524751, 3.32758686897166, 65.75057945576177, 97.28546711271149, 6.586815205999885, 15.89684220360104, 10.85956458888926, 54.60312832803445, 202.98982450391642, 254.5644092098764, 19.411138888848022, 17.875839553761434, 15.04514426097477, 28.093487801333726, 109.00946084450034, 137.87611078757627, 33.14793735710991, 63.46561286411712, 34.68430189013011, 107.7816823148056, 29.79611592417169, 57.135965692700545, 85.53367361964617, 43.599795928227906, 324.02081926733246, 33.55261573830419, 231.41973230721686, 829.2999827583166, 401.6804255834799, 102.46435628164838, 659.2142955810835, 63.7222820313325, 404.18101259777745, 258.35364561748895, 1708.4452689556601, 448.0706615947518, 560.1908580028258, 260.58433905031535, 632.7414487010096, 779.03052742797, 670.4722304491934, 692.4621665736133, 528.8954550345628, 13.173757000224118, 27.9988437847987, 9.897554846463178, 8.260586556464318, 50.62577031014978, 7.441486520290242, 6.6228443623907705, 5.803969303071183, 5.803969934894951, 5.80397003530705, 5.803970074285049, 4.985090138145647, 9.192707226871258, 4.16620166668528, 4.166191916467232, 4.165790410833313, 4.164686844014987, 4.165438773745505, 4.165242122904085, 7.43300738267277, 8.39432305900959, 11.768559729323881, 50.380965167518674, 10.8546575082521, 3.3472953448901586, 3.347295366489866, 3.3472951393988812, 3.3472951681880514, 3.3472952116763843, 3.347295250292743, 340.67696783705856, 11.553058750513166, 6.743914193766989, 103.11472479435606, 11.837242858789578, 53.426970019083825, 145.3041154474616, 24.204575084669827, 14.847798308326137, 89.10566465807631, 63.44410701590547, 24.472631765694192, 49.91800917115917, 167.52082920962022, 18.14716319177948, 58.92439520150578, 108.1616740408481, 106.02361438932054, 112.24942151552115, 52.88679371789022, 33.620865940272154, 339.78316658995715, 56.46459225173231, 128.58949316049208, 46.25033738770622, 284.8299212948266, 116.75346121603724, 187.88854847989995, 632.7414487010096, 670.4722304491934, 668.7742720262949, 190.9530092171465, 280.7019797603217, 1708.4452689556601, 373.99866523205276, 779.03052742797, 351.61796203270194, 139.7266551522579, 619.7695800226953, 318.7408140504725, 1180.3813106182781], \"Category\": [\"Default\", \"Default\", \"Default\", \"Default\", \"Default\", \"Default\", \"Default\", \"Default\", \"Default\", \"Default\", \"Default\", \"Default\", \"Default\", \"Default\", \"Default\", \"Default\", \"Default\", \"Default\", \"Default\", \"Default\", \"Default\", \"Default\", \"Default\", \"Default\", \"Default\", \"Default\", \"Default\", \"Default\", \"Default\", \"Default\", \"Topic1\", \"Topic1\", \"Topic1\", \"Topic1\", \"Topic1\", \"Topic1\", \"Topic1\", \"Topic1\", \"Topic1\", \"Topic1\", \"Topic1\", \"Topic1\", \"Topic1\", \"Topic1\", \"Topic1\", \"Topic1\", \"Topic1\", \"Topic1\", \"Topic1\", \"Topic1\", \"Topic1\", \"Topic1\", \"Topic1\", \"Topic1\", \"Topic1\", \"Topic1\", \"Topic1\", \"Topic1\", \"Topic1\", \"Topic1\", \"Topic1\", \"Topic1\", \"Topic1\", \"Topic1\", \"Topic1\", \"Topic1\", \"Topic1\", \"Topic1\", \"Topic1\", \"Topic1\", \"Topic1\", \"Topic1\", \"Topic1\", \"Topic1\", \"Topic1\", \"Topic1\", \"Topic1\", \"Topic1\", \"Topic1\", \"Topic1\", \"Topic1\", \"Topic1\", \"Topic1\", \"Topic1\", \"Topic1\", \"Topic1\", \"Topic1\", \"Topic1\", \"Topic1\", \"Topic1\", \"Topic1\", \"Topic1\", \"Topic1\", \"Topic1\", \"Topic1\", \"Topic1\", \"Topic1\", \"Topic1\", \"Topic1\", \"Topic1\", \"Topic1\", \"Topic1\", \"Topic1\", \"Topic1\", \"Topic1\", \"Topic1\", \"Topic1\", \"Topic1\", \"Topic1\", \"Topic1\", \"Topic1\", \"Topic1\", \"Topic1\", \"Topic1\", \"Topic1\", \"Topic1\", \"Topic1\", \"Topic1\", \"Topic1\", \"Topic1\", \"Topic2\", \"Topic2\", \"Topic2\", \"Topic2\", \"Topic2\", \"Topic2\", \"Topic2\", \"Topic2\", \"Topic2\", \"Topic2\", \"Topic2\", \"Topic2\", \"Topic2\", \"Topic2\", \"Topic2\", \"Topic2\", \"Topic2\", \"Topic2\", \"Topic2\", \"Topic2\", \"Topic2\", \"Topic2\", \"Topic2\", \"Topic2\", \"Topic2\", \"Topic2\", \"Topic2\", \"Topic2\", \"Topic2\", \"Topic2\", \"Topic2\", \"Topic2\", \"Topic2\", \"Topic2\", \"Topic2\", \"Topic2\", \"Topic2\", \"Topic2\", \"Topic2\", \"Topic2\", \"Topic2\", \"Topic2\", \"Topic2\", \"Topic2\", \"Topic2\", \"Topic2\", \"Topic2\", \"Topic2\", \"Topic2\", \"Topic2\", \"Topic2\", \"Topic2\", \"Topic2\", \"Topic2\", \"Topic2\", \"Topic2\", \"Topic2\", \"Topic2\", \"Topic2\", \"Topic2\", \"Topic2\", \"Topic2\", \"Topic2\", \"Topic2\", \"Topic2\", \"Topic2\", \"Topic2\", \"Topic2\", \"Topic2\", \"Topic2\", \"Topic2\", \"Topic2\", \"Topic2\", \"Topic2\", \"Topic2\", \"Topic2\", \"Topic3\", \"Topic3\", \"Topic3\", \"Topic3\", \"Topic3\", \"Topic3\", \"Topic3\", \"Topic3\", \"Topic3\", \"Topic3\", \"Topic3\", \"Topic3\", \"Topic3\", \"Topic3\", \"Topic3\", \"Topic3\", \"Topic3\", \"Topic3\", \"Topic3\", \"Topic3\", \"Topic3\", \"Topic3\", \"Topic3\", \"Topic3\", \"Topic3\", \"Topic3\", \"Topic3\", \"Topic3\", \"Topic3\", \"Topic3\", \"Topic3\", \"Topic3\", \"Topic3\", \"Topic3\", \"Topic3\", \"Topic3\", \"Topic3\", \"Topic3\", \"Topic3\", \"Topic3\", \"Topic3\", \"Topic3\", \"Topic3\", \"Topic3\", \"Topic3\", \"Topic3\", \"Topic3\", \"Topic3\", \"Topic3\", \"Topic3\", \"Topic3\", \"Topic3\", \"Topic3\", \"Topic3\", \"Topic3\", \"Topic3\", \"Topic3\", \"Topic3\", \"Topic3\", \"Topic3\", \"Topic3\", \"Topic3\", \"Topic3\", \"Topic3\", \"Topic3\", \"Topic3\", \"Topic3\", \"Topic3\", \"Topic3\", \"Topic3\", \"Topic3\", \"Topic3\", \"Topic3\", \"Topic3\", \"Topic3\", \"Topic3\", \"Topic3\", \"Topic3\", \"Topic3\", \"Topic3\", \"Topic3\", \"Topic4\", \"Topic4\", \"Topic4\", \"Topic4\", \"Topic4\", \"Topic4\", \"Topic4\", \"Topic4\", \"Topic4\", \"Topic4\", \"Topic4\", \"Topic4\", \"Topic4\", \"Topic4\", \"Topic4\", \"Topic4\", \"Topic4\", \"Topic4\", \"Topic4\", \"Topic4\", \"Topic4\", \"Topic4\", \"Topic4\", \"Topic4\", \"Topic4\", \"Topic4\", \"Topic4\", \"Topic4\", \"Topic4\", \"Topic4\", \"Topic4\", \"Topic4\", \"Topic4\", \"Topic4\", \"Topic4\", \"Topic4\", \"Topic4\", \"Topic4\", \"Topic4\", \"Topic4\", \"Topic4\", \"Topic4\", \"Topic4\", \"Topic4\", \"Topic4\", \"Topic4\", \"Topic4\", \"Topic4\", \"Topic4\", \"Topic4\", \"Topic4\", \"Topic4\", \"Topic4\", \"Topic4\", \"Topic4\", \"Topic4\", \"Topic4\", \"Topic4\", \"Topic4\", \"Topic4\", \"Topic4\", \"Topic4\", \"Topic4\", \"Topic4\", \"Topic4\", \"Topic4\", \"Topic4\", \"Topic4\", \"Topic5\", \"Topic5\", \"Topic5\", \"Topic5\", \"Topic5\", \"Topic5\", \"Topic5\", \"Topic5\", \"Topic5\", \"Topic5\", \"Topic5\", \"Topic5\", \"Topic5\", \"Topic5\", \"Topic5\", \"Topic5\", \"Topic5\", \"Topic5\", \"Topic5\", \"Topic5\", \"Topic5\", \"Topic5\", \"Topic5\", \"Topic5\", \"Topic5\", \"Topic5\", \"Topic5\", \"Topic5\", \"Topic5\", \"Topic5\", \"Topic5\", \"Topic5\", \"Topic5\", \"Topic5\", \"Topic5\", \"Topic5\", \"Topic5\", \"Topic5\", \"Topic5\", \"Topic5\", \"Topic5\", \"Topic5\", \"Topic5\", \"Topic5\", \"Topic5\", \"Topic5\", \"Topic5\", \"Topic5\", \"Topic5\", \"Topic5\", \"Topic5\", \"Topic5\", \"Topic5\", \"Topic5\", \"Topic5\", \"Topic5\", \"Topic5\", \"Topic5\", \"Topic5\", \"Topic5\", \"Topic5\", \"Topic5\", \"Topic5\", \"Topic5\", \"Topic5\", \"Topic5\", \"Topic5\", \"Topic5\", \"Topic5\", \"Topic5\", \"Topic5\", \"Topic5\", \"Topic5\", \"Topic5\", \"Topic5\", \"Topic5\", \"Topic5\", \"Topic5\", \"Topic5\", \"Topic5\", \"Topic5\", \"Topic6\", \"Topic6\", \"Topic6\", \"Topic6\", \"Topic6\", \"Topic6\", \"Topic6\", \"Topic6\", \"Topic6\", \"Topic6\", \"Topic6\", \"Topic6\", \"Topic6\", \"Topic6\", \"Topic6\", \"Topic6\", \"Topic6\", \"Topic6\", \"Topic6\", \"Topic6\", \"Topic6\", \"Topic6\", \"Topic6\", \"Topic6\", \"Topic6\", \"Topic6\", \"Topic6\", \"Topic6\", \"Topic6\", \"Topic6\", \"Topic6\", \"Topic6\", \"Topic6\", \"Topic6\", \"Topic6\", \"Topic6\", \"Topic6\", \"Topic6\", \"Topic6\", \"Topic6\", \"Topic6\", \"Topic6\", \"Topic6\", \"Topic6\", \"Topic6\", \"Topic6\", \"Topic6\", \"Topic6\", \"Topic6\", \"Topic6\", \"Topic6\", \"Topic6\", \"Topic6\", \"Topic6\", \"Topic6\", \"Topic6\", \"Topic6\", \"Topic6\", \"Topic6\", \"Topic6\", \"Topic6\", \"Topic6\", \"Topic6\", \"Topic6\", \"Topic6\", \"Topic6\", \"Topic6\", \"Topic6\", \"Topic6\", \"Topic6\", \"Topic7\", \"Topic7\", \"Topic7\", \"Topic7\", \"Topic7\", \"Topic7\", \"Topic7\", \"Topic7\", \"Topic7\", \"Topic7\", \"Topic7\", \"Topic7\", \"Topic7\", \"Topic7\", \"Topic7\", \"Topic7\", \"Topic7\", \"Topic7\", \"Topic7\", \"Topic7\", \"Topic7\", \"Topic7\", \"Topic7\", \"Topic7\", \"Topic7\", \"Topic7\", \"Topic7\", \"Topic7\", \"Topic7\", \"Topic7\", \"Topic7\", \"Topic7\", \"Topic7\", \"Topic7\", \"Topic7\", \"Topic7\", \"Topic7\", \"Topic7\", \"Topic7\", \"Topic7\", \"Topic7\", \"Topic7\", \"Topic7\", \"Topic7\", \"Topic7\", \"Topic7\", \"Topic7\", \"Topic7\", \"Topic7\", \"Topic7\", \"Topic7\", \"Topic7\", \"Topic7\", \"Topic7\", \"Topic7\", \"Topic7\", \"Topic7\", \"Topic7\", \"Topic7\", \"Topic7\", \"Topic7\", \"Topic7\", \"Topic7\", \"Topic8\", \"Topic8\", \"Topic8\", \"Topic8\", \"Topic8\", \"Topic8\", \"Topic8\", \"Topic8\", \"Topic8\", \"Topic8\", \"Topic8\", \"Topic8\", \"Topic8\", \"Topic8\", \"Topic8\", \"Topic8\", \"Topic8\", \"Topic8\", \"Topic8\", \"Topic8\", \"Topic8\", \"Topic8\", \"Topic8\", \"Topic8\", \"Topic8\", \"Topic8\", \"Topic8\", \"Topic8\", \"Topic8\", \"Topic8\", \"Topic8\", \"Topic8\", \"Topic8\", \"Topic8\", \"Topic8\", \"Topic8\", \"Topic8\", \"Topic8\", \"Topic8\", \"Topic8\", \"Topic8\", \"Topic8\", \"Topic8\", \"Topic8\", \"Topic8\", \"Topic8\", \"Topic8\", \"Topic8\", \"Topic8\", \"Topic8\", \"Topic8\", \"Topic8\", \"Topic8\", \"Topic8\", \"Topic8\", \"Topic8\", \"Topic8\", \"Topic8\", \"Topic8\", \"Topic8\", \"Topic8\", \"Topic8\", \"Topic8\", \"Topic8\", \"Topic8\", \"Topic8\", \"Topic9\", \"Topic9\", \"Topic9\", \"Topic9\", \"Topic9\", \"Topic9\", \"Topic9\", \"Topic9\", \"Topic9\", \"Topic9\", \"Topic9\", \"Topic9\", \"Topic9\", \"Topic9\", \"Topic9\", \"Topic9\", \"Topic9\", \"Topic9\", \"Topic9\", \"Topic9\", \"Topic9\", \"Topic9\", \"Topic9\", \"Topic9\", \"Topic9\", \"Topic9\", \"Topic9\", \"Topic9\", \"Topic9\", \"Topic9\", \"Topic9\", \"Topic9\", \"Topic9\", \"Topic9\", \"Topic9\", \"Topic9\", \"Topic9\", \"Topic9\", \"Topic9\", \"Topic9\", \"Topic9\", \"Topic9\", \"Topic9\", \"Topic9\", \"Topic9\", \"Topic9\", \"Topic9\", \"Topic9\", \"Topic9\", \"Topic9\", \"Topic9\", \"Topic9\", \"Topic9\", \"Topic9\", \"Topic9\", \"Topic9\", \"Topic9\", \"Topic9\", \"Topic9\", \"Topic9\", \"Topic9\", \"Topic9\", \"Topic9\", \"Topic9\", \"Topic9\", \"Topic9\", \"Topic9\", \"Topic9\", \"Topic9\", \"Topic9\", \"Topic9\", \"Topic10\", \"Topic10\", \"Topic10\", \"Topic10\", \"Topic10\", \"Topic10\", \"Topic10\", \"Topic10\", \"Topic10\", \"Topic10\", \"Topic10\", \"Topic10\", \"Topic10\", \"Topic10\", \"Topic10\", \"Topic10\", \"Topic10\", \"Topic10\", \"Topic10\", \"Topic10\", \"Topic10\", \"Topic10\", \"Topic10\", \"Topic10\", \"Topic10\", \"Topic10\", \"Topic10\", \"Topic10\", \"Topic10\", \"Topic10\", \"Topic10\", \"Topic10\", \"Topic10\", \"Topic10\", \"Topic10\", \"Topic10\", \"Topic10\", \"Topic10\", \"Topic10\", \"Topic10\", \"Topic10\", \"Topic10\", \"Topic10\", \"Topic10\", \"Topic10\", \"Topic10\", \"Topic10\", \"Topic10\", \"Topic10\", \"Topic10\", \"Topic10\", \"Topic10\", \"Topic10\", \"Topic10\", \"Topic10\", \"Topic10\", \"Topic10\", \"Topic10\", \"Topic10\", \"Topic10\", \"Topic10\", \"Topic10\", \"Topic10\", \"Topic10\", \"Topic10\", \"Topic10\", \"Topic10\", \"Topic10\", \"Topic10\", \"Topic10\", \"Topic10\"], \"logprob\": [30.0, 29.0, 28.0, 27.0, 26.0, 25.0, 24.0, 23.0, 22.0, 21.0, 20.0, 19.0, 18.0, 17.0, 16.0, 15.0, 14.0, 13.0, 12.0, 11.0, 10.0, 9.0, 8.0, 7.0, 6.0, 5.0, 4.0, 3.0, 2.0, 1.0, -7.1904, -7.3718, -6.8085, -7.6453, -7.699, -7.6989, -7.8162, -7.818, -7.9486, -7.9493, -8.188, -7.455, -8.2824, -8.2826, -7.4688, -8.3873, -8.3874, -8.3881, -8.5032, -8.5032, -8.5032, -8.5033, -5.1248, -7.6067, -7.7556, -8.5127, -8.6351, -8.6351, -8.6351, -8.6362, -6.4542, -7.105, -7.4241, -7.6763, -6.2509, -6.5474, -5.5021, -5.0267, -7.9526, -6.9267, -5.1173, -5.7708, -7.2628, -6.3929, -6.7629, -5.3976, -6.5505, -6.6533, -6.7458, -6.7767, -6.5345, -6.4219, -6.5925, -6.3405, -4.9427, -6.0105, -5.4229, -6.6373, -4.9178, -5.72, -5.6964, -5.1873, -6.0578, -5.876, -5.1527, -6.4935, -6.3392, -5.998, -5.2082, -6.2181, -5.6083, -4.8353, -6.0601, -5.9598, -5.9224, -5.6859, -5.6496, -5.6736, -5.555, -5.4956, -5.5095, -5.7735, -5.6746, -5.4966, -5.6854, -5.7388, -5.8769, -5.8844, -5.8154, -5.874, -6.9047, -7.706, -7.8304, -7.8304, -6.3298, -7.3221, -8.052, -8.053, -5.2554, -8.2328, -8.2328, -8.2328, -8.3371, -8.3384, -7.3146, -6.6353, -8.4536, -8.4536, -8.4542, -8.455, -8.5854, -8.5854, -8.5854, -8.5854, -8.5854, -8.5854, -8.5857, -8.5859, -8.5871, -8.5874, -6.3604, -3.9894, -6.2355, -4.8738, -5.2673, -7.4495, -6.4937, -7.4052, -7.9726, -8.0522, -5.2036, -6.5055, -7.4538, -4.5033, -6.8434, -7.0891, -5.504, -5.0783, -6.9707, -5.4514, -7.2447, -4.8865, -6.4689, -5.4337, -5.3633, -5.4287, -5.4037, -6.1479, -5.1028, -5.6993, -6.0427, -5.2607, -5.1608, -5.277, -4.7891, -5.0086, -5.398, -5.5037, -5.4899, -5.8371, -5.7576, -5.9332, -5.7645, -5.9092, -5.8327, -5.8485, -7.5838, -7.637, -6.867, -7.6939, -6.8987, -7.7545, -7.1621, -7.8869, -7.8877, -7.9604, -7.9621, -8.0399, -8.0399, -8.0399, -8.0399, -8.0399, -8.0474, -8.1262, -8.1272, -6.4451, -8.2206, -8.2208, -8.222, -8.325, -8.325, -8.3253, -8.3265, -8.3266, -7.0163, -6.9746, -4.7271, -5.3648, -7.0048, -7.2435, -5.5482, -5.0008, -6.2661, -6.9226, -5.9407, -5.3849, -5.5916, -5.9718, -6.7374, -6.0157, -5.1967, -6.8823, -6.7687, -6.9611, -5.0253, -5.119, -5.6152, -6.5903, -5.8231, -5.5023, -5.9877, -6.4149, -4.7462, -4.5518, -6.4768, -5.6715, -6.2314, -4.829, -6.3166, -6.1494, -4.9309, -5.7435, -5.9556, -6.0525, -6.0139, -5.7008, -5.2571, -5.0027, -5.3794, -5.6103, -5.7178, -5.1403, -5.8108, -5.8041, -5.8069, -5.8669, -5.9049, -5.1403, -5.6666, -6.5618, -5.191, -6.1222, -7.2105, -7.253, -7.2534, -4.6897, -5.2639, -7.3584, -7.6781, -7.7466, -5.7054, -6.134, -7.8996, -7.8996, -7.9021, -7.9859, -7.9861, -7.9864, -8.0803, -8.0805, -5.4102, -8.1847, -8.185, -8.1857, -7.0586, -8.3011, -8.3011, -7.9354, -6.6692, -5.8231, -6.4371, -6.5582, -6.9375, -6.4455, -4.808, -6.205, -6.9988, -4.7116, -6.8494, -5.1462, -6.3615, -5.9014, -5.4762, -4.2593, -5.2565, -5.7037, -5.1717, -5.8647, -5.289, -6.1795, -5.06, -4.788, -4.4891, -5.3881, -4.7676, -5.0625, -5.3254, -5.1952, -5.8992, -5.6913, -5.685, -5.5666, -5.6022, -5.6893, -5.7607, -4.1784, -7.1021, -6.552, -7.4791, -7.4791, -7.4791, -7.5585, -7.7392, -7.1045, -7.8435, -7.1019, -7.96, -7.96, -7.9663, -7.6011, -8.0919, -8.0919, -6.552, -7.4791, -7.0004, -8.2438, -8.2438, -8.2438, -8.2438, -8.2438, -8.2438, -8.2438, -8.2438, -8.2438, -8.2438, -4.6772, -7.5585, -6.2921, -7.5585, -5.2788, -4.4476, -7.2729, -5.8123, -6.9319, -6.2133, -6.3106, -5.7341, -5.8791, -6.3649, -4.9986, -7.0024, -7.2232, -5.5033, -6.4574, -4.298, -4.73, -5.53, -5.9894, -6.4704, -6.0249, -6.4666, -6.1215, -5.3967, -6.0145, -5.6297, -6.2174, -6.5223, -6.0175, -4.9759, -5.9066, -5.021, -5.8388, -5.3261, -5.7042, -5.3279, -5.8201, -5.7591, -5.0852, -5.5089, -5.7007, -5.6318, -5.7591, -5.8641, -5.8179, -5.7963, -5.8119, -5.2622, -6.3595, -7.0489, -7.1815, -7.6195, -7.736, -5.9783, -7.1826, -8.0196, -8.0201, -6.9346, -4.5615, -8.1988, -8.1988, -8.1992, -8.4172, -8.4172, -8.4179, -8.4182, -8.4185, -8.4184, -8.422, -7.3345, -7.7393, -7.8678, -7.8678, -8.697, -8.697, -8.697, -8.697, -5.227, -5.5339, -8.0221, -6.0915, -5.4195, -5.6879, -4.2643, -6.2734, -6.7784, -7.0489, -6.6979, -6.3627, -4.9642, -5.322, -7.0126, -5.463, -6.7561, -4.5916, -4.7656, -7.0249, -5.0242, -5.2761, -5.6708, -5.4145, -5.1727, -5.4803, -5.3634, -5.7838, -5.6831, -5.3613, -5.3853, -5.6589, -4.9985, -5.3569, -5.2904, -5.5722, -5.5775, -5.7257, -5.7082, -5.6945, -4.8168, -6.0957, -5.3621, -5.3237, -6.6046, -5.915, -6.8751, -4.9224, -4.5617, -7.4457, -7.5623, -7.5635, -7.694, -7.694, -7.694, -7.6941, -7.0078, -7.8458, -7.8459, -6.7583, -6.7043, -4.5159, -6.8779, -8.0252, -6.3815, -8.2433, -8.2434, -8.2434, -8.244, -7.9153, -5.3978, -5.3513, -6.0724, -7.566, -4.4876, -5.0753, -3.889, -4.8276, -6.3759, -4.9003, -6.3851, -5.0336, -4.9637, -5.8083, -4.9204, -6.5835, -5.312, -5.8505, -4.683, -4.9959, -5.2277, -5.75, -5.4669, -5.5911, -5.785, -5.6193, -5.5268, -5.5146, -5.6778, -5.6053, -5.6651, -5.7304, -5.737, -6.0489, -6.0851, -5.4706, -6.384, -6.435, -5.3575, -6.5456, -6.6063, -5.3398, -7.0722, -4.8865, -6.6059, -7.4247, -7.4247, -7.4247, -7.4247, -7.5766, -7.5766, -7.5766, -7.5766, -7.5769, -6.8915, -7.7557, -7.7557, -7.7557, -7.7557, -7.7557, -7.7559, -6.6059, -6.6154, -5.1804, -3.8598, -4.9074, -6.435, -6.7488, -6.8308, -6.452, -5.0411, -6.0725, -6.0975, -6.2026, -5.8029, -6.1621, -6.1618, -6.8121, -5.5377, -5.9251, -6.1618, -6.146, -6.2065, -5.2048, -5.1722, -5.4054, -5.0075, -5.6922, -5.6418, -5.6462, -5.5513, -6.081, -5.8132, -6.0041, -5.9822, -5.9664, -6.0879, -6.0628, -6.079, -5.9764, -6.2984, -6.1241, -5.4547, -7.1388, -5.9187, -7.387, -7.387, -7.3881, -7.5389, -6.8538, -7.718, -7.718, -7.718, -6.1648, -7.9363, -7.9363, -7.9363, -7.9363, -7.9365, -7.9396, -7.9505, -7.1656, -7.387, -7.387, -8.216, -8.216, -8.216, -8.216, -8.216, -5.2422, -4.8653, -7.5389, -6.7008, -7.087, -5.5685, -4.4202, -4.3145, -6.6323, -6.7017, -6.8538, -6.3411, -5.2677, -5.1058, -6.2516, -5.7631, -6.224, -5.3668, -6.3463, -5.889, -5.6324, -6.1061, -4.9106, -6.3463, -5.2655, -4.5502, -4.9677, -5.8562, -5.0111, -6.1241, -5.4078, -5.6145, -5.016, -5.4766, -5.5481, -5.7797, -5.7015, -5.669, -5.7541, -5.7909, -5.9031, -6.6201, -5.8739, -6.928, -7.1266, -5.3238, -7.2431, -7.3748, -7.5267, -7.5267, -7.5267, -7.5267, -7.7058, -7.1266, -7.9241, -7.9241, -7.9242, -7.9245, -7.9244, -7.9264, -7.3748, -7.2582, -6.9279, -5.4814, -7.0229, -8.2038, -8.2038, -8.2038, -8.2038, -8.2038, -8.2038, -3.6852, -6.9911, -7.527, -4.9679, -7.0223, -5.6344, -4.8085, -6.4213, -6.8439, -5.3572, -5.667, -6.4624, -5.9236, -5.1501, -6.7651, -6.0887, -5.723, -5.7788, -5.7719, -6.2435, -6.5116, -5.3195, -6.243, -5.8462, -6.3494, -5.4794, -5.9497, -5.7517, -5.2329, -5.2589, -5.3, -5.8054, -5.6849, -5.0785, -5.639, -5.4278, -5.7379, -6.0047, -5.756, -5.9644, -5.954], \"loglift\": [30.0, 29.0, 28.0, 27.0, 26.0, 25.0, 24.0, 23.0, 22.0, 21.0, 20.0, 19.0, 18.0, 17.0, 16.0, 15.0, 14.0, 13.0, 12.0, 11.0, 10.0, 9.0, 8.0, 7.0, 6.0, 5.0, 4.0, 3.0, 2.0, 1.0, 1.7344, 1.729, 1.7209, 1.7187, 1.7165, 1.7165, 1.711, 1.7094, 1.704, 1.7039, 1.6888, 1.6876, 1.6818, 1.6818, 1.6739, 1.6733, 1.6733, 1.6723, 1.6629, 1.6629, 1.6629, 1.6629, 1.6629, 1.6622, 1.6599, 1.6549, 1.6497, 1.6497, 1.6497, 1.6496, 1.6395, 1.6441, 1.6424, 1.6436, 1.604, 1.5972, 1.5514, 1.4978, 1.6396, 1.5746, 1.4557, 1.4805, 1.5906, 1.5132, 1.5311, 1.3672, 1.5004, 1.484, 1.4983, 1.4912, 1.4418, 1.4152, 1.4514, 1.3956, 1.0863, 1.3157, 1.1497, 1.4368, 0.8794, 1.1081, 1.0957, 0.9064, 1.2184, 1.1165, 0.7807, 1.3664, 1.2772, 1.0684, 0.5514, 1.1657, 0.6863, 0.0212, 1.0039, 0.8791, 0.8239, 0.5308, 0.405, 0.4232, 0.2368, 0.1462, 0.0698, 0.4111, 0.1769, -0.2704, 0.1644, 0.1965, 0.5747, 0.5793, -0.0066, 0.482, 1.7866, 1.7604, 1.7542, 1.7542, 1.7491, 1.7429, 1.7412, 1.7411, 1.7305, 1.7284, 1.7284, 1.7284, 1.72, 1.7199, 1.713, 1.7125, 1.7096, 1.7096, 1.7095, 1.7095, 1.6964, 1.6964, 1.6964, 1.6964, 1.6964, 1.6964, 1.6964, 1.6963, 1.6962, 1.6962, 1.6929, 1.6669, 1.6868, 1.6703, 1.6726, 1.6925, 1.644, 1.6592, 1.6769, 1.6763, 1.5373, 1.5935, 1.6435, 1.3791, 1.5495, 1.5761, 1.3794, 1.3075, 1.5332, 1.2611, 1.5664, 0.9079, 1.3191, 1.0149, 0.9444, 0.9285, 0.9011, 1.1407, 0.6943, 0.9286, 1.0801, 0.5312, 0.4185, 0.4826, 0.0674, 0.2176, 0.2438, 0.3461, 0.2784, 0.519, 0.336, 0.5041, -0.0554, 0.3854, -0.0239, -0.094, 1.7868, 1.7845, 1.7836, 1.7818, 1.7788, 1.7787, 1.7727, 1.7718, 1.7718, 1.7675, 1.7659, 1.7624, 1.7624, 1.7624, 1.7624, 1.7624, 1.7569, 1.7565, 1.7565, 1.7496, 1.7495, 1.7495, 1.7494, 1.741, 1.741, 1.7409, 1.7409, 1.7409, 1.7406, 1.7362, 1.7202, 1.7213, 1.7303, 1.7191, 1.6747, 1.6508, 1.6876, 1.7033, 1.6303, 1.57, 1.5847, 1.5969, 1.6569, 1.5802, 1.494, 1.658, 1.6261, 1.6448, 1.3955, 1.391, 1.428, 1.5806, 1.4372, 1.3544, 1.449, 1.5362, 1.1243, 0.9837, 1.5405, 1.2467, 1.4487, 0.8801, 1.4653, 1.3894, 0.8375, 1.1836, 1.2351, 1.2697, 1.223, 0.9249, 0.4974, 0.2236, 0.5922, 0.6734, 0.82, -0.2838, 0.8005, 0.6099, 0.0446, 0.2682, 0.0285, 1.9502, 1.9373, 1.9371, 1.9329, 1.9227, 1.921, 1.9195, 1.9191, 1.9189, 1.9145, 1.9019, 1.9012, 1.8975, 1.8927, 1.8886, 1.8883, 1.8883, 1.8862, 1.8825, 1.8824, 1.8823, 1.8756, 1.8755, 1.8719, 1.8672, 1.8671, 1.8665, 1.8588, 1.8568, 1.8568, 1.8544, 1.8306, 1.8073, 1.8199, 1.8219, 1.8315, 1.8129, 1.7202, 1.7811, 1.8261, 1.6491, 1.7914, 1.6166, 1.733, 1.6713, 1.6159, 1.2763, 1.4633, 1.5403, 1.3661, 1.5444, 1.2817, 1.5785, 1.1659, 0.9562, 0.3674, 0.9979, 0.4587, 0.692, 0.7062, 0.5138, 1.1997, 0.7803, 0.7359, 0.2849, 0.3331, -0.0475, 0.5508, 2.308, 2.307, 2.2976, 2.2869, 2.2869, 2.2869, 2.2816, 2.2682, 2.2604, 2.2593, 2.259, 2.2483, 2.2483, 2.2443, 2.2379, 2.2345, 2.2345, 2.2253, 2.2245, 2.2228, 2.2164, 2.2164, 2.2164, 2.2164, 2.2164, 2.2164, 2.2164, 2.2164, 2.2164, 2.2164, 2.2148, 2.2086, 2.1799, 2.2049, 2.1209, 2.0714, 2.1823, 2.1182, 2.1352, 2.0832, 2.0709, 1.9941, 2.0041, 2.0395, 1.8345, 2.1164, 2.1446, 1.8168, 1.9871, 1.5108, 1.5742, 1.7514, 1.8564, 1.9767, 1.826, 1.9482, 1.8131, 1.5342, 1.7601, 1.578, 1.7534, 1.9161, 1.5608, 0.7683, 1.416, 0.5583, 1.3399, 0.7285, 1.0328, 0.4665, 1.195, 1.0947, -0.2287, 0.4264, 0.5159, 0.1278, 0.4358, 0.7984, 0.4767, 0.3005, 0.2172, 2.58, 2.5609, 2.5347, 2.5272, 2.4947, 2.4836, 2.4646, 2.4586, 2.4513, 2.4512, 2.4389, 2.4301, 2.4263, 2.4263, 2.4262, 2.3902, 2.3902, 2.3901, 2.3899, 2.3899, 2.3898, 2.3878, 2.3742, 2.3691, 2.3458, 2.3454, 2.3336, 2.3336, 2.3336, 2.3336, 2.3272, 2.3134, 2.3114, 2.1474, 2.0949, 2.0829, 1.8708, 2.121, 2.1599, 2.132, 2.0353, 1.9608, 1.5802, 1.6705, 2.0573, 1.5443, 1.9641, 1.168, 1.0028, 2.0047, 0.8256, 0.8176, 1.0747, 0.8692, 0.6244, 0.8143, 0.6682, 1.025, 0.8917, 0.4331, 0.4234, 0.7583, -0.142, 0.2224, -0.0642, 0.2793, 0.2144, 0.4909, 0.3208, -0.0527, 2.7495, 2.7385, 2.7375, 2.7363, 2.722, 2.7168, 2.7093, 2.7033, 2.6959, 2.6692, 2.6581, 2.6571, 2.6441, 2.6441, 2.6441, 2.6441, 2.6374, 2.6257, 2.6257, 2.6186, 2.6168, 2.6053, 2.6035, 2.6007, 2.5945, 2.5647, 2.5646, 2.5646, 2.5645, 2.5618, 2.5491, 2.5346, 2.5278, 2.544, 2.4182, 2.4033, 2.3192, 2.3801, 2.473, 2.2998, 2.4633, 2.1592, 2.1405, 2.0538, 1.7253, 2.309, 1.6747, 1.7171, 0.1735, 0.2304, 0.5165, 1.1976, 0.759, 0.7845, 1.054, 0.5756, 0.323, 0.1945, 0.6202, 0.0365, 0.1268, 0.2049, 0.1145, 3.0743, 3.0731, 3.0671, 3.061, 3.0585, 3.0574, 3.0528, 3.0494, 3.042, 3.0158, 2.9971, 2.993, 2.9791, 2.9791, 2.9791, 2.9791, 2.9593, 2.9593, 2.9593, 2.9593, 2.9593, 2.9477, 2.9325, 2.9325, 2.9325, 2.9325, 2.9325, 2.9324, 2.9235, 2.9164, 2.9019, 2.7882, 2.7983, 2.8106, 2.8359, 2.8259, 2.7777, 2.5751, 2.7039, 2.6002, 2.5728, 2.4478, 2.5605, 2.4568, 2.7191, 2.1105, 2.2971, 2.304, 2.0695, 2.1385, 0.645, 0.4696, 0.8113, -0.151, 1.1166, 0.8574, 0.5487, 0.028, 1.729, 0.4848, 1.0437, 0.4816, 0.0653, 1.2722, 0.7085, 0.3381, 3.1271, 3.1145, 3.0804, 3.0801, 3.0567, 3.0521, 3.0293, 3.0293, 3.0291, 3.0092, 2.9975, 2.982, 2.982, 2.982, 2.9563, 2.9429, 2.9429, 2.9429, 2.9429, 2.9428, 2.9422, 2.9331, 2.9208, 2.9014, 2.8967, 2.8816, 2.8816, 2.8816, 2.8816, 2.8816, 2.8718, 2.8569, 2.8759, 2.8329, 2.8278, 2.7313, 2.5665, 2.4458, 2.7017, 2.7147, 2.735, 2.6232, 2.3407, 2.2677, 2.5472, 2.3863, 2.5295, 2.2529, 2.5592, 2.3654, 2.2185, 2.4187, 1.6084, 2.4405, 1.5901, 1.029, 1.3364, 1.8142, 0.7977, 2.0212, 0.8902, 1.131, -0.1595, 0.7183, 0.4234, 0.9572, 0.1483, -0.0272, 0.0377, -0.0313, 0.126, 3.1015, 3.0938, 3.0796, 3.0618, 3.0516, 3.0497, 3.0345, 3.0146, 3.0146, 3.0146, 3.0146, 2.9876, 2.9548, 2.9487, 2.9487, 2.9487, 2.9487, 2.9486, 2.9467, 2.9191, 2.914, 2.9065, 2.8988, 2.8923, 2.8879, 2.8879, 2.8879, 2.8879, 2.8879, 2.8879, 2.7837, 2.8618, 2.8642, 2.6961, 2.8063, 2.6872, 2.5125, 2.692, 2.7581, 2.4529, 2.4827, 2.6399, 2.4659, 2.0286, 2.6363, 2.1349, 1.8932, 1.8574, 1.8072, 2.0882, 2.2731, 1.152, 2.0233, 1.5971, 2.1163, 1.1686, 1.5901, 1.3123, 0.6169, 0.533, 0.4944, 1.2424, 0.9777, -0.222, 0.7366, 0.214, 0.6994, 1.3554, 0.1145, 0.5711, -0.7277]}, \"token.table\": {\"Topic\": [1, 2, 3, 4, 5, 6, 7, 8, 9, 10, 9, 10, 1, 2, 3, 4, 5, 6, 7, 8, 9, 10, 7, 5, 7, 5, 5, 5, 10, 5, 5, 5, 5, 1, 2, 3, 4, 5, 6, 7, 8, 9, 10, 1, 2, 3, 4, 7, 5, 7, 5, 1, 5, 1, 2, 3, 4, 6, 9, 2, 3, 6, 8, 10, 3, 5, 9, 1, 2, 8, 10, 1, 2, 8, 9, 4, 5, 6, 9, 1, 2, 3, 4, 5, 6, 7, 8, 9, 10, 2, 1, 2, 3, 4, 5, 6, 3, 9, 1, 2, 3, 4, 5, 6, 7, 8, 9, 10, 2, 1, 2, 3, 4, 5, 6, 7, 8, 9, 10, 7, 9, 7, 7, 3, 2, 1, 2, 6, 1, 2, 5, 6, 1, 2, 3, 5, 6, 7, 8, 9, 10, 1, 2, 3, 6, 7, 9, 2, 3, 6, 7, 9, 6, 1, 2, 3, 5, 6, 8, 1, 2, 3, 4, 5, 6, 7, 8, 9, 10, 10, 2, 3, 4, 6, 7, 8, 9, 1, 2, 3, 4, 5, 6, 7, 8, 10, 10, 1, 2, 4, 7, 10, 1, 2, 3, 4, 7, 1, 2, 3, 4, 7, 10, 1, 3, 6, 1, 2, 3, 5, 6, 9, 1, 2, 3, 4, 5, 7, 8, 10, 1, 5, 6, 1, 2, 5, 6, 10, 2, 3, 4, 5, 7, 8, 1, 3, 4, 7, 9, 10, 6, 2, 10, 4, 5, 9, 10, 3, 7, 1, 2, 3, 4, 8, 3, 6, 9, 1, 2, 3, 4, 5, 6, 7, 10, 6, 9, 1, 2, 3, 4, 5, 6, 7, 8, 9, 10, 5, 1, 2, 3, 4, 5, 6, 8, 10, 1, 2, 3, 5, 6, 8, 10, 4, 4, 1, 2, 3, 4, 5, 6, 7, 8, 9, 10, 1, 5, 1, 2, 3, 4, 5, 6, 7, 8, 9, 10, 8, 1, 7, 3, 7, 9, 10, 4, 2, 3, 4, 7, 2, 4, 7, 1, 1, 2, 3, 5, 6, 8, 9, 1, 2, 3, 4, 5, 6, 7, 8, 9, 10, 4, 7, 10, 9, 3, 2, 5, 8, 10, 1, 2, 3, 4, 6, 7, 8, 9, 10, 1, 2, 3, 4, 5, 6, 7, 8, 9, 10, 7, 1, 3, 5, 6, 8, 9, 10, 1, 2, 3, 5, 6, 9, 9, 2, 1, 2, 3, 4, 5, 6, 7, 8, 9, 10, 1, 2, 3, 4, 5, 6, 7, 8, 9, 10, 8, 1, 1, 3, 4, 7, 8, 5, 9, 3, 1, 2, 3, 4, 6, 7, 8, 9, 10, 1, 2, 4, 5, 6, 7, 8, 9, 10, 3, 5, 7, 8, 10, 5, 6, 2, 4, 7, 1, 2, 5, 6, 9, 10, 2, 3, 5, 9, 2, 7, 3, 4, 10, 1, 2, 3, 4, 5, 6, 7, 8, 9, 1, 2, 5, 6, 7, 10, 1, 1, 2, 5, 6, 7, 8, 9, 10, 3, 9, 1, 2, 3, 4, 5, 6, 7, 8, 9, 10, 8, 2, 6, 1, 2, 3, 4, 8, 10, 1, 2, 3, 6, 9, 3, 2, 4, 1, 2, 3, 4, 5, 6, 7, 8, 9, 10, 1, 2, 3, 5, 6, 2, 3, 4, 8, 8, 8, 9, 1, 2, 6, 9, 1, 2, 3, 4, 5, 6, 7, 9, 10, 1, 2, 3, 4, 5, 6, 7, 8, 9, 10, 8, 1, 2, 3, 4, 7, 1, 4, 5, 3, 4, 1, 3, 4, 5, 6, 1, 2, 4, 5, 6, 7, 8, 9, 1, 2, 3, 4, 5, 6, 7, 8, 9, 10, 1, 2, 4, 5, 6, 7, 8, 9, 4, 1, 5, 1, 3, 4, 6, 8, 1, 2, 3, 4, 5, 6, 7, 8, 9, 10, 10, 10, 1, 2, 3, 4, 5, 6, 8, 9, 10, 1, 2, 3, 4, 5, 8, 1, 2, 3, 4, 5, 6, 2, 3, 4, 5, 7, 8, 9, 10, 2, 3, 4, 7, 9, 2, 3, 4, 5, 7, 8, 10, 1, 2, 3, 4, 5, 6, 7, 8, 10, 1, 2, 3, 4, 5, 6, 8, 9, 10, 1, 2, 3, 4, 6, 7, 8, 9, 2, 3, 4, 6, 10, 1, 2, 3, 4, 5, 6, 7, 8, 9, 10, 1, 2, 3, 5, 6, 1, 2, 5, 8, 10, 1, 2, 3, 4, 5, 6, 7, 9, 1, 2, 3, 4, 5, 6, 7, 8, 9, 10, 8, 10, 1, 5, 8, 9, 1, 9, 1, 5, 7, 8, 9, 1, 3, 4, 5, 8, 9, 1, 2, 3, 4, 5, 6, 7, 8, 9, 6, 8, 2, 3, 4, 5, 6, 7, 8, 1, 2, 3, 5, 6, 7, 8, 8, 8, 9, 10, 1, 2, 4, 5, 8, 9, 10, 5, 9, 5, 6, 9, 1, 5, 6, 8, 9, 1, 2, 3, 4, 5, 6, 7, 8, 9, 10, 3, 2, 3, 4, 7, 9, 1, 2, 3, 4, 5, 6, 8, 9, 10, 1, 2, 3, 5, 6, 8, 9, 10, 1, 1, 2, 3, 4, 5, 6, 7, 8, 9, 10, 3, 2, 6, 1, 2, 3, 4, 5, 6, 7, 9, 10, 1, 2, 3, 4, 5, 6, 7, 8, 9, 1, 2, 3, 4, 5, 6, 7, 8, 9, 10, 6, 10, 1, 2, 4, 6, 2, 4, 1, 2, 3, 4, 6, 8, 9, 9, 6, 3, 8, 8, 1, 2, 3, 4, 5, 6, 7, 8, 9, 10, 5, 7, 8, 9, 10, 9, 3, 1, 2, 3, 4, 5, 6, 7, 8, 9, 10, 7, 7, 5, 10, 1, 2, 3, 4, 6, 7, 1, 1, 2, 3, 4, 5, 6, 7, 8, 9, 10, 7, 2, 3, 5, 8, 10, 9, 2, 6, 9, 5, 8, 10, 2, 5, 9, 1, 3, 6, 7, 9, 2, 5, 6, 8, 10, 5, 1, 2, 3, 5, 6, 7, 6, 1, 2, 3, 4, 6, 8, 1, 2, 3, 4, 5, 6, 7, 8, 9, 2, 10, 2, 1, 2, 3, 5, 6, 8, 9, 10, 1, 2, 3, 4, 5, 6, 7, 8, 9, 10, 2, 3, 4, 5, 6, 7, 8, 10, 7, 9, 1, 6, 7, 9, 5, 7, 8, 9, 1, 3, 1, 2, 3, 4, 5, 6, 1, 2, 3, 4, 5, 6, 7, 8, 9, 10, 1, 2, 3, 4, 5, 6, 7, 8, 9, 10, 6, 1, 2, 3, 4, 5, 6, 7, 8, 9, 10, 1, 2, 3, 4, 5, 6, 7, 8, 2, 6, 3, 4, 1, 2, 3, 4, 5, 6, 7, 9, 1, 6, 1, 2, 4, 5, 6, 7, 8, 10, 1, 3, 4, 5, 6, 7, 8, 9, 10, 5, 1, 2, 3, 4, 5, 6, 7, 8, 9, 10, 2, 2, 6, 10, 2, 6, 10, 6, 1, 5, 6, 1, 3, 4, 5, 6, 7, 9, 1, 6, 1, 10, 2, 3, 4, 5, 6, 7, 9, 2, 2, 3, 1, 2, 3, 5, 6, 7, 8, 9, 10, 1, 3, 5, 3, 10, 1, 2, 3, 4, 5, 6, 7, 8, 9, 10, 1, 3, 4, 1, 2, 3, 5, 7, 8, 9, 10, 3, 4, 8, 1, 2, 3, 4, 5, 6, 7, 8, 9, 10, 10, 1, 2, 3, 4, 5, 6, 7, 8, 9, 10, 1, 2, 6, 7, 8, 10, 1, 2, 3, 4, 6, 7, 8, 6, 1, 2, 3, 4, 5, 6, 7, 8, 9, 10, 2, 5, 6, 8, 9, 2, 10, 1, 2, 3, 4, 6, 10, 1, 2, 3, 4, 5, 6, 7, 8, 9, 10, 2, 3, 4, 5, 5, 2, 6, 1, 3, 5, 9, 4, 9, 10, 1, 2, 5, 6, 7, 8, 9, 2, 7, 1, 2, 3, 4, 5, 6, 7, 8, 9, 10, 3, 5, 6, 7, 8, 9, 10, 2, 5, 1, 2, 8, 1, 2, 3, 4, 5, 6, 7, 10, 2, 3, 4, 3, 4, 7, 8, 2, 5, 1, 2, 3, 4, 5, 6, 7, 8, 9, 10, 1, 5, 6, 8, 9, 10, 8, 9, 10, 1, 2, 5, 8, 9, 10, 1, 1, 2, 3, 4, 5, 6, 7, 8, 9, 10, 1, 2, 3, 4, 5, 6, 7, 8, 9, 10, 1, 2, 5, 9, 1, 5, 6, 7, 8, 9, 1, 2, 3, 4, 5, 6, 9, 2, 3, 4, 5, 7, 2, 5, 8, 1, 2, 4, 5, 6, 7, 9, 2, 8, 9, 10, 1, 3, 5, 6, 7, 8, 9, 3, 5, 9, 1, 2, 3, 4, 5, 6, 7, 8, 9, 10, 1, 9, 2, 3, 4, 6, 7, 8, 9, 10, 1, 3, 5, 6, 8, 3, 5, 6, 8, 9, 10, 1, 2, 3, 5, 9, 1, 2, 3, 4, 5, 6, 7, 8, 9, 10, 2, 3, 4, 7, 8, 3, 2, 1, 5, 7, 9, 1, 2, 4, 7, 9, 10, 8, 10, 1, 2, 3, 4, 6, 7, 1, 7, 4, 1, 2, 3, 4, 5, 6, 7, 8, 9, 1, 2, 3, 4, 5, 6, 8, 9, 10, 1, 2, 3, 4, 5, 6, 9, 10, 2, 10, 1, 6, 2, 6, 1, 5, 1, 2, 3, 4, 5, 6, 7, 8, 9, 10, 2, 3, 4, 9, 10, 4, 7, 1, 2, 3, 4, 5, 6, 7, 9, 3, 4, 1, 2, 3, 4, 5, 6, 7, 10, 1, 4, 7, 1, 2, 3, 4, 5, 6, 7, 8, 9, 10, 1, 2, 3, 5, 6, 7, 3, 3, 4, 5, 6, 9, 10, 2, 3, 4, 1, 2, 3, 4, 5, 6, 7, 8, 9, 10, 3, 4, 1, 2, 5, 6, 8, 10, 7, 3, 4, 5, 6, 8, 10, 4, 1, 10, 1, 3, 4, 7, 10, 1, 2, 3, 4, 5, 6, 7, 8, 9, 10, 1, 5, 7, 9, 10, 2, 8, 2, 3, 9, 9, 1, 2, 3, 4, 5, 6, 7, 8, 9, 10, 1, 2, 3, 4, 5, 7, 9, 5, 5, 6, 9, 1, 2, 3, 4, 5, 6, 7, 2, 1, 4, 7, 1, 2, 5, 7, 9, 10, 1, 8, 10, 1, 2, 4, 10, 1, 2, 5, 6, 8, 9, 10, 1, 1, 2, 8, 10, 8, 3, 4, 8, 8, 1, 3, 6, 10, 1, 2, 3, 4, 5, 6, 8, 9, 10, 8, 3, 8, 4, 7, 4, 6, 7, 9, 2, 4, 10, 1, 2, 3, 4, 5, 6, 6, 1, 2, 3, 4, 5, 6, 5, 10, 1, 2, 3, 4, 5, 6, 7, 8, 9, 10, 2, 1, 5, 10, 1, 2, 3, 4, 5, 6, 8, 7, 8, 1, 3, 4, 5, 7, 9, 1, 2, 3, 5, 6, 7, 8, 9, 9, 1, 2, 3, 4, 5, 6, 7, 8, 9, 10, 1, 2, 3, 4, 5, 6, 7, 8, 9, 10, 2, 3, 4, 5, 6, 7, 8, 9, 8, 4, 2, 4, 5, 6, 9, 10, 1, 2, 6, 7, 1, 2, 5, 6, 7, 6, 1, 2, 3, 4, 5, 6, 7, 8, 9, 10, 5, 7, 9, 1, 3, 4, 5, 7, 4, 1, 2, 5, 8, 9, 8, 1, 3, 5, 6, 10, 9, 8, 9, 4, 1, 2, 3, 4, 5, 6, 7, 8, 9, 10, 1, 2, 3, 6, 10, 1, 1, 1, 2, 3, 4, 6, 10, 1, 2, 3, 4, 5, 6, 7, 8, 10, 3, 7, 6, 10, 3, 8, 10, 1, 2, 3, 5, 6, 7, 8, 9, 10, 1, 2, 3, 4, 5, 6, 7, 8, 9, 10, 2, 3, 4, 5, 6, 7, 8, 10, 1, 2, 4, 8, 10, 2, 6, 7, 8, 1, 2, 3, 5, 6, 7, 8, 9, 4, 9, 9, 1, 2, 3, 4, 5, 6, 7, 8, 9, 10, 1, 2, 4, 5, 6, 9, 10, 4, 7, 8, 1, 2, 3, 6, 8, 9, 1, 2, 3, 5, 8, 2, 1, 2, 4, 2, 3, 4, 6, 8, 10, 4, 4, 7, 7, 3, 6, 9, 10, 2, 8, 6, 6, 1, 2, 4, 3, 9, 1, 2, 3, 4, 5, 6, 8, 9, 10, 1, 2, 3, 4, 5, 6, 7, 9, 1, 2, 6, 1, 2, 4, 1, 2, 5, 6, 3, 5, 7, 8, 9, 1, 2, 5, 7, 8, 10, 9, 1, 2, 3, 4, 5, 6, 7, 8, 9, 2, 3, 4, 6, 7, 9, 1, 2, 3, 4, 5, 6, 7, 8, 9, 10, 2, 3, 4, 5, 6, 8, 10, 2, 3, 4, 8, 9, 10, 5, 2, 8, 10, 8, 1, 2, 3, 4, 5, 6, 7, 8, 9, 10, 3, 6, 1, 3, 4, 6, 1, 6, 1, 2, 3, 4, 5, 6, 7, 8, 9, 10, 3, 5, 7, 9, 1, 2, 3, 4, 5, 6, 7, 8, 9, 10, 1, 2, 3, 4, 7, 8, 10, 1, 2, 3, 4, 5, 6, 7, 8, 9, 10, 3, 4, 1, 4, 5, 6, 7, 8, 10, 6, 1, 3, 5, 6, 9, 1, 2, 5, 6, 8, 9, 10, 5, 1, 3, 10, 5, 6, 2, 1, 2, 3, 4, 5, 6, 7, 8, 9, 10, 8, 7, 1, 2, 3, 4, 5, 7, 10, 2, 4, 2, 4, 1, 2, 3, 5, 6, 7, 8, 9, 10, 3, 7, 9, 3, 5, 10, 2, 3, 4, 7, 8, 2, 3, 4, 7, 1, 10, 1, 2, 3, 4, 5, 6, 7, 8, 9, 10, 8, 1, 2, 3, 4, 5, 6, 7, 8, 9, 10, 2, 3, 4, 7, 8, 1, 2, 3, 4, 5, 6, 7, 8, 9, 10, 6, 7, 8, 9, 10, 3, 10, 2, 3, 8, 9, 1, 3, 4, 5, 6, 8, 9, 10, 9, 2, 3, 5, 6, 9, 3, 4, 6, 10, 2, 1, 2, 3, 5, 8, 9, 10, 2, 4, 2, 7, 9, 3, 6, 1, 1, 1, 2, 4, 5, 6, 10, 1, 2, 3, 4, 5, 6, 8, 9, 10, 1, 2, 3, 4, 5, 6, 1, 2, 3, 4, 5, 6, 7, 8, 9, 10, 1, 2, 3, 4, 5, 6, 7, 8, 9, 10, 1, 5, 6, 8, 8, 2, 10, 5, 3, 3, 2, 1, 2, 3, 4, 7, 8, 10, 1, 2, 3, 4, 5, 6, 7, 8, 9, 10, 1, 2, 3, 4, 5, 6, 7, 8, 10, 2, 4, 2, 3, 4, 6, 8, 1, 2, 3, 4, 5, 6, 8, 9, 10, 1, 2, 3, 4, 5, 6, 7, 8, 9, 10, 2, 3, 4, 9, 10, 3, 6, 10, 5, 9, 1, 2, 3, 4, 5, 6, 7, 8, 9, 10, 1, 2, 3, 4, 5, 6, 7, 8, 9, 10, 1, 2, 3, 4, 5, 6, 7, 8, 9, 10, 7, 2, 3, 4, 5, 7, 10, 1, 2, 3, 4, 5, 6, 7, 8, 9, 10, 2, 3, 4, 1, 2, 3, 4, 7, 8, 10, 4, 3, 4, 7, 1, 2, 3, 4, 5, 6, 8, 1, 2, 3, 4, 5, 6, 1, 6, 10, 6, 6, 3, 4, 3, 9, 3, 1, 7, 4, 7, 1, 10, 3, 4, 4, 3, 7, 1, 8], \"Freq\": [0.13363589947794577, 0.11454505669538208, 0.10499963530410024, 0.06681794973897288, 0.03818168556512736, 0.08590879252153656, 0.01909084278256368, 0.37227143425999176, 0.0477271069564092, 0.01909084278256368, 0.9015541905397462, 0.8962460166450473, 0.5150286836051754, 0.10138359913487704, 0.08516222327329671, 0.0689408474117164, 0.04055343965395082, 0.09327291120408689, 0.036498095688555734, 0.012166031896185245, 0.028387407757765572, 0.02433206379237049, 0.8034460548081237, 0.7943360800053489, 0.8999214695617965, 0.7943360856101808, 0.7943361005731431, 0.7943360736084978, 0.8962459751933823, 0.794336096017844, 0.79433608321283, 0.7943360846523395, 0.794336086786547, 0.1563368310015371, 0.1515993512742178, 0.04737479727319307, 0.03316235809123515, 0.1515993512742178, 0.17528674991081433, 0.2084491080020495, 0.009474959454638613, 0.018949918909277226, 0.04737479727319307, 0.031700789161847535, 0.12680315664739014, 0.031700789161847535, 0.031700789161847535, 0.7291181507224933, 0.9521074678539903, 0.03173691559513301, 0.7943315236974624, 0.9374770245770913, 0.9440232006701317, 0.02720795012063531, 0.043532720193016496, 0.8978623539809651, 0.021766360096508248, 0.005441590024127062, 0.010883180048254124, 0.096600209005312, 0.772801672042496, 0.03220006966843733, 0.016100034834218666, 0.048300104502656, 0.05328436779634338, 0.7992655169451507, 0.10656873559268676, 0.02415786815123374, 0.01207893407561687, 0.8938411215956483, 0.060394670378084346, 0.02946814059031675, 0.02946814059031675, 0.589362811806335, 0.32414954649348426, 0.0416353855664374, 0.0832707711328748, 0.0416353855664374, 0.8327077113287481, 0.17559825032228527, 0.17559825032228527, 0.12057746522130255, 0.20427929787492521, 0.07550724763858267, 0.06497135261924555, 0.07492192013750838, 0.03863161507090276, 0.036290305066605626, 0.03394899506230849, 0.9566161176049297, 0.0374317125399729, 0.062386187566621495, 0.8546907696627145, 0.00623861875666215, 0.01871585626998645, 0.0249544750266486, 0.10932837845629692, 0.7652986491940784, 0.1364837251393449, 0.1251100813777328, 0.13079690325853885, 0.2862367013339039, 0.053077004220856344, 0.14596176160735494, 0.020851680229622135, 0.04739018234005031, 0.018956072936020123, 0.034120931284836224, 0.9456172048358593, 0.023482655874248293, 0.05870663968562073, 0.049900643732777625, 0.014676659921405183, 0.06457730365418281, 0.06164197166990177, 0.00880599595284311, 0.032288651827091404, 0.0029353319842810367, 0.6839323523374815, 0.9851219652701816, 0.008795731832769478, 0.8997891751736959, 0.9002576897458586, 0.9051873817494351, 0.930436712003827, 0.02936843881364706, 0.9397900420367059, 0.01468421940682353, 0.029534463319542043, 0.9254131840123173, 0.004922410553257007, 0.03937928442605606, 0.220570473032457, 0.0758211001049071, 0.006892827282264281, 0.392891155089064, 0.08960675466943566, 0.03446413641132141, 0.05514261825811425, 0.12407089108075706, 0.006892827282264281, 0.07553851624040649, 0.22661554872121947, 0.07553851624040649, 0.6043081299232519, 0.010791216605772355, 0.010791216605772355, 0.197806219236738, 0.1186837315420428, 0.593418657710214, 0.0791224876946952, 0.0395612438473476, 0.9879957980710196, 0.1312748174301115, 0.16878190812442903, 0.01875354534715878, 0.09376772673579391, 0.525099269720446, 0.056260636041476346, 0.12704273192920013, 0.13734349397751364, 0.4051633072336653, 0.03090228614494057, 0.10987479518201092, 0.08583968373594603, 0.003433587349437841, 0.017167936747189205, 0.044636635542691934, 0.03776946084381625, 0.7203422759891918, 0.06171297266869519, 0.7934525057403667, 0.03526455581068297, 0.017632277905341484, 0.052896833716024445, 0.026448416858012223, 0.026448416858012223, 0.040711203525932736, 0.09725454175639488, 0.040711203525932736, 0.08142240705186547, 0.022617335292184855, 0.011308667646092428, 0.6400705887688314, 0.018093868233747885, 0.04749640411358819, 0.8614794012356749, 0.09938102088926845, 0.033127006963089484, 0.06625401392617897, 0.6294131322987002, 0.13250802785235793, 0.010571340363388908, 0.06342804218033345, 0.8351358887077237, 0.077523162664852, 0.010571340363388908, 0.025846291562667295, 0.06461572890666824, 0.7495424553173515, 0.03876943734400094, 0.10338516625066918, 0.012923145781333648, 0.7621465545211595, 0.03464302520550725, 0.19053663863028988, 0.7711108952046938, 0.028559662785359027, 0.04283949417803854, 0.014279831392679514, 0.11423865114143611, 0.014279831392679514, 0.13235818449005507, 0.018908312070007868, 0.1701748086300708, 0.056724936210023606, 0.13235818449005507, 0.11344987242004721, 0.037816624140015735, 0.3403496172601416, 0.7289040769853069, 0.21204482239572567, 0.05301120559893142, 0.856874102115138, 0.011738001398837508, 0.08216600979186255, 0.023476002797675016, 0.023476002797675016, 0.057482325775382384, 0.3257331793938335, 0.057482325775382384, 0.057482325775382384, 0.13412542680922557, 0.38321550516921593, 0.04842913608506222, 0.060536420106327773, 0.012107284021265555, 0.7990807454035266, 0.07264370412759333, 0.012107284021265555, 0.9367312657499915, 0.1482818391912878, 0.741409195956439, 0.09208472326994854, 0.09208472326994854, 0.7366777861595883, 0.09208472326994854, 0.9619633365808805, 0.026721203793913347, 0.020139068720898372, 0.06041720616269511, 0.8055627488359348, 0.08055627488359349, 0.020139068720898372, 0.13997652795971247, 0.6998826397985622, 0.8077126226722362, 0.2313403474664437, 0.3319231072344627, 0.0100582759768019, 0.0201165519536038, 0.0201165519536038, 0.3520396591880665, 0.0100582759768019, 0.02514568994200475, 0.8743053539544199, 0.8535024832484127, 0.21735488788327736, 0.4222181155433779, 0.027481652490989092, 0.1698865790352053, 0.01249166022317686, 0.09493661769614414, 0.019986656357082976, 0.0074949961339061165, 0.0074949961339061165, 0.019986656357082976, 0.8338696164628465, 0.047159305300043, 0.1320460548401204, 0.056591166360051605, 0.0094318610600086, 0.3018195539202752, 0.056591166360051605, 0.1226141937801118, 0.2735239707402494, 0.1713386140209323, 0.09225925370357893, 0.026359786772451124, 0.5535555222214735, 0.05271957354490225, 0.0658994669311278, 0.039539680158676684, 0.9504833974293738, 0.9676183658313479, 0.14139604351192153, 0.1937649485163369, 0.005236890500441538, 0.15186982451280462, 0.08379024800706461, 0.03665823350309077, 0.10473781000883077, 0.12568537201059693, 0.010473781000883076, 0.14663293401236308, 0.09223031564224765, 0.8761879986013527, 0.12348866217102666, 0.09424134744630983, 0.03574671799687614, 0.5102031568645049, 0.07149343599375228, 0.032497016360796493, 0.08449224253807087, 0.03574671799687614, 0.0032497016360796493, 0.0064994032721592985, 0.7981968308132847, 0.22201495051936454, 0.7611941160663928, 0.014991026968031533, 0.9744167529220497, 0.8077125749182517, 0.7202122424434153, 0.9946405583857887, 0.006750723944867175, 0.02362753380703511, 0.965353524116006, 0.0033753619724335875, 0.023868353884310325, 0.9607012438434906, 0.011934176942155162, 0.9209833707714258, 0.035004221522338105, 0.017502110761169053, 0.017502110761169053, 0.31503799370104296, 0.05250633228350716, 0.10501266456701432, 0.4550548797903954, 0.15296784885243242, 0.16299852746570667, 0.20061357226548512, 0.2457516260252193, 0.022569026879867077, 0.05767640202632698, 0.04263038410641559, 0.04764572341305272, 0.03259970549314133, 0.03259970549314133, 0.014409682009983549, 0.9798583766788813, 0.7201514488579104, 0.9122861574715888, 0.9166568900251728, 0.9448734349706995, 0.12943586648550567, 0.5824613991847756, 0.2773625710403693, 0.057340977851107214, 0.11989477187049691, 0.6672404695401567, 0.08861787486080205, 0.03648971317797732, 0.005212816168282474, 0.010425632336564948, 0.010425632336564948, 0.005212816168282474, 0.2630395046151531, 0.17198736840221546, 0.14163665633123626, 0.0566546625324945, 0.12747299069811263, 0.09509889782240148, 0.08498199379874176, 0.01618704643785557, 0.020233808047319467, 0.022257188852051413, 0.8749941654117677, 0.3126536850960023, 0.012675149395783876, 0.5957320216018422, 0.03802544818735163, 0.004225049798594625, 0.021125248992973127, 0.0169001991943785, 0.3024197280564163, 0.023263056004339717, 0.011631528002169858, 0.6048394561128326, 0.046526112008679434, 0.9476395709222029, 0.7279024406372462, 0.897789839639942, 0.046681642783596954, 0.1551478127807781, 0.3871830372051277, 0.2361541929052552, 0.05080061126450257, 0.0315787583536097, 0.07688741164357145, 0.0013729894936352046, 0.010983915949081637, 0.005491957974540818, 0.03555139131398691, 0.11803061916243654, 0.1322511756880313, 0.3683124140129044, 0.2047760139685646, 0.024174946093511097, 0.10523211828940125, 0.004266166957678429, 0.002844111305118953, 0.004266166957678429, 0.7983277438584993, 0.9340781517974055, 0.03396673102897883, 0.03396673102897883, 0.9171017377824285, 0.8750898305731069, 0.9009599120262067, 0.04525804173162157, 0.9051608346324312, 0.8926550798880222, 0.6983465918184071, 0.10423083459976225, 0.010423083459976225, 0.0416923338399049, 0.06253850075985735, 0.010423083459976225, 0.052115417299881124, 0.010423083459976225, 0.010423083459976225, 0.2576459012832689, 0.08588196709442297, 0.021470491773605743, 0.1001956282768268, 0.03578415295600958, 0.15745027300644213, 0.15745027300644213, 0.021470491773605743, 0.16460710359764405, 0.8218258141269181, 0.053021020266252786, 0.00883683671104213, 0.00883683671104213, 0.1148788772435477, 0.6521648325011121, 0.33660120387154174, 0.9031727949113412, 0.05764932733476646, 0.01921644244492215, 0.020131984593742047, 0.2617157997186466, 0.040263969187484094, 0.6240915224060034, 0.020131984593742047, 0.020131984593742047, 0.9318452739509809, 0.9640336963315937, 0.8946708892699031, 0.07455590743915859, 0.10804824156406474, 0.8283698519911631, 0.03950557172260996, 0.03950557172260996, 0.888875363758724, 0.03626444038375457, 0.26835685883978383, 0.06527599269075823, 0.029011552307003658, 0.07978176884426005, 0.02175866423025274, 0.03626444038375457, 0.06527599269075823, 0.4061617322980512, 0.37830326921917135, 0.02364395432619821, 0.03546593148929732, 0.03546593148929732, 0.4965230408501624, 0.02364395432619821, 0.9589640038714051, 0.0824938571152988, 0.06678074147428952, 0.12570492512807438, 0.02749795237176627, 0.14141804076908368, 0.05499590474353254, 0.49103486378154054, 0.011784836730756972, 0.08642580233717266, 0.8642580233717265, 0.2064699392616262, 0.4163810441776129, 0.017205828271802184, 0.07570564439592961, 0.07570564439592961, 0.07914681005029005, 0.027529325234883495, 0.024088159580523058, 0.006882331308720874, 0.06882331308720874, 0.900959884029316, 0.9554758138166136, 0.9850475344771243, 0.025911905011996993, 0.012955952505998496, 0.8680488179018993, 0.025911905011996993, 0.025911905011996993, 0.03886785751799549, 0.10050866836730082, 0.7638658795914862, 0.020101733673460166, 0.08040693469384066, 0.020101733673460166, 0.8760433404043803, 0.8475268596649147, 0.07062723830540955, 0.09032539696022479, 0.2170723249527983, 0.3700427552886629, 0.04953328220399424, 0.01748233489552738, 0.20396057378115276, 0.030594086067172913, 0.005827444965175793, 0.013111751171645534, 0.0014568612412939482, 0.06229875961887348, 0.8410332548547921, 0.03114937980943674, 0.01557468990471837, 0.01557468990471837, 0.8873927857517454, 0.04293836060089091, 0.04293836060089091, 0.014312786866963636, 0.9596880690665445, 0.9343720248291141, 0.059640767542283875, 0.19774154960994247, 0.028248792801420352, 0.564975856028407, 0.19774154960994247, 0.05177719049233581, 0.4516121615164846, 0.14382552914537725, 0.11793693389920934, 0.01150604233163018, 0.14094901856246972, 0.07766578573850372, 0.002876510582907545, 0.002876510582907545, 0.05231415906781512, 0.40356636995171663, 0.21174778670306119, 0.08968141554482592, 0.01743805302260504, 0.11459291986283313, 0.07971681381762304, 0.00747345129540216, 0.00498230086360144, 0.01743805302260504, 0.8568347102690909, 0.016112806120137546, 0.008056403060068773, 0.05639482142048142, 0.2175228826218569, 0.7009070662259833, 0.9171480838581492, 0.048270951782007854, 0.7943315307894788, 0.9623746662590855, 0.02601012611511042, 0.8468647517550966, 0.015682680588057343, 0.015682680588057343, 0.06273072235222937, 0.03136536117611469, 0.11711389633888941, 0.019518982723148236, 0.009759491361574118, 0.3415821976550941, 0.048797456807870586, 0.1561518617851859, 0.048797456807870586, 0.26350626676250116, 0.2579679518922692, 0.11637651965064774, 0.09892004170305058, 0.10861808500727123, 0.19784008340610115, 0.07564473777292104, 0.06788630312954451, 0.025214912590973675, 0.031033738573506064, 0.02133569526928542, 0.1146794358448554, 0.045871774337942164, 0.022935887168971082, 0.1146794358448554, 0.022935887168971082, 0.09174354867588433, 0.09174354867588433, 0.4816536305483927, 0.9672708235898992, 0.08536625656307777, 0.8536625656307777, 0.0248729455401458, 0.8208072028248115, 0.0994917821605832, 0.0248729455401458, 0.0248729455401458, 0.2177569679540419, 0.27890789731099885, 0.014914860818769993, 0.11484442830452896, 0.06115092935695697, 0.09247213707637396, 0.07159133193009597, 0.03132120771941699, 0.04474458245630998, 0.07159133193009597, 0.8962459809767533, 0.8614793074544927, 0.13431352063426177, 0.3261899786832072, 0.0076750583219578165, 0.0038375291609789083, 0.26862704126852355, 0.1381510497952407, 0.011512587482936725, 0.11128834566838834, 0.0038375291609789083, 0.012659534039361408, 0.10127627231489127, 0.05063813615744563, 0.03797860211808422, 0.7848911104404073, 0.012659534039361408, 0.02033306525136326, 0.12199839150817957, 0.02033306525136326, 0.08133226100545304, 0.7319903490490774, 0.02033306525136326, 0.018717138547119656, 0.07486855418847863, 0.11230283128271792, 0.03743427709423931, 0.03743427709423931, 0.07486855418847863, 0.018717138547119656, 0.6176655720549487, 0.0941984367713284, 0.005541084515960495, 0.35462940902147166, 0.537485198048168, 0.005541084515960495, 0.12328128904010431, 0.041093763013368104, 0.041093763013368104, 0.6575002082138897, 0.041093763013368104, 0.061640644520052155, 0.041093763013368104, 0.0069256713876867425, 0.013851342775373485, 0.42939162603657804, 0.5067282898657467, 0.010388507081530114, 0.0069256713876867425, 0.021931292727674686, 0.002308557129228914, 0.002308557129228914, 0.11938813874287736, 0.011938813874287735, 0.05372466243429481, 0.011938813874287735, 0.3641338231657759, 0.08357169712001415, 0.02387762774857547, 0.005969406937143868, 0.32234797460576886, 0.028633569009704127, 0.07158392252426032, 0.7731063632620114, 0.057267138019408255, 0.014316784504852064, 0.04295035351455619, 0.00954452300323471, 0.004772261501617355, 0.019710386137871322, 0.6800083217565606, 0.25623501979232716, 0.029565579206806983, 0.009855193068935661, 0.5405166625360387, 0.09117148524704267, 0.2279287131176067, 0.02279287131176067, 0.02279287131176067, 0.07814698735460801, 0.009768373419326001, 0.0065122489462173345, 0.0032561244731086673, 0.0032561244731086673, 0.9044019954102624, 0.0282625623565707, 0.004037508908081529, 0.04037508908081529, 0.020187544540407644, 0.9677440691359412, 0.023041525455617648, 0.16525801366095594, 0.16525801366095594, 0.6197175512285847, 0.10111380481780301, 0.5767231830348765, 0.08613398188183219, 0.0823890261478395, 0.0936238933498176, 0.022469734403956224, 0.011234867201978112, 0.022469734403956224, 0.17614261416119645, 0.02642139212417947, 0.02642139212417947, 0.04403565354029911, 0.15852835274507682, 0.07926417637253841, 0.3522852283223929, 0.02642139212417947, 0.07045704566447858, 0.04403565354029911, 0.7824744914942432, 0.2134021340438845, 0.10068426393677342, 0.30205279181032024, 0.033561421312257804, 0.5369827409961249, 0.828341723299301, 0.12743718819989247, 0.04562697431462877, 0.07604495719104795, 0.10646294006746712, 0.015208991438209588, 0.7452405804722698, 0.14901967819730733, 0.029803935639461467, 0.029803935639461467, 0.2682354207551532, 0.029803935639461467, 0.47686297023138347, 0.7361960892778473, 0.14984522171142026, 0.00977251445944045, 0.006515009639626967, 0.05537758193682922, 0.022802533738694387, 0.0032575048198134836, 0.006515009639626967, 0.00977251445944045, 0.8992898728566227, 0.798196716280005, 0.013988183240336717, 0.6462540657035564, 0.2965494846951384, 0.027976366480673434, 0.005595273296134687, 0.0027976366480673433, 0.00839290994420203, 0.054557247134330064, 0.15276029197612417, 0.6983327633194248, 0.03273434828059804, 0.04364579770746405, 0.021822898853732026, 0.8568345350095598, 0.8760457658616277, 0.9452446710205068, 0.04109759439219595, 0.8473974520032301, 0.19183181299136115, 0.019844670309451154, 0.006614890103150384, 0.5490358785614818, 0.026459560412601536, 0.09922335154725576, 0.09922335154725576, 0.8856995639187075, 0.08856995639187075, 0.5962563963613723, 0.011691301889438673, 0.3858129623514762, 0.01851732865056957, 0.7561242532315908, 0.0030862214417615953, 0.009258664325284785, 0.21294927948155007, 0.20229431826029157, 0.2323223811270536, 0.052154003926481424, 0.009482546168451168, 0.031608487228170556, 0.170685831032121, 0.08692333987746904, 0.0853429155160605, 0.04899315520366437, 0.0790212180704264, 0.9654008597756734, 0.004543550691905695, 0.24080818667100187, 0.03180485484333987, 0.7087939079372886, 0.00908710138381139, 0.08565056569497574, 0.09421562226447332, 0.008565056569497574, 0.025695169708492723, 0.2912119233629175, 0.1284758485424636, 0.07708550912547817, 0.05995539598648302, 0.20556135766794179, 0.05170612136775923, 0.03102367282065554, 0.03102367282065554, 0.7032032506015256, 0.09307101846196661, 0.04136489709420738, 0.010341224273551846, 0.04136489709420738, 0.9331842010089668, 0.20830654482743072, 0.13083716865193995, 0.08091245956106813, 0.19797729467069863, 0.1463310438870381, 0.07230475109712471, 0.07746937617549077, 0.034430833855773675, 0.029266208777407623, 0.020658500313464206, 0.8759324744600172, 0.8928588887122041, 0.08503417987735278, 0.11247995475831747, 0.11247995475831747, 0.6229659032768352, 0.017304608424356535, 0.025956912636534803, 0.056239977379158736, 0.030283064742623936, 0.012978456318267401, 0.004326152106089134, 0.08280673833113261, 0.19321572277264276, 0.5566452965592803, 0.05060411786902548, 0.018401497406918356, 0.055204492220755075, 0.013801123055188769, 0.009200748703459178, 0.023001871758647947, 0.2779451887748064, 0.27532306435240256, 0.002622124422403834, 0.10488497689615336, 0.09177435478413419, 0.03670974191365368, 0.10226285247374953, 0.049820364025672845, 0.041953990758461346, 0.01835487095682684, 0.9001966303263181, 0.7200820461828082, 0.029278988694685024, 0.029278988694685024, 0.8783696608405507, 0.029278988694685024, 0.7917435467279732, 0.18474016090319373, 0.07475226664102427, 0.015573388883546724, 0.05606419998076821, 0.7911281552841736, 0.052949522204058866, 0.003114677776709345, 0.003114677776709345, 0.9122861629861955, 0.8029035246940798, 0.08537944017474905, 0.8537944017474906, 0.857042943751938, 0.39123841388470143, 0.17044049713788972, 0.0116209429866743, 0.02711553363557337, 0.18206144012456404, 0.11233578220451823, 0.003873647662224767, 0.003873647662224767, 0.0813466009067201, 0.019368238311123834, 0.009333271165471236, 0.9426603877125949, 0.009333271165471236, 0.02799981349641371, 0.009333271165471236, 0.9015542247668216, 0.9273208949018249, 0.15530421240748118, 0.14816378884851653, 0.28918715413806845, 0.1303127299511049, 0.08032976503835235, 0.04105743546404675, 0.062478706140940705, 0.01606595300767047, 0.06426381203068188, 0.012495741228188141, 0.926463631508718, 0.8998500860901351, 0.9033139535865904, 0.05313611491685826, 0.01770498738773633, 0.14163989910189065, 0.05311496216320899, 0.7524619639787941, 0.008852493693868166, 0.008852493693868166, 0.9472683238315265, 0.2406425700587948, 0.23796876372480819, 0.05080232034574557, 0.11497367236142418, 0.042780901343785746, 0.037433288675812526, 0.13903792936730366, 0.02673806333986609, 0.02673806333986609, 0.0882356090215581, 0.843674671510633, 0.06486439168760375, 0.06486439168760375, 0.06486439168760375, 0.45405074181322624, 0.34594342233388664, 0.9015541717849725, 0.05359546144969492, 0.8575273831951187, 0.05359546144969492, 0.046417580021363807, 0.6962637003204571, 0.18567032008545523, 0.06290557503134016, 0.18871672509402046, 0.6919613253447418, 0.03448448717617835, 0.0689689743523567, 0.009852710621765244, 0.3349921611400183, 0.5517517948188536, 0.14871716894153042, 0.23794747030644867, 0.05948686757661217, 0.11897373515322433, 0.4164080730362852, 0.9091144965072054, 0.06875523337472643, 0.034377616687363215, 0.26814541016143306, 0.5844194836851747, 0.034377616687363215, 0.006875523337472643, 0.9742076097716634, 0.11345324890606817, 0.6050839941656969, 0.01890887481767803, 0.2431141047987175, 0.008103803493290583, 0.008103803493290583, 0.12662673501371097, 0.1107983931369971, 0.2437564649013936, 0.06647903588219826, 0.04431935725479884, 0.364051863164419, 0.006331336750685548, 0.02215967862739942, 0.018994010252056645, 0.9447923023102938, 0.03936634592959558, 0.9266977845975852, 0.025191315841009254, 0.025191315841009254, 0.20153052672807403, 0.10076526336403702, 0.07557394752302776, 0.5290176326611944, 0.025191315841009254, 0.025191315841009254, 0.15430774392625618, 0.2813847095125848, 0.08774361909532213, 0.0635384827931643, 0.05446155667985512, 0.12405132354855888, 0.05143591464208539, 0.10589747132194051, 0.015128210188848645, 0.06656412483093403, 0.034591873780078476, 0.36478703258991846, 0.5534699804812556, 0.003144715798188952, 0.012578863192755809, 0.018868294789133714, 0.003144715798188952, 0.009434147394566857, 0.8436521059992935, 0.7246498246934363, 0.04420021881149634, 0.6188030633609488, 0.04420021881149634, 0.2652013128689781, 0.19939988264397215, 0.06646662754799071, 0.06646662754799071, 0.6646662754799071, 0.9586447225920897, 0.9642439267487858, 0.7373423773243939, 0.08507796661435314, 0.07089830551196095, 0.04253898330717657, 0.01417966110239219, 0.04253898330717657, 0.5212712745548779, 0.13452161923996847, 0.03363040480999212, 0.15554062224621357, 0.04624180661373917, 0.0840760120249803, 0.00840760120249803, 0.00840760120249803, 0.004203800601249015, 0.004203800601249015, 0.37456648548377897, 0.1563557347661646, 0.16494670920386595, 0.15463753987862433, 0.027491118200644326, 0.06529140572653028, 0.017181948875402704, 0.024054728425563787, 0.0034363897750805407, 0.010309169325241622, 0.8992899054419558, 0.1405556462499564, 0.40671421042540573, 0.03289600231381958, 0.022429092486695168, 0.1510225560770808, 0.11513600809836852, 0.020933819654248825, 0.019438546821802478, 0.019438546821802478, 0.06878255029253184, 0.20857647929668516, 0.6147517284533878, 0.02195541887333528, 0.03293312831000292, 0.06586625662000584, 0.03293312831000292, 0.01097770943666764, 0.01097770943666764, 0.9100888281320234, 0.07584073567766861, 0.9497715379070213, 0.9644158618777067, 0.15772624470962418, 0.0371120575787351, 0.01855602878936755, 0.04639007197341888, 0.009278014394683775, 0.0742241151574702, 0.2597844030511457, 0.39895461897140233, 0.86708194424987, 0.06669861109614383, 0.5790716144178267, 0.17766969987819684, 0.006580359254748031, 0.006580359254748031, 0.1316071850949606, 0.026321437018992123, 0.019741077764244094, 0.03948215552848819, 0.15061794567557646, 0.20666183243858166, 0.028021943381502597, 0.16462891736632776, 0.007005485845375649, 0.3537770351914703, 0.03502742922687825, 0.028021943381502597, 0.024519200458814772, 0.8663807941615843, 0.22037878745921252, 0.07778074851501618, 0.021605763476393383, 0.01296345808583603, 0.2419845509356059, 0.08210190121029486, 0.008642305390557353, 0.09074420660085221, 0.20741532937337648, 0.03456922156222941, 0.9266975395112436, 0.9304370434586199, 0.18425270428657267, 0.7370108171462907, 0.11175650460382083, 0.7822955322267459, 0.896246035997516, 0.8430556353756027, 0.11834842554171927, 0.7889895036114618, 0.039449475180573096, 0.17262407511694663, 0.21970336833065934, 0.01569309773790424, 0.1883171728548509, 0.06277239095161696, 0.01569309773790424, 0.3138619547580848, 0.9359896537055434, 0.04254498425934288, 0.950028099103384, 0.9093154965659106, 0.7940319799687799, 0.030539691537260764, 0.030539691537260764, 0.06107938307452153, 0.030539691537260764, 0.030539691537260764, 0.030539691537260764, 0.9444312917987011, 0.9306994146386538, 0.9618139438578717, 0.10111480442127248, 0.020222960884254494, 0.020222960884254494, 0.020222960884254494, 0.04044592176850899, 0.020222960884254494, 0.738138072275289, 0.020222960884254494, 0.010111480442127247, 0.9471835489943552, 0.9430842585895143, 0.9522243717558517, 0.9116908433537487, 0.0828809857594317, 0.1826994349882512, 0.10723662488440831, 0.09532144434169627, 0.23830361085424068, 0.09532144434169627, 0.055604175865989494, 0.05957590271356017, 0.0913497174941256, 0.03177381478056542, 0.04368899532327746, 0.9588748141077575, 0.9051898586186173, 0.9508918116244532, 0.7033692178811289, 0.0576532145804204, 0.08071450041258857, 0.0576532145804204, 0.0576532145804204, 0.01153064291608408, 0.02306128583216816, 0.01153064291608408, 0.8386034738314283, 0.0931781637590476, 0.0465890818795238, 0.03256190107671177, 0.8674490446836015, 0.01693218855989012, 0.03256190107671177, 0.011722284387616237, 0.013024760430684708, 0.006512380215342354, 0.003907428129205412, 0.010419808344547766, 0.005209904172273883, 0.802392712900457, 0.1142954712367286, 0.6514841860493531, 0.03428864137101858, 0.07184286763451513, 0.0571477356183643, 0.0326558489247796, 0.0081639622311949, 0.013062339569911841, 0.0048983773387169405, 0.013062339569911841, 0.05899799603382662, 0.08849699405073994, 0.05899799603382662, 0.05899799603382662, 0.6784769543890061, 0.05899799603382662, 0.01880435180210276, 0.8744023587977783, 0.01880435180210276, 0.014103263851577069, 0.0470108795052569, 0.00940217590105138, 0.02350543975262845, 0.8031944627486882, 0.08829160167373253, 0.16775404318009182, 0.0500319076151151, 0.30902060585806385, 0.11772213556497671, 0.03531664066949301, 0.03237358728036859, 0.05297496100423952, 0.011772213556497671, 0.1324374025105988, 0.8914686716784244, 0.01255589678420316, 0.05022358713681264, 0.01255589678420316, 0.03766769035260948, 0.9443651640733399, 0.720246245351121, 0.01323866574170424, 0.039715997225112716, 0.00661933287085212, 0.9200872690484446, 0.00661933287085212, 0.01323866574170424, 0.039380685473601455, 0.11026591932608408, 0.0433187540209616, 0.7127904070721863, 0.051194891115681894, 0.011814205642080437, 0.003938068547360145, 0.003938068547360145, 0.00787613709472029, 0.011814205642080437, 0.03422523054390065, 0.6417230726981372, 0.30802707489510583, 0.008556307635975162, 0.9522243408596301, 0.9320360434086972, 0.8430560182064404, 0.04351451053162758, 0.06527176579744137, 0.8485329553667379, 0.04351451053162758, 0.9596171482507556, 0.13453504732567867, 0.807210283954072, 0.06658858817106714, 0.04237455610886091, 0.13923068435768585, 0.1573912084043405, 0.5448157213996403, 0.018160524046654674, 0.030267540077757792, 0.10170486529654224, 0.864491355020609, 0.19896524531810655, 0.20923441927000885, 0.08728797859116934, 0.13478290811871735, 0.06803327743135257, 0.07060057091932814, 0.06546598394337699, 0.07188421766331592, 0.0410766958076091, 0.05262951650349915, 0.07301587518486209, 0.766666689441052, 0.07301587518486209, 0.036507937592431046, 0.018253968796215523, 0.018253968796215523, 0.018253968796215523, 0.1163056150585069, 0.8722921129388017, 0.8943304887697461, 0.05589565554810913, 0.7981968254390391, 0.7574132735694298, 0.07060632211240447, 0.0577688090010582, 0.0192562696670194, 0.0192562696670194, 0.06418756555673133, 0.006418756555673134, 0.006418756555673134, 0.03969392819364967, 0.059540892290474504, 0.8732664202602928, 0.04508206457915069, 0.09579938723069521, 0.8509239689314693, 0.005635258072393836, 0.07914739861303376, 0.8706213847433714, 0.20034991279531195, 0.0838674053561771, 0.04659300297565394, 0.018637201190261576, 0.44263352826871244, 0.05591160357078473, 0.018637201190261576, 0.0792081050586117, 0.03727440238052315, 0.02329650148782697, 0.37191448946230066, 0.035420427567838156, 0.053130641351757234, 0.053130641351757234, 0.1593919240552717, 0.3187838481105434, 0.20205015839403628, 0.0673500527980121, 0.6735005279801209, 0.21334564340821327, 0.020646352587891607, 0.17205293823243006, 0.020646352587891607, 0.04817482270508042, 0.5230409322265874, 0.9677008084766511, 0.21329968345878952, 0.2701795990478001, 0.10238384806021898, 0.031283953573955796, 0.06825589870681265, 0.03981594091230738, 0.07963188182461475, 0.05972391136846107, 0.048347928250658964, 0.0853198733835158, 0.16368684206625292, 0.4854161523344052, 0.028221869321767745, 0.10724310342271744, 0.039510617050474844, 0.06773248637224259, 0.028221869321767745, 0.011288747728707098, 0.016933121593060648, 0.05644373864353549, 0.5073886482578348, 0.008901555232593592, 0.4539793168622732, 0.026704665697780777, 0.037227695529204796, 0.7966726843249826, 0.007445539105840959, 0.022336617317522876, 0.007445539105840959, 0.1265741647992963, 0.017925160756625588, 0.026887741134938383, 0.008962580378312794, 0.04033161170240757, 0.869370296696341, 0.013443870567469192, 0.017925160756625588, 0.014936189616317415, 0.002987237923263483, 0.014936189616317415, 0.9559161354443145, 0.008961713769790448, 0.06278694185087297, 0.06278694185087297, 0.8162302440613486, 0.05576947537665937, 0.13942368844164843, 0.05576947537665937, 0.08365421306498905, 0.529810016078264, 0.08365421306498905, 0.08365421306498905, 0.10905728190639584, 0.5998150504851771, 0.08179296142979688, 0.19085024333619272, 0.2385114080794184, 0.027520547086086738, 0.1559497668211582, 0.07338812556289796, 0.009173515695362245, 0.04586757847681123, 0.4403287533773878, 0.0515168123687227, 0.2575840618436135, 0.6182017484246725, 0.2919519954594828, 0.1482568726942686, 0.011404374822636048, 0.04561749929054419, 0.15966124751690466, 0.12316724808446931, 0.052460124184125816, 0.10035849843919721, 0.03877487439696256, 0.025089624609799303, 0.933184101385011, 0.8673669751559656, 0.06221348108134487, 0.5210379040562633, 0.13998033243302596, 0.007776685135168109, 0.007776685135168109, 0.023330055405504327, 0.023330055405504327, 0.20997049864953896, 0.084661488233446, 0.169322976466892, 0.6984572779259296, 0.0211653720583615, 0.0211653720583615, 0.08689267163959377, 0.09558193880355315, 0.7733447775923845, 0.02606780149187813, 0.008689267163959376, 0.008689267163959376, 0.09936614410382472, 0.019873228820764942, 0.039746457641529884, 0.7551826951890679, 0.07949291528305977, 0.21740980488925737, 0.15887639588061114, 0.03344766229065498, 0.10034298687196494, 0.16166370107149908, 0.15887639588061114, 0.05295879862687038, 0.06132071419953413, 0.03344766229065498, 0.019511136336215405, 0.07028707828495458, 0.017571769571238644, 0.8610167089906936, 0.017571769571238644, 0.017571769571238644, 0.9266124513037328, 0.9645620354960296, 0.018313969009108547, 0.2197676281093026, 0.1098838140546513, 0.6593028843279077, 0.012918744983242053, 0.0064593724916210266, 0.025837489966484106, 0.9366090112850488, 0.012918744983242053, 0.0064593724916210266, 0.17311432783211317, 0.7790144752445093, 0.7665273933460601, 0.018620098623790934, 0.0062066995412636446, 0.14585743921969566, 0.012413399082527289, 0.049653596330109157, 0.8635423667112231, 0.050796609806542534, 0.9594816378636544, 0.06097686843911732, 0.2048822779554342, 0.3146406411458454, 0.09268484002745833, 0.06585501791424671, 0.17805245584222257, 0.04146427053859978, 0.036586121063470395, 0.0024390747375646928, 0.19949983982234745, 0.22087482266045613, 0.09974991991117373, 0.053437457095271645, 0.2101873312414018, 0.060562451374641196, 0.02493747997779343, 0.014249988558739105, 0.11399990846991284, 0.4683627645854857, 0.13305760357542207, 0.0319338248581013, 0.026611520715084415, 0.14370221186145585, 0.01596691242905065, 0.026611520715084415, 0.1543468201474896, 0.9304364501418342, 0.8614792867649159, 0.9675054918901904, 0.8430556531729351, 0.12409386426938926, 0.7445631856163356, 0.9360380090933191, 0.042547182231514505, 0.2584511462709265, 0.12370311274505885, 0.2098534948353677, 0.13253904936970592, 0.11044920780808826, 0.057433588060205897, 0.028716794030102948, 0.026507809873941184, 0.026507809873941184, 0.026507809873941184, 0.05954629868691247, 0.07939506491588329, 0.039697532457941644, 0.039697532457941644, 0.774101882929862, 0.9217094683610197, 0.9375240593705664, 0.01832087059383754, 0.025649218831372556, 0.714513953159664, 0.1795445318196079, 0.010992522356302523, 0.007328348237535016, 0.03664174118767508, 0.007328348237535016, 0.8884297887576575, 0.0710743831006126, 0.0064765755108173876, 0.012953151021634775, 0.6735638531250082, 0.21372699185697377, 0.012953151021634775, 0.03238287755408693, 0.03238287755408693, 0.012953151021634775, 0.009079252705028722, 0.9351630286179583, 0.04539626352514361, 0.3066313271693997, 0.13433372428373702, 0.10805103909778847, 0.10805103909778847, 0.11389163580577703, 0.026282685185948545, 0.037963878601925675, 0.07300745884985707, 0.035043580247931395, 0.06424656378787423, 0.6724282380685295, 0.07078191979668731, 0.011796986632781219, 0.07078191979668731, 0.15336082622615582, 0.011796986632781219, 0.8770463012312334, 0.7456432479433169, 0.02761641659049322, 0.04142462488573983, 0.05523283318098644, 0.01380820829524661, 0.1242738746572195, 0.10149869228055873, 0.8881135574548888, 0.9394707932115243, 0.30580621322670715, 0.22214224923072123, 0.04904439268730209, 0.066354178341644, 0.03461957130868383, 0.12405346385611705, 0.09520382109888054, 0.04615942841157844, 0.04615942841157844, 0.01153985710289461, 0.01419310771719269, 0.9651313247691029, 0.9485939329876205, 0.022445262124182193, 0.22445262124182194, 0.011222631062091096, 0.24689788336600413, 0.49379576673200826, 0.8034843596246818, 0.08172394449229632, 0.08172394449229632, 0.04086197224614816, 0.08172394449229632, 0.16344788898459264, 0.5720676114460743, 0.957076440629588, 0.38573522076282113, 0.6061553469130047, 0.009697935983384738, 0.019395871966769476, 0.13577110376738633, 0.2036566556510795, 0.6303658389200079, 0.09789775982446647, 0.15010989839751526, 0.166426191701593, 0.13705686375425305, 0.062001914555495426, 0.18274248500567075, 0.06526517321631098, 0.03915910392978659, 0.042422362590602135, 0.05547539723386433, 0.8793460445988001, 0.014904170247437289, 0.014904170247437289, 0.04471251074231187, 0.029808340494874578, 0.023235322658734594, 0.9526482290081184, 0.0559414284846599, 0.2797071424232995, 0.6153557133312589, 0.9015541877917125, 0.13131349895637684, 0.20417131128056012, 0.20078257582362138, 0.223656540157958, 0.044900744804438536, 0.07031626073147922, 0.0796352832380608, 0.010166206370816272, 0.015249309556224408, 0.020332412741632545, 0.12806219385437592, 0.02439279882940494, 0.030490998536756176, 0.1402585932690784, 0.030490998536756176, 0.6281145698571772, 0.018294599122053706, 0.8644972136926012, 0.8996920707900266, 0.05292306298764862, 0.726552362775248, 0.6748356484861078, 0.16969551394679905, 0.0078928146021767, 0.0236784438065301, 0.055249702215236896, 0.0631425168174136, 0.0078928146021767, 0.9645619087159775, 0.9068420953884259, 0.039427917190801125, 0.039427917190801125, 0.7627913140330576, 0.01773933288448971, 0.03547866576897942, 0.08869666442244856, 0.053217998653469135, 0.03547866576897942, 0.8865512383028218, 0.872846782818469, 0.0671420602168053, 0.03934102729350931, 0.8655026004572047, 0.03934102729350931, 0.03934102729350931, 0.8110223391405266, 0.005266378825587835, 0.11586033416293236, 0.015799136476763502, 0.01053275765117567, 0.03686465177911484, 0.005266378825587835, 0.9215823066701325, 0.06274552948244758, 0.06274552948244758, 0.6902008243069234, 0.12549105896489515, 0.856834715420369, 0.8454535616426224, 0.12077908023466034, 0.020129846705776725, 0.8568344884490925, 0.42068985419661015, 0.040065700399677155, 0.020032850199838578, 0.5008212549959645, 0.021065202604853506, 0.010532601302426753, 0.04213040520970701, 0.0035108671008089176, 0.04915213941132485, 0.0035108671008089176, 0.7267494898674459, 0.007021734201617835, 0.1369238169315478, 0.9395471800569654, 0.933186915354268, 0.03456247834645437, 0.9862993741518755, 0.009132401612517365, 0.9300002870891204, 0.027761202599675235, 0.013880601299837618, 0.013880601299837618, 0.005651064667544834, 0.9776341874852563, 0.011302129335089669, 0.10932087599723307, 0.11352552507404973, 0.21023245384083283, 0.07358135884429148, 0.004204649076816657, 0.48773929291073215, 0.9367647738071622, 0.050102418556190145, 0.03340161237079343, 0.1586576587612688, 0.08350403092698358, 0.0584528216488885, 0.6095794257669801, 0.8338075702906519, 0.9059551563784701, 0.03870663398652294, 0.131602555554178, 0.263205111108356, 0.05418928758113211, 0.1277318921555257, 0.22062781372318074, 0.01935331699326147, 0.007741326797304587, 0.131602555554178, 0.007741326797304587, 0.9304364326473468, 0.9501916364102847, 0.8890785248508338, 0.7200803609650669, 0.7782871422008173, 0.12353764161917734, 0.037061292485753204, 0.02470752832383547, 0.012353764161917734, 0.012353764161917734, 0.012353764161917734, 0.8358043213382003, 0.11940061733402861, 0.02573663852615415, 0.012868319263077075, 0.09007823484153953, 0.02573663852615415, 0.8107041135738557, 0.02573663852615415, 0.015756564143499997, 0.031513128286999995, 0.015756564143499997, 0.37815753944399993, 0.0787828207175, 0.015756564143499997, 0.015756564143499997, 0.4569403601614999, 0.7246497225064559, 0.5015222177585099, 0.05868877016322988, 0.05868877016322988, 0.04801808467900627, 0.16006028226335423, 0.010670685484223615, 0.04268274193689446, 0.06402411290534168, 0.03201205645267084, 0.01600602822633542, 0.4122309856365805, 0.025498823853809104, 0.07224666758579246, 0.012749411926904552, 0.22948941468428194, 0.012749411926904552, 0.18274157095229857, 0.016999215902539402, 0.021249019878174253, 0.016999215902539402, 0.06355705761815023, 0.08897988066541031, 0.02542282304726009, 0.584724930086982, 0.02542282304726009, 0.07626846914178026, 0.012711411523630044, 0.1144027037126704, 0.7981968090131282, 0.9643552199073552, 0.06989205600697448, 0.05824338000581207, 0.06989205600697448, 0.7571639400755569, 0.023297352002324828, 0.011648676001162414, 0.02113083398892087, 0.04226166797784174, 0.8874950275346765, 0.04226166797784174, 0.029704422422299325, 0.03960589656306577, 0.06435958191498188, 0.851526776105914, 0.014852211211149663, 0.8992593347818032, 0.1608186220064821, 0.08659464261887498, 0.07834753379802974, 0.05772976174591665, 0.08659464261887498, 0.2103012749315535, 0.15669506759605947, 0.1360772955439464, 0.012370663231267854, 0.02061777205211309, 0.05377457170266376, 0.8603931472426202, 0.05377457170266376, 0.018118948332329757, 0.7791147782901796, 0.09965421582781367, 0.07247579332931903, 0.027178422498494635, 0.9733252257469314, 0.8012115473455839, 0.03641870669752654, 0.09104676674381636, 0.03641870669752654, 0.03641870669752654, 0.9238213914755532, 0.8289635371146495, 0.022404419922017554, 0.022404419922017554, 0.022404419922017554, 0.06721325976605266, 0.7246497557227786, 0.1518184386118965, 0.7590921930594825, 0.9507340231011977, 0.09920486324007989, 0.2027229814036415, 0.008626509846963469, 0.10783137308704335, 0.28467482494979446, 0.07332533369918949, 0.051759059081780814, 0.043132549234817345, 0.09057835339311643, 0.03881929431133561, 0.11399321016483592, 0.07599547344322395, 0.22798642032967184, 0.5699660508241796, 0.037997736721611976, 0.9332197781691923, 0.9555640318943847, 0.009493374156354345, 0.8702259643324817, 0.03164458052118115, 0.06961807714659853, 0.009493374156354345, 0.009493374156354345, 0.034677458842245844, 0.7629040945294085, 0.026971356877302323, 0.08091407063190698, 0.023118305894830563, 0.011559152947415281, 0.026971356877302323, 0.011559152947415281, 0.015412203929887042, 0.11192649864278068, 0.7834854904994647, 0.03571576053947363, 0.9286097740263144, 0.13239372110112596, 0.7943623266067558, 0.06619686055056298, 0.29748917694567045, 0.2657184881456474, 0.002888244436365733, 0.10830916636371497, 0.2411684104365387, 0.011552977745462932, 0.02021771105456013, 0.04043542210912026, 0.011552977745462932, 0.08660958515789138, 0.5129952351659721, 0.059960482032386346, 0.09327186093926765, 0.013324551562752522, 0.153232342971654, 0.006662275781376261, 0.046635930469633824, 0.006662275781376261, 0.019986827344128783, 0.017864254831222948, 0.780072460963402, 0.07741177093529944, 0.07145701932489179, 0.023819006441630597, 0.011909503220815298, 0.005954751610407649, 0.011909503220815298, 0.11863549787219237, 0.2711668522792968, 0.08473964133728026, 0.44064613495385735, 0.050843784802368154, 0.9308464444960501, 0.07032323648464456, 0.9142020743003794, 0.9009599178560256, 0.050505584802918876, 0.050505584802918876, 0.016835194934306293, 0.3535390936204322, 0.050505584802918876, 0.08417597467153147, 0.3535390936204322, 0.016835194934306293, 0.973718723978557, 0.7246497161990776, 0.7247378023686862, 0.1698992281429127, 0.15928052638398066, 0.007584786970665745, 0.006067829576532596, 0.43081589993381436, 0.11528876195411933, 0.006067829576532596, 0.004550872182399447, 0.09405135843625524, 0.004550872182399447, 0.2686076697070376, 0.1165655925143748, 0.005068069239755426, 0.3142202928648364, 0.18245049263119534, 0.07095296935657597, 0.04054455391804341, 0.044206926823917865, 0.1326207804717536, 0.8104603251051609, 0.12206237337367556, 0.10462489146315049, 0.13949985528420064, 0.08718740955262541, 0.5231244573157524, 0.03487496382105016, 0.09431760610894442, 0.04715880305447221, 0.04715880305447221, 0.04715880305447221, 0.7545408488715554, 0.9645673597238188, 0.04492192004351692, 0.7636726407397877, 0.1796876801740677, 0.1033960612486647, 0.1033960612486647, 0.01723267687477745, 0.6376090443667656, 0.1033960612486647, 0.01723267687477745, 0.8938952969310645, 0.02552830440410417, 0.9445472629518543, 0.8437380951701574, 0.9640123222539319, 0.9000844916563242, 0.9266719119173571, 0.04633359559586785, 0.12526720532520405, 0.8142368346138263, 0.9257200419455485, 0.9014272413180535, 0.044741687142566496, 0.06711253071384975, 0.8724628992800466, 0.13317147043815716, 0.799028822628943, 0.4138309138901006, 0.3283658338475799, 0.04048345896750985, 0.04198284633667688, 0.026988972645006565, 0.13944302533253392, 0.0029987747383340628, 0.0029987747383340628, 0.0029987747383340628, 0.425563330170339, 0.2299252115612258, 0.03630398077282513, 0.07059107372493775, 0.04840530769710017, 0.1694185769398506, 0.01411821474498755, 0.006050663462137521, 0.8898008042421875, 0.05740650349949597, 0.028703251749747985, 0.7628497274852907, 0.21795706499579734, 0.015568361785414096, 0.6433247924784333, 0.23519401015340574, 0.048422296208054126, 0.06917470886864875, 0.028831487027408318, 0.17298892216444992, 0.20182040919185823, 0.057662974054816636, 0.5189667664933497, 0.021221808166987537, 0.06366542450096262, 0.6790978613436012, 0.021221808166987537, 0.14855265716891278, 0.04244361633397507, 0.9015541681397272, 0.010537030696629585, 0.01317128837078698, 0.1949350678876473, 0.7375921487640709, 0.0052685153483147925, 0.010537030696629585, 0.02634257674157396, 0.0026342576741573962, 0.0026342576741573962, 0.07952109320997412, 0.6453442564347901, 0.1804517115149413, 0.02446802867999204, 0.0672870788699781, 0.003058503584999005, 0.16035717384531084, 0.08908731880295047, 0.09799605068324552, 0.08908731880295047, 0.17817463760590094, 0.05345239128177028, 0.02672619564088514, 0.008908731880295047, 0.035634927521180186, 0.25835322452855636, 0.11033333636873628, 0.03152381039106751, 0.015761905195533756, 0.03152381039106751, 0.07880952597766877, 0.22066667273747256, 0.5043809662570802, 0.8090483704404987, 0.014982377230379606, 0.11985901784303685, 0.02996475446075921, 0.02996475446075921, 0.896246028289149, 0.9522244113090912, 0.8407162261707691, 0.07642874783370628, 0.910901878620947, 0.9506525045978124, 0.006144990360249227, 0.006144990360249227, 0.07373988432299072, 0.012289980720498453, 0.17820472044722757, 0.012289980720498453, 0.6820939299876642, 0.006144990360249227, 0.006144990360249227, 0.012289980720498453, 0.9653775791576052, 0.8999465889044476, 0.5252326165791379, 0.05450527153179732, 0.01982009873883539, 0.4013569994614167, 0.12415167853748874, 0.7449100712249324, 0.10279817274280588, 0.1528080946176844, 0.2945028732631736, 0.09446318576365945, 0.10001984374975706, 0.144473107638538, 0.02222663194439046, 0.04167493489573211, 0.038896605902683304, 0.005556657986097615, 0.04154248180031298, 0.7893071542059467, 0.04154248180031298, 0.08308496360062596, 0.1851033736478359, 0.13804319390686068, 0.1631419564353808, 0.19451540959603095, 0.037648143792780184, 0.0407854891088452, 0.06902159695343034, 0.04706017974097523, 0.05333487037310526, 0.07529628758556037, 0.007516166584450355, 0.01503233316890071, 0.01503233316890071, 0.6614226594316313, 0.2705819970402128, 0.007516166584450355, 0.022548499753351065, 0.3402774705733681, 0.24164631968253678, 0.0024657787722707834, 0.009863115089083134, 0.15287828388078858, 0.17013873528668405, 0.004931557544541567, 0.02712356649497862, 0.039452460356332535, 0.012328893861353918, 0.09289401577283306, 0.8670108138797752, 0.549641662547311, 0.007328555500630812, 0.27848510902397083, 0.06595699950567731, 0.007328555500630812, 0.04397133300378487, 0.04397133300378487, 0.8430559701582431, 0.7161155804905757, 0.0438438110504434, 0.1315314331513302, 0.014614603683481135, 0.0876876221008868, 0.10182539811366062, 0.03394179937122021, 0.3394179937122021, 0.08485449842805053, 0.03394179937122021, 0.05091269905683031, 0.3563888933978122, 0.940093946984901, 0.0849721650737164, 0.0849721650737164, 0.7647494856634476, 0.8738759517700606, 0.07944326834273278, 0.9753230980999729, 0.18449294969368024, 0.2496081084090968, 0.06511515871541657, 0.039792596992754566, 0.16640540560606454, 0.0940552292556017, 0.013264198997584855, 0.045821778355293136, 0.11817195470575598, 0.022910889177646568, 0.966823600139995, 0.843674650921258, 0.0037723429120805696, 0.018861714560402847, 0.35082789082349297, 0.6111195517570522, 0.0037723429120805696, 0.007544685824161139, 0.0037723429120805696, 0.33771072339912084, 0.662677645915256, 0.28464092077349773, 0.7116023019337443, 0.1269666051710574, 0.03734311916795806, 0.039832660445821934, 0.45807559512695223, 0.03236403661223032, 0.10705027494814644, 0.03485357789009419, 0.1618201830611516, 0.004979082555727742, 0.035824790106655194, 0.035824790106655194, 0.8956197526663798, 0.9057252526252592, 0.02830391414453935, 0.0566078282890787, 0.00937690667390108, 0.00937690667390108, 0.8626754139988994, 0.09376906673901081, 0.01875381334780216, 0.04946696190002996, 0.09893392380005991, 0.02473348095001498, 0.7914713904004793, 0.11912812897124615, 0.8338969027987231, 0.5086071310301222, 0.13046056520847002, 0.003781465658216522, 0.02268879394929913, 0.11911616823382044, 0.10399030560095436, 0.04348685506949, 0.01890732829108261, 0.04726832072770652, 0.003781465658216522, 0.7981968073207287, 0.06754404127048702, 0.1512986524458909, 0.19993036216064158, 0.3836501544163663, 0.04322818641311169, 0.0567369946672091, 0.021614093206555846, 0.04592994806393117, 0.021614093206555846, 0.008105284952458443, 0.04474851341256981, 0.05966468455009308, 0.8054732414262565, 0.07458085568761634, 0.01491617113752327, 0.2042263766495155, 0.1329846173531729, 0.1678139218980515, 0.1883948745836616, 0.05857655764365949, 0.09973846301487967, 0.07124175929634262, 0.0189978024790247, 0.023747253098780875, 0.03482930454487861, 0.11181791391910385, 0.027954478479775963, 0.5870440480752953, 0.05590895695955193, 0.2236358278382077, 0.10878188278170046, 0.7614731794719033, 0.028926730371707333, 0.9256553718946346, 0.028926730371707333, 0.9131445961059175, 0.030167789604124785, 0.030167789604124785, 0.06033557920824957, 0.2111745272288735, 0.06033557920824957, 0.030167789604124785, 0.5430202128742462, 0.030167789604124785, 0.8077446529937683, 0.07582428661112367, 0.0866563275555699, 0.5524340881667581, 0.1949767370000323, 0.0866563275555699, 0.9233015136041128, 0.016487527028644873, 0.016487527028644873, 0.032975054057289746, 0.9304362726780344, 0.1779771894240425, 0.0355954378848085, 0.0355954378848085, 0.071190875769617, 0.0355954378848085, 0.569527006156936, 0.0355954378848085, 0.9304364842770505, 0.9669718875891865, 0.010279027584268425, 0.2466966620224422, 0.7400899860673266, 0.0700427931497935, 0.9105563109473156, 0.9376034463687095, 0.97926323682062, 0.6195428682007325, 0.11096290176729537, 0.07397526784486358, 0.055481450883647684, 0.009246908480607947, 0.12945671872851128, 0.06664212825565631, 0.6530928569054318, 0.004442808550377087, 0.013328425651131261, 0.15105549071282098, 0.026656851302262523, 0.013328425651131261, 0.06664212825565631, 0.004442808550377087, 0.036223990418049176, 0.06037331736341529, 0.06037331736341529, 0.07244798083609835, 0.7003304814156174, 0.06037331736341529, 0.1919340125816604, 0.18747043089371482, 0.026781490127673547, 0.08257626122699344, 0.1472981957022045, 0.06918551616315666, 0.11158954219863977, 0.07811267953904784, 0.08703984291493902, 0.02008611759575516, 0.20040525773190518, 0.14844833906067048, 0.03958622374951213, 0.05443105765557918, 0.11381039327984738, 0.0915431424207468, 0.11628453226419189, 0.07175003054599075, 0.10391383734246934, 0.05690519663992369, 0.24276201890084695, 0.03468028841440671, 0.6589254798737274, 0.03468028841440671, 0.9009600454432968, 0.9410069547521345, 0.8614792925503935, 0.8645336708654436, 0.9069908226427613, 0.9167493031021964, 0.8969773402194274, 0.024164334504164782, 0.012082167252082391, 0.5497386099697488, 0.37454718481455407, 0.012082167252082391, 0.012082167252082391, 0.012082167252082391, 0.06961535190568624, 0.12530763343023524, 0.5244356510228363, 0.07425637536606532, 0.04176921114341174, 0.04176921114341174, 0.004641023460379082, 0.06961535190568624, 0.046410234603790824, 0.004641023460379082, 0.04915946017231449, 0.01843479756461793, 0.1106087853877076, 0.15362331303848278, 0.4608699391154483, 0.024579730086157246, 0.006144932521539311, 0.0553043926938538, 0.12904358295232554, 0.8537499987523703, 0.1219642855360529, 0.08266707920347642, 0.4353799504716425, 0.4684467821530331, 0.005511138613565095, 0.005511138613565095, 0.10335509690950787, 0.048232378557770336, 0.5718982028992768, 0.20671019381901573, 0.013780679587934382, 0.03445169896983596, 0.006890339793967191, 0.020671019381901575, 0.006890339793967191, 0.15906406252726898, 0.09476156916518153, 0.3553558843694307, 0.1861387965744637, 0.04061210107079208, 0.06430249336208746, 0.0507651263384901, 0.01353736702359736, 0.01353736702359736, 0.02030605053539604, 0.05151414190405621, 0.05151414190405621, 0.8499833414169274, 0.025757070952028106, 0.9406722676865075, 0.16895826366483038, 0.08447913183241519, 0.6758330546593215, 0.13379625714474783, 0.802777542868487, 0.14701294084557232, 0.41478651167143615, 0.021001848692224614, 0.2362707977875269, 0.028877541951808847, 0.052504621730561536, 0.052504621730561536, 0.010500924346112307, 0.010500924346112307, 0.026252310865280768, 0.11510076719667975, 0.10128867513307818, 0.011510076719667976, 0.4534970227549182, 0.08287255238160943, 0.03913426084687112, 0.1358189052920821, 0.020718138095402357, 0.029926199471136738, 0.011510076719667976, 0.10919338341071808, 0.1494225246672984, 0.264362928257528, 0.2830407438409403, 0.05028642657072543, 0.03879238621170247, 0.03448212107706887, 0.0186778155834123, 0.03017185594243526, 0.022988080718045912, 0.8078920332118568, 0.08029797324512404, 0.013382995540854007, 0.8431287190738025, 0.013382995540854007, 0.026765991081708015, 0.026765991081708015, 0.04840508628852263, 0.08067514381420439, 0.49373188014293085, 0.12746672722644292, 0.06776712080393169, 0.02258904026797723, 0.05808610354622716, 0.024202543144261315, 0.030656554649397667, 0.04679158341223855, 0.010653268333320299, 0.2982915133329684, 0.6818091733324991, 0.0063272638968807264, 0.06327263896880726, 0.5441446951317425, 0.34799951432843995, 0.01898179169064218, 0.012654527793761453, 0.0063272638968807264, 0.9670986133503937, 0.10528439208365421, 0.8773699340304517, 0.017547398680609033, 0.015453110291095851, 0.02317966543664378, 0.6799368528082175, 0.21634354407534193, 0.007726555145547926, 0.030906220582191703, 0.015453110291095851, 0.02010810235435384, 0.05457913496181757, 0.8962468477940569, 0.008617758151865933, 0.008617758151865933, 0.01149034420248791, 0.0749376421560501, 0.824314063716551, 0.0749376421560501, 0.8998286088923683, 0.9370578579232105, 0.9051898852409743, 0.9833507074926311, 0.9558675719368397, 0.9818135575513065, 0.9051898190835289, 0.9471836742960911, 0.9687834883191553, 0.9733037067203559, 0.8998501731212499, 0.958112487656688, 0.8962460063054284, 0.8917708848000052, 0.9131789585311014, 0.939470721996414, 0.9051899449737119, 0.9716009955813858, 0.9471836567524659, 0.9785210682874126], \"Term\": [\"15\", \"15\", \"15\", \"15\", \"15\", \"15\", \"15\", \"15\", \"15\", \"15\", \"1884\", \"196\", \"2\", \"2\", \"2\", \"2\", \"2\", \"2\", \"2\", \"2\", \"2\", \"2\", \"2d\", \"330\", \"3d\", \"413\", \"440\", \"470\", \"542\", \"570\", \"740\", \"780\", \"890\", \"activity\", \"activity\", \"activity\", \"activity\", \"activity\", \"activity\", \"activity\", \"activity\", \"activity\", \"activity\", \"actor\", \"actor\", \"actor\", \"actor\", \"actor\", \"acupuncture\", \"acupuncture\", \"acupuncturists\", \"adam\", \"aerospace\", \"africa\", \"africa\", \"africa\", \"africa\", \"africa\", \"africa\", \"african\", \"african\", \"african\", \"african\", \"african\", \"aircraft\", \"aircraft\", \"aircraft\", \"algae\", \"algae\", \"algae\", \"algae\", \"algorithm\", \"algorithm\", \"algorithm\", \"algorithm\", \"alloy\", \"alloy\", \"alloy\", \"alloy\", \"also\", \"also\", \"also\", \"also\", \"also\", \"also\", \"also\", \"also\", \"also\", \"also\", \"amazon\", \"america\", \"america\", \"america\", \"america\", \"america\", \"america\", \"analog\", \"analog\", \"ancient\", \"ancient\", \"ancient\", \"ancient\", \"ancient\", \"ancient\", \"ancient\", \"ancient\", \"ancient\", \"ancient\", \"andes\", \"animal\", \"animal\", \"animal\", \"animal\", \"animal\", \"animal\", \"animal\", \"animal\", \"animal\", \"animal\", \"animation\", \"animation\", \"animator\", \"anime\", \"antarctic\", \"anthropics\", \"anthropologist\", \"anthropologist\", \"anthropologist\", \"anthropology\", \"anthropology\", \"anthropology\", \"anthropology\", \"application\", \"application\", \"application\", \"application\", \"application\", \"application\", \"application\", \"application\", \"application\", \"archaeological\", \"archaeological\", \"archaeological\", \"archaeological\", \"archaeological\", \"archaeological\", \"archaeologist\", \"archaeologist\", \"archaeologist\", \"archaeologist\", \"archaeologist\", \"archaeology\", \"archeology\", \"archeology\", \"archeology\", \"archeology\", \"archeology\", \"archeology\", \"area\", \"area\", \"area\", \"area\", \"area\", \"area\", \"area\", \"area\", \"area\", \"area\", \"arithmetic\", \"army\", \"army\", \"army\", \"army\", \"army\", \"army\", \"army\", \"art\", \"art\", \"art\", \"art\", \"art\", \"art\", \"art\", \"art\", \"art\", \"arthropod\", \"artist\", \"artist\", \"artist\", \"artist\", \"artist\", \"asia\", \"asia\", \"asia\", \"asia\", \"asia\", \"asian\", \"asian\", \"asian\", \"asian\", \"asian\", \"asian\", \"astronomical\", \"astronomical\", \"astronomical\", \"astronomy\", \"astronomy\", \"astronomy\", \"astronomy\", \"astronomy\", \"astronomy\", \"atmosphere\", \"atmosphere\", \"atmosphere\", \"atmosphere\", \"atmosphere\", \"atmosphere\", \"atmosphere\", \"atmosphere\", \"atom\", \"atom\", \"atom\", \"atomic\", \"atomic\", \"atomic\", \"atomic\", \"atomic\", \"attack\", \"attack\", \"attack\", \"attack\", \"attack\", \"attack\", \"audience\", \"audience\", \"audience\", \"audience\", \"audience\", \"audience\", \"autonomy\", \"axiom\", \"axiom\", \"bachelor\", \"bachelor\", \"bachelor\", \"bachelor\", \"basin\", \"basin\", \"battle\", \"battle\", \"battle\", \"battle\", \"battle\", \"bayer\", \"bayer\", \"bbc\", \"behavior\", \"behavior\", \"behavior\", \"behavior\", \"behavior\", \"behavior\", \"behavior\", \"behavior\", \"behavioralism\", \"beld\", \"belief\", \"belief\", \"belief\", \"belief\", \"belief\", \"belief\", \"belief\", \"belief\", \"belief\", \"belief\", \"biochemistry\", \"biological\", \"biological\", \"biological\", \"biological\", \"biological\", \"biological\", \"biological\", \"biological\", \"biology\", \"biology\", \"biology\", \"biology\", \"biology\", \"biology\", \"biology\", \"bodhi\", \"bodhisattva\", \"body\", \"body\", \"body\", \"body\", \"body\", \"body\", \"body\", \"body\", \"body\", \"body\", \"bond\", \"bond\", \"book\", \"book\", \"book\", \"book\", \"book\", \"book\", \"book\", \"book\", \"book\", \"book\", \"borderleft\", \"box\", \"box\", \"boxing\", \"boxing\", \"braun\", \"breed\", \"buddha\", \"buddhism\", \"buddhism\", \"buddhism\", \"buddhism\", \"buddhist\", \"buddhist\", \"buddhist\", \"cairn\", \"calculation\", \"calculation\", \"calculation\", \"calculation\", \"calculation\", \"calculation\", \"calculation\", \"called\", \"called\", \"called\", \"called\", \"called\", \"called\", \"called\", \"called\", \"called\", \"called\", \"calligraphy\", \"calligraphy\", \"canvas\", \"cathode\", \"caucasus\", \"cave\", \"cell\", \"cell\", \"cell\", \"central\", \"central\", \"central\", \"central\", \"central\", \"central\", \"central\", \"central\", \"central\", \"century\", \"century\", \"century\", \"century\", \"century\", \"century\", \"century\", \"century\", \"century\", \"century\", \"ceo\", \"chemical\", \"chemical\", \"chemical\", \"chemical\", \"chemical\", \"chemical\", \"chemical\", \"chemistry\", \"chemistry\", \"chemistry\", \"chemistry\", \"chemistry\", \"chess\", \"chessboard\", \"chile\", \"china\", \"china\", \"china\", \"china\", \"china\", \"china\", \"china\", \"china\", \"china\", \"china\", \"chinese\", \"chinese\", \"chinese\", \"chinese\", \"chinese\", \"chinese\", \"chinese\", \"chinese\", \"chinese\", \"chinese\", \"chlorophyll\", \"chorus\", \"chuan\", \"chuan\", \"chuan\", \"cinema\", \"ciphertext\", \"circuit\", \"circuit\", \"circus\", \"classical\", \"classical\", \"classical\", \"classical\", \"classical\", \"classical\", \"classical\", \"classical\", \"classical\", \"classification\", \"classification\", \"classification\", \"classification\", \"classification\", \"classification\", \"classification\", \"classification\", \"classification\", \"climate\", \"climate\", \"climate\", \"climate\", \"climate\", \"clinical\", \"clinical\", \"clothing\", \"clothing\", \"clothing\", \"cognitive\", \"cognitive\", \"cognitive\", \"cognitive\", \"cognitive\", \"cognitive\", \"colombia\", \"colonist\", \"combustion\", \"combustion\", \"comedy\", \"comedy\", \"comic\", \"comic\", \"comic\", \"communication\", \"communication\", \"communication\", \"communication\", \"communication\", \"communication\", \"communication\", \"communication\", \"communication\", \"competition\", \"competition\", \"competition\", \"competition\", \"competition\", \"competition\", \"composer\", \"computer\", \"computer\", \"computer\", \"computer\", \"computer\", \"computer\", \"computer\", \"computer\", \"computing\", \"computing\", \"concept\", \"concept\", \"concept\", \"concept\", \"concept\", \"concept\", \"concept\", \"concept\", \"concept\", \"concept\", \"confidentiality\", \"consonant\", \"constellation\", \"continent\", \"continent\", \"continent\", \"continent\", \"continent\", \"continent\", \"contract\", \"contract\", \"contract\", \"contract\", \"contract\", \"cook\", \"costume\", \"costume\", \"country\", \"country\", \"country\", \"country\", \"country\", \"country\", \"country\", \"country\", \"country\", \"country\", \"crime\", \"crime\", \"crime\", \"crime\", \"crime\", \"criminal\", \"criminal\", \"criminal\", \"criminal\", \"cryptographic\", \"cryptography\", \"cryptography\", \"crystal\", \"crystal\", \"crystal\", \"crystal\", \"cultural\", \"cultural\", \"cultural\", \"cultural\", \"cultural\", \"cultural\", \"cultural\", \"cultural\", \"cultural\", \"culture\", \"culture\", \"culture\", \"culture\", \"culture\", \"culture\", \"culture\", \"culture\", \"culture\", \"culture\", \"cyanobacteria\", \"dance\", \"dance\", \"dance\", \"dance\", \"dance\", \"decay\", \"decay\", \"decoction\", \"defeated\", \"defeated\", \"demand\", \"demand\", \"demand\", \"demand\", \"demand\", \"design\", \"design\", \"design\", \"design\", \"design\", \"design\", \"design\", \"design\", \"development\", \"development\", \"development\", \"development\", \"development\", \"development\", \"development\", \"development\", \"development\", \"development\", \"device\", \"device\", \"device\", \"device\", \"device\", \"device\", \"device\", \"device\", \"dharma\", \"diagnosis\", \"diagnosis\", \"died\", \"died\", \"died\", \"died\", \"died\", \"different\", \"different\", \"different\", \"different\", \"different\", \"different\", \"different\", \"different\", \"different\", \"different\", \"digestible\", \"digestive\", \"discipline\", \"discipline\", \"discipline\", \"discipline\", \"discipline\", \"discipline\", \"discipline\", \"discipline\", \"discipline\", \"disease\", \"disease\", \"disease\", \"disease\", \"disease\", \"disease\", \"doctor\", \"doctor\", \"doctor\", \"doctor\", \"doctor\", \"doctor\", \"door\", \"door\", \"door\", \"door\", \"door\", \"door\", \"door\", \"door\", \"drama\", \"drama\", \"drama\", \"drama\", \"drama\", \"drug\", \"drug\", \"drug\", \"drug\", \"drug\", \"drug\", \"drug\", \"dynasty\", \"dynasty\", \"dynasty\", \"dynasty\", \"dynasty\", \"dynasty\", \"dynasty\", \"dynasty\", \"dynasty\", \"earth\", \"earth\", \"earth\", \"earth\", \"earth\", \"earth\", \"earth\", \"earth\", \"earth\", \"east\", \"east\", \"east\", \"east\", \"east\", \"east\", \"east\", \"east\", \"eastern\", \"eastern\", \"eastern\", \"eastern\", \"eastern\", \"economic\", \"economic\", \"economic\", \"economic\", \"economic\", \"economic\", \"economic\", \"economic\", \"economic\", \"economic\", \"economics\", \"economics\", \"economics\", \"economics\", \"economics\", \"economist\", \"economist\", \"ecosystem\", \"ecosystem\", \"ecosystem\", \"education\", \"education\", \"education\", \"education\", \"education\", \"education\", \"education\", \"education\", \"effect\", \"effect\", \"effect\", \"effect\", \"effect\", \"effect\", \"effect\", \"effect\", \"effect\", \"effect\", \"egg\", \"egg\", \"electrical\", \"electrical\", \"electrical\", \"electrical\", \"electromagnetic\", \"electromagnetic\", \"electronic\", \"electronic\", \"electronic\", \"electronic\", \"electronic\", \"electronics\", \"electronics\", \"electronics\", \"electronics\", \"electronics\", \"electronics\", \"element\", \"element\", \"element\", \"element\", \"element\", \"element\", \"element\", \"element\", \"element\", \"elephant\", \"elliptic\", \"emperor\", \"emperor\", \"emperor\", \"emperor\", \"emperor\", \"emperor\", \"emperor\", \"empire\", \"empire\", \"empire\", \"empire\", \"empire\", \"empire\", \"encrypt\", \"encrypted\", \"encryption\", \"encryption\", \"endoderm\", \"energy\", \"energy\", \"energy\", \"energy\", \"energy\", \"energy\", \"energy\", \"engine\", \"engine\", \"engineer\", \"engineer\", \"engineer\", \"engineering\", \"engineering\", \"engineering\", \"engineering\", \"engineering\", \"english\", \"english\", \"english\", \"english\", \"english\", \"english\", \"english\", \"english\", \"english\", \"english\", \"entertain\", \"entertainment\", \"entertainment\", \"entertainment\", \"entertainment\", \"entertainment\", \"environment\", \"environment\", \"environment\", \"environment\", \"environment\", \"environment\", \"environment\", \"environment\", \"environment\", \"environmental\", \"environmental\", \"environmental\", \"environmental\", \"environmental\", \"environmental\", \"environmental\", \"environmental\", \"equilibrium\", \"etc\", \"etc\", \"etc\", \"etc\", \"etc\", \"etc\", \"etc\", \"etc\", \"etc\", \"etc\", \"ethiopia\", \"ethnology\", \"ethnology\", \"europe\", \"europe\", \"europe\", \"europe\", \"europe\", \"europe\", \"europe\", \"europe\", \"europe\", \"european\", \"european\", \"european\", \"european\", \"european\", \"european\", \"european\", \"european\", \"european\", \"example\", \"example\", \"example\", \"example\", \"example\", \"example\", \"example\", \"example\", \"example\", \"example\", \"excavation\", \"extracellular\", \"fairy\", \"fairy\", \"fairy\", \"fairy\", \"faith\", \"faith\", \"family\", \"family\", \"family\", \"family\", \"family\", \"family\", \"family\", \"farnsworth\", \"fengter\", \"fern\", \"fern\", \"fertilized\", \"field\", \"field\", \"field\", \"field\", \"field\", \"field\", \"field\", \"field\", \"field\", \"field\", \"film\", \"film\", \"film\", \"film\", \"film\", \"fina\", \"firework\", \"first\", \"first\", \"first\", \"first\", \"first\", \"first\", \"first\", \"first\", \"first\", \"first\", \"fist\", \"fiveshaped\", \"fluid\", \"fluid\", \"folk\", \"folk\", \"folk\", \"folk\", \"folk\", \"folk\", \"forecast\", \"form\", \"form\", \"form\", \"form\", \"form\", \"form\", \"form\", \"form\", \"form\", \"form\", \"foshan\", \"fossil\", \"fossil\", \"fossil\", \"fossil\", \"fossil\", \"franklin\", \"freud\", \"freud\", \"freud\", \"fungi\", \"fungi\", \"fungi\", \"furnace\", \"furnace\", \"furnace\", \"game\", \"game\", \"game\", \"game\", \"game\", \"gene\", \"gene\", \"gene\", \"gene\", \"gene\", \"geographicists\", \"geography\", \"geography\", \"geography\", \"geography\", \"geography\", \"geography\", \"gloss\", \"god\", \"god\", \"god\", \"god\", \"god\", \"god\", \"government\", \"government\", \"government\", \"government\", \"government\", \"government\", \"government\", \"government\", \"government\", \"grammar\", \"grammar\", \"grammatical\", \"green\", \"green\", \"green\", \"green\", \"green\", \"green\", \"green\", \"green\", \"group\", \"group\", \"group\", \"group\", \"group\", \"group\", \"group\", \"group\", \"group\", \"group\", \"han\", \"han\", \"han\", \"han\", \"han\", \"han\", \"han\", \"han\", \"handwritten\", \"hardening\", \"hardness\", \"hardness\", \"hardness\", \"hardness\", \"hardware\", \"hardware\", \"hardware\", \"hardware\", \"helium\", \"highland\", \"historian\", \"historian\", \"historian\", \"historian\", \"historian\", \"historian\", \"historical\", \"historical\", \"historical\", \"historical\", \"historical\", \"historical\", \"historical\", \"historical\", \"historical\", \"historical\", \"history\", \"history\", \"history\", \"history\", \"history\", \"history\", \"history\", \"history\", \"history\", \"history\", \"huangdao\", \"human\", \"human\", \"human\", \"human\", \"human\", \"human\", \"human\", \"human\", \"human\", \"human\", \"humanity\", \"humanity\", \"humanity\", \"humanity\", \"humanity\", \"humanity\", \"humanity\", \"humanity\", \"humanology\", \"humanology\", \"hun\", \"husband\", \"image\", \"image\", \"image\", \"image\", \"image\", \"image\", \"image\", \"image\", \"incomplete\", \"incomplete\", \"individual\", \"individual\", \"individual\", \"individual\", \"individual\", \"individual\", \"individual\", \"individual\", \"industry\", \"industry\", \"industry\", \"industry\", \"industry\", \"industry\", \"industry\", \"industry\", \"industry\", \"infectious\", \"information\", \"information\", \"information\", \"information\", \"information\", \"information\", \"information\", \"information\", \"information\", \"information\", \"infringement\", \"infringing\", \"insect\", \"insect\", \"institutionalism\", \"institutionalism\", \"invertebrate\", \"io\", \"ion\", \"ion\", \"ion\", \"iron\", \"iron\", \"iron\", \"iron\", \"iron\", \"iron\", \"iron\", \"isotope\", \"isotope\", \"iupac\", \"journalist\", \"judge\", \"judge\", \"judge\", \"judge\", \"judge\", \"judge\", \"judge\", \"jurisprudence\", \"jurist\", \"kang\", \"key\", \"key\", \"key\", \"key\", \"key\", \"key\", \"key\", \"key\", \"key\", \"keynesian\", \"khan\", \"kidney\", \"kilometer\", \"kilometer\", \"known\", \"known\", \"known\", \"known\", \"known\", \"known\", \"known\", \"known\", \"known\", \"known\", \"kongde\", \"kumari\", \"kunqu\", \"labor\", \"labor\", \"labor\", \"labor\", \"labor\", \"labor\", \"labor\", \"labor\", \"lake\", \"lake\", \"lake\", \"language\", \"language\", \"language\", \"language\", \"language\", \"language\", \"language\", \"language\", \"language\", \"language\", \"larva\", \"law\", \"law\", \"law\", \"law\", \"law\", \"law\", \"law\", \"law\", \"law\", \"law\", \"leaf\", \"leaf\", \"leaf\", \"leaf\", \"leaf\", \"leaf\", \"legal\", \"legal\", \"legal\", \"legal\", \"legal\", \"legal\", \"legal\", \"legitimacy\", \"life\", \"life\", \"life\", \"life\", \"life\", \"life\", \"life\", \"life\", \"life\", \"life\", \"linguistics\", \"linguistics\", \"linguistics\", \"linguistics\", \"linguistics\", \"lip\", \"lipid\", \"literary\", \"literary\", \"literary\", \"literary\", \"literary\", \"literary\", \"literature\", \"literature\", \"literature\", \"literature\", \"literature\", \"literature\", \"literature\", \"literature\", \"literature\", \"literature\", \"liu\", \"liu\", \"liu\", \"liu\", \"liver\", \"longevity\", \"luster\", \"machinery\", \"machinery\", \"machinery\", \"machinery\", \"mahayana\", \"mammal\", \"mammal\", \"management\", \"management\", \"management\", \"management\", \"management\", \"management\", \"management\", \"manager\", \"manager\", \"many\", \"many\", \"many\", \"many\", \"many\", \"many\", \"many\", \"many\", \"many\", \"many\", \"map\", \"map\", \"map\", \"map\", \"map\", \"map\", \"map\", \"mapping\", \"mapping\", \"marginal\", \"marginal\", \"margulis\", \"market\", \"market\", \"market\", \"market\", \"market\", \"market\", \"market\", \"market\", \"marriage\", \"marriage\", \"marriage\", \"martial\", \"martial\", \"martial\", \"martial\", \"massage\", \"massage\", \"material\", \"material\", \"material\", \"material\", \"material\", \"material\", \"material\", \"material\", \"material\", \"material\", \"mathematical\", \"mathematical\", \"mathematical\", \"mathematical\", \"mathematical\", \"mathematical\", \"mathematician\", \"mathematician\", \"mathematician\", \"mathematics\", \"mathematics\", \"mathematics\", \"mathematics\", \"mathematics\", \"mathematics\", \"maximize\", \"may\", \"may\", \"may\", \"may\", \"may\", \"may\", \"may\", \"may\", \"may\", \"may\", \"meaning\", \"meaning\", \"meaning\", \"meaning\", \"meaning\", \"meaning\", \"meaning\", \"meaning\", \"meaning\", \"meaning\", \"mechanic\", \"mechanic\", \"mechanic\", \"mechanic\", \"mechanical\", \"mechanical\", \"mechanical\", \"mechanical\", \"mechanical\", \"mechanical\", \"medical\", \"medical\", \"medical\", \"medical\", \"medical\", \"medical\", \"medical\", \"medicine\", \"medicine\", \"medicine\", \"medicine\", \"medicine\", \"membrane\", \"membrane\", \"membrane\", \"mental\", \"mental\", \"mental\", \"mental\", \"mental\", \"mental\", \"mental\", \"message\", \"message\", \"message\", \"message\", \"metal\", \"metal\", \"metal\", \"metal\", \"metal\", \"metal\", \"metal\", \"metallurgy\", \"metallurgy\", \"metallurgy\", \"method\", \"method\", \"method\", \"method\", \"method\", \"method\", \"method\", \"method\", \"method\", \"method\", \"microeconomics\", \"microprocessor\", \"million\", \"million\", \"million\", \"million\", \"million\", \"million\", \"million\", \"million\", \"mine\", \"mine\", \"mine\", \"mine\", \"mine\", \"mineral\", \"mineral\", \"mineral\", \"mineral\", \"mineral\", \"mineral\", \"mining\", \"mining\", \"mining\", \"mining\", \"mining\", \"modern\", \"modern\", \"modern\", \"modern\", \"modern\", \"modern\", \"modern\", \"modern\", \"modern\", \"modern\", \"monk\", \"monk\", \"monk\", \"monk\", \"monk\", \"monsoon\", \"morpheme\", \"motor\", \"motor\", \"motor\", \"motor\", \"movie\", \"movie\", \"movie\", \"movie\", \"movie\", \"movie\", \"multicell\", \"multicell\", \"music\", \"music\", \"music\", \"music\", \"music\", \"music\", \"musician\", \"musician\", \"nanchuan\", \"national\", \"national\", \"national\", \"national\", \"national\", \"national\", \"national\", \"national\", \"national\", \"natural\", \"natural\", \"natural\", \"natural\", \"natural\", \"natural\", \"natural\", \"natural\", \"natural\", \"nature\", \"nature\", \"nature\", \"nature\", \"nature\", \"nature\", \"nature\", \"nature\", \"negligence\", \"nematode\", \"neoclassical\", \"neuropsychology\", \"neuroscience\", \"neuroscience\", \"neutron\", \"neutron\", \"new\", \"new\", \"new\", \"new\", \"new\", \"new\", \"new\", \"new\", \"new\", \"new\", \"news\", \"news\", \"news\", \"news\", \"news\", \"nirvana\", \"nonprofit\", \"north\", \"north\", \"north\", \"north\", \"north\", \"north\", \"north\", \"north\", \"northeast\", \"northeast\", \"northern\", \"northern\", \"northern\", \"northern\", \"northern\", \"northern\", \"northern\", \"northern\", \"novel\", \"novel\", \"novel\", \"number\", \"number\", \"number\", \"number\", \"number\", \"number\", \"number\", \"number\", \"number\", \"number\", \"observation\", \"observation\", \"observation\", \"observation\", \"observation\", \"observation\", \"observatory\", \"ocean\", \"ocean\", \"ocean\", \"ocean\", \"ocean\", \"ocean\", \"oceania\", \"oceania\", \"officialdom\", \"often\", \"often\", \"often\", \"often\", \"often\", \"often\", \"often\", \"often\", \"often\", \"often\", \"opera\", \"opera\", \"orchestra\", \"organism\", \"organism\", \"organism\", \"organism\", \"organism\", \"orthodontics\", \"outer\", \"outer\", \"outer\", \"outer\", \"outer\", \"outer\", \"ouyang\", \"painter\", \"painter\", \"painting\", \"painting\", \"painting\", \"painting\", \"painting\", \"part\", \"part\", \"part\", \"part\", \"part\", \"part\", \"part\", \"part\", \"part\", \"part\", \"particle\", \"particle\", \"particle\", \"particle\", \"particle\", \"password\", \"password\", \"patent\", \"patent\", \"patent\", \"pennsylvania\", \"people\", \"people\", \"people\", \"people\", \"people\", \"people\", \"people\", \"people\", \"people\", \"people\", \"performance\", \"performance\", \"performance\", \"performance\", \"performance\", \"performance\", \"performance\", \"pharmacology\", \"pharmacy\", \"pharmacy\", \"philadelphia\", \"philosophy\", \"philosophy\", \"philosophy\", \"philosophy\", \"philosophy\", \"philosophy\", \"philosophy\", \"phoneme\", \"photographic\", \"photographic\", \"photographic\", \"photography\", \"photography\", \"photography\", \"photography\", \"photography\", \"photography\", \"photosensitive\", \"photosynthesis\", \"photosynthesis\", \"phrase\", \"phrase\", \"phrase\", \"phrase\", \"physic\", \"physic\", \"physic\", \"physic\", \"physic\", \"physic\", \"physic\", \"piano\", \"pigment\", \"pigment\", \"pigment\", \"pigment\", \"pine\", \"plain\", \"plain\", \"plain\", \"plaintext\", \"planet\", \"planet\", \"planet\", \"planet\", \"plant\", \"plant\", \"plant\", \"plant\", \"plant\", \"plant\", \"plant\", \"plant\", \"plant\", \"plantae\", \"plateau\", \"plateau\", \"poem\", \"poem\", \"poet\", \"poet\", \"poet\", \"poet\", \"poetry\", \"poetry\", \"poetry\", \"political\", \"political\", \"political\", \"political\", \"political\", \"political\", \"politicalists\", \"politics\", \"politics\", \"politics\", \"politics\", \"politics\", \"politics\", \"pollutant\", \"porous\", \"power\", \"power\", \"power\", \"power\", \"power\", \"power\", \"power\", \"power\", \"power\", \"power\", \"predicate\", \"prediction\", \"preventive\", \"prey\", \"price\", \"price\", \"price\", \"price\", \"price\", \"price\", \"price\", \"printed\", \"printed\", \"printing\", \"printing\", \"printing\", \"printing\", \"printing\", \"printing\", \"processing\", \"processing\", \"processing\", \"processing\", \"processing\", \"processing\", \"processing\", \"processing\", \"processor\", \"product\", \"product\", \"product\", \"product\", \"product\", \"product\", \"product\", \"product\", \"product\", \"product\", \"production\", \"production\", \"production\", \"production\", \"production\", \"production\", \"production\", \"production\", \"production\", \"production\", \"project\", \"project\", \"project\", \"project\", \"project\", \"project\", \"project\", \"project\", \"prokaryotic\", \"prose\", \"psychological\", \"psychological\", \"psychological\", \"psychological\", \"psychological\", \"psychological\", \"psychologist\", \"psychologist\", \"psychologist\", \"psychologist\", \"psychology\", \"psychology\", \"psychology\", \"psychology\", \"psychology\", \"psychotherapy\", \"public\", \"public\", \"public\", \"public\", \"public\", \"public\", \"public\", \"public\", \"public\", \"public\", \"punch\", \"punch\", \"punch\", \"qin\", \"qin\", \"qin\", \"qin\", \"qin\", \"qu\", \"quantum\", \"quantum\", \"quantum\", \"quantum\", \"quantum\", \"quilt\", \"radiation\", \"radiation\", \"radiation\", \"radiation\", \"radiation\", \"rca\", \"receiver\", \"receiver\", \"reincarnation\", \"related\", \"related\", \"related\", \"related\", \"related\", \"related\", \"related\", \"related\", \"related\", \"related\", \"relation\", \"relation\", \"relation\", \"relation\", \"relation\", \"relativism\", \"relativity\", \"religion\", \"religion\", \"religion\", \"religion\", \"religion\", \"religion\", \"religious\", \"religious\", \"religious\", \"religious\", \"religious\", \"religious\", \"religious\", \"religious\", \"religious\", \"rendering\", \"rendering\", \"reporter\", \"reporter\", \"reproductive\", \"reproductive\", \"reproductive\", \"research\", \"research\", \"research\", \"research\", \"research\", \"research\", \"research\", \"research\", \"research\", \"right\", \"right\", \"right\", \"right\", \"right\", \"right\", \"right\", \"right\", \"right\", \"right\", \"river\", \"river\", \"river\", \"river\", \"river\", \"river\", \"river\", \"river\", \"root\", \"root\", \"root\", \"root\", \"root\", \"rousseau\", \"routine\", \"routine\", \"rsa\", \"safety\", \"safety\", \"safety\", \"safety\", \"safety\", \"safety\", \"safety\", \"safety\", \"sakyamuni\", \"scan\", \"schram\", \"science\", \"science\", \"science\", \"science\", \"science\", \"science\", \"science\", \"science\", \"science\", \"science\", \"scientific\", \"scientific\", \"scientific\", \"scientific\", \"scientific\", \"scientific\", \"scientific\", \"sculpture\", \"sculpture\", \"sculpture\", \"security\", \"security\", \"security\", \"security\", \"security\", \"security\", \"seed\", \"seed\", \"seed\", \"seed\", \"seed\", \"semantic\", \"sentence\", \"sentence\", \"sentence\", \"sexual\", \"sexual\", \"sexual\", \"sexual\", \"sexual\", \"sexual\", \"shaman\", \"shaolin\", \"shaolin\", \"shareholder\", \"siberia\", \"sigmund\", \"signal\", \"signal\", \"signature\", \"signature\", \"silicate\", \"simulate\", \"singing\", \"singing\", \"singing\", \"smelting\", \"smelting\", \"social\", \"social\", \"social\", \"social\", \"social\", \"social\", \"social\", \"social\", \"social\", \"society\", \"society\", \"society\", \"society\", \"society\", \"society\", \"society\", \"society\", \"sociological\", \"sociological\", \"sociological\", \"sociologist\", \"sociologist\", \"sociologist\", \"sociology\", \"sociology\", \"sociology\", \"sociology\", \"software\", \"software\", \"software\", \"software\", \"software\", \"soil\", \"soil\", \"soil\", \"soil\", \"soil\", \"soil\", \"solin\", \"song\", \"song\", \"song\", \"song\", \"song\", \"song\", \"song\", \"song\", \"song\", \"south\", \"south\", \"south\", \"south\", \"south\", \"south\", \"space\", \"space\", \"space\", \"space\", \"space\", \"space\", \"space\", \"space\", \"space\", \"space\", \"specie\", \"specie\", \"specie\", \"specie\", \"specie\", \"specie\", \"specie\", \"speech\", \"speech\", \"speech\", \"speech\", \"speech\", \"spider\", \"spleen\", \"spoken\", \"spoken\", \"sponge\", \"spore\", \"sport\", \"sport\", \"sport\", \"sport\", \"sport\", \"sport\", \"sport\", \"sport\", \"sport\", \"sport\", \"stadium\", \"stakeholder\", \"star\", \"star\", \"star\", \"star\", \"starry\", \"starry\", \"state\", \"state\", \"state\", \"state\", \"state\", \"state\", \"state\", \"state\", \"state\", \"state\", \"steam\", \"steam\", \"steam\", \"steam\", \"still\", \"still\", \"still\", \"still\", \"still\", \"still\", \"still\", \"still\", \"still\", \"still\", \"story\", \"story\", \"story\", \"story\", \"story\", \"story\", \"story\", \"study\", \"study\", \"study\", \"study\", \"study\", \"study\", \"study\", \"study\", \"study\", \"study\", \"su\", \"su\", \"substance\", \"substance\", \"substance\", \"substance\", \"substance\", \"substance\", \"substance\", \"sulfate\", \"supply\", \"supply\", \"supply\", \"supply\", \"supply\", \"surface\", \"surface\", \"surface\", \"surface\", \"surface\", \"surface\", \"surface\", \"surveying\", \"symmetrical\", \"symmetrical\", \"symmetrical\", \"symptom\", \"symptom\", \"syntax\", \"system\", \"system\", \"system\", \"system\", \"system\", \"system\", \"system\", \"system\", \"system\", \"system\", \"tableclade\", \"taijiquan\", \"tang\", \"tang\", \"tang\", \"tang\", \"tang\", \"tang\", \"tang\", \"taoism\", \"taoism\", \"taoist\", \"taoist\", \"technology\", \"technology\", \"technology\", \"technology\", \"technology\", \"technology\", \"technology\", \"technology\", \"technology\", \"television\", \"television\", \"television\", \"temperate\", \"temperate\", \"temperate\", \"temple\", \"temple\", \"temple\", \"temple\", \"temple\", \"theater\", \"theater\", \"theater\", \"theater\", \"theorem\", \"theorem\", \"theory\", \"theory\", \"theory\", \"theory\", \"theory\", \"theory\", \"theory\", \"theory\", \"theory\", \"theory\", \"thinwalled\", \"three\", \"three\", \"three\", \"three\", \"three\", \"three\", \"three\", \"three\", \"three\", \"three\", \"tibetan\", \"tibetan\", \"tibetan\", \"tibetan\", \"tibetan\", \"time\", \"time\", \"time\", \"time\", \"time\", \"time\", \"time\", \"time\", \"time\", \"time\", \"tissue\", \"tissue\", \"tissue\", \"tissue\", \"tissue\", \"ton\", \"ton\", \"tourism\", \"tourism\", \"tourism\", \"toy\", \"transmission\", \"transmission\", \"transmission\", \"transmission\", \"transmission\", \"transmission\", \"transmission\", \"transmission\", \"transmitting\", \"treatment\", \"treatment\", \"treatment\", \"treatment\", \"treatment\", \"tropical\", \"tropical\", \"tropical\", \"tropical\", \"trustee\", \"tube\", \"tube\", \"tube\", \"tube\", \"tube\", \"tube\", \"tube\", \"tuning\", \"tuzong\", \"tv\", \"tv\", \"tv\", \"twentyeighth\", \"twentyeighth\", \"uncertainty\", \"unemployment\", \"universe\", \"universe\", \"universe\", \"universe\", \"universe\", \"universe\", \"university\", \"university\", \"university\", \"university\", \"university\", \"university\", \"university\", \"university\", \"university\", \"urban\", \"urban\", \"urban\", \"urban\", \"urban\", \"urban\", \"use\", \"use\", \"use\", \"use\", \"use\", \"use\", \"use\", \"use\", \"use\", \"use\", \"used\", \"used\", \"used\", \"used\", \"used\", \"used\", \"used\", \"used\", \"used\", \"used\", \"variable\", \"variable\", \"variable\", \"variable\", \"vascular\", \"verb\", \"vertebrate\", \"veterinary\", \"viewer\", \"volcano\", \"vowel\", \"wang\", \"wang\", \"wang\", \"wang\", \"wang\", \"wang\", \"wang\", \"war\", \"war\", \"war\", \"war\", \"war\", \"war\", \"war\", \"war\", \"war\", \"war\", \"water\", \"water\", \"water\", \"water\", \"water\", \"water\", \"water\", \"water\", \"water\", \"wear\", \"wear\", \"wei\", \"wei\", \"wei\", \"wei\", \"wei\", \"west\", \"west\", \"west\", \"west\", \"west\", \"west\", \"west\", \"west\", \"west\", \"western\", \"western\", \"western\", \"western\", \"western\", \"western\", \"western\", \"western\", \"western\", \"western\", \"wife\", \"wife\", \"wife\", \"wife\", \"wikipedia\", \"wilderness\", \"wilderness\", \"wilderness\", \"wireless\", \"wireless\", \"word\", \"word\", \"word\", \"word\", \"word\", \"word\", \"word\", \"word\", \"word\", \"word\", \"work\", \"work\", \"work\", \"work\", \"work\", \"work\", \"work\", \"work\", \"work\", \"work\", \"world\", \"world\", \"world\", \"world\", \"world\", \"world\", \"world\", \"world\", \"world\", \"world\", \"wrestling\", \"writer\", \"writer\", \"writer\", \"writer\", \"writer\", \"writer\", \"year\", \"year\", \"year\", \"year\", \"year\", \"year\", \"year\", \"year\", \"year\", \"year\", \"yu\", \"yu\", \"yu\", \"yuan\", \"yuan\", \"yuan\", \"yuan\", \"yuan\", \"yuan\", \"yuan\", \"yuefu\", \"zen\", \"zen\", \"zen\", \"zhou\", \"zhou\", \"zhou\", \"zhou\", \"zhou\", \"zhou\", \"zhou\", \"\\u00b7\", \"\\u00b7\", \"\\u00b7\", \"\\u00b7\", \"\\u00b7\", \"\\u00b7\", \"\\u03b1\", \"\\u03b1\", \"\\u03b1\", \"\\u304b\", \"\\u4e4b\", \"\\u4e9a\", \"\\u50cf\", \"\\u5230\", \"\\u5236\", \"\\u5dfd\", \"\\u5e0c\", \"\\u603b\", \"\\u622a\", \"\\u624b\", \"\\u66f2\", \"\\u6809\", \"\\u6b7b\", \"\\u6df1\", \"\\u76f4\", \"\\u8033\", \"\\u89dd\", \"\\u951d\", \"\\u9650\"]}, \"R\": 30, \"lambda.step\": 0.01, \"plot.opts\": {\"xlab\": \"PC1\", \"ylab\": \"PC2\"}, \"topic.order\": [9, 3, 10, 4, 8, 2, 6, 7, 1, 5]};\n",
       "\n",
       "function LDAvis_load_lib(url, callback){\n",
       "  var s = document.createElement('script');\n",
       "  s.src = url;\n",
       "  s.async = true;\n",
       "  s.onreadystatechange = s.onload = callback;\n",
       "  s.onerror = function(){console.warn(\"failed to load library \" + url);};\n",
       "  document.getElementsByTagName(\"head\")[0].appendChild(s);\n",
       "}\n",
       "\n",
       "if(typeof(LDAvis) !== \"undefined\"){\n",
       "   // already loaded: just create the visualization\n",
       "   !function(LDAvis){\n",
       "       new LDAvis(\"#\" + \"ldavis_el2090418647506105042464689408\", ldavis_el2090418647506105042464689408_data);\n",
       "   }(LDAvis);\n",
       "}else if(typeof define === \"function\" && define.amd){\n",
       "   // require.js is available: use it to load d3/LDAvis\n",
       "   require.config({paths: {d3: \"https://d3js.org/d3.v5\"}});\n",
       "   require([\"d3\"], function(d3){\n",
       "      window.d3 = d3;\n",
       "      LDAvis_load_lib(\"https://cdn.jsdelivr.net/gh/bmabey/pyLDAvis@3.3.1/pyLDAvis/js/ldavis.v3.0.0.js\", function(){\n",
       "        new LDAvis(\"#\" + \"ldavis_el2090418647506105042464689408\", ldavis_el2090418647506105042464689408_data);\n",
       "      });\n",
       "    });\n",
       "}else{\n",
       "    // require.js not available: dynamically load d3 & LDAvis\n",
       "    LDAvis_load_lib(\"https://d3js.org/d3.v5.js\", function(){\n",
       "         LDAvis_load_lib(\"https://cdn.jsdelivr.net/gh/bmabey/pyLDAvis@3.3.1/pyLDAvis/js/ldavis.v3.0.0.js\", function(){\n",
       "                 new LDAvis(\"#\" + \"ldavis_el2090418647506105042464689408\", ldavis_el2090418647506105042464689408_data);\n",
       "            })\n",
       "         });\n",
       "}\n",
       "</script>"
      ],
      "text/plain": [
       "<IPython.core.display.HTML object>"
      ]
     },
     "execution_count": 55,
     "metadata": {},
     "output_type": "execute_result"
    }
   ],
   "source": [
    "vis_data = gensimvis.prepare(ldamodel, doc_term_matrix, dictionary)\n",
    "pyLDAvis.display(vis_data)"
   ]
  },
  {
   "cell_type": "markdown",
   "metadata": {},
   "source": [
    "##### worked anyway?  .. then it worked"
   ]
  },
  {
   "cell_type": "code",
   "execution_count": 38,
   "metadata": {},
   "outputs": [],
   "source": [
    "d = gensim.corpora.Dictionary.load('dictionary.dict')\n",
    "c = gensim.corpora.MmCorpus('corpus.mm')\n",
    "lda = gensim.models.LdaModel.load('topic.model')"
   ]
  },
  {
   "cell_type": "markdown",
   "metadata": {},
   "source": [
    "###### then, pip install pyLDAvis==2.1.2 or not"
   ]
  },
  {
   "cell_type": "code",
   "execution_count": 39,
   "metadata": {},
   "outputs": [],
   "source": [
    "import gensim\n",
    "from gensim import corpora"
   ]
  },
  {
   "cell_type": "markdown",
   "metadata": {},
   "source": [
    "##### after got to end, came back and ran this again\n",
    "The truth value of an array with more than one element is ambiguous. Use a.any() or a.all()\n",
    "--> 232         use_numexpr = use_numexpr and _bool_arith_check(op_str, a, b)\n",
    "    233         if use_numexpr:\n",
    "    234             # error: \"None\" not callable"
   ]
  },
  {
   "cell_type": "markdown",
   "metadata": {},
   "source": [
    "#Train LDA model.\n",
    "from gensim.models import LdaModel\n",
    "\n",
    "#Set training parameters.\n",
    "num_topics = 10\n",
    "chunksize = 2000\n",
    "passes = 20\n",
    "iterations = 400\n",
    "eval_every = None  # Don't evaluate model perplexity, takes too much time.\n",
    "\n",
    "#Make a index to word dictionary.\n",
    "temp = dictionary[0]  # This is only to \"load\" the dictionary.\n",
    "id2word = dictionary.id2token\n",
    "\n",
    "model = LdaModel(\n",
    "    corpus=corpus,\n",
    "    id2word=id2word,\n",
    "    chunksize=chunksize,\n",
    "    alpha='auto',\n",
    "    eta='auto',\n",
    "    iterations=iterations,\n",
    "    num_topics=num_topics,\n",
    "    passes=passes,\n",
    "    eval_every=eval_every\n",
    ")"
   ]
  },
  {
   "cell_type": "markdown",
   "metadata": {},
   "source": [
    "# HERE"
   ]
  },
  {
   "cell_type": "code",
   "execution_count": null,
   "metadata": {},
   "outputs": [],
   "source": []
  },
  {
   "cell_type": "code",
   "execution_count": 40,
   "metadata": {},
   "outputs": [
    {
     "ename": "AttributeError",
     "evalue": "module 'pyLDAvis' has no attribute 'gensim'",
     "output_type": "error",
     "traceback": [
      "\u001b[1;31m---------------------------------------------------------------------------\u001b[0m",
      "\u001b[1;31mAttributeError\u001b[0m                            Traceback (most recent call last)",
      "\u001b[1;32m<ipython-input-40-cd069bc4484f>\u001b[0m in \u001b[0;36m<module>\u001b[1;34m\u001b[0m\n\u001b[1;32m----> 1\u001b[1;33m \u001b[0marticles\u001b[0m \u001b[1;33m=\u001b[0m \u001b[0mpyLDAvis\u001b[0m\u001b[1;33m.\u001b[0m\u001b[0mgensim\u001b[0m\u001b[1;33m.\u001b[0m\u001b[0mprepare\u001b[0m\u001b[1;33m(\u001b[0m\u001b[0mlda\u001b[0m\u001b[1;33m,\u001b[0m \u001b[0mc\u001b[0m\u001b[1;33m,\u001b[0m \u001b[0md\u001b[0m\u001b[1;33m)\u001b[0m\u001b[1;33m\u001b[0m\u001b[1;33m\u001b[0m\u001b[0m\n\u001b[0m\u001b[0;32m      2\u001b[0m \u001b[0marticles\u001b[0m\u001b[1;33m\u001b[0m\u001b[1;33m\u001b[0m\u001b[0m\n",
      "\u001b[1;31mAttributeError\u001b[0m: module 'pyLDAvis' has no attribute 'gensim'"
     ]
    }
   ],
   "source": [
    "articles = pyLDAvis.gensim.prepare(lda, c, d)\n",
    "articles"
   ]
  },
  {
   "cell_type": "code",
   "execution_count": 41,
   "metadata": {
    "scrolled": true
   },
   "outputs": [
    {
     "ename": "AttributeError",
     "evalue": "module 'pyLDAvis' has no attribute 'gensim'",
     "output_type": "error",
     "traceback": [
      "\u001b[1;31m---------------------------------------------------------------------------\u001b[0m",
      "\u001b[1;31mAttributeError\u001b[0m                            Traceback (most recent call last)",
      "\u001b[1;32m<ipython-input-41-80207a193adb>\u001b[0m in \u001b[0;36m<module>\u001b[1;34m\u001b[0m\n\u001b[1;32m----> 1\u001b[1;33m \u001b[0marticles\u001b[0m \u001b[1;33m=\u001b[0m \u001b[0mpyLDAvis\u001b[0m\u001b[1;33m.\u001b[0m\u001b[0mgensim\u001b[0m\u001b[1;33m.\u001b[0m\u001b[0mprepare\u001b[0m\u001b[1;33m(\u001b[0m\u001b[0moptimal_model\u001b[0m\u001b[1;33m,\u001b[0m \u001b[0mcorpus\u001b[0m\u001b[1;33m,\u001b[0m \u001b[0mid2word\u001b[0m\u001b[1;33m)\u001b[0m\u001b[1;33m\u001b[0m\u001b[1;33m\u001b[0m\u001b[0m\n\u001b[0m\u001b[0;32m      2\u001b[0m \u001b[0marticles\u001b[0m\u001b[1;33m\u001b[0m\u001b[1;33m\u001b[0m\u001b[0m\n",
      "\u001b[1;31mAttributeError\u001b[0m: module 'pyLDAvis' has no attribute 'gensim'"
     ]
    }
   ],
   "source": [
    "articles = pyLDAvis.gensim.prepare(optimal_model, corpus, id2word)\n",
    "articles"
   ]
  },
  {
   "cell_type": "code",
   "execution_count": 42,
   "metadata": {},
   "outputs": [
    {
     "ename": "AttributeError",
     "evalue": "module 'pyLDAvis' has no attribute 'gensim'",
     "output_type": "error",
     "traceback": [
      "\u001b[1;31m---------------------------------------------------------------------------\u001b[0m",
      "\u001b[1;31mAttributeError\u001b[0m                            Traceback (most recent call last)",
      "\u001b[1;32m<ipython-input-42-722e1628978e>\u001b[0m in \u001b[0;36m<module>\u001b[1;34m\u001b[0m\n\u001b[0;32m      1\u001b[0m \u001b[0mpyLDAvis\u001b[0m\u001b[1;33m.\u001b[0m\u001b[0menable_notebook\u001b[0m\u001b[1;33m(\u001b[0m\u001b[1;33m)\u001b[0m\u001b[1;33m\u001b[0m\u001b[1;33m\u001b[0m\u001b[0m\n\u001b[1;32m----> 2\u001b[1;33m \u001b[0marticles\u001b[0m \u001b[1;33m=\u001b[0m \u001b[0mpyLDAvis\u001b[0m\u001b[1;33m.\u001b[0m\u001b[0mgensim\u001b[0m\u001b[1;33m.\u001b[0m\u001b[0mprepare\u001b[0m\u001b[1;33m(\u001b[0m\u001b[0mlda\u001b[0m\u001b[1;33m,\u001b[0m \u001b[0mc\u001b[0m\u001b[1;33m,\u001b[0m \u001b[0md\u001b[0m\u001b[1;33m)\u001b[0m\u001b[1;33m\u001b[0m\u001b[1;33m\u001b[0m\u001b[0m\n\u001b[0m\u001b[0;32m      3\u001b[0m \u001b[0marticles\u001b[0m\u001b[1;33m\u001b[0m\u001b[1;33m\u001b[0m\u001b[0m\n",
      "\u001b[1;31mAttributeError\u001b[0m: module 'pyLDAvis' has no attribute 'gensim'"
     ]
    }
   ],
   "source": [
    "pyLDAvis.enable_notebook()\n",
    "articles = pyLDAvis.gensim.prepare(lda, c, d)\n",
    "articles"
   ]
  },
  {
   "cell_type": "code",
   "execution_count": 43,
   "metadata": {},
   "outputs": [
    {
     "ename": "ImportError",
     "evalue": "cannot import name 'gensim' from 'pyLDAvis' (C:\\Users\\Owner\\Anaconda3\\lib\\site-packages\\pyLDAvis\\__init__.py)",
     "output_type": "error",
     "traceback": [
      "\u001b[1;31m---------------------------------------------------------------------------\u001b[0m",
      "\u001b[1;31mImportError\u001b[0m                               Traceback (most recent call last)",
      "\u001b[1;32m<ipython-input-43-bf0412f0efe0>\u001b[0m in \u001b[0;36m<module>\u001b[1;34m\u001b[0m\n\u001b[1;32m----> 1\u001b[1;33m \u001b[1;32mfrom\u001b[0m \u001b[0mpyLDAvis\u001b[0m \u001b[1;32mimport\u001b[0m \u001b[0mgensim\u001b[0m\u001b[1;33m\u001b[0m\u001b[1;33m\u001b[0m\u001b[0m\n\u001b[0m",
      "\u001b[1;31mImportError\u001b[0m: cannot import name 'gensim' from 'pyLDAvis' (C:\\Users\\Owner\\Anaconda3\\lib\\site-packages\\pyLDAvis\\__init__.py)"
     ]
    }
   ],
   "source": [
    "from pyLDAvis import gensim"
   ]
  },
  {
   "cell_type": "markdown",
   "metadata": {},
   "source": [
    "###### worked anyway??"
   ]
  },
  {
   "cell_type": "code",
   "execution_count": 44,
   "metadata": {},
   "outputs": [],
   "source": [
    "pyLDAvis.save_html(articles,'vis.html')"
   ]
  },
  {
   "cell_type": "code",
   "execution_count": 45,
   "metadata": {},
   "outputs": [
    {
     "ename": "NameError",
     "evalue": "name 'HTML' is not defined",
     "output_type": "error",
     "traceback": [
      "\u001b[1;31m---------------------------------------------------------------------------\u001b[0m",
      "\u001b[1;31mNameError\u001b[0m                                 Traceback (most recent call last)",
      "\u001b[1;32m<ipython-input-45-8462c094cf80>\u001b[0m in \u001b[0;36m<module>\u001b[1;34m\u001b[0m\n\u001b[1;32m----> 1\u001b[1;33m \u001b[0mdisplay\u001b[0m\u001b[1;33m(\u001b[0m\u001b[0mHTML\u001b[0m\u001b[1;33m(\u001b[0m\u001b[0mfilename\u001b[0m \u001b[1;33m=\u001b[0m \u001b[1;34m'vis.html'\u001b[0m\u001b[1;33m)\u001b[0m\u001b[1;33m)\u001b[0m\u001b[1;33m\u001b[0m\u001b[1;33m\u001b[0m\u001b[0m\n\u001b[0m",
      "\u001b[1;31mNameError\u001b[0m: name 'HTML' is not defined"
     ]
    }
   ],
   "source": [
    "display(HTML(filename = 'vis.html'))"
   ]
  },
  {
   "cell_type": "code",
   "execution_count": 46,
   "metadata": {},
   "outputs": [],
   "source": [
    "import codecs\n",
    "import webbrowser"
   ]
  },
  {
   "cell_type": "code",
   "execution_count": 47,
   "metadata": {},
   "outputs": [
    {
     "data": {
      "text/plain": [
       "True"
      ]
     },
     "execution_count": 47,
     "metadata": {},
     "output_type": "execute_result"
    }
   ],
   "source": [
    "webbrowser.open('vis.html')"
   ]
  },
  {
   "cell_type": "markdown",
   "metadata": {},
   "source": [
    "trying with pyLDAvis.enable_ntebook(local=True) worked for me - some forum"
   ]
  },
  {
   "cell_type": "code",
   "execution_count": null,
   "metadata": {},
   "outputs": [],
   "source": []
  }
 ],
 "metadata": {
  "kernelspec": {
   "display_name": "Python 3",
   "language": "python",
   "name": "python3"
  },
  "language_info": {
   "codemirror_mode": {
    "name": "ipython",
    "version": 3
   },
   "file_extension": ".py",
   "mimetype": "text/x-python",
   "name": "python",
   "nbconvert_exporter": "python",
   "pygments_lexer": "ipython3",
   "version": "3.7.4"
  }
 },
 "nbformat": 4,
 "nbformat_minor": 2
}
