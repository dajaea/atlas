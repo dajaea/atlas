{
 "cells": [
  {
   "cell_type": "code",
   "execution_count": 38,
   "metadata": {},
   "outputs": [],
   "source": [
    "import wikipedia as wiki\n",
    "from google_trans_new import google_translator\n",
    "translator = google_translator()  \n",
    "import json"
   ]
  },
  {
   "cell_type": "code",
   "execution_count": 2,
   "metadata": {},
   "outputs": [],
   "source": [
    "en_all_topics = ['Physiotherapy', 'what', 'Politics', 'into', 'Exercise', 'Agriculture', 'an', 'Prehistory', 'Intelligence', 'computer', 'Natural', 'Reason', 'density', 'Forensics', 'Sociology', 'Geographic', 'Meaning', 'Packaging', 'Longevity', 'Common', 'Transhumanism', 'ism', 'Egypt', 'anatomy', 'Preventive', 'Persuasion', 'Mining', 'Sex', 'communication', 'Biotechnology', 'overview', 'Educating', 'storage', 'Body', 'Genomics', 'Botany', 'Mental', 'Telecommunications', 'Health', 'Architecture', 'India', 'Statistics', 'Impact', 'Communication', 'key', 'Greece', 'Traveling', 'presenting', 'Subregion', 'invention', 'Childraising', 'Physiology', 'List', 'Genetics', 'body', 'Happiness', 'Mythology', 'Zoology', 'Creative', 'Future', 'Appropriate', 'care', 'Informatics', 'the', 'Commons', 'Industry', 'Engineering', 'Education', 'included', 'Philosophy', 'determinism', 'economics', 'Civil', 'Mind', 'Timeline', 'Parasitology', 'Goodness', 'activities', 'by', 'Group', 'industry', 'Entertainment', 'Pollution', 'East', 'War', 'Navigation', 'Language', 'Knowledge', 'area', 'Diffusion', 'growth', 'orientation', 'consumption', 'a', 'Leisure', 'Electronics', 'on', 'Technorealism', 'periods', 'in', 'Underwater', 'subject', 'Posthumanism', 'Social', 'is', 'Robotics', 'transfer', 'Processes', 'social', 'Military', 'philosophy', 'policy', 'health', 'Modern', 'Crime', 'thinking', 'concepts', 'analysis', 'lifecycle', 'Innovation', 'Archaeology', 'People', 'Traditions', 'religion', 'Virtues', 'Recreation', 'Law', 'History', 'Map', 'Firefighting', '13', 'Spirituality', 'Homicide', 'Accelerating', 'Medicine', 'Demographics', 'Rhetoric', 'Strategy', 'convergence', 'issue', 'Information', 'forecasting', 'Automation', 'Physical', 'biology', 'Biology', 'life', 'Pharmacy', 'making', 'Technocapitalism', 'Food', 'Precautionary', 'Doomsday', 'Technology', 'studies', 'Region', 'Massage', 'Biochemistry', 'software', 'effects', 'Origin', 'Internet', 'Biophysics', 'diving', 'Unsolved', 'Futurology', 'science', 'Hobbies', 'disparities', 'identity', 'Arts', 'Surveying', 'Worship', 'Moral', 'Decision', 'Nanotechnology', 'Techno', 'value', 'information', 'Biological', 'extension', 'Global', 'Occupational', 'providing', 'Paleontology', 'Logic', 'singularity', 'Construction', 'Thinking', 'human', 'Globalization', 'device', 'Atlas', 'Teaching', 'Feminist', 'Marine', 'fitness', 'Nuclear', 'Cultural', 'Biography', 'Character', 'Mesoamerica', 'Governance', 'Life', 'Rome', 'alternative', 'geography', 'Ethology', 'Agricultural', 'events', 'Spatial', 'Identity', 'Research', 'Place', 'Design', 'Technological', 'processes', 'Memory', 'Self', 'Personality', 'Person', 'Linguistics', 'Superpowers', 'Transporting', 'Development', 'Classics', 'Science', 'Geography', 'Awareness', 'Psychology', 'anthropology', 'Agronomy', 'outline', 'Sport', 'linguistics', 'Cars', 'principle', 'self', 'Climate', 'sense', 'engineering', 'Cell', 'covered', 'major', 'sections', 'General', 'Celebrities', 'Weapons', 'acceptance', 'character', 'change', 'evolution', 'Publishing', 'assessment', 'Neuroscience', 'An', 'Developmental', 'Energy', 'each', 'Harassment', 'Machines', 'labeling', 'Exploration', 'High', 'Shopping', 'progressivism', 'Mechanical', 'belief', 'Taxonomy', 'Cartography', 'model', 'Personal', 'Religion', 'culture', 'China', 'Chemical', 'Resource', 'Space', 'Ethnic', 'Library', 'or', 'medicine', 'sciences', 'and', 'Public', 'neuroscience', 'Industrialisation', 'Overconsumption', 'Reproduction', 'Spending', 'composition', 'Automobile', 'Protohistory', 'Dentistry', 'Histology', 'Middle', 'history', 'technology', 'Tourism', 'articles', 'Below', 'exploration', 'Problem', 'Astrobiology', 'Technologies', 'Big', 'Tree', 'overpopulation', 'Ancient', 'Popular', 'issues', 'problems', 'Movements', 'Heuristic', 'places', 'Warfare', 'divided', 'Mass', 'solving', 'Microbiology', 'Individual', 'logic', 'economy', 'genetics', 'development', 'Immunology', 'Consciousness', 'commons', 'Child', 'physical', 'groups', 'Tools', 'Complementary', 'therapy', 'Babysitting', 'Manufacturing', 'Ecology', 'Population', 'time', 'Culture', 'respective', 'equipment', 'Human', 'systems', 'Park', 'Systems', 'Being', 'Wikipedia', 'Political', 'Aerospace', 'Critical', 'Humanities', 'Evolutionary', 'Bioinformatics', 'Economics', 'Cognitive', 'Technocriticism', 'Optometry', 'Pathology', 'society', 'Electrical', 'enforcement', 'Anthropology', 'Learning', 'Practicing', 'innovations', 'Speech', 'diffusion', 'Free', 'Management', 'Mathematics', 'City', 'Formal', 'theory', 'production', 'applied', 'Molecular', 'Anatomy', 'Computational', 'system', 'arts', 'Society', 'Forestry', 'Theoretical', 'Ergonomics', 'Gender', 'of', 'region', 'Values', 'reference', 'Infrastructure', 'activity', 'survey', 'Earth']"
   ]
  },
  {
   "cell_type": "code",
   "execution_count": 3,
   "metadata": {},
   "outputs": [],
   "source": [
    "topic = 'culinary science'  #en_all_topics[0]\n",
    "wiki.set_lang(\"en\")\n",
    "en_topic_content = (wiki.page(topic).content)\n",
    "\n",
    "wiki.set_lang(\"zh\")\n",
    "zh_topic_content = translator.translate(wiki.page(topic).content, lang_tgt = 'en')"
   ]
  },
  {
   "cell_type": "code",
   "execution_count": 4,
   "metadata": {},
   "outputs": [
    {
     "name": "stdout",
     "output_type": "stream",
     "text": [
      "Culinary arts, in which culinary means \"related to cooking\", are the cuisine arts of food preparation, cooking, and presentation of food, usually in the form of meals. People working in this field – especially in establishments such as restaurants – are commonly called \"chefs\" or \"cooks\", although, at its most general, the terms \"culinary artist\" and \"culinarian\" are also used. Table manners (\"the table arts\") are sometimes referred to as a culinary art.\n",
      "Expert chefs are required to have knowledge of food science, nutrition and diet and are responsible for preparing meals that are as pleasing to the eye as they are to the palate. After restaurants, their primary places of work include delicatessens and relatively large institutions such as hotels and hospitals.\n",
      "\n",
      "\n",
      "== History ==\n",
      "The origins of culinary began with primitive humans roughly 2 million years ago. There are various theories as to how early humans used fire to cook meat. According to anthropologist Richard Wrangham, author of Catching Fire: How Cooking Made Us Human, primitive humans simply tossed a raw hunk of meat into the flames and watched it sizzle. Another theory claims humans may first have savoured roasted meat by chance when the flesh of a beast killed in a forest fire was found to be more appetizing and easier to chew and digest than the conventional raw meat.\n",
      "Culinary techniques improved with the introduction of earthenware and stoneware, the domestication of livestock, and advancements in agriculture. In early civilizations, the primary employers of professional chefs were kings, aristocrats, or priests. The divide between professional chefs cooking for the wealthy and peasants cooking for their families engendered the development of many cuisines.\n",
      "A great deal of the study of culinary arts in Europe was organized by Jean Anthelme Brillat-Savarin, a man famous for his quote \"Tell me what you eat, and I will tell you what you are\", which has since been mistranslated and oversimplified into \"You are what you eat\". Other people helped to parse out the different parts of food science and gastronomy. Over time, increasingly deeper and more detailed studies into foods and the culinary arts has led to a greater wealth of knowledge.\n",
      "In Asia, a similar path led to a separate study of the culinary arts, which later essentially merged with the Western counterpart. In the modern international marketplace, there is no longer a distinct divide between Western and Eastern foods. Culinary arts students today, generally speaking, are introduced to the different cuisines of many different cultures from around the world.\n",
      "The culinary arts, in the Western world, as a craft and later as a field of study, began to evolve at the end of the Renaissance period. Prior to this, chefs worked in castles, cooking for kings and queens, as well as their families, guests, and other workers of the castle. As Monarchical rule became phased out as a modality, the chefs took their craft to inns and hotels. From here, the craft evolved into a field of study.\n",
      "Before cooking institutions, professional cooks were mentors for individual students who apprenticed under them. In 1879, the first cooking school was founded in the United States: the Boston Cooking School. This school standardized cooking practices and recipes, and laid the groundwork for the culinary arts schools that would follow.\n",
      "\n",
      "\n",
      "== Tools and techniques ==\n",
      "\n",
      "An integral part of the culinary arts are the tools, known as cooking or kitchen utensils, that are used by both professional chefs and home cooks alike. Professionals in the culinary arts often call these utensils by the French term \"batterie de cuisine\". These tools vary in materials and use. Cooking implements are made with anything from wood, glass, various types of metals, to the newer silicone and plastic that can be seen in many kitchens today.\n",
      "Within the realm of the culinary arts, there is a wide array of different cooking techniques that originate from various cultures and continue to develop over time as these techniques are shared between cultures and progress with new technology. Different cooking techniques require the use of certain tools, foods and heat sources in order to produce a specific desired result. The professional kitchen may utilize certain techniques that a home cook might not, such as the use of an expensive professional grill but, cooking methods of various kinds can be found in any kitchen at virtually any point in modern human history.\n",
      "\n",
      "\n",
      "== Professional study ==\n",
      "Modern culinary arts students study many different aspects of food. Specific areas of study include butchery, chemistry and thermodynamics, visual presentation, food safety, human nutrition and physiology, international history, the manufacture of food items (such as the milling of wheat into flour or the refining of cane plants into crystalline sucrose), and many others.\n",
      "Training in culinary arts is possible in most countries around the world usually at tertiary level (university) with institutions government funded, privately funded or commercial.\n",
      "\n",
      "\n",
      "== See also ==\n",
      "\n",
      "\n",
      "== References ==\n",
      "\n",
      "\n",
      "== Bibliography ==\n",
      "\"Cooking Schools 101\". Cooking Schools. N.p., n.d. Web. 17 September 2013\n",
      "\"History\". Of Culinary Archives & Museum. N.p., n.d. Web. 17 September 2013\n",
      "\"History of Culinary\". Culinary Arts information RSS. N.p., nd. web.17 September 2013\n",
      "\"History of Culinary Arts\". Culinary Arts Information RSS. N.p,. web. 17 September 2013\n",
      "\"The Culinary Timeline\". The Culinary Timeline. N.p,.web. 17 September 2013\n",
      "Olver, Lynne. \"The Food Timeline\". The Food Timeline.\n",
      "\n",
      "\n",
      "== Further reading ==\n",
      "Beal, Eileen. Choosing a career in the restaurant industry. New York: Rosen Pub. Group, 1997.\n",
      "Institute for Research. Careers and jobs in the restaurant business: jobs, management, ownership. Chicago: The Institute, 1977.\n",
      "\n",
      "\n",
      "== External links ==\n",
      "U.S. Department of Labor – Food Service Manager Information.\n",
      "Culinary Art\n",
      "U.S Department of Labor – Chefs, Head Cooks, and Food Preparation and Serving Supervisors Information.\n"
     ]
    }
   ],
   "source": [
    "print(en_topic_content)"
   ]
  },
  {
   "cell_type": "code",
   "execution_count": 5,
   "metadata": {
    "scrolled": true
   },
   "outputs": [
    {
     "name": "stdout",
     "output_type": "stream",
     "text": [
      "Molecular food (English: molecular gastronomy) is also known as molecular food, molecular cuisine, is known as future food, artificial cuisine, so-called molecular food refers to glucose (C6H12O6), vitamin C (C68O6), citric acid (C68O7) , Maltitol (C12H24O11), etc., the edible chemicals, combined or alter the molecular structure of the ingredients, and recombine. That is, an infinite food is manufactured from the perspective of molecules, which is no longer limited by factors such as geographic conditions, production. Some scientists believe that \"artificial\" food is very likely to solve the problem of some local food shortages.\n",
      "\n",
      "\n",
      "== Production / Reproduction ==\n",
      "Big kitchen uses a variety of strange tools, through physical or chemical changes, completely dispel the taste, taste, texture, appearance of ingredients, and then \"combine\" into a new dish. For example, turning the solid's ingredients into liquid or even gas, or makes a flavor and appearance of a ingredients like another ingredient. Such as: Caviar made of vegetables, ice cream-like potatoes, cream with the eggs made by the chest, jelly into a sashimi sushi, foam pastry, etc. But the top-level food production is as complicated as scientific experiments, the difficulty is extremely difficult, so the price is also very high.\n",
      "\n",
      "\n",
      "== cotton candy ==\n",
      "Common marshmallows are also molecular foods, and the molecules of sucrose crystals have a very neat arrangement. Once entering the cotton candy production machine, the heat of the heating chamber that is high in the machine center temperature will break the alignment of the crystal, so that the crystal is turned into syrup. In the heating chamber, there are some holes having a small size than particles, and when the sugar is rotated at a high speed in the heating chamber, the centrifugal force is sprayed from the small hole to the surroundings. Since the liquid substance is associated with a cold solidification and its surface area, the larger the surface area is, the faster the solidification is. Therefore, the syrup injected from the small hole is solid into a sugar, and it is not adhesive. That is, the organizational structure between ingredients is changed, and then recombined.\n",
      "\n",
      "\n",
      "== extended reading ==\n",
      "Caporaso, Nicola, Diego Formisano (2016). Developments, Applications, and Trends of Molecular Gastronomy Among Food Scientists and Innovative Chefs. Food Reviews International, 32 (4), 417-435.\n",
      "Hoelscher, Dietmar, Molecular Kitchen and Moleculare Mixology: you can do what you imagine (2008 DVD) ISBN 978-3-00-022641-0\n",
      "Kurti, Nicholas, But The Crackling Is Superb, Institute of Physics Publishing, 1998 ISBN 978-0-85274-301-0\n",
      "McGee, Harold, The Curious Cook. North Point Press, Berkeley, 1990.\n",
      "McGee, Harold, ON Food and Cooking: The Science and Lore of The Kitchen. Scribnet, New York, 2004. ISBN 0-684-80001-2.\n",
      "THIS, HERVé, BUILDING A MEAL: From Molecular Gastronomy To Culinary Constructivism, Columbia University Press 2009 ISBN 978-0-231-14466-7\n",
      "This, Hervé, Pierre Gagnaire: Cooking: The Quintessential Art, University of California Press 2008 ISBN 978-0-520-25295-0\n",
      "This, Hervé, Kitchen MySTERIES: Revealing The Science of Cooking. Columbia University Press, New York, 2007 ISBN 978-0-231-14170-3\n",
      "This, Hervé, Molecular Gastronomy: Exploring The Science of Flavor. Columbia University Press, New York, 2006. ISBN 978-0-231-13312-8\n",
      "Wolke, Robert L., \"What Einstein Told His Cook: Kitchen Science Explained\" (2002, 350P) ISBN 0-393-01183-6\n",
      "\n",
      "\n",
      "== See ==\n",
      "Upper Thames Appraisal Molecular Food (Page Archive Backup, Save Internet Archives)\n",
      "Xinhuanet: Have you ever eaten \"molecular food\"? (Page archive backup, exist in Internet Archives) \n"
     ]
    }
   ],
   "source": [
    "print(zh_topic_content)"
   ]
  },
  {
   "cell_type": "code",
   "execution_count": 6,
   "metadata": {},
   "outputs": [],
   "source": [
    "wiki.set_lang('zh')\n",
    "\n",
    "page = wiki.page('culinary science')"
   ]
  },
  {
   "cell_type": "code",
   "execution_count": 7,
   "metadata": {},
   "outputs": [
    {
     "data": {
      "text/plain": [
       "'分子食物'"
      ]
     },
     "execution_count": 7,
     "metadata": {},
     "output_type": "execute_result"
    }
   ],
   "source": [
    "page.title"
   ]
  },
  {
   "cell_type": "code",
   "execution_count": 8,
   "metadata": {},
   "outputs": [],
   "source": [
    "wiki.set_lang('en')\n",
    "              \n",
    "page = wiki.page('molecular gastronomy')"
   ]
  },
  {
   "cell_type": "code",
   "execution_count": 9,
   "metadata": {},
   "outputs": [
    {
     "data": {
      "text/plain": [
       "'Molecular gastronomy is the scientific approach of nutrition from the perspective of physics and chemistry. The physical properties: force, vector, and mass; and chemical components: molecular structure, formulae, and reactant products of an ingredient are addressed and utilized in the preparation and appreciation of the ingested products. The field differs from the amalgamation of ingredients and application of heat used by early hominids to produce sustenance as a way to acquire nutrients to promote health. It is the constituent of food science that approaches the preparation and enjoyment of nutrition from the perspective of a scientist at the scale of atoms, molecules, and chemicals.\\nNicholas Kurti, Hungarian physicist, and Hervé This, at the INRA in France, coined \"Molecular and Physical Gastronomy\" in 1988. While there are those who label others\\' work as gastronomy, there is a population of chefs who identify as autonomous individuals in their field as chefs.\\n\\n\\n== Examples ==\\n\\n\\n=== Eponymous recipes ===\\nNew dishes named after famous scientists include:\\nGibbs – infusing vanilla pods in egg white with sugar, adding olive oil and then microwave cooking. Named after physicist Josiah Willard Gibbs (1839–1903).\\nVauquelin – using orange juice or cranberry juice with added sugar when whipping eggs to increase the viscosity and to stabilize the foam, and then microwave cooking. Named after Nicolas Vauquelin (1763–1829), one of Lavoisier\\'s teachers.\\nBaumé – soaking a whole egg for a month in alcohol to create a coagulated egg. Named after the French chemist Antoine Baumé (1728–1804).\\n\\n\\n== History ==\\n\\nThere are many branches of food science that study different aspects of food, such as safety, microbiology, preservation, chemistry, engineering and physics. Until the advent of molecular gastronomy, there was no branch dedicated to studying the chemical processes of cooking in the home and in restaurants. Food science has primarily been concerned with industrial food production and, while the disciplines may overlap, they are considered separate areas of investigation.\\nThe creation of the discipline of molecular gastronomy was intended to bring together what had previously been fragmented and isolated investigations into the chemical and physical processes of cooking into an organized discipline within food science, to address what the other disciplines within food science either do not cover, or cover in a manner intended for scientists rather than cooks.\\nThe term \"molecular and physical gastronomy\" was coined in 1988 by Hungarian physicist Nicholas Kurti and French physical chemist Hervé This. In 1992, it became the title for a set of workshops held in Erice, Italy (originally titled \"Science and Gastronomy\") that brought together scientists and professional cooks for discussions about the science behind traditional cooking preparations. Eventually, the shortened term \"molecular gastronomy\" became the name of the approach, based on exploring the science behind traditional cooking methods.Kurti and This considered the creation of a formal discipline around the subjects discussed in the meetings. After Kurti\\'s death in 1998, the name of the Erice workshops were changed by This to \"The International Workshop on Molecular Gastronomy \\'N. Kurti\\'\". This remained the sole director of the subsequent workshops from 1999, and continued his research in the field of molecular gastronomy at the Inra-AgroParisTech International Centre for Molecular Gastronomy, remaining in charge of organizing the international meetings.\\n\\n\\n=== Precursors ===\\nThe idea of using techniques developed in chemistry to study food is not a new one, for instance the discipline of food science has existed for many years. Kurti and This acknowledged this fact and though they decided that a new, organized and specific discipline should be created within food science that investigated the processes in regular cooking (as food science was primarily concerned with the nutritional properties of food and developing methods to process food on an industrial scale), there are several notable examples throughout history of investigations into the science of everyday cooking recorded as far as back to 18th century.\\n\\n\\n==== Marie-Antoine Carême (1784–1833) ====\\nThe concept of molecular gastronomy was perhaps presaged by Marie-Antoine Carême, one of the most famous French chefs, who said in the early 19th century that when making a food stock \"the broth must come to a boil very slowly, otherwise the albumin coagulates, hardens; the water, not having time to penetrate the meat, prevents the gelatinous part of the osmazome from detaching itself.\"\\n\\n\\n==== Evelyn G. Halliday and Isabel T. Noble ====\\nIn 1943 the University of Chicago Press published a book titled Food Chemistry and Cookery by the then University of Chicago Associate Professor of Home Economics Evelyn G. Halliday and University of Minnesota Associate Professor of Home Economics Isabel T. Noble. In the foreword of the 346-page book, the authors state that, \"The main purpose of this book is to give an understanding of the chemical principles upon which good practices in food preparation and preservation are based.\"The book includes chapters such as \"The Chemistry of Milk\", \"The Chemistry of Baking Powders and Their Use in Baking\", \"The Chemistry of Vegetable Cookery\" and \"Determination of Hydrogen Ion Concentration\" and contains numerous illustrations of lab experiments including a Distillation Apparatus for Vegetable Samples and a Pipette for Determining the Relative Viscosity of Pectin Solutions. The professors had previously published The Hows and Whys of Cooking in 1928.\\n\\n\\n==== Belle Lowe ====\\nIn 1932, Belle Lowe, then the professor of Food and Nutrition at Iowa State College, published a book titled Experimental Cookery: From The Chemical And Physical Standpoint which became a standard textbook for home economics courses across the United States. The book is an exhaustively researched look into the science of everyday cooking referencing hundreds of sources and including many experiments. At a length of over 600 pages with section titles such as \"The Relation Of Cookery To Colloidal Chemistry\", \"Coagulation Of Proteins\", \"The Factors Affecting The Viscosity Of Cream And Ice Cream\", \"Syneresis\", \"Hydrolysis Of Collagen\" and \"Changes In Cooked Meat And The Cooking Of Meat\", the volume rivals or exceeds the scope of many other books on the subject, at a much earlier date.\\n\\n\\n==== Elizabeth Cawdry Thomas ====\\nThough rarely credited, the origins of the Erice workshops (originally entitled \"Science and Gastronomy\") can be traced back to cooking teacher Elizabeth Cawdry Thomas, who studied at Le Cordon Bleu in London and ran a cooking school in Berkeley, California. The one-time wife of a physicist, Thomas had many friends in the scientific community and an interest in the science of cooking. In 1988, while attending a meeting at the Ettore Majorana Center for Scientific Culture in Erice, Thomas had a conversation with Professor Ugo Valdrè of the University of Bologna, who agreed with her that the science of cooking was an undervalued subject, and encouraged Kurti to organize a workshop at the Ettore Majorana Center. However nothing happened until Kurti met Hervé This: both approached the director of the Ettore Majorana center, physicist Antonino Zichichi, who liked the idea. They invited the food science writer Harold McGee to join them as invited co-director of the first workshops in 1992.\\n\\n\\n=== Nicholas Kurti ===\\nUniversity of Oxford physicist Nicholas Kurti advocated applying scientific knowledge to culinary problems. He was one of the first television cooks in the UK, hosting a black-and-white television show in 1969 entitled The Physicist in the Kitchen, where he demonstrated techniques such as using a syringe to inject hot mince pies with brandy in order to avoid disturbing the crust. That same year, he held a presentation for the Royal Society of London (also entitled \"The Physicist in the Kitchen\") in which he stated:\\nI think it is a sad reflection on our civilization that while we can and do measure the temperature in the atmosphere of Venus we do not know what goes on inside our soufflés.\\nKurti demonstrated making meringue in a vacuum chamber, the cooking of sausages by connecting them across a car battery, the digestion of protein by fresh pineapple juice, and a reverse baked alaska—hot inside, cold outside—cooked in a microwave oven. Kurti was also an advocate of low temperature cooking, repeating 18th century experiments by British scientist Benjamin Thompson by leaving a 2 kg (4.4 lb) lamb joint in an oven at 80 °C (176 °F). After 8.5 hours, both the inside and outside temperature of the lamb joint were around 75 °C (167 °F), and the meat was tender and juicy.With his wife, Giana Kurti, Nicholas Kurti edited an anthology on food and science by fellows and foreign members of the Royal Society.\\n\\n\\n=== Hervé This ===\\nHervé This started collecting \"culinary precisions\" (old kitchen wives\\' tales and cooking tricks) the 24th of March 1980, and started testing these precisions to see which held up; his collection eventually numbered some 25,000. In 1995, he received a PhD in Physical Chemistry of Materials, for which he wrote his thesis on \"La gastronomie moléculaire et physique\" (molecular and physical gastronomy). He served as an adviser to the French minister of education, lectured internationally, and was invited to join the lab of Nobel-winning molecular chemist Jean-Marie Lehn. This has published several books in French, four of which have been translated into English, including Molecular Gastronomy: Exploring the Science of Flavor, Kitchen Mysteries: Revealing the Science of Cooking, Cooking: The Quintessential Art, and Building a Meal: From Molecular Gastronomy to Culinary Constructivism.\\nHe currently publishes a series of essays in French, and hosts free monthly seminars on molecular gastronomy at the INRA in France. He gives free and public seminars on molecular gastronomy every month, and annually gives a public and free course on molecular gastronomy. Hervé This also authors a website and a pair of blogs on the subject in French, and publishes monthly collaborations with French chef Pierre Gagnaire on Gagnaire\\'s website.\\n\\n\\n== Objectives ==\\nThe objectives of molecular gastronomy, as defined by Hervé This, are seeking for the mechanisms of culinary transformations and processes (from a chemical and physical point of view) in three areas:\\nthe social phenomena linked to culinary activity\\nthe artistic component of culinary activity\\nthe technical component of culinary activityThe original fundamental objectives of molecular gastronomy were defined by This in his doctoral dissertation as:\\nInvestigating culinary and gastronomical proverbs, sayings and old wives\\' tales\\nExploring existing recipes\\nIntroducing new tools, ingredients and methods into the kitchen\\nInventing new dishes\\nUsing molecular gastronomy to help the general public understand the contribution of science to societyHervé This later recognized points 3, 4, and 5 as being not entirely scientific endeavors (more application of technology and educational), and has revised the list.\\n\\n\\n=== Areas of investigation ===\\nPrime topics for study include\\nHow ingredients are changed by different cooking methods\\nHow all the senses play their own roles in our appreciation of food\\nThe mechanisms of aroma release and the perception of taste and flavor\\nHow and why we evolved our particular taste and flavor sense organs and our general food likes and dislikes\\nHow cooking methods affect the eventual flavor and texture of food ingredients\\nHow new cooking methods might produce improved results of texture and flavor\\nHow our brains interpret the signals from all our senses to tell us the \"flavor\" of food\\nHow our enjoyment of food is affected by other influences, our environment, our mood, how it is presented, who prepares it, etc.\\n\\n\\n== Chefs ==\\n\\nIn the late 1990s and early 2000s, the term started to be used to describe a new style of cooking in which some chefs began to explore new possibilities in the kitchen by embracing science, research, technological advances in equipment and various natural gums and hydrocolloids produced by the commercial food processing industry. It has since been used to describe the food and cooking of a number of famous chefs, though many of them do not accept the term as a description of their style of cooking.Chefs who are often associated with molecular gastronomy because of their embrace of science include Heston Blumenthal, Grant Achatz, Ferran Adrià, Rikku Ó’Donnchü, José Andrés, Sat Bains, Richard Blais, Marcel Vigneron, Sean Brock, Homaro Cantu, Michael Carlson, Wylie Dufresne, Pierre Gagnaire, Adam Melonas, Kevin Sousa, and Laurent Gras.Despite their central role in the popularisation of science-based cuisine, both Adria and Blumenthal have expressed their frustration with the common mis-classification of their food and cooking as \"molecular gastronomy\", On 10 December 2006 Blumenthal and Harold McGee published a \\'Statement on the \"New Cookery\" in the Observer in order to summarise what they saw as the central tenets of modern cuisine.  Ferran Adria of El Bulli and Thomas Keller of the French Laundry and Per Se signed up to this and together released a joint statement in 2006 clarifying their approach to cooking, stating that the term \"molecular gastronomy\" was coined in 1992 for a single workshop that did not influence them, and that the term does not describe any style of cooking.In February 2011, Nathan Myhrvold published the Modernist Cuisine, which led many chefs to further classify molecular gastronomy versus modernist cuisine. Myhrvold believes that his cooking style should not be called molecular gastronomy.\\n\\n\\n== Techniques, tools and ingredients ==\\nCarbon dioxide source, for adding bubbles and making foams\\nFoams can also be made with an immersion blender\\nLiquid nitrogen, for flash freezing and shattering\\nIce cream maker, often used to make unusual flavors, including savory\\nAnti-griddle, for cooling and freezing\\nThermal immersion circulator for sous-vide (low temperature cooking)\\nFood dehydrator\\nCentrifuge\\nMaltodextrin – can turn a high-fat liquid into a powder\\nSugar substitutes\\nEnzymes\\nLecithin – an emulsifier and non-stick agent\\nHydrocolloids such as starch, gelatin, pectin and natural gums – used as thickening agents, gelling agents, emulsifying agents and stabilizers, sometimes needed for foams\\nTransglutaminase – a protein binder, called meat glue\\nSpherification – a caviar-like effect\\nSyringe, for injecting unexpected fillings\\nEdible paper made from soybeans and potato starch, for use with edible fruit inks and an inkjet printer\\nAromatic accompaniment: gases trapped in a bag, a serving device, or the food itself; an aromatic substance presented as a garnish  or creative serveware; or a smell produced by burning\\nPresentation style is often whimsical or avant-garde, and may include unusual serviceware\\nUnusual flavor combinations (food pairings) are favored, such as combining savory and sweet\\nUsing ultrasound to achieve more precise cooking times\\n\\n\\n== Alternative names and related pursuits ==\\nThe term molecular gastronomy was originally intended to refer only to the scientific investigation of cooking, though it has been adopted by a number of people and applied to cooking itself or to describe a style of cuisine.\\n\\nOther names for the style of cuisine practiced by these chefs include:\\n\\nAvant-garde cuisine\\nCulinary constructivism\\nCocina de vanguardia – term used by Ferran Adrià\\nEmotional cuisine\\nExperimental cuisine\\nForward-thinking movement – term used at Grant Achatz\\'s Alinea\\nKitchen science\\nModern cuisine\\nModernist cuisine, which shares its name with a cookbook by Nathan Myhrvold, and which is endorsed by Ferran Adrià of El Bulli and David Chang\\nMolecular cuisine\\nMolecular cooking\\nNew cuisine\\nNew cookery\\nNueva cocina\\nProgressive cuisine\\nTechno-emotional cuisine—term preferred by elBulli research and development chef Ferran Adrià\\nTechnologically forward cuisine\\nVanguard cuisine\\nTechno-cuisineNo singular name has ever been applied in consensus, and the term \"molecular gastronomy\" continues to be used often as a blanket term to refer to any and all of these things—particularly in the media. Ferran Adrià hates the term \"molecular gastronomy\" and prefers \\'deconstructivist\\' to describe his style of cooking. A 2006 open letter by Ferran Adria, Heston Blumenthal, Thomas Keller and Harold McGee published in The Times used no specific term, referring only to \"a new approach to cooking\" and \"our cooking\".\\n\\n\\n== See also ==\\n\\n\\n=== People ===\\n\\n\\n=== Restaurants ===\\n\\n\\n=== Subjects ===\\n\\n\\n== References ==\\n\\n\\n== Further reading ==\\nCaporaso, Nicola, Diego Formisano (2016). Developments, applications, and trends of molecular gastronomy among food scientists and innovative chefs. Food Reviews International, 32(4), 417-435.\\nHoelscher, Dietmar,  Molecular kitchen and moleculare mixology: you can do what you imagine (2008 DVD) ISBN 978-3-00-022641-0\\nKurti, Nicholas, But the Crackling Is Superb, Institute of Physics Publishing, 1998 ISBN 978-0-85274-301-0\\nMcGee, Harold, The Curious Cook. North Point Press, Berkeley, 1990.\\nMcGee, Harold, On Food and Cooking: The Science and Lore of the Kitchen. Scribner, New York, 2004. ISBN 0-684-80001-2.\\nThis, Hervé, Building a Meal: From Molecular Gastronomy to Culinary Constructivism, Columbia University Press 2009 ISBN 978-0-231-14466-7\\nThis, Hervé, Pierre Gagnaire: Cooking: The Quintessential Art, University of California Press 2008 ISBN 978-0-520-25295-0\\nThis, Hervé, Kitchen Mysteries: Revealing the Science of Cooking. Columbia University Press, New York, 2007 ISBN 978-0-231-14170-3\\nThis, Hervé, Molecular Gastronomy: Exploring the Science of Flavor. Columbia University Press, New York, 2006. ISBN 978-0-231-13312-8\\nWolke, Robert L., \"What Einstein Told His Cook: Kitchen Science Explained\" (2002, 350p) ISBN 0-393-01183-6\\n\\n\\n== External links ==\\nJohn Mariani,  Decline of Modernist Molecular Cuisine July 24, 2013 esquire.com\\nGrubstreet,   Rebuttal of John Marianis esquire article  July 24, 2013 grubstreet'"
      ]
     },
     "execution_count": 9,
     "metadata": {},
     "output_type": "execute_result"
    }
   ],
   "source": [
    "page.content\n"
   ]
  },
  {
   "cell_type": "code",
   "execution_count": 10,
   "metadata": {},
   "outputs": [],
   "source": [
    "topic = 'culinary science'  #en_all_topics[0]\n",
    "wiki.set_lang(\"en\")\n",
    "en_topic_content = (wiki.page(topic).content)\n",
    "\n",
    "wiki.set_lang(\"zh\")\n",
    "zh_topic_content = translator.translate(wiki.page(topic).content, lang_tgt = 'en')"
   ]
  },
  {
   "cell_type": "code",
   "execution_count": null,
   "metadata": {},
   "outputs": [],
   "source": []
  },
  {
   "cell_type": "code",
   "execution_count": null,
   "metadata": {},
   "outputs": [],
   "source": []
  },
  {
   "cell_type": "code",
   "execution_count": null,
   "metadata": {},
   "outputs": [],
   "source": []
  },
  {
   "cell_type": "code",
   "execution_count": null,
   "metadata": {},
   "outputs": [],
   "source": []
  },
  {
   "cell_type": "code",
   "execution_count": 11,
   "metadata": {},
   "outputs": [],
   "source": [
    "en_topics_test = ['Physiotherapy', 'what', 'Politics', 'into', 'Exercise', 'Agriculture', 'Prehistory', 'Intelligence', 'computer', 'Natural']"
   ]
  },
  {
   "cell_type": "code",
   "execution_count": 12,
   "metadata": {
    "scrolled": false
   },
   "outputs": [
    {
     "name": "stderr",
     "output_type": "stream",
     "text": [
      "C:\\Users\\Owner\\Anaconda3\\lib\\site-packages\\wikipedia\\wikipedia.py:389: UserWarning: No parser was explicitly specified, so I'm using the best available HTML parser for this system (\"lxml\"). This usually isn't a problem, but if you run this code on another system, or in a different virtual environment, it may use a different parser and behave differently.\n",
      "\n",
      "The code that caused this warning is on line 389 of the file C:\\Users\\Owner\\Anaconda3\\lib\\site-packages\\wikipedia\\wikipedia.py. To get rid of this warning, pass the additional argument 'features=\"lxml\"' to the BeautifulSoup constructor.\n",
      "\n",
      "  lis = BeautifulSoup(html).find_all('li')\n"
     ]
    },
    {
     "ename": "DisambiguationError",
     "evalue": "\"when\" may refer to: \nFive Ws\nWHEN (AM)\nWTVH\nWhen (band)\nRob Overseer\nWhen (album)\n\"When\" (Amanda Lear song)\n\"When\" (The Kalin Twins song)\n\"When\" (Red Vincent Hurley song)\n\"When\" (Shania Twain song)\nThe World Needs a Hero\nMy Arms, Your Hearse\nPerry Como\nSpirit of '76\nWelcome\nDodie Clark",
     "output_type": "error",
     "traceback": [
      "\u001b[1;31m---------------------------------------------------------------------------\u001b[0m",
      "\u001b[1;31mDisambiguationError\u001b[0m                       Traceback (most recent call last)",
      "\u001b[1;32m<ipython-input-12-4828afb10c60>\u001b[0m in \u001b[0;36m<module>\u001b[1;34m\u001b[0m\n\u001b[0;32m      5\u001b[0m \u001b[1;33m\u001b[0m\u001b[0m\n\u001b[0;32m      6\u001b[0m     \u001b[0mwiki\u001b[0m\u001b[1;33m.\u001b[0m\u001b[0mset_lang\u001b[0m\u001b[1;33m(\u001b[0m\u001b[1;34m\"en\"\u001b[0m\u001b[1;33m)\u001b[0m\u001b[1;33m\u001b[0m\u001b[1;33m\u001b[0m\u001b[0m\n\u001b[1;32m----> 7\u001b[1;33m     \u001b[0men_topic_content\u001b[0m \u001b[1;33m=\u001b[0m \u001b[1;33m(\u001b[0m\u001b[0mwiki\u001b[0m\u001b[1;33m.\u001b[0m\u001b[0mpage\u001b[0m\u001b[1;33m(\u001b[0m\u001b[0mi\u001b[0m\u001b[1;33m)\u001b[0m\u001b[1;33m.\u001b[0m\u001b[0mcontent\u001b[0m\u001b[1;33m)\u001b[0m\u001b[1;33m\u001b[0m\u001b[1;33m\u001b[0m\u001b[0m\n\u001b[0m\u001b[0;32m      8\u001b[0m     \u001b[0mfile\u001b[0m\u001b[1;33m.\u001b[0m\u001b[0mwrite\u001b[0m\u001b[1;33m(\u001b[0m\u001b[0men_topic_content\u001b[0m\u001b[1;33m)\u001b[0m\u001b[1;33m\u001b[0m\u001b[1;33m\u001b[0m\u001b[0m\n\u001b[0;32m      9\u001b[0m \u001b[1;33m\u001b[0m\u001b[0m\n",
      "\u001b[1;32m~\\Anaconda3\\lib\\site-packages\\wikipedia\\wikipedia.py\u001b[0m in \u001b[0;36mpage\u001b[1;34m(title, pageid, auto_suggest, redirect, preload)\u001b[0m\n\u001b[0;32m    274\u001b[0m         \u001b[1;31m# if there is no suggestion or search results, the page doesn't exist\u001b[0m\u001b[1;33m\u001b[0m\u001b[1;33m\u001b[0m\u001b[1;33m\u001b[0m\u001b[0m\n\u001b[0;32m    275\u001b[0m         \u001b[1;32mraise\u001b[0m \u001b[0mPageError\u001b[0m\u001b[1;33m(\u001b[0m\u001b[0mtitle\u001b[0m\u001b[1;33m)\u001b[0m\u001b[1;33m\u001b[0m\u001b[1;33m\u001b[0m\u001b[0m\n\u001b[1;32m--> 276\u001b[1;33m     \u001b[1;32mreturn\u001b[0m \u001b[0mWikipediaPage\u001b[0m\u001b[1;33m(\u001b[0m\u001b[0mtitle\u001b[0m\u001b[1;33m,\u001b[0m \u001b[0mredirect\u001b[0m\u001b[1;33m=\u001b[0m\u001b[0mredirect\u001b[0m\u001b[1;33m,\u001b[0m \u001b[0mpreload\u001b[0m\u001b[1;33m=\u001b[0m\u001b[0mpreload\u001b[0m\u001b[1;33m)\u001b[0m\u001b[1;33m\u001b[0m\u001b[1;33m\u001b[0m\u001b[0m\n\u001b[0m\u001b[0;32m    277\u001b[0m   \u001b[1;32melif\u001b[0m \u001b[0mpageid\u001b[0m \u001b[1;32mis\u001b[0m \u001b[1;32mnot\u001b[0m \u001b[1;32mNone\u001b[0m\u001b[1;33m:\u001b[0m\u001b[1;33m\u001b[0m\u001b[1;33m\u001b[0m\u001b[0m\n\u001b[0;32m    278\u001b[0m     \u001b[1;32mreturn\u001b[0m \u001b[0mWikipediaPage\u001b[0m\u001b[1;33m(\u001b[0m\u001b[0mpageid\u001b[0m\u001b[1;33m=\u001b[0m\u001b[0mpageid\u001b[0m\u001b[1;33m,\u001b[0m \u001b[0mpreload\u001b[0m\u001b[1;33m=\u001b[0m\u001b[0mpreload\u001b[0m\u001b[1;33m)\u001b[0m\u001b[1;33m\u001b[0m\u001b[1;33m\u001b[0m\u001b[0m\n",
      "\u001b[1;32m~\\Anaconda3\\lib\\site-packages\\wikipedia\\wikipedia.py\u001b[0m in \u001b[0;36m__init__\u001b[1;34m(self, title, pageid, redirect, preload, original_title)\u001b[0m\n\u001b[0;32m    297\u001b[0m       \u001b[1;32mraise\u001b[0m \u001b[0mValueError\u001b[0m\u001b[1;33m(\u001b[0m\u001b[1;34m\"Either a title or a pageid must be specified\"\u001b[0m\u001b[1;33m)\u001b[0m\u001b[1;33m\u001b[0m\u001b[1;33m\u001b[0m\u001b[0m\n\u001b[0;32m    298\u001b[0m \u001b[1;33m\u001b[0m\u001b[0m\n\u001b[1;32m--> 299\u001b[1;33m     \u001b[0mself\u001b[0m\u001b[1;33m.\u001b[0m\u001b[0m__load\u001b[0m\u001b[1;33m(\u001b[0m\u001b[0mredirect\u001b[0m\u001b[1;33m=\u001b[0m\u001b[0mredirect\u001b[0m\u001b[1;33m,\u001b[0m \u001b[0mpreload\u001b[0m\u001b[1;33m=\u001b[0m\u001b[0mpreload\u001b[0m\u001b[1;33m)\u001b[0m\u001b[1;33m\u001b[0m\u001b[1;33m\u001b[0m\u001b[0m\n\u001b[0m\u001b[0;32m    300\u001b[0m \u001b[1;33m\u001b[0m\u001b[0m\n\u001b[0;32m    301\u001b[0m     \u001b[1;32mif\u001b[0m \u001b[0mpreload\u001b[0m\u001b[1;33m:\u001b[0m\u001b[1;33m\u001b[0m\u001b[1;33m\u001b[0m\u001b[0m\n",
      "\u001b[1;32m~\\Anaconda3\\lib\\site-packages\\wikipedia\\wikipedia.py\u001b[0m in \u001b[0;36m__load\u001b[1;34m(self, redirect, preload)\u001b[0m\n\u001b[0;32m    391\u001b[0m       \u001b[0mmay_refer_to\u001b[0m \u001b[1;33m=\u001b[0m \u001b[1;33m[\u001b[0m\u001b[0mli\u001b[0m\u001b[1;33m.\u001b[0m\u001b[0ma\u001b[0m\u001b[1;33m.\u001b[0m\u001b[0mget_text\u001b[0m\u001b[1;33m(\u001b[0m\u001b[1;33m)\u001b[0m \u001b[1;32mfor\u001b[0m \u001b[0mli\u001b[0m \u001b[1;32min\u001b[0m \u001b[0mfiltered_lis\u001b[0m \u001b[1;32mif\u001b[0m \u001b[0mli\u001b[0m\u001b[1;33m.\u001b[0m\u001b[0ma\u001b[0m\u001b[1;33m]\u001b[0m\u001b[1;33m\u001b[0m\u001b[1;33m\u001b[0m\u001b[0m\n\u001b[0;32m    392\u001b[0m \u001b[1;33m\u001b[0m\u001b[0m\n\u001b[1;32m--> 393\u001b[1;33m       \u001b[1;32mraise\u001b[0m \u001b[0mDisambiguationError\u001b[0m\u001b[1;33m(\u001b[0m\u001b[0mgetattr\u001b[0m\u001b[1;33m(\u001b[0m\u001b[0mself\u001b[0m\u001b[1;33m,\u001b[0m \u001b[1;34m'title'\u001b[0m\u001b[1;33m,\u001b[0m \u001b[0mpage\u001b[0m\u001b[1;33m[\u001b[0m\u001b[1;34m'title'\u001b[0m\u001b[1;33m]\u001b[0m\u001b[1;33m)\u001b[0m\u001b[1;33m,\u001b[0m \u001b[0mmay_refer_to\u001b[0m\u001b[1;33m)\u001b[0m\u001b[1;33m\u001b[0m\u001b[1;33m\u001b[0m\u001b[0m\n\u001b[0m\u001b[0;32m    394\u001b[0m \u001b[1;33m\u001b[0m\u001b[0m\n\u001b[0;32m    395\u001b[0m     \u001b[1;32melse\u001b[0m\u001b[1;33m:\u001b[0m\u001b[1;33m\u001b[0m\u001b[1;33m\u001b[0m\u001b[0m\n",
      "\u001b[1;31mDisambiguationError\u001b[0m: \"when\" may refer to: \nFive Ws\nWHEN (AM)\nWTVH\nWhen (band)\nRob Overseer\nWhen (album)\n\"When\" (Amanda Lear song)\n\"When\" (The Kalin Twins song)\n\"When\" (Red Vincent Hurley song)\n\"When\" (Shania Twain song)\nThe World Needs a Hero\nMy Arms, Your Hearse\nPerry Como\nSpirit of '76\nWelcome\nDodie Clark"
     ]
    }
   ],
   "source": [
    "for i in en_topics_test:\n",
    "#en_all_topics[0]\n",
    "\n",
    "    file = open('../data/article_content_test.txt','w')\n",
    "\n",
    "    wiki.set_lang(\"en\")\n",
    "    en_topic_content = (wiki.page(i).content)\n",
    "    file.write(en_topic_content)\n",
    "\n",
    "#    wiki.set_lang(\"zh\")\n",
    "#    zh_topic_content = translator.translate(wiki.page(i).content, lang_tgt = 'en')\n",
    "#    file.write(zh_topic_content)\n",
    "\n",
    "    file.close()"
   ]
  },
  {
   "cell_type": "code",
   "execution_count": 13,
   "metadata": {},
   "outputs": [],
   "source": [
    "en_topics_test = ['Physiotherapy', 'Politics']"
   ]
  },
  {
   "cell_type": "code",
   "execution_count": 14,
   "metadata": {
    "scrolled": false
   },
   "outputs": [
    {
     "ename": "UnicodeEncodeError",
     "evalue": "'charmap' codec can't encode characters in position 22-29: character maps to <undefined>",
     "output_type": "error",
     "traceback": [
      "\u001b[1;31m---------------------------------------------------------------------------\u001b[0m",
      "\u001b[1;31mUnicodeEncodeError\u001b[0m                        Traceback (most recent call last)",
      "\u001b[1;32m<ipython-input-14-ba50f55ef254>\u001b[0m in \u001b[0;36m<module>\u001b[1;34m\u001b[0m\n\u001b[0;32m      5\u001b[0m     \u001b[0mwiki\u001b[0m\u001b[1;33m.\u001b[0m\u001b[0mset_lang\u001b[0m\u001b[1;33m(\u001b[0m\u001b[1;34m\"en\"\u001b[0m\u001b[1;33m)\u001b[0m\u001b[1;33m\u001b[0m\u001b[1;33m\u001b[0m\u001b[0m\n\u001b[0;32m      6\u001b[0m     \u001b[0men_topic_content\u001b[0m \u001b[1;33m=\u001b[0m \u001b[1;33m(\u001b[0m\u001b[0mwiki\u001b[0m\u001b[1;33m.\u001b[0m\u001b[0mpage\u001b[0m\u001b[1;33m(\u001b[0m\u001b[0mi\u001b[0m\u001b[1;33m)\u001b[0m\u001b[1;33m.\u001b[0m\u001b[0mcontent\u001b[0m\u001b[1;33m)\u001b[0m\u001b[1;33m\u001b[0m\u001b[1;33m\u001b[0m\u001b[0m\n\u001b[1;32m----> 7\u001b[1;33m     \u001b[0mfile\u001b[0m\u001b[1;33m.\u001b[0m\u001b[0mwrite\u001b[0m\u001b[1;33m(\u001b[0m\u001b[0men_topic_content\u001b[0m\u001b[1;33m)\u001b[0m\u001b[1;33m\u001b[0m\u001b[1;33m\u001b[0m\u001b[0m\n\u001b[0m\u001b[0;32m      8\u001b[0m \u001b[1;31m#except:\u001b[0m\u001b[1;33m\u001b[0m\u001b[1;33m\u001b[0m\u001b[1;33m\u001b[0m\u001b[0m\n\u001b[0;32m      9\u001b[0m \u001b[1;31m#    pass\u001b[0m\u001b[1;33m\u001b[0m\u001b[1;33m\u001b[0m\u001b[1;33m\u001b[0m\u001b[0m\n",
      "\u001b[1;32m~\\Anaconda3\\lib\\encodings\\cp1252.py\u001b[0m in \u001b[0;36mencode\u001b[1;34m(self, input, final)\u001b[0m\n\u001b[0;32m     17\u001b[0m \u001b[1;32mclass\u001b[0m \u001b[0mIncrementalEncoder\u001b[0m\u001b[1;33m(\u001b[0m\u001b[0mcodecs\u001b[0m\u001b[1;33m.\u001b[0m\u001b[0mIncrementalEncoder\u001b[0m\u001b[1;33m)\u001b[0m\u001b[1;33m:\u001b[0m\u001b[1;33m\u001b[0m\u001b[1;33m\u001b[0m\u001b[0m\n\u001b[0;32m     18\u001b[0m     \u001b[1;32mdef\u001b[0m \u001b[0mencode\u001b[0m\u001b[1;33m(\u001b[0m\u001b[0mself\u001b[0m\u001b[1;33m,\u001b[0m \u001b[0minput\u001b[0m\u001b[1;33m,\u001b[0m \u001b[0mfinal\u001b[0m\u001b[1;33m=\u001b[0m\u001b[1;32mFalse\u001b[0m\u001b[1;33m)\u001b[0m\u001b[1;33m:\u001b[0m\u001b[1;33m\u001b[0m\u001b[1;33m\u001b[0m\u001b[0m\n\u001b[1;32m---> 19\u001b[1;33m         \u001b[1;32mreturn\u001b[0m \u001b[0mcodecs\u001b[0m\u001b[1;33m.\u001b[0m\u001b[0mcharmap_encode\u001b[0m\u001b[1;33m(\u001b[0m\u001b[0minput\u001b[0m\u001b[1;33m,\u001b[0m\u001b[0mself\u001b[0m\u001b[1;33m.\u001b[0m\u001b[0merrors\u001b[0m\u001b[1;33m,\u001b[0m\u001b[0mencoding_table\u001b[0m\u001b[1;33m)\u001b[0m\u001b[1;33m[\u001b[0m\u001b[1;36m0\u001b[0m\u001b[1;33m]\u001b[0m\u001b[1;33m\u001b[0m\u001b[1;33m\u001b[0m\u001b[0m\n\u001b[0m\u001b[0;32m     20\u001b[0m \u001b[1;33m\u001b[0m\u001b[0m\n\u001b[0;32m     21\u001b[0m \u001b[1;32mclass\u001b[0m \u001b[0mIncrementalDecoder\u001b[0m\u001b[1;33m(\u001b[0m\u001b[0mcodecs\u001b[0m\u001b[1;33m.\u001b[0m\u001b[0mIncrementalDecoder\u001b[0m\u001b[1;33m)\u001b[0m\u001b[1;33m:\u001b[0m\u001b[1;33m\u001b[0m\u001b[1;33m\u001b[0m\u001b[0m\n",
      "\u001b[1;31mUnicodeEncodeError\u001b[0m: 'charmap' codec can't encode characters in position 22-29: character maps to <undefined>"
     ]
    }
   ],
   "source": [
    "for i in en_topics_test:\n",
    "#en_all_topics[0]\n",
    "    file = open('../data/article_content_test.txt','w')\n",
    "#try:\n",
    "    wiki.set_lang(\"en\")\n",
    "    en_topic_content = (wiki.page(i).content)\n",
    "    file.write(en_topic_content)\n",
    "#except:\n",
    "#    pass\n",
    "#try:\n",
    "    wiki.set_lang(\"zh\")\n",
    "    zh_topic_content = translator.translate(wiki.page(i).content, lang_tgt = 'en')\n",
    "    file.write(zh_topic_content)\n",
    "#except:\n",
    "#    pass\n",
    "    file.close()"
   ]
  },
  {
   "cell_type": "code",
   "execution_count": 15,
   "metadata": {},
   "outputs": [],
   "source": [
    "en_topics_test = ['Physiotherapy', 'Politics', 'into', 'Exercise', 'Agriculture', 'Prehistory', 'Intelligence', 'computer', 'Natural']"
   ]
  },
  {
   "cell_type": "code",
   "execution_count": 16,
   "metadata": {},
   "outputs": [],
   "source": [
    "for i in en_topics_test:\n",
    "#en_all_topics[0]\n",
    "    file = open('../data/article_content_test.txt','w')\n",
    "    try:\n",
    "        wiki.set_lang(\"en\")\n",
    "        en_topic_content = (wiki.page(i).content)\n",
    "        file.write(en_topic_content)\n",
    "    except:\n",
    "        pass\n",
    "    try:\n",
    "        wiki.set_lang(\"zh\")\n",
    "        zh_topic_content = translator.translate(wiki.page(i).content, lang_tgt = 'en')\n",
    "        file.write(zh_topic_content)\n",
    "    except:\n",
    "        pass\n",
    "    file.close()"
   ]
  },
  {
   "cell_type": "code",
   "execution_count": 20,
   "metadata": {},
   "outputs": [],
   "source": [
    "en_topics_test = ['Fire', 'Earth']"
   ]
  },
  {
   "cell_type": "code",
   "execution_count": 21,
   "metadata": {},
   "outputs": [],
   "source": [
    "for i in en_topics_test:\n",
    "#en_all_topics[0]\n",
    "    file = open('../data/article_content_test.txt','w')\n",
    "    try:\n",
    "        wiki.set_lang(\"en\")\n",
    "        en_topic_content = (wiki.page(i).content)\n",
    "        file.write(en_topic_content)\n",
    "    except:\n",
    "        pass\n",
    "    try:\n",
    "        wiki.set_lang(\"zh\")\n",
    "        zh_topic_content = translator.translate(wiki.page(i).content, lang_tgt = 'en')\n",
    "        file.write(zn_topic_content)\n",
    "    except:\n",
    "        pass\n",
    "    file.close()"
   ]
  },
  {
   "cell_type": "code",
   "execution_count": null,
   "metadata": {},
   "outputs": [],
   "source": []
  },
  {
   "cell_type": "code",
   "execution_count": null,
   "metadata": {},
   "outputs": [],
   "source": []
  },
  {
   "cell_type": "code",
   "execution_count": null,
   "metadata": {},
   "outputs": [],
   "source": []
  },
  {
   "cell_type": "code",
   "execution_count": 22,
   "metadata": {},
   "outputs": [],
   "source": [
    "en_topics_test = ['Agriculture', 'Intelligence', 'computer']"
   ]
  },
  {
   "cell_type": "code",
   "execution_count": 23,
   "metadata": {},
   "outputs": [],
   "source": [
    "for i in en_topics_test:\n",
    "#en_all_topics[0]\n",
    "    file = open('../data/article_content_test.txt','w')\n",
    "    try:\n",
    "        wiki.set_lang(\"en\")\n",
    "        en_topic_content = (wiki.page(i).content)\n",
    "        file.write(en_topic_content)\n",
    "    except:\n",
    "        pass\n",
    "    try:\n",
    "        wiki.set_lang(\"zh\")\n",
    "        zh_topic_content = translator.translate(wiki.page(i).content, lang_tgt = 'en')\n",
    "        file.write(zh_topic_content)\n",
    "    except:\n",
    "        \n",
    "    file.close()"
   ]
  },
  {
   "cell_type": "code",
   "execution_count": 47,
   "metadata": {},
   "outputs": [],
   "source": [
    "en_topics_test = ['fire', 'Intelligence', 'computer']"
   ]
  },
  {
   "cell_type": "code",
   "execution_count": 57,
   "metadata": {},
   "outputs": [],
   "source": [
    "for topic in en_topics_test:\n",
    "#en_all_topics[0]\n",
    "    wiki.set_lang(\"en\")\n",
    "    try:\n",
    "        article = wiki.page(topic, auto_suggest = False)\n",
    "        en_topic_content = (article.content)\n",
    "        en_title = article.title\n",
    "    except:\n",
    "        en_topic_content = ''\n",
    "        en_title = ''\n",
    "    \n",
    "    wiki.set_lang(\"zh\")\n",
    "    try:\n",
    "        article = wiki.page(topic, auto_suggest = False)\n",
    "        zh_topic_content = translator.translate(article.content, lang_tgt = 'en')\n",
    "        zh_title = translator.translate(article.title, lang_tgt = 'en')\n",
    "    except:\n",
    "        zh_topic_content = ''\n",
    "        zh_title = ''\n",
    "    \n",
    "    with open(f'../data/content_{topic}.json', 'w') as fi:\n",
    "        json.dump({\n",
    "          \n",
    "            'topic':topic,\n",
    "            'english_title':en_title,\n",
    "            'english':en_topic_content,\n",
    "            'chinese_title':zh_title,\n",
    "            'chinese':zh_topic_content\n",
    "                        \n",
    "        }, fi)\n",
    "        \n",
    "#pull over page, then trans 5k at a time, then output all trans together"
   ]
  },
  {
   "cell_type": "code",
   "execution_count": 56,
   "metadata": {},
   "outputs": [
    {
     "name": "stdout",
     "output_type": "stream",
     "text": [
      "A tornado is a violently rotating column of air that is in contact with both the surface of the Earth and a cumulonimbus cloud or, in rare cases, the base of a cumulus cloud. The windstorm is often referred to as a twister, whirlwind or cyclone, although the word cyclone is used in meteorology to name a weather system with a low-pressure area in the center around which, from an observer looking down toward the surface of the earth, winds blow counterclockwise in the Northern Hemisphere and clockwise in the Southern. Tornadoes come in many shapes and sizes, and they are often visible in the form of a condensation funnel originating from the base of a cumulonimbus cloud, with a cloud of rotating debris and dust beneath it. Most tornadoes have wind speeds less than 110 miles per hour (180 km/h), are about 250 feet (80 m) across, and travel a few miles (several kilometers) before dissipating. The most extreme tornadoes can attain wind speeds of more than 300 miles per hour (480 km/h), are more than two miles (3 km) in diameter, and stay on the ground for dozens of miles (more than 100 km).Various types of tornadoes include the multiple vortex tornado, landspout, and waterspout. Waterspouts are characterized by a spiraling funnel-shaped wind current, connecting to a large cumulus or cumulonimbus cloud. They are generally classified as non-supercellular tornadoes that develop over bodies of water, but there is disagreement over whether to classify them as true tornadoes. These spiraling columns of air frequently develop in tropical areas close to the equator and are less common at high latitudes. Other tornado-like phenomena that exist in nature include the gustnado, dust devil, fire whirl, and steam devil.\n",
      "Tornadoes occur most frequently in North America (particularly in central and southeastern regions of the United States colloquially known as tornado alley), Southern Africa, northwestern and southeast Europe, western and southeastern Australia, New Zealand, Bangladesh and adjacent eastern India, and southeastern South America. Tornadoes can be detected before or as they occur through the use of Pulse-Doppler radar by recognizing patterns in velocity and reflectivity data, such as hook echoes or debris balls, as well as through the efforts of storm spotters.\n",
      "\n",
      "\n",
      "== Tornado rating scales ==\n",
      "There are several scales for rating the strength of tornadoes. The Fujita scale rates tornadoes by damage caused and has been replaced in some countries by the updated Enhanced Fujita Scale. An F0 or EF0 tornado, the weakest category, damages trees, but not substantial structures. An F5 or EF5 tornado, the strongest category, rips buildings off their foundations and can deform large skyscrapers. The similar TORRO scale ranges from T0 for extremely weak tornadoes to T11 for the most powerful known tornadoes. Doppler radar data, photogrammetry, and ground swirl patterns (trochoidal marks) may also be analyzed to determine intensity and assign a rating.\n",
      "\n",
      "\n",
      "== Etymology ==\n",
      "The word tornado comes from the Spanish word tornado (past participle of to turn, or to have torn). Tornadoes' opposite phenomena are the widespread, straight-line derechoes (, from Spanish: derecho [deˈɾetʃo], \"straight\"). A tornado is also commonly referred to as a \"twister\" or the old-fashioned colloquial term cyclone.\n",
      "\n",
      "\n",
      "== Definitions ==\n",
      "A tornado is a violently rotating column of air, in contact with the ground, either pendant from a cumuliform cloud or underneath a cumuliform cloud, and often (but not always) visible as a funnel cloud. For a vortex to be classified as a tornado, it must be in contact with both the ground and the cloud base. The term is not precisely defined; for example, there is disagreement as to whether separate touchdowns of the same funnel constitute separate tornadoes. Tornado refers to the vortex of wind, not the condensation cloud.\n",
      "\n",
      "\n",
      "=== Funnel cloud ===\n",
      "\n",
      "A tornado is not necessarily visible; however, the intense low pressure caused by the high wind speeds (as described by Bernoulli's principle) and rapid rotation (due to cyclostrophic balance) usually cause water vapor in the air to condense into cloud droplets due to adiabatic cooling. This results in the formation of a visible funnel cloud or condensation funnel.There is some disagreement over the definition of a funnel cloud and a condensation funnel. According to the Glossary of Meteorology, a funnel cloud is any rotating cloud pendant from a cumulus or cumulonimbus, and thus most tornadoes are included under this definition. Among many meteorologists, the 'funnel cloud' term is strictly defined as a rotating cloud which is not associated with strong winds at the surface, and condensation funnel is a broad term for any rotating cloud below a cumuliform cloud.Tornadoes often begin as funnel clouds with no associated strong winds at the surface, and not all funnel clouds evolve into tornadoes. Most tornadoes produce strong winds at the surface while the visible funnel is still above the ground, so it is difficult to discern the difference between a funnel cloud and a tornado from a distance.\n",
      "\n",
      "\n",
      "=== Outbreaks and families ===\n",
      "\n",
      "Occasionally, a single storm will produce more than one tornado, either simultaneously or in succession. Multiple tornadoes produced by the same storm cell are referred to as a \"tornado family\". Several tornadoes are sometimes spawned from the same large-scale storm system. If there is no break in activity, this is considered a tornado outbreak (although the term \"tornado outbreak\" has various definitions). A period of several successive days with tornado outbreaks in the same general area (spawned by multiple weather systems) is a tornado outbreak sequence, occasionally called an extended tornado outbreak.\n",
      "\n",
      "\n",
      "== Characteristics ==\n",
      "\n",
      "\n",
      "=== Size and shape ===\n",
      "\n",
      "Most tornadoes take on the appearance of a narrow funnel, a few hundred yards (meters) across, with a small cloud of debris near the ground. Tornadoes may be obscured completely by rain or dust. These tornadoes are especially dangerous, as even experienced meteorologists might not see them. Tornadoes can appear in many shapes and sizes.\n",
      "Small, relatively weak landspouts may be visible only as a small swirl of dust on the ground. Although the condensation funnel may not extend all the way to the ground, if associated surface winds are greater than 40 mph (64 km/h), the circulation is considered a tornado. A tornado with a nearly cylindrical profile and relatively low height is sometimes referred to as a \"stovepipe\" tornado. Large tornadoes which appear at least as wide as their cloud-to-ground height can look like large wedges stuck into the ground, and so are known as \"wedge tornadoes\" or \"wedges\". The \"stovepipe\" classification is also used for this type of tornado if it otherwise fits that profile. A wedge can be so wide that it appears to be a block of dark clouds, wider than the distance from the cloud base to the ground. Even experienced storm observers may not be able to tell the difference between a low-hanging cloud and a wedge tornado from a distance. Many, but not all major tornadoes are wedges.\n",
      "Tornadoes in the dissipating stage can resemble narrow tubes or ropes, and often curl or twist into complex shapes. These tornadoes are said to be \"roping out\", or becoming a \"rope tornado\". When they rope out, the length of their funnel increases, which forces the winds within the funnel to weaken due to conservation of angular momentum. Multiple-vortex tornadoes can appear as a family of swirls circling a common center, or they may be completely obscured by condensation, dust, and debris, appearing to be a single funnel.In the United States, tornadoes are around 500 feet (150 m) across on average and travel on the ground for 5 miles (8.0 km). However, there is a wide range of tornado sizes. Weak tornadoes, or strong yet dissipating tornadoes, can be exceedingly narrow, sometimes only a few feet or couple meters across. One tornado was reported to have a damage path only 7 feet (2.1 m) long. On the other end of the spectrum, wedge tornadoes can have a damage path a mile (1.6 km) wide or more. A tornado that affected Hallam, Nebraska on May 22, 2004, was up to 2.5 miles (4.0 km) wide at the ground, and a tornado in El Reno, Oklahoma on May 31, 2013 was approximately 2.6 miles (4.2 km) wide, the widest on record.In terms of path length, the Tri-State Tornado, which affected parts of Missouri, Illinois, and Indiana on March 18, 1925, was on the ground continuously for 219 miles (352 km). Many tornadoes which appear to have path lengths of 100 miles (160 km) or longer are composed of a family of tornadoes which have formed in quick succession; however, there is no substantial evidence that this occurred in the case of the Tri-State Tornado. In fact, modern reanalysis of the path suggests that the tornado may have begun 15 miles (24 km) further west than previously thought.\n",
      "\n",
      "\n",
      "=== Appearance ===\n",
      "Tornadoes can have a wide range of colors, depending on the environment in which they form. Those that form in dry environments can be nearly invisible, marked only by swirling debris at the base of the funnel. Condensation funnels that pick up little or no debris can be gray to white. While traveling over a body of water (as a waterspout), tornadoes can turn white or even blue. Slow-moving funnels, which ingest a considerable amount of debris and dirt, are usually darker, taking on the color of debris. Tornadoes in the Great Plains can turn red because of the reddish tint of the soil, and tornadoes in mountainous areas can travel over snow-covered ground, turning white.\n",
      "\n",
      "Lighting conditions are a major factor in the appearance of a tornado. A tornado which is \"back-lit\" (viewed with the sun behind it) appears very dark. The same tornado, viewed with the sun at the observer's back, may appear gray or brilliant white. Tornadoes which occur near the time of sunset can be many different colors, appearing in hues of yellow, orange, and pink.Dust kicked up by the winds of the parent thunderstorm, heavy rain and hail, and the darkness of night are all factors that can reduce the visibility of tornadoes. Tornadoes occurring in these conditions are especially dangerous, since only weather radar observations, or possibly the sound of an approaching tornado, serve as any warning to those in the storm's path. Most significant tornadoes form under the storm's updraft base, which is rain-free, making them visible. Also, most tornadoes occur in the late afternoon, when the bright sun can penetrate even the thickest clouds. Night-time tornadoes are often illuminated by frequent lightning.\n",
      "There is mounting evidence, including Doppler on Wheels mobile radar images and eyewitness accounts, that most tornadoes have a clear, calm center with extremely low pressure, akin to the eye of tropical cyclones. Lightning is said to be the source of illumination for those who claim to have seen the interior of a tornado.\n",
      "\n",
      "\n",
      "=== Rotation ===\n",
      "Tornadoes normally rotate cyclonically (when viewed from above, this is counterclockwise in the northern hemisphere and clockwise in the southern). While large-scale storms always rotate cyclonically due to the Coriolis effect, thunderstorms and tornadoes are so small that the direct influence of the Coriolis effect is unimportant, as indicated by their large Rossby numbers. Supercells and tornadoes rotate cyclonically in numerical simulations even when the Coriolis effect is neglected. Low-level mesocyclones and tornadoes owe their rotation to complex processes within the supercell and ambient environment.Approximately 1 percent of tornadoes rotate in an anticyclonic direction in the northern hemisphere. Typically, systems as weak as landspouts and gustnadoes can rotate anticyclonically, and usually only those which form on the anticyclonic shear side of the descending rear flank downdraft (RFD) in a cyclonic supercell. On rare occasions, anticyclonic tornadoes form in association with the mesoanticyclone of an anticyclonic supercell, in the same manner as the typical cyclonic tornado, or as a companion tornado either as a satellite tornado or associated with anticyclonic eddies within a supercell.\n",
      "\n",
      "\n",
      "=== Sound and seismology ===\n",
      "\n",
      "Tornadoes emit widely on the acoustics spectrum and the sounds are caused by multiple mechanisms. Various sounds of tornadoes have been reported, mostly related to familiar sounds for the witness and generally some variation of a whooshing roar. Popularly reported sounds include a freight train, rushing rapids or waterfall, a nearby jet engine, or combinations of these. Many tornadoes are not audible from much distance; the nature of and the propagation distance of the audible sound depends on atmospheric conditions and topography.\n",
      "The winds of the tornado vortex and of constituent turbulent eddies, as well as airflow interaction with the surface and debris, contribute to the sounds. Funnel clouds also produce sounds. Funnel clouds and small tornadoes are reported as whistling, whining, humming, or the buzzing of innumerable bees or electricity, or more or less harmonic, whereas many tornadoes are reported as a continuous, deep rumbling, or an irregular sound of \"noise\".Since many tornadoes are audible only when very near, sound is not to be thought of as a reliable warning signal for a tornado. Tornadoes are also not the only source of such sounds in severe thunderstorms; any strong, damaging wind, a severe hail volley, or continuous thunder in a thunderstorm may produce a roaring sound.Tornadoes also produce identifiable inaudible infrasonic signatures.Unlike audible signatures, tornadic signatures have been isolated; due to the long-distance propagation of low-frequency sound, efforts are ongoing to develop tornado prediction and detection devices with additional value in understanding tornado morphology, dynamics, and creation. Tornadoes also produce a detectable seismic signature, and research continues on isolating it and understanding the process.\n",
      "\n",
      "\n",
      "=== Electromagnetic, lightning, and other effects ===\n",
      "Tornadoes emit on the electromagnetic spectrum, with sferics and E-field effects detected. There are observed correlations between tornadoes and patterns of lightning. Tornadic storms do not contain more lightning than other storms and some tornadic cells never produce lightning at all. More often than not, overall cloud-to-ground (CG) lightning activity decreases as a tornado touches the surface and returns to the baseline level when the tornado dissipates. In many cases, intense tornadoes and thunderstorms exhibit an increased and anomalous dominance of positive polarity CG discharges. Electromagnetics and lightning have little or nothing to do directly with what drives tornadoes (tornadoes are basically a thermodynamic phenomenon), although there are likely connections with the storm and environment affecting both phenomena.\n",
      "Luminosity has been reported in the past and is probably due to misidentification of external light sources such as lightning, city lights, and power flashes from broken lines, as internal sources are now uncommonly reported and are not known to ever have been recorded. In addition to winds, tornadoes also exhibit changes in atmospheric variables such as temperature, moisture, and pressure. For example, on June 24, 2003 near Manchester, South Dakota, a probe measured a 100 mbar (hPa) (2.95 inHg) pressure decrease. The pressure dropped gradually as the vortex approached then dropped extremely rapidly to 850 mbar (hPa) (25.10 inHg) in the core of the violent tornado before rising rapidly as the vortex moved away, resulting in a V-shape pressure trace. Temperature tends to decrease and moisture content to increase in the immediate vicinity of a tornado.\n",
      "\n",
      "\n",
      "== Life cycle ==\n",
      "\n",
      "\n",
      "=== Supercell relationship ===\n",
      "\n",
      "Tornadoes often develop from a class of thunderstorms known as supercells. Supercells contain mesocyclones, an area of organized rotation a few miles up in the atmosphere, usually 1–6 miles (1.6–9.7 kilometres) across. Most intense tornadoes (EF3 to EF5 on the Enhanced Fujita Scale) develop from supercells. In addition to tornadoes, very heavy rain, frequent lightning, strong wind gusts, and hail are common in such storms.\n",
      "Most tornadoes from supercells follow a recognizable life cycle which begins when increasing rainfall drags with it an area of quickly descending air known as the rear flank downdraft (RFD). This downdraft accelerates as it approaches the ground, and drags the supercell's rotating mesocyclone towards the ground with it.\n",
      "\n",
      "\n",
      "=== Formation ===\n",
      "As the mesocyclone lowers below the cloud base, it begins to take in cool, moist air from the downdraft region of the storm. The convergence of warm air in the updraft and cool air causes a rotating wall cloud to form. The RFD also focuses the mesocyclone's base, causing it to draw air from a smaller and smaller area on the ground. As the updraft intensifies, it creates an area of low pressure at the surface. This pulls the focused mesocyclone down, in the form of a visible condensation funnel. As the funnel descends, the RFD also reaches the ground, fanning outward and creating a gust front that can cause severe damage a considerable distance from the tornado. Usually, the funnel cloud begins causing damage on the ground (becoming a tornado) within a few minutes of the RFD reaching the ground.\n",
      "\n",
      "\n",
      "=== Maturity ===\n",
      "Initially, the tornado has a good source of warm, moist air flowing inward to power it, and it grows until it reaches the \"mature stage\". This can last from a few minutes to more than an hour, and during that time a tornado often causes the most damage, and in rare cases can be more than one mile (1.6 km) across. The low pressured atmosphere at the base of the tornado is essential to the endurance of the system. Meanwhile, the RFD, now an area of cool surface winds, begins to wrap around the tornado, cutting off the inflow of warm air which previously fed the tornado.\n",
      "\n",
      "\n",
      "=== Dissipation ===\n",
      "As the RFD completely wraps around and chokes off the tornado's air supply, the vortex begins to weaken, becoming thin and rope-like. This is the \"dissipating stage\", often lasting no more than a few minutes, after which the tornado ends. During this stage, the shape of the tornado becomes highly influenced by the winds of the parent storm, and can be blown into fantastic patterns. Even though the tornado is dissipating, it is still capable of causing damage. The storm is contracting into a rope-like tube and, due to conservation of angular momentum, winds can increase at this point.As the tornado enters the dissipating stage, its associated mesocyclone often weakens as well, as the rear flank downdraft cuts off the inflow powering it. Sometimes, in intense supercells, tornadoes can develop cyclically. As the first mesocyclone and associated tornado dissipate, the storm's inflow may be concentrated into a new area closer to the center of the storm and possibly feed a new mesocyclone. If a new mesocyclone develops, the cycle may start again, producing one or more new tornadoes. Occasionally, the old (occluded) mesocyclone and the new mesocyclone produce a tornado at the same time.\n",
      "Although this is a widely accepted theory for how most tornadoes form, live, and die, it does not explain the formation of smaller tornadoes, such as landspouts, long-lived tornadoes, or tornadoes with multiple vortices. These each have different mechanisms which influence their development—however, most tornadoes follow a pattern similar to this one.\n",
      "\n",
      "\n",
      "== Types ==\n",
      "\n",
      "\n",
      "=== Multiple vortex ===\n",
      "\n",
      "A multiple-vortex tornado is a type of tornado in which two or more columns of spinning air rotate about their own axes and at the same time revolve around a common center. A multi-vortex structure can occur in almost any circulation, but is very often observed in intense tornadoes. These vortices often create small areas of heavier damage along the main tornado path. This is a phenomenon that is distinct from a satellite tornado, which is a smaller tornado that forms very near a large, strong tornado contained within the same mesocyclone. The satellite tornado may appear to \"orbit\" the larger tornado (hence the name), giving the appearance of one, large multi-vortex tornado. However, a satellite tornado is a distinct circulation, and is much smaller than the main funnel.\n",
      "\n",
      "\n",
      "=== Waterspout ===\n",
      "\n",
      "A waterspout is defined by the National Weather Service as a tornado over water. However, researchers typically distinguish \"fair weather\" waterspouts from tornadic (i.e. associated with a mesocyclone) waterspouts. Fair weather waterspouts are less severe but far more common, and are similar to dust devils and landspouts. They form at the bases of cumulus congestus clouds over tropical and subtropical waters. They have relatively weak winds, smooth laminar walls, and typically travel very slowly. They occur most commonly in the Florida Keys and in the northern Adriatic Sea. In contrast, tornadic waterspouts are stronger tornadoes over water. They form over water similarly to mesocyclonic tornadoes, or are stronger tornadoes which cross over water. Since they form from severe thunderstorms and can be far more intense, faster, and longer-lived than fair weather waterspouts, they are more dangerous. In official tornado statistics, waterspouts are generally not counted unless they affect land, though some European weather agencies count waterspouts and tornadoes together.\n",
      "\n",
      "\n",
      "=== Landspout ===\n",
      "\n",
      "A landspout, or dust-tube tornado, is a tornado not associated with a mesocyclone. The name stems from their characterization as a \"fair weather waterspout on land\". Waterspouts and landspouts share many defining characteristics, including relative weakness, short lifespan, and a small, smooth condensation funnel that often does not reach the surface. Landspouts also create a distinctively laminar cloud of dust when they make contact with the ground, due to their differing mechanics from true mesoform tornadoes. Though usually weaker than classic tornadoes, they can produce strong winds which could cause serious damage.\n",
      "\n",
      "\n",
      "=== Similar circulations ===\n",
      "\n",
      "\n",
      "==== Gustnado ====\n",
      "\n",
      "A gustnado, or gust front tornado, is a small, vertical swirl associated with a gust front or downburst. Because they are not connected with a cloud base, there is some debate as to whether or not gustnadoes are tornadoes. They are formed when fast-moving cold, dry outflow air from a thunderstorm is blown through a mass of stationary, warm, moist air near the outflow boundary, resulting in a \"rolling\" effect (often exemplified through a roll cloud). If low level wind shear is strong enough, the rotation can be turned vertically or diagonally and make contact with the ground. The result is a gustnado. They usually cause small areas of heavier rotational wind damage among areas of straight-line wind damage.\n",
      "\n",
      "\n",
      "==== Dust devil ====\n",
      "\n",
      "A dust devil (also known as a whirlwind) resembles a tornado in that it is a vertical swirling column of air. However, they form under clear skies and are no stronger than the weakest tornadoes. They form when a strong convective updraft is formed near the ground on a hot day. If there is enough low-level wind shear, the column of hot, rising air can develop a small cyclonic motion that can be seen near the ground. They are not considered tornadoes because they form during fair weather and are not associated with any clouds. However, they can, on occasion, result in major damage.\n",
      "\n",
      "\n",
      "==== Fire whirls ====\n",
      "\n",
      "Small-scale, tornado-like circulations can occur near any intense surface heat source. Those that occur near intense wildfires are called fire whirls. They are not considered tornadoes, except in the rare case where they connect to a pyrocumulus or other cumuliform cloud above. Fire whirls usually are not as strong as tornadoes associated with thunderstorms. They can, however, produce significant damage.\n",
      "\n",
      "\n",
      "==== Steam devils ====\n",
      "\n",
      "A steam devil is a rotating updraft between 50 and 200 meters wide that involves steam or smoke. These formations do not involve high wind speeds, only completing a few rotations per minute. Steam devils are very rare. They most often form from smoke issuing from a power plant's smokestack. Hot springs and deserts may also be suitable locations for a tighter, faster-rotating steam devil to form. The phenomenon can occur over water, when cold arctic air passes over relatively warm water.\n",
      "\n",
      "\n",
      "== Intensity and damage ==\n",
      "\n",
      "The Fujita scale and the Enhanced Fujita Scale rate tornadoes by damage caused. The Enhanced Fujita (EF) Scale was an update to the older Fujita scale, by expert elicitation, using engineered wind estimates and better damage descriptions. The EF Scale was designed so that a tornado rated on the Fujita scale would receive the same numerical rating, and was implemented starting in the United States in 2007. An EF0 tornado will probably damage trees but not substantial structures, whereas an EF5 tornado can rip buildings off their foundations leaving them bare and even deform large skyscrapers. The similar TORRO scale ranges from a T0 for extremely weak tornadoes to T11 for the most powerful known tornadoes. Doppler weather radar data, photogrammetry, and ground swirl patterns (cycloidal marks) may also be analyzed to determine intensity and award a rating.\n",
      "\n",
      "Tornadoes vary in intensity regardless of shape, size, and location, though strong tornadoes are typically larger than weak tornadoes. The association with track length and duration also varies, although longer track tornadoes tend to be stronger. In the case of violent tornadoes, only a small portion of the path is of violent intensity, most of the higher intensity from subvortices.In the United States, 80% of tornadoes are EF0 and EF1 (T0 through T3) tornadoes. The rate of occurrence drops off quickly with increasing strength—less than 1% are violent tornadoes (EF4, T8 or stronger). Current records may significantly underestimate the frequency of strong (EF2-EF3) and violent (EF4-EF5) tornadoes, as damage-based intensity estimates are limited to structures and vegetation that a tornado impacts. A tornado may be much stronger winds than its damage-based rating indicates if its strongest winds occur away from suitable damage indicators, such as in an open field. Outside Tornado Alley, and North America in general, violent tornadoes are extremely rare. This is apparently mostly due to the lesser number of tornadoes overall, as research shows that tornado intensity distributions are fairly similar worldwide. A few significant tornadoes occur annually in Europe, Asia, southern Africa, and southeastern South America.\n",
      "\n",
      "\n",
      "== Climatology ==\n",
      "\n",
      "The United States has the most tornadoes of any country, nearly four times more than estimated in all of Europe, excluding waterspouts. This is mostly due to the unique geography of the continent. North America is a large continent that extends from the tropics north into arctic areas, and has no major east–west mountain range to block air flow between these two areas. In the middle latitudes, where most tornadoes of the world occur, the Rocky Mountains block moisture and buckle the atmospheric flow, forcing drier air at mid-levels of the troposphere due to downsloped winds, and causing the formation of a low pressure area downwind to the east of the mountains. Increased westerly flow off the Rockies force the formation of a dry line when the flow aloft is strong, while the Gulf of Mexico fuels abundant low-level moisture in the southerly flow to its east. This unique topography allows for frequent collisions of warm and cold air, the conditions that breed strong, long-lived storms throughout the year. A large portion of these tornadoes form in an area of the central United States known as Tornado Alley. This area extends into Canada, particularly Ontario and the Prairie Provinces, although southeast Quebec, the interior of British Columbia, and western New Brunswick are also tornado-prone. Tornadoes also occur across northeastern Mexico.The United States averages about 1,200 tornadoes per year, followed by Canada, averaging 62 reported per year. NOAA's has a higher average 100 per year in Canada. The Netherlands has the highest average number of recorded tornadoes per area of any country (more than 20, or 0.0013 per sq mi (0.00048 per km2), annually), followed by the UK (around 33, or 0.00035 per sq mi (0.00013 per km2), per year), although those are of lower intensity, briefer and cause minor damage.\n",
      "\n",
      "Tornadoes kill an average of 179 people per year in Bangladesh, the most in the world. Reasons for this include the region's high population density, poor construction quality, and lack of tornado safety knowledge. Other areas of the world that have frequent tornadoes include South Africa, the La Plata Basin area, portions of Europe, Australia and New Zealand, and far eastern Asia.Tornadoes are most common in spring and least common in winter, but tornadoes can occur any time of year that favorable conditions occur. Spring and fall experience peaks of activity as those are the seasons when stronger winds, wind shear, and atmospheric instability are present. Tornadoes are focused in the right front quadrant of landfalling tropical cyclones, which tend to occur in the late summer and autumn. Tornadoes can also be spawned as a result of eyewall mesovortices, which persist until landfall.Tornado occurrence is highly dependent on the time of day, because of solar heating. Worldwide, most tornadoes occur in the late afternoon, between 3 pm and 7 pm local time, with a peak near 5 pm. Destructive tornadoes can occur at any time of day. The Gainesville Tornado of 1936, one of the deadliest tornadoes in history, occurred at 8:30 am local time.The United Kingdom has the highest incidence of tornadoes per unit area of land in the world. Unsettled conditions and weather fronts transverse the British Isles at all times of the years, and are responsible for spawning the tornadoes, which consequently form at all times of the year. The United Kingdom has at least 34 tornadoes per year and possibly as many as 50. Most tornadoes in the United Kingdom are weak, but they are occasionally destructive. For example, the Birmingham tornado of 2005 and the London tornado of 2006 both registered F2 on the Fujita scale and both caused significant damage and injury.\n",
      "\n",
      "\n",
      "=== Associations with climate and climate change ===\n",
      "\n",
      "Associations with various climate and environmental trends exist. For example, an increase in the sea surface temperature of a source region (e.g. Gulf of Mexico and Mediterranean Sea) increases atmospheric moisture content. Increased moisture can fuel an increase in severe weather and tornado activity, particularly in the cool season.Some evidence does suggest that the Southern Oscillation is weakly correlated with changes in tornado activity, which vary by season and region, as well as whether the ENSO phase is that of El Niño or La Niña. Research has found that fewer tornadoes and hailstorms occur in winter and spring in the U.S. central and southern plains during El Niño, and more occur during La Niña, than in years when temperatures in the Pacific are relatively stable. Ocean conditions could be used to forecast extreme spring storm events several months in advance.Climatic shifts may affect tornadoes via teleconnections in shifting the jet stream and the larger weather patterns. The climate-tornado link is confounded by the forces affecting larger patterns and by the local, nuanced nature of tornadoes. Although it is reasonable to suspect that global warming may affect trends in tornado activity, any such effect is not yet identifiable due to the complexity, local nature of the storms, and database quality issues. Any effect would vary by region.\n",
      "\n",
      "\n",
      "== Detection ==\n",
      "\n",
      "Rigorous attempts to warn of tornadoes began in the United States in the mid-20th century. Before the 1950s, the only method of detecting a tornado was by someone seeing it on the ground. Often, news of a tornado would reach a local weather office after the storm. However, with the advent of weather radar, areas near a local office could get advance warning of severe weather. The first public tornado warnings were issued in 1950 and the first tornado watches and convective outlooks came about in 1952. In 1953, it was confirmed that hook echoes were associated with tornadoes. By recognizing these radar signatures, meteorologists could detect thunderstorms probably producing tornadoes from several miles away.\n",
      "\n",
      "\n",
      "=== Radar ===\n",
      "\n",
      "Today most developed countries have a network of weather radars, which serves as the primary method of detecting hook signatures that are likely associated with tornadoes. In the United States and a few other countries, Doppler weather radar stations are used. These devices measure the velocity and radial direction (towards or away from the radar) of the winds within a storm, and so can spot evidence of rotation in storms from over one hundred miles (160 km) away. When storms are distant from a radar, only areas high within the storm are observed and the important areas below are not sampled. Data resolution also decreases with distance from the radar. Some meteorological situations leading to tornadogenesis are not readily detectable by radar and tornado development may occasionally take place more quickly than radar can complete a scan and send the batch of data. Doppler radar systems can detect mesocyclones within a supercell thunderstorm. This allows meteorologists to predict tornado formations throughout thunderstorms.\n",
      "\n",
      "\n",
      "=== Storm spotting ===\n",
      "In the mid-1970s, the U.S. National Weather Service (NWS) increased its efforts to train storm spotters so they could spot key features of storms that indicate severe hail, damaging winds, and tornadoes, as well as storm damage and flash flooding. The program was called Skywarn, and the spotters were local sheriff's deputies, state troopers, firefighters, ambulance drivers, amateur radio operators, civil defense (now emergency management) spotters, storm chasers, and ordinary citizens. When severe weather is anticipated, local weather service offices request these spotters to look out for severe weather and report any tornadoes immediately, so that the office can warn of the hazard.\n",
      "Spotters usually are trained by the NWS on behalf of their respective organizations, and report to them. The organizations activate public warning systems such as sirens and the Emergency Alert System (EAS), and they forward the report to the NWS.\n",
      "There are more than 230,000 trained Skywarn weather spotters across the United States.In Canada, a similar network of volunteer weather watchers, called Canwarn, helps spot severe weather, with more than 1,000 volunteers. In Europe, several nations are organizing spotter networks under the auspices of Skywarn Europe and the Tornado and Storm Research Organisation (TORRO) has maintained a network of spotters in the United Kingdom since 1974.Storm spotters are required because radar systems such as NEXRAD  detect signatures that suggest the presence of tornadoes, rather than tornadoes as such. Radar may give a warning before there is any visual evidence of a tornado or an imminent one, but ground truth from an observer can give definitive information. The spotter's ability to see what radar cannot is especially important as distance from the radar site increases, because the radar beam becomes progressively higher in altitude further away from the radar, chiefly due to curvature of Earth, and the beam also spreads out.\n",
      "\n",
      "\n",
      "=== Visual evidence ===\n",
      "\n",
      "Storm spotters are trained to discern whether or not a storm seen from a distance is a supercell. They typically look to its rear, the main region of updraft and inflow. Under that updraft is a rain-free base, and the next step of tornadogenesis is the formation of a rotating wall cloud. The vast majority of intense tornadoes occur with a wall cloud on the backside of a supercell.Evidence of a supercell is based on the storm's shape and structure, and cloud tower features such as a hard and vigorous updraft tower, a persistent, large overshooting top, a hard anvil (especially when backsheared against strong upper level winds), and a corkscrew look or striations. Under the storm and closer to where most tornadoes are found, evidence of a supercell and the likelihood of a tornado includes inflow bands (particularly when curved) such as a \"beaver tail\", and other clues such as strength of inflow, warmth and moistness of inflow air, how outflow- or inflow-dominant a storm appears, and how far is the front flank precipitation core from the wall cloud. Tornadogenesis is most likely at the interface of the updraft and rear flank downdraft, and requires a balance between the outflow and inflow.Only wall clouds that rotate spawn tornadoes, and they usually precede the tornado between five and thirty minutes. Rotating wall clouds may be a visual manifestation of a low-level mesocyclone. Barring a low-level boundary, tornadogenesis is highly unlikely unless a rear flank downdraft occurs, which is usually visibly evidenced by evaporation of cloud adjacent to a corner of a wall cloud. A tornado often occurs as this happens or shortly afterwards; first, a funnel cloud dips and in nearly all cases by the time it reaches halfway down, a surface swirl has already developed, signifying a tornado is on the ground before condensation connects the surface circulation to the storm. Tornadoes may also develop without wall clouds, under flanking lines and on the leading edge. Spotters watch all areas of a storm, and the cloud base and surface.\n",
      "\n",
      "\n",
      "== Extremes ==\n",
      "\n",
      "The tornado which holds most records in history was the Tri-State Tornado, which roared through parts of Missouri, Illinois, and Indiana on March 18, 1925. It was likely an F5, though tornadoes were not ranked on any scale in that era. It holds records for longest path length (219 miles; 352 km), longest duration (about 3.5 hours), and fastest forward speed for a significant tornado (73 mph; 117 km/h) anywhere on Earth. In addition, it is the deadliest single tornado in United States history (695 dead). The tornado was also the costliest tornado in history at the time (unadjusted for inflation), but in the years since has been surpassed by several others if population changes over time are not considered. When costs are normalized for wealth and inflation, it ranks third today.The deadliest tornado in world history was the Daultipur-Salturia Tornado in Bangladesh on April 26, 1989, which killed approximately 1,300 people. Bangladesh has had at least 19 tornadoes in its history that killed more than 100 people, almost half of the total in the rest of the world.\n",
      "The most extensive tornado outbreak on record was the 2011 Super Outbreak, which spawned 360 confirmed tornadoes over the southeastern United States, 216 of them within a single 24-hour period. The previous record was the 1974 Super Outbreak which spawned 148 tornadoes.\n",
      "While direct measurement of the most violent tornado wind speeds is nearly impossible, since conventional anemometers would be destroyed by the intense winds and flying debris, some tornadoes have been scanned by mobile Doppler radar units, which can provide a good estimate of the tornado's winds. The highest wind speed ever measured in a tornado, which is also the highest wind speed ever recorded on the planet, is 301 ± 20 mph (484 ± 32 km/h) in the F5 Bridge Creek-Moore, Oklahoma, tornado which killed 36 people. The reading was taken about 100 feet (30 m) above the ground.Storms that produce tornadoes can feature intense updrafts, sometimes exceeding 150 mph (240 km/h). Debris from a tornado can be lofted into the parent storm and carried a very long distance. A tornado which affected Great Bend, Kansas, in November 1915, was an extreme case, where a \"rain of debris\" occurred 80 miles (130 km) from the town, a sack of flour was found 110 miles (180 km) away, and a cancelled check from the Great Bend bank was found in a field outside of Palmyra, Nebraska, 305 miles (491 km) to the northeast. Waterspouts and tornadoes have been advanced as an explanation for instances of raining fish and other animals.\n",
      "\n",
      "\n",
      "== Safety ==\n",
      "\n",
      "Though tornadoes can strike in an instant, there are precautions and preventative measures that can be taken to increase the chances of survival. Authorities such as the Storm Prediction Center advise having a pre-determined plan should a tornado warning be issued. When a warning is issued, going to a basement or an interior first-floor room of a sturdy building greatly increases chances of survival. In tornado-prone areas, many buildings have underground storm cellars, which have saved thousands of lives.Some countries have meteorological agencies which distribute tornado forecasts and increase levels of alert of a possible tornado (such as tornado watches and warnings in the United States and Canada). Weather radios provide an alarm when a severe weather advisory is issued for the local area, mainly available only in the United States. Unless the tornado is far away and highly visible, meteorologists advise that drivers park their vehicles far to the side of the road (so as not to block emergency traffic), and find a sturdy shelter. If no sturdy shelter is nearby, getting low in a ditch is the next best option. Highway overpasses are one of the worst places to take shelter during tornadoes, as the constricted space can be subject to increased wind speed and funneling of debris underneath the overpass.\n",
      "\n",
      "\n",
      "== Myths and misconceptions ==\n",
      "\n",
      "Folklore often identifies a green sky with tornadoes, and though the phenomenon may be associated with severe weather, there is no evidence linking it specifically with tornadoes. It is often thought that opening windows will lessen the damage caused by the tornado. While there is a large drop in atmospheric pressure inside a strong tornado, the pressure difference is unlikely to cause significant damage. Opening windows may instead increase the severity of the tornado's damage. A violent tornado can destroy a house whether its windows are open or closed.\n",
      "\n",
      "Another commonly held misconception is that highway overpasses provide adequate shelter from tornadoes. This belief is partly inspired by widely circulated video captured during the 1991 tornado outbreak near Andover, Kansas, where a news crew and several other people took shelter under an overpass on the Kansas Turnpike and safely rode out a tornado as it passed by. However, a highway overpass is a dangerous place during a tornado, and the subjects of the video remained safe due to an unlikely combination of events: the storm in question was a weak tornado, the tornado did not directly strike the overpass, and the overpass itself was of a unique design. Due to the Venturi effect, tornadic winds are accelerated in the confined space of an overpass. Indeed, in the 1999 Oklahoma tornado outbreak of May 3, 1999, three highway overpasses were directly struck by tornadoes, and at each of the three locations there was a fatality, along with many life-threatening injuries. By comparison, during the same tornado outbreak, more than 2,000 homes were completely destroyed and another 7,000 damaged, and yet only a few dozen people died in their homes.An old belief is that the southwest corner of a basement provides the most protection during a tornado. The safest place is the side or corner of an underground room opposite the tornado's direction of approach (usually the northeast corner), or the central-most room on the lowest floor. Taking shelter in a basement, under a staircase, or under a sturdy piece of furniture such as a workbench further increases the chances of survival.There are areas which people believe to be protected from tornadoes, whether by being in a city, near a major river, hill, or mountain, or even protected by supernatural forces. Tornadoes have been known to cross major rivers, climb mountains, affect valleys, and have damaged several city centers. As a general rule, no area is safe from tornadoes, though some areas are more susceptible than others.\n",
      "\n",
      "\n",
      "== Ongoing research ==\n",
      "\n",
      "Meteorology is a relatively young science and the study of tornadoes is newer still. Although researched for about 140 years and intensively for around 60 years, there are still aspects of tornadoes which remain a mystery. Scientists have a fairly good understanding of the development of thunderstorms and mesocyclones, and the meteorological conditions conducive to their formation. However, the step from supercell, or other respective formative processes, to tornadogenesis and the prediction of tornadic vs. non-tornadic mesocyclones is not yet well known and is the focus of much research.Also under study are the low-level mesocyclone and the stretching of low-level vorticity which tightens into a tornado, in particular, what are the processes and what is the relationship of the environment and the convective storm. Intense tornadoes have been observed forming simultaneously with a mesocyclone aloft (rather than succeeding mesocyclogenesis) and some intense tornadoes have occurred without a mid-level mesocyclone.In particular, the role of downdrafts, particularly the rear-flank downdraft, and the role of baroclinic boundaries, are intense areas of study.Reliably predicting tornado intensity and longevity remains a problem, as do details affecting characteristics of a tornado during its life cycle and tornadolysis. Other rich areas of research are tornadoes associated with mesovortices within linear thunderstorm structures and within tropical cyclones.Scientists still do not know the exact mechanisms by which most tornadoes form, and occasional tornadoes still strike without a tornado warning being issued. Analysis of observations including both stationary and mobile (surface and aerial) in-situ and remote sensing (passive and active) instruments generates new ideas and refines existing notions. Numerical modeling also provides new insights as observations and new discoveries are integrated into our physical understanding and then tested in computer simulations which validate new notions as well as produce entirely new theoretical findings, many of which are otherwise unattainable. Importantly, development of new observation technologies and installation of finer spatial and temporal resolution observation networks have aided increased understanding and better predictions.Research programs, including field projects such as the VORTEX projects (Verification of the Origins of Rotation in Tornadoes Experiment), deployment of TOTO (the TOtable Tornado Observatory), Doppler on Wheels (DOW), and dozens of other programs, hope to solve many questions that still plague meteorologists. Universities, government agencies such as the National Severe Storms Laboratory, private-sector meteorologists, and the National Center for Atmospheric Research are some of the organizations very active in research; with various sources of funding, both private and public, a chief entity being the National Science Foundation. The pace of research is partly constrained by the number of observations that can be taken; gaps in information about the wind, pressure, and moisture content throughout the local atmosphere; and the computing power available for simulation.Solar storms similar to tornadoes have been recorded, but it is unknown how closely related they are to their terrestrial counterparts.\n",
      "\n",
      "\n",
      "== Gallery ==\n",
      "\n",
      "\t\t\n",
      "\t\t\n",
      "\t\t\n",
      "\t\t\n",
      "\t\t\n",
      "\t\t\n",
      "\n",
      "\n",
      "== See also ==\n",
      "\n",
      "\n",
      "== References ==\n",
      "\n",
      "\n",
      "== Further reading ==\n",
      "Howard B. Bluestein (1999). Tornado Alley: Monster Storms of the Great Plains. New York: Oxford University Press. ISBN 978-0-19-510552-0.\n",
      "Marlene Bradford (2001). Scanning the Skies: A History of Tornado Forecasting. Norman, OK: University of Oklahoma Press. ISBN 978-0-8061-3302-7.\n",
      "Thomas P. Grazulis (January 1997). Significant Tornadoes Update, 1992–1995. St. Johnsbury, VT: Environmental Films. ISBN 978-1-879362-04-8.\n",
      "Pybus, Nani, \"'Cyclone' Jones: Dr. Herbert L. Jones and the Origins of Tornado Research in Oklahoma,\" Chronicles of Oklahoma 94 (Spring 2016), 4–31. Heavily illustrated.\n",
      "\n",
      "\n",
      "== External links ==\n",
      "\n",
      "NOAA Storm Events Database 1950–present\n",
      "European Severe Weather Database\n",
      "Tornado Detection and Warnings\n",
      "Electronic Journal of Severe Storms Meteorology\n",
      "NOAA Tornado Preparedness Guide\n",
      "Tornado History Project – Maps and statistics from 1950 to present\n",
      "Physics Today What we know and don't know about Tornadoes September 2014\n",
      "U.S. Billion-dollar Weather and Climate Disasters\n"
     ]
    }
   ],
   "source": [
    "wiki.set_lang(\"en\")\n",
    "article = wiki.page('Tornado', auto_suggest = False)\n",
    "print(article.content)"
   ]
  },
  {
   "cell_type": "code",
   "execution_count": null,
   "metadata": {},
   "outputs": [],
   "source": []
  }
 ],
 "metadata": {
  "kernelspec": {
   "display_name": "Python 3",
   "language": "python",
   "name": "python3"
  },
  "language_info": {
   "codemirror_mode": {
    "name": "ipython",
    "version": 3
   },
   "file_extension": ".py",
   "mimetype": "text/x-python",
   "name": "python",
   "nbconvert_exporter": "python",
   "pygments_lexer": "ipython3",
   "version": "3.7.4"
  }
 },
 "nbformat": 4,
 "nbformat_minor": 2
}
