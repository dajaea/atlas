{
 "cells": [
  {
   "cell_type": "code",
   "execution_count": 1,
   "metadata": {},
   "outputs": [
    {
     "name": "stderr",
     "output_type": "stream",
     "text": [
      "C:\\Users\\Owner\\Anaconda3\\lib\\site-packages\\requests\\__init__.py:91: RequestsDependencyWarning: urllib3 (1.26.4) or chardet (3.0.4) doesn't match a supported version!\n",
      "  RequestsDependencyWarning)\n"
     ]
    }
   ],
   "source": [
    "import wikipedia as wiki\n",
    "from google_trans_new import google_translator\n",
    "translator = google_translator()  \n"
   ]
  },
  {
   "cell_type": "code",
   "execution_count": 2,
   "metadata": {},
   "outputs": [],
   "source": [
    "en_all_topics = ['Physiotherapy', 'what', 'Politics', 'into', 'Exercise', 'Agriculture', 'an', 'Prehistory', 'Intelligence', 'computer', 'Natural', 'Reason', 'density', 'Forensics', 'Sociology', 'Geographic', 'Meaning', 'Packaging', 'Longevity', 'Common', 'Transhumanism', 'ism', 'Egypt', 'anatomy', 'Preventive', 'Persuasion', 'Mining', 'Sex', 'communication', 'Biotechnology', 'overview', 'Educating', 'storage', 'Body', 'Genomics', 'Botany', 'Mental', 'Telecommunications', 'Health', 'Architecture', 'India', 'Statistics', 'Impact', 'Communication', 'key', 'Greece', 'Traveling', 'presenting', 'Subregion', 'invention', 'Childraising', 'Physiology', 'List', 'Genetics', 'body', 'Happiness', 'Mythology', 'Zoology', 'Creative', 'Future', 'Appropriate', 'care', 'Informatics', 'the', 'Commons', 'Industry', 'Engineering', 'Education', 'included', 'Philosophy', 'determinism', 'economics', 'Civil', 'Mind', 'Timeline', 'Parasitology', 'Goodness', 'activities', 'by', 'Group', 'industry', 'Entertainment', 'Pollution', 'East', 'War', 'Navigation', 'Language', 'Knowledge', 'area', 'Diffusion', 'growth', 'orientation', 'consumption', 'a', 'Leisure', 'Electronics', 'on', 'Technorealism', 'periods', 'in', 'Underwater', 'subject', 'Posthumanism', 'Social', 'is', 'Robotics', 'transfer', 'Processes', 'social', 'Military', 'philosophy', 'policy', 'health', 'Modern', 'Crime', 'thinking', 'concepts', 'analysis', 'lifecycle', 'Innovation', 'Archaeology', 'People', 'Traditions', 'religion', 'Virtues', 'Recreation', 'Law', 'History', 'Map', 'Firefighting', '13', 'Spirituality', 'Homicide', 'Accelerating', 'Medicine', 'Demographics', 'Rhetoric', 'Strategy', 'convergence', 'issue', 'Information', 'forecasting', 'Automation', 'Physical', 'biology', 'Biology', 'life', 'Pharmacy', 'making', 'Technocapitalism', 'Food', 'Precautionary', 'Doomsday', 'Technology', 'studies', 'Region', 'Massage', 'Biochemistry', 'software', 'effects', 'Origin', 'Internet', 'Biophysics', 'diving', 'Unsolved', 'Futurology', 'science', 'Hobbies', 'disparities', 'identity', 'Arts', 'Surveying', 'Worship', 'Moral', 'Decision', 'Nanotechnology', 'Techno', 'value', 'information', 'Biological', 'extension', 'Global', 'Occupational', 'providing', 'Paleontology', 'Logic', 'singularity', 'Construction', 'Thinking', 'human', 'Globalization', 'device', 'Atlas', 'Teaching', 'Feminist', 'Marine', 'fitness', 'Nuclear', 'Cultural', 'Biography', 'Character', 'Mesoamerica', 'Governance', 'Life', 'Rome', 'alternative', 'geography', 'Ethology', 'Agricultural', 'events', 'Spatial', 'Identity', 'Research', 'Place', 'Design', 'Technological', 'processes', 'Memory', 'Self', 'Personality', 'Person', 'Linguistics', 'Superpowers', 'Transporting', 'Development', 'Classics', 'Science', 'Geography', 'Awareness', 'Psychology', 'anthropology', 'Agronomy', 'outline', 'Sport', 'linguistics', 'Cars', 'principle', 'self', 'Climate', 'sense', 'engineering', 'Cell', 'covered', 'major', 'sections', 'General', 'Celebrities', 'Weapons', 'acceptance', 'character', 'change', 'evolution', 'Publishing', 'assessment', 'Neuroscience', 'An', 'Developmental', 'Energy', 'each', 'Harassment', 'Machines', 'labeling', 'Exploration', 'High', 'Shopping', 'progressivism', 'Mechanical', 'belief', 'Taxonomy', 'Cartography', 'model', 'Personal', 'Religion', 'culture', 'China', 'Chemical', 'Resource', 'Space', 'Ethnic', 'Library', 'or', 'medicine', 'sciences', 'and', 'Public', 'neuroscience', 'Industrialisation', 'Overconsumption', 'Reproduction', 'Spending', 'composition', 'Automobile', 'Protohistory', 'Dentistry', 'Histology', 'Middle', 'history', 'technology', 'Tourism', 'articles', 'Below', 'exploration', 'Problem', 'Astrobiology', 'Technologies', 'Big', 'Tree', 'overpopulation', 'Ancient', 'Popular', 'issues', 'problems', 'Movements', 'Heuristic', 'places', 'Warfare', 'divided', 'Mass', 'solving', 'Microbiology', 'Individual', 'logic', 'economy', 'genetics', 'development', 'Immunology', 'Consciousness', 'commons', 'Child', 'physical', 'groups', 'Tools', 'Complementary', 'therapy', 'Babysitting', 'Manufacturing', 'Ecology', 'Population', 'time', 'Culture', 'respective', 'equipment', 'Human', 'systems', 'Park', 'Systems', 'Being', 'Wikipedia', 'Political', 'Aerospace', 'Critical', 'Humanities', 'Evolutionary', 'Bioinformatics', 'Economics', 'Cognitive', 'Technocriticism', 'Optometry', 'Pathology', 'society', 'Electrical', 'enforcement', 'Anthropology', 'Learning', 'Practicing', 'innovations', 'Speech', 'diffusion', 'Free', 'Management', 'Mathematics', 'City', 'Formal', 'theory', 'production', 'applied', 'Molecular', 'Anatomy', 'Computational', 'system', 'arts', 'Society', 'Forestry', 'Theoretical', 'Ergonomics', 'Gender', 'of', 'region', 'Values', 'reference', 'Infrastructure', 'activity', 'survey', 'Earth']"
   ]
  },
  {
   "cell_type": "code",
   "execution_count": 3,
   "metadata": {},
   "outputs": [],
   "source": [
    "topic = 'culinary science'  #en_all_topics[0]\n",
    "wiki.set_lang(\"en\")\n",
    "en_topic_content = (wiki.page(topic).content)\n",
    "\n",
    "wiki.set_lang(\"zh\")\n",
    "zh_topic_content = translator.translate(wiki.page(topic).content, lang_tgt = 'en')"
   ]
  },
  {
   "cell_type": "code",
   "execution_count": 4,
   "metadata": {},
   "outputs": [
    {
     "name": "stdout",
     "output_type": "stream",
     "text": [
      "Culinary arts, in which culinary means \"related to cooking\", are the cuisine arts of food preparation, cooking, and presentation of food, usually in the form of meals. People working in this field – especially in establishments such as restaurants – are commonly called \"chefs\" or \"cooks\", although, at its most general, the terms \"culinary artist\" and \"culinarian\" are also used. Table manners (\"the table arts\") are sometimes referred to as a culinary art.\n",
      "Expert chefs are required to have knowledge of food science, nutrition and diet and are responsible for preparing meals that are as pleasing to the eye as they are to the palate. After restaurants, their primary places of work include delicatessens and relatively large institutions such as hotels and hospitals.\n",
      "\n",
      "\n",
      "== History ==\n",
      "The origins of culinary began with primitive humans roughly 2 million years ago. There are various theories as to how early humans used fire to cook meat. According to anthropologist Richard Wrangham, author of Catching Fire: How Cooking Made Us Human, primitive humans simply tossed a raw hunk of meat into the flames and watched it sizzle. Another theory claims humans may first have savoured roasted meat by chance when the flesh of a beast killed in a forest fire was found to be more appetizing and easier to chew and digest than the conventional raw meat.\n",
      "Culinary techniques improved with the introduction of earthenware and stoneware, the domestication of livestock, and advancements in agriculture. In early civilizations, the primary employers of professional chefs were kings, aristocrats, or priests. The divide between professional chefs cooking for the wealthy and peasants cooking for their families engendered the development of many cuisines.\n",
      "A great deal of the study of culinary arts in Europe was organized by Jean Anthelme Brillat-Savarin, a man famous for his quote \"Tell me what you eat, and I will tell you what you are\", which has since been mistranslated and oversimplified into \"You are what you eat\". Other people helped to parse out the different parts of food science and gastronomy. Over time, increasingly deeper and more detailed studies into foods and the culinary arts has led to a greater wealth of knowledge.\n",
      "In Asia, a similar path led to a separate study of the culinary arts, which later essentially merged with the Western counterpart. In the modern international marketplace, there is no longer a distinct divide between Western and Eastern foods. Culinary arts students today, generally speaking, are introduced to the different cuisines of many different cultures from around the world.\n",
      "The culinary arts, in the Western world, as a craft and later as a field of study, began to evolve at the end of the Renaissance period. Prior to this, chefs worked in castles, cooking for kings and queens, as well as their families, guests, and other workers of the castle. As Monarchical rule became phased out as a modality, the chefs took their craft to inns and hotels. From here, the craft evolved into a field of study.\n",
      "Before cooking institutions, professional cooks were mentors for individual students who apprenticed under them. In 1879, the first cooking school was founded in the United States: the Boston Cooking School. This school standardized cooking practices and recipes, and laid the groundwork for the culinary arts schools that would follow.\n",
      "\n",
      "\n",
      "== Tools and techniques ==\n",
      "\n",
      "An integral part of the culinary arts are the tools, known as cooking or kitchen utensils, that are used by both professional chefs and home cooks alike. Professionals in the culinary arts often call these utensils by the French term \"batterie de cuisine\". These tools vary in materials and use. Cooking implements are made with anything from wood, glass, various types of metals, to the newer silicone and plastic that can be seen in many kitchens today.\n",
      "Within the realm of the culinary arts, there is a wide array of different cooking techniques that originate from various cultures and continue to develop over time as these techniques are shared between cultures and progress with new technology. Different cooking techniques require the use of certain tools, foods and heat sources in order to produce a specific desired result. The professional kitchen may utilize certain techniques that a home cook might not, such as the use of an expensive professional grill but, cooking methods of various kinds can be found in any kitchen at virtually any point in modern human history.\n",
      "\n",
      "\n",
      "== Professional study ==\n",
      "Modern culinary arts students study many different aspects of food. Specific areas of study include butchery, chemistry and thermodynamics, visual presentation, food safety, human nutrition and physiology, international history, the manufacture of food items (such as the milling of wheat into flour or the refining of cane plants into crystalline sucrose), and many others.\n",
      "Training in culinary arts is possible in most countries around the world usually at tertiary level (university) with institutions government funded, privately funded or commercial.\n",
      "\n",
      "\n",
      "== See also ==\n",
      "\n",
      "\n",
      "== References ==\n",
      "\n",
      "\n",
      "== Bibliography ==\n",
      "\"Cooking Schools 101\". Cooking Schools. N.p., n.d. Web. 17 September 2013\n",
      "\"History\". Of Culinary Archives & Museum. N.p., n.d. Web. 17 September 2013\n",
      "\"History of Culinary\". Culinary Arts information RSS. N.p., nd. web.17 September 2013\n",
      "\"History of Culinary Arts\". Culinary Arts Information RSS. N.p,. web. 17 September 2013\n",
      "\"The Culinary Timeline\". The Culinary Timeline. N.p,.web. 17 September 2013\n",
      "Olver, Lynne. \"The Food Timeline\". The Food Timeline.\n",
      "\n",
      "\n",
      "== Further reading ==\n",
      "Beal, Eileen. Choosing a career in the restaurant industry. New York: Rosen Pub. Group, 1997.\n",
      "Institute for Research. Careers and jobs in the restaurant business: jobs, management, ownership. Chicago: The Institute, 1977.\n",
      "\n",
      "\n",
      "== External links ==\n",
      "U.S. Department of Labor – Food Service Manager Information.\n",
      "Culinary Art\n",
      "U.S Department of Labor – Chefs, Head Cooks, and Food Preparation and Serving Supervisors Information.\n"
     ]
    }
   ],
   "source": [
    "print(en_topic_content)"
   ]
  },
  {
   "cell_type": "code",
   "execution_count": 5,
   "metadata": {
    "scrolled": true
   },
   "outputs": [
    {
     "name": "stdout",
     "output_type": "stream",
     "text": [
      "Molecular food (English: molecular gastronomy) is also known as molecular food, molecular cuisine, is known as future food, artificial cuisine, so-called molecular food refers to glucose (C6H12O6), vitamin C (C68O6), citric acid (C68O7) , Maltitol (C12H24O11), etc., the edible chemicals, combined or alter the molecular structure of the ingredients, and recombine. That is, an infinite food is manufactured from the perspective of molecules, which is no longer limited by factors such as geographic conditions, production. Some scientists believe that \"artificial\" food is very likely to solve the problem of some local food shortages.\n",
      "\n",
      "\n",
      "== Production / Reproduction ==\n",
      "Big kitchen uses a variety of strange tools, through physical or chemical changes, completely dispel the taste, taste, texture, appearance of ingredients, and then \"combine\" into a new dish. For example, turning the solid's ingredients into liquid or even gas, or makes a flavor and appearance of a ingredients like another ingredient. Such as: Caviar made of vegetables, ice cream-like potatoes, cream with the eggs made by the chest, jelly into a sashimi sushi, foam pastry, etc. But the top-level food production is as complicated as scientific experiments, the difficulty is extremely difficult, so the price is also very high.\n",
      "\n",
      "\n",
      "== cotton candy ==\n",
      "Common marshmallows are also molecular foods, and the molecules of sucrose crystals have a very neat arrangement. Once entering the cotton candy production machine, the heat of the heating chamber that is high in the machine center temperature will break the alignment of the crystal, so that the crystal is turned into syrup. In the heating chamber, there are some holes having a small size than particles, and when the sugar is rotated at a high speed in the heating chamber, the centrifugal force is sprayed from the small hole to the surroundings. Since the liquid substance is associated with a cold solidification and its surface area, the larger the surface area is, the faster the solidification is. Therefore, the syrup injected from the small hole is solid into a sugar, and it is not adhesive. That is, the organizational structure between ingredients is changed, and then recombined.\n",
      "\n",
      "\n",
      "== extended reading ==\n",
      "Caporaso, Nicola, Diego Formisano (2016). Developments, Applications, and Trends of Molecular Gastronomy Among Food Scientists and Innovative Chefs. Food Reviews International, 32 (4), 417-435.\n",
      "Hoelscher, Dietmar, Molecular Kitchen and Moleculare Mixology: you can do what you imagine (2008 DVD) ISBN 978-3-00-022641-0\n",
      "Kurti, Nicholas, But The Crackling Is Superb, Institute of Physics Publishing, 1998 ISBN 978-0-85274-301-0\n",
      "McGee, Harold, The Curious Cook. North Point Press, Berkeley, 1990.\n",
      "McGee, Harold, ON Food and Cooking: The Science and Lore of The Kitchen. Scribnet, New York, 2004. ISBN 0-684-80001-2.\n",
      "THIS, HERVé, BUILDING A MEAL: From Molecular Gastronomy To Culinary Constructivism, Columbia University Press 2009 ISBN 978-0-231-14466-7\n",
      "This, Hervé, Pierre Gagnaire: Cooking: The Quintessential Art, University of California Press 2008 ISBN 978-0-520-25295-0\n",
      "This, Hervé, Kitchen MySTERIES: Revealing The Science of Cooking. Columbia University Press, New York, 2007 ISBN 978-0-231-14170-3\n",
      "This, Hervé, Molecular Gastronomy: Exploring The Science of Flavor. Columbia University Press, New York, 2006. ISBN 978-0-231-13312-8\n",
      "Wolke, Robert L., \"What Einstein Told His Cook: Kitchen Science Explained\" (2002, 350P) ISBN 0-393-01183-6\n",
      "\n",
      "\n",
      "== See ==\n",
      "Upper Thames Appraisal Molecular Food (Page Archive Backup, Save Internet Archives)\n",
      "Xinhuanet: Have you ever eaten \"molecular food\"? (Page archive backup, exist in Internet Archives) \n"
     ]
    }
   ],
   "source": [
    "print(zh_topic_content)"
   ]
  },
  {
   "cell_type": "code",
   "execution_count": 6,
   "metadata": {},
   "outputs": [],
   "source": [
    "wiki.set_lang('zh')\n",
    "\n",
    "page = wiki.page('culinary science')"
   ]
  },
  {
   "cell_type": "code",
   "execution_count": 7,
   "metadata": {},
   "outputs": [
    {
     "data": {
      "text/plain": [
       "'分子食物'"
      ]
     },
     "execution_count": 7,
     "metadata": {},
     "output_type": "execute_result"
    }
   ],
   "source": [
    "page.title"
   ]
  },
  {
   "cell_type": "code",
   "execution_count": 8,
   "metadata": {},
   "outputs": [],
   "source": [
    "wiki.set_lang('en')\n",
    "              \n",
    "page = wiki.page('molecular gastronomy')"
   ]
  },
  {
   "cell_type": "code",
   "execution_count": 9,
   "metadata": {},
   "outputs": [
    {
     "data": {
      "text/plain": [
       "'Molecular gastronomy is the scientific approach of nutrition from the perspective of physics and chemistry. The physical properties: force, vector, and mass; and chemical components: molecular structure, formulae, and reactant products of an ingredient are addressed and utilized in the preparation and appreciation of the ingested products. The field differs from the amalgamation of ingredients and application of heat used by early hominids to produce sustenance as a way to acquire nutrients to promote health. It is the constituent of food science that approaches the preparation and enjoyment of nutrition from the perspective of a scientist at the scale of atoms, molecules, and chemicals.\\nNicholas Kurti, Hungarian physicist, and Hervé This, at the INRA in France, coined \"Molecular and Physical Gastronomy\" in 1988. While there are those who label others\\' work as gastronomy, there is a population of chefs who identify as autonomous individuals in their field as chefs.\\n\\n\\n== Examples ==\\n\\n\\n=== Eponymous recipes ===\\nNew dishes named after famous scientists include:\\nGibbs – infusing vanilla pods in egg white with sugar, adding olive oil and then microwave cooking. Named after physicist Josiah Willard Gibbs (1839–1903).\\nVauquelin – using orange juice or cranberry juice with added sugar when whipping eggs to increase the viscosity and to stabilize the foam, and then microwave cooking. Named after Nicolas Vauquelin (1763–1829), one of Lavoisier\\'s teachers.\\nBaumé – soaking a whole egg for a month in alcohol to create a coagulated egg. Named after the French chemist Antoine Baumé (1728–1804).\\n\\n\\n== History ==\\n\\nThere are many branches of food science that study different aspects of food, such as safety, microbiology, preservation, chemistry, engineering and physics. Until the advent of molecular gastronomy, there was no branch dedicated to studying the chemical processes of cooking in the home and in restaurants. Food science has primarily been concerned with industrial food production and, while the disciplines may overlap, they are considered separate areas of investigation.\\nThe creation of the discipline of molecular gastronomy was intended to bring together what had previously been fragmented and isolated investigations into the chemical and physical processes of cooking into an organized discipline within food science, to address what the other disciplines within food science either do not cover, or cover in a manner intended for scientists rather than cooks.\\nThe term \"molecular and physical gastronomy\" was coined in 1988 by Hungarian physicist Nicholas Kurti and French physical chemist Hervé This. In 1992, it became the title for a set of workshops held in Erice, Italy (originally titled \"Science and Gastronomy\") that brought together scientists and professional cooks for discussions about the science behind traditional cooking preparations. Eventually, the shortened term \"molecular gastronomy\" became the name of the approach, based on exploring the science behind traditional cooking methods.Kurti and This considered the creation of a formal discipline around the subjects discussed in the meetings. After Kurti\\'s death in 1998, the name of the Erice workshops were changed by This to \"The International Workshop on Molecular Gastronomy \\'N. Kurti\\'\". This remained the sole director of the subsequent workshops from 1999, and continued his research in the field of molecular gastronomy at the Inra-AgroParisTech International Centre for Molecular Gastronomy, remaining in charge of organizing the international meetings.\\n\\n\\n=== Precursors ===\\nThe idea of using techniques developed in chemistry to study food is not a new one, for instance the discipline of food science has existed for many years. Kurti and This acknowledged this fact and though they decided that a new, organized and specific discipline should be created within food science that investigated the processes in regular cooking (as food science was primarily concerned with the nutritional properties of food and developing methods to process food on an industrial scale), there are several notable examples throughout history of investigations into the science of everyday cooking recorded as far as back to 18th century.\\n\\n\\n==== Marie-Antoine Carême (1784–1833) ====\\nThe concept of molecular gastronomy was perhaps presaged by Marie-Antoine Carême, one of the most famous French chefs, who said in the early 19th century that when making a food stock \"the broth must come to a boil very slowly, otherwise the albumin coagulates, hardens; the water, not having time to penetrate the meat, prevents the gelatinous part of the osmazome from detaching itself.\"\\n\\n\\n==== Evelyn G. Halliday and Isabel T. Noble ====\\nIn 1943 the University of Chicago Press published a book titled Food Chemistry and Cookery by the then University of Chicago Associate Professor of Home Economics Evelyn G. Halliday and University of Minnesota Associate Professor of Home Economics Isabel T. Noble. In the foreword of the 346-page book, the authors state that, \"The main purpose of this book is to give an understanding of the chemical principles upon which good practices in food preparation and preservation are based.\"The book includes chapters such as \"The Chemistry of Milk\", \"The Chemistry of Baking Powders and Their Use in Baking\", \"The Chemistry of Vegetable Cookery\" and \"Determination of Hydrogen Ion Concentration\" and contains numerous illustrations of lab experiments including a Distillation Apparatus for Vegetable Samples and a Pipette for Determining the Relative Viscosity of Pectin Solutions. The professors had previously published The Hows and Whys of Cooking in 1928.\\n\\n\\n==== Belle Lowe ====\\nIn 1932, Belle Lowe, then the professor of Food and Nutrition at Iowa State College, published a book titled Experimental Cookery: From The Chemical And Physical Standpoint which became a standard textbook for home economics courses across the United States. The book is an exhaustively researched look into the science of everyday cooking referencing hundreds of sources and including many experiments. At a length of over 600 pages with section titles such as \"The Relation Of Cookery To Colloidal Chemistry\", \"Coagulation Of Proteins\", \"The Factors Affecting The Viscosity Of Cream And Ice Cream\", \"Syneresis\", \"Hydrolysis Of Collagen\" and \"Changes In Cooked Meat And The Cooking Of Meat\", the volume rivals or exceeds the scope of many other books on the subject, at a much earlier date.\\n\\n\\n==== Elizabeth Cawdry Thomas ====\\nThough rarely credited, the origins of the Erice workshops (originally entitled \"Science and Gastronomy\") can be traced back to cooking teacher Elizabeth Cawdry Thomas, who studied at Le Cordon Bleu in London and ran a cooking school in Berkeley, California. The one-time wife of a physicist, Thomas had many friends in the scientific community and an interest in the science of cooking. In 1988, while attending a meeting at the Ettore Majorana Center for Scientific Culture in Erice, Thomas had a conversation with Professor Ugo Valdrè of the University of Bologna, who agreed with her that the science of cooking was an undervalued subject, and encouraged Kurti to organize a workshop at the Ettore Majorana Center. However nothing happened until Kurti met Hervé This: both approached the director of the Ettore Majorana center, physicist Antonino Zichichi, who liked the idea. They invited the food science writer Harold McGee to join them as invited co-director of the first workshops in 1992.\\n\\n\\n=== Nicholas Kurti ===\\nUniversity of Oxford physicist Nicholas Kurti advocated applying scientific knowledge to culinary problems. He was one of the first television cooks in the UK, hosting a black-and-white television show in 1969 entitled The Physicist in the Kitchen, where he demonstrated techniques such as using a syringe to inject hot mince pies with brandy in order to avoid disturbing the crust. That same year, he held a presentation for the Royal Society of London (also entitled \"The Physicist in the Kitchen\") in which he stated:\\nI think it is a sad reflection on our civilization that while we can and do measure the temperature in the atmosphere of Venus we do not know what goes on inside our soufflés.\\nKurti demonstrated making meringue in a vacuum chamber, the cooking of sausages by connecting them across a car battery, the digestion of protein by fresh pineapple juice, and a reverse baked alaska—hot inside, cold outside—cooked in a microwave oven. Kurti was also an advocate of low temperature cooking, repeating 18th century experiments by British scientist Benjamin Thompson by leaving a 2 kg (4.4 lb) lamb joint in an oven at 80 °C (176 °F). After 8.5 hours, both the inside and outside temperature of the lamb joint were around 75 °C (167 °F), and the meat was tender and juicy.With his wife, Giana Kurti, Nicholas Kurti edited an anthology on food and science by fellows and foreign members of the Royal Society.\\n\\n\\n=== Hervé This ===\\nHervé This started collecting \"culinary precisions\" (old kitchen wives\\' tales and cooking tricks) the 24th of March 1980, and started testing these precisions to see which held up; his collection eventually numbered some 25,000. In 1995, he received a PhD in Physical Chemistry of Materials, for which he wrote his thesis on \"La gastronomie moléculaire et physique\" (molecular and physical gastronomy). He served as an adviser to the French minister of education, lectured internationally, and was invited to join the lab of Nobel-winning molecular chemist Jean-Marie Lehn. This has published several books in French, four of which have been translated into English, including Molecular Gastronomy: Exploring the Science of Flavor, Kitchen Mysteries: Revealing the Science of Cooking, Cooking: The Quintessential Art, and Building a Meal: From Molecular Gastronomy to Culinary Constructivism.\\nHe currently publishes a series of essays in French, and hosts free monthly seminars on molecular gastronomy at the INRA in France. He gives free and public seminars on molecular gastronomy every month, and annually gives a public and free course on molecular gastronomy. Hervé This also authors a website and a pair of blogs on the subject in French, and publishes monthly collaborations with French chef Pierre Gagnaire on Gagnaire\\'s website.\\n\\n\\n== Objectives ==\\nThe objectives of molecular gastronomy, as defined by Hervé This, are seeking for the mechanisms of culinary transformations and processes (from a chemical and physical point of view) in three areas:\\nthe social phenomena linked to culinary activity\\nthe artistic component of culinary activity\\nthe technical component of culinary activityThe original fundamental objectives of molecular gastronomy were defined by This in his doctoral dissertation as:\\nInvestigating culinary and gastronomical proverbs, sayings and old wives\\' tales\\nExploring existing recipes\\nIntroducing new tools, ingredients and methods into the kitchen\\nInventing new dishes\\nUsing molecular gastronomy to help the general public understand the contribution of science to societyHervé This later recognized points 3, 4, and 5 as being not entirely scientific endeavors (more application of technology and educational), and has revised the list.\\n\\n\\n=== Areas of investigation ===\\nPrime topics for study include\\nHow ingredients are changed by different cooking methods\\nHow all the senses play their own roles in our appreciation of food\\nThe mechanisms of aroma release and the perception of taste and flavor\\nHow and why we evolved our particular taste and flavor sense organs and our general food likes and dislikes\\nHow cooking methods affect the eventual flavor and texture of food ingredients\\nHow new cooking methods might produce improved results of texture and flavor\\nHow our brains interpret the signals from all our senses to tell us the \"flavor\" of food\\nHow our enjoyment of food is affected by other influences, our environment, our mood, how it is presented, who prepares it, etc.\\n\\n\\n== Chefs ==\\n\\nIn the late 1990s and early 2000s, the term started to be used to describe a new style of cooking in which some chefs began to explore new possibilities in the kitchen by embracing science, research, technological advances in equipment and various natural gums and hydrocolloids produced by the commercial food processing industry. It has since been used to describe the food and cooking of a number of famous chefs, though many of them do not accept the term as a description of their style of cooking.Chefs who are often associated with molecular gastronomy because of their embrace of science include Heston Blumenthal, Grant Achatz, Ferran Adrià, Rikku Ó’Donnchü, José Andrés, Sat Bains, Richard Blais, Marcel Vigneron, Sean Brock, Homaro Cantu, Michael Carlson, Wylie Dufresne, Pierre Gagnaire, Adam Melonas, Kevin Sousa, and Laurent Gras.Despite their central role in the popularisation of science-based cuisine, both Adria and Blumenthal have expressed their frustration with the common mis-classification of their food and cooking as \"molecular gastronomy\", On 10 December 2006 Blumenthal and Harold McGee published a \\'Statement on the \"New Cookery\" in the Observer in order to summarise what they saw as the central tenets of modern cuisine.  Ferran Adria of El Bulli and Thomas Keller of the French Laundry and Per Se signed up to this and together released a joint statement in 2006 clarifying their approach to cooking, stating that the term \"molecular gastronomy\" was coined in 1992 for a single workshop that did not influence them, and that the term does not describe any style of cooking.In February 2011, Nathan Myhrvold published the Modernist Cuisine, which led many chefs to further classify molecular gastronomy versus modernist cuisine. Myhrvold believes that his cooking style should not be called molecular gastronomy.\\n\\n\\n== Techniques, tools and ingredients ==\\nCarbon dioxide source, for adding bubbles and making foams\\nFoams can also be made with an immersion blender\\nLiquid nitrogen, for flash freezing and shattering\\nIce cream maker, often used to make unusual flavors, including savory\\nAnti-griddle, for cooling and freezing\\nThermal immersion circulator for sous-vide (low temperature cooking)\\nFood dehydrator\\nCentrifuge\\nMaltodextrin – can turn a high-fat liquid into a powder\\nSugar substitutes\\nEnzymes\\nLecithin – an emulsifier and non-stick agent\\nHydrocolloids such as starch, gelatin, pectin and natural gums – used as thickening agents, gelling agents, emulsifying agents and stabilizers, sometimes needed for foams\\nTransglutaminase – a protein binder, called meat glue\\nSpherification – a caviar-like effect\\nSyringe, for injecting unexpected fillings\\nEdible paper made from soybeans and potato starch, for use with edible fruit inks and an inkjet printer\\nAromatic accompaniment: gases trapped in a bag, a serving device, or the food itself; an aromatic substance presented as a garnish  or creative serveware; or a smell produced by burning\\nPresentation style is often whimsical or avant-garde, and may include unusual serviceware\\nUnusual flavor combinations (food pairings) are favored, such as combining savory and sweet\\nUsing ultrasound to achieve more precise cooking times\\n\\n\\n== Alternative names and related pursuits ==\\nThe term molecular gastronomy was originally intended to refer only to the scientific investigation of cooking, though it has been adopted by a number of people and applied to cooking itself or to describe a style of cuisine.\\n\\nOther names for the style of cuisine practiced by these chefs include:\\n\\nAvant-garde cuisine\\nCulinary constructivism\\nCocina de vanguardia – term used by Ferran Adrià\\nEmotional cuisine\\nExperimental cuisine\\nForward-thinking movement – term used at Grant Achatz\\'s Alinea\\nKitchen science\\nModern cuisine\\nModernist cuisine, which shares its name with a cookbook by Nathan Myhrvold, and which is endorsed by Ferran Adrià of El Bulli and David Chang\\nMolecular cuisine\\nMolecular cooking\\nNew cuisine\\nNew cookery\\nNueva cocina\\nProgressive cuisine\\nTechno-emotional cuisine—term preferred by elBulli research and development chef Ferran Adrià\\nTechnologically forward cuisine\\nVanguard cuisine\\nTechno-cuisineNo singular name has ever been applied in consensus, and the term \"molecular gastronomy\" continues to be used often as a blanket term to refer to any and all of these things—particularly in the media. Ferran Adrià hates the term \"molecular gastronomy\" and prefers \\'deconstructivist\\' to describe his style of cooking. A 2006 open letter by Ferran Adria, Heston Blumenthal, Thomas Keller and Harold McGee published in The Times used no specific term, referring only to \"a new approach to cooking\" and \"our cooking\".\\n\\n\\n== See also ==\\n\\n\\n=== People ===\\n\\n\\n=== Restaurants ===\\n\\n\\n=== Subjects ===\\n\\n\\n== References ==\\n\\n\\n== Further reading ==\\nCaporaso, Nicola, Diego Formisano (2016). Developments, applications, and trends of molecular gastronomy among food scientists and innovative chefs. Food Reviews International, 32(4), 417-435.\\nHoelscher, Dietmar,  Molecular kitchen and moleculare mixology: you can do what you imagine (2008 DVD) ISBN 978-3-00-022641-0\\nKurti, Nicholas, But the Crackling Is Superb, Institute of Physics Publishing, 1998 ISBN 978-0-85274-301-0\\nMcGee, Harold, The Curious Cook. North Point Press, Berkeley, 1990.\\nMcGee, Harold, On Food and Cooking: The Science and Lore of the Kitchen. Scribner, New York, 2004. ISBN 0-684-80001-2.\\nThis, Hervé, Building a Meal: From Molecular Gastronomy to Culinary Constructivism, Columbia University Press 2009 ISBN 978-0-231-14466-7\\nThis, Hervé, Pierre Gagnaire: Cooking: The Quintessential Art, University of California Press 2008 ISBN 978-0-520-25295-0\\nThis, Hervé, Kitchen Mysteries: Revealing the Science of Cooking. Columbia University Press, New York, 2007 ISBN 978-0-231-14170-3\\nThis, Hervé, Molecular Gastronomy: Exploring the Science of Flavor. Columbia University Press, New York, 2006. ISBN 978-0-231-13312-8\\nWolke, Robert L., \"What Einstein Told His Cook: Kitchen Science Explained\" (2002, 350p) ISBN 0-393-01183-6\\n\\n\\n== External links ==\\nJohn Mariani,  Decline of Modernist Molecular Cuisine July 24, 2013 esquire.com\\nGrubstreet,   Rebuttal of John Marianis esquire article  July 24, 2013 grubstreet'"
      ]
     },
     "execution_count": 9,
     "metadata": {},
     "output_type": "execute_result"
    }
   ],
   "source": [
    "page.content\n"
   ]
  },
  {
   "cell_type": "code",
   "execution_count": 10,
   "metadata": {},
   "outputs": [],
   "source": [
    "topic = 'culinary science'  #en_all_topics[0]\n",
    "wiki.set_lang(\"en\")\n",
    "en_topic_content = (wiki.page(topic).content)\n",
    "\n",
    "wiki.set_lang(\"zh\")\n",
    "zh_topic_content = translator.translate(wiki.page(topic).content, lang_tgt = 'en')"
   ]
  },
  {
   "cell_type": "code",
   "execution_count": null,
   "metadata": {},
   "outputs": [],
   "source": []
  },
  {
   "cell_type": "code",
   "execution_count": null,
   "metadata": {},
   "outputs": [],
   "source": []
  },
  {
   "cell_type": "code",
   "execution_count": null,
   "metadata": {},
   "outputs": [],
   "source": []
  },
  {
   "cell_type": "code",
   "execution_count": null,
   "metadata": {},
   "outputs": [],
   "source": []
  },
  {
   "cell_type": "code",
   "execution_count": 11,
   "metadata": {},
   "outputs": [],
   "source": [
    "en_topics_test = ['Physiotherapy', 'what', 'Politics', 'into', 'Exercise', 'Agriculture', 'Prehistory', 'Intelligence', 'computer', 'Natural']"
   ]
  },
  {
   "cell_type": "code",
   "execution_count": 12,
   "metadata": {
    "scrolled": false
   },
   "outputs": [
    {
     "name": "stderr",
     "output_type": "stream",
     "text": [
      "C:\\Users\\Owner\\Anaconda3\\lib\\site-packages\\wikipedia\\wikipedia.py:389: UserWarning: No parser was explicitly specified, so I'm using the best available HTML parser for this system (\"lxml\"). This usually isn't a problem, but if you run this code on another system, or in a different virtual environment, it may use a different parser and behave differently.\n",
      "\n",
      "The code that caused this warning is on line 389 of the file C:\\Users\\Owner\\Anaconda3\\lib\\site-packages\\wikipedia\\wikipedia.py. To get rid of this warning, pass the additional argument 'features=\"lxml\"' to the BeautifulSoup constructor.\n",
      "\n",
      "  lis = BeautifulSoup(html).find_all('li')\n"
     ]
    },
    {
     "ename": "DisambiguationError",
     "evalue": "\"when\" may refer to: \nFive Ws\nWHEN (AM)\nWTVH\nWhen (band)\nRob Overseer\nWhen (album)\n\"When\" (Amanda Lear song)\n\"When\" (The Kalin Twins song)\n\"When\" (Red Vincent Hurley song)\n\"When\" (Shania Twain song)\nThe World Needs a Hero\nMy Arms, Your Hearse\nPerry Como\nSpirit of '76\nWelcome\nDodie Clark",
     "output_type": "error",
     "traceback": [
      "\u001b[1;31m---------------------------------------------------------------------------\u001b[0m",
      "\u001b[1;31mDisambiguationError\u001b[0m                       Traceback (most recent call last)",
      "\u001b[1;32m<ipython-input-12-4828afb10c60>\u001b[0m in \u001b[0;36m<module>\u001b[1;34m\u001b[0m\n\u001b[0;32m      5\u001b[0m \u001b[1;33m\u001b[0m\u001b[0m\n\u001b[0;32m      6\u001b[0m     \u001b[0mwiki\u001b[0m\u001b[1;33m.\u001b[0m\u001b[0mset_lang\u001b[0m\u001b[1;33m(\u001b[0m\u001b[1;34m\"en\"\u001b[0m\u001b[1;33m)\u001b[0m\u001b[1;33m\u001b[0m\u001b[1;33m\u001b[0m\u001b[0m\n\u001b[1;32m----> 7\u001b[1;33m     \u001b[0men_topic_content\u001b[0m \u001b[1;33m=\u001b[0m \u001b[1;33m(\u001b[0m\u001b[0mwiki\u001b[0m\u001b[1;33m.\u001b[0m\u001b[0mpage\u001b[0m\u001b[1;33m(\u001b[0m\u001b[0mi\u001b[0m\u001b[1;33m)\u001b[0m\u001b[1;33m.\u001b[0m\u001b[0mcontent\u001b[0m\u001b[1;33m)\u001b[0m\u001b[1;33m\u001b[0m\u001b[1;33m\u001b[0m\u001b[0m\n\u001b[0m\u001b[0;32m      8\u001b[0m     \u001b[0mfile\u001b[0m\u001b[1;33m.\u001b[0m\u001b[0mwrite\u001b[0m\u001b[1;33m(\u001b[0m\u001b[0men_topic_content\u001b[0m\u001b[1;33m)\u001b[0m\u001b[1;33m\u001b[0m\u001b[1;33m\u001b[0m\u001b[0m\n\u001b[0;32m      9\u001b[0m \u001b[1;33m\u001b[0m\u001b[0m\n",
      "\u001b[1;32m~\\Anaconda3\\lib\\site-packages\\wikipedia\\wikipedia.py\u001b[0m in \u001b[0;36mpage\u001b[1;34m(title, pageid, auto_suggest, redirect, preload)\u001b[0m\n\u001b[0;32m    274\u001b[0m         \u001b[1;31m# if there is no suggestion or search results, the page doesn't exist\u001b[0m\u001b[1;33m\u001b[0m\u001b[1;33m\u001b[0m\u001b[1;33m\u001b[0m\u001b[0m\n\u001b[0;32m    275\u001b[0m         \u001b[1;32mraise\u001b[0m \u001b[0mPageError\u001b[0m\u001b[1;33m(\u001b[0m\u001b[0mtitle\u001b[0m\u001b[1;33m)\u001b[0m\u001b[1;33m\u001b[0m\u001b[1;33m\u001b[0m\u001b[0m\n\u001b[1;32m--> 276\u001b[1;33m     \u001b[1;32mreturn\u001b[0m \u001b[0mWikipediaPage\u001b[0m\u001b[1;33m(\u001b[0m\u001b[0mtitle\u001b[0m\u001b[1;33m,\u001b[0m \u001b[0mredirect\u001b[0m\u001b[1;33m=\u001b[0m\u001b[0mredirect\u001b[0m\u001b[1;33m,\u001b[0m \u001b[0mpreload\u001b[0m\u001b[1;33m=\u001b[0m\u001b[0mpreload\u001b[0m\u001b[1;33m)\u001b[0m\u001b[1;33m\u001b[0m\u001b[1;33m\u001b[0m\u001b[0m\n\u001b[0m\u001b[0;32m    277\u001b[0m   \u001b[1;32melif\u001b[0m \u001b[0mpageid\u001b[0m \u001b[1;32mis\u001b[0m \u001b[1;32mnot\u001b[0m \u001b[1;32mNone\u001b[0m\u001b[1;33m:\u001b[0m\u001b[1;33m\u001b[0m\u001b[1;33m\u001b[0m\u001b[0m\n\u001b[0;32m    278\u001b[0m     \u001b[1;32mreturn\u001b[0m \u001b[0mWikipediaPage\u001b[0m\u001b[1;33m(\u001b[0m\u001b[0mpageid\u001b[0m\u001b[1;33m=\u001b[0m\u001b[0mpageid\u001b[0m\u001b[1;33m,\u001b[0m \u001b[0mpreload\u001b[0m\u001b[1;33m=\u001b[0m\u001b[0mpreload\u001b[0m\u001b[1;33m)\u001b[0m\u001b[1;33m\u001b[0m\u001b[1;33m\u001b[0m\u001b[0m\n",
      "\u001b[1;32m~\\Anaconda3\\lib\\site-packages\\wikipedia\\wikipedia.py\u001b[0m in \u001b[0;36m__init__\u001b[1;34m(self, title, pageid, redirect, preload, original_title)\u001b[0m\n\u001b[0;32m    297\u001b[0m       \u001b[1;32mraise\u001b[0m \u001b[0mValueError\u001b[0m\u001b[1;33m(\u001b[0m\u001b[1;34m\"Either a title or a pageid must be specified\"\u001b[0m\u001b[1;33m)\u001b[0m\u001b[1;33m\u001b[0m\u001b[1;33m\u001b[0m\u001b[0m\n\u001b[0;32m    298\u001b[0m \u001b[1;33m\u001b[0m\u001b[0m\n\u001b[1;32m--> 299\u001b[1;33m     \u001b[0mself\u001b[0m\u001b[1;33m.\u001b[0m\u001b[0m__load\u001b[0m\u001b[1;33m(\u001b[0m\u001b[0mredirect\u001b[0m\u001b[1;33m=\u001b[0m\u001b[0mredirect\u001b[0m\u001b[1;33m,\u001b[0m \u001b[0mpreload\u001b[0m\u001b[1;33m=\u001b[0m\u001b[0mpreload\u001b[0m\u001b[1;33m)\u001b[0m\u001b[1;33m\u001b[0m\u001b[1;33m\u001b[0m\u001b[0m\n\u001b[0m\u001b[0;32m    300\u001b[0m \u001b[1;33m\u001b[0m\u001b[0m\n\u001b[0;32m    301\u001b[0m     \u001b[1;32mif\u001b[0m \u001b[0mpreload\u001b[0m\u001b[1;33m:\u001b[0m\u001b[1;33m\u001b[0m\u001b[1;33m\u001b[0m\u001b[0m\n",
      "\u001b[1;32m~\\Anaconda3\\lib\\site-packages\\wikipedia\\wikipedia.py\u001b[0m in \u001b[0;36m__load\u001b[1;34m(self, redirect, preload)\u001b[0m\n\u001b[0;32m    391\u001b[0m       \u001b[0mmay_refer_to\u001b[0m \u001b[1;33m=\u001b[0m \u001b[1;33m[\u001b[0m\u001b[0mli\u001b[0m\u001b[1;33m.\u001b[0m\u001b[0ma\u001b[0m\u001b[1;33m.\u001b[0m\u001b[0mget_text\u001b[0m\u001b[1;33m(\u001b[0m\u001b[1;33m)\u001b[0m \u001b[1;32mfor\u001b[0m \u001b[0mli\u001b[0m \u001b[1;32min\u001b[0m \u001b[0mfiltered_lis\u001b[0m \u001b[1;32mif\u001b[0m \u001b[0mli\u001b[0m\u001b[1;33m.\u001b[0m\u001b[0ma\u001b[0m\u001b[1;33m]\u001b[0m\u001b[1;33m\u001b[0m\u001b[1;33m\u001b[0m\u001b[0m\n\u001b[0;32m    392\u001b[0m \u001b[1;33m\u001b[0m\u001b[0m\n\u001b[1;32m--> 393\u001b[1;33m       \u001b[1;32mraise\u001b[0m \u001b[0mDisambiguationError\u001b[0m\u001b[1;33m(\u001b[0m\u001b[0mgetattr\u001b[0m\u001b[1;33m(\u001b[0m\u001b[0mself\u001b[0m\u001b[1;33m,\u001b[0m \u001b[1;34m'title'\u001b[0m\u001b[1;33m,\u001b[0m \u001b[0mpage\u001b[0m\u001b[1;33m[\u001b[0m\u001b[1;34m'title'\u001b[0m\u001b[1;33m]\u001b[0m\u001b[1;33m)\u001b[0m\u001b[1;33m,\u001b[0m \u001b[0mmay_refer_to\u001b[0m\u001b[1;33m)\u001b[0m\u001b[1;33m\u001b[0m\u001b[1;33m\u001b[0m\u001b[0m\n\u001b[0m\u001b[0;32m    394\u001b[0m \u001b[1;33m\u001b[0m\u001b[0m\n\u001b[0;32m    395\u001b[0m     \u001b[1;32melse\u001b[0m\u001b[1;33m:\u001b[0m\u001b[1;33m\u001b[0m\u001b[1;33m\u001b[0m\u001b[0m\n",
      "\u001b[1;31mDisambiguationError\u001b[0m: \"when\" may refer to: \nFive Ws\nWHEN (AM)\nWTVH\nWhen (band)\nRob Overseer\nWhen (album)\n\"When\" (Amanda Lear song)\n\"When\" (The Kalin Twins song)\n\"When\" (Red Vincent Hurley song)\n\"When\" (Shania Twain song)\nThe World Needs a Hero\nMy Arms, Your Hearse\nPerry Como\nSpirit of '76\nWelcome\nDodie Clark"
     ]
    }
   ],
   "source": [
    "for i in en_topics_test:\n",
    "#topic = i  #en_all_topics[0]\n",
    "\n",
    "    file = open('../data/article_content_test.txt','w')\n",
    "\n",
    "    wiki.set_lang(\"en\")\n",
    "    en_topic_content = (wiki.page(i).content)\n",
    "    file.write(en_topic_content)\n",
    "\n",
    "#    wiki.set_lang(\"zh\")\n",
    "#    zh_topic_content = translator.translate(wiki.page(i).content, lang_tgt = 'en')\n",
    "#    file.write(zh_topic_content)\n",
    "\n",
    "    file.close()"
   ]
  },
  {
   "cell_type": "code",
   "execution_count": 13,
   "metadata": {},
   "outputs": [],
   "source": [
    "en_topics_test = ['Physiotherapy', 'Politics']"
   ]
  },
  {
   "cell_type": "code",
   "execution_count": 14,
   "metadata": {
    "scrolled": false
   },
   "outputs": [
    {
     "ename": "UnicodeEncodeError",
     "evalue": "'charmap' codec can't encode characters in position 22-29: character maps to <undefined>",
     "output_type": "error",
     "traceback": [
      "\u001b[1;31m---------------------------------------------------------------------------\u001b[0m",
      "\u001b[1;31mUnicodeEncodeError\u001b[0m                        Traceback (most recent call last)",
      "\u001b[1;32m<ipython-input-14-ba50f55ef254>\u001b[0m in \u001b[0;36m<module>\u001b[1;34m\u001b[0m\n\u001b[0;32m      5\u001b[0m     \u001b[0mwiki\u001b[0m\u001b[1;33m.\u001b[0m\u001b[0mset_lang\u001b[0m\u001b[1;33m(\u001b[0m\u001b[1;34m\"en\"\u001b[0m\u001b[1;33m)\u001b[0m\u001b[1;33m\u001b[0m\u001b[1;33m\u001b[0m\u001b[0m\n\u001b[0;32m      6\u001b[0m     \u001b[0men_topic_content\u001b[0m \u001b[1;33m=\u001b[0m \u001b[1;33m(\u001b[0m\u001b[0mwiki\u001b[0m\u001b[1;33m.\u001b[0m\u001b[0mpage\u001b[0m\u001b[1;33m(\u001b[0m\u001b[0mi\u001b[0m\u001b[1;33m)\u001b[0m\u001b[1;33m.\u001b[0m\u001b[0mcontent\u001b[0m\u001b[1;33m)\u001b[0m\u001b[1;33m\u001b[0m\u001b[1;33m\u001b[0m\u001b[0m\n\u001b[1;32m----> 7\u001b[1;33m     \u001b[0mfile\u001b[0m\u001b[1;33m.\u001b[0m\u001b[0mwrite\u001b[0m\u001b[1;33m(\u001b[0m\u001b[0men_topic_content\u001b[0m\u001b[1;33m)\u001b[0m\u001b[1;33m\u001b[0m\u001b[1;33m\u001b[0m\u001b[0m\n\u001b[0m\u001b[0;32m      8\u001b[0m \u001b[1;31m#except:\u001b[0m\u001b[1;33m\u001b[0m\u001b[1;33m\u001b[0m\u001b[1;33m\u001b[0m\u001b[0m\n\u001b[0;32m      9\u001b[0m \u001b[1;31m#    pass\u001b[0m\u001b[1;33m\u001b[0m\u001b[1;33m\u001b[0m\u001b[1;33m\u001b[0m\u001b[0m\n",
      "\u001b[1;32m~\\Anaconda3\\lib\\encodings\\cp1252.py\u001b[0m in \u001b[0;36mencode\u001b[1;34m(self, input, final)\u001b[0m\n\u001b[0;32m     17\u001b[0m \u001b[1;32mclass\u001b[0m \u001b[0mIncrementalEncoder\u001b[0m\u001b[1;33m(\u001b[0m\u001b[0mcodecs\u001b[0m\u001b[1;33m.\u001b[0m\u001b[0mIncrementalEncoder\u001b[0m\u001b[1;33m)\u001b[0m\u001b[1;33m:\u001b[0m\u001b[1;33m\u001b[0m\u001b[1;33m\u001b[0m\u001b[0m\n\u001b[0;32m     18\u001b[0m     \u001b[1;32mdef\u001b[0m \u001b[0mencode\u001b[0m\u001b[1;33m(\u001b[0m\u001b[0mself\u001b[0m\u001b[1;33m,\u001b[0m \u001b[0minput\u001b[0m\u001b[1;33m,\u001b[0m \u001b[0mfinal\u001b[0m\u001b[1;33m=\u001b[0m\u001b[1;32mFalse\u001b[0m\u001b[1;33m)\u001b[0m\u001b[1;33m:\u001b[0m\u001b[1;33m\u001b[0m\u001b[1;33m\u001b[0m\u001b[0m\n\u001b[1;32m---> 19\u001b[1;33m         \u001b[1;32mreturn\u001b[0m \u001b[0mcodecs\u001b[0m\u001b[1;33m.\u001b[0m\u001b[0mcharmap_encode\u001b[0m\u001b[1;33m(\u001b[0m\u001b[0minput\u001b[0m\u001b[1;33m,\u001b[0m\u001b[0mself\u001b[0m\u001b[1;33m.\u001b[0m\u001b[0merrors\u001b[0m\u001b[1;33m,\u001b[0m\u001b[0mencoding_table\u001b[0m\u001b[1;33m)\u001b[0m\u001b[1;33m[\u001b[0m\u001b[1;36m0\u001b[0m\u001b[1;33m]\u001b[0m\u001b[1;33m\u001b[0m\u001b[1;33m\u001b[0m\u001b[0m\n\u001b[0m\u001b[0;32m     20\u001b[0m \u001b[1;33m\u001b[0m\u001b[0m\n\u001b[0;32m     21\u001b[0m \u001b[1;32mclass\u001b[0m \u001b[0mIncrementalDecoder\u001b[0m\u001b[1;33m(\u001b[0m\u001b[0mcodecs\u001b[0m\u001b[1;33m.\u001b[0m\u001b[0mIncrementalDecoder\u001b[0m\u001b[1;33m)\u001b[0m\u001b[1;33m:\u001b[0m\u001b[1;33m\u001b[0m\u001b[1;33m\u001b[0m\u001b[0m\n",
      "\u001b[1;31mUnicodeEncodeError\u001b[0m: 'charmap' codec can't encode characters in position 22-29: character maps to <undefined>"
     ]
    }
   ],
   "source": [
    "for i in en_topics_test:\n",
    "#topic = i  #en_all_topics[0]\n",
    "    file = open('../data/article_content_test.txt','w')\n",
    "#try:\n",
    "    wiki.set_lang(\"en\")\n",
    "    en_topic_content = (wiki.page(i).content)\n",
    "    file.write(en_topic_content)\n",
    "#except:\n",
    "#    pass\n",
    "#try:\n",
    "    wiki.set_lang(\"zh\")\n",
    "    zh_topic_content = translator.translate(wiki.page(i).content, lang_tgt = 'en')\n",
    "    file.write(zh_topic_content)\n",
    "#except:\n",
    "#    pass\n",
    "    file.close()"
   ]
  },
  {
   "cell_type": "code",
   "execution_count": null,
   "metadata": {},
   "outputs": [],
   "source": [
    "en_topics_test = ['Physiotherapy', 'Politics', 'into', 'Exercise', 'Agriculture', 'Prehistory', 'Intelligence', 'computer', 'Natural']"
   ]
  },
  {
   "cell_type": "code",
   "execution_count": null,
   "metadata": {},
   "outputs": [],
   "source": [
    "for i in en_topics_test:\n",
    "#topic = i  #en_all_topics[0]\n",
    "    file = open('../data/article_content_test.txt','w')\n",
    "    try:\n",
    "        wiki.set_lang(\"en\")\n",
    "        en_topic_content = (wiki.page(i).content)\n",
    "        file.write(en_topic_content)\n",
    "    except:\n",
    "        pass\n",
    "    try:\n",
    "        wiki.set_lang(\"zh\")\n",
    "        zh_topic_content = translator.translate(wiki.page(i).content, lang_tgt = 'en')\n",
    "        file.write(zh_topic_content)\n",
    "    except:\n",
    "        pass\n",
    "    file.close()"
   ]
  },
  {
   "cell_type": "code",
   "execution_count": null,
   "metadata": {},
   "outputs": [],
   "source": [
    "en_topics_test = ['Fire', 'Earth']"
   ]
  },
  {
   "cell_type": "code",
   "execution_count": null,
   "metadata": {},
   "outputs": [],
   "source": [
    "for i in en_topics_test:\n",
    "#topic = i  #en_all_topics[0]\n",
    "    file = open('../data/article_content_test.txt','w')\n",
    "    try:\n",
    "        wiki.set_lang(\"en\")\n",
    "        en_topic_content = (wiki.page(i).content)\n",
    "        file.write(en_topic_content)\n",
    "    except:\n",
    "        pass\n",
    "    try:\n",
    "        wiki.set_lang(\"zh\")\n",
    "        zh_topic_content = translator.translate(wiki.page(i).content, lang_tgt = 'en')\n",
    "        file.write(zn_topic_content)\n",
    "    except:\n",
    "        pass\n",
    "    file.close()"
   ]
  },
  {
   "cell_type": "code",
   "execution_count": null,
   "metadata": {},
   "outputs": [],
   "source": []
  }
 ],
 "metadata": {
  "kernelspec": {
   "display_name": "Python 3",
   "language": "python",
   "name": "python3"
  },
  "language_info": {
   "codemirror_mode": {
    "name": "ipython",
    "version": 3
   },
   "file_extension": ".py",
   "mimetype": "text/x-python",
   "name": "python",
   "nbconvert_exporter": "python",
   "pygments_lexer": "ipython3",
   "version": "3.7.4"
  }
 },
 "nbformat": 4,
 "nbformat_minor": 2
}
