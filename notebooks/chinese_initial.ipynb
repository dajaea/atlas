{
 "cells": [
  {
   "cell_type": "code",
   "execution_count": 2,
   "metadata": {
    "scrolled": true
   },
   "outputs": [
    {
     "name": "stderr",
     "output_type": "stream",
     "text": [
      "C:\\Users\\Owner\\Anaconda3\\lib\\site-packages\\requests\\__init__.py:91: RequestsDependencyWarning: urllib3 (1.26.4) or chardet (3.0.4) doesn't match a supported version!\n",
      "  RequestsDependencyWarning)\n"
     ]
    }
   ],
   "source": [
    "import wikipedia as wiki\n",
    "import pandas as pd"
   ]
  },
  {
   "cell_type": "markdown",
   "metadata": {},
   "source": [
    "may use function later - what determines these and where is this on the site?"
   ]
  },
  {
   "cell_type": "code",
   "execution_count": 2,
   "metadata": {
    "scrolled": false
   },
   "outputs": [
    {
     "name": "stdout",
     "output_type": "stream",
     "text": [
      "['Boat', 'U-boat', 'Boat (disambiguation)', 'Boating', 'Whose Boat Is This Boat?', 'Banana boat (boat)', 'The Boat', 'Destroyer', 'The Love Boat', 'IF-boat']\n"
     ]
    }
   ],
   "source": [
    "print(wiki.search(\"boat\"))"
   ]
  },
  {
   "cell_type": "markdown",
   "metadata": {},
   "source": [
    "### try English first, then incorporate translation\n",
    "\n",
    "https://en.wikipedia.org/wiki/Wikipedia:Contents/Outlines#Society_and_social_sciences\n",
    "\n",
    "just selected and c/p here to make into list"
   ]
  },
  {
   "cell_type": "code",
   "execution_count": 3,
   "metadata": {},
   "outputs": [],
   "source": [
    "level_1 = [\n",
    "    'General reference',\n",
    "    'Culture and the arts',\n",
    "    'none',\n",
    "    #none is to align with Chinese list later\n",
    "    'Geography and places',\n",
    "    'Health and fitness',\n",
    "    'History and events',\n",
    "    'Human activities',\n",
    "    'Mathematics and logic',\n",
    "    'Natural and physical sciences',\n",
    "    'People and self',\n",
    "    'Philosophy and thinking',\n",
    "    'Religion and belief systems',\n",
    "    'Society and social sciences',\n",
    "    'Technology and applied sciences'\n",
    "    ]"
   ]
  },
  {
   "cell_type": "code",
   "execution_count": 4,
   "metadata": {},
   "outputs": [
    {
     "name": "stdout",
     "output_type": "stream",
     "text": [
      "['General reference', 'Culture and the arts', 'none', 'Geography and places', 'Health and fitness', 'History and events', 'Human activities', 'Mathematics and logic', 'Natural and physical sciences', 'People and self', 'Philosophy and thinking', 'Religion and belief systems', 'Society and social sciences', 'Technology and applied sciences']\n"
     ]
    }
   ],
   "source": [
    "print(level_1)"
   ]
  },
  {
   "cell_type": "code",
   "execution_count": 5,
   "metadata": {
    "scrolled": false
   },
   "outputs": [
    {
     "name": "stdout",
     "output_type": "stream",
     "text": [
      "'General_reference','Culture_and_the_arts','Geography_and_places','Health_and_fitness','History_and_events','Human_activities','Mathematics_and_logic','Natural_and_physical_sciences','People_and_self','Philosophy_and_thinking','Religion_and_belief_systems','Society_and_social_sciences','Technology_and_applied_sciences'\n"
     ]
    }
   ],
   "source": [
    "level_1_text = \"'General reference','Culture and the arts','Geography and places','Health and fitness','History and events','Human activities','Mathematics and logic','Natural and physical sciences','People and self','Philosophy and thinking','Religion and belief systems','Society and social sciences','Technology and applied sciences'\"\n",
    "level_1_under = level_1_text.replace(\" \", \"_\")\n",
    "print(level_1_under)"
   ]
  },
  {
   "cell_type": "code",
   "execution_count": 6,
   "metadata": {
    "scrolled": false
   },
   "outputs": [
    {
     "name": "stdout",
     "output_type": "stream",
     "text": [
      "['Wikipedia:Contents/Society and social sciences', 'Wikipedia:Contents/Categories/Society and social sciences', 'Wikipedia:Contents/Overview/Society and social sciences', 'Wikipedia:Contents/Indices/Society and social sciences', 'Wikipedia:Contents/Society and social sciences/Intro', 'Wikipedia:Contents/Society and social sciences/Overviews', 'Wikipedia:Contents/Outlines/Society and social sciences', 'Wikipedia:Contents/Society and social sciences/Categories', 'Wikipedia:Contents/Society and social sciences/Outlines', 'Wikipedia:Contents/Society and social sciences/Portals']\n"
     ]
    }
   ],
   "source": [
    "print(wiki.search('Wikipedia:Contents/Society_and_social_sciences'))\n",
    "#same test as intial notebook, don't see this list on page"
   ]
  },
  {
   "cell_type": "markdown",
   "metadata": {},
   "source": [
    "Less concerned with the structure and presence of topics on a certain level, but rather the overall collection of topics and articles anywhere within the language version."
   ]
  },
  {
   "cell_type": "code",
   "execution_count": 7,
   "metadata": {},
   "outputs": [],
   "source": [
    "from bs4 import BeautifulSoup as soup\n",
    "from urllib.request import urlopen\n",
    "import requests\n",
    "import urllib\n",
    "import re"
   ]
  },
  {
   "cell_type": "markdown",
   "metadata": {},
   "source": [
    "https://pythonspot.com/extract-links-from-webpage-beautifulsoup/\n",
    "\n",
    "will write a function that runs the following cell to each of the level_1_under titles:"
   ]
  },
  {
   "cell_type": "code",
   "execution_count": 8,
   "metadata": {
    "collapsed": true
   },
   "outputs": [
    {
     "ename": "NameError",
     "evalue": "name 'BeautifulSoup' is not defined",
     "output_type": "error",
     "traceback": [
      "\u001b[1;31m---------------------------------------------------------------------------\u001b[0m",
      "\u001b[1;31mNameError\u001b[0m                                 Traceback (most recent call last)",
      "\u001b[1;32m<ipython-input-8-33905d6c43ee>\u001b[0m in \u001b[0;36m<module>\u001b[1;34m\u001b[0m\n\u001b[0;32m      1\u001b[0m \u001b[0msociety_html\u001b[0m \u001b[1;33m=\u001b[0m \u001b[0murllib\u001b[0m\u001b[1;33m.\u001b[0m\u001b[0mrequest\u001b[0m\u001b[1;33m.\u001b[0m\u001b[0murlopen\u001b[0m\u001b[1;33m(\u001b[0m\u001b[1;34m\"https://en.wikipedia.org/wiki/Wikipedia:Contents/Outlines#Society_and_social_sciences\"\u001b[0m\u001b[1;33m)\u001b[0m\u001b[1;33m\u001b[0m\u001b[1;33m\u001b[0m\u001b[0m\n\u001b[1;32m----> 2\u001b[1;33m \u001b[0msociety_and_social_sciences\u001b[0m \u001b[1;33m=\u001b[0m \u001b[0mBeautifulSoup\u001b[0m\u001b[1;33m(\u001b[0m\u001b[0msociety_html\u001b[0m\u001b[1;33m)\u001b[0m\u001b[1;33m\u001b[0m\u001b[1;33m\u001b[0m\u001b[0m\n\u001b[0m\u001b[0;32m      3\u001b[0m \u001b[1;32mfor\u001b[0m \u001b[0mlink\u001b[0m \u001b[1;32min\u001b[0m \u001b[0msociety_and_social_sciences\u001b[0m\u001b[1;33m.\u001b[0m\u001b[0mfindAll\u001b[0m\u001b[1;33m(\u001b[0m\u001b[1;34m'a'\u001b[0m\u001b[1;33m,\u001b[0m \u001b[0mattrs\u001b[0m\u001b[1;33m=\u001b[0m\u001b[1;33m{\u001b[0m\u001b[1;34m'href'\u001b[0m\u001b[1;33m:\u001b[0m \u001b[0mre\u001b[0m\u001b[1;33m.\u001b[0m\u001b[0mcompile\u001b[0m\u001b[1;33m(\u001b[0m\u001b[1;34m\"^http://\"\u001b[0m\u001b[1;33m)\u001b[0m\u001b[1;33m}\u001b[0m\u001b[1;33m)\u001b[0m\u001b[1;33m:\u001b[0m\u001b[1;33m\u001b[0m\u001b[1;33m\u001b[0m\u001b[0m\n\u001b[0;32m      4\u001b[0m     \u001b[0mprint\u001b[0m\u001b[1;33m(\u001b[0m\u001b[0mlink\u001b[0m\u001b[1;33m.\u001b[0m\u001b[0mget\u001b[0m\u001b[1;33m(\u001b[0m\u001b[1;34m'href'\u001b[0m\u001b[1;33m)\u001b[0m\u001b[1;33m)\u001b[0m\u001b[1;33m\u001b[0m\u001b[1;33m\u001b[0m\u001b[0m\n",
      "\u001b[1;31mNameError\u001b[0m: name 'BeautifulSoup' is not defined"
     ]
    }
   ],
   "source": [
    "society_html = urllib.request.urlopen(\"https://en.wikipedia.org/wiki/Wikipedia:Contents/Outlines#Society_and_social_sciences\")\n",
    "society_and_social_sciences = BeautifulSoup(society_html)\n",
    "for link in society_and_social_sciences.findAll('a', attrs={'href': re.compile(\"^http://\")}):\n",
    "    print(link.get('href'))"
   ]
  },
  {
   "cell_type": "markdown",
   "metadata": {},
   "source": [
    "^^ code runs but no output"
   ]
  },
  {
   "cell_type": "code",
   "execution_count": 9,
   "metadata": {
    "collapsed": true
   },
   "outputs": [
    {
     "ename": "TypeError",
     "evalue": "select() missing 1 required positional argument: 'selector'",
     "output_type": "error",
     "traceback": [
      "\u001b[1;31m---------------------------------------------------------------------------\u001b[0m",
      "\u001b[1;31mTypeError\u001b[0m                                 Traceback (most recent call last)",
      "\u001b[1;32m<ipython-input-9-ede5f2c17907>\u001b[0m in \u001b[0;36m<module>\u001b[1;34m\u001b[0m\n\u001b[1;32m----> 1\u001b[1;33m \u001b[1;32mfor\u001b[0m \u001b[0mtag\u001b[0m \u001b[1;32min\u001b[0m \u001b[0msoup\u001b[0m\u001b[1;33m.\u001b[0m\u001b[0mselect\u001b[0m\u001b[1;33m(\u001b[0m\u001b[1;34m'a[href^=https://en.wikipedia.org/wiki/Wikipedia:Contents/Outlines#Society_and_social_sciences]'\u001b[0m\u001b[1;33m)\u001b[0m\u001b[1;33m:\u001b[0m\u001b[1;33m\u001b[0m\u001b[1;33m\u001b[0m\u001b[0m\n\u001b[0m\u001b[0;32m      2\u001b[0m     \u001b[0mlink\u001b[0m \u001b[1;33m=\u001b[0m \u001b[0mtag\u001b[0m\u001b[1;33m[\u001b[0m\u001b[1;34m'href'\u001b[0m\u001b[1;33m]\u001b[0m\u001b[1;33m\u001b[0m\u001b[1;33m\u001b[0m\u001b[0m\n\u001b[0;32m      3\u001b[0m     \u001b[0mprint\u001b[0m\u001b[1;33m(\u001b[0m\u001b[0mlink\u001b[0m\u001b[1;33m.\u001b[0m\u001b[0mget\u001b[0m\u001b[1;33m(\u001b[0m\u001b[1;34m'href'\u001b[0m\u001b[1;33m)\u001b[0m\u001b[1;33m)\u001b[0m\u001b[1;33m\u001b[0m\u001b[1;33m\u001b[0m\u001b[0m\n",
      "\u001b[1;31mTypeError\u001b[0m: select() missing 1 required positional argument: 'selector'"
     ]
    }
   ],
   "source": [
    "for tag in soup.select('a[href^=https://en.wikipedia.org/wiki/Wikipedia:Contents/Outlines#Society_and_social_sciences]'):\n",
    "    link = tag['href']\n",
    "    print(link.get('href'))"
   ]
  },
  {
   "cell_type": "code",
   "execution_count": 10,
   "metadata": {
    "collapsed": true
   },
   "outputs": [
    {
     "ename": "TypeError",
     "evalue": "select() missing 1 required positional argument: 'selector'",
     "output_type": "error",
     "traceback": [
      "\u001b[1;31m---------------------------------------------------------------------------\u001b[0m",
      "\u001b[1;31mTypeError\u001b[0m                                 Traceback (most recent call last)",
      "\u001b[1;32m<ipython-input-10-0e4dc0ab5827>\u001b[0m in \u001b[0;36m<module>\u001b[1;34m\u001b[0m\n\u001b[1;32m----> 1\u001b[1;33m \u001b[1;32mfor\u001b[0m \u001b[0mtag\u001b[0m \u001b[1;32min\u001b[0m \u001b[0msoup\u001b[0m\u001b[1;33m.\u001b[0m\u001b[0mselect\u001b[0m\u001b[1;33m(\u001b[0m\u001b[1;34m'a href=https://en.wikipedia.org/wiki/Wikipedia:Contents/Outlines#Society_and_social_sciences'\u001b[0m\u001b[1;33m)\u001b[0m\u001b[1;33m:\u001b[0m\u001b[1;33m\u001b[0m\u001b[1;33m\u001b[0m\u001b[0m\n\u001b[0m\u001b[0;32m      2\u001b[0m     \u001b[1;31m#class=\"\" #id=\"link\"\u001b[0m\u001b[1;33m\u001b[0m\u001b[1;33m\u001b[0m\u001b[1;33m\u001b[0m\u001b[0m\n\u001b[0;32m      3\u001b[0m     \u001b[0mlink\u001b[0m \u001b[1;33m=\u001b[0m \u001b[0mtag\u001b[0m\u001b[1;33m[\u001b[0m\u001b[1;34m'href'\u001b[0m\u001b[1;33m]\u001b[0m\u001b[1;33m\u001b[0m\u001b[1;33m\u001b[0m\u001b[0m\n\u001b[0;32m      4\u001b[0m     \u001b[0mprint\u001b[0m\u001b[1;33m(\u001b[0m\u001b[0mlink\u001b[0m\u001b[1;33m.\u001b[0m\u001b[0mget\u001b[0m\u001b[1;33m(\u001b[0m\u001b[1;34m'href'\u001b[0m\u001b[1;33m)\u001b[0m\u001b[1;33m)\u001b[0m\u001b[1;33m\u001b[0m\u001b[1;33m\u001b[0m\u001b[0m\n",
      "\u001b[1;31mTypeError\u001b[0m: select() missing 1 required positional argument: 'selector'"
     ]
    }
   ],
   "source": [
    "for tag in soup.select('a href=https://en.wikipedia.org/wiki/Wikipedia:Contents/Outlines#Society_and_social_sciences'):\n",
    "    #class=\"\" #id=\"link\"\n",
    "    link = tag['href']\n",
    "    print(link.get('href'))"
   ]
  },
  {
   "cell_type": "markdown",
   "metadata": {},
   "source": [
    "adjusting based on https://beautiful-soup-4.readthedocs.io/en/latest/"
   ]
  },
  {
   "cell_type": "code",
   "execution_count": 12,
   "metadata": {
    "collapsed": true
   },
   "outputs": [
    {
     "ename": "NameError",
     "evalue": "name 'society_and_social_sciences' is not defined",
     "output_type": "error",
     "traceback": [
      "\u001b[1;31m---------------------------------------------------------------------------\u001b[0m",
      "\u001b[1;31mNameError\u001b[0m                                 Traceback (most recent call last)",
      "\u001b[1;32m<ipython-input-12-6fda6d548c17>\u001b[0m in \u001b[0;36m<module>\u001b[1;34m\u001b[0m\n\u001b[1;32m----> 1\u001b[1;33m \u001b[1;32mfor\u001b[0m \u001b[0mtag\u001b[0m \u001b[1;32min\u001b[0m \u001b[0msociety_and_social_sciences\u001b[0m\u001b[1;33m.\u001b[0m\u001b[0mfindAll\u001b[0m\u001b[1;33m(\u001b[0m\u001b[1;34m\"a attrs={'href': re.compile('^http://en.wikipedia.org/wiki/Wikipedia:Contents/Outlines#Society_and_social_sciences)}\"\u001b[0m\u001b[1;33m)\u001b[0m\u001b[1;33m:\u001b[0m\u001b[1;33m\u001b[0m\u001b[1;33m\u001b[0m\u001b[0m\n\u001b[0m\u001b[0;32m      2\u001b[0m     \u001b[0mlink\u001b[0m \u001b[1;33m=\u001b[0m \u001b[0mtag\u001b[0m\u001b[1;33m[\u001b[0m\u001b[1;34m'href'\u001b[0m\u001b[1;33m]\u001b[0m\u001b[1;33m\u001b[0m\u001b[1;33m\u001b[0m\u001b[0m\n\u001b[0;32m      3\u001b[0m     \u001b[0mprint\u001b[0m\u001b[1;33m(\u001b[0m\u001b[0mlink\u001b[0m\u001b[1;33m.\u001b[0m\u001b[0mget\u001b[0m\u001b[1;33m(\u001b[0m\u001b[1;34m'href'\u001b[0m\u001b[1;33m)\u001b[0m\u001b[1;33m)\u001b[0m\u001b[1;33m\u001b[0m\u001b[1;33m\u001b[0m\u001b[0m\n",
      "\u001b[1;31mNameError\u001b[0m: name 'society_and_social_sciences' is not defined"
     ]
    }
   ],
   "source": [
    "#requests.get...\n",
    "\n",
    "for tag in society_and_social_sciences.findAll(\"a attrs={'href': re.compile('^http://en.wikipedia.org/wiki/Wikipedia:Contents/Outlines#Society_and_social_sciences)}\"):\n",
    "    link = tag['href']\n",
    "    print(link.get('href'))"
   ]
  },
  {
   "cell_type": "markdown",
   "metadata": {},
   "source": [
    "^^ code runs but no output"
   ]
  },
  {
   "cell_type": "markdown",
   "metadata": {},
   "source": [
    "### Moving on to translation"
   ]
  },
  {
   "cell_type": "code",
   "execution_count": 14,
   "metadata": {},
   "outputs": [],
   "source": [
    "wiki.set_lang(\"zh\")"
   ]
  },
  {
   "cell_type": "code",
   "execution_count": 15,
   "metadata": {},
   "outputs": [],
   "source": [
    "#homepage >> https://zh.wikipedia.org/wiki/Wikipedia:%E9%A6%96%E9%A1%B5"
   ]
  },
  {
   "cell_type": "code",
   "execution_count": 16,
   "metadata": {
    "scrolled": true
   },
   "outputs": [
    {
     "name": "stdout",
     "output_type": "stream",
     "text": [
      "火（英語：Fire）是物質燃燒過程中所進行的強烈氧化反應，其能量會以光和熱的形式釋放，並會產生大量的生成物。緩慢的氧化反應，例如生锈或消化不在上述的定義中。\n",
      "火的可见部分称為焰，可以隨著粒子的振動而呈現不同的形狀，在温度足够高时能以等离子体（第四態，類似氣體）的形式出現。依燃燒的物質及純度不同，火焰的顏色和亮度也會不同。\n",
      "火必須有可燃物、夠高的熱或溫度、氧化劑及化學物四項並存才能生火，根據質量守恆定律，火不會使被燃燒物的原子消失，只是透過化學反應轉變了被燃燒物的分子型態。火失控時，常常稱作失火或火災。\n",
      "所有已知的人類社會都使用火，火的使用是普世文化通則之一；而在現代人演化出來之前，古代的人屬生物，也就是現代人類在生物學上的祖先，如直立人，可能在一百萬年前到一百五十萬年前或更早，就已知道用火。\n",
      "火是影響全球生態系統的重要因素之一，火的正面影響可以維持各種生態系統以及刺激其成長。人類用火來烹調、生熱、產生訊號、照明及推進等。火的負面影響包括水體污染、土壤流失、空氣污染及對生命財產的危害。而造成全球溫度升高的溫室效應，其原因之一就是來自燃燒化石燃料產生的二氧化碳。\n"
     ]
    }
   ],
   "source": [
    "print(wiki.summary('fire'))"
   ]
  },
  {
   "cell_type": "markdown",
   "metadata": {},
   "source": [
    "wiki.WikipediaPage(title=mathematics, pageid=None, redirect=True, preload=False, original_title=u'')\n",
    "Contains data from a Wikipedia page. Uses property methods to filter data from the raw HTML.\n",
    "\n",
    "categories\n",
    "List of categories of a page.\n",
    "\n",
    "content\n",
    "Plain text content of the page, excluding images, tables, and other data."
   ]
  },
  {
   "cell_type": "code",
   "execution_count": 3,
   "metadata": {},
   "outputs": [
    {
     "name": "stdout",
     "output_type": "stream",
     "text": [
      "Mathematics (from Greek: μάθημα, máthēma, 'knowledge, study, learning') includes the study of such topics as quantity (number theory), structure (algebra), space (geometry), and change (analysis). It has no generally accepted definition.Mathematicians seek and use patterns to formulate new conjectures; they resolve the truth or falsity of such by mathematical proof. When mathematical structures are good models of real phenomena, mathematical reasoning can be used to provide insight or predictions about nature. Through the use of abstraction and logic, mathematics developed from counting, calculation, measurement, and the systematic study of the shapes and motions of physical objects. Practical mathematics has been a human activity from as far back as written records exist. The research required to solve mathematical problems can take years or even centuries of sustained inquiry.\n",
      "Rigorous arguments first appeared in Greek mathematics, most notably in Euclid's Elements. Since the pioneering work of Giuseppe Peano (1858–1932), David Hilbert (1862–1943), and others on axiomatic systems in the late 19th century, it has become customary to view mathematical research as establishing truth by rigorous deduction from appropriately chosen axioms and definitions. Mathematics developed at a relatively slow pace until the Renaissance, when mathematical innovations interacting with new scientific discoveries led to a rapid increase in the rate of mathematical discovery that has continued to the present day.Mathematics is essential in many fields, including natural science, engineering, medicine, finance, and the social sciences. Applied mathematics has led to entirely new mathematical disciplines, such as statistics and game theory. Mathematicians engage in pure mathematics (mathematics for its own sake) without having any application in mind, but practical applications for what began as pure mathematics are often discovered later.\n",
      "\n",
      "\n",
      "== History ==\n",
      "\n",
      "The history of mathematics can be seen as an ever-increasing series of abstractions. The first abstraction, which is shared by many animals, was probably that of numbers: the realization that a collection of two apples and a collection of two oranges (for example) have something in common, namely the quantity of their members.\n",
      "As evidenced by tallies found on bone, in addition to recognizing how to count physical objects, prehistoric peoples may have also recognized how to count abstract quantities, like time—days, seasons, or years.\n",
      "\n",
      "Evidence for more complex mathematics does not appear until around 3000 BC, when the Babylonians and Egyptians began using arithmetic, algebra and geometry for taxation and other financial calculations, for building and construction, and for astronomy. The oldest mathematical texts from Mesopotamia and Egypt are from 2000 to 1800 BC. Many early texts mention Pythagorean triples and so, by inference, the Pythagorean theorem seems to be the most ancient and widespread mathematical development after basic arithmetic and geometry. It is in Babylonian mathematics that elementary arithmetic (addition, subtraction, multiplication and division) first appear in the archaeological record. The Babylonians also possessed a place-value system and used a sexagesimal numeral system  which is still in use today for measuring angles and time.\n",
      "\n",
      "Beginning in the 6th century BC with the Pythagoreans, with Greek mathematics the Ancient Greeks began a systematic study of mathematics as a subject in its own right. Around 300 BC, Euclid introduced the axiomatic method still used in mathematics today, consisting of definition, axiom, theorem, and proof. His book, Elements, is widely considered the most successful and influential textbook of all time. The greatest mathematician of antiquity is often held to be Archimedes (c. 287–212 BC) of Syracuse. He developed formulas for calculating the surface area and volume of solids of revolution and used the method of exhaustion to calculate the area under the arc of a parabola with the summation of an infinite series, in a manner not too dissimilar from modern calculus. Other notable achievements of Greek mathematics are conic sections (Apollonius of Perga, 3rd century BC), trigonometry (Hipparchus of Nicaea, 2nd century BC), and the beginnings of algebra (Diophantus, 3rd century AD).\n",
      "\n",
      "The Hindu–Arabic numeral system and the rules for the use of its operations, in use throughout the world today, evolved over the course of the first millennium AD in India and were transmitted to the Western world via Islamic mathematics. Other notable developments of Indian mathematics include the modern definition and approximation of sine and cosine, and an early form of infinite series.\n",
      "\n",
      "During the Golden Age of Islam, especially during the 9th and 10th centuries, mathematics saw many important innovations building on Greek mathematics. The most notable achievement of Islamic mathematics was the development of algebra. Other achievements of the Islamic period include advances in spherical trigonometry and the addition of the decimal point to the Arabic numeral system. Many notable mathematicians from this period were Persian, such as Al-Khwarismi, Omar Khayyam and Sharaf al-Dīn al-Ṭūsī.\n",
      "During the early modern period, mathematics began to develop at an accelerating pace in Western Europe. The development of calculus by Newton and Leibniz in the 17th century revolutionized mathematics. Leonhard Euler was the most notable mathematician of the 18th century, contributing numerous theorems and discoveries. Perhaps the foremost mathematician of the 19th century was the German mathematician Carl Friedrich Gauss, who made numerous contributions to fields such as algebra, analysis, differential geometry, matrix theory, number theory, and statistics. In the early 20th century, Kurt Gödel transformed mathematics by publishing his incompleteness theorems, which show in part that any consistent axiomatic system—if powerful enough to describe arithmetic—will contain true propositions that cannot be proved.Mathematics has since been greatly extended, and there has been a fruitful interaction between mathematics and science, to the benefit of both. Mathematical discoveries continue to be made today. According to Mikhail B. Sevryuk, in the January 2006 issue of the Bulletin of the American Mathematical Society, \"The number of papers and books included in the Mathematical Reviews database since 1940 (the first year of operation of MR) is now more than 1.9 million, and more than 75 thousand items are added to the database each year. The overwhelming majority of works in this ocean contain new mathematical theorems and their proofs.\"\n",
      "\n",
      "\n",
      "=== Etymology ===\n",
      "The word mathematics comes from Ancient Greek máthēma (μάθημα), meaning \"that which is learnt,\" \"what one gets to know,\" hence also \"study\" and \"science\". The word for \"mathematics\" came to have the narrower and more technical meaning \"mathematical study\" even in Classical times. Its adjective is mathēmatikós (μαθηματικός), meaning \"related to learning\" or \"studious,\" which likewise further came to mean \"mathematical.\" In particular, mathēmatikḗ tékhnē (μαθηματικὴ τέχνη; Latin: ars mathematica) meant \"the mathematical art.\"\n",
      "Similarly, one of the two main schools of thought in Pythagoreanism was known as the mathēmatikoi (μαθηματικοί)—which at the time meant \"learners\" rather than \"mathematicians\" in the modern sense.In Latin, and in English until around 1700, the term mathematics more commonly meant \"astrology\" (or sometimes \"astronomy\") rather than \"mathematics\"; the meaning gradually changed to its present one from about 1500 to 1800. This has resulted in several mistranslations. For example, Saint Augustine's warning that Christians should beware of mathematici, meaning astrologers, is sometimes mistranslated as a condemnation of mathematicians.The apparent plural form in English, like the French plural form les mathématiques (and the less commonly used singular derivative la mathématique), goes back to the Latin neuter plural mathematica (Cicero), based on the Greek plural ta mathēmatiká (τὰ μαθηματικά), used by Aristotle (384–322 BC), and meaning roughly \"all things mathematical\", although it is plausible that English borrowed only the adjective mathematic(al) and formed the noun mathematics anew, after the pattern of physics and metaphysics, which were inherited from Greek. In English, the noun mathematics takes a singular verb. It is often shortened to maths or, in North America, math.\n",
      "\n",
      "\n",
      "== Definitions of mathematics ==\n",
      "\n",
      "Mathematics has no generally accepted definition. Aristotle defined mathematics as \"the science of quantity\" and this definition prevailed until the 18th century. However, Aristotle also noted a focus on quantity alone may not distinguish mathematics from sciences like physics; in his view, abstraction and studying quantity as a property \"separable in thought\" from real instances set mathematics apart.In the 19th century, when the study of mathematics increased in rigor and began to address abstract topics such as group theory and projective geometry, which have no clear-cut relation to quantity and measurement, mathematicians and philosophers began to propose a variety of new definitions.A great many professional mathematicians take no interest in a definition of mathematics, or consider it undefinable. There is not even consensus on whether mathematics is an art or a science. Some just say, \"Mathematics is what mathematicians do.\"\n",
      "\n",
      "\n",
      "=== Three leading types ===\n",
      "Three leading types of definition of mathematics today are called logicist, intuitionist, and formalist, each reflecting a different philosophical school of thought. All have severe flaws, none has widespread acceptance, and no reconciliation seems possible.\n",
      "\n",
      "\n",
      "==== Logicist definitions ====\n",
      "An early definition of mathematics in terms of logic was that of Benjamin Peirce (1870): \"the science that draws necessary conclusions.\" In the Principia Mathematica, Bertrand Russell and Alfred North Whitehead advanced the philosophical program known as logicism, and attempted to prove that all mathematical concepts, statements, and principles can be defined and proved entirely in terms of symbolic logic. A logicist definition of mathematics is Russell's (1903) \"All Mathematics is Symbolic Logic.\"\n",
      "\n",
      "\n",
      "==== Intuitionist definitions ====\n",
      "Intuitionist definitions, developing from the philosophy of mathematician L. E. J. Brouwer, identify mathematics with certain mental phenomena. An example of an intuitionist definition is \"Mathematics is the mental activity which consists in carrying out constructs one after the other.\" A peculiarity of intuitionism is that it rejects some mathematical ideas considered valid according to other definitions. In particular, while other philosophies of mathematics allow objects that can be proved to exist even though they cannot be constructed, intuitionism allows only mathematical objects that one can actually construct. Intuitionists also reject the law of excluded middle (i.e., \n",
      "  \n",
      "    \n",
      "      \n",
      "        P\n",
      "        ∨\n",
      "        ¬\n",
      "        P\n",
      "      \n",
      "    \n",
      "    {\\displaystyle P\\vee \\neg P}\n",
      "  ). While this stance does force them to reject one common version of proof by contradiction as a viable proof method, namely the inference of \n",
      "  \n",
      "    \n",
      "      \n",
      "        P\n",
      "      \n",
      "    \n",
      "    {\\displaystyle P}\n",
      "   from \n",
      "  \n",
      "    \n",
      "      \n",
      "        ¬\n",
      "        P\n",
      "        →\n",
      "        ⊥\n",
      "      \n",
      "    \n",
      "    {\\displaystyle \\neg P\\to \\bot }\n",
      "  , they are still able to infer \n",
      "  \n",
      "    \n",
      "      \n",
      "        ¬\n",
      "        P\n",
      "      \n",
      "    \n",
      "    {\\displaystyle \\neg P}\n",
      "   from \n",
      "  \n",
      "    \n",
      "      \n",
      "        P\n",
      "        →\n",
      "        ⊥\n",
      "      \n",
      "    \n",
      "    {\\displaystyle P\\to \\bot }\n",
      "  . For them, \n",
      "  \n",
      "    \n",
      "      \n",
      "        ¬\n",
      "        (\n",
      "        ¬\n",
      "        P\n",
      "        )\n",
      "      \n",
      "    \n",
      "    {\\displaystyle \\neg (\\neg P)}\n",
      "   is a strictly weaker statement than \n",
      "  \n",
      "    \n",
      "      \n",
      "        P\n",
      "      \n",
      "    \n",
      "    {\\displaystyle P}\n",
      "  .\n",
      "\n",
      "\n",
      "==== Formalist definitions ====\n",
      "Formalist definitions identify mathematics with its symbols and the rules for operating on them. Haskell Curry defined mathematics simply as \"the science of formal systems\". A formal system is a set of symbols, or tokens, and some rules on how the tokens are to be combined into formulas. In formal systems, the word axiom has a special meaning different from the ordinary meaning of \"a self-evident truth\", and is used to refer to a combination of tokens that is included in a given formal system without needing to be derived using the rules of the system.\n",
      "\n",
      "\n",
      "=== Mathematics as science ===\n",
      "\n",
      "The German mathematician Carl Friedrich Gauss referred to mathematics as \"the Queen of the Sciences\". More recently, Marcus du Sautoy has called mathematics \"the Queen of Science ... the main driving force behind scientific discovery\". The philosopher Karl Popper observed that \"most mathematical theories are, like those of physics and biology, hypothetico-deductive: pure mathematics therefore turns out to be much closer to the natural sciences whose hypotheses are conjectures, than it seemed even recently.\" Popper also noted that \"I shall certainly admit a system as empirical or scientific only if it is capable of being tested by experience.\"Several authors consider that mathematics is not a science because it does not rely on empirical evidence.Mathematics shares much in common with many fields in the physical sciences, notably the exploration of the logical consequences of assumptions. Intuition and experimentation also play a role in the formulation of conjectures in both mathematics and the (other) sciences. Experimental mathematics continues to grow in importance within mathematics, and computation and simulation are playing an increasing role in both the sciences and mathematics.\n",
      "The opinions of mathematicians on this matter are varied. Many mathematicians feel that to call their area a science is to downplay the importance of its aesthetic side, and its history in the traditional seven liberal arts; others feel that to ignore its connection to the sciences is to turn a blind eye to the fact that the interface between mathematics and its applications in science and engineering has driven much development in mathematics. One way this difference of viewpoint plays out is in the philosophical debate as to whether mathematics is created (as in art) or discovered (as in science). In practice, mathematicians are typically grouped with scientists at the gross level but separated at finer levels. This is one of many issues considered in the philosophy of mathematics.\n",
      "\n",
      "\n",
      "== Inspiration, pure and applied mathematics, and aesthetics ==\n",
      "\n",
      "Mathematics arises from many different kinds of problems. At first these were found in commerce, land measurement, architecture and later astronomy; today, all sciences suggest problems studied by mathematicians, and many problems arise within mathematics itself. For example, the physicist Richard Feynman invented the path integral formulation of quantum mechanics using a combination of mathematical reasoning and physical insight, and today's string theory, a still-developing scientific theory which attempts to unify the four fundamental forces of nature, continues to inspire new mathematics.Some mathematics is relevant only in the area that inspired it, and is applied to solve further problems in that area. But often mathematics inspired by one area proves useful in many areas, and joins the general stock of mathematical concepts. A distinction is often made between pure mathematics and applied mathematics. However pure mathematics topics often turn out to have applications, e.g. number theory in cryptography.\n",
      "This remarkable fact, that even the \"purest\" mathematics often turns out to have practical applications, is what the physicist Eugene Wigner has named \"the unreasonable effectiveness of mathematics\". The philosopher of mathematics Mark Steiner has written extensively on this matter and acknowledges that the applicability of mathematics constitutes “a challenge to naturalism.” For the philosopher of mathematics Mary Leng, the fact that the physical world acts in accordance with the dictates of non-causal mathematical entities existing beyond the universe is \"a happy coincidence\". On the other hand, for some  anti-realists, connections, which are acquired among mathematical things, just mirror the connections acquiring among objects in the universe, so that there is no \"happy coincidence\".As in most areas of study, the explosion of knowledge in the scientific age has led to specialization: there are now hundreds of specialized areas in mathematics and the latest Mathematics Subject Classification runs to 46 pages. Several areas of applied mathematics have merged with related traditions outside of mathematics and become disciplines in their own right, including statistics, operations research, and computer science.\n",
      "For those who are mathematically inclined, there is often a definite aesthetic aspect to much of mathematics. Many mathematicians talk about the elegance of mathematics, its intrinsic aesthetics and inner beauty. Simplicity and generality are valued. There is beauty in a simple and elegant proof, such as Euclid's proof that there are infinitely many prime numbers, and in an elegant numerical method that speeds calculation, such as the fast Fourier transform. G. H. Hardy in A Mathematician's Apology expressed the belief that these aesthetic considerations are, in themselves, sufficient to justify the study of pure mathematics. He identified criteria such as significance, unexpectedness, inevitability, and economy as factors that contribute to a mathematical aesthetic. Mathematical research often seeks critical features of a mathematical object. A theorem expressed as a characterization of the object by these features is the prize. Examples of particularly succinct and revelatory mathematical arguments have been published in Proofs from THE BOOK.\n",
      "The popularity of recreational mathematics is another sign of the pleasure many find in solving mathematical questions. And at the other social extreme, philosophers continue to find problems in philosophy of mathematics, such as the nature of mathematical proof.\n",
      "\n",
      "\n",
      "== Notation, language, and rigor ==\n",
      "\n",
      "Most of the mathematical notation in use today was not invented until the 16th century. Before that, mathematics was written out in words, limiting mathematical discovery. Euler (1707–1783) was responsible for many of the notations in use today. Modern notation makes mathematics much easier for the professional, but beginners often find it daunting. According to Barbara Oakley, this can be attributed to the fact that mathematical ideas are both more abstract and more encrypted than those of natural language. Unlike natural language, where people can often equate a word (such as cow) with the physical object it corresponds to, mathematical symbols are abstract, lacking any physical analog. Mathematical symbols are also more highly encrypted than regular words, meaning a single symbol can encode a number of different operations or ideas.Mathematical language can be difficult to understand for beginners because even common terms, such as or and only, have a more precise meaning than they have in everyday speech, and other terms such as open and field refer to specific mathematical ideas, not covered by their laymen's meanings. Mathematical language also includes many technical terms such as homeomorphism and integrable that have no meaning outside of mathematics. Additionally, shorthand phrases such as iff for \"if and only if\" belong to mathematical jargon. There is a reason for special notation and technical vocabulary: mathematics requires more precision than everyday speech. Mathematicians refer to this precision of language and logic as \"rigor\".\n",
      "Mathematical proof is fundamentally a matter of rigor. Mathematicians want their theorems to follow from axioms by means of systematic reasoning. This is to avoid mistaken \"theorems\", based on fallible intuitions, of which many instances have occurred in the history of the subject. The level of rigor expected in mathematics has varied over time: the Greeks expected detailed arguments, but at the time of Isaac Newton the methods employed were less rigorous. Problems inherent in the definitions used by Newton would lead to a resurgence of careful analysis and formal proof in the 19th century. Misunderstanding the rigor is a cause for some of the common misconceptions of mathematics. Today, mathematicians continue to argue among themselves about computer-assisted proofs. Since large computations are hard to verify, such proofs may be erroneous if the used computer program is erroneous. On the other hand, proof assistants allow verifying all details that cannot be given in a hand-written proof, and provide certainty of the correctness of long proofs such as that of the Feit–Thompson theorem.Axioms in traditional thought were \"self-evident truths\", but that conception is problematic. At a formal level, an axiom is just a string of symbols, which has an intrinsic meaning only in the context of all derivable formulas of an axiomatic system. It was the goal of Hilbert's program to put all of mathematics on a firm axiomatic basis, but according to Gödel's incompleteness theorem every (sufficiently powerful) axiomatic system has undecidable formulas; and so a final axiomatization of mathematics is impossible. Nonetheless mathematics is often imagined to be (as far as its formal content) nothing but set theory in some axiomatization, in the sense that every mathematical statement or proof could be cast into formulas within set theory.\n",
      "\n",
      "\n",
      "== Fields of mathematics ==\n",
      "\n",
      "Mathematics can, broadly speaking, be subdivided into the study of quantity, structure, space, and change (i.e. arithmetic, algebra, geometry, and analysis). In addition to these main concerns, there are also subdivisions dedicated to exploring links from the heart of mathematics to other fields: to logic, to set theory (foundations), to the empirical mathematics of the various sciences (applied mathematics), and more recently to the rigorous study of uncertainty. While some areas might seem unrelated, the Langlands program has found connections between areas previously thought unconnected, such as Galois groups, Riemann surfaces and number theory.\n",
      "Discrete mathematics conventionally groups together the fields of mathematics which study mathematical structures that are fundamentally discrete rather than continuous.\n",
      "\n",
      "\n",
      "=== Foundations and philosophy ===\n",
      "In order to clarify the foundations of mathematics, the fields of mathematical logic and set theory were developed. Mathematical logic includes the mathematical study of logic and the applications of formal logic to other areas of mathematics; set theory is the branch of mathematics that studies sets or collections of objects. The phrase \"crisis of foundations\" describes the search for a rigorous foundation for mathematics that took place from approximately 1900 to 1930. Some disagreement about the foundations of mathematics continues to the present day. The crisis of foundations was stimulated by a number of controversies at the time, including the controversy over Cantor's set theory and the Brouwer–Hilbert controversy.\n",
      "Mathematical logic is concerned with setting mathematics within a rigorous axiomatic framework, and studying the implications of such a framework. As such, it is home to Gödel's incompleteness theorems which (informally) imply that any effective formal system that contains basic arithmetic, if sound (meaning that all theorems that can be proved are true), is necessarily incomplete (meaning that there are true theorems which cannot be proved in that system). Whatever finite collection of number-theoretical axioms is taken as a foundation, Gödel showed how to construct a formal statement that is a true number-theoretical fact, but which does not follow from those axioms. Therefore, no formal system is a complete axiomatization of full number theory. Modern logic is divided into recursion theory, model theory, and proof theory, and is closely linked to theoretical computer science, as well as to category theory. In the context of recursion theory, the impossibility of a full axiomatization of number theory can also be formally demonstrated as a consequence of the MRDP theorem.\n",
      "Theoretical computer science includes computability theory, computational complexity theory, and information theory. Computability theory examines the limitations of various theoretical models of the computer, including the most well-known model—the Turing machine. Complexity theory is the study of tractability by computer; some problems, although theoretically solvable by computer, are so expensive in terms of time or space that solving them is likely to remain practically unfeasible, even with the rapid advancement of computer hardware. A famous problem is the \"P = NP?\" problem, one of the Millennium Prize Problems. Finally, information theory is concerned with the amount of data that can be stored on a given medium, and hence deals with concepts such as compression and entropy.\n",
      "\n",
      "\n",
      "=== Pure mathematics ===\n",
      "\n",
      "\n",
      "==== Number systems and number theory ====\n",
      "\n",
      "The study of quantity starts with numbers, first the familiar natural numbers\n",
      "\n",
      "  \n",
      "    \n",
      "      \n",
      "        \n",
      "          N\n",
      "        \n",
      "      \n",
      "    \n",
      "    {\\displaystyle \\mathbb {N} }\n",
      "  \n",
      "and integers \n",
      "\n",
      "  \n",
      "    \n",
      "      \n",
      "        \n",
      "          Z\n",
      "        \n",
      "      \n",
      "    \n",
      "    {\\displaystyle \\mathbb {Z} }\n",
      "  \n",
      "(\"whole numbers\") and arithmetical operations on them, which are characterized in arithmetic. The deeper properties of integers are studied in number theory, from which come such popular results as Fermat's Last Theorem. The twin prime conjecture and Goldbach's conjecture are two unsolved problems in number theory.\n",
      "As the number system is further developed, the integers are recognized as a subset of the rational numbers\n",
      "\n",
      "  \n",
      "    \n",
      "      \n",
      "        \n",
      "          Q\n",
      "        \n",
      "      \n",
      "    \n",
      "    {\\displaystyle \\mathbb {Q} }\n",
      "  \n",
      "(\"fractions\"). These, in turn, are contained within the real numbers,\n",
      "\n",
      "  \n",
      "    \n",
      "      \n",
      "        \n",
      "          R\n",
      "        \n",
      "      \n",
      "    \n",
      "    {\\displaystyle \\mathbb {R} }\n",
      "  \n",
      "which are used to represent limits of sequences of rational numbers and continuous quantities. Real numbers are generalized to the complex numbers\n",
      "\n",
      "  \n",
      "    \n",
      "      \n",
      "        \n",
      "          C\n",
      "        \n",
      "      \n",
      "    \n",
      "    {\\displaystyle \\mathbb {C} }\n",
      "  .\n",
      "According to the fundamental theorem of algebra, all polynomial equations in one unknown with complex coefficients have a solution in the complex numbers, regardless of degree of the polynomial.\n",
      "\n",
      "  \n",
      "    \n",
      "      \n",
      "        \n",
      "          N\n",
      "        \n",
      "        ,\n",
      "         \n",
      "        \n",
      "          Z\n",
      "        \n",
      "        ,\n",
      "         \n",
      "        \n",
      "          Q\n",
      "        \n",
      "        ,\n",
      "         \n",
      "        \n",
      "          R\n",
      "        \n",
      "      \n",
      "    \n",
      "    {\\displaystyle \\mathbb {N} ,\\ \\mathbb {Z} ,\\ \\mathbb {Q} ,\\ \\mathbb {R} }\n",
      "   and \n",
      "  \n",
      "    \n",
      "      \n",
      "        \n",
      "          C\n",
      "        \n",
      "      \n",
      "    \n",
      "    {\\displaystyle \\mathbb {C} }\n",
      "  \n",
      "are the first steps of a hierarchy of numbers that goes on to include quaternions and octonions. Consideration of the natural numbers also leads to the transfinite numbers, which formalize the concept of \"infinity\".  Another area of study is the size of sets, which is described with the cardinal numbers. These include the aleph numbers, which allow meaningful comparison of the size of infinitely large sets.\n",
      "\n",
      "\n",
      "==== Structure ====\n",
      "\n",
      "Many mathematical objects, such as sets of numbers and functions, exhibit internal structure as a consequence of operations or relations that are defined on the set. Mathematics then studies properties of those sets that can be expressed in terms of that structure; for instance number theory studies properties of the set of integers that can be expressed in terms of arithmetic operations. Moreover, it frequently happens that different such structured sets (or structures) exhibit similar properties, which makes it possible, by a further step of abstraction, to state axioms for a class of structures, and then study at once the whole class of structures satisfying these axioms. Thus one can study groups, rings, fields and other abstract systems; together such studies (for structures defined by algebraic operations) constitute the domain of abstract algebra.\n",
      "By its great generality, abstract algebra can often be applied to seemingly unrelated problems; for instance a number of ancient problems concerning compass and straightedge constructions were finally solved using Galois theory, which involves field theory and group theory. Another example of an algebraic theory is linear algebra, which is the general study of vector spaces, whose elements called vectors have both quantity and direction, and can be used to model (relations between) points in space. This is one example of the phenomenon that the originally unrelated areas of geometry and algebra have very strong interactions in modern mathematics. Combinatorics studies ways of enumerating the number of objects that fit a given structure.\n",
      "\n",
      "\n",
      "==== Space ====\n",
      "\n",
      "The study of space originates with geometry—in particular, Euclidean geometry, which combines space and numbers, and encompasses the well-known Pythagorean theorem. Trigonometry is the branch of mathematics that deals with relationships between the sides and the angles of triangles and with the trigonometric functions. The modern study of space generalizes these ideas to include higher-dimensional geometry, non-Euclidean geometries (which play a central role in general relativity) and topology. Quantity and space both play a role in analytic geometry, differential geometry, and algebraic geometry. Convex and discrete geometry were developed to solve problems in number theory and functional analysis but now are pursued with an eye on applications in optimization and computer science. Within differential geometry are the concepts of fiber bundles and calculus on manifolds, in particular, vector and tensor calculus. Within algebraic geometry is the description of geometric objects as solution sets of polynomial equations, combining the concepts of quantity and space, and also the study of topological groups, which combine structure and space. Lie groups are used to study space, structure, and change. Topology in all its many ramifications may have been the greatest growth area in 20th-century mathematics; it includes point-set topology, set-theoretic topology, algebraic topology and differential topology. In particular, instances of modern-day topology are metrizability theory, axiomatic set theory, homotopy theory, and Morse theory. Topology also includes the now solved Poincaré conjecture, and the still unsolved areas of the Hodge conjecture. Other results in geometry and topology, including the four color theorem and Kepler conjecture, have been proven only with the help of computers.\n",
      "\n",
      "\n",
      "==== Change ====\n",
      "\n",
      "Understanding and describing change is a common theme in the natural sciences, and calculus was developed as a tool to investigate it. Functions arise here as a central concept describing a changing quantity. The rigorous study of real numbers and functions of a real variable is known as real analysis, with complex analysis the equivalent field for the complex numbers. Functional analysis focuses attention on (typically infinite-dimensional) spaces of functions. One of many applications of functional analysis is quantum mechanics. Many problems lead naturally to relationships between a quantity and its rate of change, and these are studied as differential equations. Many phenomena in nature can be described by dynamical systems; chaos theory makes precise the ways in which many of these systems exhibit unpredictable yet still deterministic behavior.\n",
      "\n",
      "\n",
      "=== Applied mathematics ===\n",
      "\n",
      "Applied mathematics concerns itself with mathematical methods that are typically used in science, engineering, business, and industry. Thus, \"applied mathematics\" is a mathematical science with specialized knowledge. The term applied mathematics also describes the professional specialty in which mathematicians work on practical problems; as a profession focused on practical problems, applied mathematics focuses on the \"formulation, study, and use of mathematical models\" in science, engineering, and other areas of mathematical practice.\n",
      "In the past, practical applications have motivated the development of mathematical theories, which then became the subject of study in pure mathematics, where mathematics is developed primarily for its own sake. Thus, the activity of applied mathematics is vitally connected with research in pure mathematics.\n",
      "\n",
      "\n",
      "==== Statistics and other decision sciences ====\n",
      "\n",
      "Applied mathematics has significant overlap with the discipline of statistics, whose theory is formulated mathematically, especially with probability theory. Statisticians (working as part of a research project) \"create data that makes sense\" with random sampling and with randomized experiments; the design of a statistical sample or experiment specifies the analysis of the data (before the data becomes available). When reconsidering data from experiments and samples or when analyzing data from observational studies, statisticians \"make sense of the data\" using the art of modelling and the theory of inference—with model selection and estimation; the estimated models and consequential predictions should be tested on new data.Statistical theory studies decision problems such as minimizing the risk (expected loss) of a statistical action, such as using a procedure in, for example, parameter estimation, hypothesis testing, and selecting the best. In these traditional areas of mathematical statistics, a statistical-decision problem is formulated by minimizing an objective function, like expected loss or cost, under specific constraints: For example, designing a survey often involves minimizing the cost of estimating a population mean with a given level of confidence. Because of its use of optimization, the mathematical theory of statistics shares concerns with other decision sciences, such as operations research, control theory, and mathematical economics.\n",
      "\n",
      "\n",
      "==== Computational mathematics ====\n",
      "Computational mathematics proposes and studies methods for solving mathematical problems that are typically too large for human numerical capacity. Numerical analysis studies methods for problems in analysis using functional analysis and approximation theory; numerical analysis includes the study of approximation and discretisation broadly with special concern for rounding errors. Numerical analysis and, more broadly, scientific computing also study non-analytic topics of mathematical science, especially algorithmic matrix and graph theory. Other areas of computational mathematics include computer algebra and symbolic computation.\n",
      "\n",
      "\n",
      "== Mathematical awards ==\n",
      "Arguably the most prestigious award in mathematics is the Fields Medal, established in 1936 and awarded every four years (except around World War II) to as many as four individuals. The Fields Medal is often considered a mathematical equivalent to the Nobel Prize.\n",
      "The Wolf Prize in Mathematics, instituted in 1978, recognizes lifetime achievement, and another major international award, the Abel Prize, was instituted in 2003. The Chern Medal was introduced in 2010 to recognize lifetime achievement. These accolades are awarded in recognition of a particular body of work, which may be innovational, or provide a solution to an outstanding problem in an established field.\n",
      "A famous list of 23 open problems, called \"Hilbert's problems\", was compiled in 1900 by German mathematician David Hilbert. This list achieved great celebrity among mathematicians, and at least nine of the problems have now been solved. A new list of seven important problems, titled the \"Millennium Prize Problems\", was published in 2000. Only one of them, the Riemann hypothesis, duplicates one of Hilbert's problems. A solution to any of these problems carries a 1 million dollar reward. Currently, only one of these problems, the Poincaré conjecture, has been solved.\n",
      "\n",
      "\n",
      "== See also ==\n",
      "\n",
      "\n",
      "== Notes ==\n",
      "\n",
      "\n",
      "== References ==\n",
      "\n",
      "\n",
      "== Bibliography ==\n",
      "\n",
      "\n",
      "== Further reading ==\n"
     ]
    }
   ],
   "source": [
    "print(wiki.page('Mathematics').content)"
   ]
  },
  {
   "cell_type": "markdown",
   "metadata": {},
   "source": [
    "this works if I want to operate in the language version over several commands, without having to refer to the homepage, and can translate along the way, like this..."
   ]
  },
  {
   "cell_type": "code",
   "execution_count": 6,
   "metadata": {},
   "outputs": [
    {
     "name": "stdout",
     "output_type": "stream",
     "text": [
      "火（英語：Fire）是物質燃燒過程中所進行的強烈氧化反應，其能量會以光和熱的形式釋放，並會產生大量的生成物。緩慢的氧化反應，例如生锈或消化不在上述的定義中。\n",
      "火的可见部分称為焰，可以隨著粒子的振動而呈現不同的形狀，在温度足够高时能以等离子体（第四態，類似氣體）的形式出現。依燃燒的物質及純度不同，火焰的顏色和亮度也會不同。\n",
      "火必須有可燃物、夠高的熱或溫度、氧化劑及化學物四項並存才能生火，根據質量守恆定律，火不會使被燃燒物的原子消失，只是透過化學反應轉變了被燃燒物的分子型態。火失控時，常常稱作失火或火災。\n",
      "所有已知的人類社會都使用火，火的使用是普世文化通則之一；而在現代人演化出來之前，古代的人屬生物，也就是現代人類在生物學上的祖先，如直立人，可能在一百萬年前到一百五十萬年前或更早，就已知道用火。\n",
      "火是影響全球生態系統的重要因素之一，火的正面影響可以維持各種生態系統以及刺激其成長。人類用火來烹調、生熱、產生訊號、照明及推進等。火的負面影響包括水體污染、土壤流失、空氣污染及對生命財產的危害。而造成全球溫度升高的溫室效應，其原因之一就是來自燃燒化石燃料產生的二氧化碳。\n",
      "\n",
      "\n",
      "== 性質 ==\n",
      "\n",
      "\n",
      "=== 化學 ===\n",
      "\n",
      "燃燒四面體：氧氣、熱力、燃料和連鎖反應\n",
      "當可燃性的物質（燃料）和足量的氧化劑（如氧氣、高含氧量的物質或是其他不含氧的氧化劑）混合，暴露在一熱源或是高於燃料及氧化劑混合物閃點的溫度時，就會起火燃燒，而且可以維持快速的氧化反應．形成链反应，一般會稱燃料、氧化劑、熱及链反应為燃燒四面體。若沒有上述元素，或是比例不對，就無法起火燃燒，例如可燃液體只有在液體和氧氣在一定比例內才會燃燒，有些燃料及氧化劑的混合物需要催化劑才能燃燒，催化劑是在反應前後質量維持不變的物質，但有催化劑時，燃料及氧化劑比較可以穩定的燃燒。在火點燃之後，燃料只要可以藉由熱能的釋放來維持本身的溫度，就會出現链反应，若是持續的供應燃料及氧化劑，火可能會擴散。\n",
      "若燃燒的氧化劑是來自週圍的空氣，重力或是其他加速度來產生對流，將燃燒的產物帶走，並且補充氧氣，有助於繼續燃燒。若沒有對流，燃料起火後會立刻被周圍的燃燒產物及空氣中不可燃的氣體包圍，火會因沒有足夠氧氣而熄滅。\n",
      "只要去除了燃燒四面體中的任何一項，火就會熄滅。以一個天然氣為燃料的火焰為例，以下方式中的任何一個都可以滅火。\n",
      "\n",
      "將天然氣關閉，移除燃料。\n",
      "將火焰整個蓋住，使火焰悶燒，消耗氧氣，產生二氧化碳。\n",
      "沖水，快速的將熱量移除，用力的吹火焰，使正在燃燒的氣體離開燃料源，也是一個方法。\n",
      "將阻燃劑（如海龍）加到火焰中，阻燃劑可以減緩化學反應，讓燃燒速率慢到無法持續链反应。若加快燃燒的速度，火會變強烈。這類的作法包括依反應式的比例平衡燃料和氧化劑的量，提高環境溫度，因此可以靠燃燒的發熱來繼續燃燒，或是加入催化劑使燃料和氧化劑更容易反應。\n",
      "\n",
      "\n",
      "=== 火焰 ===\n",
      "\n",
      "火焰是反應的氣體及固體的混合物，會釋放可見光、紅外線甚至是紫外線，其發射光譜依燃燒物質的化學成份及中間產物而定。大部份的情形，例如燃燒像木頭等有機物質，或是氣體的不完全燃燒，白熾的炭黑形成熟悉的橙紅色火焰\n",
      "。這類火焰的光譜為連續光譜。氣體的完全燃燒會有淺藍色的火焰，原因為火焰中形成的激發態分子的各種電子躍遷產生的單一波長輻射。火焰一般是和氧氣有關，但氫氣在氯氣中燃燒也會產生火焰，生成氯化氫。其他混合後燃燒會產生火焰的氣體包括氟氣和氫氣，以及太空船的燃料聯氨和四氧化二氮。\n",
      "火焰的發光相當複雜，炭黑、氣體及燃料粒子會產生黑體輻射，不過炭黑粒子太小，無法近似為理想的黑體，氣體的原子及分子由激態回到基態時也會釋放光子。大部份的輻射是在可見光及紅外線的範圍內，其顏色依在黑體輻射的溫度而不同，也和化學物質的發射光譜有關。火焰主要的顏色和溫度有關，在一般森林大火的照片中，就可以說明這些差異，例如靠近地面處，也就是大部份燃燒進行的區域，火焰是白色（一般有機物質燃燒產生最高溫的顏色）或是黃色。在黃色的區域以上，火焰變成橘色或是紅色，溫度慢慢降低，在紅色區域以上，已不再有燃燒反應．未燃燒的碳粒形成可見的黑煙。\n",
      "在一般重力下火焰的形狀和對流有關，一般火焰的炭黑會漂到火焰的最上方，就像蠟燭的火焰一様，並且發出紅色。若在微重力或是無重力的環境中，例如外太空，沒有對流現象，火焰會變成圓球形，而且會更藍，而且燃燒效率更高（不過若沒有持續的移動，火焰會因為燃燒後的產物在微重力下無法快速釋放，而使火焰熄滅。兩者的差異有許多不同的解釋，最有可能的是其溫度非常均勻，沒有產生碳黑，而且造成了完全燃燒。NASA在太空中進行的實驗說明在微重力下的沖焰可以比一般重力下的沖焰讓更多的炭黑完全氧化，因為微重力下的反應機制和一般重力下的反應機制不同。這些發現在應用科學及工業上有應用價值，包括可以提高燃料效率。\n",
      "\n",
      "\n",
      "=== 熱 ===\n",
      "\n",
      "火會產生熱，或是因熱接觸會有能量的轉移。\n",
      "\n",
      "\n",
      "==== 火和火焰的典型溫度 ====\n",
      "氫氧焰：約2,000°C（3,600°F 2,273.15°K）以上\n",
      "本生燈焰：約1,300°C（2,372°F 1,573.15°K）至1,600°C（2,912°F 1,873.15°K）\n",
      "噴燈焰：1,300°C（2,372°F 1,573.15°K）\n",
      "蠟燭焰：1,000°C（1,832°F 1,273.15°K）\n",
      "低溫蠟燭焰：50-60°C（323.1500K-333.1500K）格式\n",
      "\n",
      "悶燒的香煙：\n",
      "沒有抽煙時的溫度：點燃部份的兩側：400°C（752°F 673.15°K），點燃部份的中間：585°C（1,085°F 858.15°K）\n",
      "抽煙時的溫度：點燃部份的中間700°C（1,292°F 973.15°K）\n",
      "中間的溫度會比較高\n",
      "\n",
      "\n",
      "==== 不同外觀火焰的溫度 ====\n",
      "燃燒碳的溫度可以由火焰的顏色及外觀識別：\n",
      "\n",
      "紅色\n",
      "勉強可見：525°C（977°F 798.15°K）\n",
      "暗紅色：700°C（1,292°F 973.15°K）\n",
      "暗櫻桃紅色：800°C（1,472°F 1,073.15°K）\n",
      "櫻桃紅色：900°C（1,652°F 1,173.15°K）\n",
      "亮櫻桃紅色：1,000°C（1,832°F 1,273.15°K）\n",
      "橘色\n",
      "深橘色：1,100°C（2,012°F 1,373.15°K）\n",
      "亮橘色：1,200°C（2,192°F 1,473.15°K）\n",
      "白色\n",
      "一般白色：1,300°C（2,372°F 1,573.15°K）\n",
      "亮白色：1,400°C（2,552°F 1,673.15°K）\n",
      "刺眼：1,500°C（2,732°F 1,773.15°K）總體上火焰溫度非由顏色決定，而是物質。\n",
      "\n",
      "\n",
      "== 控制火 ==\n",
      "\n",
      "\n",
      "=== 原始人類對火的使用 ===\n",
      "\n",
      "使用火來提供熱和光是人類早期偉大的成就之一。早期的人類從自然界產生的火源中保留火種。後來學會使用钻木取火，通過將尖木棍對著木材快速旋轉，摩擦生熱，取得火源。有以手鑽者，有以弓鑽者。亦有通过敲击燧石的方式来获得火。學會用火使人類能夠到氣候較冷的地區定居。火被用于烹飪较易消化的熟食、照明、提供溫暖、驱赶野兽、熱處理材料等等。考古學研究显示，生活在170万年前的中国元谋人就能有控制地用火。近東人類於79萬年前就能自己生火。但使用火的技能約到四十萬年前才普及。\n",
      "\n",
      "\n",
      "=== 近代人類對火的使用 ===\n",
      "燃燒木材是最早的生火方式。树木自古提供人類需要的很多能源（如：篝火、火炬），故稱柴或柴火。不同的樹木造就不同的柴火。《调鼎集·火》列举各種木柴烹煮：“桑柴火：煮物食之，主益人。又煮老鸭及肉等，能令极烂，能解一切毒，秽柴不宜作食。稻穗火：烹煮饭食，安人神魂到五脏六腑。麦穗火：煮饭食，主消渴润喉，利小便。松柴火：煮饭，壮筋骨，煮茶不宜。栎柴火：煮猪肉食之，不动风，煮鸡鸭鹅鱼腥等物烂。茅柴火：炊者饮食，主明目解毒。芦火、竹火：宜煎一切滋补药。炭火：宜煎茶，味美而不浊。糠火：砻糠火煮饮食，支地灶，可架二锅，南方人多用之，其费较柴火省半。惜春时糠内入虫，有伤物命。”。\n",
      "到了現代，人類利用火力發電，以煤炭、石油和天然氣為燃料產生電力，火力發電約佔總發電量的七成。而汽油及柴油等化石燃料也是汽車、機車其至飛機的能量來源。\n",
      "\n",
      "\n",
      "== 火和古代傳統文化 ==\n",
      "\n",
      "火和燃燒常用於宗教儀式和象徵。一般至少有兩種意義：\n",
      "\n",
      "火和水都代表潔淨、消毒，比方說在沒有消毒藥水的情況下，用來挑刺的針必須先過火以免傷口感染；《聖經·以賽亞書》中，撒拉弗在異象中用火剪從壇上取下紅炭來潔淨以賽亞嘴唇不潔之罪。\n",
      "燃燒代表將東西寄往靈界，比方說中國民間信仰常常為祖先燒冥錢（或稱紙錢或金銀紙，廣東稱之為陰司紙）、紙車子、紙房子等，希望死者在陰間不致缺乏；道教的疏文在儀式近末尾時會被焚燒，以上達天庭；佛教的密宗有火供（或稱護摩法），通過燃燒供品來供養佛菩薩、火神等。\n",
      "瑣羅亞斯德教認為，火是阿胡拉·馬自達最早創造出來的兒子，象徵神的絕對和至善，其廟中都有祭台點燃神火，也被稱為「拜火教」。\n",
      "古代人們理解大自然，嘗試為自然現象分類、總結時往往認為火是其中一個不可分割的元素。古希臘人認為世界上所有的物質是由空氣、水、泥土和火以不同的比例混合組成的。火也是中國傳統文化中五行之一。五行相生相剋，其中木生火、火生土、水剋火、火剋金。天干的丙、丁為火。中醫常說上火（廣東稱之為熱氣）、去火等，後來被發現跟西醫的發炎有關。\n",
      "中國民間傳說中發現火的燧人氏有被列為三皇之一，古称火为“阳之精”。《後漢書》志第十四：“火者，阳之精也。”。明朝思想家顾炎武反对用石取火，他认为用火石取火都会影响寿命。他说：“古人用火必取之木，而复有四时五行之变。《素问》黄帝言：壮火散气，少火生气。季春出火，贵其新者少火之义也。今日一切取之于石，其性猛烈而不宜人，病痰之多，年寿自减，有之来矣。”。\n",
      "此外，火作為一種象徵物常常出現在文學及宗教領域中。《聖經·使徒行傳》中，聖靈被喻為舌頭如火焰顯現並降臨；《聖經·創世記》提到，上帝將亞當夏娃趕離伊甸園時，在伊甸園的東邊安設了基路伯和四面轉動發火焰的劍。\n",
      "火遇可燃物便能一路沿燒下去，例如三國故事知名的「火燒連環船」，因此火具有「傳承」之意，俗稱「薪火相傳」。在近代有奧林匹克聖火傳遞的儀式，有傳承火焰、生生不息的意義。\n",
      "\n",
      "\n",
      "== 相关條目 ==\n",
      "火焰\n",
      "火災\n",
      "熱能\n",
      "滅火器\n",
      "燃燒\n",
      "燃素说\n",
      "裂解\n",
      "火三角\n",
      "\n",
      "\n",
      "== 另見 ==\n",
      "以「火」開頭的条目\n",
      "\n",
      "\n",
      "== 來源 ==\n",
      "\n",
      "\n",
      "== 参考资料 ==\n",
      "《調鼎集》\n",
      "Lentile, Leigh B.; Holden, Zachary A.; Smith, Alistair M. S.; Falkowski, Michael J.; Hudak, Andrew T.; Morgan, Penelope; Lewis, Sarah A.; Gessler, Paul E.; Benson, Nate C. Remote sensing techniques to assess active fire characteristics and post-fire effects. International Journal of Wildland Fire. 2006, 3 (15): 319–345  [2014-04-20]. doi:10.1071/WF05097. （原始内容存档于2014-08-12）. \n",
      "\n",
      "\n",
      "== 延伸阅读 ==\n",
      "[编]\n",
      "\n",
      " 《欽定古今圖書集成·曆象彙編·乾象典·火部》，出自蒋廷锡《古今圖書集成》\n"
     ]
    }
   ],
   "source": [
    "wiki.set_lang(\"zh\")\n",
    "#translator.translate\n",
    "\n",
    "fire_summary = (wiki.page('火').content) #, lang_tgt = 'en')  \n",
    "print(fire_summary)"
   ]
  },
  {
   "cell_type": "code",
   "execution_count": 12,
   "metadata": {
    "scrolled": false
   },
   "outputs": [],
   "source": [
    "from google_trans_new import google_translator"
   ]
  },
  {
   "cell_type": "code",
   "execution_count": 14,
   "metadata": {},
   "outputs": [
    {
     "name": "stdout",
     "output_type": "stream",
     "text": [
      "Fire (English: fire) is a strong oxidation reaction in the biopsy process, which is released in the form of light and heat and produces a large amount of product. Slow oxidation reactions, such as rust or digestion is not in the above definition.\n",
      "The visible portion of the fire is called the flame, and may exhibit different shapes as the vibration of the particles can occur in the form of a plasma (fourth state, similar gas) when the temperature is sufficiently high. The material and pureness of the flame will be different in the material and purity of the combustion.\n",
      "Fire must have flammable materials, high heat or temperature, oxidant and chemical four coexistence to make fire, according to quality conservation law, fire does not disappear the atom of the burner, only transforms the molecules of the burner by chemical reaction Type. When the fire is out of control, it is often referred to as a fire or fire.\n",
      "All known human society use fire, the use of fire is one of the universal cultural customs; before modern people evolved, the ancient people are creatures, which is modern human in biological ancestors, such as an Ertilist, It may be known to use fire before or earlier in a million years ago.\n",
      "Fire is one of the important factors affecting the global ecosystem. The positive impact of fire can maintain a variety of ecosystems and stimulate their growth. Human use fire to cook, heat, generate signal, lighting, and advancement. The negative impact of fire includes water pollution, soil loss, air pollution, and harm to life and property. A greenhouse effect that has increased global temperature is one of the reasons why the carbon dioxide produced from burning fossil fuels.\n",
      "\n",
      "\n",
      "== Nature ==\n",
      "\n",
      "\n",
      "=== Chemical ===\n",
      "\n",
      "Burning tetrahedron: oxygen, thermal, fuel and chain reaction\n",
      "When flammable substances (fuels) and sufficient amounts of oxidants (such as oxygen, high oxygen content or other non-oxygen-free oxidant) are mixed, exposed to a heat source or a temperature higher than the flash point of the fuel and oxidant mixture When it is burned, the fast oxidation reaction can be maintained. The chain reaction is formed, generally referred to as fuel, oxidant, and heat and chain reaction are combustion tetrahedr. If there is no such element, or the proportion is not pair, it cannot be burned, for example, the combustible liquid can only be burned in a certain scale in a certain scale, and some fuel and oxidant mixtures need to be combustion, and the catalyst is maintained before and after the reaction. When the substance varies, but when there is a catalyst, the fuel and oxidant can be combusted. After the fire is ignited, the fuel may have a chain reaction as long as the temperature is maintained by thermal energy, and a chain reaction occurs. If a continuous supply fuel and an oxidant, the fire may spread.\n",
      "If the combustion oxidant is from the surrounding air, gravity or other acceleration to produce convection, the combustion product is taken away, and the oxygen is supplemented, which helps continue to combust. If there is no convection, the fuel will be surrounded by the surrounding combustion products and the non-flammable gas in the air, the fire will extinguish due to not sufficient oxygen.\n",
      "As long as you go to any one of the four sides, the fire will go out. Taking a flame of a natural gas as a fuel as an example, any of the following methods can be fired.\n",
      "\n",
      "Close natural gas and remove fuel.\n",
      "Cover the flames, making the flames, consuming oxygen, producing carbon dioxide.\n",
      "Wash, quickly remove heat, blow flame, so that the gas being burned exits the fuel source, is also a method.\n",
      "When the flame retardant (such as sea dragon) is added to the flame, the flame retardant can slow the chemical reaction, allowing the combustion rate to slow until the continuous chain reaction. If you speed up the speed of burning, the fire will become strong. Such a method includes balancing the amount of fuel and the oxidant according to the proportion of the reaction, and increase the ambient temperature, so that the combustion can be continued by combustion, or the addition of the catalyst to make the fuel and oxidant more easily reacted.\n",
      "\n",
      "\n",
      "=== Fire ===\n",
      "\n",
      "The flame is a mixture of reacted gases and solids, which will release visible light, and even ultraviolet rays, and its emission spectrum is determined according to the chemical composition of combustion substance and intermediate product. Most of the cases, such as combustion like organic substances such as wood, or the incomplete burning of the gas, the incandescent carbon black forms a familiar orange red flame.\n",
      ". The spectra of such flames is a continuous spectrum. The complete combustion of the gas will have a light blue flame, which is a single wavelength radiation produced by various electronic transitions of excited molecules formed in flames. The flame is generally related to oxygen, but hydrogen is combustion in chlorine gas to produce flame, and hydrogen chloride is formed. Other mixing of combustions produce flames include fluorine gas and hydrogen, and fuel ammonia and tetrazride of spacecraft.\n",
      "The flame is relatively complex, carbon black, gas, and fuel particles produce black radiation, but the carbon black particles are too small, and the gas is not approximately an ideal black body, the atomic and molecules of the gas will release photons when the gas is returned to the ground state. Most of the radiation is in the range of visible light and infrared rays, and its color is different from the temperature of the black body radiation, and also related to the emission spectrum of the chemical. The main color and temperature of the flame are related. In the photo of the general forest fire, these differences can be explained, for example near the ground, that is, most parts of the burning, the flame is white (generally organic material combustion produces the highest temperature color ) Or yellow. In the yellow area, the flame becomes orange or red, and the temperature is slowly decreased, and the combustion reaction is no longer in the red area. Unburned carbon particles form visible black smoke.\n",
      "In general gravity, the shape of the flame is related to convective, the general flame of carbon black will drift to the top of the flame, just like the flame of the candle, and red. If there is no convection, there is no convection, the flame will become a round sphere in a micro-gravity or no convection, and the combustion efficiency is higher (but if there is no continuous movement, the flame will be due to the product after burning It could not be released quickly under micro-gravity, and the flame was extinguished. There are many different interpretations of the difference. Most likely is that its temperature is very uniform, and there is no carbon black, and it has caused complete burning .NASA in space Experiments Instructions In the micro-gravity of the flames, more carbon black is completely oxidized than the flies under the general gravity, as the reaction mechanism under micro-gravity is different from the reaction mechanism under general gravity. These findings are in application science and industry. There is a value of application, including improving fuel efficiency.\n",
      "\n",
      "\n",
      "=== Hot ===\n",
      "\n",
      "The fire will generate heat or the transfer of energy is energy.\n",
      "\n",
      "\n",
      "==== Typical temperature of fire and flame ====\n",
      "Hydrogen flame: about 2,000 ° C (3,600 ° F 2,273.15 ° K)\n",
      "Livella: about 1,300 ° C (2,372 ° F 1,573.15 ° K) to 1,600 ° C (2,912 ° F 1,873.15 ° K)\n",
      "Spray flame: 1,300 ° C (2,372 ° F 1,573.15 ° K)\n",
      "Candle flame: 1,000 ° C (1,832 ° F 1,273.15 ° K)\n",
      "Low temperature candle flame: 50-60 ° C (323.1500K-333.1500K) format\n",
      "\n",
      "Solden cigarette:\n",
      "Temperature when there is no smoking: on both sides of the ignition part: 400 ° C (752 ° F 673.15 ° K), ignition part of the middle: 585 ° C (1,085 ° F 858.15 ° K)\n",
      "Temperature at the time of smoking: ignition of 700 ° C (1,292 ° F 973.15 ° K)\n",
      "The temperature in the middle is relatively high\n",
      "\n",
      "\n",
      "==== Different appearance flame temperature ====\n",
      "The temperature of the combustion carbon can be identified by the color and appearance of the flame:\n",
      "\n",
      "red\n",
      "It is barely visible: 525 ° C (977 ° F 798.15 ° K)\n",
      "Dark Red: 700 ° C (1,292 ° F 973.15 ° K)\n",
      "Dark cherry pink: 800 ° C (1,472 ° F 1,073.15 ° K)\n",
      "Cherry Red: 900 ° C (1,652 ° F 1,173.15 ° K)\n",
      "Bright cherry red: 1,000 ° C (1,832 ° F 1,273.15 ° K)\n",
      "Orange\n",
      "Orange: 1,100 ° C (2,012 ° F 1,373.15 ° K)\n",
      "Bright orange: 1,200 ° C (2,192 ° F 1,473.15 ° K)\n",
      "white\n",
      "General White: 1,300 ° C (2,372 ° F 1,573.15 ° K)\n",
      "Bright white: 1,400 ° C (2,552 ° F 1,673.15 ° K)\n",
      "Gyany: 1,500 ° C (2,732 ° F 1,773.15 ° K) Overall flame temperature is not determined, but the substance.\n",
      "\n",
      "\n",
      "== Control fire ==\n",
      "\n",
      "\n",
      "=== Original human use ===\n",
      "\n",
      "Use fire to provide one of the heat and light of human beings. Early human beings retain fire from the fire from nature. Later, I learned to use a diamond to reflate, by rapid rotation of the pointer to the wood, frictionally heat, and acquired the fire source. There is a drill, with a bow drill. There is also a fire by tapping the stone. Learn to use fire to make humans to settle in a cold climate. The fire is used to cook more digestible cooked food, lighting, warm, drive the beast, heat treatment materials, etc. Archaeological studies show that living in China in China can have control. Near East human beings can live in a fire. But the skills of using fire are only 400,000 years ago.\n",
      "\n",
      "\n",
      "=== Modern human use ===\n",
      "Combustion wood is the earliest fire. Trees provide a lot of energy necessary for humans (such as campfire, torch), so call wood or firewood. Different trees have different firewood. \"Dingding · Fire\" lists all kinds of firewood cooking: \"Sang firefighting: boiled, main Yi people. Cook old ducks and meat, etc., can make extremely rotten, can solve all poison, 柴 不 作. Rice Spike: Cooking the meal, the eating soul to the five internal organs. Wheat fire: boiled rice, the main consumption of thirst throat, Liushui. Pine fireworks: boiled, strong bones, boiled tea is not suitable. 栎 firefight: boiled pork Eat, don't do the wind, boiled chicken sanquy and other things. Mao Fire: the diet of the cater, the main eye is detoxification. Log fire, bamboo fire: Yip all nourishing medicine. Charcoal: Yip tea, delicious and beautiful火: 砻 砻 火, branch, can be used in two pots, the southerners are more useful, and their fees are half-fire, and they are in the spring, and there is a hurt. \"\n",
      "In modern times, human beings use fire power to generate electricity with coal, oil and natural gas, and the fire power generation accounts for about 70% of total power generation. Fossil fuels such as gasoline and diesel are also automotive, locomotive to the energy source of the aircraft.\n",
      "\n",
      "\n",
      "== Fire and ancient traditional culture ==\n",
      "\n",
      "Fire and combustion are often used in religious ceremonies and symbols. There are at least two senses:\n",
      "\n",
      "Fire and water represent the clean, disinfection, and more than the case where there is no disinfection, the needle must be fired to avoid wound infection; \"Bible · Saiao Shu\", Saravel is used in vitality Remove the carbon carbon from the altar to clean the sin of Sai Ya lip.\n",
      "The combustion representative will send things to the spiritual world. Comprehension, Chinese folk beliefs often use the ancestors to burn in the ancestors (or called paper money or gold and silver paper, Guangdong called yin paper), paper car, paper house, etc. The copy will be incinerated at the end of the ceremony, above the heavens; Buddhism's Tempse has a fire for (or claimed to protect the mobility), and it is supplied to the Buddha and Bodhisattva, the fire god, etc.\n",
      "Zorus-German believes that the fire is the earliest creation of Aura · Mazda, symbolizing the absolute and good, and the temple has a sacrifice to ignite the fire, also known as \"worship\".\n",
      "Ancient people understand nature, try to classify natural phenomena, and often think that fire is one of the indivisible elements. Ancient Greeks believe that all materials in the world are mixed by air, water, soil and fire in different proportions. Fire is also one of the five elements of Chinese traditional culture. The five elements are each other, of which wood fire, fire soil, water, fire, fire. Toned C, Ding is fire. Chinese medicine often said that he was hot (Guangdong called it as hot), he went to fire, and later found to be related to the purity of Western medicine.\n",
      "The Chinese folklore found that the fire of the fire was listed as one of the three emperors, and the ancient fire is \"the essence of Yang.\" \"Han Han Shu\" Zhi 14th: \"The fire is also the feet of the sun.\" Ming Dynasty thoughtfully took Huyan Wu to use stone to take a fire, he believes that the fire will affect the life. He said: \"The ancients used fires to take the wood, and there were four incompets of five lines.\" Su Wen \"Yellow Emperor: Strong fire is scattered, and you are angry. Today, everything is taken on the stone, its sex is fierce, not suitable, and there are many illness, and the birth is self-reduced. \"\n",
      "In addition, the fire is an symbol that often occurs in literature and religious fields. In the Bible · Acts, the Holy Spirit is called the tongue as a flame showed and coming; \"Bible · Genesis\" mentioned that when God rushed Adam Xuma to the Garden of Eden, I set up a baseus and four sides. Turn the flame.\n",
      "In the fire, it is possible to burn along the way, such as the famous \"fire bicycles\" of the Three Kingdoms, so the fire has the meaning of \"inheritance\", commonly known as \"shipping\". In modern times, there is a ritual of the Olympic Holy Fire, there is inheritance of flame, and the meaning of endless.\n",
      "\n",
      "\n",
      "== Related entries ==\n",
      "flame\n",
      "Fire\n",
      "Thermal energy\n",
      "Fire extinguisher\n",
      "combustion\n",
      "Aggregate\n",
      "Crack\n",
      "Fire triangle\n",
      "\n",
      "\n",
      "== See also ==\n",
      "Entries starting with \"fire\"\n",
      "\n",
      "\n",
      "== Source ==\n",
      "\n",
      "\n",
      "== Reference material ==\n",
      "\"Double Collection\"\n",
      "LENTILE, ZACHARY A .; SMITH, Alistair MS; Falkowski, Michael J .; Hudak, Andrew T .; Morgan, Penelope; Lewis, Sarah A .; Gssler, Paul E .; Benson, Nate C. Remote Sensing Techniques and Post-fire evacts. International Journal of Wildland Fire. 2006, 3 (15): 319-345 [2014-04-20]. DOI: 10.1071 / WF05097. (Original content Archive on 2014 -08-12).\n",
      "\n",
      "\n",
      "== extended reading ==\n",
      "[编]\n",
      "\n",
      " \"Qin Ding Ancient and Modern Book Integration · Congress Compilation · Qian Xian · Fire Department\", from Jiang Tingxi \"ancient and modern book integration\" \n"
     ]
    }
   ],
   "source": [
    "wiki.set_lang(\"zh\")\n",
    "translator = google_translator()  \n",
    "\n",
    "fire_summary = translator.translate(wiki.page('火').content, lang_tgt = 'en')  \n",
    "print(fire_summary)"
   ]
  },
  {
   "cell_type": "markdown",
   "metadata": {},
   "source": [
    "https://pypi.org/project/google-trans-new/"
   ]
  },
  {
   "cell_type": "code",
   "execution_count": 18,
   "metadata": {},
   "outputs": [
    {
     "name": "stdout",
     "output_type": "stream",
     "text": [
      "Hello Chinese \n"
     ]
    }
   ],
   "source": [
    "translator = google_translator()  \n",
    "translate_text = translator.translate('สวัสดีจีน', lang_tgt = 'en')  \n",
    "print(translate_text)\n",
    "# -> Hello China"
   ]
  },
  {
   "cell_type": "code",
   "execution_count": 19,
   "metadata": {
    "collapsed": true
   },
   "outputs": [
    {
     "ename": "TypeError",
     "evalue": "translate() got an unexpected keyword argument 'src'",
     "output_type": "error",
     "traceback": [
      "\u001b[1;31m---------------------------------------------------------------------------\u001b[0m",
      "\u001b[1;31mTypeError\u001b[0m                                 Traceback (most recent call last)",
      "\u001b[1;32m<ipython-input-19-aed3bfe1d41c>\u001b[0m in \u001b[0;36m<module>\u001b[1;34m\u001b[0m\n\u001b[1;32m----> 1\u001b[1;33m \u001b[0msource\u001b[0m \u001b[1;33m=\u001b[0m \u001b[0mtranslator\u001b[0m\u001b[1;33m.\u001b[0m\u001b[0mtranslate\u001b[0m\u001b[1;33m(\u001b[0m\u001b[1;34m'Estoy un computadora.'\u001b[0m\u001b[1;33m,\u001b[0m \u001b[0msrc\u001b[0m \u001b[1;33m=\u001b[0m \u001b[1;34m'sp'\u001b[0m\u001b[1;33m)\u001b[0m\u001b[1;33m\u001b[0m\u001b[1;33m\u001b[0m\u001b[0m\n\u001b[0m\u001b[0;32m      2\u001b[0m \u001b[0mdestination\u001b[0m \u001b[1;33m=\u001b[0m \u001b[0mtranslator\u001b[0m\u001b[1;33m.\u001b[0m\u001b[0mtranslate\u001b[0m\u001b[1;33m(\u001b[0m\u001b[0msource\u001b[0m\u001b[1;33m,\u001b[0m \u001b[0mdest\u001b[0m \u001b[1;33m=\u001b[0m \u001b[1;34m'en'\u001b[0m\u001b[1;33m)\u001b[0m\u001b[1;33m\u001b[0m\u001b[1;33m\u001b[0m\u001b[0m\n\u001b[0;32m      3\u001b[0m \u001b[0mprint\u001b[0m\u001b[1;33m(\u001b[0m\u001b[0mdestination\u001b[0m\u001b[1;33m)\u001b[0m\u001b[1;33m\u001b[0m\u001b[1;33m\u001b[0m\u001b[0m\n",
      "\u001b[1;31mTypeError\u001b[0m: translate() got an unexpected keyword argument 'src'"
     ]
    }
   ],
   "source": [
    "source = translator.translate('Estoy un computadora.', src = 'sp')\n",
    "destination = translator.translate(source, dest = 'en')\n",
    "print(destination)"
   ]
  },
  {
   "cell_type": "code",
   "execution_count": 20,
   "metadata": {
    "collapsed": true
   },
   "outputs": [
    {
     "ename": "TypeError",
     "evalue": "translate() got an unexpected keyword argument 'src'",
     "output_type": "error",
     "traceback": [
      "\u001b[1;31m---------------------------------------------------------------------------\u001b[0m",
      "\u001b[1;31mTypeError\u001b[0m                                 Traceback (most recent call last)",
      "\u001b[1;32m<ipython-input-20-25ce0d16755e>\u001b[0m in \u001b[0;36m<module>\u001b[1;34m\u001b[0m\n\u001b[1;32m----> 1\u001b[1;33m \u001b[0mboth\u001b[0m \u001b[1;33m=\u001b[0m \u001b[0mtranslator\u001b[0m\u001b[1;33m.\u001b[0m\u001b[0mtranslate\u001b[0m\u001b[1;33m(\u001b[0m\u001b[1;34m'Think about it.'\u001b[0m\u001b[1;33m,\u001b[0m \u001b[0msrc\u001b[0m \u001b[1;33m=\u001b[0m \u001b[1;34m'en'\u001b[0m\u001b[1;33m,\u001b[0m \u001b[0mdest\u001b[0m \u001b[1;33m=\u001b[0m \u001b[1;34m'en'\u001b[0m\u001b[1;33m)\u001b[0m\u001b[1;33m\u001b[0m\u001b[1;33m\u001b[0m\u001b[0m\n\u001b[0m\u001b[0;32m      2\u001b[0m \u001b[0mprint\u001b[0m\u001b[1;33m(\u001b[0m\u001b[0mboth\u001b[0m\u001b[1;33m)\u001b[0m\u001b[1;33m\u001b[0m\u001b[1;33m\u001b[0m\u001b[0m\n",
      "\u001b[1;31mTypeError\u001b[0m: translate() got an unexpected keyword argument 'src'"
     ]
    }
   ],
   "source": [
    "both = translator.translate('Think about it.', src = 'en', dest = 'en')\n",
    "print(both)"
   ]
  },
  {
   "cell_type": "code",
   "execution_count": 35,
   "metadata": {},
   "outputs": [
    {
     "name": "stdout",
     "output_type": "stream",
     "text": [
      "Fire (English: fire) is a strong oxidation reaction in the biopsy process, which is released in the form of light and heat and produces a large amount of product. Slow oxidation reactions, such as rust or digestion is not in the above definition.\n",
      "The visible portion of the fire is called the flame, and may exhibit different shapes as the vibration of the particles can occur in the form of a plasma (fourth state, similar gas) when the temperature is sufficiently high. The material and pureness of the flame will be different in the material and purity of the combustion.\n",
      "Fire must have flammable materials, high heat or temperature, oxidant and chemical four coexistence to make fire, according to quality conservation law, fire does not disappear the atom of the burner, only transforms the molecules of the burner by chemical reaction Type. When the fire is out of control, it is often referred to as a fire or fire.\n",
      "All known human society use fire, the use of fire is one of the universal cultural customs; before modern people evolved, the ancient people are creatures, which is modern human in biological ancestors, such as an Ertilist, It may be known to use fire before or earlier in a million years ago.\n",
      "Fire is one of the important factors affecting the global ecosystem. The positive impact of fire can maintain a variety of ecosystems and stimulate their growth. Human use fire to cook, heat, generate signal, lighting, and advancement. The negative impact of fire includes water pollution, soil loss, air pollution, and harm to life and property. A greenhouse effect that has increased global temperature is one of the reasons why the carbon dioxide produced from burning fossil fuels. \n"
     ]
    },
    {
     "data": {
      "text/plain": [
       "'火（英語：Fire）是物質燃燒過程中所進行的強烈氧化反應，其能量會以光和熱的形式釋放，並會產生大量的生成物。緩慢的氧化反應，例如生锈或消化不在上述的定義中。\\n火的可见部分称為焰，可以隨著粒子的振動而呈現不同的形狀，在温度足够高时能以等离子体（第四態，類似氣體）的形式出現。依燃燒的物質及純度不同，火焰的顏色和亮度也會不同。\\n火必須有可燃物、夠高的熱或溫度、氧化劑及化學物四項並存才能生火，根據質量守恆定律，火不會使被燃燒物的原子消失，只是透過化學反應轉變了被燃燒物的分子型態。火失控時，常常稱作失火或火災。\\n所有已知的人類社會都使用火，火的使用是普世文化通則之一；而在現代人演化出來之前，古代的人屬生物，也就是現代人類在生物學上的祖先，如直立人，可能在一百萬年前到一百五十萬年前或更早，就已知道用火。\\n火是影響全球生態系統的重要因素之一，火的正面影響可以維持各種生態系統以及刺激其成長。人類用火來烹調、生熱、產生訊號、照明及推進等。火的負面影響包括水體污染、土壤流失、空氣污染及對生命財產的危害。而造成全球溫度升高的溫室效應，其原因之一就是來自燃燒化石燃料產生的二氧化碳。'"
      ]
     },
     "execution_count": 35,
     "metadata": {},
     "output_type": "execute_result"
    }
   ],
   "source": [
    "wiki.set_lang(\"zh\")\n",
    "\n",
    "fire_summary = translator.translate(wiki.summary('fire'), lang_tgt = 'en')  \n",
    "print(fire_summary)\n",
    "wiki.summary('fire')"
   ]
  },
  {
   "cell_type": "markdown",
   "metadata": {},
   "source": [
    "..first time got 'Disambiguation error' with recommendations, but after re-ran set_lang, got the article."
   ]
  },
  {
   "cell_type": "code",
   "execution_count": 36,
   "metadata": {},
   "outputs": [
    {
     "name": "stdout",
     "output_type": "stream",
     "text": [
      "'General_reference','Culture_and_the_arts','Geography_and_places','Health_and_fitness','History_and_events','Human_activities','Mathematics_and_logic','Natural_and_physical_sciences','People_and_self','Philosophy_and_thinking','Religion_and_belief_systems','Society_and_social_sciences','Technology_and_applied_sciences'\n",
      "['Wikipedia:互助客栈/消息/存档/2019年10月']\n"
     ]
    }
   ],
   "source": [
    "level_1_text = \"'General reference','Culture and the arts','Geography and places','Health and fitness','History and events','Human activities','Mathematics and logic','Natural and physical sciences','People and self','Philosophy and thinking','Religion and belief systems','Society and social sciences','Technology and applied sciences'\"\n",
    "level_1_under = level_1_text.replace(\" \", \"_\")\n",
    "print(level_1_under)\n",
    "\n",
    "print(wiki.search('Wikipedia:Contents/Society_and_social_sciences'))\n",
    "#same test as intial notebook, don't see this list on page"
   ]
  },
  {
   "cell_type": "code",
   "execution_count": 37,
   "metadata": {},
   "outputs": [],
   "source": [
    "#While Mandarin Chinese language is natively called Hànyǔ,\n",
    "#I will be using zh (as in Zhōngguó, \"China\"), \n",
    "#for consistency with the prefix of the Wikipedia site.\n",
    "level_1_zh = [\n",
    "    'Life, art and culture',\n",
    "    'All over the world',\n",
    "    'Chinese culture',\n",
    "    'Humanities and Social Sciences',\n",
    "    'society',\n",
    "    'Nature and Natural Sciences',\n",
    "    'Religion and belief',\n",
    "    'Engineering,Technology and Applied Science'\n",
    "    ]"
   ]
  },
  {
   "cell_type": "code",
   "execution_count": 33,
   "metadata": {},
   "outputs": [
    {
     "name": "stdout",
     "output_type": "stream",
     "text": [
      "'Life,_art_and_culture','All_over_the_world','Chinese_culture','Humanities_and_Social_Sciences','society','Nature_and_Natural_Sciences','Religion_and_belief','Engineering,Technology_and_Applied_Science'\n"
     ]
    }
   ],
   "source": [
    "level_1_zh_text = \"'Life, art and culture','All over the world','Chinese culture','Humanities and Social Sciences','society','Nature and Natural Sciences','Religion and belief','Engineering,Technology and Applied Science'\"\n",
    "level_1_zh = level_1_zh_text.replace(\" \", \"_\")\n",
    "print(level_1_zh)"
   ]
  },
  {
   "cell_type": "code",
   "execution_count": 34,
   "metadata": {},
   "outputs": [],
   "source": [
    "level_1_en = level_1_under\n",
    "#from first few lines in notebook, with \"en\" for English"
   ]
  },
  {
   "cell_type": "markdown",
   "metadata": {},
   "source": [
    "Here is an alternating (English,Chinese,Eng...) list of main categories.  Where there is not a good match, I am placing 'none'.   Mostly these are due to those topics being grouped differently and covered under another category.  Even these main labels are subject to translation error due to usage, so I may just pay a translator for key points as I collect a few more instances of this."
   ]
  },
  {
   "cell_type": "code",
   "execution_count": 21,
   "metadata": {},
   "outputs": [],
   "source": [
    "#may add underscores for some application, given these are high level.\n",
    "level_1_both = [\n",
    "    'General reference','none',\n",
    "    'Culture and the arts','Life, art and culture',\n",
    "    'none','Chinese culture',\n",
    "    'Geography and places','All over the world',\n",
    "    'Health and fitness','none',\n",
    "    'History and events','none',\n",
    "    'Human activities','society',\n",
    "    #society on the Chinese side really overlaps more with their\n",
    "    #'Humanities and Social Sciences' seen further down.\n",
    "    'Mathematics and logic','none',\n",
    "    'Natural and physical sciences','Nature and Natural Sciences',\n",
    "    'People and self','none',\n",
    "    'Philosophy and thinking','none',\n",
    "    'Religion and belief systems','Religion and belief',\n",
    "    'Society and social sciences','Humanities and Social Sciences',\n",
    "    'Technology and applied sciences','Engineering,Technology and Applied Science'\n",
    "    ] # The Chinese has fewer categories but several are more flexible in their contents.\n",
    "        #Perhaps there is a sense of things being connected,\n",
    "        #or the scattered formation of this version due to mainland censorship\n",
    "        #may even promote this flexibility on the site."
   ]
  },
  {
   "cell_type": "markdown",
   "metadata": {},
   "source": [
    "While not yet computational, looking at groupings of areas of information may in itself give some hypothetical starting framework for later comparisons. (This will be tremendously more difficult when expanding to more than a few other language versions, if the disparity pervades, but may also lead into some network analysis) "
   ]
  },
  {
   "cell_type": "code",
   "execution_count": 22,
   "metadata": {},
   "outputs": [],
   "source": [
    "#lev1_en_list = level_1.insert(2, 'none') ...just add at top of notebook "
   ]
  },
  {
   "cell_type": "code",
   "execution_count": 23,
   "metadata": {},
   "outputs": [],
   "source": [
    "lev1_en_list = level_1"
   ]
  },
  {
   "cell_type": "code",
   "execution_count": 24,
   "metadata": {},
   "outputs": [],
   "source": [
    "lev1_zh_list = [\n",
    "    'none',\n",
    "    'Life, art and culture',\n",
    "    'Chinese culture',\n",
    "    'All over the world',\n",
    "    'none',\n",
    "    'none',\n",
    "    'society',\n",
    "    'none',\n",
    "    'Nature and Natural Sciences',\n",
    "    'none',\n",
    "    'none',\n",
    "    'Religion and belief',\n",
    "    'Humanities and Social Sciences',\n",
    "    'Engineering,Technology and Applied Science'\n",
    "    ]"
   ]
  },
  {
   "cell_type": "markdown",
   "metadata": {},
   "source": [
    "Make DataFrame from these lists."
   ]
  },
  {
   "cell_type": "code",
   "execution_count": 40,
   "metadata": {},
   "outputs": [],
   "source": [
    "both_level_1 = pd.DataFrame(list(zip(lev1_zh_list, lev1_en_list)),\n",
    "               columns =['Hànyǔ', 'English'])"
   ]
  },
  {
   "cell_type": "code",
   "execution_count": 42,
   "metadata": {},
   "outputs": [
    {
     "data": {
      "text/html": [
       "<div>\n",
       "<style scoped>\n",
       "    .dataframe tbody tr th:only-of-type {\n",
       "        vertical-align: middle;\n",
       "    }\n",
       "\n",
       "    .dataframe tbody tr th {\n",
       "        vertical-align: top;\n",
       "    }\n",
       "\n",
       "    .dataframe thead th {\n",
       "        text-align: right;\n",
       "    }\n",
       "</style>\n",
       "<table border=\"1\" class=\"dataframe\">\n",
       "  <thead>\n",
       "    <tr style=\"text-align: right;\">\n",
       "      <th></th>\n",
       "      <th>Hànyǔ</th>\n",
       "      <th>English</th>\n",
       "    </tr>\n",
       "  </thead>\n",
       "  <tbody>\n",
       "    <tr>\n",
       "      <td>0</td>\n",
       "      <td>none</td>\n",
       "      <td>General reference</td>\n",
       "    </tr>\n",
       "    <tr>\n",
       "      <td>1</td>\n",
       "      <td>Life, art and culture</td>\n",
       "      <td>Culture and the arts</td>\n",
       "    </tr>\n",
       "    <tr>\n",
       "      <td>2</td>\n",
       "      <td>Chinese culture</td>\n",
       "      <td>none</td>\n",
       "    </tr>\n",
       "    <tr>\n",
       "      <td>3</td>\n",
       "      <td>All over the world</td>\n",
       "      <td>Geography and places</td>\n",
       "    </tr>\n",
       "    <tr>\n",
       "      <td>4</td>\n",
       "      <td>none</td>\n",
       "      <td>Health and fitness</td>\n",
       "    </tr>\n",
       "    <tr>\n",
       "      <td>5</td>\n",
       "      <td>none</td>\n",
       "      <td>History and events</td>\n",
       "    </tr>\n",
       "    <tr>\n",
       "      <td>6</td>\n",
       "      <td>society</td>\n",
       "      <td>Human activities</td>\n",
       "    </tr>\n",
       "    <tr>\n",
       "      <td>7</td>\n",
       "      <td>none</td>\n",
       "      <td>Mathematics and logic</td>\n",
       "    </tr>\n",
       "    <tr>\n",
       "      <td>8</td>\n",
       "      <td>Nature and Natural Sciences</td>\n",
       "      <td>Natural and physical sciences</td>\n",
       "    </tr>\n",
       "    <tr>\n",
       "      <td>9</td>\n",
       "      <td>none</td>\n",
       "      <td>People and self</td>\n",
       "    </tr>\n",
       "    <tr>\n",
       "      <td>10</td>\n",
       "      <td>none</td>\n",
       "      <td>Philosophy and thinking</td>\n",
       "    </tr>\n",
       "    <tr>\n",
       "      <td>11</td>\n",
       "      <td>Religion and belief</td>\n",
       "      <td>Religion and belief systems</td>\n",
       "    </tr>\n",
       "    <tr>\n",
       "      <td>12</td>\n",
       "      <td>Humanities and Social Sciences</td>\n",
       "      <td>Society and social sciences</td>\n",
       "    </tr>\n",
       "    <tr>\n",
       "      <td>13</td>\n",
       "      <td>Engineering,Technology and Applied Science</td>\n",
       "      <td>Technology and applied sciences</td>\n",
       "    </tr>\n",
       "  </tbody>\n",
       "</table>\n",
       "</div>"
      ],
      "text/plain": [
       "                                         Hànyǔ  \\\n",
       "0                                         none   \n",
       "1                        Life, art and culture   \n",
       "2                              Chinese culture   \n",
       "3                           All over the world   \n",
       "4                                         none   \n",
       "5                                         none   \n",
       "6                                      society   \n",
       "7                                         none   \n",
       "8                  Nature and Natural Sciences   \n",
       "9                                         none   \n",
       "10                                        none   \n",
       "11                         Religion and belief   \n",
       "12              Humanities and Social Sciences   \n",
       "13  Engineering,Technology and Applied Science   \n",
       "\n",
       "                            English  \n",
       "0                 General reference  \n",
       "1              Culture and the arts  \n",
       "2                              none  \n",
       "3              Geography and places  \n",
       "4                Health and fitness  \n",
       "5                History and events  \n",
       "6                  Human activities  \n",
       "7             Mathematics and logic  \n",
       "8     Natural and physical sciences  \n",
       "9                   People and self  \n",
       "10          Philosophy and thinking  \n",
       "11      Religion and belief systems  \n",
       "12      Society and social sciences  \n",
       "13  Technology and applied sciences  "
      ]
     },
     "execution_count": 42,
     "metadata": {},
     "output_type": "execute_result"
    }
   ],
   "source": [
    "both_level_1.head(20)"
   ]
  },
  {
   "cell_type": "markdown",
   "metadata": {},
   "source": [
    "Level 2 test English"
   ]
  },
  {
   "cell_type": "code",
   "execution_count": 25,
   "metadata": {},
   "outputs": [
    {
     "name": "stdout",
     "output_type": "stream",
     "text": [
      "['Wikipedia:互助客栈/消息/存档/2019年10月']\n"
     ]
    }
   ],
   "source": [
    "print(wiki.search('Wikipedia:Contents/Society_and_social_sciences'))\n",
    "#same test as intial notebook, don't see this list on page"
   ]
  },
  {
   "cell_type": "markdown",
   "metadata": {},
   "source": [
    "### May be useful later..."
   ]
  },
  {
   "cell_type": "code",
   "execution_count": 26,
   "metadata": {
    "scrolled": true
   },
   "outputs": [
    {
     "name": "stdout",
     "output_type": "stream",
     "text": [
      "['th', 'thai']\n"
     ]
    }
   ],
   "source": [
    "# https://pypi.org/project/google-trans-new/\n",
    "\n",
    "from google_trans_new import google_translator  \n",
    "\n",
    "detector = google_translator()  \n",
    "detect_result = detector.detect('สวัสดีจีน')\n",
    "# <Detect text=สวัสดีจีน >  \n",
    "print(detect_result)"
   ]
  },
  {
   "cell_type": "code",
   "execution_count": 27,
   "metadata": {},
   "outputs": [
    {
     "name": "stdout",
     "output_type": "stream",
     "text": [
      "['zh-CN', 'chinese (simplified)']\n"
     ]
    }
   ],
   "source": [
    "detect_result = detector.detect(wiki.summary('fire'))\n",
    "print(detect_result)"
   ]
  },
  {
   "cell_type": "code",
   "execution_count": 28,
   "metadata": {},
   "outputs": [
    {
     "name": "stdout",
     "output_type": "stream",
     "text": [
      "['zh-CN', 'chinese (simplified)']\n"
     ]
    }
   ],
   "source": [
    "detect_result = detector.detect(wiki.summary('火'))\n",
    "print(detect_result)"
   ]
  },
  {
   "cell_type": "markdown",
   "metadata": {},
   "source": [
    "### For later expansion into other versions"
   ]
  },
  {
   "cell_type": "code",
   "execution_count": 29,
   "metadata": {
    "collapsed": true
   },
   "outputs": [
    {
     "ename": "AttributeError",
     "evalue": "type object 'google_translator' has no attribute 'languages'",
     "output_type": "error",
     "traceback": [
      "\u001b[1;31m---------------------------------------------------------------------------\u001b[0m",
      "\u001b[1;31mAttributeError\u001b[0m                            Traceback (most recent call last)",
      "\u001b[1;32m<ipython-input-29-80456bb93043>\u001b[0m in \u001b[0;36m<module>\u001b[1;34m\u001b[0m\n\u001b[1;32m----> 1\u001b[1;33m \u001b[0mprint\u001b[0m\u001b[1;33m(\u001b[0m\u001b[0mgoogle_translator\u001b[0m\u001b[1;33m.\u001b[0m\u001b[0mlanguages\u001b[0m\u001b[1;33m)\u001b[0m\u001b[1;33m\u001b[0m\u001b[1;33m\u001b[0m\u001b[0m\n\u001b[0m\u001b[0;32m      2\u001b[0m \u001b[1;31m#should give a list of all lang's and codes\u001b[0m\u001b[1;33m\u001b[0m\u001b[1;33m\u001b[0m\u001b[1;33m\u001b[0m\u001b[0m\n",
      "\u001b[1;31mAttributeError\u001b[0m: type object 'google_translator' has no attribute 'languages'"
     ]
    }
   ],
   "source": [
    "print(google_translator.languages)\n",
    "#should give a list of all lang's and codes"
   ]
  },
  {
   "cell_type": "code",
   "execution_count": 30,
   "metadata": {},
   "outputs": [
    {
     "name": "stdout",
     "output_type": "stream",
     "text": [
      "['pl', 'polish']\n"
     ]
    }
   ],
   "source": [
    "detect_result = detector.detect(\"jejic ncuxyw iujdyh oowiwu\")\n",
    "print(detect_result)"
   ]
  },
  {
   "cell_type": "code",
   "execution_count": 31,
   "metadata": {},
   "outputs": [
    {
     "name": "stdout",
     "output_type": "stream",
     "text": [
      "['mt', 'maltese']\n"
     ]
    }
   ],
   "source": [
    "detect_result = detector.detect(\"lshdjfhgkkdhj\")\n",
    "print(detect_result)"
   ]
  },
  {
   "cell_type": "code",
   "execution_count": 32,
   "metadata": {},
   "outputs": [
    {
     "name": "stdout",
     "output_type": "stream",
     "text": [
      "['ja', 'japanese']\n"
     ]
    }
   ],
   "source": [
    "detect_result = detector.detect(\"yaueiaiyeyoiuyeyeiuueyuioeaiayaiuayoiuyaeiuya\")\n",
    "print(detect_result)"
   ]
  },
  {
   "cell_type": "code",
   "execution_count": null,
   "metadata": {},
   "outputs": [],
   "source": []
  }
 ],
 "metadata": {
  "kernelspec": {
   "display_name": "Python 3",
   "language": "python",
   "name": "python3"
  },
  "language_info": {
   "codemirror_mode": {
    "name": "ipython",
    "version": 3
   },
   "file_extension": ".py",
   "mimetype": "text/x-python",
   "name": "python",
   "nbconvert_exporter": "python",
   "pygments_lexer": "ipython3",
   "version": "3.7.4"
  }
 },
 "nbformat": 4,
 "nbformat_minor": 2
}
