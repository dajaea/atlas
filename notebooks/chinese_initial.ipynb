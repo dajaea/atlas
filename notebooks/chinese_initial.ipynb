{
 "cells": [
  {
   "cell_type": "code",
   "execution_count": 1,
   "metadata": {
    "scrolled": false
   },
   "outputs": [
    {
     "name": "stderr",
     "output_type": "stream",
     "text": [
      "C:\\Users\\Owner\\Anaconda3\\lib\\site-packages\\requests\\__init__.py:91: RequestsDependencyWarning: urllib3 (1.26.4) or chardet (3.0.4) doesn't match a supported version!\n",
      "  RequestsDependencyWarning)\n"
     ]
    }
   ],
   "source": [
    "import wikipedia as wiki"
   ]
  },
  {
   "cell_type": "markdown",
   "metadata": {},
   "source": [
    "may use function later - what determines these and where is this on the site?"
   ]
  },
  {
   "cell_type": "code",
   "execution_count": 2,
   "metadata": {
    "scrolled": false
   },
   "outputs": [
    {
     "name": "stdout",
     "output_type": "stream",
     "text": [
      "['Boat', 'Boat (disambiguation)', 'U-boat', 'Boating', 'Whose Boat Is This Boat?', 'Banana boat (boat)', 'The Love Boat', 'The Boat', 'Destroyer', 'Patrol boat']\n"
     ]
    }
   ],
   "source": [
    "print(wiki.search(\"boat\"))"
   ]
  },
  {
   "cell_type": "markdown",
   "metadata": {},
   "source": [
    "### try English first, then incorporate translation\n",
    "\n",
    "https://en.wikipedia.org/wiki/Wikipedia:Contents/Outlines#Society_and_social_sciences\n",
    "\n",
    "just selected and c/p here to make into list"
   ]
  },
  {
   "cell_type": "code",
   "execution_count": 3,
   "metadata": {},
   "outputs": [],
   "source": [
    "level_1 = [\n",
    "    'General reference',\n",
    "    'Culture and the arts',\n",
    "    'Geography and places',\n",
    "    'Health and fitness',\n",
    "    'History and events',\n",
    "    'Human activities',\n",
    "    'Mathematics and logic',\n",
    "    'Natural and physical sciences',\n",
    "    'People and self',\n",
    "    'Philosophy and thinking',\n",
    "    'Religion and belief systems',\n",
    "    'Society and social sciences',\n",
    "    'Technology and applied sciences'\n",
    "    ]"
   ]
  },
  {
   "cell_type": "code",
   "execution_count": 4,
   "metadata": {},
   "outputs": [
    {
     "name": "stdout",
     "output_type": "stream",
     "text": [
      "'General_reference','Culture_and_the_arts','Geography_and_places','Health_and_fitness','History_and_events','Human_activities','Mathematics_and_logic','Natural_and_physical_sciences','People_and_self','Philosophy_and_thinking','Religion_and_belief_systems','Society_and_social_sciences','Technology_and_applied_sciences'\n"
     ]
    }
   ],
   "source": [
    "level_1_text = \"'General reference','Culture and the arts','Geography and places','Health and fitness','History and events','Human activities','Mathematics and logic','Natural and physical sciences','People and self','Philosophy and thinking','Religion and belief systems','Society and social sciences','Technology and applied sciences'\"\n",
    "level_1_under = level_1_text.replace(\" \", \"_\")\n",
    "print(level_1_under)"
   ]
  },
  {
   "cell_type": "code",
   "execution_count": 5,
   "metadata": {},
   "outputs": [
    {
     "name": "stdout",
     "output_type": "stream",
     "text": [
      "['Wikipedia:Contents/Society and social sciences', 'Wikipedia:Contents/Categories/Society and social sciences', 'Wikipedia:Contents/Overview/Society and social sciences', 'Wikipedia:Contents/Indices/Society and social sciences', 'Wikipedia:Contents/Society and social sciences/Intro', 'Wikipedia:Contents/Outlines/Society and social sciences', 'Wikipedia:Contents/Society and social sciences/Categories', 'Wikipedia:Contents/Society and social sciences/Overviews', 'Wikipedia:Contents/Society and social sciences/Outlines', 'Wikipedia:Contents/Society and social sciences/Portals']\n"
     ]
    }
   ],
   "source": [
    "print(wiki.search('Wikipedia:Contents/Society_and_social_sciences'))\n",
    "#same test as intial notebook, don't see this list on page"
   ]
  },
  {
   "cell_type": "markdown",
   "metadata": {},
   "source": [
    "Less concerned with the structure and presence of topics on a certain level, but rather the overall collection of topics and articles anywhere within the language version."
   ]
  },
  {
   "cell_type": "code",
   "execution_count": 34,
   "metadata": {},
   "outputs": [],
   "source": [
    "from bs4 import BeautifulSoup as soup\n",
    "from urllib.request import urlopen\n",
    "import requests\n",
    "import urllib\n",
    "import re"
   ]
  },
  {
   "cell_type": "markdown",
   "metadata": {},
   "source": [
    "https://pythonspot.com/extract-links-from-webpage-beautifulsoup/\n",
    "\n",
    "will write a function that runs the following cell to each of the level_1_under titles:"
   ]
  },
  {
   "cell_type": "code",
   "execution_count": 44,
   "metadata": {},
   "outputs": [],
   "source": [
    "society_html = urllib.request.urlopen(\"https://en.wikipedia.org/wiki/Wikipedia:Contents/Outlines#Society_and_social_sciences\")\n",
    "society_and_social_sciences = BeautifulSoup(society_html)\n",
    "for link in society_and_social_sciences.findAll('a', attrs={'href': re.compile(\"^http://\")}):\n",
    "    print(link.get('href'))"
   ]
  },
  {
   "cell_type": "markdown",
   "metadata": {},
   "source": [
    "^^ code runs but no output"
   ]
  },
  {
   "cell_type": "code",
   "execution_count": 70,
   "metadata": {
    "collapsed": true
   },
   "outputs": [
    {
     "ename": "TypeError",
     "evalue": "select() missing 1 required positional argument: 'selector'",
     "output_type": "error",
     "traceback": [
      "\u001b[1;31m---------------------------------------------------------------------------\u001b[0m",
      "\u001b[1;31mTypeError\u001b[0m                                 Traceback (most recent call last)",
      "\u001b[1;32m<ipython-input-70-ede5f2c17907>\u001b[0m in \u001b[0;36m<module>\u001b[1;34m\u001b[0m\n\u001b[1;32m----> 1\u001b[1;33m \u001b[1;32mfor\u001b[0m \u001b[0mtag\u001b[0m \u001b[1;32min\u001b[0m \u001b[0msoup\u001b[0m\u001b[1;33m.\u001b[0m\u001b[0mselect\u001b[0m\u001b[1;33m(\u001b[0m\u001b[1;34m'a[href^=https://en.wikipedia.org/wiki/Wikipedia:Contents/Outlines#Society_and_social_sciences]'\u001b[0m\u001b[1;33m)\u001b[0m\u001b[1;33m:\u001b[0m\u001b[1;33m\u001b[0m\u001b[1;33m\u001b[0m\u001b[0m\n\u001b[0m\u001b[0;32m      2\u001b[0m     \u001b[0mlink\u001b[0m \u001b[1;33m=\u001b[0m \u001b[0mtag\u001b[0m\u001b[1;33m[\u001b[0m\u001b[1;34m'href'\u001b[0m\u001b[1;33m]\u001b[0m\u001b[1;33m\u001b[0m\u001b[1;33m\u001b[0m\u001b[0m\n\u001b[0;32m      3\u001b[0m     \u001b[0mprint\u001b[0m\u001b[1;33m(\u001b[0m\u001b[0mlink\u001b[0m\u001b[1;33m.\u001b[0m\u001b[0mget\u001b[0m\u001b[1;33m(\u001b[0m\u001b[1;34m'href'\u001b[0m\u001b[1;33m)\u001b[0m\u001b[1;33m)\u001b[0m\u001b[1;33m\u001b[0m\u001b[1;33m\u001b[0m\u001b[0m\n",
      "\u001b[1;31mTypeError\u001b[0m: select() missing 1 required positional argument: 'selector'"
     ]
    }
   ],
   "source": [
    "for tag in soup.select('a[href^=https://en.wikipedia.org/wiki/Wikipedia:Contents/Outlines#Society_and_social_sciences]'):\n",
    "    link = tag['href']\n",
    "    print(link.get('href'))"
   ]
  },
  {
   "cell_type": "code",
   "execution_count": 60,
   "metadata": {
    "collapsed": true
   },
   "outputs": [
    {
     "ename": "TypeError",
     "evalue": "select() missing 1 required positional argument: 'selector'",
     "output_type": "error",
     "traceback": [
      "\u001b[1;31m---------------------------------------------------------------------------\u001b[0m",
      "\u001b[1;31mTypeError\u001b[0m                                 Traceback (most recent call last)",
      "\u001b[1;32m<ipython-input-60-a55f5a5d8eed>\u001b[0m in \u001b[0;36m<module>\u001b[1;34m\u001b[0m\n\u001b[1;32m----> 1\u001b[1;33m \u001b[1;32mfor\u001b[0m \u001b[0mtag\u001b[0m \u001b[1;32min\u001b[0m \u001b[0msoup\u001b[0m\u001b[1;33m.\u001b[0m\u001b[0mselect\u001b[0m\u001b[1;33m(\u001b[0m\u001b[1;33m(\u001b[0m\u001b[1;34m'a href=https://en.wikipedia.org/wiki/Wikipedia:Contents/Outlines#Society_and_social_sciences'\u001b[0m\u001b[1;33m)\u001b[0m\u001b[1;33m)\u001b[0m\u001b[1;33m:\u001b[0m\u001b[1;33m\u001b[0m\u001b[1;33m\u001b[0m\u001b[0m\n\u001b[0m\u001b[0;32m      2\u001b[0m     \u001b[1;31m#class=\"\" #id=\"link\"\u001b[0m\u001b[1;33m\u001b[0m\u001b[1;33m\u001b[0m\u001b[1;33m\u001b[0m\u001b[0m\n\u001b[0;32m      3\u001b[0m     \u001b[0mlink\u001b[0m \u001b[1;33m=\u001b[0m \u001b[0mtag\u001b[0m\u001b[1;33m[\u001b[0m\u001b[1;34m'href'\u001b[0m\u001b[1;33m]\u001b[0m\u001b[1;33m\u001b[0m\u001b[1;33m\u001b[0m\u001b[0m\n\u001b[0;32m      4\u001b[0m     \u001b[0mprint\u001b[0m\u001b[1;33m(\u001b[0m\u001b[0mlink\u001b[0m\u001b[1;33m.\u001b[0m\u001b[0mget\u001b[0m\u001b[1;33m(\u001b[0m\u001b[1;34m'href'\u001b[0m\u001b[1;33m)\u001b[0m\u001b[1;33m)\u001b[0m\u001b[1;33m\u001b[0m\u001b[1;33m\u001b[0m\u001b[0m\n",
      "\u001b[1;31mTypeError\u001b[0m: select() missing 1 required positional argument: 'selector'"
     ]
    }
   ],
   "source": [
    "for tag in soup.select('a href=https://en.wikipedia.org/wiki/Wikipedia:Contents/Outlines#Society_and_social_sciences'):\n",
    "    #class=\"\" #id=\"link\"\n",
    "    link = tag['href']\n",
    "    print(link.get('href'))"
   ]
  },
  {
   "cell_type": "markdown",
   "metadata": {},
   "source": [
    "adjusting based on https://beautiful-soup-4.readthedocs.io/en/latest/"
   ]
  },
  {
   "cell_type": "code",
   "execution_count": 69,
   "metadata": {},
   "outputs": [],
   "source": [
    "for tag in society_and_social_sciences.findAll(\"a attrs={'href': re.compile('^http://en.wikipedia.org/wiki/Wikipedia:Contents/Outlines#Society_and_social_sciences)}\"):\n",
    "    link = tag['href']\n",
    "    print(link.get('href'))"
   ]
  },
  {
   "cell_type": "markdown",
   "metadata": {},
   "source": [
    "^^ code runs but no output"
   ]
  },
  {
   "cell_type": "markdown",
   "metadata": {},
   "source": [
    "### Moving on to translation"
   ]
  },
  {
   "cell_type": "code",
   "execution_count": 72,
   "metadata": {},
   "outputs": [],
   "source": [
    "wiki.set_lang(\"zh\")"
   ]
  },
  {
   "cell_type": "code",
   "execution_count": null,
   "metadata": {},
   "outputs": [],
   "source": [
    "#homepage >> https://zh.wikipedia.org/wiki/Wikipedia:%E9%A6%96%E9%A1%B5"
   ]
  },
  {
   "cell_type": "code",
   "execution_count": 73,
   "metadata": {},
   "outputs": [
    {
     "name": "stdout",
     "output_type": "stream",
     "text": [
      "火（英語：Fire）是物質燃燒過程中所進行的強烈氧化反應，其能量會以光和熱的形式釋放，並會產生大量的生成物。緩慢的氧化反應，例如生锈或消化不在上述的定義中。\n",
      "火的可见部分称為焰，可以隨著粒子的振動而呈現不同的形狀，在温度足够高时能以等离子体（第四態，類似氣體）的形式出現。依燃燒的物質及純度不同，火焰的顏色和亮度也會不同。\n",
      "火必須有可燃物、夠高的熱或溫度、氧化劑及化學物四項並存才能生火，根據質量守恆定律，火不會使被燃燒物的原子消失，只是透過化學反應轉變了被燃燒物的分子型態。火失控時，常常稱作失火或火災。\n",
      "所有已知的人類社會都使用火，火的使用是普世文化通則之一；而在現代人演化出來之前，古代的人屬生物，也就是現代人類在生物學上的祖先，如直立人，可能在一百萬年前到一百五十萬年前或更早，就已知道用火。\n",
      "火是影響全球生態系統的重要因素之一，火的正面影響可以維持各種生態系統以及刺激其成長。人類用火來烹調、生熱、產生訊號、照明及推進等。火的負面影響包括水體污染、土壤流失、空氣污染及對生命財產的危害。而造成全球溫度升高的溫室效應，其原因之一就是來自燃燒化石燃料產生的二氧化碳。\n"
     ]
    }
   ],
   "source": [
    "print(wiki.summary('fire'))"
   ]
  },
  {
   "cell_type": "markdown",
   "metadata": {},
   "source": [
    "this works if I want to operate in the language version over several commands, without having to refer to the homepage, and can translate along the way, like this..."
   ]
  },
  {
   "cell_type": "code",
   "execution_count": null,
   "metadata": {},
   "outputs": [],
   "source": []
  }
 ],
 "metadata": {
  "kernelspec": {
   "display_name": "Python 3",
   "language": "python",
   "name": "python3"
  },
  "language_info": {
   "codemirror_mode": {
    "name": "ipython",
    "version": 3
   },
   "file_extension": ".py",
   "mimetype": "text/x-python",
   "name": "python",
   "nbconvert_exporter": "python",
   "pygments_lexer": "ipython3",
   "version": "3.7.4"
  }
 },
 "nbformat": 4,
 "nbformat_minor": 2
}
