{
 "cells": [
  {
   "cell_type": "code",
   "execution_count": 39,
   "metadata": {
    "scrolled": true
   },
   "outputs": [],
   "source": [
    "import wikipedia as wiki\n",
    "import pandas as pd"
   ]
  },
  {
   "cell_type": "markdown",
   "metadata": {},
   "source": [
    "may use function later - what determines these and where is this on the site?"
   ]
  },
  {
   "cell_type": "code",
   "execution_count": 2,
   "metadata": {
    "scrolled": false
   },
   "outputs": [
    {
     "name": "stdout",
     "output_type": "stream",
     "text": [
      "['Boat', 'U-boat', 'Boat (disambiguation)', 'Boating', 'Whose Boat Is This Boat?', 'Banana boat (boat)', 'The Boat', 'Destroyer', 'The Love Boat', 'IF-boat']\n"
     ]
    }
   ],
   "source": [
    "print(wiki.search(\"boat\"))"
   ]
  },
  {
   "cell_type": "markdown",
   "metadata": {},
   "source": [
    "### try English first, then incorporate translation\n",
    "\n",
    "https://en.wikipedia.org/wiki/Wikipedia:Contents/Outlines#Society_and_social_sciences\n",
    "\n",
    "just selected and c/p here to make into list"
   ]
  },
  {
   "cell_type": "code",
   "execution_count": 3,
   "metadata": {},
   "outputs": [],
   "source": [
    "level_1 = [\n",
    "    'General reference',\n",
    "    'Culture and the arts',\n",
    "    'none',\n",
    "    #none is to align with Chinese list later\n",
    "    'Geography and places',\n",
    "    'Health and fitness',\n",
    "    'History and events',\n",
    "    'Human activities',\n",
    "    'Mathematics and logic',\n",
    "    'Natural and physical sciences',\n",
    "    'People and self',\n",
    "    'Philosophy and thinking',\n",
    "    'Religion and belief systems',\n",
    "    'Society and social sciences',\n",
    "    'Technology and applied sciences'\n",
    "    ]"
   ]
  },
  {
   "cell_type": "code",
   "execution_count": 4,
   "metadata": {},
   "outputs": [
    {
     "name": "stdout",
     "output_type": "stream",
     "text": [
      "['General reference', 'Culture and the arts', 'none', 'Geography and places', 'Health and fitness', 'History and events', 'Human activities', 'Mathematics and logic', 'Natural and physical sciences', 'People and self', 'Philosophy and thinking', 'Religion and belief systems', 'Society and social sciences', 'Technology and applied sciences']\n"
     ]
    }
   ],
   "source": [
    "print(level_1)"
   ]
  },
  {
   "cell_type": "code",
   "execution_count": 5,
   "metadata": {
    "scrolled": false
   },
   "outputs": [
    {
     "name": "stdout",
     "output_type": "stream",
     "text": [
      "'General_reference','Culture_and_the_arts','Geography_and_places','Health_and_fitness','History_and_events','Human_activities','Mathematics_and_logic','Natural_and_physical_sciences','People_and_self','Philosophy_and_thinking','Religion_and_belief_systems','Society_and_social_sciences','Technology_and_applied_sciences'\n"
     ]
    }
   ],
   "source": [
    "level_1_text = \"'General reference','Culture and the arts','Geography and places','Health and fitness','History and events','Human activities','Mathematics and logic','Natural and physical sciences','People and self','Philosophy and thinking','Religion and belief systems','Society and social sciences','Technology and applied sciences'\"\n",
    "level_1_under = level_1_text.replace(\" \", \"_\")\n",
    "print(level_1_under)"
   ]
  },
  {
   "cell_type": "code",
   "execution_count": 6,
   "metadata": {
    "scrolled": false
   },
   "outputs": [
    {
     "name": "stdout",
     "output_type": "stream",
     "text": [
      "['Wikipedia:Contents/Society and social sciences', 'Wikipedia:Contents/Categories/Society and social sciences', 'Wikipedia:Contents/Overview/Society and social sciences', 'Wikipedia:Contents/Indices/Society and social sciences', 'Wikipedia:Contents/Society and social sciences/Intro', 'Wikipedia:Contents/Society and social sciences/Overviews', 'Wikipedia:Contents/Outlines/Society and social sciences', 'Wikipedia:Contents/Society and social sciences/Categories', 'Wikipedia:Contents/Society and social sciences/Outlines', 'Wikipedia:Contents/Society and social sciences/Portals']\n"
     ]
    }
   ],
   "source": [
    "print(wiki.search('Wikipedia:Contents/Society_and_social_sciences'))\n",
    "#same test as intial notebook, don't see this list on page"
   ]
  },
  {
   "cell_type": "markdown",
   "metadata": {},
   "source": [
    "Less concerned with the structure and presence of topics on a certain level, but rather the overall collection of topics and articles anywhere within the language version."
   ]
  },
  {
   "cell_type": "code",
   "execution_count": 7,
   "metadata": {},
   "outputs": [],
   "source": [
    "from bs4 import BeautifulSoup as soup\n",
    "from urllib.request import urlopen\n",
    "import requests\n",
    "import urllib\n",
    "import re"
   ]
  },
  {
   "cell_type": "markdown",
   "metadata": {},
   "source": [
    "https://pythonspot.com/extract-links-from-webpage-beautifulsoup/\n",
    "\n",
    "will write a function that runs the following cell to each of the level_1_under titles:"
   ]
  },
  {
   "cell_type": "code",
   "execution_count": 8,
   "metadata": {
    "collapsed": true
   },
   "outputs": [
    {
     "ename": "NameError",
     "evalue": "name 'BeautifulSoup' is not defined",
     "output_type": "error",
     "traceback": [
      "\u001b[1;31m---------------------------------------------------------------------------\u001b[0m",
      "\u001b[1;31mNameError\u001b[0m                                 Traceback (most recent call last)",
      "\u001b[1;32m<ipython-input-8-33905d6c43ee>\u001b[0m in \u001b[0;36m<module>\u001b[1;34m\u001b[0m\n\u001b[0;32m      1\u001b[0m \u001b[0msociety_html\u001b[0m \u001b[1;33m=\u001b[0m \u001b[0murllib\u001b[0m\u001b[1;33m.\u001b[0m\u001b[0mrequest\u001b[0m\u001b[1;33m.\u001b[0m\u001b[0murlopen\u001b[0m\u001b[1;33m(\u001b[0m\u001b[1;34m\"https://en.wikipedia.org/wiki/Wikipedia:Contents/Outlines#Society_and_social_sciences\"\u001b[0m\u001b[1;33m)\u001b[0m\u001b[1;33m\u001b[0m\u001b[1;33m\u001b[0m\u001b[0m\n\u001b[1;32m----> 2\u001b[1;33m \u001b[0msociety_and_social_sciences\u001b[0m \u001b[1;33m=\u001b[0m \u001b[0mBeautifulSoup\u001b[0m\u001b[1;33m(\u001b[0m\u001b[0msociety_html\u001b[0m\u001b[1;33m)\u001b[0m\u001b[1;33m\u001b[0m\u001b[1;33m\u001b[0m\u001b[0m\n\u001b[0m\u001b[0;32m      3\u001b[0m \u001b[1;32mfor\u001b[0m \u001b[0mlink\u001b[0m \u001b[1;32min\u001b[0m \u001b[0msociety_and_social_sciences\u001b[0m\u001b[1;33m.\u001b[0m\u001b[0mfindAll\u001b[0m\u001b[1;33m(\u001b[0m\u001b[1;34m'a'\u001b[0m\u001b[1;33m,\u001b[0m \u001b[0mattrs\u001b[0m\u001b[1;33m=\u001b[0m\u001b[1;33m{\u001b[0m\u001b[1;34m'href'\u001b[0m\u001b[1;33m:\u001b[0m \u001b[0mre\u001b[0m\u001b[1;33m.\u001b[0m\u001b[0mcompile\u001b[0m\u001b[1;33m(\u001b[0m\u001b[1;34m\"^http://\"\u001b[0m\u001b[1;33m)\u001b[0m\u001b[1;33m}\u001b[0m\u001b[1;33m)\u001b[0m\u001b[1;33m:\u001b[0m\u001b[1;33m\u001b[0m\u001b[1;33m\u001b[0m\u001b[0m\n\u001b[0;32m      4\u001b[0m     \u001b[0mprint\u001b[0m\u001b[1;33m(\u001b[0m\u001b[0mlink\u001b[0m\u001b[1;33m.\u001b[0m\u001b[0mget\u001b[0m\u001b[1;33m(\u001b[0m\u001b[1;34m'href'\u001b[0m\u001b[1;33m)\u001b[0m\u001b[1;33m)\u001b[0m\u001b[1;33m\u001b[0m\u001b[1;33m\u001b[0m\u001b[0m\n",
      "\u001b[1;31mNameError\u001b[0m: name 'BeautifulSoup' is not defined"
     ]
    }
   ],
   "source": [
    "society_html = urllib.request.urlopen(\"https://en.wikipedia.org/wiki/Wikipedia:Contents/Outlines#Society_and_social_sciences\")\n",
    "society_and_social_sciences = BeautifulSoup(society_html)\n",
    "for link in society_and_social_sciences.findAll('a', attrs={'href': re.compile(\"^http://\")}):\n",
    "    print(link.get('href'))"
   ]
  },
  {
   "cell_type": "markdown",
   "metadata": {},
   "source": [
    "^^ code runs but no output"
   ]
  },
  {
   "cell_type": "code",
   "execution_count": 9,
   "metadata": {
    "collapsed": true
   },
   "outputs": [
    {
     "ename": "TypeError",
     "evalue": "select() missing 1 required positional argument: 'selector'",
     "output_type": "error",
     "traceback": [
      "\u001b[1;31m---------------------------------------------------------------------------\u001b[0m",
      "\u001b[1;31mTypeError\u001b[0m                                 Traceback (most recent call last)",
      "\u001b[1;32m<ipython-input-9-ede5f2c17907>\u001b[0m in \u001b[0;36m<module>\u001b[1;34m\u001b[0m\n\u001b[1;32m----> 1\u001b[1;33m \u001b[1;32mfor\u001b[0m \u001b[0mtag\u001b[0m \u001b[1;32min\u001b[0m \u001b[0msoup\u001b[0m\u001b[1;33m.\u001b[0m\u001b[0mselect\u001b[0m\u001b[1;33m(\u001b[0m\u001b[1;34m'a[href^=https://en.wikipedia.org/wiki/Wikipedia:Contents/Outlines#Society_and_social_sciences]'\u001b[0m\u001b[1;33m)\u001b[0m\u001b[1;33m:\u001b[0m\u001b[1;33m\u001b[0m\u001b[1;33m\u001b[0m\u001b[0m\n\u001b[0m\u001b[0;32m      2\u001b[0m     \u001b[0mlink\u001b[0m \u001b[1;33m=\u001b[0m \u001b[0mtag\u001b[0m\u001b[1;33m[\u001b[0m\u001b[1;34m'href'\u001b[0m\u001b[1;33m]\u001b[0m\u001b[1;33m\u001b[0m\u001b[1;33m\u001b[0m\u001b[0m\n\u001b[0;32m      3\u001b[0m     \u001b[0mprint\u001b[0m\u001b[1;33m(\u001b[0m\u001b[0mlink\u001b[0m\u001b[1;33m.\u001b[0m\u001b[0mget\u001b[0m\u001b[1;33m(\u001b[0m\u001b[1;34m'href'\u001b[0m\u001b[1;33m)\u001b[0m\u001b[1;33m)\u001b[0m\u001b[1;33m\u001b[0m\u001b[1;33m\u001b[0m\u001b[0m\n",
      "\u001b[1;31mTypeError\u001b[0m: select() missing 1 required positional argument: 'selector'"
     ]
    }
   ],
   "source": [
    "for tag in soup.select('a[href^=https://en.wikipedia.org/wiki/Wikipedia:Contents/Outlines#Society_and_social_sciences]'):\n",
    "    link = tag['href']\n",
    "    print(link.get('href'))"
   ]
  },
  {
   "cell_type": "code",
   "execution_count": 10,
   "metadata": {
    "collapsed": true
   },
   "outputs": [
    {
     "ename": "TypeError",
     "evalue": "select() missing 1 required positional argument: 'selector'",
     "output_type": "error",
     "traceback": [
      "\u001b[1;31m---------------------------------------------------------------------------\u001b[0m",
      "\u001b[1;31mTypeError\u001b[0m                                 Traceback (most recent call last)",
      "\u001b[1;32m<ipython-input-10-0e4dc0ab5827>\u001b[0m in \u001b[0;36m<module>\u001b[1;34m\u001b[0m\n\u001b[1;32m----> 1\u001b[1;33m \u001b[1;32mfor\u001b[0m \u001b[0mtag\u001b[0m \u001b[1;32min\u001b[0m \u001b[0msoup\u001b[0m\u001b[1;33m.\u001b[0m\u001b[0mselect\u001b[0m\u001b[1;33m(\u001b[0m\u001b[1;34m'a href=https://en.wikipedia.org/wiki/Wikipedia:Contents/Outlines#Society_and_social_sciences'\u001b[0m\u001b[1;33m)\u001b[0m\u001b[1;33m:\u001b[0m\u001b[1;33m\u001b[0m\u001b[1;33m\u001b[0m\u001b[0m\n\u001b[0m\u001b[0;32m      2\u001b[0m     \u001b[1;31m#class=\"\" #id=\"link\"\u001b[0m\u001b[1;33m\u001b[0m\u001b[1;33m\u001b[0m\u001b[1;33m\u001b[0m\u001b[0m\n\u001b[0;32m      3\u001b[0m     \u001b[0mlink\u001b[0m \u001b[1;33m=\u001b[0m \u001b[0mtag\u001b[0m\u001b[1;33m[\u001b[0m\u001b[1;34m'href'\u001b[0m\u001b[1;33m]\u001b[0m\u001b[1;33m\u001b[0m\u001b[1;33m\u001b[0m\u001b[0m\n\u001b[0;32m      4\u001b[0m     \u001b[0mprint\u001b[0m\u001b[1;33m(\u001b[0m\u001b[0mlink\u001b[0m\u001b[1;33m.\u001b[0m\u001b[0mget\u001b[0m\u001b[1;33m(\u001b[0m\u001b[1;34m'href'\u001b[0m\u001b[1;33m)\u001b[0m\u001b[1;33m)\u001b[0m\u001b[1;33m\u001b[0m\u001b[1;33m\u001b[0m\u001b[0m\n",
      "\u001b[1;31mTypeError\u001b[0m: select() missing 1 required positional argument: 'selector'"
     ]
    }
   ],
   "source": [
    "for tag in soup.select('a href=https://en.wikipedia.org/wiki/Wikipedia:Contents/Outlines#Society_and_social_sciences'):\n",
    "    #class=\"\" #id=\"link\"\n",
    "    link = tag['href']\n",
    "    print(link.get('href'))"
   ]
  },
  {
   "cell_type": "markdown",
   "metadata": {},
   "source": [
    "adjusting based on https://beautiful-soup-4.readthedocs.io/en/latest/"
   ]
  },
  {
   "cell_type": "code",
   "execution_count": 12,
   "metadata": {
    "collapsed": true
   },
   "outputs": [
    {
     "ename": "NameError",
     "evalue": "name 'society_and_social_sciences' is not defined",
     "output_type": "error",
     "traceback": [
      "\u001b[1;31m---------------------------------------------------------------------------\u001b[0m",
      "\u001b[1;31mNameError\u001b[0m                                 Traceback (most recent call last)",
      "\u001b[1;32m<ipython-input-12-6fda6d548c17>\u001b[0m in \u001b[0;36m<module>\u001b[1;34m\u001b[0m\n\u001b[1;32m----> 1\u001b[1;33m \u001b[1;32mfor\u001b[0m \u001b[0mtag\u001b[0m \u001b[1;32min\u001b[0m \u001b[0msociety_and_social_sciences\u001b[0m\u001b[1;33m.\u001b[0m\u001b[0mfindAll\u001b[0m\u001b[1;33m(\u001b[0m\u001b[1;34m\"a attrs={'href': re.compile('^http://en.wikipedia.org/wiki/Wikipedia:Contents/Outlines#Society_and_social_sciences)}\"\u001b[0m\u001b[1;33m)\u001b[0m\u001b[1;33m:\u001b[0m\u001b[1;33m\u001b[0m\u001b[1;33m\u001b[0m\u001b[0m\n\u001b[0m\u001b[0;32m      2\u001b[0m     \u001b[0mlink\u001b[0m \u001b[1;33m=\u001b[0m \u001b[0mtag\u001b[0m\u001b[1;33m[\u001b[0m\u001b[1;34m'href'\u001b[0m\u001b[1;33m]\u001b[0m\u001b[1;33m\u001b[0m\u001b[1;33m\u001b[0m\u001b[0m\n\u001b[0;32m      3\u001b[0m     \u001b[0mprint\u001b[0m\u001b[1;33m(\u001b[0m\u001b[0mlink\u001b[0m\u001b[1;33m.\u001b[0m\u001b[0mget\u001b[0m\u001b[1;33m(\u001b[0m\u001b[1;34m'href'\u001b[0m\u001b[1;33m)\u001b[0m\u001b[1;33m)\u001b[0m\u001b[1;33m\u001b[0m\u001b[1;33m\u001b[0m\u001b[0m\n",
      "\u001b[1;31mNameError\u001b[0m: name 'society_and_social_sciences' is not defined"
     ]
    }
   ],
   "source": [
    "#requests.get...\n",
    "\n",
    "for tag in society_and_social_sciences.findAll(\"a attrs={'href': re.compile('^http://en.wikipedia.org/wiki/Wikipedia:Contents/Outlines#Society_and_social_sciences)}\"):\n",
    "    link = tag['href']\n",
    "    print(link.get('href'))"
   ]
  },
  {
   "cell_type": "markdown",
   "metadata": {},
   "source": [
    "^^ code runs but no output"
   ]
  },
  {
   "cell_type": "markdown",
   "metadata": {},
   "source": [
    "### Moving on to translation"
   ]
  },
  {
   "cell_type": "code",
   "execution_count": 14,
   "metadata": {},
   "outputs": [],
   "source": [
    "wiki.set_lang(\"zh\")"
   ]
  },
  {
   "cell_type": "code",
   "execution_count": 15,
   "metadata": {},
   "outputs": [],
   "source": [
    "#homepage >> https://zh.wikipedia.org/wiki/Wikipedia:%E9%A6%96%E9%A1%B5"
   ]
  },
  {
   "cell_type": "code",
   "execution_count": 16,
   "metadata": {},
   "outputs": [
    {
     "name": "stdout",
     "output_type": "stream",
     "text": [
      "火（英語：Fire）是物質燃燒過程中所進行的強烈氧化反應，其能量會以光和熱的形式釋放，並會產生大量的生成物。緩慢的氧化反應，例如生锈或消化不在上述的定義中。\n",
      "火的可见部分称為焰，可以隨著粒子的振動而呈現不同的形狀，在温度足够高时能以等离子体（第四態，類似氣體）的形式出現。依燃燒的物質及純度不同，火焰的顏色和亮度也會不同。\n",
      "火必須有可燃物、夠高的熱或溫度、氧化劑及化學物四項並存才能生火，根據質量守恆定律，火不會使被燃燒物的原子消失，只是透過化學反應轉變了被燃燒物的分子型態。火失控時，常常稱作失火或火災。\n",
      "所有已知的人類社會都使用火，火的使用是普世文化通則之一；而在現代人演化出來之前，古代的人屬生物，也就是現代人類在生物學上的祖先，如直立人，可能在一百萬年前到一百五十萬年前或更早，就已知道用火。\n",
      "火是影響全球生態系統的重要因素之一，火的正面影響可以維持各種生態系統以及刺激其成長。人類用火來烹調、生熱、產生訊號、照明及推進等。火的負面影響包括水體污染、土壤流失、空氣污染及對生命財產的危害。而造成全球溫度升高的溫室效應，其原因之一就是來自燃燒化石燃料產生的二氧化碳。\n"
     ]
    }
   ],
   "source": [
    "print(wiki.summary('fire'))"
   ]
  },
  {
   "cell_type": "markdown",
   "metadata": {},
   "source": [
    "this works if I want to operate in the language version over several commands, without having to refer to the homepage, and can translate along the way, like this..."
   ]
  },
  {
   "cell_type": "code",
   "execution_count": 17,
   "metadata": {
    "scrolled": false
   },
   "outputs": [],
   "source": [
    "from google_trans_new import google_translator"
   ]
  },
  {
   "cell_type": "markdown",
   "metadata": {},
   "source": [
    "https://pypi.org/project/google-trans-new/"
   ]
  },
  {
   "cell_type": "code",
   "execution_count": 18,
   "metadata": {},
   "outputs": [
    {
     "name": "stdout",
     "output_type": "stream",
     "text": [
      "Hello Chinese \n"
     ]
    }
   ],
   "source": [
    "translator = google_translator()  \n",
    "translate_text = translator.translate('สวัสดีจีน', lang_tgt = 'en')  \n",
    "print(translate_text)\n",
    "# -> Hello China"
   ]
  },
  {
   "cell_type": "code",
   "execution_count": 19,
   "metadata": {
    "collapsed": true
   },
   "outputs": [
    {
     "ename": "TypeError",
     "evalue": "translate() got an unexpected keyword argument 'src'",
     "output_type": "error",
     "traceback": [
      "\u001b[1;31m---------------------------------------------------------------------------\u001b[0m",
      "\u001b[1;31mTypeError\u001b[0m                                 Traceback (most recent call last)",
      "\u001b[1;32m<ipython-input-19-aed3bfe1d41c>\u001b[0m in \u001b[0;36m<module>\u001b[1;34m\u001b[0m\n\u001b[1;32m----> 1\u001b[1;33m \u001b[0msource\u001b[0m \u001b[1;33m=\u001b[0m \u001b[0mtranslator\u001b[0m\u001b[1;33m.\u001b[0m\u001b[0mtranslate\u001b[0m\u001b[1;33m(\u001b[0m\u001b[1;34m'Estoy un computadora.'\u001b[0m\u001b[1;33m,\u001b[0m \u001b[0msrc\u001b[0m \u001b[1;33m=\u001b[0m \u001b[1;34m'sp'\u001b[0m\u001b[1;33m)\u001b[0m\u001b[1;33m\u001b[0m\u001b[1;33m\u001b[0m\u001b[0m\n\u001b[0m\u001b[0;32m      2\u001b[0m \u001b[0mdestination\u001b[0m \u001b[1;33m=\u001b[0m \u001b[0mtranslator\u001b[0m\u001b[1;33m.\u001b[0m\u001b[0mtranslate\u001b[0m\u001b[1;33m(\u001b[0m\u001b[0msource\u001b[0m\u001b[1;33m,\u001b[0m \u001b[0mdest\u001b[0m \u001b[1;33m=\u001b[0m \u001b[1;34m'en'\u001b[0m\u001b[1;33m)\u001b[0m\u001b[1;33m\u001b[0m\u001b[1;33m\u001b[0m\u001b[0m\n\u001b[0;32m      3\u001b[0m \u001b[0mprint\u001b[0m\u001b[1;33m(\u001b[0m\u001b[0mdestination\u001b[0m\u001b[1;33m)\u001b[0m\u001b[1;33m\u001b[0m\u001b[1;33m\u001b[0m\u001b[0m\n",
      "\u001b[1;31mTypeError\u001b[0m: translate() got an unexpected keyword argument 'src'"
     ]
    }
   ],
   "source": [
    "source = translator.translate('Estoy un computadora.', src = 'sp')\n",
    "destination = translator.translate(source, dest = 'en')\n",
    "print(destination)"
   ]
  },
  {
   "cell_type": "code",
   "execution_count": 20,
   "metadata": {
    "collapsed": true
   },
   "outputs": [
    {
     "ename": "TypeError",
     "evalue": "translate() got an unexpected keyword argument 'src'",
     "output_type": "error",
     "traceback": [
      "\u001b[1;31m---------------------------------------------------------------------------\u001b[0m",
      "\u001b[1;31mTypeError\u001b[0m                                 Traceback (most recent call last)",
      "\u001b[1;32m<ipython-input-20-25ce0d16755e>\u001b[0m in \u001b[0;36m<module>\u001b[1;34m\u001b[0m\n\u001b[1;32m----> 1\u001b[1;33m \u001b[0mboth\u001b[0m \u001b[1;33m=\u001b[0m \u001b[0mtranslator\u001b[0m\u001b[1;33m.\u001b[0m\u001b[0mtranslate\u001b[0m\u001b[1;33m(\u001b[0m\u001b[1;34m'Think about it.'\u001b[0m\u001b[1;33m,\u001b[0m \u001b[0msrc\u001b[0m \u001b[1;33m=\u001b[0m \u001b[1;34m'en'\u001b[0m\u001b[1;33m,\u001b[0m \u001b[0mdest\u001b[0m \u001b[1;33m=\u001b[0m \u001b[1;34m'en'\u001b[0m\u001b[1;33m)\u001b[0m\u001b[1;33m\u001b[0m\u001b[1;33m\u001b[0m\u001b[0m\n\u001b[0m\u001b[0;32m      2\u001b[0m \u001b[0mprint\u001b[0m\u001b[1;33m(\u001b[0m\u001b[0mboth\u001b[0m\u001b[1;33m)\u001b[0m\u001b[1;33m\u001b[0m\u001b[1;33m\u001b[0m\u001b[0m\n",
      "\u001b[1;31mTypeError\u001b[0m: translate() got an unexpected keyword argument 'src'"
     ]
    }
   ],
   "source": [
    "both = translator.translate('Think about it.', src = 'en', dest = 'en')\n",
    "print(both)"
   ]
  },
  {
   "cell_type": "code",
   "execution_count": 35,
   "metadata": {},
   "outputs": [
    {
     "name": "stdout",
     "output_type": "stream",
     "text": [
      "Fire (English: fire) is a strong oxidation reaction in the biopsy process, which is released in the form of light and heat and produces a large amount of product. Slow oxidation reactions, such as rust or digestion is not in the above definition.\n",
      "The visible portion of the fire is called the flame, and may exhibit different shapes as the vibration of the particles can occur in the form of a plasma (fourth state, similar gas) when the temperature is sufficiently high. The material and pureness of the flame will be different in the material and purity of the combustion.\n",
      "Fire must have flammable materials, high heat or temperature, oxidant and chemical four coexistence to make fire, according to quality conservation law, fire does not disappear the atom of the burner, only transforms the molecules of the burner by chemical reaction Type. When the fire is out of control, it is often referred to as a fire or fire.\n",
      "All known human society use fire, the use of fire is one of the universal cultural customs; before modern people evolved, the ancient people are creatures, which is modern human in biological ancestors, such as an Ertilist, It may be known to use fire before or earlier in a million years ago.\n",
      "Fire is one of the important factors affecting the global ecosystem. The positive impact of fire can maintain a variety of ecosystems and stimulate their growth. Human use fire to cook, heat, generate signal, lighting, and advancement. The negative impact of fire includes water pollution, soil loss, air pollution, and harm to life and property. A greenhouse effect that has increased global temperature is one of the reasons why the carbon dioxide produced from burning fossil fuels. \n"
     ]
    },
    {
     "data": {
      "text/plain": [
       "'火（英語：Fire）是物質燃燒過程中所進行的強烈氧化反應，其能量會以光和熱的形式釋放，並會產生大量的生成物。緩慢的氧化反應，例如生锈或消化不在上述的定義中。\\n火的可见部分称為焰，可以隨著粒子的振動而呈現不同的形狀，在温度足够高时能以等离子体（第四態，類似氣體）的形式出現。依燃燒的物質及純度不同，火焰的顏色和亮度也會不同。\\n火必須有可燃物、夠高的熱或溫度、氧化劑及化學物四項並存才能生火，根據質量守恆定律，火不會使被燃燒物的原子消失，只是透過化學反應轉變了被燃燒物的分子型態。火失控時，常常稱作失火或火災。\\n所有已知的人類社會都使用火，火的使用是普世文化通則之一；而在現代人演化出來之前，古代的人屬生物，也就是現代人類在生物學上的祖先，如直立人，可能在一百萬年前到一百五十萬年前或更早，就已知道用火。\\n火是影響全球生態系統的重要因素之一，火的正面影響可以維持各種生態系統以及刺激其成長。人類用火來烹調、生熱、產生訊號、照明及推進等。火的負面影響包括水體污染、土壤流失、空氣污染及對生命財產的危害。而造成全球溫度升高的溫室效應，其原因之一就是來自燃燒化石燃料產生的二氧化碳。'"
      ]
     },
     "execution_count": 35,
     "metadata": {},
     "output_type": "execute_result"
    }
   ],
   "source": [
    "wiki.set_lang(\"zh\")\n",
    "\n",
    "fire_summary = translator.translate(wiki.summary('fire'), lang_tgt = 'en')  \n",
    "print(fire_summary)\n",
    "wiki.summary('fire')"
   ]
  },
  {
   "cell_type": "markdown",
   "metadata": {},
   "source": [
    "..first time got 'Disambiguation error' with recommendations, but after re-ran set_lang, got the article."
   ]
  },
  {
   "cell_type": "code",
   "execution_count": 36,
   "metadata": {},
   "outputs": [
    {
     "name": "stdout",
     "output_type": "stream",
     "text": [
      "'General_reference','Culture_and_the_arts','Geography_and_places','Health_and_fitness','History_and_events','Human_activities','Mathematics_and_logic','Natural_and_physical_sciences','People_and_self','Philosophy_and_thinking','Religion_and_belief_systems','Society_and_social_sciences','Technology_and_applied_sciences'\n",
      "['Wikipedia:互助客栈/消息/存档/2019年10月']\n"
     ]
    }
   ],
   "source": [
    "level_1_text = \"'General reference','Culture and the arts','Geography and places','Health and fitness','History and events','Human activities','Mathematics and logic','Natural and physical sciences','People and self','Philosophy and thinking','Religion and belief systems','Society and social sciences','Technology and applied sciences'\"\n",
    "level_1_under = level_1_text.replace(\" \", \"_\")\n",
    "print(level_1_under)\n",
    "\n",
    "print(wiki.search('Wikipedia:Contents/Society_and_social_sciences'))\n",
    "#same test as intial notebook, don't see this list on page"
   ]
  },
  {
   "cell_type": "code",
   "execution_count": 37,
   "metadata": {},
   "outputs": [],
   "source": [
    "#While Mandarin Chinese language is natively called Hànyǔ,\n",
    "#I will be using zh (as in Zhōngguó, \"China\"), \n",
    "#for consistency with the prefix of the Wikipedia site.\n",
    "level_1_zh = [\n",
    "    'Life, art and culture',\n",
    "    'All over the world',\n",
    "    'Chinese culture',\n",
    "    'Humanities and Social Sciences',\n",
    "    'society',\n",
    "    'Nature and Natural Sciences',\n",
    "    'Religion and belief',\n",
    "    'Engineering,Technology and Applied Science'\n",
    "    ]"
   ]
  },
  {
   "cell_type": "code",
   "execution_count": 33,
   "metadata": {},
   "outputs": [
    {
     "name": "stdout",
     "output_type": "stream",
     "text": [
      "'Life,_art_and_culture','All_over_the_world','Chinese_culture','Humanities_and_Social_Sciences','society','Nature_and_Natural_Sciences','Religion_and_belief','Engineering,Technology_and_Applied_Science'\n"
     ]
    }
   ],
   "source": [
    "level_1_zh_text = \"'Life, art and culture','All over the world','Chinese culture','Humanities and Social Sciences','society','Nature and Natural Sciences','Religion and belief','Engineering,Technology and Applied Science'\"\n",
    "level_1_zh = level_1_zh_text.replace(\" \", \"_\")\n",
    "print(level_1_zh)"
   ]
  },
  {
   "cell_type": "code",
   "execution_count": 34,
   "metadata": {},
   "outputs": [],
   "source": [
    "level_1_en = level_1_under\n",
    "#from first few lines in notebook, with \"en\" for English"
   ]
  },
  {
   "cell_type": "markdown",
   "metadata": {},
   "source": [
    "Here is an alternating (English,Chinese,Eng...) list of main categories.  Where there is not a good match, I am placing 'none'.   Mostly these are due to those topics being grouped differently and covered under another category.  Even these main labels are subject to translation error due to usage, so I may just pay a translator for key points as I collect a few more instances of this."
   ]
  },
  {
   "cell_type": "code",
   "execution_count": 21,
   "metadata": {},
   "outputs": [],
   "source": [
    "#may add underscores for some application, given these are high level.\n",
    "level_1_both = [\n",
    "    'General reference','none',\n",
    "    'Culture and the arts','Life, art and culture',\n",
    "    'none','Chinese culture',\n",
    "    'Geography and places','All over the world',\n",
    "    'Health and fitness','none',\n",
    "    'History and events','none',\n",
    "    'Human activities','society',\n",
    "    #society on the Chinese side really overlaps more with their\n",
    "    #'Humanities and Social Sciences' seen further down.\n",
    "    'Mathematics and logic','none',\n",
    "    'Natural and physical sciences','Nature and Natural Sciences',\n",
    "    'People and self','none',\n",
    "    'Philosophy and thinking','none',\n",
    "    'Religion and belief systems','Religion and belief',\n",
    "    'Society and social sciences','Humanities and Social Sciences',\n",
    "    'Technology and applied sciences','Engineering,Technology and Applied Science'\n",
    "    ] # The Chinese has fewer categories but several are more flexible in their contents.\n",
    "        #Perhaps there is a sense of things being connected,\n",
    "        #or the scattered formation of this version due to mainland censorship\n",
    "        #may even promote this flexibility on the site."
   ]
  },
  {
   "cell_type": "markdown",
   "metadata": {},
   "source": [
    "While not yet computational, looking at groupings of areas of information may in itself give some hypothetical starting framework for later comparisons. (This will be tremendously more difficult when expanding to more than a few other language versions, if the disparity pervades, but may also lead into some network analysis) "
   ]
  },
  {
   "cell_type": "code",
   "execution_count": 22,
   "metadata": {},
   "outputs": [],
   "source": [
    "#lev1_en_list = level_1.insert(2, 'none') ...just add at top of notebook "
   ]
  },
  {
   "cell_type": "code",
   "execution_count": 23,
   "metadata": {},
   "outputs": [],
   "source": [
    "lev1_en_list = level_1"
   ]
  },
  {
   "cell_type": "code",
   "execution_count": 24,
   "metadata": {},
   "outputs": [],
   "source": [
    "lev1_zh_list = [\n",
    "    'none',\n",
    "    'Life, art and culture',\n",
    "    'Chinese culture',\n",
    "    'All over the world',\n",
    "    'none',\n",
    "    'none',\n",
    "    'society',\n",
    "    'none',\n",
    "    'Nature and Natural Sciences',\n",
    "    'none',\n",
    "    'none',\n",
    "    'Religion and belief',\n",
    "    'Humanities and Social Sciences',\n",
    "    'Engineering,Technology and Applied Science'\n",
    "    ]"
   ]
  },
  {
   "cell_type": "markdown",
   "metadata": {},
   "source": [
    "Make DataFrame from these lists."
   ]
  },
  {
   "cell_type": "code",
   "execution_count": 40,
   "metadata": {},
   "outputs": [],
   "source": [
    "both_level_1 = pd.DataFrame(list(zip(lev1_zh_list, lev1_en_list)),\n",
    "               columns =['Hànyǔ', 'English'])"
   ]
  },
  {
   "cell_type": "code",
   "execution_count": 42,
   "metadata": {},
   "outputs": [
    {
     "data": {
      "text/html": [
       "<div>\n",
       "<style scoped>\n",
       "    .dataframe tbody tr th:only-of-type {\n",
       "        vertical-align: middle;\n",
       "    }\n",
       "\n",
       "    .dataframe tbody tr th {\n",
       "        vertical-align: top;\n",
       "    }\n",
       "\n",
       "    .dataframe thead th {\n",
       "        text-align: right;\n",
       "    }\n",
       "</style>\n",
       "<table border=\"1\" class=\"dataframe\">\n",
       "  <thead>\n",
       "    <tr style=\"text-align: right;\">\n",
       "      <th></th>\n",
       "      <th>Hànyǔ</th>\n",
       "      <th>English</th>\n",
       "    </tr>\n",
       "  </thead>\n",
       "  <tbody>\n",
       "    <tr>\n",
       "      <td>0</td>\n",
       "      <td>none</td>\n",
       "      <td>General reference</td>\n",
       "    </tr>\n",
       "    <tr>\n",
       "      <td>1</td>\n",
       "      <td>Life, art and culture</td>\n",
       "      <td>Culture and the arts</td>\n",
       "    </tr>\n",
       "    <tr>\n",
       "      <td>2</td>\n",
       "      <td>Chinese culture</td>\n",
       "      <td>none</td>\n",
       "    </tr>\n",
       "    <tr>\n",
       "      <td>3</td>\n",
       "      <td>All over the world</td>\n",
       "      <td>Geography and places</td>\n",
       "    </tr>\n",
       "    <tr>\n",
       "      <td>4</td>\n",
       "      <td>none</td>\n",
       "      <td>Health and fitness</td>\n",
       "    </tr>\n",
       "    <tr>\n",
       "      <td>5</td>\n",
       "      <td>none</td>\n",
       "      <td>History and events</td>\n",
       "    </tr>\n",
       "    <tr>\n",
       "      <td>6</td>\n",
       "      <td>society</td>\n",
       "      <td>Human activities</td>\n",
       "    </tr>\n",
       "    <tr>\n",
       "      <td>7</td>\n",
       "      <td>none</td>\n",
       "      <td>Mathematics and logic</td>\n",
       "    </tr>\n",
       "    <tr>\n",
       "      <td>8</td>\n",
       "      <td>Nature and Natural Sciences</td>\n",
       "      <td>Natural and physical sciences</td>\n",
       "    </tr>\n",
       "    <tr>\n",
       "      <td>9</td>\n",
       "      <td>none</td>\n",
       "      <td>People and self</td>\n",
       "    </tr>\n",
       "    <tr>\n",
       "      <td>10</td>\n",
       "      <td>none</td>\n",
       "      <td>Philosophy and thinking</td>\n",
       "    </tr>\n",
       "    <tr>\n",
       "      <td>11</td>\n",
       "      <td>Religion and belief</td>\n",
       "      <td>Religion and belief systems</td>\n",
       "    </tr>\n",
       "    <tr>\n",
       "      <td>12</td>\n",
       "      <td>Humanities and Social Sciences</td>\n",
       "      <td>Society and social sciences</td>\n",
       "    </tr>\n",
       "    <tr>\n",
       "      <td>13</td>\n",
       "      <td>Engineering,Technology and Applied Science</td>\n",
       "      <td>Technology and applied sciences</td>\n",
       "    </tr>\n",
       "  </tbody>\n",
       "</table>\n",
       "</div>"
      ],
      "text/plain": [
       "                                         Hànyǔ  \\\n",
       "0                                         none   \n",
       "1                        Life, art and culture   \n",
       "2                              Chinese culture   \n",
       "3                           All over the world   \n",
       "4                                         none   \n",
       "5                                         none   \n",
       "6                                      society   \n",
       "7                                         none   \n",
       "8                  Nature and Natural Sciences   \n",
       "9                                         none   \n",
       "10                                        none   \n",
       "11                         Religion and belief   \n",
       "12              Humanities and Social Sciences   \n",
       "13  Engineering,Technology and Applied Science   \n",
       "\n",
       "                            English  \n",
       "0                 General reference  \n",
       "1              Culture and the arts  \n",
       "2                              none  \n",
       "3              Geography and places  \n",
       "4                Health and fitness  \n",
       "5                History and events  \n",
       "6                  Human activities  \n",
       "7             Mathematics and logic  \n",
       "8     Natural and physical sciences  \n",
       "9                   People and self  \n",
       "10          Philosophy and thinking  \n",
       "11      Religion and belief systems  \n",
       "12      Society and social sciences  \n",
       "13  Technology and applied sciences  "
      ]
     },
     "execution_count": 42,
     "metadata": {},
     "output_type": "execute_result"
    }
   ],
   "source": [
    "both_level_1.head(20)"
   ]
  },
  {
   "cell_type": "markdown",
   "metadata": {},
   "source": [
    "Level 2 test English"
   ]
  },
  {
   "cell_type": "code",
   "execution_count": 25,
   "metadata": {},
   "outputs": [
    {
     "name": "stdout",
     "output_type": "stream",
     "text": [
      "['Wikipedia:互助客栈/消息/存档/2019年10月']\n"
     ]
    }
   ],
   "source": [
    "print(wiki.search('Wikipedia:Contents/Society_and_social_sciences'))\n",
    "#same test as intial notebook, don't see this list on page"
   ]
  },
  {
   "cell_type": "markdown",
   "metadata": {},
   "source": [
    "### May be useful later..."
   ]
  },
  {
   "cell_type": "code",
   "execution_count": 26,
   "metadata": {
    "scrolled": true
   },
   "outputs": [
    {
     "name": "stdout",
     "output_type": "stream",
     "text": [
      "['th', 'thai']\n"
     ]
    }
   ],
   "source": [
    "# https://pypi.org/project/google-trans-new/\n",
    "\n",
    "from google_trans_new import google_translator  \n",
    "\n",
    "detector = google_translator()  \n",
    "detect_result = detector.detect('สวัสดีจีน')\n",
    "# <Detect text=สวัสดีจีน >  \n",
    "print(detect_result)"
   ]
  },
  {
   "cell_type": "code",
   "execution_count": 27,
   "metadata": {},
   "outputs": [
    {
     "name": "stdout",
     "output_type": "stream",
     "text": [
      "['zh-CN', 'chinese (simplified)']\n"
     ]
    }
   ],
   "source": [
    "detect_result = detector.detect(wiki.summary('fire'))\n",
    "print(detect_result)"
   ]
  },
  {
   "cell_type": "code",
   "execution_count": 28,
   "metadata": {},
   "outputs": [
    {
     "name": "stdout",
     "output_type": "stream",
     "text": [
      "['zh-CN', 'chinese (simplified)']\n"
     ]
    }
   ],
   "source": [
    "detect_result = detector.detect(wiki.summary('火'))\n",
    "print(detect_result)"
   ]
  },
  {
   "cell_type": "markdown",
   "metadata": {},
   "source": [
    "### For later expansion into other versions"
   ]
  },
  {
   "cell_type": "code",
   "execution_count": 29,
   "metadata": {
    "collapsed": true
   },
   "outputs": [
    {
     "ename": "AttributeError",
     "evalue": "type object 'google_translator' has no attribute 'languages'",
     "output_type": "error",
     "traceback": [
      "\u001b[1;31m---------------------------------------------------------------------------\u001b[0m",
      "\u001b[1;31mAttributeError\u001b[0m                            Traceback (most recent call last)",
      "\u001b[1;32m<ipython-input-29-80456bb93043>\u001b[0m in \u001b[0;36m<module>\u001b[1;34m\u001b[0m\n\u001b[1;32m----> 1\u001b[1;33m \u001b[0mprint\u001b[0m\u001b[1;33m(\u001b[0m\u001b[0mgoogle_translator\u001b[0m\u001b[1;33m.\u001b[0m\u001b[0mlanguages\u001b[0m\u001b[1;33m)\u001b[0m\u001b[1;33m\u001b[0m\u001b[1;33m\u001b[0m\u001b[0m\n\u001b[0m\u001b[0;32m      2\u001b[0m \u001b[1;31m#should give a list of all lang's and codes\u001b[0m\u001b[1;33m\u001b[0m\u001b[1;33m\u001b[0m\u001b[1;33m\u001b[0m\u001b[0m\n",
      "\u001b[1;31mAttributeError\u001b[0m: type object 'google_translator' has no attribute 'languages'"
     ]
    }
   ],
   "source": [
    "print(google_translator.languages)\n",
    "#should give a list of all lang's and codes"
   ]
  },
  {
   "cell_type": "code",
   "execution_count": 30,
   "metadata": {},
   "outputs": [
    {
     "name": "stdout",
     "output_type": "stream",
     "text": [
      "['pl', 'polish']\n"
     ]
    }
   ],
   "source": [
    "detect_result = detector.detect(\"jejic ncuxyw iujdyh oowiwu\")\n",
    "print(detect_result)"
   ]
  },
  {
   "cell_type": "code",
   "execution_count": 31,
   "metadata": {},
   "outputs": [
    {
     "name": "stdout",
     "output_type": "stream",
     "text": [
      "['mt', 'maltese']\n"
     ]
    }
   ],
   "source": [
    "detect_result = detector.detect(\"lshdjfhgkkdhj\")\n",
    "print(detect_result)"
   ]
  },
  {
   "cell_type": "code",
   "execution_count": 32,
   "metadata": {},
   "outputs": [
    {
     "name": "stdout",
     "output_type": "stream",
     "text": [
      "['ja', 'japanese']\n"
     ]
    }
   ],
   "source": [
    "detect_result = detector.detect(\"yaueiaiyeyoiuyeyeiuueyuioeaiayaiuayoiuyaeiuya\")\n",
    "print(detect_result)"
   ]
  },
  {
   "cell_type": "code",
   "execution_count": null,
   "metadata": {},
   "outputs": [],
   "source": []
  }
 ],
 "metadata": {
  "kernelspec": {
   "display_name": "Python 3",
   "language": "python",
   "name": "python3"
  },
  "language_info": {
   "codemirror_mode": {
    "name": "ipython",
    "version": 3
   },
   "file_extension": ".py",
   "mimetype": "text/x-python",
   "name": "python",
   "nbconvert_exporter": "python",
   "pygments_lexer": "ipython3",
   "version": "3.7.4"
  }
 },
 "nbformat": 4,
 "nbformat_minor": 2
}
