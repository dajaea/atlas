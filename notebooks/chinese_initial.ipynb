{
 "cells": [
  {
   "cell_type": "code",
   "execution_count": 1,
   "metadata": {
    "scrolled": false
   },
   "outputs": [
    {
     "name": "stderr",
     "output_type": "stream",
     "text": [
      "C:\\Users\\Owner\\Anaconda3\\lib\\site-packages\\requests\\__init__.py:91: RequestsDependencyWarning: urllib3 (1.26.4) or chardet (3.0.4) doesn't match a supported version!\n",
      "  RequestsDependencyWarning)\n"
     ]
    }
   ],
   "source": [
    "import wikipedia as wiki"
   ]
  },
  {
   "cell_type": "markdown",
   "metadata": {},
   "source": [
    "may use function later - what determines these and where is this on the site?"
   ]
  },
  {
   "cell_type": "code",
   "execution_count": 2,
   "metadata": {
    "scrolled": false
   },
   "outputs": [
    {
     "name": "stdout",
     "output_type": "stream",
     "text": [
      "['Boat', 'Boat (disambiguation)', 'U-boat', 'Boating', 'Whose Boat Is This Boat?', 'Banana boat (boat)', 'The Love Boat', 'The Boat', 'Destroyer', 'Patrol boat']\n"
     ]
    }
   ],
   "source": [
    "print(wiki.search(\"boat\"))"
   ]
  },
  {
   "cell_type": "markdown",
   "metadata": {},
   "source": [
    "### try English first, then incorporate translation\n",
    "\n",
    "https://en.wikipedia.org/wiki/Wikipedia:Contents/Outlines#Society_and_social_sciences\n",
    "\n",
    "just selected and c/p here to make into list"
   ]
  },
  {
   "cell_type": "code",
   "execution_count": 3,
   "metadata": {},
   "outputs": [],
   "source": [
    "level_1 = [\n",
    "    'General reference',\n",
    "    'Culture and the arts',\n",
    "    'Geography and places',\n",
    "    'Health and fitness',\n",
    "    'History and events',\n",
    "    'Human activities',\n",
    "    'Mathematics and logic',\n",
    "    'Natural and physical sciences',\n",
    "    'People and self',\n",
    "    'Philosophy and thinking',\n",
    "    'Religion and belief systems',\n",
    "    'Society and social sciences',\n",
    "    'Technology and applied sciences'\n",
    "    ]"
   ]
  },
  {
   "cell_type": "code",
   "execution_count": 4,
   "metadata": {},
   "outputs": [
    {
     "name": "stdout",
     "output_type": "stream",
     "text": [
      "'General_reference','Culture_and_the_arts','Geography_and_places','Health_and_fitness','History_and_events','Human_activities','Mathematics_and_logic','Natural_and_physical_sciences','People_and_self','Philosophy_and_thinking','Religion_and_belief_systems','Society_and_social_sciences','Technology_and_applied_sciences'\n"
     ]
    }
   ],
   "source": [
    "level_1_text = \"'General reference','Culture and the arts','Geography and places','Health and fitness','History and events','Human activities','Mathematics and logic','Natural and physical sciences','People and self','Philosophy and thinking','Religion and belief systems','Society and social sciences','Technology and applied sciences'\"\n",
    "level_1_under = level_1_text.replace(\" \", \"_\")\n",
    "print(level_1_under)"
   ]
  },
  {
   "cell_type": "code",
   "execution_count": 5,
   "metadata": {},
   "outputs": [
    {
     "name": "stdout",
     "output_type": "stream",
     "text": [
      "['Wikipedia:Contents/Society and social sciences', 'Wikipedia:Contents/Categories/Society and social sciences', 'Wikipedia:Contents/Overview/Society and social sciences', 'Wikipedia:Contents/Indices/Society and social sciences', 'Wikipedia:Contents/Society and social sciences/Intro', 'Wikipedia:Contents/Outlines/Society and social sciences', 'Wikipedia:Contents/Society and social sciences/Categories', 'Wikipedia:Contents/Society and social sciences/Overviews', 'Wikipedia:Contents/Society and social sciences/Outlines', 'Wikipedia:Contents/Society and social sciences/Portals']\n"
     ]
    }
   ],
   "source": [
    "print(wiki.search('Wikipedia:Contents/Society_and_social_sciences'))\n",
    "#same test as intial notebook, don't see this list on page"
   ]
  },
  {
   "cell_type": "markdown",
   "metadata": {},
   "source": [
    "Less concerned with the structure and presence of topics on a certain level, but rather the overall collection of topics and articles anywhere within the language version."
   ]
  },
  {
   "cell_type": "code",
   "execution_count": null,
   "metadata": {},
   "outputs": [],
   "source": [
    "from BeautifulSoup import BeautifulSoup\n",
    "import urllib2\n",
    "import re"
   ]
  },
  {
   "cell_type": "markdown",
   "metadata": {},
   "source": [
    "https://pythonspot.com/extract-links-from-webpage-beautifulsoup/\n",
    "\n",
    "will write a function that runs the following cell to each of the level_1_under titles:"
   ]
  },
  {
   "cell_type": "code",
   "execution_count": null,
   "metadata": {
    "scrolled": true
   },
   "outputs": [],
   "source": [
    "society_html = urllib2.urlopen(\"https://en.wikipedia.org/wiki/Wikipedia:Contents/Outlines#Society_and_social_sciences\")\n",
    "society_and_social_sciences = BeautifulSoup(society_html)\n",
    "for link in society_and_social_sciences.findAll('a', attrs={'href': re.compile(\"^http://\")}):\n",
    "    print link.get('href')"
   ]
  },
  {
   "cell_type": "code",
   "execution_count": null,
   "metadata": {},
   "outputs": [],
   "source": []
  }
 ],
 "metadata": {
  "kernelspec": {
   "display_name": "Python 3",
   "language": "python",
   "name": "python3"
  },
  "language_info": {
   "codemirror_mode": {
    "name": "ipython",
    "version": 3
   },
   "file_extension": ".py",
   "mimetype": "text/x-python",
   "name": "python",
   "nbconvert_exporter": "python",
   "pygments_lexer": "ipython3",
   "version": "3.7.4"
  }
 },
 "nbformat": 4,
 "nbformat_minor": 2
}
