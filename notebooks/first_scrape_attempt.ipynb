{
 "cells": [
  {
   "cell_type": "code",
   "execution_count": 1,
   "metadata": {},
   "outputs": [],
   "source": [
    "import wikipedia as wiki"
   ]
  },
  {
   "cell_type": "code",
   "execution_count": 2,
   "metadata": {},
   "outputs": [
    {
     "name": "stdout",
     "output_type": "stream",
     "text": [
      "['Language', 'Language (magazine)', 'Languages of India', 'Language family', 'Italian language', 'Assembly language', 'Programming language', 'Hebrew language', 'Spanish language', 'French language']\n"
     ]
    }
   ],
   "source": [
    "print(wiki.search(\"language\"))"
   ]
  },
  {
   "cell_type": "code",
   "execution_count": 3,
   "metadata": {
    "scrolled": true
   },
   "outputs": [
    {
     "name": "stdout",
     "output_type": "stream",
     "text": [
      "A language is a structured system of communication used by humans, including speech (spoken language), gestures (sign language) and writing. Most languages have a writing system composed of glyphs to inscribe the original sound or gesture and its meaning.The scientific study of language is called linguistics. Critical examinations of languages, such as philosophy of language, the relationships between language and thought, etc, such as how words represent experience, have been debated at least since Gorgias and Plato in ancient Greek civilization. Thinkers such as Rousseau (1712 – 1778) have debated that language originated from emotions, while others like Kant (1724 –1804), have held that languages originated from rational and logical thought. Twentieth century philosophers such as Wittgenstein (1889 – 1951) argued that philosophy is really the study of language itself. Major figures in contemporary linguistics of these times include Ferdinand de Saussure and Noam Chomsky.\n",
      "Estimates of the number of human languages in the world vary between 5,000 and 7,000. However, any precise estimate depends on the arbitrary distinction (dichotomy) between languages and dialect. Natural languages are spoken or signed, but any language can be encoded into secondary media using auditory, visual, or tactile stimuli – for example, in writing, whistling, signing, or braille. In other words, human language is modality-independent, but written or signed language is the way to inscribe or encode the natural human speech or gestures. Depending on philosophical perspectives regarding the definition of language and meaning, when used as a general concept, \"language\" may refer to the cognitive ability to learn and use systems of complex communication, or to describe the set of rules that makes up these systems, or the set of utterances that can be produced from those rules. All languages rely on the process of semiosis to relate signs to particular meanings. Oral, manual and tactile languages contain a phonological system that governs how symbols are used to form sequences known as words or morphemes, and a syntactic system that governs how words and morphemes are combined to form phrases and utterances.\n",
      "Human language has the properties of productivity and displacement, and relies on social convention and learning. Its complex structure affords a much wider range of expressions than any known system of animal communication. Language is thought to have originated when early hominins started gradually changing their primate communication systems, acquiring the ability to form a theory of other minds and a shared intentionality. This development is sometimes thought to have coincided with an increase in brain volume, and many linguists see the structures of language as having evolved to serve specific communicative and social functions. Language is processed in many different locations in the human brain, but especially in Broca's and Wernicke's areas. Humans acquire language through social interaction in early childhood, and children generally speak fluently by approximately three years old. The use of language is deeply entrenched in human culture. Therefore, in addition to its strictly communicative uses, language also has many social and cultural uses, such as signifying group identity, social stratification, as well as social grooming and entertainment.\n",
      "Languages evolve and diversify over time, and the history of their evolution can be reconstructed by comparing modern languages to determine which traits their ancestral languages must have had in order for the later developmental stages to occur. A group of languages that descend from a common ancestor is known as a language family; in contrast, a language that has been demonstrated to not have any living or non-living relationship with another language is called a language isolate. There are also many unclassified languages whose relationships have not been established, and spurious languages may have not existed at all. Academic consensus holds that between 50% and 90% of languages spoken at the beginning of the 21st century will probably have become extinct by the year 2100.\n",
      "\n",
      "\n"
     ]
    }
   ],
   "source": [
    "print(wiki.summary(\"language\"))"
   ]
  },
  {
   "cell_type": "code",
   "execution_count": 4,
   "metadata": {
    "scrolled": true
   },
   "outputs": [
    {
     "name": "stdout",
     "output_type": "stream",
     "text": [
      "['Wikipedia:Contents/History and events', 'Wikipedia:Contents/Outlines/History and events', 'Wikipedia:Contents/Categories/History and events', 'Wikipedia:Contents/Lists/History and events', 'Wikipedia:Contents/History and events/Outlines', 'Wikipedia:Contents/Indices/History and events', 'Wikipedia:Contents', 'Wikipedia:Contents/Overview/History and events', 'Wikipedia:Contents/Glossaries/History and events', 'Wikipedia:Contents/History and events/Intro']\n"
     ]
    }
   ],
   "source": [
    "print(wiki.search('Wikipedia:Contents/History_and_events'))"
   ]
  },
  {
   "cell_type": "code",
   "execution_count": 5,
   "metadata": {},
   "outputs": [
    {
     "name": "stdout",
     "output_type": "stream",
     "text": [
      "\n"
     ]
    }
   ],
   "source": [
    "print(wiki.summary('Wikipedia:Contents/History_and_events'))"
   ]
  },
  {
   "cell_type": "markdown",
   "metadata": {},
   "source": [
    "#### Trying to print from a Contents page:"
   ]
  },
  {
   "cell_type": "code",
   "execution_count": 6,
   "metadata": {
    "scrolled": true
   },
   "outputs": [],
   "source": [
    "#print(wiki.search('Wikipedia:Contents/History_and_events', sentences = 3))"
   ]
  },
  {
   "cell_type": "code",
   "execution_count": 7,
   "metadata": {
    "scrolled": true
   },
   "outputs": [
    {
     "name": "stdout",
     "output_type": "stream",
     "text": [
      "\n"
     ]
    }
   ],
   "source": [
    "print(wiki.page('Wikipedia:Contents/History_and_events').content)"
   ]
  },
  {
   "cell_type": "code",
   "execution_count": 8,
   "metadata": {},
   "outputs": [
    {
     "name": "stdout",
     "output_type": "stream",
     "text": [
      "\n"
     ]
    }
   ],
   "source": [
    "print(wiki.page('Wikipedia:Contents').content)"
   ]
  },
  {
   "cell_type": "code",
   "execution_count": 9,
   "metadata": {},
   "outputs": [
    {
     "name": "stdout",
     "output_type": "stream",
     "text": [
      "Certaldo is a town and comune of Tuscany, Italy, in the Metropolitan City of Florence, in the middle of Valdelsa. It is about 35 kilometres (22 mi) southwest of the Florence Duomo.It is 50 minutes by rail and 35 minutes by car southwest of Florence, and it is 40 minutes by rail north of Siena.\n",
      "It was home to the family of Giovanni Boccaccio, author of the Decameron. He died at his home inside the town and was buried here in 1375. The actor Ernesto Calindri was also born in Certaldo.\n"
     ]
    }
   ],
   "source": [
    "print(wiki.summary('Certaldo'))"
   ]
  },
  {
   "cell_type": "code",
   "execution_count": 10,
   "metadata": {},
   "outputs": [],
   "source": [
    "def do_activate(self, args, argv):\n",
    "        wikipedia.set_lang(\"it\")\n",
    "        print(wikipedia.summary('Certaldo'.join(args), sentences=2))"
   ]
  },
  {
   "cell_type": "code",
   "execution_count": 11,
   "metadata": {},
   "outputs": [],
   "source": [
    "#print(wiki.set_lang('it').summary('Certaldo'))"
   ]
  },
  {
   "cell_type": "markdown",
   "metadata": {},
   "source": [
    "#### Sets language to 'it' ('italiano')"
   ]
  },
  {
   "cell_type": "code",
   "execution_count": 12,
   "metadata": {},
   "outputs": [],
   "source": [
    "wiki.set_lang(\"it\")"
   ]
  },
  {
   "cell_type": "code",
   "execution_count": 13,
   "metadata": {},
   "outputs": [
    {
     "name": "stdout",
     "output_type": "stream",
     "text": [
      "Certaldo (pronuncia: /ʧerˈtaldo/, Čettàrdo nel vernacolo locale) è un comune italiano di 15 868 abitanti della città metropolitana di Firenze, celebre per essere stato il luogo di nascita e di morte del poeta e scrittore Giovanni Boccaccio. Situato al centro della Val d'Elsa, ospita numerosi edifici di interesse storico, culturale e artistico.\n"
     ]
    }
   ],
   "source": [
    "print(wiki.summary('Certaldo'))"
   ]
  },
  {
   "cell_type": "code",
   "execution_count": null,
   "metadata": {},
   "outputs": [],
   "source": []
  }
 ],
 "metadata": {
  "kernelspec": {
   "display_name": "Python 3",
   "language": "python",
   "name": "python3"
  },
  "language_info": {
   "codemirror_mode": {
    "name": "ipython",
    "version": 3
   },
   "file_extension": ".py",
   "mimetype": "text/x-python",
   "name": "python",
   "nbconvert_exporter": "python",
   "pygments_lexer": "ipython3",
   "version": "3.7.4"
  }
 },
 "nbformat": 4,
 "nbformat_minor": 2
}
